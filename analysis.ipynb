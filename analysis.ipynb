{
 "cells": [
  {
   "cell_type": "markdown",
   "metadata": {},
   "source": [
    "![img](images/plan.jpg)"
   ]
  },
  {
   "cell_type": "code",
   "execution_count": 34,
   "metadata": {},
   "outputs": [],
   "source": [
    "import re\n",
    "import operator\n",
    "import itertools\n",
    "from functools import reduce, partial\n",
    "\n",
    "import numpy as np\n",
    "from scipy import stats\n",
    "import scipy\n",
    "import pandas as pd\n",
    "import plotly\n",
    "import plotly.graph_objs as go\n",
    "from plotly.subplots import make_subplots\n",
    "import plotly.express as px\n",
    "import plotly.io as pio\n",
    "\n",
    "# Config\n",
    "pio.templates.default = \"plotly_dark\"\n",
    "\n",
    "pd.set_option(\"display.max_rows\", 500)\n",
    "pd.set_option(\"display.max_columns\", 50)\n",
    "pd.set_option(\"plotting.backend\", \"plotly\")\n",
    "\n",
    "# TODO: Backtesting"
   ]
  },
  {
   "cell_type": "markdown",
   "metadata": {},
   "source": [
    "# Data"
   ]
  },
  {
   "cell_type": "code",
   "execution_count": 35,
   "metadata": {},
   "outputs": [],
   "source": [
    "data = pd.read_csv(\"data.csv\")\n",
    "data_filtered = data.drop(columns=data.columns[3:5])\n",
    "\n",
    "courses = [\"ENGLISH100\", \"ARB100\", \"MATH101\", \"CHEM101\", \"STAT101\", \"TECH101\", \"ENTREPRENEUR101\", \"FAJAB101\", \"NAHAJ101\", \"ENGLISH110\",\n",
    "            \"SALAM107\", \"PHYS104\", \"MATH106\", \"CSC111\", \"MATH151\", \"SALAM108\", \"CSC113\", \"CSC220\", \"MATH244\",\n",
    "            \"CSC212\", \"CSC215\", \"MATH281\", \"CSC304\", \"CSC380\", \"CSC227\", \"CSC311\", \"CSC339\", \"CSC343\", \"CSC361\",\n",
    "            \"CSC329\", \"CSC340\", \"CSC453\", \"CSC496\", \"PHYS210\", \"PHYS103\", \"CHEM103\", \"CSC443\", \"CSC462\", \"CSC476\", \"CSC478\", \"CSC484\", \"CSC489\"]\n",
    "criteria = [\"Application\", \"Relevance\", \"Insight\", \"Understanding\", \"Ease\"]\n",
    "ratings = list(range(1, 6))\n",
    "\n",
    "filtered_comments = [\"I do not take this course. \"]"
   ]
  },
  {
   "cell_type": "code",
   "execution_count": 36,
   "metadata": {},
   "outputs": [],
   "source": [
    "@np.vectorize\n",
    "def course_to_category(course):\n",
    "    prefix_to_category = {\"ENGLISH\":\"Humanities\", \"NAHAJ\": \"Humanities\", \"ARB\": \"Humanities\", \"ENTREPRENEUR\": \"Humanities\", \"FAJAB\": \"Humanities\", \"TECH\": \"Humanities\",\n",
    "                    \"PHYS\": \"Physics\", \"CHEM\": \"Chemistry\", \"SALAM\": \"Islamics\", \"MATH\": \"Mathematics\", \"STAT\": \"Mathematics\", \"CSC\": \"Computer science\"}\n",
    "    return prefix_to_category[re.findall(\"[a-zA-Z]+\", course)[0]]\n",
    "\n",
    "categories = pd.Series(course_to_category(courses))\n",
    "assert sum(categories.isna()) == 0, \"prefix_to_category must cover each course prefix\""
   ]
  },
  {
   "cell_type": "markdown",
   "metadata": {},
   "source": [
    "# Utility"
   ]
  },
  {
   "cell_type": "code",
   "execution_count": 37,
   "metadata": {},
   "outputs": [],
   "source": [
    "def df_by_regex(regex):\n",
    "    \"\"\"THIS USES GLOBALY DEFINED DF ALARM ALARM\"\"\"\n",
    "    return data_filtered.filter(regex=regex, axis=1)\n",
    "\n",
    "def get_subject_df(subject):\n",
    "    \"\"\"THIS USES GLOBALY DEFINED DF ALARM ALARM\"\"\"\n",
    "    return df_by_regex(f\"{subject}.*\\[.*\\].*\")\n",
    "\n",
    "def remove_double_naming_in_legend(fig):\n",
    "    for trace in fig.select_traces():\n",
    "        trace.name = trace.name.split(\",\")[0]\n",
    "\n",
    "def get_course_to_num_ranking_series(df):\n",
    "    # a bit of a primitive way to count every filled in ranking (some rankings are NaN). Maybe it could be improved?\n",
    "    i = 0\n",
    "    course_to_num_ranking = {}\n",
    "    while i < len(df):\n",
    "        course_to_num_ranking.update({df.iloc[i].name[0]:len(df.iloc[i].dropna())})\n",
    "        i += 5\n",
    "    return pd.Series(course_to_num_ranking)\n",
    "\n",
    "def get_scores_df(df, criteria, categories):\n",
    "    return pd.DataFrame(((bayesian_mean(df.loc[[(subject, criterion) for subject in courses]].T, categories)) for criterion in criteria), index=criteria)\n",
    "\n",
    "def bayesian_mean(course_to_criterion, categories):\n",
    "    course_to_criterion_mean = course_to_criterion.mean().droplevel(1)\n",
    "\n",
    "    temp = course_to_criterion_mean.reset_index()\n",
    "    temp[\"index\"] = categories\n",
    "    category_to_criterion_mean = temp.groupby(\"index\").mean()[0]\n",
    "\n",
    "    return course_to_criterion.apply(lambda x: scores_to_bayesian_mean(x, category_to_criterion_mean)).droplevel(1)\n",
    "\n",
    "def scores_to_bayesian_mean(scores, category_to_criterion_mean, category_weight_portion=1):\n",
    "    \"\"\"\n",
    "    scores: Series of scores with Name formatted like this (Course, _)\n",
    "    category_to_criterion_mean: category_to_criterion_mean\n",
    "    category_weight_portion: the portion of scores category average is weighted at. e.g. 1 means its just as weighty as scores, 2 means half as weighty\n",
    "    returns bayesian estimation of mean of scores, given its category\n",
    "    \"\"\"\n",
    "    scores = scores.dropna()\n",
    "    category_mean_series = pd.Series({\"\": category_to_criterion_mean[course_to_category(scores.name[0]).item(0)]})\n",
    "    weights = [max(len(scores) // category_weight_portion, 1)] + [1] * len(scores)\n",
    "    normalized_weights = weights/np.linalg.norm(weights)\n",
    "    return np.average(scores.append(category_mean_series), weights=normalized_weights)\n"
   ]
  },
  {
   "cell_type": "markdown",
   "metadata": {},
   "source": [
    "# Wrangling"
   ]
  },
  {
   "cell_type": "code",
   "execution_count": 38,
   "metadata": {},
   "outputs": [],
   "source": [
    "index = list((course, criterion) for criterion in criteria for course in courses)\n",
    "sorted_index = sorted(index, key=lambda x: courses.index(x[0]))\n",
    "df = get_subject_df(\"\").T.set_index(pd.Index(sorted_index))\n",
    "\n",
    "course_to_comments = {}\n",
    "other_details_df = df_by_regex(\"Other details you want to add.*\")\n",
    "for course, other_details_col in zip(courses, other_details_df):\n",
    "    filt = (other_details_df[other_details_col].isna()) | reduce(operator.or_, (comment == other_details_df[other_details_col] for comment in filtered_comments))\n",
    "    comments = other_details_df[other_details_col][~filt]\n",
    "    if comments.all():\n",
    "        course_to_comments[course] = comments"
   ]
  },
  {
   "cell_type": "markdown",
   "metadata": {},
   "source": [
    "## Ranking"
   ]
  },
  {
   "cell_type": "markdown",
   "metadata": {},
   "source": [
    "### Course ranking by criteria"
   ]
  },
  {
   "cell_type": "code",
   "execution_count": 39,
   "metadata": {},
   "outputs": [
    {
     "data": {
      "application/vnd.plotly.v1+json": {
       "config": {
        "plotlyServerURL": "https://plot.ly"
       },
       "data": [
        {
         "hovertemplate": "color=Humanities<br>symbol=Humanities<br>index=%{x}<br>value=%{y}<extra></extra>",
         "legendgroup": "Humanities, Humanities",
         "marker": {
          "color": "#636efa",
          "symbol": "circle"
         },
         "mode": "markers",
         "name": "Humanities",
         "orientation": "v",
         "showlegend": true,
         "type": "scatter",
         "x": [
          "ENGLISH100",
          "ARB100",
          "TECH101",
          "ENTREPRENEUR101",
          "FAJAB101",
          "NAHAJ101",
          "ENGLISH110"
         ],
         "xaxis": "x",
         "y": [
          4.477740881567412,
          2.2277408815674122,
          3.6683363339956743,
          2.2240310284953138,
          1.9262156674494337,
          2.517124758358525,
          4.468837234194377
         ],
         "yaxis": "y"
        },
        {
         "hovertemplate": "color=Mathematics<br>symbol=Mathematics<br>index=%{x}<br>value=%{y}<extra></extra>",
         "legendgroup": "Mathematics, Mathematics",
         "marker": {
          "color": "#EF553B",
          "symbol": "diamond"
         },
         "mode": "markers",
         "name": "Mathematics",
         "orientation": "v",
         "showlegend": true,
         "type": "scatter",
         "x": [
          "MATH101",
          "STAT101",
          "MATH106",
          "MATH151",
          "MATH244",
          "MATH281"
         ],
         "xaxis": "x",
         "y": [
          4.316620879120879,
          4.571745562130177,
          3.2640532544378704,
          4.138049450549451,
          4.202724358974358,
          3.08479020979021
         ],
         "yaxis": "y"
        },
        {
         "hovertemplate": "color=Chemistry<br>symbol=Chemistry<br>index=%{x}<br>value=%{y}<extra></extra>",
         "legendgroup": "Chemistry, Chemistry",
         "marker": {
          "color": "#00cc96",
          "symbol": "square"
         },
         "mode": "markers",
         "name": "Chemistry",
         "orientation": "v",
         "showlegend": true,
         "type": "scatter",
         "x": [
          "CHEM101",
          "CHEM103"
         ],
         "xaxis": "x",
         "y": [
          1.5991124260355027,
          1.2884615384615385
         ],
         "yaxis": "y"
        },
        {
         "hovertemplate": "color=Islamics<br>symbol=Islamics<br>index=%{x}<br>value=%{y}<extra></extra>",
         "legendgroup": "Islamics, Islamics",
         "marker": {
          "color": "#ab63fa",
          "symbol": "x"
         },
         "mode": "markers",
         "name": "Islamics",
         "orientation": "v",
         "showlegend": true,
         "type": "scatter",
         "x": [
          "SALAM107",
          "SALAM108"
         ],
         "xaxis": "x",
         "y": [
          2.21926652892562,
          1.8014914772727273
         ],
         "yaxis": "y"
        },
        {
         "hovertemplate": "color=Physics<br>symbol=Physics<br>index=%{x}<br>value=%{y}<extra></extra>",
         "legendgroup": "Physics, Physics",
         "marker": {
          "color": "#FFA15A",
          "symbol": "cross"
         },
         "mode": "markers",
         "name": "Physics",
         "orientation": "v",
         "showlegend": true,
         "type": "scatter",
         "x": [
          "PHYS104",
          "PHYS210",
          "PHYS103"
         ],
         "xaxis": "x",
         "y": [
          2.707341269841269,
          1.488095238095238,
          2.6411564625850343
         ],
         "yaxis": "y"
        },
        {
         "hovertemplate": "color=Computer science<br>symbol=Computer science<br>index=%{x}<br>value=%{y}<extra></extra>",
         "legendgroup": "Computer science, Computer science",
         "marker": {
          "color": "#19d3f3",
          "symbol": "circle"
         },
         "mode": "markers",
         "name": "Computer science",
         "orientation": "v",
         "showlegend": true,
         "type": "scatter",
         "x": [
          "CSC111",
          "CSC113",
          "CSC220",
          "CSC212",
          "CSC215",
          "CSC304",
          "CSC380",
          "CSC227",
          "CSC311",
          "CSC339",
          "CSC343",
          "CSC361",
          "CSC329",
          "CSC340",
          "CSC453",
          "CSC496",
          "CSC443",
          "CSC462",
          "CSC476",
          "CSC478",
          "CSC484",
          "CSC489"
         ],
         "xaxis": "x",
         "y": [
          4.766735978667796,
          3.2487925924114736,
          4.294027609213559,
          4.294027609213559,
          4.303811522372128,
          1.9734303701349158,
          4.323430370134916,
          3.6542879626686444,
          4.279287962668644,
          1.8417879626686446,
          3.0917879626686444,
          3.4620433859070223,
          4.466787962668644,
          2.2792879626686444,
          3.154287962668644,
          4.446860740269831,
          2.578101233783052,
          4.705717283558193,
          3.234303701349156,
          2.7343037013491562,
          2.7343037013491562,
          2.617151850674578
         ],
         "yaxis": "y"
        },
        {
         "hovertemplate": "color=Humanities<br>symbol=Humanities<br>index=%{x}<br>value=%{y}<extra></extra>",
         "legendgroup": "Humanities, Humanities",
         "marker": {
          "color": "#636efa",
          "symbol": "circle"
         },
         "mode": "markers",
         "name": "Humanities",
         "orientation": "v",
         "showlegend": false,
         "type": "scatter",
         "x": [
          "ENGLISH100",
          "ARB100",
          "TECH101",
          "ENTREPRENEUR101",
          "FAJAB101",
          "NAHAJ101",
          "ENGLISH110"
         ],
         "xaxis": "x2",
         "y": [
          4.573838491440532,
          2.9309813485833893,
          2.464133760012881,
          1.8778115733472875,
          2.321248989106132,
          1.821248989106132,
          3.4533738880167455
         ],
         "yaxis": "y2"
        },
        {
         "hovertemplate": "color=Mathematics<br>symbol=Mathematics<br>index=%{x}<br>value=%{y}<extra></extra>",
         "legendgroup": "Mathematics, Mathematics",
         "marker": {
          "color": "#EF553B",
          "symbol": "diamond"
         },
         "mode": "markers",
         "name": "Mathematics",
         "orientation": "v",
         "showlegend": false,
         "type": "scatter",
         "x": [
          "MATH101",
          "STAT101",
          "MATH106",
          "MATH151",
          "MATH244",
          "MATH281"
         ],
         "xaxis": "x2",
         "y": [
          4.462706440385012,
          4.459837705030012,
          4.382914628106936,
          4.569849297527869,
          4.2481575137825125,
          4.4979900150354695
         ],
         "yaxis": "y2"
        },
        {
         "hovertemplate": "color=Chemistry<br>symbol=Chemistry<br>index=%{x}<br>value=%{y}<extra></extra>",
         "legendgroup": "Chemistry, Chemistry",
         "marker": {
          "color": "#00cc96",
          "symbol": "square"
         },
         "mode": "markers",
         "name": "Chemistry",
         "orientation": "v",
         "showlegend": false,
         "type": "scatter",
         "x": [
          "CHEM101",
          "CHEM103"
         ],
         "xaxis": "x2",
         "y": [
          3.143491124260355,
          1.3653846153846154
         ],
         "yaxis": "y2"
        },
        {
         "hovertemplate": "color=Islamics<br>symbol=Islamics<br>index=%{x}<br>value=%{y}<extra></extra>",
         "legendgroup": "Islamics, Islamics",
         "marker": {
          "color": "#ab63fa",
          "symbol": "x"
         },
         "mode": "markers",
         "name": "Islamics",
         "orientation": "v",
         "showlegend": false,
         "type": "scatter",
         "x": [
          "SALAM107",
          "SALAM108"
         ],
         "xaxis": "x2",
         "y": [
          4.241735537190083,
          3.8948863636363633
         ],
         "yaxis": "y2"
        },
        {
         "hovertemplate": "color=Physics<br>symbol=Physics<br>index=%{x}<br>value=%{y}<extra></extra>",
         "legendgroup": "Physics, Physics",
         "marker": {
          "color": "#FFA15A",
          "symbol": "cross"
         },
         "mode": "markers",
         "name": "Physics",
         "orientation": "v",
         "showlegend": false,
         "type": "scatter",
         "x": [
          "PHYS104",
          "PHYS210",
          "PHYS103"
         ],
         "xaxis": "x2",
         "y": [
          3.711640211640211,
          1.5396825396825398,
          3.5770975056689345
         ],
         "yaxis": "y2"
        },
        {
         "hovertemplate": "color=Computer science<br>symbol=Computer science<br>index=%{x}<br>value=%{y}<extra></extra>",
         "legendgroup": "Computer science, Computer science",
         "marker": {
          "color": "#19d3f3",
          "symbol": "circle"
         },
         "mode": "markers",
         "name": "Computer science",
         "orientation": "v",
         "showlegend": false,
         "type": "scatter",
         "x": [
          "CSC111",
          "CSC113",
          "CSC220",
          "CSC212",
          "CSC215",
          "CSC304",
          "CSC380",
          "CSC227",
          "CSC311",
          "CSC339",
          "CSC343",
          "CSC361",
          "CSC329",
          "CSC340",
          "CSC453",
          "CSC496",
          "CSC443",
          "CSC462",
          "CSC476",
          "CSC478",
          "CSC484",
          "CSC489"
         ],
         "xaxis": "x2",
         "y": [
          3.550281063633336,
          3.0926103762205157,
          4.154903171896973,
          3.766994574238891,
          3.4671038767629674,
          3.4703934890866712,
          2.220393489086671,
          3.025491861358338,
          4.775491861358338,
          4.087991861358338,
          2.587991861358338,
          3.6719906986952444,
          4.650491861358339,
          3.025491861358338,
          2.2129918613583386,
          4.440786978173342,
          2.901311630288903,
          4.617322481811118,
          2.703934890866709,
          3.2039348908667087,
          2.703934890866709,
          3.6019674454333543
         ],
         "yaxis": "y2"
        },
        {
         "hovertemplate": "color=Humanities<br>symbol=Humanities<br>index=%{x}<br>value=%{y}<extra></extra>",
         "legendgroup": "Humanities, Humanities",
         "marker": {
          "color": "#636efa",
          "symbol": "circle"
         },
         "mode": "markers",
         "name": "Humanities",
         "orientation": "v",
         "showlegend": false,
         "type": "scatter",
         "x": [
          "ENGLISH100",
          "ARB100",
          "TECH101",
          "ENTREPRENEUR101",
          "FAJAB101",
          "NAHAJ101",
          "ENGLISH110"
         ],
         "xaxis": "x3",
         "y": [
          2.4904144325062694,
          2.0618430039348405,
          1.8742924657759825,
          1.947150171257314,
          1.7605274595534337,
          1.760527459553434,
          2.1365802055087766
         ],
         "yaxis": "y3"
        },
        {
         "hovertemplate": "color=Mathematics<br>symbol=Mathematics<br>index=%{x}<br>value=%{y}<extra></extra>",
         "legendgroup": "Mathematics, Mathematics",
         "marker": {
          "color": "#EF553B",
          "symbol": "diamond"
         },
         "mode": "markers",
         "name": "Mathematics",
         "orientation": "v",
         "showlegend": false,
         "type": "scatter",
         "x": [
          "MATH101",
          "STAT101",
          "MATH106",
          "MATH151",
          "MATH244",
          "MATH281"
         ],
         "xaxis": "x3",
         "y": [
          4.274054814233385,
          3.7951359537898,
          3.256674415328261,
          4.024054814233386,
          3.6113972832722823,
          3.530615218115218
         ],
         "yaxis": "y3"
        },
        {
         "hovertemplate": "color=Chemistry<br>symbol=Chemistry<br>index=%{x}<br>value=%{y}<extra></extra>",
         "legendgroup": "Chemistry, Chemistry",
         "marker": {
          "color": "#00cc96",
          "symbol": "square"
         },
         "mode": "markers",
         "name": "Chemistry",
         "orientation": "v",
         "showlegend": false,
         "type": "scatter",
         "x": [
          "CHEM101",
          "CHEM103"
         ],
         "xaxis": "x3",
         "y": [
          1.4393491124260354,
          1.2115384615384615
         ],
         "yaxis": "y3"
        },
        {
         "hovertemplate": "color=Islamics<br>symbol=Islamics<br>index=%{x}<br>value=%{y}<extra></extra>",
         "legendgroup": "Islamics, Islamics",
         "marker": {
          "color": "#ab63fa",
          "symbol": "x"
         },
         "mode": "markers",
         "name": "Islamics",
         "orientation": "v",
         "showlegend": false,
         "type": "scatter",
         "x": [
          "SALAM107",
          "SALAM108"
         ],
         "xaxis": "x3",
         "y": [
          2.255423553719008,
          1.5387073863636362
         ],
         "yaxis": "y3"
        },
        {
         "hovertemplate": "color=Physics<br>symbol=Physics<br>index=%{x}<br>value=%{y}<extra></extra>",
         "legendgroup": "Physics, Physics",
         "marker": {
          "color": "#FFA15A",
          "symbol": "cross"
         },
         "mode": "markers",
         "name": "Physics",
         "orientation": "v",
         "showlegend": false,
         "type": "scatter",
         "x": [
          "PHYS104",
          "PHYS210",
          "PHYS103"
         ],
         "xaxis": "x3",
         "y": [
          2.7113095238095224,
          1.5357142857142856,
          2.362244897959184
         ],
         "yaxis": "y3"
        },
        {
         "hovertemplate": "color=Computer science<br>symbol=Computer science<br>index=%{x}<br>value=%{y}<extra></extra>",
         "legendgroup": "Computer science, Computer science",
         "marker": {
          "color": "#19d3f3",
          "symbol": "circle"
         },
         "mode": "markers",
         "name": "Computer science",
         "orientation": "v",
         "showlegend": false,
         "type": "scatter",
         "x": [
          "CSC111",
          "CSC113",
          "CSC220",
          "CSC212",
          "CSC215",
          "CSC304",
          "CSC380",
          "CSC227",
          "CSC311",
          "CSC339",
          "CSC343",
          "CSC361",
          "CSC329",
          "CSC340",
          "CSC453",
          "CSC496",
          "CSC443",
          "CSC462",
          "CSC476",
          "CSC478",
          "CSC484",
          "CSC489"
         ],
         "xaxis": "x3",
         "y": [
          3.617406515742555,
          2.6264377861842894,
          4.240335565490525,
          4.636974268366313,
          3.738187913377307,
          2.1643691220395764,
          3.614369122039577,
          3.455461402549471,
          4.267961402549471,
          3.830461402549471,
          2.392961402549471,
          3.3776701743422524,
          4.58046140254947,
          3.1429614025494708,
          3.3304614025494708,
          3.728738244079153,
          2.214563740131922,
          4.107281870065961,
          2.643691220395766,
          2.643691220395766,
          2.143691220395766,
          2.571845610197883
         ],
         "yaxis": "y3"
        },
        {
         "hovertemplate": "color=Humanities<br>symbol=Humanities<br>index=%{x}<br>value=%{y}<extra></extra>",
         "legendgroup": "Humanities, Humanities",
         "marker": {
          "color": "#636efa",
          "symbol": "circle"
         },
         "mode": "markers",
         "name": "Humanities",
         "orientation": "v",
         "showlegend": false,
         "type": "scatter",
         "x": [
          "ENGLISH100",
          "ARB100",
          "TECH101",
          "ENTREPRENEUR101",
          "FAJAB101",
          "NAHAJ101",
          "ENGLISH110"
         ],
         "xaxis": "x4",
         "y": [
          2.2996314909580216,
          2.2996314909580216,
          2.3226800671855616,
          2.1086218975829367,
          2.6540764430374817,
          4.290440079401118,
          2.36948408734123
         ],
         "yaxis": "y4"
        },
        {
         "hovertemplate": "color=Mathematics<br>symbol=Mathematics<br>index=%{x}<br>value=%{y}<extra></extra>",
         "legendgroup": "Mathematics, Mathematics",
         "marker": {
          "color": "#EF553B",
          "symbol": "diamond"
         },
         "mode": "markers",
         "name": "Mathematics",
         "orientation": "v",
         "showlegend": false,
         "type": "scatter",
         "x": [
          "MATH101",
          "STAT101",
          "MATH106",
          "MATH151",
          "MATH244",
          "MATH281"
         ],
         "xaxis": "x4",
         "y": [
          4.306728489764204,
          3.7533999120537582,
          3.291861450515297,
          3.9495856326213468,
          3.066183238058237,
          4.29947262333626
         ],
         "yaxis": "y4"
        },
        {
         "hovertemplate": "color=Chemistry<br>symbol=Chemistry<br>index=%{x}<br>value=%{y}<extra></extra>",
         "legendgroup": "Chemistry, Chemistry",
         "marker": {
          "color": "#00cc96",
          "symbol": "square"
         },
         "mode": "markers",
         "name": "Chemistry",
         "orientation": "v",
         "showlegend": false,
         "type": "scatter",
         "x": [
          "CHEM101",
          "CHEM103"
         ],
         "xaxis": "x4",
         "y": [
          2.260355029585799,
          1.3846153846153846
         ],
         "yaxis": "y4"
        },
        {
         "hovertemplate": "color=Islamics<br>symbol=Islamics<br>index=%{x}<br>value=%{y}<extra></extra>",
         "legendgroup": "Islamics, Islamics",
         "marker": {
          "color": "#ab63fa",
          "symbol": "x"
         },
         "mode": "markers",
         "name": "Islamics",
         "orientation": "v",
         "showlegend": false,
         "type": "scatter",
         "x": [
          "SALAM107",
          "SALAM108"
         ],
         "xaxis": "x4",
         "y": [
          2.5519111570247937,
          1.821377840909091
         ],
         "yaxis": "y4"
        },
        {
         "hovertemplate": "color=Physics<br>symbol=Physics<br>index=%{x}<br>value=%{y}<extra></extra>",
         "legendgroup": "Physics, Physics",
         "marker": {
          "color": "#FFA15A",
          "symbol": "cross"
         },
         "mode": "markers",
         "name": "Physics",
         "orientation": "v",
         "showlegend": false,
         "type": "scatter",
         "x": [
          "PHYS104",
          "PHYS210",
          "PHYS103"
         ],
         "xaxis": "x4",
         "y": [
          2.173280423280423,
          1.579365079365079,
          3.439909297052154
         ],
         "yaxis": "y4"
        },
        {
         "hovertemplate": "color=Computer science<br>symbol=Computer science<br>index=%{x}<br>value=%{y}<extra></extra>",
         "legendgroup": "Computer science, Computer science",
         "marker": {
          "color": "#19d3f3",
          "symbol": "circle"
         },
         "mode": "markers",
         "name": "Computer science",
         "orientation": "v",
         "showlegend": false,
         "type": "scatter",
         "x": [
          "CSC111",
          "CSC113",
          "CSC220",
          "CSC212",
          "CSC215",
          "CSC304",
          "CSC380",
          "CSC227",
          "CSC311",
          "CSC339",
          "CSC343",
          "CSC361",
          "CSC329",
          "CSC340",
          "CSC453",
          "CSC496",
          "CSC443",
          "CSC462",
          "CSC476",
          "CSC478",
          "CSC484",
          "CSC489"
         ],
         "xaxis": "x4",
         "y": [
          4.800025177744334,
          3.6307963452631284,
          3.7454865898564247,
          4.725029374035056,
          3.6333724987134075,
          2.570035248842067,
          2.870035248842067,
          2.4000440610525837,
          4.775044061052583,
          4.212544061052584,
          1.7750440610525837,
          3.9571932126315246,
          4.525044061052584,
          3.650044061052584,
          2.5875440610525837,
          3.7400704976841346,
          2.0667841628068904,
          4.200058748070112,
          3.2003524884206707,
          2.7003524884206707,
          2.2003524884206707,
          3.100176244210335
         ],
         "yaxis": "y4"
        },
        {
         "hovertemplate": "color=Humanities<br>symbol=Humanities<br>index=%{x}<br>value=%{y}<extra></extra>",
         "legendgroup": "Humanities, Humanities",
         "marker": {
          "color": "#636efa",
          "symbol": "circle"
         },
         "mode": "markers",
         "name": "Humanities",
         "orientation": "v",
         "showlegend": false,
         "type": "scatter",
         "x": [
          "ENGLISH100",
          "ARB100",
          "TECH101",
          "ENTREPRENEUR101",
          "FAJAB101",
          "NAHAJ101",
          "ENGLISH110"
         ],
         "xaxis": "x5",
         "y": [
          4.718975327393695,
          2.9689753273936947,
          4.62043496796244,
          3.505471215292643,
          4.005968598501066,
          3.960514053046521,
          4.7065654583511725
         ],
         "yaxis": "y5"
        },
        {
         "hovertemplate": "color=Mathematics<br>symbol=Mathematics<br>index=%{x}<br>value=%{y}<extra></extra>",
         "legendgroup": "Mathematics, Mathematics",
         "marker": {
          "color": "#EF553B",
          "symbol": "diamond"
         },
         "mode": "markers",
         "name": "Mathematics",
         "orientation": "v",
         "showlegend": false,
         "type": "scatter",
         "x": [
          "MATH101",
          "STAT101",
          "MATH106",
          "MATH151",
          "MATH244",
          "MATH281"
         ],
         "xaxis": "x5",
         "y": [
          2.6150169275169275,
          2.6238643834797686,
          2.162325921941307,
          3.900731213231213,
          2.0091864154364156,
          3.1009306350215446
         ],
         "yaxis": "y5"
        },
        {
         "hovertemplate": "color=Chemistry<br>symbol=Chemistry<br>index=%{x}<br>value=%{y}<extra></extra>",
         "legendgroup": "Chemistry, Chemistry",
         "marker": {
          "color": "#00cc96",
          "symbol": "square"
         },
         "mode": "markers",
         "name": "Chemistry",
         "orientation": "v",
         "showlegend": false,
         "type": "scatter",
         "x": [
          "CHEM101",
          "CHEM103"
         ],
         "xaxis": "x5",
         "y": [
          2.2603550295857984,
          1.3846153846153846
         ],
         "yaxis": "y5"
        },
        {
         "hovertemplate": "color=Islamics<br>symbol=Islamics<br>index=%{x}<br>value=%{y}<extra></extra>",
         "legendgroup": "Islamics, Islamics",
         "marker": {
          "color": "#ab63fa",
          "symbol": "x"
         },
         "mode": "markers",
         "name": "Islamics",
         "orientation": "v",
         "showlegend": false,
         "type": "scatter",
         "x": [
          "SALAM107",
          "SALAM108"
         ],
         "xaxis": "x5",
         "y": [
          3.7270144628099175,
          3.8121448863636367
         ],
         "yaxis": "y5"
        },
        {
         "hovertemplate": "color=Physics<br>symbol=Physics<br>index=%{x}<br>value=%{y}<extra></extra>",
         "legendgroup": "Physics, Physics",
         "marker": {
          "color": "#FFA15A",
          "symbol": "cross"
         },
         "mode": "markers",
         "name": "Physics",
         "orientation": "v",
         "showlegend": false,
         "type": "scatter",
         "x": [
          "PHYS104",
          "PHYS210",
          "PHYS103"
         ],
         "xaxis": "x5",
         "y": [
          2.07771164021164,
          1.4325396825396826,
          1.7760770975056688
         ],
         "yaxis": "y5"
        },
        {
         "hovertemplate": "color=Computer science<br>symbol=Computer science<br>index=%{x}<br>value=%{y}<extra></extra>",
         "legendgroup": "Computer science, Computer science",
         "marker": {
          "color": "#19d3f3",
          "symbol": "circle"
         },
         "mode": "markers",
         "name": "Computer science",
         "orientation": "v",
         "showlegend": false,
         "type": "scatter",
         "x": [
          "CSC111",
          "CSC113",
          "CSC220",
          "CSC212",
          "CSC215",
          "CSC304",
          "CSC380",
          "CSC227",
          "CSC311",
          "CSC339",
          "CSC343",
          "CSC361",
          "CSC329",
          "CSC340",
          "CSC453",
          "CSC496",
          "CSC443",
          "CSC462",
          "CSC476",
          "CSC478",
          "CSC484",
          "CSC489"
         ],
         "xaxis": "x5",
         "y": [
          4.152282020829099,
          3.9332267916621064,
          2.693813481055217,
          3.010995690967281,
          2.2924386990674868,
          4.513194829160739,
          3.1131948291607383,
          3.0164935364509224,
          3.0789935364509224,
          3.2039935364509224,
          2.516493536450923,
          2.5902783273724834,
          3.3914935364509224,
          2.328993536450923,
          3.0789935364509224,
          2.126389658321476,
          4.043982763869128,
          3.1053247152678973,
          2.631948291607382,
          3.131948291607382,
          2.131948291607382,
          3.065974145803691
         ],
         "yaxis": "y5"
        },
        {
         "hovertemplate": "color=Humanities<br>symbol=Humanities<br>index=%{x}<br>value=%{y}<extra></extra>",
         "legendgroup": "Humanities, Humanities",
         "marker": {
          "color": "#636efa",
          "symbol": "circle"
         },
         "mode": "markers",
         "name": "Humanities",
         "orientation": "v",
         "showlegend": false,
         "type": "scatter",
         "x": [
          "ENGLISH100",
          "ARB100",
          "TECH101",
          "ENTREPRENEUR101",
          "FAJAB101",
          "NAHAJ101",
          "ENGLISH110"
         ],
         "xaxis": "x7",
         "y": [
          5,
          3,
          4,
          3,
          3,
          3,
          4.5
         ],
         "yaxis": "y7"
        },
        {
         "hovertemplate": "color=Mathematics<br>symbol=Mathematics<br>index=%{x}<br>value=%{y}<extra></extra>",
         "legendgroup": "Mathematics, Mathematics",
         "marker": {
          "color": "#EF553B",
          "symbol": "diamond"
         },
         "mode": "markers",
         "name": "Mathematics",
         "orientation": "v",
         "showlegend": false,
         "type": "scatter",
         "x": [
          "MATH101",
          "STAT101",
          "MATH106",
          "MATH151",
          "MATH244",
          "MATH281"
         ],
         "xaxis": "x7",
         "y": [
          3.5,
          5,
          3,
          5,
          3,
          4
         ],
         "yaxis": "y7"
        },
        {
         "hovertemplate": "color=Chemistry<br>symbol=Chemistry<br>index=%{x}<br>value=%{y}<extra></extra>",
         "legendgroup": "Chemistry, Chemistry",
         "marker": {
          "color": "#00cc96",
          "symbol": "square"
         },
         "mode": "markers",
         "name": "Chemistry",
         "orientation": "v",
         "showlegend": false,
         "type": "scatter",
         "x": [
          "CHEM101",
          "CHEM103"
         ],
         "xaxis": "x7",
         "y": [
          2,
          1
         ],
         "yaxis": "y7"
        },
        {
         "hovertemplate": "color=Islamics<br>symbol=Islamics<br>index=%{x}<br>value=%{y}<extra></extra>",
         "legendgroup": "Islamics, Islamics",
         "marker": {
          "color": "#ab63fa",
          "symbol": "x"
         },
         "mode": "markers",
         "name": "Islamics",
         "orientation": "v",
         "showlegend": false,
         "type": "scatter",
         "x": [
          "SALAM107",
          "SALAM108"
         ],
         "xaxis": "x7",
         "y": [
          3,
          1.5
         ],
         "yaxis": "y7"
        },
        {
         "hovertemplate": "color=Physics<br>symbol=Physics<br>index=%{x}<br>value=%{y}<extra></extra>",
         "legendgroup": "Physics, Physics",
         "marker": {
          "color": "#FFA15A",
          "symbol": "cross"
         },
         "mode": "markers",
         "name": "Physics",
         "orientation": "v",
         "showlegend": false,
         "type": "scatter",
         "x": [
          "PHYS104",
          "PHYS210",
          "PHYS103"
         ],
         "xaxis": "x7",
         "y": [
          2.5,
          1,
          3
         ],
         "yaxis": "y7"
        },
        {
         "hovertemplate": "color=Computer science<br>symbol=Computer science<br>index=%{x}<br>value=%{y}<extra></extra>",
         "legendgroup": "Computer science, Computer science",
         "marker": {
          "color": "#19d3f3",
          "symbol": "circle"
         },
         "mode": "markers",
         "name": "Computer science",
         "orientation": "v",
         "showlegend": false,
         "type": "scatter",
         "x": [
          "CSC111",
          "CSC113",
          "CSC220",
          "CSC212",
          "CSC215",
          "CSC304",
          "CSC380",
          "CSC227",
          "CSC311",
          "CSC339",
          "CSC343",
          "CSC361",
          "CSC329",
          "CSC340",
          "CSC453",
          "CSC496",
          "CSC443",
          "CSC462",
          "CSC476",
          "CSC478",
          "CSC484",
          "CSC489"
         ],
         "xaxis": "x7",
         "y": [
          5,
          5,
          4,
          5,
          4,
          2,
          4,
          3,
          5,
          2,
          3,
          5,
          4.5,
          2,
          3,
          5,
          3,
          5,
          3,
          2,
          2,
          3
         ],
         "yaxis": "y7"
        },
        {
         "hovertemplate": "color=Humanities<br>symbol=Humanities<br>index=%{x}<br>value=%{y}<extra></extra>",
         "legendgroup": "Humanities, Humanities",
         "marker": {
          "color": "#636efa",
          "symbol": "circle"
         },
         "mode": "markers",
         "name": "Humanities",
         "orientation": "v",
         "showlegend": false,
         "type": "scatter",
         "x": [
          "ENGLISH100",
          "ARB100",
          "TECH101",
          "ENTREPRENEUR101",
          "FAJAB101",
          "NAHAJ101",
          "ENGLISH110"
         ],
         "xaxis": "x8",
         "y": [
          5,
          3,
          3,
          2,
          3,
          2,
          4
         ],
         "yaxis": "y8"
        },
        {
         "hovertemplate": "color=Mathematics<br>symbol=Mathematics<br>index=%{x}<br>value=%{y}<extra></extra>",
         "legendgroup": "Mathematics, Mathematics",
         "marker": {
          "color": "#EF553B",
          "symbol": "diamond"
         },
         "mode": "markers",
         "name": "Mathematics",
         "orientation": "v",
         "showlegend": false,
         "type": "scatter",
         "x": [
          "MATH101",
          "STAT101",
          "MATH106",
          "MATH151",
          "MATH244",
          "MATH281"
         ],
         "xaxis": "x8",
         "y": [
          4,
          4,
          4,
          5,
          3.5,
          4
         ],
         "yaxis": "y8"
        },
        {
         "hovertemplate": "color=Chemistry<br>symbol=Chemistry<br>index=%{x}<br>value=%{y}<extra></extra>",
         "legendgroup": "Chemistry, Chemistry",
         "marker": {
          "color": "#00cc96",
          "symbol": "square"
         },
         "mode": "markers",
         "name": "Chemistry",
         "orientation": "v",
         "showlegend": false,
         "type": "scatter",
         "x": [
          "CHEM101",
          "CHEM103"
         ],
         "xaxis": "x8",
         "y": [
          2,
          1
         ],
         "yaxis": "y8"
        },
        {
         "hovertemplate": "color=Islamics<br>symbol=Islamics<br>index=%{x}<br>value=%{y}<extra></extra>",
         "legendgroup": "Islamics, Islamics",
         "marker": {
          "color": "#ab63fa",
          "symbol": "x"
         },
         "mode": "markers",
         "name": "Islamics",
         "orientation": "v",
         "showlegend": false,
         "type": "scatter",
         "x": [
          "SALAM107",
          "SALAM108"
         ],
         "xaxis": "x8",
         "y": [
          4,
          2.5
         ],
         "yaxis": "y8"
        },
        {
         "hovertemplate": "color=Physics<br>symbol=Physics<br>index=%{x}<br>value=%{y}<extra></extra>",
         "legendgroup": "Physics, Physics",
         "marker": {
          "color": "#FFA15A",
          "symbol": "cross"
         },
         "mode": "markers",
         "name": "Physics",
         "orientation": "v",
         "showlegend": false,
         "type": "scatter",
         "x": [
          "PHYS104",
          "PHYS210",
          "PHYS103"
         ],
         "xaxis": "x8",
         "y": [
          2.5,
          1,
          2
         ],
         "yaxis": "y8"
        },
        {
         "hovertemplate": "color=Computer science<br>symbol=Computer science<br>index=%{x}<br>value=%{y}<extra></extra>",
         "legendgroup": "Computer science, Computer science",
         "marker": {
          "color": "#19d3f3",
          "symbol": "circle"
         },
         "mode": "markers",
         "name": "Computer science",
         "orientation": "v",
         "showlegend": false,
         "type": "scatter",
         "x": [
          "CSC111",
          "CSC113",
          "CSC220",
          "CSC212",
          "CSC215",
          "CSC304",
          "CSC380",
          "CSC227",
          "CSC311",
          "CSC339",
          "CSC343",
          "CSC361",
          "CSC329",
          "CSC340",
          "CSC453",
          "CSC496",
          "CSC443",
          "CSC462",
          "CSC476",
          "CSC478",
          "CSC484",
          "CSC489"
         ],
         "xaxis": "x8",
         "y": [
          4,
          5,
          4,
          5,
          3,
          3,
          3.5,
          3,
          5,
          3.5,
          3,
          4,
          5,
          3,
          2,
          5,
          3,
          5,
          2,
          3,
          2,
          4
         ],
         "yaxis": "y8"
        },
        {
         "hovertemplate": "color=Humanities<br>symbol=Humanities<br>index=%{x}<br>value=%{y}<extra></extra>",
         "legendgroup": "Humanities, Humanities",
         "marker": {
          "color": "#636efa",
          "symbol": "circle"
         },
         "mode": "markers",
         "name": "Humanities",
         "orientation": "v",
         "showlegend": false,
         "type": "scatter",
         "x": [
          "ENGLISH100",
          "ARB100",
          "TECH101",
          "ENTREPRENEUR101",
          "FAJAB101",
          "NAHAJ101",
          "ENGLISH110"
         ],
         "xaxis": "x9",
         "y": [
          3,
          2.5,
          3,
          2,
          2,
          2,
          3.5
         ],
         "yaxis": "y9"
        },
        {
         "hovertemplate": "color=Mathematics<br>symbol=Mathematics<br>index=%{x}<br>value=%{y}<extra></extra>",
         "legendgroup": "Mathematics, Mathematics",
         "marker": {
          "color": "#EF553B",
          "symbol": "diamond"
         },
         "mode": "markers",
         "name": "Mathematics",
         "orientation": "v",
         "showlegend": false,
         "type": "scatter",
         "x": [
          "MATH101",
          "STAT101",
          "MATH106",
          "MATH151",
          "MATH244",
          "MATH281"
         ],
         "xaxis": "x9",
         "y": [
          3.5,
          4,
          3,
          4.5,
          3,
          4
         ],
         "yaxis": "y9"
        },
        {
         "hovertemplate": "color=Chemistry<br>symbol=Chemistry<br>index=%{x}<br>value=%{y}<extra></extra>",
         "legendgroup": "Chemistry, Chemistry",
         "marker": {
          "color": "#00cc96",
          "symbol": "square"
         },
         "mode": "markers",
         "name": "Chemistry",
         "orientation": "v",
         "showlegend": false,
         "type": "scatter",
         "x": [
          "CHEM101",
          "CHEM103"
         ],
         "xaxis": "x9",
         "y": [
          1,
          1
         ],
         "yaxis": "y9"
        },
        {
         "hovertemplate": "color=Islamics<br>symbol=Islamics<br>index=%{x}<br>value=%{y}<extra></extra>",
         "legendgroup": "Islamics, Islamics",
         "marker": {
          "color": "#ab63fa",
          "symbol": "x"
         },
         "mode": "markers",
         "name": "Islamics",
         "orientation": "v",
         "showlegend": false,
         "type": "scatter",
         "x": [
          "SALAM107",
          "SALAM108"
         ],
         "xaxis": "x9",
         "y": [
          3,
          1.5
         ],
         "yaxis": "y9"
        },
        {
         "hovertemplate": "color=Physics<br>symbol=Physics<br>index=%{x}<br>value=%{y}<extra></extra>",
         "legendgroup": "Physics, Physics",
         "marker": {
          "color": "#FFA15A",
          "symbol": "cross"
         },
         "mode": "markers",
         "name": "Physics",
         "orientation": "v",
         "showlegend": false,
         "type": "scatter",
         "x": [
          "PHYS104",
          "PHYS210",
          "PHYS103"
         ],
         "xaxis": "x9",
         "y": [
          2.5,
          1,
          2
         ],
         "yaxis": "y9"
        },
        {
         "hovertemplate": "color=Computer science<br>symbol=Computer science<br>index=%{x}<br>value=%{y}<extra></extra>",
         "legendgroup": "Computer science, Computer science",
         "marker": {
          "color": "#19d3f3",
          "symbol": "circle"
         },
         "mode": "markers",
         "name": "Computer science",
         "orientation": "v",
         "showlegend": false,
         "type": "scatter",
         "x": [
          "CSC111",
          "CSC113",
          "CSC220",
          "CSC212",
          "CSC215",
          "CSC304",
          "CSC380",
          "CSC227",
          "CSC311",
          "CSC339",
          "CSC343",
          "CSC361",
          "CSC329",
          "CSC340",
          "CSC453",
          "CSC496",
          "CSC443",
          "CSC462",
          "CSC476",
          "CSC478",
          "CSC484",
          "CSC489"
         ],
         "xaxis": "x9",
         "y": [
          4.5,
          5,
          4,
          5,
          3,
          3,
          3,
          3,
          5,
          4,
          2.5,
          4,
          5,
          3,
          2.5,
          3,
          2,
          4.5,
          2,
          2,
          1,
          3
         ],
         "yaxis": "y9"
        },
        {
         "hovertemplate": "color=Humanities<br>symbol=Humanities<br>index=%{x}<br>value=%{y}<extra></extra>",
         "legendgroup": "Humanities, Humanities",
         "marker": {
          "color": "#636efa",
          "symbol": "circle"
         },
         "mode": "markers",
         "name": "Humanities",
         "orientation": "v",
         "showlegend": false,
         "type": "scatter",
         "x": [
          "ENGLISH100",
          "ARB100",
          "TECH101",
          "ENTREPRENEUR101",
          "FAJAB101",
          "NAHAJ101",
          "ENGLISH110"
         ],
         "xaxis": "x10",
         "y": [
          4,
          4,
          4,
          3,
          3,
          4,
          4
         ],
         "yaxis": "y10"
        },
        {
         "hovertemplate": "color=Mathematics<br>symbol=Mathematics<br>index=%{x}<br>value=%{y}<extra></extra>",
         "legendgroup": "Mathematics, Mathematics",
         "marker": {
          "color": "#EF553B",
          "symbol": "diamond"
         },
         "mode": "markers",
         "name": "Mathematics",
         "orientation": "v",
         "showlegend": false,
         "type": "scatter",
         "x": [
          "MATH101",
          "STAT101",
          "MATH106",
          "MATH151",
          "MATH244",
          "MATH281"
         ],
         "xaxis": "x10",
         "y": [
          4,
          4,
          3,
          4,
          3,
          4
         ],
         "yaxis": "y10"
        },
        {
         "hovertemplate": "color=Chemistry<br>symbol=Chemistry<br>index=%{x}<br>value=%{y}<extra></extra>",
         "legendgroup": "Chemistry, Chemistry",
         "marker": {
          "color": "#00cc96",
          "symbol": "square"
         },
         "mode": "markers",
         "name": "Chemistry",
         "orientation": "v",
         "showlegend": false,
         "type": "scatter",
         "x": [
          "CHEM101",
          "CHEM103"
         ],
         "xaxis": "x10",
         "y": [
          2,
          1
         ],
         "yaxis": "y10"
        },
        {
         "hovertemplate": "color=Islamics<br>symbol=Islamics<br>index=%{x}<br>value=%{y}<extra></extra>",
         "legendgroup": "Islamics, Islamics",
         "marker": {
          "color": "#ab63fa",
          "symbol": "x"
         },
         "mode": "markers",
         "name": "Islamics",
         "orientation": "v",
         "showlegend": false,
         "type": "scatter",
         "x": [
          "SALAM107",
          "SALAM108"
         ],
         "xaxis": "x10",
         "y": [
          5,
          2
         ],
         "yaxis": "y10"
        },
        {
         "hovertemplate": "color=Physics<br>symbol=Physics<br>index=%{x}<br>value=%{y}<extra></extra>",
         "legendgroup": "Physics, Physics",
         "marker": {
          "color": "#FFA15A",
          "symbol": "cross"
         },
         "mode": "markers",
         "name": "Physics",
         "orientation": "v",
         "showlegend": false,
         "type": "scatter",
         "x": [
          "PHYS104",
          "PHYS210",
          "PHYS103"
         ],
         "xaxis": "x10",
         "y": [
          2,
          1,
          4
         ],
         "yaxis": "y10"
        },
        {
         "hovertemplate": "color=Computer science<br>symbol=Computer science<br>index=%{x}<br>value=%{y}<extra></extra>",
         "legendgroup": "Computer science, Computer science",
         "marker": {
          "color": "#19d3f3",
          "symbol": "circle"
         },
         "mode": "markers",
         "name": "Computer science",
         "orientation": "v",
         "showlegend": false,
         "type": "scatter",
         "x": [
          "CSC111",
          "CSC113",
          "CSC220",
          "CSC212",
          "CSC215",
          "CSC304",
          "CSC380",
          "CSC227",
          "CSC311",
          "CSC339",
          "CSC343",
          "CSC361",
          "CSC329",
          "CSC340",
          "CSC453",
          "CSC496",
          "CSC443",
          "CSC462",
          "CSC476",
          "CSC478",
          "CSC484",
          "CSC489"
         ],
         "xaxis": "x10",
         "y": [
          5,
          4,
          4,
          5,
          3,
          2.5,
          3.5,
          2.5,
          5,
          3.5,
          2,
          4,
          4.5,
          3.5,
          3,
          3,
          3,
          5,
          3,
          2,
          1,
          3.5
         ],
         "yaxis": "y10"
        },
        {
         "hovertemplate": "color=Humanities<br>symbol=Humanities<br>index=%{x}<br>value=%{y}<extra></extra>",
         "legendgroup": "Humanities, Humanities",
         "marker": {
          "color": "#636efa",
          "symbol": "circle"
         },
         "mode": "markers",
         "name": "Humanities",
         "orientation": "v",
         "showlegend": false,
         "type": "scatter",
         "x": [
          "ENGLISH100",
          "ARB100",
          "TECH101",
          "ENTREPRENEUR101",
          "FAJAB101",
          "NAHAJ101",
          "ENGLISH110"
         ],
         "xaxis": "x11",
         "y": [
          5,
          4,
          5,
          5,
          5,
          4,
          5
         ],
         "yaxis": "y11"
        },
        {
         "hovertemplate": "color=Mathematics<br>symbol=Mathematics<br>index=%{x}<br>value=%{y}<extra></extra>",
         "legendgroup": "Mathematics, Mathematics",
         "marker": {
          "color": "#EF553B",
          "symbol": "diamond"
         },
         "mode": "markers",
         "name": "Mathematics",
         "orientation": "v",
         "showlegend": false,
         "type": "scatter",
         "x": [
          "MATH101",
          "STAT101",
          "MATH106",
          "MATH151",
          "MATH244",
          "MATH281"
         ],
         "xaxis": "x11",
         "y": [
          3,
          3,
          3,
          4,
          3,
          3
         ],
         "yaxis": "y11"
        },
        {
         "hovertemplate": "color=Chemistry<br>symbol=Chemistry<br>index=%{x}<br>value=%{y}<extra></extra>",
         "legendgroup": "Chemistry, Chemistry",
         "marker": {
          "color": "#00cc96",
          "symbol": "square"
         },
         "mode": "markers",
         "name": "Chemistry",
         "orientation": "v",
         "showlegend": false,
         "type": "scatter",
         "x": [
          "CHEM101",
          "CHEM103"
         ],
         "xaxis": "x11",
         "y": [
          2,
          1
         ],
         "yaxis": "y11"
        },
        {
         "hovertemplate": "color=Islamics<br>symbol=Islamics<br>index=%{x}<br>value=%{y}<extra></extra>",
         "legendgroup": "Islamics, Islamics",
         "marker": {
          "color": "#ab63fa",
          "symbol": "x"
         },
         "mode": "markers",
         "name": "Islamics",
         "orientation": "v",
         "showlegend": false,
         "type": "scatter",
         "x": [
          "SALAM107",
          "SALAM108"
         ],
         "xaxis": "x11",
         "y": [
          5,
          4
         ],
         "yaxis": "y11"
        },
        {
         "hovertemplate": "color=Physics<br>symbol=Physics<br>index=%{x}<br>value=%{y}<extra></extra>",
         "legendgroup": "Physics, Physics",
         "marker": {
          "color": "#FFA15A",
          "symbol": "cross"
         },
         "mode": "markers",
         "name": "Physics",
         "orientation": "v",
         "showlegend": false,
         "type": "scatter",
         "x": [
          "PHYS104",
          "PHYS210",
          "PHYS103"
         ],
         "xaxis": "x11",
         "y": [
          2,
          1,
          2
         ],
         "yaxis": "y11"
        },
        {
         "hovertemplate": "color=Computer science<br>symbol=Computer science<br>index=%{x}<br>value=%{y}<extra></extra>",
         "legendgroup": "Computer science, Computer science",
         "marker": {
          "color": "#19d3f3",
          "symbol": "circle"
         },
         "mode": "markers",
         "name": "Computer science",
         "orientation": "v",
         "showlegend": false,
         "type": "scatter",
         "x": [
          "CSC111",
          "CSC113",
          "CSC220",
          "CSC212",
          "CSC215",
          "CSC304",
          "CSC380",
          "CSC227",
          "CSC311",
          "CSC339",
          "CSC343",
          "CSC361",
          "CSC329",
          "CSC340",
          "CSC453",
          "CSC496",
          "CSC443",
          "CSC462",
          "CSC476",
          "CSC478",
          "CSC484",
          "CSC489"
         ],
         "xaxis": "x11",
         "y": [
          4.5,
          4,
          3,
          4,
          2,
          5,
          4.5,
          3,
          4.5,
          3,
          3,
          3,
          3.5,
          2,
          3,
          3,
          3,
          4.5,
          2,
          3,
          1,
          3.5
         ],
         "yaxis": "y11"
        },
        {
         "hovertemplate": "color=Humanities<br>symbol=Humanities<br>index=%{x}<br>value=%{y}<extra></extra>",
         "legendgroup": "Humanities, Humanities",
         "marker": {
          "color": "#636efa",
          "symbol": "circle"
         },
         "mode": "markers",
         "name": "Humanities",
         "orientation": "v",
         "showlegend": false,
         "type": "scatter",
         "x": [
          "ENGLISH100",
          "ARB100",
          "TECH101",
          "ENTREPRENEUR101",
          "FAJAB101",
          "NAHAJ101",
          "ENGLISH110"
         ],
         "xaxis": "x13",
         "y": [
          5,
          3,
          4,
          5,
          3,
          1,
          5
         ],
         "yaxis": "y13"
        },
        {
         "hovertemplate": "color=Mathematics<br>symbol=Mathematics<br>index=%{x}<br>value=%{y}<extra></extra>",
         "legendgroup": "Mathematics, Mathematics",
         "marker": {
          "color": "#EF553B",
          "symbol": "diamond"
         },
         "mode": "markers",
         "name": "Mathematics",
         "orientation": "v",
         "showlegend": false,
         "type": "scatter",
         "x": [
          "MATH101",
          "STAT101",
          "MATH106",
          "MATH151",
          "MATH244",
          "MATH281"
         ],
         "xaxis": "x13",
         "y": [
          3,
          5,
          3,
          5,
          3,
          5
         ],
         "yaxis": "y13"
        },
        {
         "hovertemplate": "color=Chemistry<br>symbol=Chemistry<br>index=%{x}<br>value=%{y}<extra></extra>",
         "legendgroup": "Chemistry, Chemistry",
         "marker": {
          "color": "#00cc96",
          "symbol": "square"
         },
         "mode": "markers",
         "name": "Chemistry",
         "orientation": "v",
         "showlegend": false,
         "type": "scatter",
         "x": [
          "CHEM101",
          "CHEM103"
         ],
         "xaxis": "x13",
         "y": [
          1,
          1
         ],
         "yaxis": "y13"
        },
        {
         "hovertemplate": "color=Islamics<br>symbol=Islamics<br>index=%{x}<br>value=%{y}<extra></extra>",
         "legendgroup": "Islamics, Islamics",
         "marker": {
          "color": "#ab63fa",
          "symbol": "x"
         },
         "mode": "markers",
         "name": "Islamics",
         "orientation": "v",
         "showlegend": false,
         "type": "scatter",
         "x": [
          "SALAM107",
          "SALAM108"
         ],
         "xaxis": "x13",
         "y": [
          5,
          1
         ],
         "yaxis": "y13"
        },
        {
         "hovertemplate": "color=Physics<br>symbol=Physics<br>index=%{x}<br>value=%{y}<extra></extra>",
         "legendgroup": "Physics, Physics",
         "marker": {
          "color": "#FFA15A",
          "symbol": "cross"
         },
         "mode": "markers",
         "name": "Physics",
         "orientation": "v",
         "showlegend": false,
         "type": "scatter",
         "x": [
          "PHYS104",
          "PHYS210",
          "PHYS103"
         ],
         "xaxis": "x13",
         "y": [
          1,
          1,
          1
         ],
         "yaxis": "y13"
        },
        {
         "hovertemplate": "color=Computer science<br>symbol=Computer science<br>index=%{x}<br>value=%{y}<extra></extra>",
         "legendgroup": "Computer science, Computer science",
         "marker": {
          "color": "#19d3f3",
          "symbol": "circle"
         },
         "mode": "markers",
         "name": "Computer science",
         "orientation": "v",
         "showlegend": false,
         "type": "scatter",
         "x": [
          "CSC111",
          "CSC113",
          "CSC220",
          "CSC212",
          "CSC215",
          "CSC304",
          "CSC380",
          "CSC227",
          "CSC311",
          "CSC339",
          "CSC343",
          "CSC361",
          "CSC329",
          "CSC340",
          "CSC453",
          "CSC496",
          "CSC443",
          "CSC462",
          "CSC476",
          "CSC478",
          "CSC484",
          "CSC489"
         ],
         "xaxis": "x13",
         "y": [
          5,
          5,
          5,
          5,
          3,
          1,
          5,
          3,
          5,
          1,
          3,
          5,
          5,
          2,
          3,
          5,
          3,
          5,
          3,
          2,
          2,
          1
         ],
         "yaxis": "y13"
        },
        {
         "hovertemplate": "color=Humanities<br>symbol=Humanities<br>index=%{x}<br>value=%{y}<extra></extra>",
         "legendgroup": "Humanities, Humanities",
         "marker": {
          "color": "#636efa",
          "symbol": "circle"
         },
         "mode": "markers",
         "name": "Humanities",
         "orientation": "v",
         "showlegend": false,
         "type": "scatter",
         "x": [
          "ENGLISH100",
          "ARB100",
          "TECH101",
          "ENTREPRENEUR101",
          "FAJAB101",
          "NAHAJ101",
          "ENGLISH110"
         ],
         "xaxis": "x14",
         "y": [
          5,
          2,
          3,
          1,
          3,
          1,
          5
         ],
         "yaxis": "y14"
        },
        {
         "hovertemplate": "color=Mathematics<br>symbol=Mathematics<br>index=%{x}<br>value=%{y}<extra></extra>",
         "legendgroup": "Mathematics, Mathematics",
         "marker": {
          "color": "#EF553B",
          "symbol": "diamond"
         },
         "mode": "markers",
         "name": "Mathematics",
         "orientation": "v",
         "showlegend": false,
         "type": "scatter",
         "x": [
          "MATH101",
          "STAT101",
          "MATH106",
          "MATH151",
          "MATH244",
          "MATH281"
         ],
         "xaxis": "x14",
         "y": [
          5,
          4,
          5,
          5,
          5,
          5
         ],
         "yaxis": "y14"
        },
        {
         "hovertemplate": "color=Chemistry<br>symbol=Chemistry<br>index=%{x}<br>value=%{y}<extra></extra>",
         "legendgroup": "Chemistry, Chemistry",
         "marker": {
          "color": "#00cc96",
          "symbol": "square"
         },
         "mode": "markers",
         "name": "Chemistry",
         "orientation": "v",
         "showlegend": false,
         "type": "scatter",
         "x": [
          "CHEM101",
          "CHEM103"
         ],
         "xaxis": "x14",
         "y": [
          1,
          1
         ],
         "yaxis": "y14"
        },
        {
         "hovertemplate": "color=Islamics<br>symbol=Islamics<br>index=%{x}<br>value=%{y}<extra></extra>",
         "legendgroup": "Islamics, Islamics",
         "marker": {
          "color": "#ab63fa",
          "symbol": "x"
         },
         "mode": "markers",
         "name": "Islamics",
         "orientation": "v",
         "showlegend": false,
         "type": "scatter",
         "x": [
          "SALAM107",
          "SALAM108"
         ],
         "xaxis": "x14",
         "y": [
          5,
          5
         ],
         "yaxis": "y14"
        },
        {
         "hovertemplate": "color=Physics<br>symbol=Physics<br>index=%{x}<br>value=%{y}<extra></extra>",
         "legendgroup": "Physics, Physics",
         "marker": {
          "color": "#FFA15A",
          "symbol": "cross"
         },
         "mode": "markers",
         "name": "Physics",
         "orientation": "v",
         "showlegend": false,
         "type": "scatter",
         "x": [
          "PHYS104",
          "PHYS210",
          "PHYS103"
         ],
         "xaxis": "x14",
         "y": [
          1,
          1,
          1
         ],
         "yaxis": "y14"
        },
        {
         "hovertemplate": "color=Computer science<br>symbol=Computer science<br>index=%{x}<br>value=%{y}<extra></extra>",
         "legendgroup": "Computer science, Computer science",
         "marker": {
          "color": "#19d3f3",
          "symbol": "circle"
         },
         "mode": "markers",
         "name": "Computer science",
         "orientation": "v",
         "showlegend": false,
         "type": "scatter",
         "x": [
          "CSC111",
          "CSC113",
          "CSC220",
          "CSC212",
          "CSC215",
          "CSC304",
          "CSC380",
          "CSC227",
          "CSC311",
          "CSC339",
          "CSC343",
          "CSC361",
          "CSC329",
          "CSC340",
          "CSC453",
          "CSC496",
          "CSC443",
          "CSC462",
          "CSC476",
          "CSC478",
          "CSC484",
          "CSC489"
         ],
         "xaxis": "x14",
         "y": [
          5,
          5,
          4,
          5,
          3,
          1,
          2,
          2,
          5,
          3,
          2,
          2,
          5,
          1,
          2,
          5,
          3,
          5,
          2,
          3,
          2,
          3
         ],
         "yaxis": "y14"
        },
        {
         "hovertemplate": "color=Humanities<br>symbol=Humanities<br>index=%{x}<br>value=%{y}<extra></extra>",
         "legendgroup": "Humanities, Humanities",
         "marker": {
          "color": "#636efa",
          "symbol": "circle"
         },
         "mode": "markers",
         "name": "Humanities",
         "orientation": "v",
         "showlegend": false,
         "type": "scatter",
         "x": [
          "ENGLISH100",
          "ARB100",
          "TECH101",
          "ENTREPRENEUR101",
          "FAJAB101",
          "NAHAJ101",
          "ENGLISH110"
         ],
         "xaxis": "x15",
         "y": [
          1,
          2,
          2,
          2,
          1,
          1,
          1
         ],
         "yaxis": "y15"
        },
        {
         "hovertemplate": "color=Mathematics<br>symbol=Mathematics<br>index=%{x}<br>value=%{y}<extra></extra>",
         "legendgroup": "Mathematics, Mathematics",
         "marker": {
          "color": "#EF553B",
          "symbol": "diamond"
         },
         "mode": "markers",
         "name": "Mathematics",
         "orientation": "v",
         "showlegend": false,
         "type": "scatter",
         "x": [
          "MATH101",
          "STAT101",
          "MATH106",
          "MATH151",
          "MATH244",
          "MATH281"
         ],
         "xaxis": "x15",
         "y": [
          3,
          3,
          5,
          5,
          2,
          3
         ],
         "yaxis": "y15"
        },
        {
         "hovertemplate": "color=Chemistry<br>symbol=Chemistry<br>index=%{x}<br>value=%{y}<extra></extra>",
         "legendgroup": "Chemistry, Chemistry",
         "marker": {
          "color": "#00cc96",
          "symbol": "square"
         },
         "mode": "markers",
         "name": "Chemistry",
         "orientation": "v",
         "showlegend": false,
         "type": "scatter",
         "x": [
          "CHEM101",
          "CHEM103"
         ],
         "xaxis": "x15",
         "y": [
          1,
          1
         ],
         "yaxis": "y15"
        },
        {
         "hovertemplate": "color=Islamics<br>symbol=Islamics<br>index=%{x}<br>value=%{y}<extra></extra>",
         "legendgroup": "Islamics, Islamics",
         "marker": {
          "color": "#ab63fa",
          "symbol": "x"
         },
         "mode": "markers",
         "name": "Islamics",
         "orientation": "v",
         "showlegend": false,
         "type": "scatter",
         "x": [
          "SALAM107",
          "SALAM108"
         ],
         "xaxis": "x15",
         "y": [
          5,
          1
         ],
         "yaxis": "y15"
        },
        {
         "hovertemplate": "color=Physics<br>symbol=Physics<br>index=%{x}<br>value=%{y}<extra></extra>",
         "legendgroup": "Physics, Physics",
         "marker": {
          "color": "#FFA15A",
          "symbol": "cross"
         },
         "mode": "markers",
         "name": "Physics",
         "orientation": "v",
         "showlegend": false,
         "type": "scatter",
         "x": [
          "PHYS104",
          "PHYS210",
          "PHYS103"
         ],
         "xaxis": "x15",
         "y": [
          1,
          1,
          2
         ],
         "yaxis": "y15"
        },
        {
         "hovertemplate": "color=Computer science<br>symbol=Computer science<br>index=%{x}<br>value=%{y}<extra></extra>",
         "legendgroup": "Computer science, Computer science",
         "marker": {
          "color": "#19d3f3",
          "symbol": "circle"
         },
         "mode": "markers",
         "name": "Computer science",
         "orientation": "v",
         "showlegend": false,
         "type": "scatter",
         "x": [
          "CSC111",
          "CSC113",
          "CSC220",
          "CSC212",
          "CSC215",
          "CSC304",
          "CSC380",
          "CSC227",
          "CSC311",
          "CSC339",
          "CSC343",
          "CSC361",
          "CSC329",
          "CSC340",
          "CSC453",
          "CSC496",
          "CSC443",
          "CSC462",
          "CSC476",
          "CSC478",
          "CSC484",
          "CSC489"
         ],
         "xaxis": "x15",
         "y": [
          5,
          5,
          5,
          5,
          3,
          5,
          3,
          3,
          5,
          4,
          2,
          3,
          5,
          3,
          2,
          3,
          2,
          5,
          2,
          2,
          1,
          1
         ],
         "yaxis": "y15"
        },
        {
         "hovertemplate": "color=Humanities<br>symbol=Humanities<br>index=%{x}<br>value=%{y}<extra></extra>",
         "legendgroup": "Humanities, Humanities",
         "marker": {
          "color": "#636efa",
          "symbol": "circle"
         },
         "mode": "markers",
         "name": "Humanities",
         "orientation": "v",
         "showlegend": false,
         "type": "scatter",
         "x": [
          "ENGLISH100",
          "ARB100",
          "TECH101",
          "ENTREPRENEUR101",
          "FAJAB101",
          "NAHAJ101",
          "ENGLISH110"
         ],
         "xaxis": "x16",
         "y": [
          5,
          5,
          5,
          1,
          5,
          5,
          5
         ],
         "yaxis": "y16"
        },
        {
         "hovertemplate": "color=Mathematics<br>symbol=Mathematics<br>index=%{x}<br>value=%{y}<extra></extra>",
         "legendgroup": "Mathematics, Mathematics",
         "marker": {
          "color": "#EF553B",
          "symbol": "diamond"
         },
         "mode": "markers",
         "name": "Mathematics",
         "orientation": "v",
         "showlegend": false,
         "type": "scatter",
         "x": [
          "MATH101",
          "STAT101",
          "MATH106",
          "MATH151",
          "MATH244",
          "MATH281"
         ],
         "xaxis": "x16",
         "y": [
          4,
          3,
          3,
          5,
          3,
          5
         ],
         "yaxis": "y16"
        },
        {
         "hovertemplate": "color=Chemistry<br>symbol=Chemistry<br>index=%{x}<br>value=%{y}<extra></extra>",
         "legendgroup": "Chemistry, Chemistry",
         "marker": {
          "color": "#00cc96",
          "symbol": "square"
         },
         "mode": "markers",
         "name": "Chemistry",
         "orientation": "v",
         "showlegend": false,
         "type": "scatter",
         "x": [
          "CHEM101",
          "CHEM103"
         ],
         "xaxis": "x16",
         "y": [
          2,
          1
         ],
         "yaxis": "y16"
        },
        {
         "hovertemplate": "color=Islamics<br>symbol=Islamics<br>index=%{x}<br>value=%{y}<extra></extra>",
         "legendgroup": "Islamics, Islamics",
         "marker": {
          "color": "#ab63fa",
          "symbol": "x"
         },
         "mode": "markers",
         "name": "Islamics",
         "orientation": "v",
         "showlegend": false,
         "type": "scatter",
         "x": [
          "SALAM107",
          "SALAM108"
         ],
         "xaxis": "x16",
         "y": [
          5,
          1
         ],
         "yaxis": "y16"
        },
        {
         "hovertemplate": "color=Physics<br>symbol=Physics<br>index=%{x}<br>value=%{y}<extra></extra>",
         "legendgroup": "Physics, Physics",
         "marker": {
          "color": "#FFA15A",
          "symbol": "cross"
         },
         "mode": "markers",
         "name": "Physics",
         "orientation": "v",
         "showlegend": false,
         "type": "scatter",
         "x": [
          "PHYS104",
          "PHYS210",
          "PHYS103"
         ],
         "xaxis": "x16",
         "y": [
          2,
          1,
          4
         ],
         "yaxis": "y16"
        },
        {
         "hovertemplate": "color=Computer science<br>symbol=Computer science<br>index=%{x}<br>value=%{y}<extra></extra>",
         "legendgroup": "Computer science, Computer science",
         "marker": {
          "color": "#19d3f3",
          "symbol": "circle"
         },
         "mode": "markers",
         "name": "Computer science",
         "orientation": "v",
         "showlegend": false,
         "type": "scatter",
         "x": [
          "CSC111",
          "CSC113",
          "CSC220",
          "CSC212",
          "CSC215",
          "CSC304",
          "CSC380",
          "CSC227",
          "CSC311",
          "CSC339",
          "CSC343",
          "CSC361",
          "CSC329",
          "CSC340",
          "CSC453",
          "CSC496",
          "CSC443",
          "CSC462",
          "CSC476",
          "CSC478",
          "CSC484",
          "CSC489"
         ],
         "xaxis": "x16",
         "y": [
          5,
          5,
          2,
          5,
          3,
          5,
          3,
          2,
          5,
          3,
          2,
          4,
          5,
          5,
          3,
          3,
          3,
          5,
          3,
          2,
          1,
          2
         ],
         "yaxis": "y16"
        },
        {
         "hovertemplate": "color=Humanities<br>symbol=Humanities<br>index=%{x}<br>value=%{y}<extra></extra>",
         "legendgroup": "Humanities, Humanities",
         "marker": {
          "color": "#636efa",
          "symbol": "circle"
         },
         "mode": "markers",
         "name": "Humanities",
         "orientation": "v",
         "showlegend": false,
         "type": "scatter",
         "x": [
          "ENGLISH100",
          "ARB100",
          "TECH101",
          "ENTREPRENEUR101",
          "FAJAB101",
          "NAHAJ101",
          "ENGLISH110"
         ],
         "xaxis": "x17",
         "y": [
          5,
          5,
          5,
          5,
          5,
          4,
          5
         ],
         "yaxis": "y17"
        },
        {
         "hovertemplate": "color=Mathematics<br>symbol=Mathematics<br>index=%{x}<br>value=%{y}<extra></extra>",
         "legendgroup": "Mathematics, Mathematics",
         "marker": {
          "color": "#EF553B",
          "symbol": "diamond"
         },
         "mode": "markers",
         "name": "Mathematics",
         "orientation": "v",
         "showlegend": false,
         "type": "scatter",
         "x": [
          "MATH101",
          "STAT101",
          "MATH106",
          "MATH151",
          "MATH244",
          "MATH281"
         ],
         "xaxis": "x17",
         "y": [
          3,
          3,
          3,
          4,
          3,
          3
         ],
         "yaxis": "y17"
        },
        {
         "hovertemplate": "color=Chemistry<br>symbol=Chemistry<br>index=%{x}<br>value=%{y}<extra></extra>",
         "legendgroup": "Chemistry, Chemistry",
         "marker": {
          "color": "#00cc96",
          "symbol": "square"
         },
         "mode": "markers",
         "name": "Chemistry",
         "orientation": "v",
         "showlegend": false,
         "type": "scatter",
         "x": [
          "CHEM101",
          "CHEM103"
         ],
         "xaxis": "x17",
         "y": [
          2,
          1
         ],
         "yaxis": "y17"
        },
        {
         "hovertemplate": "color=Islamics<br>symbol=Islamics<br>index=%{x}<br>value=%{y}<extra></extra>",
         "legendgroup": "Islamics, Islamics",
         "marker": {
          "color": "#ab63fa",
          "symbol": "x"
         },
         "mode": "markers",
         "name": "Islamics",
         "orientation": "v",
         "showlegend": false,
         "type": "scatter",
         "x": [
          "SALAM107",
          "SALAM108"
         ],
         "xaxis": "x17",
         "y": [
          5,
          5
         ],
         "yaxis": "y17"
        },
        {
         "hovertemplate": "color=Physics<br>symbol=Physics<br>index=%{x}<br>value=%{y}<extra></extra>",
         "legendgroup": "Physics, Physics",
         "marker": {
          "color": "#FFA15A",
          "symbol": "cross"
         },
         "mode": "markers",
         "name": "Physics",
         "orientation": "v",
         "showlegend": false,
         "type": "scatter",
         "x": [
          "PHYS104",
          "PHYS210",
          "PHYS103"
         ],
         "xaxis": "x17",
         "y": [
          2,
          1,
          1
         ],
         "yaxis": "y17"
        },
        {
         "hovertemplate": "color=Computer science<br>symbol=Computer science<br>index=%{x}<br>value=%{y}<extra></extra>",
         "legendgroup": "Computer science, Computer science",
         "marker": {
          "color": "#19d3f3",
          "symbol": "circle"
         },
         "mode": "markers",
         "name": "Computer science",
         "orientation": "v",
         "showlegend": false,
         "type": "scatter",
         "x": [
          "CSC111",
          "CSC113",
          "CSC220",
          "CSC212",
          "CSC215",
          "CSC304",
          "CSC380",
          "CSC227",
          "CSC311",
          "CSC339",
          "CSC343",
          "CSC361",
          "CSC329",
          "CSC340",
          "CSC453",
          "CSC496",
          "CSC443",
          "CSC462",
          "CSC476",
          "CSC478",
          "CSC484",
          "CSC489"
         ],
         "xaxis": "x17",
         "y": [
          5,
          4,
          3,
          5,
          2,
          5,
          5,
          3,
          5,
          3,
          3,
          3,
          3,
          1,
          3,
          3,
          3,
          5,
          2,
          3,
          1,
          2
         ],
         "yaxis": "y17"
        },
        {
         "hovertemplate": "color=Humanities<br>symbol=Humanities<br>index=%{x}<br>value=%{y}<extra></extra>",
         "legendgroup": "Humanities, Humanities",
         "marker": {
          "color": "#636efa",
          "symbol": "circle"
         },
         "mode": "markers",
         "name": "Humanities",
         "orientation": "v",
         "showlegend": false,
         "type": "scatter",
         "x": [
          "ENGLISH100",
          "ARB100",
          "TECH101",
          "ENTREPRENEUR101",
          "FAJAB101",
          "NAHAJ101",
          "ENGLISH110"
         ],
         "xaxis": "x19",
         "y": [
          1.4392458342578487,
          1.4898926873369838,
          1.192927878405448,
          1.5447859516333116,
          1.433368568981982,
          1.5782614139961386,
          1.286683937707919
         ],
         "yaxis": "y19"
        },
        {
         "hovertemplate": "color=Mathematics<br>symbol=Mathematics<br>index=%{x}<br>value=%{y}<extra></extra>",
         "legendgroup": "Mathematics, Mathematics",
         "marker": {
          "color": "#EF553B",
          "symbol": "diamond"
         },
         "mode": "markers",
         "name": "Mathematics",
         "orientation": "v",
         "showlegend": false,
         "type": "scatter",
         "x": [
          "MATH101",
          "STAT101",
          "MATH106",
          "MATH151",
          "MATH244",
          "MATH281"
         ],
         "xaxis": "x19",
         "y": [
          0.9944903161976936,
          1.1657505560686467,
          1.2659242088545832,
          1.0690449676496976,
          1.087114613009218,
          1.0954451150103321
         ],
         "yaxis": "y19"
        },
        {
         "hovertemplate": "color=Chemistry<br>symbol=Chemistry<br>index=%{x}<br>value=%{y}<extra></extra>",
         "legendgroup": "Chemistry, Chemistry",
         "marker": {
          "color": "#00cc96",
          "symbol": "square"
         },
         "mode": "markers",
         "name": "Chemistry",
         "orientation": "v",
         "showlegend": false,
         "type": "scatter",
         "x": [
          "CHEM101",
          "CHEM103"
         ],
         "xaxis": "x19",
         "y": [
          1.4632243987255136,
          null
         ],
         "yaxis": "y19"
        },
        {
         "hovertemplate": "color=Islamics<br>symbol=Islamics<br>index=%{x}<br>value=%{y}<extra></extra>",
         "legendgroup": "Islamics, Islamics",
         "marker": {
          "color": "#ab63fa",
          "symbol": "x"
         },
         "mode": "markers",
         "name": "Islamics",
         "orientation": "v",
         "showlegend": false,
         "type": "scatter",
         "x": [
          "SALAM107",
          "SALAM108"
         ],
         "xaxis": "x19",
         "y": [
          1.618079669911781,
          1.7677669529663689
         ],
         "yaxis": "y19"
        },
        {
         "hovertemplate": "color=Physics<br>symbol=Physics<br>index=%{x}<br>value=%{y}<extra></extra>",
         "legendgroup": "Physics, Physics",
         "marker": {
          "color": "#FFA15A",
          "symbol": "cross"
         },
         "mode": "markers",
         "name": "Physics",
         "orientation": "v",
         "showlegend": false,
         "type": "scatter",
         "x": [
          "PHYS104",
          "PHYS210",
          "PHYS103"
         ],
         "xaxis": "x19",
         "y": [
          1.381698559415515,
          null,
          1.511857892036909
         ],
         "yaxis": "y19"
        },
        {
         "hovertemplate": "color=Computer science<br>symbol=Computer science<br>index=%{x}<br>value=%{y}<extra></extra>",
         "legendgroup": "Computer science, Computer science",
         "marker": {
          "color": "#19d3f3",
          "symbol": "circle"
         },
         "mode": "markers",
         "name": "Computer science",
         "orientation": "v",
         "showlegend": false,
         "type": "scatter",
         "x": [
          "CSC111",
          "CSC113",
          "CSC220",
          "CSC212",
          "CSC215",
          "CSC304",
          "CSC380",
          "CSC227",
          "CSC311",
          "CSC339",
          "CSC343",
          "CSC361",
          "CSC329",
          "CSC340",
          "CSC453",
          "CSC496",
          "CSC443",
          "CSC462",
          "CSC476",
          "CSC478",
          "CSC484",
          "CSC489"
         ],
         "xaxis": "x19",
         "y": [
          0.7449463436684919,
          1.192927878405448,
          1.1908743922772957,
          0.674199862463242,
          1.0929064207170003,
          1.8287822299126937,
          1.3165611772087666,
          0.7440238091428449,
          0.7440238091428449,
          1.5059406173077154,
          0.9910312089651149,
          1.4638501094227998,
          0.9910312089651149,
          1.3024701806293193,
          1.3887301496588271,
          1.0954451150103321,
          0.5773502691896258,
          0.816496580927726,
          null,
          null,
          null,
          2.8284271247461903
         ],
         "yaxis": "y19"
        },
        {
         "hovertemplate": "color=Humanities<br>symbol=Humanities<br>index=%{x}<br>value=%{y}<extra></extra>",
         "legendgroup": "Humanities, Humanities",
         "marker": {
          "color": "#636efa",
          "symbol": "circle"
         },
         "mode": "markers",
         "name": "Humanities",
         "orientation": "v",
         "showlegend": false,
         "type": "scatter",
         "x": [
          "ENGLISH100",
          "ARB100",
          "TECH101",
          "ENTREPRENEUR101",
          "FAJAB101",
          "NAHAJ101",
          "ENGLISH110"
         ],
         "xaxis": "x20",
         "y": [
          1.3259870882635918,
          1.292412345317728,
          0.8987170342729172,
          1.621353717973928,
          1.2933395813657265,
          1.2933395813657265,
          1.286683937707919
         ],
         "yaxis": "y20"
        },
        {
         "hovertemplate": "color=Mathematics<br>symbol=Mathematics<br>index=%{x}<br>value=%{y}<extra></extra>",
         "legendgroup": "Mathematics, Mathematics",
         "marker": {
          "color": "#EF553B",
          "symbol": "diamond"
         },
         "mode": "markers",
         "name": "Mathematics",
         "orientation": "v",
         "showlegend": false,
         "type": "scatter",
         "x": [
          "MATH101",
          "STAT101",
          "MATH106",
          "MATH151",
          "MATH244",
          "MATH281"
         ],
         "xaxis": "x20",
         "y": [
          1.0377490433255416,
          1.1547005383792515,
          1.344504484072964,
          1.1883130530663677,
          1.2401124093721456,
          0.9438798074485389
         ],
         "yaxis": "y20"
        },
        {
         "hovertemplate": "color=Chemistry<br>symbol=Chemistry<br>index=%{x}<br>value=%{y}<extra></extra>",
         "legendgroup": "Chemistry, Chemistry",
         "marker": {
          "color": "#00cc96",
          "symbol": "square"
         },
         "mode": "markers",
         "name": "Chemistry",
         "orientation": "v",
         "showlegend": false,
         "type": "scatter",
         "x": [
          "CHEM101",
          "CHEM103"
         ],
         "xaxis": "x20",
         "y": [
          1.4500221041639683,
          null
         ],
         "yaxis": "y20"
        },
        {
         "hovertemplate": "color=Islamics<br>symbol=Islamics<br>index=%{x}<br>value=%{y}<extra></extra>",
         "legendgroup": "Islamics, Islamics",
         "marker": {
          "color": "#ab63fa",
          "symbol": "x"
         },
         "mode": "markers",
         "name": "Islamics",
         "orientation": "v",
         "showlegend": false,
         "type": "scatter",
         "x": [
          "SALAM107",
          "SALAM108"
         ],
         "xaxis": "x20",
         "y": [
          1.4333685689819817,
          1.7728105208558367
         ],
         "yaxis": "y20"
        },
        {
         "hovertemplate": "color=Physics<br>symbol=Physics<br>index=%{x}<br>value=%{y}<extra></extra>",
         "legendgroup": "Physics, Physics",
         "marker": {
          "color": "#FFA15A",
          "symbol": "cross"
         },
         "mode": "markers",
         "name": "Physics",
         "orientation": "v",
         "showlegend": false,
         "type": "scatter",
         "x": [
          "PHYS104",
          "PHYS210",
          "PHYS103"
         ],
         "xaxis": "x20",
         "y": [
          1.4354811251305468,
          null,
          1.8126539343499315
         ],
         "yaxis": "y20"
        },
        {
         "hovertemplate": "color=Computer science<br>symbol=Computer science<br>index=%{x}<br>value=%{y}<extra></extra>",
         "legendgroup": "Computer science, Computer science",
         "marker": {
          "color": "#19d3f3",
          "symbol": "circle"
         },
         "mode": "markers",
         "name": "Computer science",
         "orientation": "v",
         "showlegend": false,
         "type": "scatter",
         "x": [
          "CSC111",
          "CSC113",
          "CSC220",
          "CSC212",
          "CSC215",
          "CSC304",
          "CSC380",
          "CSC227",
          "CSC311",
          "CSC339",
          "CSC343",
          "CSC361",
          "CSC329",
          "CSC340",
          "CSC453",
          "CSC496",
          "CSC443",
          "CSC462",
          "CSC476",
          "CSC478",
          "CSC484",
          "CSC489"
         ],
         "xaxis": "x20",
         "y": [
          0.9972489631508749,
          1.2557559782549623,
          1.1281521496355325,
          1,
          1.224744871391589,
          1.7638342073763937,
          1.3984117975602022,
          1.0690449676496976,
          0.7071067811865476,
          1.407885953173359,
          1.0690449676496976,
          1.3972762620115438,
          0.7559289460184544,
          1.6035674514745464,
          0.7071067811865476,
          1.0954451150103321,
          0.5773502691896258,
          0.8366600265340756,
          null,
          null,
          null,
          1.4142135623730951
         ],
         "yaxis": "y20"
        },
        {
         "hovertemplate": "color=Humanities<br>symbol=Humanities<br>index=%{x}<br>value=%{y}<extra></extra>",
         "legendgroup": "Humanities, Humanities",
         "marker": {
          "color": "#636efa",
          "symbol": "circle"
         },
         "mode": "markers",
         "name": "Humanities",
         "orientation": "v",
         "showlegend": false,
         "type": "scatter",
         "x": [
          "ENGLISH100",
          "ARB100",
          "TECH101",
          "ENTREPRENEUR101",
          "FAJAB101",
          "NAHAJ101",
          "ENGLISH110"
         ],
         "xaxis": "x21",
         "y": [
          1.6391501416322993,
          1.6172150801252798,
          1.0439078454267836,
          1.6025547785276542,
          1.3618169680781096,
          1.4333685689819817,
          1.728840330651992
         ],
         "yaxis": "y21"
        },
        {
         "hovertemplate": "color=Mathematics<br>symbol=Mathematics<br>index=%{x}<br>value=%{y}<extra></extra>",
         "legendgroup": "Mathematics, Mathematics",
         "marker": {
          "color": "#EF553B",
          "symbol": "diamond"
         },
         "mode": "markers",
         "name": "Mathematics",
         "orientation": "v",
         "showlegend": false,
         "type": "scatter",
         "x": [
          "MATH101",
          "STAT101",
          "MATH106",
          "MATH151",
          "MATH244",
          "MATH281"
         ],
         "xaxis": "x21",
         "y": [
          1.15072838853303,
          1.12089707663561,
          1.4500221041639685,
          1.071611705960535,
          1.3568010505999362,
          1
         ],
         "yaxis": "y21"
        },
        {
         "hovertemplate": "color=Chemistry<br>symbol=Chemistry<br>index=%{x}<br>value=%{y}<extra></extra>",
         "legendgroup": "Chemistry, Chemistry",
         "marker": {
          "color": "#00cc96",
          "symbol": "square"
         },
         "mode": "markers",
         "name": "Chemistry",
         "orientation": "v",
         "showlegend": false,
         "type": "scatter",
         "x": [
          "CHEM101",
          "CHEM103"
         ],
         "xaxis": "x21",
         "y": [
          1.214231845389905,
          null
         ],
         "yaxis": "y21"
        },
        {
         "hovertemplate": "color=Islamics<br>symbol=Islamics<br>index=%{x}<br>value=%{y}<extra></extra>",
         "legendgroup": "Islamics, Islamics",
         "marker": {
          "color": "#ab63fa",
          "symbol": "x"
         },
         "mode": "markers",
         "name": "Islamics",
         "orientation": "v",
         "showlegend": false,
         "type": "scatter",
         "x": [
          "SALAM107",
          "SALAM108"
         ],
         "xaxis": "x21",
         "y": [
          1.5666989036012806,
          1.1259916264596033
         ],
         "yaxis": "y21"
        },
        {
         "hovertemplate": "color=Physics<br>symbol=Physics<br>index=%{x}<br>value=%{y}<extra></extra>",
         "legendgroup": "Physics, Physics",
         "marker": {
          "color": "#FFA15A",
          "symbol": "cross"
         },
         "mode": "markers",
         "name": "Physics",
         "orientation": "v",
         "showlegend": false,
         "type": "scatter",
         "x": [
          "PHYS104",
          "PHYS210",
          "PHYS103"
         ],
         "xaxis": "x21",
         "y": [
          1.381698559415515,
          null,
          1.3801311186847085
         ],
         "yaxis": "y21"
        },
        {
         "hovertemplate": "color=Computer science<br>symbol=Computer science<br>index=%{x}<br>value=%{y}<extra></extra>",
         "legendgroup": "Computer science, Computer science",
         "marker": {
          "color": "#19d3f3",
          "symbol": "circle"
         },
         "mode": "markers",
         "name": "Computer science",
         "orientation": "v",
         "showlegend": false,
         "type": "scatter",
         "x": [
          "CSC111",
          "CSC113",
          "CSC220",
          "CSC212",
          "CSC215",
          "CSC304",
          "CSC380",
          "CSC227",
          "CSC311",
          "CSC339",
          "CSC343",
          "CSC361",
          "CSC329",
          "CSC340",
          "CSC453",
          "CSC496",
          "CSC443",
          "CSC462",
          "CSC476",
          "CSC478",
          "CSC484",
          "CSC489"
         ],
         "xaxis": "x21",
         "y": [
          0.9749612559222293,
          1.4411533842457842,
          1.2862913567871996,
          0.996204919895622,
          1.0137937550497031,
          1.7919573407620817,
          1.2516655570345725,
          0.7559289460184544,
          0.7440238091428449,
          1.2817398889233114,
          1.0606601717798212,
          1.1126972805283737,
          0.9161253813129043,
          1.6690459207925603,
          0.8864052604279183,
          0.8944271909999159,
          0,
          0.816496580927726,
          null,
          null,
          null,
          2.8284271247461903
         ],
         "yaxis": "y21"
        },
        {
         "hovertemplate": "color=Humanities<br>symbol=Humanities<br>index=%{x}<br>value=%{y}<extra></extra>",
         "legendgroup": "Humanities, Humanities",
         "marker": {
          "color": "#636efa",
          "symbol": "circle"
         },
         "mode": "markers",
         "name": "Humanities",
         "orientation": "v",
         "showlegend": false,
         "type": "scatter",
         "x": [
          "ENGLISH100",
          "ARB100",
          "TECH101",
          "ENTREPRENEUR101",
          "FAJAB101",
          "NAHAJ101",
          "ENGLISH110"
         ],
         "xaxis": "x22",
         "y": [
          1.696797241605749,
          1.5548576840284827,
          1.4500221041639683,
          1.6733200530681511,
          1.721521525754576,
          1.3483997249264843,
          1.7159383568311668
         ],
         "yaxis": "y22"
        },
        {
         "hovertemplate": "color=Mathematics<br>symbol=Mathematics<br>index=%{x}<br>value=%{y}<extra></extra>",
         "legendgroup": "Mathematics, Mathematics",
         "marker": {
          "color": "#EF553B",
          "symbol": "diamond"
         },
         "mode": "markers",
         "name": "Mathematics",
         "orientation": "v",
         "showlegend": false,
         "type": "scatter",
         "x": [
          "MATH101",
          "STAT101",
          "MATH106",
          "MATH151",
          "MATH244",
          "MATH281"
         ],
         "xaxis": "x22",
         "y": [
          1.2043875831929893,
          1.0500305245868344,
          1.1982893790305562,
          1.1411388181101378,
          1.164500152881315,
          1.1908743922772957
         ],
         "yaxis": "y22"
        },
        {
         "hovertemplate": "color=Chemistry<br>symbol=Chemistry<br>index=%{x}<br>value=%{y}<extra></extra>",
         "legendgroup": "Chemistry, Chemistry",
         "marker": {
          "color": "#00cc96",
          "symbol": "square"
         },
         "mode": "markers",
         "name": "Chemistry",
         "orientation": "v",
         "showlegend": false,
         "type": "scatter",
         "x": [
          "CHEM101",
          "CHEM103"
         ],
         "xaxis": "x22",
         "y": [
          1.39136531360295,
          null
         ],
         "yaxis": "y22"
        },
        {
         "hovertemplate": "color=Islamics<br>symbol=Islamics<br>index=%{x}<br>value=%{y}<extra></extra>",
         "legendgroup": "Islamics, Islamics",
         "marker": {
          "color": "#ab63fa",
          "symbol": "x"
         },
         "mode": "markers",
         "name": "Islamics",
         "orientation": "v",
         "showlegend": false,
         "type": "scatter",
         "x": [
          "SALAM107",
          "SALAM108"
         ],
         "xaxis": "x22",
         "y": [
          1.4459976109624424,
          1.5059406173077154
         ],
         "yaxis": "y22"
        },
        {
         "hovertemplate": "color=Physics<br>symbol=Physics<br>index=%{x}<br>value=%{y}<extra></extra>",
         "legendgroup": "Physics, Physics",
         "marker": {
          "color": "#FFA15A",
          "symbol": "cross"
         },
         "mode": "markers",
         "name": "Physics",
         "orientation": "v",
         "showlegend": false,
         "type": "scatter",
         "x": [
          "PHYS104",
          "PHYS210",
          "PHYS103"
         ],
         "xaxis": "x22",
         "y": [
          1.2309149097933274,
          null,
          1.4638501094227998
         ],
         "yaxis": "y22"
        },
        {
         "hovertemplate": "color=Computer science<br>symbol=Computer science<br>index=%{x}<br>value=%{y}<extra></extra>",
         "legendgroup": "Computer science, Computer science",
         "marker": {
          "color": "#19d3f3",
          "symbol": "circle"
         },
         "mode": "markers",
         "name": "Computer science",
         "orientation": "v",
         "showlegend": false,
         "type": "scatter",
         "x": [
          "CSC111",
          "CSC113",
          "CSC220",
          "CSC212",
          "CSC215",
          "CSC304",
          "CSC380",
          "CSC227",
          "CSC311",
          "CSC339",
          "CSC343",
          "CSC361",
          "CSC329",
          "CSC340",
          "CSC453",
          "CSC496",
          "CSC443",
          "CSC462",
          "CSC476",
          "CSC478",
          "CSC484",
          "CSC489"
         ],
         "xaxis": "x22",
         "y": [
          0.6112498455021266,
          0.8320502943378437,
          1.3684762594679063,
          0.6685579234215214,
          1,
          1.8257418583505538,
          1.1737877907772674,
          1.0606601717798212,
          0.7071067811865476,
          1.407885953173359,
          1.0350983390135313,
          1,
          0.8864052604279183,
          1.5979898086569353,
          0.7559289460184544,
          0.8944271909999159,
          1.1547005383792515,
          0.8366600265340756,
          null,
          null,
          null,
          2.1213203435596424
         ],
         "yaxis": "y22"
        },
        {
         "hovertemplate": "color=Humanities<br>symbol=Humanities<br>index=%{x}<br>value=%{y}<extra></extra>",
         "legendgroup": "Humanities, Humanities",
         "marker": {
          "color": "#636efa",
          "symbol": "circle"
         },
         "mode": "markers",
         "name": "Humanities",
         "orientation": "v",
         "showlegend": false,
         "type": "scatter",
         "x": [
          "ENGLISH100",
          "ARB100",
          "TECH101",
          "ENTREPRENEUR101",
          "FAJAB101",
          "NAHAJ101",
          "ENGLISH110"
         ],
         "xaxis": "x23",
         "y": [
          1.286019499792345,
          1.3688047244316384,
          1.1821319289469758,
          1.5642792899510294,
          1.4142135623730951,
          1.300349603340998,
          1.2692955176439846
         ],
         "yaxis": "y23"
        },
        {
         "hovertemplate": "color=Mathematics<br>symbol=Mathematics<br>index=%{x}<br>value=%{y}<extra></extra>",
         "legendgroup": "Mathematics, Mathematics",
         "marker": {
          "color": "#EF553B",
          "symbol": "diamond"
         },
         "mode": "markers",
         "name": "Mathematics",
         "orientation": "v",
         "showlegend": false,
         "type": "scatter",
         "x": [
          "MATH101",
          "STAT101",
          "MATH106",
          "MATH151",
          "MATH244",
          "MATH281"
         ],
         "xaxis": "x23",
         "y": [
          1.027105182026191,
          1.0681880176381127,
          1.3445044840729643,
          1.027105182026191,
          0.9374368665610922,
          1.0787197799411874
         ],
         "yaxis": "y23"
        },
        {
         "hovertemplate": "color=Chemistry<br>symbol=Chemistry<br>index=%{x}<br>value=%{y}<extra></extra>",
         "legendgroup": "Chemistry, Chemistry",
         "marker": {
          "color": "#00cc96",
          "symbol": "square"
         },
         "mode": "markers",
         "name": "Chemistry",
         "orientation": "v",
         "showlegend": false,
         "type": "scatter",
         "x": [
          "CHEM101",
          "CHEM103"
         ],
         "xaxis": "x23",
         "y": [
          1.2659242088545832,
          null
         ],
         "yaxis": "y23"
        },
        {
         "hovertemplate": "color=Islamics<br>symbol=Islamics<br>index=%{x}<br>value=%{y}<extra></extra>",
         "legendgroup": "Islamics, Islamics",
         "marker": {
          "color": "#ab63fa",
          "symbol": "x"
         },
         "mode": "markers",
         "name": "Islamics",
         "orientation": "v",
         "showlegend": false,
         "type": "scatter",
         "x": [
          "SALAM107",
          "SALAM108"
         ],
         "xaxis": "x23",
         "y": [
          0.9244162777371754,
          1.5059406173077154
         ],
         "yaxis": "y23"
        },
        {
         "hovertemplate": "color=Physics<br>symbol=Physics<br>index=%{x}<br>value=%{y}<extra></extra>",
         "legendgroup": "Physics, Physics",
         "marker": {
          "color": "#FFA15A",
          "symbol": "cross"
         },
         "mode": "markers",
         "name": "Physics",
         "orientation": "v",
         "showlegend": false,
         "type": "scatter",
         "x": [
          "PHYS104",
          "PHYS210",
          "PHYS103"
         ],
         "xaxis": "x23",
         "y": [
          1.2673044646258476,
          null,
          1.618347187425374
         ],
         "yaxis": "y23"
        },
        {
         "hovertemplate": "color=Computer science<br>symbol=Computer science<br>index=%{x}<br>value=%{y}<extra></extra>",
         "legendgroup": "Computer science, Computer science",
         "marker": {
          "color": "#19d3f3",
          "symbol": "circle"
         },
         "mode": "markers",
         "name": "Computer science",
         "orientation": "v",
         "showlegend": false,
         "type": "scatter",
         "x": [
          "CSC111",
          "CSC113",
          "CSC220",
          "CSC212",
          "CSC215",
          "CSC304",
          "CSC380",
          "CSC227",
          "CSC311",
          "CSC339",
          "CSC343",
          "CSC361",
          "CSC329",
          "CSC340",
          "CSC453",
          "CSC496",
          "CSC443",
          "CSC462",
          "CSC476",
          "CSC478",
          "CSC484",
          "CSC489"
         ],
         "xaxis": "x23",
         "y": [
          0.7449463436684919,
          0.75955452531275,
          1.1037127426019047,
          1.0836246694508316,
          1.2360330811826106,
          1.6865480854231358,
          1.1005049346146119,
          1.0690449676496976,
          1.1952286093343936,
          1.3024701806293193,
          1.246423454758225,
          0.816496580927726,
          0.8864052604279183,
          1.6903085094570331,
          0.9910312089651149,
          1.0954451150103321,
          1.1547005383792515,
          1.2649110640673518,
          null,
          null,
          null,
          2.1213203435596424
         ],
         "yaxis": "y23"
        }
       ],
       "layout": {
        "annotations": [
         {
          "font": {
           "size": 16
          },
          "showarrow": false,
          "text": "Bayesian estimated mean Application score for each course",
          "x": 0.225,
          "xanchor": "center",
          "xref": "paper",
          "y": 1,
          "yanchor": "bottom",
          "yref": "paper"
         },
         {
          "font": {
           "size": 16
          },
          "showarrow": false,
          "text": "Bayesian estimated mean Relevance score for each course",
          "x": 0.775,
          "xanchor": "center",
          "xref": "paper",
          "y": 1,
          "yanchor": "bottom",
          "yref": "paper"
         },
         {
          "font": {
           "size": 16
          },
          "showarrow": false,
          "text": "Bayesian estimated mean Insight score for each course",
          "x": 0.225,
          "xanchor": "center",
          "xref": "paper",
          "y": 0.9131944444444444,
          "yanchor": "bottom",
          "yref": "paper"
         },
         {
          "font": {
           "size": 16
          },
          "showarrow": false,
          "text": "Bayesian estimated mean Understanding score for each course",
          "x": 0.775,
          "xanchor": "center",
          "xref": "paper",
          "y": 0.9131944444444444,
          "yanchor": "bottom",
          "yref": "paper"
         },
         {
          "font": {
           "size": 16
          },
          "showarrow": false,
          "text": "Bayesian estimated mean Ease score for each course",
          "x": 0.225,
          "xanchor": "center",
          "xref": "paper",
          "y": 0.8263888888888888,
          "yanchor": "bottom",
          "yref": "paper"
         },
         {
          "font": {
           "size": 16
          },
          "showarrow": false,
          "text": "Median Application score for each course",
          "x": 0.225,
          "xanchor": "center",
          "xref": "paper",
          "y": 0.7395833333333333,
          "yanchor": "bottom",
          "yref": "paper"
         },
         {
          "font": {
           "size": 16
          },
          "showarrow": false,
          "text": "Median Relevance score for each course",
          "x": 0.775,
          "xanchor": "center",
          "xref": "paper",
          "y": 0.7395833333333333,
          "yanchor": "bottom",
          "yref": "paper"
         },
         {
          "font": {
           "size": 16
          },
          "showarrow": false,
          "text": "Median Insight score for each course",
          "x": 0.225,
          "xanchor": "center",
          "xref": "paper",
          "y": 0.6527777777777777,
          "yanchor": "bottom",
          "yref": "paper"
         },
         {
          "font": {
           "size": 16
          },
          "showarrow": false,
          "text": "Median Understanding score for each course",
          "x": 0.775,
          "xanchor": "center",
          "xref": "paper",
          "y": 0.6527777777777777,
          "yanchor": "bottom",
          "yref": "paper"
         },
         {
          "font": {
           "size": 16
          },
          "showarrow": false,
          "text": "Median Ease score for each course",
          "x": 0.225,
          "xanchor": "center",
          "xref": "paper",
          "y": 0.5659722222222223,
          "yanchor": "bottom",
          "yref": "paper"
         },
         {
          "font": {
           "size": 16
          },
          "showarrow": false,
          "text": "Mode Application score for each course",
          "x": 0.225,
          "xanchor": "center",
          "xref": "paper",
          "y": 0.4791666666666667,
          "yanchor": "bottom",
          "yref": "paper"
         },
         {
          "font": {
           "size": 16
          },
          "showarrow": false,
          "text": "Mode Relevance score for each course",
          "x": 0.775,
          "xanchor": "center",
          "xref": "paper",
          "y": 0.4791666666666667,
          "yanchor": "bottom",
          "yref": "paper"
         },
         {
          "font": {
           "size": 16
          },
          "showarrow": false,
          "text": "Mode Insight score for each course",
          "x": 0.225,
          "xanchor": "center",
          "xref": "paper",
          "y": 0.3923611111111111,
          "yanchor": "bottom",
          "yref": "paper"
         },
         {
          "font": {
           "size": 16
          },
          "showarrow": false,
          "text": "Mode Understanding score for each course",
          "x": 0.775,
          "xanchor": "center",
          "xref": "paper",
          "y": 0.3923611111111111,
          "yanchor": "bottom",
          "yref": "paper"
         },
         {
          "font": {
           "size": 16
          },
          "showarrow": false,
          "text": "Mode Ease score for each course",
          "x": 0.225,
          "xanchor": "center",
          "xref": "paper",
          "y": 0.3055555555555556,
          "yanchor": "bottom",
          "yref": "paper"
         },
         {
          "font": {
           "size": 16
          },
          "showarrow": false,
          "text": "Standard deviation Application score for each course",
          "x": 0.225,
          "xanchor": "center",
          "xref": "paper",
          "y": 0.21875,
          "yanchor": "bottom",
          "yref": "paper"
         },
         {
          "font": {
           "size": 16
          },
          "showarrow": false,
          "text": "Standard deviation Relevance score for each course",
          "x": 0.775,
          "xanchor": "center",
          "xref": "paper",
          "y": 0.21875,
          "yanchor": "bottom",
          "yref": "paper"
         },
         {
          "font": {
           "size": 16
          },
          "showarrow": false,
          "text": "Standard deviation Insight score for each course",
          "x": 0.225,
          "xanchor": "center",
          "xref": "paper",
          "y": 0.13194444444444445,
          "yanchor": "bottom",
          "yref": "paper"
         },
         {
          "font": {
           "size": 16
          },
          "showarrow": false,
          "text": "Standard deviation Understanding score for each course",
          "x": 0.775,
          "xanchor": "center",
          "xref": "paper",
          "y": 0.13194444444444445,
          "yanchor": "bottom",
          "yref": "paper"
         },
         {
          "font": {
           "size": 16
          },
          "showarrow": false,
          "text": "Standard deviation Ease score for each course",
          "x": 0.225,
          "xanchor": "center",
          "xref": "paper",
          "y": 0.045138888888888895,
          "yanchor": "bottom",
          "yref": "paper"
         }
        ],
        "height": 5000,
        "template": {
         "data": {
          "bar": [
           {
            "error_x": {
             "color": "#f2f5fa"
            },
            "error_y": {
             "color": "#f2f5fa"
            },
            "marker": {
             "line": {
              "color": "rgb(17,17,17)",
              "width": 0.5
             },
             "pattern": {
              "fillmode": "overlay",
              "size": 10,
              "solidity": 0.2
             }
            },
            "type": "bar"
           }
          ],
          "barpolar": [
           {
            "marker": {
             "line": {
              "color": "rgb(17,17,17)",
              "width": 0.5
             },
             "pattern": {
              "fillmode": "overlay",
              "size": 10,
              "solidity": 0.2
             }
            },
            "type": "barpolar"
           }
          ],
          "carpet": [
           {
            "aaxis": {
             "endlinecolor": "#A2B1C6",
             "gridcolor": "#506784",
             "linecolor": "#506784",
             "minorgridcolor": "#506784",
             "startlinecolor": "#A2B1C6"
            },
            "baxis": {
             "endlinecolor": "#A2B1C6",
             "gridcolor": "#506784",
             "linecolor": "#506784",
             "minorgridcolor": "#506784",
             "startlinecolor": "#A2B1C6"
            },
            "type": "carpet"
           }
          ],
          "choropleth": [
           {
            "colorbar": {
             "outlinewidth": 0,
             "ticks": ""
            },
            "type": "choropleth"
           }
          ],
          "contour": [
           {
            "colorbar": {
             "outlinewidth": 0,
             "ticks": ""
            },
            "colorscale": [
             [
              0,
              "#0d0887"
             ],
             [
              0.1111111111111111,
              "#46039f"
             ],
             [
              0.2222222222222222,
              "#7201a8"
             ],
             [
              0.3333333333333333,
              "#9c179e"
             ],
             [
              0.4444444444444444,
              "#bd3786"
             ],
             [
              0.5555555555555556,
              "#d8576b"
             ],
             [
              0.6666666666666666,
              "#ed7953"
             ],
             [
              0.7777777777777778,
              "#fb9f3a"
             ],
             [
              0.8888888888888888,
              "#fdca26"
             ],
             [
              1,
              "#f0f921"
             ]
            ],
            "type": "contour"
           }
          ],
          "contourcarpet": [
           {
            "colorbar": {
             "outlinewidth": 0,
             "ticks": ""
            },
            "type": "contourcarpet"
           }
          ],
          "heatmap": [
           {
            "colorbar": {
             "outlinewidth": 0,
             "ticks": ""
            },
            "colorscale": [
             [
              0,
              "#0d0887"
             ],
             [
              0.1111111111111111,
              "#46039f"
             ],
             [
              0.2222222222222222,
              "#7201a8"
             ],
             [
              0.3333333333333333,
              "#9c179e"
             ],
             [
              0.4444444444444444,
              "#bd3786"
             ],
             [
              0.5555555555555556,
              "#d8576b"
             ],
             [
              0.6666666666666666,
              "#ed7953"
             ],
             [
              0.7777777777777778,
              "#fb9f3a"
             ],
             [
              0.8888888888888888,
              "#fdca26"
             ],
             [
              1,
              "#f0f921"
             ]
            ],
            "type": "heatmap"
           }
          ],
          "heatmapgl": [
           {
            "colorbar": {
             "outlinewidth": 0,
             "ticks": ""
            },
            "colorscale": [
             [
              0,
              "#0d0887"
             ],
             [
              0.1111111111111111,
              "#46039f"
             ],
             [
              0.2222222222222222,
              "#7201a8"
             ],
             [
              0.3333333333333333,
              "#9c179e"
             ],
             [
              0.4444444444444444,
              "#bd3786"
             ],
             [
              0.5555555555555556,
              "#d8576b"
             ],
             [
              0.6666666666666666,
              "#ed7953"
             ],
             [
              0.7777777777777778,
              "#fb9f3a"
             ],
             [
              0.8888888888888888,
              "#fdca26"
             ],
             [
              1,
              "#f0f921"
             ]
            ],
            "type": "heatmapgl"
           }
          ],
          "histogram": [
           {
            "marker": {
             "pattern": {
              "fillmode": "overlay",
              "size": 10,
              "solidity": 0.2
             }
            },
            "type": "histogram"
           }
          ],
          "histogram2d": [
           {
            "colorbar": {
             "outlinewidth": 0,
             "ticks": ""
            },
            "colorscale": [
             [
              0,
              "#0d0887"
             ],
             [
              0.1111111111111111,
              "#46039f"
             ],
             [
              0.2222222222222222,
              "#7201a8"
             ],
             [
              0.3333333333333333,
              "#9c179e"
             ],
             [
              0.4444444444444444,
              "#bd3786"
             ],
             [
              0.5555555555555556,
              "#d8576b"
             ],
             [
              0.6666666666666666,
              "#ed7953"
             ],
             [
              0.7777777777777778,
              "#fb9f3a"
             ],
             [
              0.8888888888888888,
              "#fdca26"
             ],
             [
              1,
              "#f0f921"
             ]
            ],
            "type": "histogram2d"
           }
          ],
          "histogram2dcontour": [
           {
            "colorbar": {
             "outlinewidth": 0,
             "ticks": ""
            },
            "colorscale": [
             [
              0,
              "#0d0887"
             ],
             [
              0.1111111111111111,
              "#46039f"
             ],
             [
              0.2222222222222222,
              "#7201a8"
             ],
             [
              0.3333333333333333,
              "#9c179e"
             ],
             [
              0.4444444444444444,
              "#bd3786"
             ],
             [
              0.5555555555555556,
              "#d8576b"
             ],
             [
              0.6666666666666666,
              "#ed7953"
             ],
             [
              0.7777777777777778,
              "#fb9f3a"
             ],
             [
              0.8888888888888888,
              "#fdca26"
             ],
             [
              1,
              "#f0f921"
             ]
            ],
            "type": "histogram2dcontour"
           }
          ],
          "mesh3d": [
           {
            "colorbar": {
             "outlinewidth": 0,
             "ticks": ""
            },
            "type": "mesh3d"
           }
          ],
          "parcoords": [
           {
            "line": {
             "colorbar": {
              "outlinewidth": 0,
              "ticks": ""
             }
            },
            "type": "parcoords"
           }
          ],
          "pie": [
           {
            "automargin": true,
            "type": "pie"
           }
          ],
          "scatter": [
           {
            "marker": {
             "line": {
              "color": "#283442"
             }
            },
            "type": "scatter"
           }
          ],
          "scatter3d": [
           {
            "line": {
             "colorbar": {
              "outlinewidth": 0,
              "ticks": ""
             }
            },
            "marker": {
             "colorbar": {
              "outlinewidth": 0,
              "ticks": ""
             }
            },
            "type": "scatter3d"
           }
          ],
          "scattercarpet": [
           {
            "marker": {
             "colorbar": {
              "outlinewidth": 0,
              "ticks": ""
             }
            },
            "type": "scattercarpet"
           }
          ],
          "scattergeo": [
           {
            "marker": {
             "colorbar": {
              "outlinewidth": 0,
              "ticks": ""
             }
            },
            "type": "scattergeo"
           }
          ],
          "scattergl": [
           {
            "marker": {
             "line": {
              "color": "#283442"
             }
            },
            "type": "scattergl"
           }
          ],
          "scattermapbox": [
           {
            "marker": {
             "colorbar": {
              "outlinewidth": 0,
              "ticks": ""
             }
            },
            "type": "scattermapbox"
           }
          ],
          "scatterpolar": [
           {
            "marker": {
             "colorbar": {
              "outlinewidth": 0,
              "ticks": ""
             }
            },
            "type": "scatterpolar"
           }
          ],
          "scatterpolargl": [
           {
            "marker": {
             "colorbar": {
              "outlinewidth": 0,
              "ticks": ""
             }
            },
            "type": "scatterpolargl"
           }
          ],
          "scatterternary": [
           {
            "marker": {
             "colorbar": {
              "outlinewidth": 0,
              "ticks": ""
             }
            },
            "type": "scatterternary"
           }
          ],
          "surface": [
           {
            "colorbar": {
             "outlinewidth": 0,
             "ticks": ""
            },
            "colorscale": [
             [
              0,
              "#0d0887"
             ],
             [
              0.1111111111111111,
              "#46039f"
             ],
             [
              0.2222222222222222,
              "#7201a8"
             ],
             [
              0.3333333333333333,
              "#9c179e"
             ],
             [
              0.4444444444444444,
              "#bd3786"
             ],
             [
              0.5555555555555556,
              "#d8576b"
             ],
             [
              0.6666666666666666,
              "#ed7953"
             ],
             [
              0.7777777777777778,
              "#fb9f3a"
             ],
             [
              0.8888888888888888,
              "#fdca26"
             ],
             [
              1,
              "#f0f921"
             ]
            ],
            "type": "surface"
           }
          ],
          "table": [
           {
            "cells": {
             "fill": {
              "color": "#506784"
             },
             "line": {
              "color": "rgb(17,17,17)"
             }
            },
            "header": {
             "fill": {
              "color": "#2a3f5f"
             },
             "line": {
              "color": "rgb(17,17,17)"
             }
            },
            "type": "table"
           }
          ]
         },
         "layout": {
          "annotationdefaults": {
           "arrowcolor": "#f2f5fa",
           "arrowhead": 0,
           "arrowwidth": 1
          },
          "autotypenumbers": "strict",
          "coloraxis": {
           "colorbar": {
            "outlinewidth": 0,
            "ticks": ""
           }
          },
          "colorscale": {
           "diverging": [
            [
             0,
             "#8e0152"
            ],
            [
             0.1,
             "#c51b7d"
            ],
            [
             0.2,
             "#de77ae"
            ],
            [
             0.3,
             "#f1b6da"
            ],
            [
             0.4,
             "#fde0ef"
            ],
            [
             0.5,
             "#f7f7f7"
            ],
            [
             0.6,
             "#e6f5d0"
            ],
            [
             0.7,
             "#b8e186"
            ],
            [
             0.8,
             "#7fbc41"
            ],
            [
             0.9,
             "#4d9221"
            ],
            [
             1,
             "#276419"
            ]
           ],
           "sequential": [
            [
             0,
             "#0d0887"
            ],
            [
             0.1111111111111111,
             "#46039f"
            ],
            [
             0.2222222222222222,
             "#7201a8"
            ],
            [
             0.3333333333333333,
             "#9c179e"
            ],
            [
             0.4444444444444444,
             "#bd3786"
            ],
            [
             0.5555555555555556,
             "#d8576b"
            ],
            [
             0.6666666666666666,
             "#ed7953"
            ],
            [
             0.7777777777777778,
             "#fb9f3a"
            ],
            [
             0.8888888888888888,
             "#fdca26"
            ],
            [
             1,
             "#f0f921"
            ]
           ],
           "sequentialminus": [
            [
             0,
             "#0d0887"
            ],
            [
             0.1111111111111111,
             "#46039f"
            ],
            [
             0.2222222222222222,
             "#7201a8"
            ],
            [
             0.3333333333333333,
             "#9c179e"
            ],
            [
             0.4444444444444444,
             "#bd3786"
            ],
            [
             0.5555555555555556,
             "#d8576b"
            ],
            [
             0.6666666666666666,
             "#ed7953"
            ],
            [
             0.7777777777777778,
             "#fb9f3a"
            ],
            [
             0.8888888888888888,
             "#fdca26"
            ],
            [
             1,
             "#f0f921"
            ]
           ]
          },
          "colorway": [
           "#636efa",
           "#EF553B",
           "#00cc96",
           "#ab63fa",
           "#FFA15A",
           "#19d3f3",
           "#FF6692",
           "#B6E880",
           "#FF97FF",
           "#FECB52"
          ],
          "font": {
           "color": "#f2f5fa"
          },
          "geo": {
           "bgcolor": "rgb(17,17,17)",
           "lakecolor": "rgb(17,17,17)",
           "landcolor": "rgb(17,17,17)",
           "showlakes": true,
           "showland": true,
           "subunitcolor": "#506784"
          },
          "hoverlabel": {
           "align": "left"
          },
          "hovermode": "closest",
          "mapbox": {
           "style": "dark"
          },
          "paper_bgcolor": "rgb(17,17,17)",
          "plot_bgcolor": "rgb(17,17,17)",
          "polar": {
           "angularaxis": {
            "gridcolor": "#506784",
            "linecolor": "#506784",
            "ticks": ""
           },
           "bgcolor": "rgb(17,17,17)",
           "radialaxis": {
            "gridcolor": "#506784",
            "linecolor": "#506784",
            "ticks": ""
           }
          },
          "scene": {
           "xaxis": {
            "backgroundcolor": "rgb(17,17,17)",
            "gridcolor": "#506784",
            "gridwidth": 2,
            "linecolor": "#506784",
            "showbackground": true,
            "ticks": "",
            "zerolinecolor": "#C8D4E3"
           },
           "yaxis": {
            "backgroundcolor": "rgb(17,17,17)",
            "gridcolor": "#506784",
            "gridwidth": 2,
            "linecolor": "#506784",
            "showbackground": true,
            "ticks": "",
            "zerolinecolor": "#C8D4E3"
           },
           "zaxis": {
            "backgroundcolor": "rgb(17,17,17)",
            "gridcolor": "#506784",
            "gridwidth": 2,
            "linecolor": "#506784",
            "showbackground": true,
            "ticks": "",
            "zerolinecolor": "#C8D4E3"
           }
          },
          "shapedefaults": {
           "line": {
            "color": "#f2f5fa"
           }
          },
          "sliderdefaults": {
           "bgcolor": "#C8D4E3",
           "bordercolor": "rgb(17,17,17)",
           "borderwidth": 1,
           "tickwidth": 0
          },
          "ternary": {
           "aaxis": {
            "gridcolor": "#506784",
            "linecolor": "#506784",
            "ticks": ""
           },
           "baxis": {
            "gridcolor": "#506784",
            "linecolor": "#506784",
            "ticks": ""
           },
           "bgcolor": "rgb(17,17,17)",
           "caxis": {
            "gridcolor": "#506784",
            "linecolor": "#506784",
            "ticks": ""
           }
          },
          "title": {
           "x": 0.05
          },
          "updatemenudefaults": {
           "bgcolor": "#506784",
           "borderwidth": 0
          },
          "xaxis": {
           "automargin": true,
           "gridcolor": "#283442",
           "linecolor": "#506784",
           "ticks": "",
           "title": {
            "standoff": 15
           },
           "zerolinecolor": "#283442",
           "zerolinewidth": 2
          },
          "yaxis": {
           "automargin": true,
           "gridcolor": "#283442",
           "linecolor": "#506784",
           "ticks": "",
           "title": {
            "standoff": 15
           },
           "zerolinecolor": "#283442",
           "zerolinewidth": 2
          }
         }
        },
        "width": 2400,
        "xaxis": {
         "anchor": "y",
         "domain": [
          0,
          0.45
         ]
        },
        "xaxis10": {
         "anchor": "y10",
         "domain": [
          0.55,
          1
         ]
        },
        "xaxis11": {
         "anchor": "y11",
         "domain": [
          0,
          0.45
         ]
        },
        "xaxis12": {
         "anchor": "y12",
         "domain": [
          0.55,
          1
         ]
        },
        "xaxis13": {
         "anchor": "y13",
         "domain": [
          0,
          0.45
         ]
        },
        "xaxis14": {
         "anchor": "y14",
         "domain": [
          0.55,
          1
         ]
        },
        "xaxis15": {
         "anchor": "y15",
         "domain": [
          0,
          0.45
         ]
        },
        "xaxis16": {
         "anchor": "y16",
         "domain": [
          0.55,
          1
         ]
        },
        "xaxis17": {
         "anchor": "y17",
         "domain": [
          0,
          0.45
         ]
        },
        "xaxis18": {
         "anchor": "y18",
         "domain": [
          0.55,
          1
         ]
        },
        "xaxis19": {
         "anchor": "y19",
         "domain": [
          0,
          0.45
         ]
        },
        "xaxis2": {
         "anchor": "y2",
         "domain": [
          0.55,
          1
         ]
        },
        "xaxis20": {
         "anchor": "y20",
         "domain": [
          0.55,
          1
         ]
        },
        "xaxis21": {
         "anchor": "y21",
         "domain": [
          0,
          0.45
         ]
        },
        "xaxis22": {
         "anchor": "y22",
         "domain": [
          0.55,
          1
         ]
        },
        "xaxis23": {
         "anchor": "y23",
         "domain": [
          0,
          0.45
         ]
        },
        "xaxis24": {
         "anchor": "y24",
         "domain": [
          0.55,
          1
         ]
        },
        "xaxis3": {
         "anchor": "y3",
         "domain": [
          0,
          0.45
         ]
        },
        "xaxis4": {
         "anchor": "y4",
         "domain": [
          0.55,
          1
         ]
        },
        "xaxis5": {
         "anchor": "y5",
         "domain": [
          0,
          0.45
         ]
        },
        "xaxis6": {
         "anchor": "y6",
         "domain": [
          0.55,
          1
         ]
        },
        "xaxis7": {
         "anchor": "y7",
         "domain": [
          0,
          0.45
         ]
        },
        "xaxis8": {
         "anchor": "y8",
         "domain": [
          0.55,
          1
         ]
        },
        "xaxis9": {
         "anchor": "y9",
         "domain": [
          0,
          0.45
         ]
        },
        "yaxis": {
         "anchor": "x",
         "domain": [
          0.9548611111111112,
          1
         ],
         "title": {
          "text": "Bayesian estimated mean Application"
         }
        },
        "yaxis10": {
         "anchor": "x10",
         "domain": [
          0.6076388888888888,
          0.6527777777777777
         ],
         "title": {
          "text": "Median Understanding"
         }
        },
        "yaxis11": {
         "anchor": "x11",
         "domain": [
          0.5208333333333334,
          0.5659722222222223
         ],
         "title": {
          "text": "Median Ease"
         }
        },
        "yaxis12": {
         "anchor": "x12",
         "domain": [
          0.5208333333333334,
          0.5659722222222223
         ]
        },
        "yaxis13": {
         "anchor": "x13",
         "domain": [
          0.4340277777777778,
          0.4791666666666667
         ],
         "title": {
          "text": "Mode Application"
         }
        },
        "yaxis14": {
         "anchor": "x14",
         "domain": [
          0.4340277777777778,
          0.4791666666666667
         ],
         "title": {
          "text": "Mode Relevance"
         }
        },
        "yaxis15": {
         "anchor": "x15",
         "domain": [
          0.3472222222222222,
          0.3923611111111111
         ],
         "title": {
          "text": "Mode Insight"
         }
        },
        "yaxis16": {
         "anchor": "x16",
         "domain": [
          0.3472222222222222,
          0.3923611111111111
         ],
         "title": {
          "text": "Mode Understanding"
         }
        },
        "yaxis17": {
         "anchor": "x17",
         "domain": [
          0.2604166666666667,
          0.3055555555555556
         ],
         "title": {
          "text": "Mode Ease"
         }
        },
        "yaxis18": {
         "anchor": "x18",
         "domain": [
          0.2604166666666667,
          0.3055555555555556
         ]
        },
        "yaxis19": {
         "anchor": "x19",
         "domain": [
          0.1736111111111111,
          0.21875
         ],
         "title": {
          "text": "Standard deviation Application"
         }
        },
        "yaxis2": {
         "anchor": "x2",
         "domain": [
          0.9548611111111112,
          1
         ],
         "title": {
          "text": "Bayesian estimated mean Relevance"
         }
        },
        "yaxis20": {
         "anchor": "x20",
         "domain": [
          0.1736111111111111,
          0.21875
         ],
         "title": {
          "text": "Standard deviation Relevance"
         }
        },
        "yaxis21": {
         "anchor": "x21",
         "domain": [
          0.08680555555555555,
          0.13194444444444445
         ],
         "title": {
          "text": "Standard deviation Insight"
         }
        },
        "yaxis22": {
         "anchor": "x22",
         "domain": [
          0.08680555555555555,
          0.13194444444444445
         ],
         "title": {
          "text": "Standard deviation Understanding"
         }
        },
        "yaxis23": {
         "anchor": "x23",
         "domain": [
          0,
          0.045138888888888895
         ],
         "title": {
          "text": "Standard deviation Ease"
         }
        },
        "yaxis24": {
         "anchor": "x24",
         "domain": [
          0,
          0.045138888888888895
         ]
        },
        "yaxis3": {
         "anchor": "x3",
         "domain": [
          0.8680555555555556,
          0.9131944444444444
         ],
         "title": {
          "text": "Bayesian estimated mean Insight"
         }
        },
        "yaxis4": {
         "anchor": "x4",
         "domain": [
          0.8680555555555556,
          0.9131944444444444
         ],
         "title": {
          "text": "Bayesian estimated mean Understanding"
         }
        },
        "yaxis5": {
         "anchor": "x5",
         "domain": [
          0.78125,
          0.8263888888888888
         ],
         "title": {
          "text": "Bayesian estimated mean Ease"
         }
        },
        "yaxis6": {
         "anchor": "x6",
         "domain": [
          0.78125,
          0.8263888888888888
         ]
        },
        "yaxis7": {
         "anchor": "x7",
         "domain": [
          0.6944444444444444,
          0.7395833333333333
         ],
         "title": {
          "text": "Median Application"
         }
        },
        "yaxis8": {
         "anchor": "x8",
         "domain": [
          0.6944444444444444,
          0.7395833333333333
         ],
         "title": {
          "text": "Median Relevance"
         }
        },
        "yaxis9": {
         "anchor": "x9",
         "domain": [
          0.6076388888888888,
          0.6527777777777777
         ],
         "title": {
          "text": "Median Insight"
         }
        }
       }
      }
     },
     "metadata": {},
     "output_type": "display_data"
    }
   ],
   "source": [
    "functions = [\n",
    "            lambda x: bayesian_mean(x, categories), \n",
    "            lambda x: pd.Series(np.nanmedian(x, axis=0), index=courses), \n",
    "            lambda x: pd.Series(stats.mode(x, nan_policy=\"omit\")[0].data[0], index=courses),\n",
    "            lambda x: x.std().droplevel(1),\n",
    "]\n",
    "function_to_name = {function: function_name for function, function_name in zip(functions, [\"Bayesian estimated mean\", \"Median\", \"Mode\", \"Standard deviation\"])}\n",
    "rows = len(functions) * 3\n",
    "cols = 2\n",
    "subtitles = np.empty((rows, cols), dtype=\"object\")\n",
    "for f_i, function in enumerate(functions):\n",
    "    for c_i, criterion in enumerate(criteria):\n",
    "        row = f_i * 3 + int(c_i / 2)\n",
    "        col = c_i % 2\n",
    "        subtitles[row, col] = (f\"{function_to_name.get(function)} {criterion} score for each course\")\n",
    "\n",
    "\n",
    "fig = make_subplots(rows=len(functions) * 3, cols=2, \n",
    "        subplot_titles=subtitles.reshape(-1))\n",
    "        \n",
    "for f_i, function in enumerate(functions):\n",
    "    for c_i, criterion in enumerate(criteria):\n",
    "        row = f_i * 3 + int(c_i / 2 + 1)\n",
    "        col = c_i % 2 + 1\n",
    "        course_to_criterion = function(df.loc[[(subject, criterion) for subject in courses]].T)\n",
    "\n",
    "        scatter = px.scatter(course_to_criterion, color=categories, symbol=categories)\n",
    "        for trace in scatter.select_traces():\n",
    "            # Only show legend once\n",
    "            if f_i == c_i == 0:\n",
    "                trace.showlegend = True\n",
    "            else:\n",
    "                trace.showlegend = False\n",
    "\n",
    "            fig.add_trace(\n",
    "                trace,\n",
    "                row=row, col=col\n",
    "            )\n",
    "        fig.update_yaxes(\n",
    "            title=f\"{function_to_name.get(function)} {criterion}\",\n",
    "            row=row, col=col\n",
    "        )\n",
    "    remove_double_naming_in_legend(fig)\n",
    "    fig.update_layout(height=5000, width=2400)\n",
    "fig.write_image(\"images/rankings_of_criteria.png\")\n",
    "fig"
   ]
  },
  {
   "cell_type": "markdown",
   "metadata": {},
   "source": [
    "### Scores "
   ]
  },
  {
   "cell_type": "code",
   "execution_count": 40,
   "metadata": {},
   "outputs": [],
   "source": [
    "scores_df = get_scores_df(df, criteria, categories)"
   ]
  },
  {
   "cell_type": "code",
   "execution_count": 41,
   "metadata": {},
   "outputs": [],
   "source": [
    "i = 0\n",
    "course_to_num_ranking = {}\n",
    "while i < len(df):\n",
    "    course_to_num_ranking.update({df.iloc[i].name[0]:len(df.iloc[i].dropna())})\n",
    "    i += 5\n",
    "course_to_num_ranking_series = pd.Series(course_to_num_ranking)"
   ]
  },
  {
   "cell_type": "code",
   "execution_count": 42,
   "metadata": {},
   "outputs": [
    {
     "data": {
      "application/vnd.plotly.v1+json": {
       "config": {
        "plotlyServerURL": "https://plot.ly"
       },
       "data": [
        {
         "hovertemplate": "color=Chemistry<br>symbol=Chemistry<br>index=%{x}<br>value=%{y}<extra></extra>",
         "legendgroup": "Chemistry, Chemistry",
         "marker": {
          "color": "#636efa",
          "symbol": "circle"
         },
         "mode": "markers",
         "name": "Chemistry",
         "orientation": "v",
         "showlegend": true,
         "type": "scatter",
         "x": [
          "CHEM103",
          "CHEM101"
         ],
         "xaxis": "x",
         "y": [
          0.2653846153846154,
          0.4281065088757396
         ],
         "yaxis": "y"
        },
        {
         "hovertemplate": "color=Physics<br>symbol=Physics<br>index=%{x}<br>value=%{y}<extra></extra>",
         "legendgroup": "Physics, Physics",
         "marker": {
          "color": "#EF553B",
          "symbol": "diamond"
         },
         "mode": "markers",
         "name": "Physics",
         "orientation": "v",
         "showlegend": true,
         "type": "scatter",
         "x": [
          "PHYS210",
          "PHYS104",
          "PHYS103"
         ],
         "xaxis": "x",
         "y": [
          0.303015873015873,
          0.5352513227513227,
          0.551859410430839
         ],
         "yaxis": "y"
        },
        {
         "hovertemplate": "color=Humanities<br>symbol=Humanities<br>index=%{x}<br>value=%{y}<extra></extra>",
         "legendgroup": "Humanities, Humanities",
         "marker": {
          "color": "#00cc96",
          "symbol": "square"
         },
         "mode": "markers",
         "name": "Humanities",
         "orientation": "v",
         "showlegend": true,
         "type": "scatter",
         "x": [
          "ENTREPRENEUR101",
          "ARB100",
          "FAJAB101",
          "NAHAJ101",
          "TECH101",
          "ENGLISH110",
          "ENGLISH100"
         ],
         "xaxis": "x",
         "y": [
          0.46652343543901975,
          0.4995668820974944,
          0.5067214863059019,
          0.5739942135786292,
          0.5979951037973016,
          0.6853936349364921,
          0.7424240249546372
         ],
         "yaxis": "y"
        },
        {
         "hovertemplate": "color=Computer science<br>symbol=Computer science<br>index=%{x}<br>value=%{y}<extra></extra>",
         "legendgroup": "Computer science, Computer science",
         "marker": {
          "color": "#ab63fa",
          "symbol": "x"
         },
         "mode": "markers",
         "name": "Computer science",
         "orientation": "v",
         "showlegend": true,
         "type": "scatter",
         "x": [
          "CSC484",
          "CSC343",
          "CSC443",
          "CSC453",
          "CSC478",
          "CSC476",
          "CSC340",
          "CSC304",
          "CSC489",
          "CSC227",
          "CSC380",
          "CSC113",
          "CSC361",
          "CSC339",
          "CSC215",
          "CSC496",
          "CSC220",
          "CSC212",
          "CSC462",
          "CSC111",
          "CSC311",
          "CSC329"
         ],
         "xaxis": "x",
         "y": [
          0.47656922370558746,
          0.4945711529631984,
          0.5521897412351958,
          0.5745711529631984,
          0.5765692237055873,
          0.5765692237055873,
          0.5770711529631984,
          0.5876569223705588,
          0.5982846118527937,
          0.6220711529631984,
          0.6456569223705587,
          0.6612745556696606,
          0.682367031957941,
          0.6870711529631984,
          0.6973965804117319,
          0.7393138447411174,
          0.7651426567005081,
          0.8173608606728441,
          0.8294282039509312,
          0.8354692302646848,
          0.8470711529631985,
          0.8645711529631984
         ],
         "yaxis": "y"
        },
        {
         "hovertemplate": "color=Islamics<br>symbol=Islamics<br>index=%{x}<br>value=%{y}<extra></extra>",
         "legendgroup": "Islamics, Islamics",
         "marker": {
          "color": "#FFA15A",
          "symbol": "cross"
         },
         "mode": "markers",
         "name": "Islamics",
         "orientation": "v",
         "showlegend": true,
         "type": "scatter",
         "x": [
          "SALAM108",
          "SALAM107"
         ],
         "xaxis": "x",
         "y": [
          0.5147443181818182,
          0.5998140495867769
         ],
         "yaxis": "y"
        },
        {
         "hovertemplate": "color=Mathematics<br>symbol=Mathematics<br>index=%{x}<br>value=%{y}<extra></extra>",
         "legendgroup": "Mathematics, Mathematics",
         "marker": {
          "color": "#19d3f3",
          "symbol": "circle"
         },
         "mode": "markers",
         "name": "Mathematics",
         "orientation": "v",
         "showlegend": true,
         "type": "scatter",
         "x": [
          "MATH106",
          "MATH244",
          "MATH281",
          "STAT101",
          "MATH101",
          "MATH151"
         ],
         "xaxis": "x",
         "y": [
          0.6543131868131868,
          0.6855059523809521,
          0.740551948051948,
          0.7681593406593408,
          0.7990051020408163,
          0.8232908163265307
         ],
         "yaxis": "y"
        },
        {
         "marker": {
          "color": "rgba(100, 100, 100, 0.3)"
         },
         "name": "Percentage of data points",
         "type": "bar",
         "x": [
          "ENGLISH100",
          "ARB100",
          "MATH101",
          "CHEM101",
          "STAT101",
          "TECH101",
          "ENTREPRENEUR101",
          "FAJAB101",
          "NAHAJ101",
          "ENGLISH110",
          "SALAM107",
          "PHYS104",
          "MATH106",
          "CSC111",
          "MATH151",
          "SALAM108",
          "CSC113",
          "CSC220",
          "MATH244",
          "CSC212",
          "CSC215",
          "MATH281",
          "CSC304",
          "CSC380",
          "CSC227",
          "CSC311",
          "CSC339",
          "CSC343",
          "CSC361",
          "CSC329",
          "CSC340",
          "CSC453",
          "CSC496",
          "PHYS210",
          "PHYS103",
          "CHEM103",
          "CSC443",
          "CSC462",
          "CSC476",
          "CSC478",
          "CSC484",
          "CSC489"
         ],
         "y": [
          0.2199073442818239,
          0.2199073442818239,
          0.2199073442818239,
          0.2041996768331222,
          0.2041996768331222,
          0.2041996768331222,
          0.18849200938442048,
          0.1727843419357188,
          0.1727843419357188,
          0.15707667448701707,
          0.1727843419357188,
          0.18849200938442048,
          0.2041996768331222,
          0.2199073442818239,
          0.2199073442818239,
          0.12566133958961365,
          0.2041996768331222,
          0.1727843419357188,
          0.18849200938442048,
          0.1727843419357188,
          0.14136900703831537,
          0.1727843419357188,
          0.15707667448701707,
          0.15707667448701707,
          0.12566133958961365,
          0.12566133958961365,
          0.12566133958961365,
          0.12566133958961365,
          0.10995367214091195,
          0.12566133958961365,
          0.12566133958961365,
          0.12566133958961365,
          0.07853833724350853,
          0.015707667448701706,
          0.10995367214091195,
          0.015707667448701706,
          0.04712300234610512,
          0.09424600469221024,
          0.015707667448701706,
          0.015707667448701706,
          0.015707667448701706,
          0.03141533489740341
         ]
        }
       ],
       "layout": {
        "height": 1000,
        "legend": {
         "title": {
          "text": "color, symbol"
         },
         "tracegroupgap": 0
        },
        "template": {
         "data": {
          "bar": [
           {
            "error_x": {
             "color": "#f2f5fa"
            },
            "error_y": {
             "color": "#f2f5fa"
            },
            "marker": {
             "line": {
              "color": "rgb(17,17,17)",
              "width": 0.5
             },
             "pattern": {
              "fillmode": "overlay",
              "size": 10,
              "solidity": 0.2
             }
            },
            "type": "bar"
           }
          ],
          "barpolar": [
           {
            "marker": {
             "line": {
              "color": "rgb(17,17,17)",
              "width": 0.5
             },
             "pattern": {
              "fillmode": "overlay",
              "size": 10,
              "solidity": 0.2
             }
            },
            "type": "barpolar"
           }
          ],
          "carpet": [
           {
            "aaxis": {
             "endlinecolor": "#A2B1C6",
             "gridcolor": "#506784",
             "linecolor": "#506784",
             "minorgridcolor": "#506784",
             "startlinecolor": "#A2B1C6"
            },
            "baxis": {
             "endlinecolor": "#A2B1C6",
             "gridcolor": "#506784",
             "linecolor": "#506784",
             "minorgridcolor": "#506784",
             "startlinecolor": "#A2B1C6"
            },
            "type": "carpet"
           }
          ],
          "choropleth": [
           {
            "colorbar": {
             "outlinewidth": 0,
             "ticks": ""
            },
            "type": "choropleth"
           }
          ],
          "contour": [
           {
            "colorbar": {
             "outlinewidth": 0,
             "ticks": ""
            },
            "colorscale": [
             [
              0,
              "#0d0887"
             ],
             [
              0.1111111111111111,
              "#46039f"
             ],
             [
              0.2222222222222222,
              "#7201a8"
             ],
             [
              0.3333333333333333,
              "#9c179e"
             ],
             [
              0.4444444444444444,
              "#bd3786"
             ],
             [
              0.5555555555555556,
              "#d8576b"
             ],
             [
              0.6666666666666666,
              "#ed7953"
             ],
             [
              0.7777777777777778,
              "#fb9f3a"
             ],
             [
              0.8888888888888888,
              "#fdca26"
             ],
             [
              1,
              "#f0f921"
             ]
            ],
            "type": "contour"
           }
          ],
          "contourcarpet": [
           {
            "colorbar": {
             "outlinewidth": 0,
             "ticks": ""
            },
            "type": "contourcarpet"
           }
          ],
          "heatmap": [
           {
            "colorbar": {
             "outlinewidth": 0,
             "ticks": ""
            },
            "colorscale": [
             [
              0,
              "#0d0887"
             ],
             [
              0.1111111111111111,
              "#46039f"
             ],
             [
              0.2222222222222222,
              "#7201a8"
             ],
             [
              0.3333333333333333,
              "#9c179e"
             ],
             [
              0.4444444444444444,
              "#bd3786"
             ],
             [
              0.5555555555555556,
              "#d8576b"
             ],
             [
              0.6666666666666666,
              "#ed7953"
             ],
             [
              0.7777777777777778,
              "#fb9f3a"
             ],
             [
              0.8888888888888888,
              "#fdca26"
             ],
             [
              1,
              "#f0f921"
             ]
            ],
            "type": "heatmap"
           }
          ],
          "heatmapgl": [
           {
            "colorbar": {
             "outlinewidth": 0,
             "ticks": ""
            },
            "colorscale": [
             [
              0,
              "#0d0887"
             ],
             [
              0.1111111111111111,
              "#46039f"
             ],
             [
              0.2222222222222222,
              "#7201a8"
             ],
             [
              0.3333333333333333,
              "#9c179e"
             ],
             [
              0.4444444444444444,
              "#bd3786"
             ],
             [
              0.5555555555555556,
              "#d8576b"
             ],
             [
              0.6666666666666666,
              "#ed7953"
             ],
             [
              0.7777777777777778,
              "#fb9f3a"
             ],
             [
              0.8888888888888888,
              "#fdca26"
             ],
             [
              1,
              "#f0f921"
             ]
            ],
            "type": "heatmapgl"
           }
          ],
          "histogram": [
           {
            "marker": {
             "pattern": {
              "fillmode": "overlay",
              "size": 10,
              "solidity": 0.2
             }
            },
            "type": "histogram"
           }
          ],
          "histogram2d": [
           {
            "colorbar": {
             "outlinewidth": 0,
             "ticks": ""
            },
            "colorscale": [
             [
              0,
              "#0d0887"
             ],
             [
              0.1111111111111111,
              "#46039f"
             ],
             [
              0.2222222222222222,
              "#7201a8"
             ],
             [
              0.3333333333333333,
              "#9c179e"
             ],
             [
              0.4444444444444444,
              "#bd3786"
             ],
             [
              0.5555555555555556,
              "#d8576b"
             ],
             [
              0.6666666666666666,
              "#ed7953"
             ],
             [
              0.7777777777777778,
              "#fb9f3a"
             ],
             [
              0.8888888888888888,
              "#fdca26"
             ],
             [
              1,
              "#f0f921"
             ]
            ],
            "type": "histogram2d"
           }
          ],
          "histogram2dcontour": [
           {
            "colorbar": {
             "outlinewidth": 0,
             "ticks": ""
            },
            "colorscale": [
             [
              0,
              "#0d0887"
             ],
             [
              0.1111111111111111,
              "#46039f"
             ],
             [
              0.2222222222222222,
              "#7201a8"
             ],
             [
              0.3333333333333333,
              "#9c179e"
             ],
             [
              0.4444444444444444,
              "#bd3786"
             ],
             [
              0.5555555555555556,
              "#d8576b"
             ],
             [
              0.6666666666666666,
              "#ed7953"
             ],
             [
              0.7777777777777778,
              "#fb9f3a"
             ],
             [
              0.8888888888888888,
              "#fdca26"
             ],
             [
              1,
              "#f0f921"
             ]
            ],
            "type": "histogram2dcontour"
           }
          ],
          "mesh3d": [
           {
            "colorbar": {
             "outlinewidth": 0,
             "ticks": ""
            },
            "type": "mesh3d"
           }
          ],
          "parcoords": [
           {
            "line": {
             "colorbar": {
              "outlinewidth": 0,
              "ticks": ""
             }
            },
            "type": "parcoords"
           }
          ],
          "pie": [
           {
            "automargin": true,
            "type": "pie"
           }
          ],
          "scatter": [
           {
            "marker": {
             "line": {
              "color": "#283442"
             }
            },
            "type": "scatter"
           }
          ],
          "scatter3d": [
           {
            "line": {
             "colorbar": {
              "outlinewidth": 0,
              "ticks": ""
             }
            },
            "marker": {
             "colorbar": {
              "outlinewidth": 0,
              "ticks": ""
             }
            },
            "type": "scatter3d"
           }
          ],
          "scattercarpet": [
           {
            "marker": {
             "colorbar": {
              "outlinewidth": 0,
              "ticks": ""
             }
            },
            "type": "scattercarpet"
           }
          ],
          "scattergeo": [
           {
            "marker": {
             "colorbar": {
              "outlinewidth": 0,
              "ticks": ""
             }
            },
            "type": "scattergeo"
           }
          ],
          "scattergl": [
           {
            "marker": {
             "line": {
              "color": "#283442"
             }
            },
            "type": "scattergl"
           }
          ],
          "scattermapbox": [
           {
            "marker": {
             "colorbar": {
              "outlinewidth": 0,
              "ticks": ""
             }
            },
            "type": "scattermapbox"
           }
          ],
          "scatterpolar": [
           {
            "marker": {
             "colorbar": {
              "outlinewidth": 0,
              "ticks": ""
             }
            },
            "type": "scatterpolar"
           }
          ],
          "scatterpolargl": [
           {
            "marker": {
             "colorbar": {
              "outlinewidth": 0,
              "ticks": ""
             }
            },
            "type": "scatterpolargl"
           }
          ],
          "scatterternary": [
           {
            "marker": {
             "colorbar": {
              "outlinewidth": 0,
              "ticks": ""
             }
            },
            "type": "scatterternary"
           }
          ],
          "surface": [
           {
            "colorbar": {
             "outlinewidth": 0,
             "ticks": ""
            },
            "colorscale": [
             [
              0,
              "#0d0887"
             ],
             [
              0.1111111111111111,
              "#46039f"
             ],
             [
              0.2222222222222222,
              "#7201a8"
             ],
             [
              0.3333333333333333,
              "#9c179e"
             ],
             [
              0.4444444444444444,
              "#bd3786"
             ],
             [
              0.5555555555555556,
              "#d8576b"
             ],
             [
              0.6666666666666666,
              "#ed7953"
             ],
             [
              0.7777777777777778,
              "#fb9f3a"
             ],
             [
              0.8888888888888888,
              "#fdca26"
             ],
             [
              1,
              "#f0f921"
             ]
            ],
            "type": "surface"
           }
          ],
          "table": [
           {
            "cells": {
             "fill": {
              "color": "#506784"
             },
             "line": {
              "color": "rgb(17,17,17)"
             }
            },
            "header": {
             "fill": {
              "color": "#2a3f5f"
             },
             "line": {
              "color": "rgb(17,17,17)"
             }
            },
            "type": "table"
           }
          ]
         },
         "layout": {
          "annotationdefaults": {
           "arrowcolor": "#f2f5fa",
           "arrowhead": 0,
           "arrowwidth": 1
          },
          "autotypenumbers": "strict",
          "coloraxis": {
           "colorbar": {
            "outlinewidth": 0,
            "ticks": ""
           }
          },
          "colorscale": {
           "diverging": [
            [
             0,
             "#8e0152"
            ],
            [
             0.1,
             "#c51b7d"
            ],
            [
             0.2,
             "#de77ae"
            ],
            [
             0.3,
             "#f1b6da"
            ],
            [
             0.4,
             "#fde0ef"
            ],
            [
             0.5,
             "#f7f7f7"
            ],
            [
             0.6,
             "#e6f5d0"
            ],
            [
             0.7,
             "#b8e186"
            ],
            [
             0.8,
             "#7fbc41"
            ],
            [
             0.9,
             "#4d9221"
            ],
            [
             1,
             "#276419"
            ]
           ],
           "sequential": [
            [
             0,
             "#0d0887"
            ],
            [
             0.1111111111111111,
             "#46039f"
            ],
            [
             0.2222222222222222,
             "#7201a8"
            ],
            [
             0.3333333333333333,
             "#9c179e"
            ],
            [
             0.4444444444444444,
             "#bd3786"
            ],
            [
             0.5555555555555556,
             "#d8576b"
            ],
            [
             0.6666666666666666,
             "#ed7953"
            ],
            [
             0.7777777777777778,
             "#fb9f3a"
            ],
            [
             0.8888888888888888,
             "#fdca26"
            ],
            [
             1,
             "#f0f921"
            ]
           ],
           "sequentialminus": [
            [
             0,
             "#0d0887"
            ],
            [
             0.1111111111111111,
             "#46039f"
            ],
            [
             0.2222222222222222,
             "#7201a8"
            ],
            [
             0.3333333333333333,
             "#9c179e"
            ],
            [
             0.4444444444444444,
             "#bd3786"
            ],
            [
             0.5555555555555556,
             "#d8576b"
            ],
            [
             0.6666666666666666,
             "#ed7953"
            ],
            [
             0.7777777777777778,
             "#fb9f3a"
            ],
            [
             0.8888888888888888,
             "#fdca26"
            ],
            [
             1,
             "#f0f921"
            ]
           ]
          },
          "colorway": [
           "#636efa",
           "#EF553B",
           "#00cc96",
           "#ab63fa",
           "#FFA15A",
           "#19d3f3",
           "#FF6692",
           "#B6E880",
           "#FF97FF",
           "#FECB52"
          ],
          "font": {
           "color": "#f2f5fa"
          },
          "geo": {
           "bgcolor": "rgb(17,17,17)",
           "lakecolor": "rgb(17,17,17)",
           "landcolor": "rgb(17,17,17)",
           "showlakes": true,
           "showland": true,
           "subunitcolor": "#506784"
          },
          "hoverlabel": {
           "align": "left"
          },
          "hovermode": "closest",
          "mapbox": {
           "style": "dark"
          },
          "paper_bgcolor": "rgb(17,17,17)",
          "plot_bgcolor": "rgb(17,17,17)",
          "polar": {
           "angularaxis": {
            "gridcolor": "#506784",
            "linecolor": "#506784",
            "ticks": ""
           },
           "bgcolor": "rgb(17,17,17)",
           "radialaxis": {
            "gridcolor": "#506784",
            "linecolor": "#506784",
            "ticks": ""
           }
          },
          "scene": {
           "xaxis": {
            "backgroundcolor": "rgb(17,17,17)",
            "gridcolor": "#506784",
            "gridwidth": 2,
            "linecolor": "#506784",
            "showbackground": true,
            "ticks": "",
            "zerolinecolor": "#C8D4E3"
           },
           "yaxis": {
            "backgroundcolor": "rgb(17,17,17)",
            "gridcolor": "#506784",
            "gridwidth": 2,
            "linecolor": "#506784",
            "showbackground": true,
            "ticks": "",
            "zerolinecolor": "#C8D4E3"
           },
           "zaxis": {
            "backgroundcolor": "rgb(17,17,17)",
            "gridcolor": "#506784",
            "gridwidth": 2,
            "linecolor": "#506784",
            "showbackground": true,
            "ticks": "",
            "zerolinecolor": "#C8D4E3"
           }
          },
          "shapedefaults": {
           "line": {
            "color": "#f2f5fa"
           }
          },
          "sliderdefaults": {
           "bgcolor": "#C8D4E3",
           "bordercolor": "rgb(17,17,17)",
           "borderwidth": 1,
           "tickwidth": 0
          },
          "ternary": {
           "aaxis": {
            "gridcolor": "#506784",
            "linecolor": "#506784",
            "ticks": ""
           },
           "baxis": {
            "gridcolor": "#506784",
            "linecolor": "#506784",
            "ticks": ""
           },
           "bgcolor": "rgb(17,17,17)",
           "caxis": {
            "gridcolor": "#506784",
            "linecolor": "#506784",
            "ticks": ""
           }
          },
          "title": {
           "x": 0.05
          },
          "updatemenudefaults": {
           "bgcolor": "#506784",
           "borderwidth": 0
          },
          "xaxis": {
           "automargin": true,
           "gridcolor": "#283442",
           "linecolor": "#506784",
           "ticks": "",
           "title": {
            "standoff": 15
           },
           "zerolinecolor": "#283442",
           "zerolinewidth": 2
          },
          "yaxis": {
           "automargin": true,
           "gridcolor": "#283442",
           "linecolor": "#506784",
           "ticks": "",
           "title": {
            "standoff": 15
           },
           "zerolinecolor": "#283442",
           "zerolinewidth": 2
          }
         }
        },
        "title": {
         "text": "Course ranking (General)"
        },
        "width": 2000,
        "xaxis": {
         "anchor": "y",
         "domain": [
          0,
          1
         ],
         "title": {
          "text": "Course"
         }
        },
        "yaxis": {
         "anchor": "x",
         "domain": [
          0,
          1
         ],
         "title": {
          "text": "Ranking"
         }
        }
       }
      }
     },
     "metadata": {},
     "output_type": "display_data"
    }
   ],
   "source": [
    "sorted_categories = course_to_category((scores_df.sum().sort_values() / 25).index)\n",
    "fig = px.scatter(scores_df.sum().sort_values() / 25, color=sorted_categories, symbol=sorted_categories, title=\"Course ranking (General)\")\n",
    "fig.update_xaxes(title=\"Course\")\n",
    "fig.update_yaxes(title=\"Ranking\")\n",
    "\n",
    "remove_double_naming_in_legend(fig)\n",
    "\n",
    "fig.add_trace(\n",
    "    go.Bar(x=course_to_num_ranking_series.index, y=course_to_num_ranking_series / np.linalg.norm(course_to_num_ranking_series), marker={\"color\": \"rgba(100, 100, 100, 0.3)\"}, name=\"Percentage of data points\"),\n",
    "    # row=2, col=1\n",
    ")\n",
    "fig.update_layout(height=1000, width=2000)\n",
    "fig.write_image(\"images/Course ranking (General).png\")\n",
    "fig"
   ]
  },
  {
   "cell_type": "markdown",
   "metadata": {},
   "source": [
    "### Weighted scores"
   ]
  },
  {
   "cell_type": "code",
   "execution_count": 43,
   "metadata": {},
   "outputs": [],
   "source": [
    "weights_real_world = {\"Application\": 1.5, \"Relevance\": 1, \"Understanding\": 0.2, \"Ease\": 0.5}\n",
    "weights_academic = {\"Insight\": 1.5, \"Understanding\": 1.5}\n",
    "\n",
    "scores_df_real_world = scores_df.apply(lambda x: weights_real_world.get(x.name, 0) * x, axis=1)\n",
    "scores_df_academic = scores_df.apply(lambda x: weights_academic.get(x.name, 0) * x, axis=1)\n",
    "\n",
    "standardized_scores_df_real_world = scores_df_real_world.sum() / max(scores_df_real_world.sum())\n",
    "standardized_scores_df_academic = scores_df_academic.sum() / max(scores_df_academic.sum())"
   ]
  },
  {
   "cell_type": "code",
   "execution_count": 44,
   "metadata": {},
   "outputs": [],
   "source": [
    "weighted_scores = pd.DataFrame([standardized_scores_df_real_world, standardized_scores_df_academic]).T\n",
    "weighted_scores.columns = (\"Real-world score\", \"Academic score\")"
   ]
  },
  {
   "cell_type": "code",
   "execution_count": 45,
   "metadata": {},
   "outputs": [
    {
     "data": {
      "application/vnd.plotly.v1+json": {
       "config": {
        "plotlyServerURL": "https://plot.ly"
       },
       "data": [
        {
         "hovertemplate": "<b>%{hovertext}</b><br><br>color=Humanities<br>symbol=Humanities<br>Real-world score=%{x}<br>Academic score=%{y}<br>index=%{text}<extra></extra>",
         "hovertext": [
          "ENGLISH100",
          "ARB100",
          "TECH101",
          "ENTREPRENEUR101",
          "FAJAB101",
          "NAHAJ101",
          "ENGLISH110"
         ],
         "legendgroup": "Humanities, Humanities",
         "marker": {
          "color": "#636efa",
          "symbol": "circle"
         },
         "mode": "markers+text",
         "name": "Humanities",
         "orientation": "v",
         "showlegend": true,
         "text": [
          "ENGLISH100",
          "ARB100",
          "TECH101",
          "ENTREPRENEUR101",
          "FAJAB101",
          "NAHAJ101",
          "ENGLISH110"
         ],
         "textposition": "top center",
         "type": "scatter",
         "x": [
          1,
          0.5823590336134833,
          0.7612682821884287,
          0.5236278833526192,
          0.5488622853671052,
          0.5978286752552875,
          0.9201938085561934
         ],
         "xaxis": "x",
         "y": [
          0.5116475176072071,
          0.4658697712036071,
          0.4482985366458385,
          0.43321624555573646,
          0.471544775158682,
          0.6463325341542453,
          0.4813140931116103
         ],
         "yaxis": "y"
        },
        {
         "hovertemplate": "<b>%{hovertext}</b><br><br>color=Mathematics<br>symbol=Mathematics<br>Real-world score=%{x}<br>Academic score=%{y}<br>index=%{text}<extra></extra>",
         "hovertext": [
          "MATH101",
          "STAT101",
          "MATH106",
          "MATH151",
          "MATH244",
          "MATH281"
         ],
         "legendgroup": "Mathematics, Mathematics",
         "marker": {
          "color": "#EF553B",
          "symbol": "diamond"
         },
         "mode": "markers+text",
         "name": "Mathematics",
         "orientation": "v",
         "showlegend": true,
         "text": [
          "MATH101",
          "STAT101",
          "MATH106",
          "MATH151",
          "MATH244",
          "MATH281"
         ],
         "textposition": "top center",
         "type": "scatter",
         "x": [
          0.928888622111867,
          0.9482776329448291,
          0.7809097193290484,
          0.9579969318903214,
          0.8625224241037935,
          0.8175511369416316
         ],
         "xaxis": "x",
         "y": [
          0.9165541514141736,
          0.8062949080318182,
          0.6994801664234183,
          0.8517023440090739,
          0.713264037955203,
          0.8363688095557125
         ],
         "yaxis": "y"
        },
        {
         "hovertemplate": "<b>%{hovertext}</b><br><br>color=Chemistry<br>symbol=Chemistry<br>Real-world score=%{x}<br>Academic score=%{y}<br>index=%{text}<extra></extra>",
         "hovertext": [
          "CHEM101",
          "CHEM103"
         ],
         "legendgroup": "Chemistry, Chemistry",
         "marker": {
          "color": "#00cc96",
          "symbol": "square"
         },
         "mode": "markers+text",
         "name": "Chemistry",
         "orientation": "v",
         "showlegend": true,
         "text": [
          "CHEM101",
          "CHEM103"
         ],
         "textposition": "top center",
         "type": "scatter",
         "x": [
          0.5049239593867213,
          0.30243436507607296
         ],
         "xaxis": "x",
         "y": [
          0.39518294195652054,
          0.2773075022525764
         ],
         "yaxis": "y"
        },
        {
         "hovertemplate": "<b>%{hovertext}</b><br><br>color=Islamics<br>symbol=Islamics<br>Real-world score=%{x}<br>Academic score=%{y}<br>index=%{text}<extra></extra>",
         "hovertext": [
          "SALAM107",
          "SALAM108"
         ],
         "legendgroup": "Islamics, Islamics",
         "marker": {
          "color": "#ab63fa",
          "symbol": "x"
         },
         "mode": "markers+text",
         "name": "Islamics",
         "orientation": "v",
         "showlegend": true,
         "text": [
          "SALAM107",
          "SALAM108"
         ],
         "textposition": "top center",
         "type": "scatter",
         "x": [
          0.7047924027820107,
          0.6284590504830494
         ],
         "xaxis": "x",
         "y": [
          0.5134942149531905,
          0.35890663533333766
         ],
         "yaxis": "y"
        },
        {
         "hovertemplate": "<b>%{hovertext}</b><br><br>color=Physics<br>symbol=Physics<br>Real-world score=%{x}<br>Academic score=%{y}<br>index=%{text}<extra></extra>",
         "hovertext": [
          "PHYS104",
          "PHYS210",
          "PHYS103"
         ],
         "legendgroup": "Physics, Physics",
         "marker": {
          "color": "#FFA15A",
          "symbol": "cross"
         },
         "mode": "markers+text",
         "name": "Physics",
         "orientation": "v",
         "showlegend": true,
         "text": [
          "PHYS104",
          "PHYS210",
          "PHYS103"
         ],
         "textposition": "top center",
         "type": "scatter",
         "x": [
          0.6552978943071582,
          0.3404687905101125,
          0.6459915384456227
         ],
         "xaxis": "x",
         "y": [
          0.5217462130613998,
          0.33273639747061046,
          0.619755601112229
         ],
         "yaxis": "y"
        },
        {
         "hovertemplate": "<b>%{hovertext}</b><br><br>color=Computer science<br>symbol=Computer science<br>Real-world score=%{x}<br>Academic score=%{y}<br>index=%{text}<extra></extra>",
         "hovertext": [
          "CSC111",
          "CSC113",
          "CSC220",
          "CSC212",
          "CSC215",
          "CSC304",
          "CSC380",
          "CSC227",
          "CSC311",
          "CSC339",
          "CSC343",
          "CSC361",
          "CSC329",
          "CSC340",
          "CSC453",
          "CSC496",
          "CSC443",
          "CSC462",
          "CSC476",
          "CSC478",
          "CSC484",
          "CSC489"
         ],
         "legendgroup": "Computer science, Computer science",
         "marker": {
          "color": "#19d3f3",
          "symbol": "circle"
         },
         "mode": "markers+text",
         "name": "Computer science",
         "orientation": "v",
         "showlegend": true,
         "text": [
          "CSC111",
          "CSC113",
          "CSC220",
          "CSC212",
          "CSC215",
          "CSC304",
          "CSC380",
          "CSC227",
          "CSC311",
          "CSC339",
          "CSC343",
          "CSC361",
          "CSC329",
          "CSC340",
          "CSC453",
          "CSC496",
          "CSC443",
          "CSC462",
          "CSC476",
          "CSC478",
          "CSC484",
          "CSC489"
         ],
         "textposition": "top center",
         "type": "scatter",
         "x": [
          0.9735410132927623,
          0.7553986416291718,
          0.8995089425379268,
          0.8971411708572455,
          0.8359907081405559,
          0.6521071822462956,
          0.7679835667382637,
          0.7438186188506567,
          0.9701673668452885,
          0.6587717311501295,
          0.626436195722325,
          0.7761686262800545,
          0.9887713735297788,
          0.5909999925137721,
          0.6379529617651047,
          0.9158335773268509,
          0.6522962830671125,
          0.9970735889488251,
          0.6740982930517211,
          0.6670110524100106,
          0.5890514053511942,
          0.686095748130107
         ],
         "xaxis": "x",
         "y": [
          0.899105791346157,
          0.6683648469338158,
          0.8530035300540187,
          1,
          0.7873913206681789,
          0.5057041795454014,
          0.692629977360101,
          0.6254543030812267,
          0.965926291958001,
          0.8591115503496013,
          0.4452044266170521,
          0.7834715374125162,
          0.972602213308526,
          0.7255931233391015,
          0.6321302244317517,
          0.7977788758740032,
          0.45731106998807364,
          0.8873464415791689,
          0.6242300187054222,
          0.5708226479012223,
          0.46400790629282246,
          0.6058555487758105
         ],
         "yaxis": "y"
        }
       ],
       "layout": {
        "height": 1000,
        "legend": {
         "title": {
          "text": "color, symbol"
         },
         "tracegroupgap": 0
        },
        "template": {
         "data": {
          "bar": [
           {
            "error_x": {
             "color": "#f2f5fa"
            },
            "error_y": {
             "color": "#f2f5fa"
            },
            "marker": {
             "line": {
              "color": "rgb(17,17,17)",
              "width": 0.5
             },
             "pattern": {
              "fillmode": "overlay",
              "size": 10,
              "solidity": 0.2
             }
            },
            "type": "bar"
           }
          ],
          "barpolar": [
           {
            "marker": {
             "line": {
              "color": "rgb(17,17,17)",
              "width": 0.5
             },
             "pattern": {
              "fillmode": "overlay",
              "size": 10,
              "solidity": 0.2
             }
            },
            "type": "barpolar"
           }
          ],
          "carpet": [
           {
            "aaxis": {
             "endlinecolor": "#A2B1C6",
             "gridcolor": "#506784",
             "linecolor": "#506784",
             "minorgridcolor": "#506784",
             "startlinecolor": "#A2B1C6"
            },
            "baxis": {
             "endlinecolor": "#A2B1C6",
             "gridcolor": "#506784",
             "linecolor": "#506784",
             "minorgridcolor": "#506784",
             "startlinecolor": "#A2B1C6"
            },
            "type": "carpet"
           }
          ],
          "choropleth": [
           {
            "colorbar": {
             "outlinewidth": 0,
             "ticks": ""
            },
            "type": "choropleth"
           }
          ],
          "contour": [
           {
            "colorbar": {
             "outlinewidth": 0,
             "ticks": ""
            },
            "colorscale": [
             [
              0,
              "#0d0887"
             ],
             [
              0.1111111111111111,
              "#46039f"
             ],
             [
              0.2222222222222222,
              "#7201a8"
             ],
             [
              0.3333333333333333,
              "#9c179e"
             ],
             [
              0.4444444444444444,
              "#bd3786"
             ],
             [
              0.5555555555555556,
              "#d8576b"
             ],
             [
              0.6666666666666666,
              "#ed7953"
             ],
             [
              0.7777777777777778,
              "#fb9f3a"
             ],
             [
              0.8888888888888888,
              "#fdca26"
             ],
             [
              1,
              "#f0f921"
             ]
            ],
            "type": "contour"
           }
          ],
          "contourcarpet": [
           {
            "colorbar": {
             "outlinewidth": 0,
             "ticks": ""
            },
            "type": "contourcarpet"
           }
          ],
          "heatmap": [
           {
            "colorbar": {
             "outlinewidth": 0,
             "ticks": ""
            },
            "colorscale": [
             [
              0,
              "#0d0887"
             ],
             [
              0.1111111111111111,
              "#46039f"
             ],
             [
              0.2222222222222222,
              "#7201a8"
             ],
             [
              0.3333333333333333,
              "#9c179e"
             ],
             [
              0.4444444444444444,
              "#bd3786"
             ],
             [
              0.5555555555555556,
              "#d8576b"
             ],
             [
              0.6666666666666666,
              "#ed7953"
             ],
             [
              0.7777777777777778,
              "#fb9f3a"
             ],
             [
              0.8888888888888888,
              "#fdca26"
             ],
             [
              1,
              "#f0f921"
             ]
            ],
            "type": "heatmap"
           }
          ],
          "heatmapgl": [
           {
            "colorbar": {
             "outlinewidth": 0,
             "ticks": ""
            },
            "colorscale": [
             [
              0,
              "#0d0887"
             ],
             [
              0.1111111111111111,
              "#46039f"
             ],
             [
              0.2222222222222222,
              "#7201a8"
             ],
             [
              0.3333333333333333,
              "#9c179e"
             ],
             [
              0.4444444444444444,
              "#bd3786"
             ],
             [
              0.5555555555555556,
              "#d8576b"
             ],
             [
              0.6666666666666666,
              "#ed7953"
             ],
             [
              0.7777777777777778,
              "#fb9f3a"
             ],
             [
              0.8888888888888888,
              "#fdca26"
             ],
             [
              1,
              "#f0f921"
             ]
            ],
            "type": "heatmapgl"
           }
          ],
          "histogram": [
           {
            "marker": {
             "pattern": {
              "fillmode": "overlay",
              "size": 10,
              "solidity": 0.2
             }
            },
            "type": "histogram"
           }
          ],
          "histogram2d": [
           {
            "colorbar": {
             "outlinewidth": 0,
             "ticks": ""
            },
            "colorscale": [
             [
              0,
              "#0d0887"
             ],
             [
              0.1111111111111111,
              "#46039f"
             ],
             [
              0.2222222222222222,
              "#7201a8"
             ],
             [
              0.3333333333333333,
              "#9c179e"
             ],
             [
              0.4444444444444444,
              "#bd3786"
             ],
             [
              0.5555555555555556,
              "#d8576b"
             ],
             [
              0.6666666666666666,
              "#ed7953"
             ],
             [
              0.7777777777777778,
              "#fb9f3a"
             ],
             [
              0.8888888888888888,
              "#fdca26"
             ],
             [
              1,
              "#f0f921"
             ]
            ],
            "type": "histogram2d"
           }
          ],
          "histogram2dcontour": [
           {
            "colorbar": {
             "outlinewidth": 0,
             "ticks": ""
            },
            "colorscale": [
             [
              0,
              "#0d0887"
             ],
             [
              0.1111111111111111,
              "#46039f"
             ],
             [
              0.2222222222222222,
              "#7201a8"
             ],
             [
              0.3333333333333333,
              "#9c179e"
             ],
             [
              0.4444444444444444,
              "#bd3786"
             ],
             [
              0.5555555555555556,
              "#d8576b"
             ],
             [
              0.6666666666666666,
              "#ed7953"
             ],
             [
              0.7777777777777778,
              "#fb9f3a"
             ],
             [
              0.8888888888888888,
              "#fdca26"
             ],
             [
              1,
              "#f0f921"
             ]
            ],
            "type": "histogram2dcontour"
           }
          ],
          "mesh3d": [
           {
            "colorbar": {
             "outlinewidth": 0,
             "ticks": ""
            },
            "type": "mesh3d"
           }
          ],
          "parcoords": [
           {
            "line": {
             "colorbar": {
              "outlinewidth": 0,
              "ticks": ""
             }
            },
            "type": "parcoords"
           }
          ],
          "pie": [
           {
            "automargin": true,
            "type": "pie"
           }
          ],
          "scatter": [
           {
            "marker": {
             "line": {
              "color": "#283442"
             }
            },
            "type": "scatter"
           }
          ],
          "scatter3d": [
           {
            "line": {
             "colorbar": {
              "outlinewidth": 0,
              "ticks": ""
             }
            },
            "marker": {
             "colorbar": {
              "outlinewidth": 0,
              "ticks": ""
             }
            },
            "type": "scatter3d"
           }
          ],
          "scattercarpet": [
           {
            "marker": {
             "colorbar": {
              "outlinewidth": 0,
              "ticks": ""
             }
            },
            "type": "scattercarpet"
           }
          ],
          "scattergeo": [
           {
            "marker": {
             "colorbar": {
              "outlinewidth": 0,
              "ticks": ""
             }
            },
            "type": "scattergeo"
           }
          ],
          "scattergl": [
           {
            "marker": {
             "line": {
              "color": "#283442"
             }
            },
            "type": "scattergl"
           }
          ],
          "scattermapbox": [
           {
            "marker": {
             "colorbar": {
              "outlinewidth": 0,
              "ticks": ""
             }
            },
            "type": "scattermapbox"
           }
          ],
          "scatterpolar": [
           {
            "marker": {
             "colorbar": {
              "outlinewidth": 0,
              "ticks": ""
             }
            },
            "type": "scatterpolar"
           }
          ],
          "scatterpolargl": [
           {
            "marker": {
             "colorbar": {
              "outlinewidth": 0,
              "ticks": ""
             }
            },
            "type": "scatterpolargl"
           }
          ],
          "scatterternary": [
           {
            "marker": {
             "colorbar": {
              "outlinewidth": 0,
              "ticks": ""
             }
            },
            "type": "scatterternary"
           }
          ],
          "surface": [
           {
            "colorbar": {
             "outlinewidth": 0,
             "ticks": ""
            },
            "colorscale": [
             [
              0,
              "#0d0887"
             ],
             [
              0.1111111111111111,
              "#46039f"
             ],
             [
              0.2222222222222222,
              "#7201a8"
             ],
             [
              0.3333333333333333,
              "#9c179e"
             ],
             [
              0.4444444444444444,
              "#bd3786"
             ],
             [
              0.5555555555555556,
              "#d8576b"
             ],
             [
              0.6666666666666666,
              "#ed7953"
             ],
             [
              0.7777777777777778,
              "#fb9f3a"
             ],
             [
              0.8888888888888888,
              "#fdca26"
             ],
             [
              1,
              "#f0f921"
             ]
            ],
            "type": "surface"
           }
          ],
          "table": [
           {
            "cells": {
             "fill": {
              "color": "#506784"
             },
             "line": {
              "color": "rgb(17,17,17)"
             }
            },
            "header": {
             "fill": {
              "color": "#2a3f5f"
             },
             "line": {
              "color": "rgb(17,17,17)"
             }
            },
            "type": "table"
           }
          ]
         },
         "layout": {
          "annotationdefaults": {
           "arrowcolor": "#f2f5fa",
           "arrowhead": 0,
           "arrowwidth": 1
          },
          "autotypenumbers": "strict",
          "coloraxis": {
           "colorbar": {
            "outlinewidth": 0,
            "ticks": ""
           }
          },
          "colorscale": {
           "diverging": [
            [
             0,
             "#8e0152"
            ],
            [
             0.1,
             "#c51b7d"
            ],
            [
             0.2,
             "#de77ae"
            ],
            [
             0.3,
             "#f1b6da"
            ],
            [
             0.4,
             "#fde0ef"
            ],
            [
             0.5,
             "#f7f7f7"
            ],
            [
             0.6,
             "#e6f5d0"
            ],
            [
             0.7,
             "#b8e186"
            ],
            [
             0.8,
             "#7fbc41"
            ],
            [
             0.9,
             "#4d9221"
            ],
            [
             1,
             "#276419"
            ]
           ],
           "sequential": [
            [
             0,
             "#0d0887"
            ],
            [
             0.1111111111111111,
             "#46039f"
            ],
            [
             0.2222222222222222,
             "#7201a8"
            ],
            [
             0.3333333333333333,
             "#9c179e"
            ],
            [
             0.4444444444444444,
             "#bd3786"
            ],
            [
             0.5555555555555556,
             "#d8576b"
            ],
            [
             0.6666666666666666,
             "#ed7953"
            ],
            [
             0.7777777777777778,
             "#fb9f3a"
            ],
            [
             0.8888888888888888,
             "#fdca26"
            ],
            [
             1,
             "#f0f921"
            ]
           ],
           "sequentialminus": [
            [
             0,
             "#0d0887"
            ],
            [
             0.1111111111111111,
             "#46039f"
            ],
            [
             0.2222222222222222,
             "#7201a8"
            ],
            [
             0.3333333333333333,
             "#9c179e"
            ],
            [
             0.4444444444444444,
             "#bd3786"
            ],
            [
             0.5555555555555556,
             "#d8576b"
            ],
            [
             0.6666666666666666,
             "#ed7953"
            ],
            [
             0.7777777777777778,
             "#fb9f3a"
            ],
            [
             0.8888888888888888,
             "#fdca26"
            ],
            [
             1,
             "#f0f921"
            ]
           ]
          },
          "colorway": [
           "#636efa",
           "#EF553B",
           "#00cc96",
           "#ab63fa",
           "#FFA15A",
           "#19d3f3",
           "#FF6692",
           "#B6E880",
           "#FF97FF",
           "#FECB52"
          ],
          "font": {
           "color": "#f2f5fa"
          },
          "geo": {
           "bgcolor": "rgb(17,17,17)",
           "lakecolor": "rgb(17,17,17)",
           "landcolor": "rgb(17,17,17)",
           "showlakes": true,
           "showland": true,
           "subunitcolor": "#506784"
          },
          "hoverlabel": {
           "align": "left"
          },
          "hovermode": "closest",
          "mapbox": {
           "style": "dark"
          },
          "paper_bgcolor": "rgb(17,17,17)",
          "plot_bgcolor": "rgb(17,17,17)",
          "polar": {
           "angularaxis": {
            "gridcolor": "#506784",
            "linecolor": "#506784",
            "ticks": ""
           },
           "bgcolor": "rgb(17,17,17)",
           "radialaxis": {
            "gridcolor": "#506784",
            "linecolor": "#506784",
            "ticks": ""
           }
          },
          "scene": {
           "xaxis": {
            "backgroundcolor": "rgb(17,17,17)",
            "gridcolor": "#506784",
            "gridwidth": 2,
            "linecolor": "#506784",
            "showbackground": true,
            "ticks": "",
            "zerolinecolor": "#C8D4E3"
           },
           "yaxis": {
            "backgroundcolor": "rgb(17,17,17)",
            "gridcolor": "#506784",
            "gridwidth": 2,
            "linecolor": "#506784",
            "showbackground": true,
            "ticks": "",
            "zerolinecolor": "#C8D4E3"
           },
           "zaxis": {
            "backgroundcolor": "rgb(17,17,17)",
            "gridcolor": "#506784",
            "gridwidth": 2,
            "linecolor": "#506784",
            "showbackground": true,
            "ticks": "",
            "zerolinecolor": "#C8D4E3"
           }
          },
          "shapedefaults": {
           "line": {
            "color": "#f2f5fa"
           }
          },
          "sliderdefaults": {
           "bgcolor": "#C8D4E3",
           "bordercolor": "rgb(17,17,17)",
           "borderwidth": 1,
           "tickwidth": 0
          },
          "ternary": {
           "aaxis": {
            "gridcolor": "#506784",
            "linecolor": "#506784",
            "ticks": ""
           },
           "baxis": {
            "gridcolor": "#506784",
            "linecolor": "#506784",
            "ticks": ""
           },
           "bgcolor": "rgb(17,17,17)",
           "caxis": {
            "gridcolor": "#506784",
            "linecolor": "#506784",
            "ticks": ""
           }
          },
          "title": {
           "x": 0.05
          },
          "updatemenudefaults": {
           "bgcolor": "#506784",
           "borderwidth": 0
          },
          "xaxis": {
           "automargin": true,
           "gridcolor": "#283442",
           "linecolor": "#506784",
           "ticks": "",
           "title": {
            "standoff": 15
           },
           "zerolinecolor": "#283442",
           "zerolinewidth": 2
          },
          "yaxis": {
           "automargin": true,
           "gridcolor": "#283442",
           "linecolor": "#506784",
           "ticks": "",
           "title": {
            "standoff": 15
           },
           "zerolinecolor": "#283442",
           "zerolinewidth": 2
          }
         }
        },
        "title": {
         "text": "Course ranking (Real-world Vs. Academic)"
        },
        "width": 1600,
        "xaxis": {
         "anchor": "y",
         "domain": [
          0,
          1
         ],
         "title": {
          "text": "Real-world score"
         }
        },
        "yaxis": {
         "anchor": "x",
         "domain": [
          0,
          1
         ],
         "title": {
          "text": "Academic score"
         }
        }
       }
      }
     },
     "metadata": {},
     "output_type": "display_data"
    }
   ],
   "source": [
    "sorted_categories = course_to_category(weighted_scores.index)\n",
    "fig = px.scatter(weighted_scores, x=\"Real-world score\", y=\"Academic score\",color=sorted_categories, symbol=sorted_categories, title=\"Course ranking (Real-world Vs. Academic)\",\n",
    "                hover_name=weighted_scores.index, text=weighted_scores.index)\n",
    "\n",
    "remove_double_naming_in_legend(fig)\n",
    "\n",
    "fig.update_traces(textposition=\"top center\")\n",
    "fig.update_layout(height=1000, width=1600)\n",
    "fig.write_image(\"images/Course ranking (Real-world Vs. Academic).png\")\n",
    "fig"
   ]
  },
  {
   "cell_type": "markdown",
   "metadata": {},
   "source": [
    "# Comments"
   ]
  },
  {
   "cell_type": "code",
   "execution_count": 46,
   "metadata": {},
   "outputs": [
    {
     "data": {
      "application/vnd.plotly.v1+json": {
       "config": {
        "plotlyServerURL": "https://plot.ly"
       },
       "data": [],
       "layout": {
        "annotations": [
         {
          "showarrow": false,
          "text": "ENGLISH100",
          "x": 1,
          "y": 1
         },
         {
          "showarrow": false,
          "text": "She let me love the English and can speak fluently than than the past ",
          "x": 7,
          "y": 1
         },
         {
          "showarrow": false,
          "text": "ARB100",
          "x": 1,
          "y": 2
         },
         {
          "showarrow": false,
          "text": "So accurate and gives examples that helps so well ",
          "x": 7,
          "y": 2
         },
         {
          "showarrow": false,
          "text": "MATH101",
          "x": 1,
          "y": 3
         },
         {
          "showarrow": false,
          "text": "This was the best course in my college experience!",
          "x": 7,
          "y": 3
         },
         {
          "showarrow": false,
          "text": "PHYS104",
          "x": 1,
          "y": 4
         },
         {
          "showarrow": false,
          "text": "Just unexpected exam with the material we have studied ",
          "x": 7,
          "y": 4
         },
         {
          "showarrow": false,
          "text": "CSC453",
          "x": 1,
          "y": 5
         },
         {
          "showarrow": false,
          "text": "Till now I do not know the purpose of it and how it actually truly works. ",
          "x": 7,
          "y": 5
         }
        ],
        "height": 1200,
        "template": {
         "data": {
          "bar": [
           {
            "error_x": {
             "color": "#f2f5fa"
            },
            "error_y": {
             "color": "#f2f5fa"
            },
            "marker": {
             "line": {
              "color": "rgb(17,17,17)",
              "width": 0.5
             },
             "pattern": {
              "fillmode": "overlay",
              "size": 10,
              "solidity": 0.2
             }
            },
            "type": "bar"
           }
          ],
          "barpolar": [
           {
            "marker": {
             "line": {
              "color": "rgb(17,17,17)",
              "width": 0.5
             },
             "pattern": {
              "fillmode": "overlay",
              "size": 10,
              "solidity": 0.2
             }
            },
            "type": "barpolar"
           }
          ],
          "carpet": [
           {
            "aaxis": {
             "endlinecolor": "#A2B1C6",
             "gridcolor": "#506784",
             "linecolor": "#506784",
             "minorgridcolor": "#506784",
             "startlinecolor": "#A2B1C6"
            },
            "baxis": {
             "endlinecolor": "#A2B1C6",
             "gridcolor": "#506784",
             "linecolor": "#506784",
             "minorgridcolor": "#506784",
             "startlinecolor": "#A2B1C6"
            },
            "type": "carpet"
           }
          ],
          "choropleth": [
           {
            "colorbar": {
             "outlinewidth": 0,
             "ticks": ""
            },
            "type": "choropleth"
           }
          ],
          "contour": [
           {
            "colorbar": {
             "outlinewidth": 0,
             "ticks": ""
            },
            "colorscale": [
             [
              0,
              "#0d0887"
             ],
             [
              0.1111111111111111,
              "#46039f"
             ],
             [
              0.2222222222222222,
              "#7201a8"
             ],
             [
              0.3333333333333333,
              "#9c179e"
             ],
             [
              0.4444444444444444,
              "#bd3786"
             ],
             [
              0.5555555555555556,
              "#d8576b"
             ],
             [
              0.6666666666666666,
              "#ed7953"
             ],
             [
              0.7777777777777778,
              "#fb9f3a"
             ],
             [
              0.8888888888888888,
              "#fdca26"
             ],
             [
              1,
              "#f0f921"
             ]
            ],
            "type": "contour"
           }
          ],
          "contourcarpet": [
           {
            "colorbar": {
             "outlinewidth": 0,
             "ticks": ""
            },
            "type": "contourcarpet"
           }
          ],
          "heatmap": [
           {
            "colorbar": {
             "outlinewidth": 0,
             "ticks": ""
            },
            "colorscale": [
             [
              0,
              "#0d0887"
             ],
             [
              0.1111111111111111,
              "#46039f"
             ],
             [
              0.2222222222222222,
              "#7201a8"
             ],
             [
              0.3333333333333333,
              "#9c179e"
             ],
             [
              0.4444444444444444,
              "#bd3786"
             ],
             [
              0.5555555555555556,
              "#d8576b"
             ],
             [
              0.6666666666666666,
              "#ed7953"
             ],
             [
              0.7777777777777778,
              "#fb9f3a"
             ],
             [
              0.8888888888888888,
              "#fdca26"
             ],
             [
              1,
              "#f0f921"
             ]
            ],
            "type": "heatmap"
           }
          ],
          "heatmapgl": [
           {
            "colorbar": {
             "outlinewidth": 0,
             "ticks": ""
            },
            "colorscale": [
             [
              0,
              "#0d0887"
             ],
             [
              0.1111111111111111,
              "#46039f"
             ],
             [
              0.2222222222222222,
              "#7201a8"
             ],
             [
              0.3333333333333333,
              "#9c179e"
             ],
             [
              0.4444444444444444,
              "#bd3786"
             ],
             [
              0.5555555555555556,
              "#d8576b"
             ],
             [
              0.6666666666666666,
              "#ed7953"
             ],
             [
              0.7777777777777778,
              "#fb9f3a"
             ],
             [
              0.8888888888888888,
              "#fdca26"
             ],
             [
              1,
              "#f0f921"
             ]
            ],
            "type": "heatmapgl"
           }
          ],
          "histogram": [
           {
            "marker": {
             "pattern": {
              "fillmode": "overlay",
              "size": 10,
              "solidity": 0.2
             }
            },
            "type": "histogram"
           }
          ],
          "histogram2d": [
           {
            "colorbar": {
             "outlinewidth": 0,
             "ticks": ""
            },
            "colorscale": [
             [
              0,
              "#0d0887"
             ],
             [
              0.1111111111111111,
              "#46039f"
             ],
             [
              0.2222222222222222,
              "#7201a8"
             ],
             [
              0.3333333333333333,
              "#9c179e"
             ],
             [
              0.4444444444444444,
              "#bd3786"
             ],
             [
              0.5555555555555556,
              "#d8576b"
             ],
             [
              0.6666666666666666,
              "#ed7953"
             ],
             [
              0.7777777777777778,
              "#fb9f3a"
             ],
             [
              0.8888888888888888,
              "#fdca26"
             ],
             [
              1,
              "#f0f921"
             ]
            ],
            "type": "histogram2d"
           }
          ],
          "histogram2dcontour": [
           {
            "colorbar": {
             "outlinewidth": 0,
             "ticks": ""
            },
            "colorscale": [
             [
              0,
              "#0d0887"
             ],
             [
              0.1111111111111111,
              "#46039f"
             ],
             [
              0.2222222222222222,
              "#7201a8"
             ],
             [
              0.3333333333333333,
              "#9c179e"
             ],
             [
              0.4444444444444444,
              "#bd3786"
             ],
             [
              0.5555555555555556,
              "#d8576b"
             ],
             [
              0.6666666666666666,
              "#ed7953"
             ],
             [
              0.7777777777777778,
              "#fb9f3a"
             ],
             [
              0.8888888888888888,
              "#fdca26"
             ],
             [
              1,
              "#f0f921"
             ]
            ],
            "type": "histogram2dcontour"
           }
          ],
          "mesh3d": [
           {
            "colorbar": {
             "outlinewidth": 0,
             "ticks": ""
            },
            "type": "mesh3d"
           }
          ],
          "parcoords": [
           {
            "line": {
             "colorbar": {
              "outlinewidth": 0,
              "ticks": ""
             }
            },
            "type": "parcoords"
           }
          ],
          "pie": [
           {
            "automargin": true,
            "type": "pie"
           }
          ],
          "scatter": [
           {
            "marker": {
             "line": {
              "color": "#283442"
             }
            },
            "type": "scatter"
           }
          ],
          "scatter3d": [
           {
            "line": {
             "colorbar": {
              "outlinewidth": 0,
              "ticks": ""
             }
            },
            "marker": {
             "colorbar": {
              "outlinewidth": 0,
              "ticks": ""
             }
            },
            "type": "scatter3d"
           }
          ],
          "scattercarpet": [
           {
            "marker": {
             "colorbar": {
              "outlinewidth": 0,
              "ticks": ""
             }
            },
            "type": "scattercarpet"
           }
          ],
          "scattergeo": [
           {
            "marker": {
             "colorbar": {
              "outlinewidth": 0,
              "ticks": ""
             }
            },
            "type": "scattergeo"
           }
          ],
          "scattergl": [
           {
            "marker": {
             "line": {
              "color": "#283442"
             }
            },
            "type": "scattergl"
           }
          ],
          "scattermapbox": [
           {
            "marker": {
             "colorbar": {
              "outlinewidth": 0,
              "ticks": ""
             }
            },
            "type": "scattermapbox"
           }
          ],
          "scatterpolar": [
           {
            "marker": {
             "colorbar": {
              "outlinewidth": 0,
              "ticks": ""
             }
            },
            "type": "scatterpolar"
           }
          ],
          "scatterpolargl": [
           {
            "marker": {
             "colorbar": {
              "outlinewidth": 0,
              "ticks": ""
             }
            },
            "type": "scatterpolargl"
           }
          ],
          "scatterternary": [
           {
            "marker": {
             "colorbar": {
              "outlinewidth": 0,
              "ticks": ""
             }
            },
            "type": "scatterternary"
           }
          ],
          "surface": [
           {
            "colorbar": {
             "outlinewidth": 0,
             "ticks": ""
            },
            "colorscale": [
             [
              0,
              "#0d0887"
             ],
             [
              0.1111111111111111,
              "#46039f"
             ],
             [
              0.2222222222222222,
              "#7201a8"
             ],
             [
              0.3333333333333333,
              "#9c179e"
             ],
             [
              0.4444444444444444,
              "#bd3786"
             ],
             [
              0.5555555555555556,
              "#d8576b"
             ],
             [
              0.6666666666666666,
              "#ed7953"
             ],
             [
              0.7777777777777778,
              "#fb9f3a"
             ],
             [
              0.8888888888888888,
              "#fdca26"
             ],
             [
              1,
              "#f0f921"
             ]
            ],
            "type": "surface"
           }
          ],
          "table": [
           {
            "cells": {
             "fill": {
              "color": "#506784"
             },
             "line": {
              "color": "rgb(17,17,17)"
             }
            },
            "header": {
             "fill": {
              "color": "#2a3f5f"
             },
             "line": {
              "color": "rgb(17,17,17)"
             }
            },
            "type": "table"
           }
          ]
         },
         "layout": {
          "annotationdefaults": {
           "arrowcolor": "#f2f5fa",
           "arrowhead": 0,
           "arrowwidth": 1
          },
          "autotypenumbers": "strict",
          "coloraxis": {
           "colorbar": {
            "outlinewidth": 0,
            "ticks": ""
           }
          },
          "colorscale": {
           "diverging": [
            [
             0,
             "#8e0152"
            ],
            [
             0.1,
             "#c51b7d"
            ],
            [
             0.2,
             "#de77ae"
            ],
            [
             0.3,
             "#f1b6da"
            ],
            [
             0.4,
             "#fde0ef"
            ],
            [
             0.5,
             "#f7f7f7"
            ],
            [
             0.6,
             "#e6f5d0"
            ],
            [
             0.7,
             "#b8e186"
            ],
            [
             0.8,
             "#7fbc41"
            ],
            [
             0.9,
             "#4d9221"
            ],
            [
             1,
             "#276419"
            ]
           ],
           "sequential": [
            [
             0,
             "#0d0887"
            ],
            [
             0.1111111111111111,
             "#46039f"
            ],
            [
             0.2222222222222222,
             "#7201a8"
            ],
            [
             0.3333333333333333,
             "#9c179e"
            ],
            [
             0.4444444444444444,
             "#bd3786"
            ],
            [
             0.5555555555555556,
             "#d8576b"
            ],
            [
             0.6666666666666666,
             "#ed7953"
            ],
            [
             0.7777777777777778,
             "#fb9f3a"
            ],
            [
             0.8888888888888888,
             "#fdca26"
            ],
            [
             1,
             "#f0f921"
            ]
           ],
           "sequentialminus": [
            [
             0,
             "#0d0887"
            ],
            [
             0.1111111111111111,
             "#46039f"
            ],
            [
             0.2222222222222222,
             "#7201a8"
            ],
            [
             0.3333333333333333,
             "#9c179e"
            ],
            [
             0.4444444444444444,
             "#bd3786"
            ],
            [
             0.5555555555555556,
             "#d8576b"
            ],
            [
             0.6666666666666666,
             "#ed7953"
            ],
            [
             0.7777777777777778,
             "#fb9f3a"
            ],
            [
             0.8888888888888888,
             "#fdca26"
            ],
            [
             1,
             "#f0f921"
            ]
           ]
          },
          "colorway": [
           "#636efa",
           "#EF553B",
           "#00cc96",
           "#ab63fa",
           "#FFA15A",
           "#19d3f3",
           "#FF6692",
           "#B6E880",
           "#FF97FF",
           "#FECB52"
          ],
          "font": {
           "color": "#f2f5fa"
          },
          "geo": {
           "bgcolor": "rgb(17,17,17)",
           "lakecolor": "rgb(17,17,17)",
           "landcolor": "rgb(17,17,17)",
           "showlakes": true,
           "showland": true,
           "subunitcolor": "#506784"
          },
          "hoverlabel": {
           "align": "left"
          },
          "hovermode": "closest",
          "mapbox": {
           "style": "dark"
          },
          "paper_bgcolor": "rgb(17,17,17)",
          "plot_bgcolor": "rgb(17,17,17)",
          "polar": {
           "angularaxis": {
            "gridcolor": "#506784",
            "linecolor": "#506784",
            "ticks": ""
           },
           "bgcolor": "rgb(17,17,17)",
           "radialaxis": {
            "gridcolor": "#506784",
            "linecolor": "#506784",
            "ticks": ""
           }
          },
          "scene": {
           "xaxis": {
            "backgroundcolor": "rgb(17,17,17)",
            "gridcolor": "#506784",
            "gridwidth": 2,
            "linecolor": "#506784",
            "showbackground": true,
            "ticks": "",
            "zerolinecolor": "#C8D4E3"
           },
           "yaxis": {
            "backgroundcolor": "rgb(17,17,17)",
            "gridcolor": "#506784",
            "gridwidth": 2,
            "linecolor": "#506784",
            "showbackground": true,
            "ticks": "",
            "zerolinecolor": "#C8D4E3"
           },
           "zaxis": {
            "backgroundcolor": "rgb(17,17,17)",
            "gridcolor": "#506784",
            "gridwidth": 2,
            "linecolor": "#506784",
            "showbackground": true,
            "ticks": "",
            "zerolinecolor": "#C8D4E3"
           }
          },
          "shapedefaults": {
           "line": {
            "color": "#f2f5fa"
           }
          },
          "sliderdefaults": {
           "bgcolor": "#C8D4E3",
           "bordercolor": "rgb(17,17,17)",
           "borderwidth": 1,
           "tickwidth": 0
          },
          "ternary": {
           "aaxis": {
            "gridcolor": "#506784",
            "linecolor": "#506784",
            "ticks": ""
           },
           "baxis": {
            "gridcolor": "#506784",
            "linecolor": "#506784",
            "ticks": ""
           },
           "bgcolor": "rgb(17,17,17)",
           "caxis": {
            "gridcolor": "#506784",
            "linecolor": "#506784",
            "ticks": ""
           }
          },
          "title": {
           "x": 0.05
          },
          "updatemenudefaults": {
           "bgcolor": "#506784",
           "borderwidth": 0
          },
          "xaxis": {
           "automargin": true,
           "gridcolor": "#283442",
           "linecolor": "#506784",
           "ticks": "",
           "title": {
            "standoff": 15
           },
           "zerolinecolor": "#283442",
           "zerolinewidth": 2
          },
          "yaxis": {
           "automargin": true,
           "gridcolor": "#283442",
           "linecolor": "#506784",
           "ticks": "",
           "title": {
            "standoff": 15
           },
           "zerolinecolor": "#283442",
           "zerolinewidth": 2
          }
         }
        },
        "width": 1800,
        "xaxis": {
         "range": [
          0,
          10
         ],
         "showgrid": false
        },
        "yaxis": {
         "range": [
          0,
          6
         ],
         "showgrid": false
        }
       }
      }
     },
     "metadata": {},
     "output_type": "display_data"
    }
   ],
   "source": [
    "fig = go.Figure()\n",
    "count = 1\n",
    "for course, comments in course_to_comments.items():\n",
    "    if len(comments):\n",
    "        fig.add_annotation(\n",
    "            x=1, y=count,\n",
    "            text=course,\n",
    "            showarrow=False,\n",
    "        )\n",
    "        for comment in comments:\n",
    "            fig.add_annotation(\n",
    "                x=7, y=count,\n",
    "                text=comment,\n",
    "                showarrow=False,\n",
    "            )\n",
    "            count += 1\n",
    "fig.update_xaxes(showgrid=False)\n",
    "fig.update_yaxes(showgrid=False)\n",
    "fig.update_layout(height=1200, width=1800, yaxis_range=[0, count], xaxis_range=[0, 10])\n",
    "fig.write_image(\"images/comments.png\")\n",
    "fig"
   ]
  },
  {
   "cell_type": "markdown",
   "metadata": {},
   "source": [
    "## Meta-stats"
   ]
  },
  {
   "cell_type": "code",
   "execution_count": 47,
   "metadata": {},
   "outputs": [],
   "source": [
    "rating_counts_per_criteria = []\n",
    "for criterion in criteria:\n",
    "    rating_counts_per_criteria.append(df_by_regex(f\".*{criterion}.*\").apply(pd.value_counts).sum(axis=1))\n",
    "rating_counts_df = pd.DataFrame(rating_counts_per_criteria).T\n",
    "rating_counts_df.columns = criteria"
   ]
  },
  {
   "cell_type": "code",
   "execution_count": 48,
   "metadata": {},
   "outputs": [
    {
     "data": {
      "text/html": [
       "<div>\n",
       "<style scoped>\n",
       "    .dataframe tbody tr th:only-of-type {\n",
       "        vertical-align: middle;\n",
       "    }\n",
       "\n",
       "    .dataframe tbody tr th {\n",
       "        vertical-align: top;\n",
       "    }\n",
       "\n",
       "    .dataframe thead th {\n",
       "        text-align: right;\n",
       "    }\n",
       "</style>\n",
       "<table border=\"1\" class=\"dataframe\">\n",
       "  <thead>\n",
       "    <tr style=\"text-align: right;\">\n",
       "      <th></th>\n",
       "      <th>Application</th>\n",
       "      <th>Relevance</th>\n",
       "      <th>Insight</th>\n",
       "      <th>Understanding</th>\n",
       "      <th>Ease</th>\n",
       "    </tr>\n",
       "  </thead>\n",
       "  <tbody>\n",
       "    <tr>\n",
       "      <th>1.0</th>\n",
       "      <td>48.0</td>\n",
       "      <td>41.0</td>\n",
       "      <td>58.0</td>\n",
       "      <td>43.0</td>\n",
       "      <td>39.0</td>\n",
       "    </tr>\n",
       "    <tr>\n",
       "      <th>2.0</th>\n",
       "      <td>46.0</td>\n",
       "      <td>68.0</td>\n",
       "      <td>63.0</td>\n",
       "      <td>56.0</td>\n",
       "      <td>46.0</td>\n",
       "    </tr>\n",
       "    <tr>\n",
       "      <th>3.0</th>\n",
       "      <td>93.0</td>\n",
       "      <td>80.0</td>\n",
       "      <td>86.0</td>\n",
       "      <td>81.0</td>\n",
       "      <td>100.0</td>\n",
       "    </tr>\n",
       "    <tr>\n",
       "      <th>4.0</th>\n",
       "      <td>45.0</td>\n",
       "      <td>60.0</td>\n",
       "      <td>61.0</td>\n",
       "      <td>69.0</td>\n",
       "      <td>67.0</td>\n",
       "    </tr>\n",
       "    <tr>\n",
       "      <th>5.0</th>\n",
       "      <td>143.0</td>\n",
       "      <td>127.0</td>\n",
       "      <td>108.0</td>\n",
       "      <td>126.0</td>\n",
       "      <td>124.0</td>\n",
       "    </tr>\n",
       "  </tbody>\n",
       "</table>\n",
       "</div>"
      ],
      "text/plain": [
       "     Application  Relevance  Insight  Understanding   Ease\n",
       "1.0         48.0       41.0     58.0           43.0   39.0\n",
       "2.0         46.0       68.0     63.0           56.0   46.0\n",
       "3.0         93.0       80.0     86.0           81.0  100.0\n",
       "4.0         45.0       60.0     61.0           69.0   67.0\n",
       "5.0        143.0      127.0    108.0          126.0  124.0"
      ]
     },
     "execution_count": 48,
     "metadata": {},
     "output_type": "execute_result"
    }
   ],
   "source": [
    "rating_counts_df"
   ]
  },
  {
   "cell_type": "code",
   "execution_count": 49,
   "metadata": {},
   "outputs": [],
   "source": [
    "rating_counts_raw_criteria = []\n",
    "for criterion in criteria:\n",
    "    rating_counts_raw_criteria.append(np.concatenate(df_by_regex(f\".*{criterion}.*\").values))\n",
    "rating_counts_raw_df = pd.DataFrame(rating_counts_raw_criteria).T\n",
    "rating_counts_raw_df.columns = criteria"
   ]
  },
  {
   "cell_type": "code",
   "execution_count": 50,
   "metadata": {},
   "outputs": [
    {
     "data": {
      "application/vnd.plotly.v1+json": {
       "config": {
        "plotlyServerURL": "https://plot.ly"
       },
       "data": [
        {
         "alignmentgroup": "True",
         "box": {
          "visible": false
         },
         "hovertemplate": "variable=%{x}<br>value=%{y}<extra></extra>",
         "legendgroup": "",
         "marker": {
          "color": "#636efa"
         },
         "name": "",
         "offsetgroup": "",
         "orientation": "v",
         "scalegroup": "True",
         "showlegend": false,
         "type": "violin",
         "x": [
          "Application",
          "Application",
          "Application",
          "Application",
          "Application",
          "Application",
          "Application",
          "Application",
          "Application",
          "Application",
          "Application",
          "Application",
          "Application",
          "Application",
          "Application",
          "Application",
          "Application",
          "Application",
          "Application",
          "Application",
          "Application",
          "Application",
          "Application",
          "Application",
          "Application",
          "Application",
          "Application",
          "Application",
          "Application",
          "Application",
          "Application",
          "Application",
          "Application",
          "Application",
          "Application",
          "Application",
          "Application",
          "Application",
          "Application",
          "Application",
          "Application",
          "Application",
          "Application",
          "Application",
          "Application",
          "Application",
          "Application",
          "Application",
          "Application",
          "Application",
          "Application",
          "Application",
          "Application",
          "Application",
          "Application",
          "Application",
          "Application",
          "Application",
          "Application",
          "Application",
          "Application",
          "Application",
          "Application",
          "Application",
          "Application",
          "Application",
          "Application",
          "Application",
          "Application",
          "Application",
          "Application",
          "Application",
          "Application",
          "Application",
          "Application",
          "Application",
          "Application",
          "Application",
          "Application",
          "Application",
          "Application",
          "Application",
          "Application",
          "Application",
          "Application",
          "Application",
          "Application",
          "Application",
          "Application",
          "Application",
          "Application",
          "Application",
          "Application",
          "Application",
          "Application",
          "Application",
          "Application",
          "Application",
          "Application",
          "Application",
          "Application",
          "Application",
          "Application",
          "Application",
          "Application",
          "Application",
          "Application",
          "Application",
          "Application",
          "Application",
          "Application",
          "Application",
          "Application",
          "Application",
          "Application",
          "Application",
          "Application",
          "Application",
          "Application",
          "Application",
          "Application",
          "Application",
          "Application",
          "Application",
          "Application",
          "Application",
          "Application",
          "Application",
          "Application",
          "Application",
          "Application",
          "Application",
          "Application",
          "Application",
          "Application",
          "Application",
          "Application",
          "Application",
          "Application",
          "Application",
          "Application",
          "Application",
          "Application",
          "Application",
          "Application",
          "Application",
          "Application",
          "Application",
          "Application",
          "Application",
          "Application",
          "Application",
          "Application",
          "Application",
          "Application",
          "Application",
          "Application",
          "Application",
          "Application",
          "Application",
          "Application",
          "Application",
          "Application",
          "Application",
          "Application",
          "Application",
          "Application",
          "Application",
          "Application",
          "Application",
          "Application",
          "Application",
          "Application",
          "Application",
          "Application",
          "Application",
          "Application",
          "Application",
          "Application",
          "Application",
          "Application",
          "Application",
          "Application",
          "Application",
          "Application",
          "Application",
          "Application",
          "Application",
          "Application",
          "Application",
          "Application",
          "Application",
          "Application",
          "Application",
          "Application",
          "Application",
          "Application",
          "Application",
          "Application",
          "Application",
          "Application",
          "Application",
          "Application",
          "Application",
          "Application",
          "Application",
          "Application",
          "Application",
          "Application",
          "Application",
          "Application",
          "Application",
          "Application",
          "Application",
          "Application",
          "Application",
          "Application",
          "Application",
          "Application",
          "Application",
          "Application",
          "Application",
          "Application",
          "Application",
          "Application",
          "Application",
          "Application",
          "Application",
          "Application",
          "Application",
          "Application",
          "Application",
          "Application",
          "Application",
          "Application",
          "Application",
          "Application",
          "Application",
          "Application",
          "Application",
          "Application",
          "Application",
          "Application",
          "Application",
          "Application",
          "Application",
          "Application",
          "Application",
          "Application",
          "Application",
          "Application",
          "Application",
          "Application",
          "Application",
          "Application",
          "Application",
          "Application",
          "Application",
          "Application",
          "Application",
          "Application",
          "Application",
          "Application",
          "Application",
          "Application",
          "Application",
          "Application",
          "Application",
          "Application",
          "Application",
          "Application",
          "Application",
          "Application",
          "Application",
          "Application",
          "Application",
          "Application",
          "Application",
          "Application",
          "Application",
          "Application",
          "Application",
          "Application",
          "Application",
          "Application",
          "Application",
          "Application",
          "Application",
          "Application",
          "Application",
          "Application",
          "Application",
          "Application",
          "Application",
          "Application",
          "Application",
          "Application",
          "Application",
          "Application",
          "Application",
          "Application",
          "Application",
          "Application",
          "Application",
          "Application",
          "Application",
          "Application",
          "Application",
          "Application",
          "Application",
          "Application",
          "Application",
          "Application",
          "Application",
          "Application",
          "Application",
          "Application",
          "Application",
          "Application",
          "Application",
          "Application",
          "Application",
          "Application",
          "Application",
          "Application",
          "Application",
          "Application",
          "Application",
          "Application",
          "Application",
          "Application",
          "Application",
          "Application",
          "Application",
          "Application",
          "Application",
          "Application",
          "Application",
          "Application",
          "Application",
          "Application",
          "Application",
          "Application",
          "Application",
          "Application",
          "Application",
          "Application",
          "Application",
          "Application",
          "Application",
          "Application",
          "Application",
          "Application",
          "Application",
          "Application",
          "Application",
          "Application",
          "Application",
          "Application",
          "Application",
          "Application",
          "Application",
          "Application",
          "Application",
          "Application",
          "Application",
          "Application",
          "Application",
          "Application",
          "Application",
          "Application",
          "Application",
          "Application",
          "Application",
          "Application",
          "Application",
          "Application",
          "Application",
          "Application",
          "Application",
          "Application",
          "Application",
          "Application",
          "Application",
          "Application",
          "Application",
          "Application",
          "Application",
          "Application",
          "Application",
          "Application",
          "Application",
          "Application",
          "Application",
          "Application",
          "Application",
          "Application",
          "Application",
          "Application",
          "Application",
          "Application",
          "Application",
          "Application",
          "Application",
          "Application",
          "Application",
          "Application",
          "Application",
          "Application",
          "Application",
          "Application",
          "Application",
          "Application",
          "Application",
          "Application",
          "Application",
          "Application",
          "Application",
          "Application",
          "Application",
          "Application",
          "Application",
          "Application",
          "Application",
          "Application",
          "Application",
          "Application",
          "Application",
          "Application",
          "Application",
          "Application",
          "Application",
          "Application",
          "Application",
          "Application",
          "Application",
          "Application",
          "Application",
          "Application",
          "Application",
          "Application",
          "Application",
          "Application",
          "Application",
          "Application",
          "Application",
          "Application",
          "Application",
          "Application",
          "Application",
          "Application",
          "Application",
          "Application",
          "Application",
          "Application",
          "Application",
          "Application",
          "Application",
          "Application",
          "Application",
          "Application",
          "Application",
          "Application",
          "Application",
          "Application",
          "Application",
          "Application",
          "Application",
          "Application",
          "Application",
          "Application",
          "Application",
          "Application",
          "Application",
          "Application",
          "Application",
          "Application",
          "Application",
          "Application",
          "Application",
          "Application",
          "Application",
          "Application",
          "Application",
          "Application",
          "Application",
          "Application",
          "Application",
          "Application",
          "Application",
          "Application",
          "Application",
          "Application",
          "Application",
          "Application",
          "Application",
          "Application",
          "Application",
          "Application",
          "Application",
          "Application",
          "Application",
          "Application",
          "Application",
          "Application",
          "Application",
          "Application",
          "Application",
          "Application",
          "Application",
          "Application",
          "Application",
          "Application",
          "Application",
          "Application",
          "Application",
          "Application",
          "Application",
          "Application",
          "Application",
          "Application",
          "Application",
          "Application",
          "Application",
          "Application",
          "Application",
          "Application",
          "Application",
          "Application",
          "Application",
          "Application",
          "Application",
          "Application",
          "Application",
          "Application",
          "Application",
          "Application",
          "Application",
          "Application",
          "Application",
          "Application",
          "Application",
          "Application",
          "Application",
          "Application",
          "Application",
          "Application",
          "Application",
          "Application",
          "Application",
          "Application",
          "Application",
          "Application",
          "Application",
          "Application",
          "Application",
          "Application",
          "Application",
          "Application",
          "Application",
          "Application",
          "Application",
          "Application",
          "Application",
          "Application",
          "Application",
          "Application",
          "Application",
          "Application",
          "Application",
          "Application",
          "Application",
          "Application",
          "Application",
          "Application",
          "Application",
          "Application",
          "Application",
          "Application",
          "Application",
          "Application",
          "Application",
          "Application",
          "Application",
          "Application",
          "Application",
          "Application",
          "Application",
          "Application",
          "Application",
          "Application",
          "Application",
          "Application",
          "Application",
          "Application",
          "Application",
          "Application",
          "Application",
          "Application",
          "Application",
          "Application",
          "Application",
          "Application",
          "Application",
          "Application",
          "Application",
          "Application",
          "Application",
          "Application",
          "Application",
          "Application",
          "Application",
          "Application",
          "Application",
          "Application",
          "Application",
          "Application",
          "Application",
          "Application",
          "Application",
          "Application",
          "Application",
          "Application",
          "Application",
          "Application",
          "Application",
          "Application",
          "Application",
          "Application",
          "Application",
          "Application",
          "Application",
          "Application",
          "Application",
          "Application",
          "Application",
          "Application",
          "Application",
          "Application",
          "Application",
          "Application",
          "Application",
          "Application",
          "Application",
          "Application",
          "Application",
          "Application",
          "Application",
          "Application",
          "Application",
          "Application",
          "Application",
          "Application",
          "Application",
          "Application",
          "Application",
          "Application",
          "Application",
          "Application",
          "Application",
          "Application",
          "Application",
          "Application",
          "Application",
          "Application",
          "Application",
          "Application",
          "Application",
          "Application",
          "Application",
          "Application",
          "Application",
          "Relevance",
          "Relevance",
          "Relevance",
          "Relevance",
          "Relevance",
          "Relevance",
          "Relevance",
          "Relevance",
          "Relevance",
          "Relevance",
          "Relevance",
          "Relevance",
          "Relevance",
          "Relevance",
          "Relevance",
          "Relevance",
          "Relevance",
          "Relevance",
          "Relevance",
          "Relevance",
          "Relevance",
          "Relevance",
          "Relevance",
          "Relevance",
          "Relevance",
          "Relevance",
          "Relevance",
          "Relevance",
          "Relevance",
          "Relevance",
          "Relevance",
          "Relevance",
          "Relevance",
          "Relevance",
          "Relevance",
          "Relevance",
          "Relevance",
          "Relevance",
          "Relevance",
          "Relevance",
          "Relevance",
          "Relevance",
          "Relevance",
          "Relevance",
          "Relevance",
          "Relevance",
          "Relevance",
          "Relevance",
          "Relevance",
          "Relevance",
          "Relevance",
          "Relevance",
          "Relevance",
          "Relevance",
          "Relevance",
          "Relevance",
          "Relevance",
          "Relevance",
          "Relevance",
          "Relevance",
          "Relevance",
          "Relevance",
          "Relevance",
          "Relevance",
          "Relevance",
          "Relevance",
          "Relevance",
          "Relevance",
          "Relevance",
          "Relevance",
          "Relevance",
          "Relevance",
          "Relevance",
          "Relevance",
          "Relevance",
          "Relevance",
          "Relevance",
          "Relevance",
          "Relevance",
          "Relevance",
          "Relevance",
          "Relevance",
          "Relevance",
          "Relevance",
          "Relevance",
          "Relevance",
          "Relevance",
          "Relevance",
          "Relevance",
          "Relevance",
          "Relevance",
          "Relevance",
          "Relevance",
          "Relevance",
          "Relevance",
          "Relevance",
          "Relevance",
          "Relevance",
          "Relevance",
          "Relevance",
          "Relevance",
          "Relevance",
          "Relevance",
          "Relevance",
          "Relevance",
          "Relevance",
          "Relevance",
          "Relevance",
          "Relevance",
          "Relevance",
          "Relevance",
          "Relevance",
          "Relevance",
          "Relevance",
          "Relevance",
          "Relevance",
          "Relevance",
          "Relevance",
          "Relevance",
          "Relevance",
          "Relevance",
          "Relevance",
          "Relevance",
          "Relevance",
          "Relevance",
          "Relevance",
          "Relevance",
          "Relevance",
          "Relevance",
          "Relevance",
          "Relevance",
          "Relevance",
          "Relevance",
          "Relevance",
          "Relevance",
          "Relevance",
          "Relevance",
          "Relevance",
          "Relevance",
          "Relevance",
          "Relevance",
          "Relevance",
          "Relevance",
          "Relevance",
          "Relevance",
          "Relevance",
          "Relevance",
          "Relevance",
          "Relevance",
          "Relevance",
          "Relevance",
          "Relevance",
          "Relevance",
          "Relevance",
          "Relevance",
          "Relevance",
          "Relevance",
          "Relevance",
          "Relevance",
          "Relevance",
          "Relevance",
          "Relevance",
          "Relevance",
          "Relevance",
          "Relevance",
          "Relevance",
          "Relevance",
          "Relevance",
          "Relevance",
          "Relevance",
          "Relevance",
          "Relevance",
          "Relevance",
          "Relevance",
          "Relevance",
          "Relevance",
          "Relevance",
          "Relevance",
          "Relevance",
          "Relevance",
          "Relevance",
          "Relevance",
          "Relevance",
          "Relevance",
          "Relevance",
          "Relevance",
          "Relevance",
          "Relevance",
          "Relevance",
          "Relevance",
          "Relevance",
          "Relevance",
          "Relevance",
          "Relevance",
          "Relevance",
          "Relevance",
          "Relevance",
          "Relevance",
          "Relevance",
          "Relevance",
          "Relevance",
          "Relevance",
          "Relevance",
          "Relevance",
          "Relevance",
          "Relevance",
          "Relevance",
          "Relevance",
          "Relevance",
          "Relevance",
          "Relevance",
          "Relevance",
          "Relevance",
          "Relevance",
          "Relevance",
          "Relevance",
          "Relevance",
          "Relevance",
          "Relevance",
          "Relevance",
          "Relevance",
          "Relevance",
          "Relevance",
          "Relevance",
          "Relevance",
          "Relevance",
          "Relevance",
          "Relevance",
          "Relevance",
          "Relevance",
          "Relevance",
          "Relevance",
          "Relevance",
          "Relevance",
          "Relevance",
          "Relevance",
          "Relevance",
          "Relevance",
          "Relevance",
          "Relevance",
          "Relevance",
          "Relevance",
          "Relevance",
          "Relevance",
          "Relevance",
          "Relevance",
          "Relevance",
          "Relevance",
          "Relevance",
          "Relevance",
          "Relevance",
          "Relevance",
          "Relevance",
          "Relevance",
          "Relevance",
          "Relevance",
          "Relevance",
          "Relevance",
          "Relevance",
          "Relevance",
          "Relevance",
          "Relevance",
          "Relevance",
          "Relevance",
          "Relevance",
          "Relevance",
          "Relevance",
          "Relevance",
          "Relevance",
          "Relevance",
          "Relevance",
          "Relevance",
          "Relevance",
          "Relevance",
          "Relevance",
          "Relevance",
          "Relevance",
          "Relevance",
          "Relevance",
          "Relevance",
          "Relevance",
          "Relevance",
          "Relevance",
          "Relevance",
          "Relevance",
          "Relevance",
          "Relevance",
          "Relevance",
          "Relevance",
          "Relevance",
          "Relevance",
          "Relevance",
          "Relevance",
          "Relevance",
          "Relevance",
          "Relevance",
          "Relevance",
          "Relevance",
          "Relevance",
          "Relevance",
          "Relevance",
          "Relevance",
          "Relevance",
          "Relevance",
          "Relevance",
          "Relevance",
          "Relevance",
          "Relevance",
          "Relevance",
          "Relevance",
          "Relevance",
          "Relevance",
          "Relevance",
          "Relevance",
          "Relevance",
          "Relevance",
          "Relevance",
          "Relevance",
          "Relevance",
          "Relevance",
          "Relevance",
          "Relevance",
          "Relevance",
          "Relevance",
          "Relevance",
          "Relevance",
          "Relevance",
          "Relevance",
          "Relevance",
          "Relevance",
          "Relevance",
          "Relevance",
          "Relevance",
          "Relevance",
          "Relevance",
          "Relevance",
          "Relevance",
          "Relevance",
          "Relevance",
          "Relevance",
          "Relevance",
          "Relevance",
          "Relevance",
          "Relevance",
          "Relevance",
          "Relevance",
          "Relevance",
          "Relevance",
          "Relevance",
          "Relevance",
          "Relevance",
          "Relevance",
          "Relevance",
          "Relevance",
          "Relevance",
          "Relevance",
          "Relevance",
          "Relevance",
          "Relevance",
          "Relevance",
          "Relevance",
          "Relevance",
          "Relevance",
          "Relevance",
          "Relevance",
          "Relevance",
          "Relevance",
          "Relevance",
          "Relevance",
          "Relevance",
          "Relevance",
          "Relevance",
          "Relevance",
          "Relevance",
          "Relevance",
          "Relevance",
          "Relevance",
          "Relevance",
          "Relevance",
          "Relevance",
          "Relevance",
          "Relevance",
          "Relevance",
          "Relevance",
          "Relevance",
          "Relevance",
          "Relevance",
          "Relevance",
          "Relevance",
          "Relevance",
          "Relevance",
          "Relevance",
          "Relevance",
          "Relevance",
          "Relevance",
          "Relevance",
          "Relevance",
          "Relevance",
          "Relevance",
          "Relevance",
          "Relevance",
          "Relevance",
          "Relevance",
          "Relevance",
          "Relevance",
          "Relevance",
          "Relevance",
          "Relevance",
          "Relevance",
          "Relevance",
          "Relevance",
          "Relevance",
          "Relevance",
          "Relevance",
          "Relevance",
          "Relevance",
          "Relevance",
          "Relevance",
          "Relevance",
          "Relevance",
          "Relevance",
          "Relevance",
          "Relevance",
          "Relevance",
          "Relevance",
          "Relevance",
          "Relevance",
          "Relevance",
          "Relevance",
          "Relevance",
          "Relevance",
          "Relevance",
          "Relevance",
          "Relevance",
          "Relevance",
          "Relevance",
          "Relevance",
          "Relevance",
          "Relevance",
          "Relevance",
          "Relevance",
          "Relevance",
          "Relevance",
          "Relevance",
          "Relevance",
          "Relevance",
          "Relevance",
          "Relevance",
          "Relevance",
          "Relevance",
          "Relevance",
          "Relevance",
          "Relevance",
          "Relevance",
          "Relevance",
          "Relevance",
          "Relevance",
          "Relevance",
          "Relevance",
          "Relevance",
          "Relevance",
          "Relevance",
          "Relevance",
          "Relevance",
          "Relevance",
          "Relevance",
          "Relevance",
          "Relevance",
          "Relevance",
          "Relevance",
          "Relevance",
          "Relevance",
          "Relevance",
          "Relevance",
          "Relevance",
          "Relevance",
          "Relevance",
          "Relevance",
          "Relevance",
          "Relevance",
          "Relevance",
          "Relevance",
          "Relevance",
          "Relevance",
          "Relevance",
          "Relevance",
          "Relevance",
          "Relevance",
          "Relevance",
          "Relevance",
          "Relevance",
          "Relevance",
          "Relevance",
          "Relevance",
          "Relevance",
          "Relevance",
          "Relevance",
          "Relevance",
          "Relevance",
          "Relevance",
          "Relevance",
          "Relevance",
          "Relevance",
          "Relevance",
          "Relevance",
          "Relevance",
          "Relevance",
          "Relevance",
          "Relevance",
          "Relevance",
          "Relevance",
          "Relevance",
          "Relevance",
          "Relevance",
          "Relevance",
          "Relevance",
          "Relevance",
          "Relevance",
          "Relevance",
          "Relevance",
          "Relevance",
          "Relevance",
          "Relevance",
          "Relevance",
          "Relevance",
          "Relevance",
          "Relevance",
          "Relevance",
          "Relevance",
          "Relevance",
          "Relevance",
          "Relevance",
          "Relevance",
          "Relevance",
          "Relevance",
          "Relevance",
          "Relevance",
          "Relevance",
          "Relevance",
          "Relevance",
          "Relevance",
          "Relevance",
          "Relevance",
          "Relevance",
          "Relevance",
          "Relevance",
          "Relevance",
          "Relevance",
          "Relevance",
          "Relevance",
          "Relevance",
          "Relevance",
          "Relevance",
          "Relevance",
          "Relevance",
          "Relevance",
          "Relevance",
          "Relevance",
          "Relevance",
          "Relevance",
          "Relevance",
          "Relevance",
          "Relevance",
          "Relevance",
          "Relevance",
          "Relevance",
          "Relevance",
          "Relevance",
          "Relevance",
          "Relevance",
          "Relevance",
          "Relevance",
          "Relevance",
          "Relevance",
          "Relevance",
          "Relevance",
          "Relevance",
          "Relevance",
          "Relevance",
          "Relevance",
          "Relevance",
          "Relevance",
          "Relevance",
          "Relevance",
          "Relevance",
          "Relevance",
          "Relevance",
          "Relevance",
          "Relevance",
          "Relevance",
          "Relevance",
          "Relevance",
          "Relevance",
          "Relevance",
          "Relevance",
          "Relevance",
          "Relevance",
          "Relevance",
          "Relevance",
          "Relevance",
          "Relevance",
          "Relevance",
          "Relevance",
          "Relevance",
          "Relevance",
          "Relevance",
          "Relevance",
          "Relevance",
          "Relevance",
          "Relevance",
          "Relevance",
          "Relevance",
          "Relevance",
          "Relevance",
          "Relevance",
          "Relevance",
          "Relevance",
          "Relevance",
          "Relevance",
          "Relevance",
          "Relevance",
          "Relevance",
          "Relevance",
          "Relevance",
          "Relevance",
          "Relevance",
          "Relevance",
          "Relevance",
          "Relevance",
          "Relevance",
          "Relevance",
          "Relevance",
          "Relevance",
          "Relevance",
          "Relevance",
          "Relevance",
          "Relevance",
          "Relevance",
          "Relevance",
          "Relevance",
          "Relevance",
          "Relevance",
          "Relevance",
          "Relevance",
          "Relevance",
          "Relevance",
          "Relevance",
          "Relevance",
          "Relevance",
          "Relevance",
          "Relevance",
          "Relevance",
          "Relevance",
          "Relevance",
          "Relevance",
          "Relevance",
          "Relevance",
          "Relevance",
          "Relevance",
          "Relevance",
          "Relevance",
          "Relevance",
          "Relevance",
          "Relevance",
          "Relevance",
          "Relevance",
          "Relevance",
          "Relevance",
          "Relevance",
          "Relevance",
          "Relevance",
          "Relevance",
          "Insight",
          "Insight",
          "Insight",
          "Insight",
          "Insight",
          "Insight",
          "Insight",
          "Insight",
          "Insight",
          "Insight",
          "Insight",
          "Insight",
          "Insight",
          "Insight",
          "Insight",
          "Insight",
          "Insight",
          "Insight",
          "Insight",
          "Insight",
          "Insight",
          "Insight",
          "Insight",
          "Insight",
          "Insight",
          "Insight",
          "Insight",
          "Insight",
          "Insight",
          "Insight",
          "Insight",
          "Insight",
          "Insight",
          "Insight",
          "Insight",
          "Insight",
          "Insight",
          "Insight",
          "Insight",
          "Insight",
          "Insight",
          "Insight",
          "Insight",
          "Insight",
          "Insight",
          "Insight",
          "Insight",
          "Insight",
          "Insight",
          "Insight",
          "Insight",
          "Insight",
          "Insight",
          "Insight",
          "Insight",
          "Insight",
          "Insight",
          "Insight",
          "Insight",
          "Insight",
          "Insight",
          "Insight",
          "Insight",
          "Insight",
          "Insight",
          "Insight",
          "Insight",
          "Insight",
          "Insight",
          "Insight",
          "Insight",
          "Insight",
          "Insight",
          "Insight",
          "Insight",
          "Insight",
          "Insight",
          "Insight",
          "Insight",
          "Insight",
          "Insight",
          "Insight",
          "Insight",
          "Insight",
          "Insight",
          "Insight",
          "Insight",
          "Insight",
          "Insight",
          "Insight",
          "Insight",
          "Insight",
          "Insight",
          "Insight",
          "Insight",
          "Insight",
          "Insight",
          "Insight",
          "Insight",
          "Insight",
          "Insight",
          "Insight",
          "Insight",
          "Insight",
          "Insight",
          "Insight",
          "Insight",
          "Insight",
          "Insight",
          "Insight",
          "Insight",
          "Insight",
          "Insight",
          "Insight",
          "Insight",
          "Insight",
          "Insight",
          "Insight",
          "Insight",
          "Insight",
          "Insight",
          "Insight",
          "Insight",
          "Insight",
          "Insight",
          "Insight",
          "Insight",
          "Insight",
          "Insight",
          "Insight",
          "Insight",
          "Insight",
          "Insight",
          "Insight",
          "Insight",
          "Insight",
          "Insight",
          "Insight",
          "Insight",
          "Insight",
          "Insight",
          "Insight",
          "Insight",
          "Insight",
          "Insight",
          "Insight",
          "Insight",
          "Insight",
          "Insight",
          "Insight",
          "Insight",
          "Insight",
          "Insight",
          "Insight",
          "Insight",
          "Insight",
          "Insight",
          "Insight",
          "Insight",
          "Insight",
          "Insight",
          "Insight",
          "Insight",
          "Insight",
          "Insight",
          "Insight",
          "Insight",
          "Insight",
          "Insight",
          "Insight",
          "Insight",
          "Insight",
          "Insight",
          "Insight",
          "Insight",
          "Insight",
          "Insight",
          "Insight",
          "Insight",
          "Insight",
          "Insight",
          "Insight",
          "Insight",
          "Insight",
          "Insight",
          "Insight",
          "Insight",
          "Insight",
          "Insight",
          "Insight",
          "Insight",
          "Insight",
          "Insight",
          "Insight",
          "Insight",
          "Insight",
          "Insight",
          "Insight",
          "Insight",
          "Insight",
          "Insight",
          "Insight",
          "Insight",
          "Insight",
          "Insight",
          "Insight",
          "Insight",
          "Insight",
          "Insight",
          "Insight",
          "Insight",
          "Insight",
          "Insight",
          "Insight",
          "Insight",
          "Insight",
          "Insight",
          "Insight",
          "Insight",
          "Insight",
          "Insight",
          "Insight",
          "Insight",
          "Insight",
          "Insight",
          "Insight",
          "Insight",
          "Insight",
          "Insight",
          "Insight",
          "Insight",
          "Insight",
          "Insight",
          "Insight",
          "Insight",
          "Insight",
          "Insight",
          "Insight",
          "Insight",
          "Insight",
          "Insight",
          "Insight",
          "Insight",
          "Insight",
          "Insight",
          "Insight",
          "Insight",
          "Insight",
          "Insight",
          "Insight",
          "Insight",
          "Insight",
          "Insight",
          "Insight",
          "Insight",
          "Insight",
          "Insight",
          "Insight",
          "Insight",
          "Insight",
          "Insight",
          "Insight",
          "Insight",
          "Insight",
          "Insight",
          "Insight",
          "Insight",
          "Insight",
          "Insight",
          "Insight",
          "Insight",
          "Insight",
          "Insight",
          "Insight",
          "Insight",
          "Insight",
          "Insight",
          "Insight",
          "Insight",
          "Insight",
          "Insight",
          "Insight",
          "Insight",
          "Insight",
          "Insight",
          "Insight",
          "Insight",
          "Insight",
          "Insight",
          "Insight",
          "Insight",
          "Insight",
          "Insight",
          "Insight",
          "Insight",
          "Insight",
          "Insight",
          "Insight",
          "Insight",
          "Insight",
          "Insight",
          "Insight",
          "Insight",
          "Insight",
          "Insight",
          "Insight",
          "Insight",
          "Insight",
          "Insight",
          "Insight",
          "Insight",
          "Insight",
          "Insight",
          "Insight",
          "Insight",
          "Insight",
          "Insight",
          "Insight",
          "Insight",
          "Insight",
          "Insight",
          "Insight",
          "Insight",
          "Insight",
          "Insight",
          "Insight",
          "Insight",
          "Insight",
          "Insight",
          "Insight",
          "Insight",
          "Insight",
          "Insight",
          "Insight",
          "Insight",
          "Insight",
          "Insight",
          "Insight",
          "Insight",
          "Insight",
          "Insight",
          "Insight",
          "Insight",
          "Insight",
          "Insight",
          "Insight",
          "Insight",
          "Insight",
          "Insight",
          "Insight",
          "Insight",
          "Insight",
          "Insight",
          "Insight",
          "Insight",
          "Insight",
          "Insight",
          "Insight",
          "Insight",
          "Insight",
          "Insight",
          "Insight",
          "Insight",
          "Insight",
          "Insight",
          "Insight",
          "Insight",
          "Insight",
          "Insight",
          "Insight",
          "Insight",
          "Insight",
          "Insight",
          "Insight",
          "Insight",
          "Insight",
          "Insight",
          "Insight",
          "Insight",
          "Insight",
          "Insight",
          "Insight",
          "Insight",
          "Insight",
          "Insight",
          "Insight",
          "Insight",
          "Insight",
          "Insight",
          "Insight",
          "Insight",
          "Insight",
          "Insight",
          "Insight",
          "Insight",
          "Insight",
          "Insight",
          "Insight",
          "Insight",
          "Insight",
          "Insight",
          "Insight",
          "Insight",
          "Insight",
          "Insight",
          "Insight",
          "Insight",
          "Insight",
          "Insight",
          "Insight",
          "Insight",
          "Insight",
          "Insight",
          "Insight",
          "Insight",
          "Insight",
          "Insight",
          "Insight",
          "Insight",
          "Insight",
          "Insight",
          "Insight",
          "Insight",
          "Insight",
          "Insight",
          "Insight",
          "Insight",
          "Insight",
          "Insight",
          "Insight",
          "Insight",
          "Insight",
          "Insight",
          "Insight",
          "Insight",
          "Insight",
          "Insight",
          "Insight",
          "Insight",
          "Insight",
          "Insight",
          "Insight",
          "Insight",
          "Insight",
          "Insight",
          "Insight",
          "Insight",
          "Insight",
          "Insight",
          "Insight",
          "Insight",
          "Insight",
          "Insight",
          "Insight",
          "Insight",
          "Insight",
          "Insight",
          "Insight",
          "Insight",
          "Insight",
          "Insight",
          "Insight",
          "Insight",
          "Insight",
          "Insight",
          "Insight",
          "Insight",
          "Insight",
          "Insight",
          "Insight",
          "Insight",
          "Insight",
          "Insight",
          "Insight",
          "Insight",
          "Insight",
          "Insight",
          "Insight",
          "Insight",
          "Insight",
          "Insight",
          "Insight",
          "Insight",
          "Insight",
          "Insight",
          "Insight",
          "Insight",
          "Insight",
          "Insight",
          "Insight",
          "Insight",
          "Insight",
          "Insight",
          "Insight",
          "Insight",
          "Insight",
          "Insight",
          "Insight",
          "Insight",
          "Insight",
          "Insight",
          "Insight",
          "Insight",
          "Insight",
          "Insight",
          "Insight",
          "Insight",
          "Insight",
          "Insight",
          "Insight",
          "Insight",
          "Insight",
          "Insight",
          "Insight",
          "Insight",
          "Insight",
          "Insight",
          "Insight",
          "Insight",
          "Insight",
          "Insight",
          "Insight",
          "Insight",
          "Insight",
          "Insight",
          "Insight",
          "Insight",
          "Insight",
          "Insight",
          "Insight",
          "Insight",
          "Insight",
          "Insight",
          "Insight",
          "Insight",
          "Insight",
          "Insight",
          "Insight",
          "Insight",
          "Insight",
          "Insight",
          "Insight",
          "Insight",
          "Insight",
          "Insight",
          "Insight",
          "Insight",
          "Insight",
          "Insight",
          "Insight",
          "Insight",
          "Insight",
          "Insight",
          "Insight",
          "Insight",
          "Insight",
          "Insight",
          "Insight",
          "Insight",
          "Insight",
          "Insight",
          "Insight",
          "Insight",
          "Insight",
          "Insight",
          "Insight",
          "Insight",
          "Insight",
          "Insight",
          "Insight",
          "Insight",
          "Insight",
          "Insight",
          "Insight",
          "Insight",
          "Insight",
          "Insight",
          "Insight",
          "Insight",
          "Insight",
          "Insight",
          "Insight",
          "Insight",
          "Insight",
          "Insight",
          "Insight",
          "Insight",
          "Insight",
          "Insight",
          "Insight",
          "Insight",
          "Insight",
          "Insight",
          "Insight",
          "Insight",
          "Insight",
          "Insight",
          "Insight",
          "Insight",
          "Insight",
          "Insight",
          "Insight",
          "Insight",
          "Insight",
          "Insight",
          "Insight",
          "Insight",
          "Insight",
          "Insight",
          "Insight",
          "Insight",
          "Insight",
          "Insight",
          "Insight",
          "Insight",
          "Insight",
          "Insight",
          "Insight",
          "Insight",
          "Insight",
          "Insight",
          "Insight",
          "Insight",
          "Insight",
          "Insight",
          "Insight",
          "Insight",
          "Insight",
          "Insight",
          "Insight",
          "Insight",
          "Insight",
          "Insight",
          "Insight",
          "Insight",
          "Insight",
          "Insight",
          "Insight",
          "Insight",
          "Insight",
          "Insight",
          "Insight",
          "Insight",
          "Insight",
          "Insight",
          "Insight",
          "Insight",
          "Insight",
          "Insight",
          "Insight",
          "Insight",
          "Insight",
          "Insight",
          "Insight",
          "Insight",
          "Insight",
          "Insight",
          "Insight",
          "Insight",
          "Insight",
          "Insight",
          "Insight",
          "Insight",
          "Insight",
          "Insight",
          "Insight",
          "Insight",
          "Insight",
          "Insight",
          "Insight",
          "Insight",
          "Insight",
          "Understanding",
          "Understanding",
          "Understanding",
          "Understanding",
          "Understanding",
          "Understanding",
          "Understanding",
          "Understanding",
          "Understanding",
          "Understanding",
          "Understanding",
          "Understanding",
          "Understanding",
          "Understanding",
          "Understanding",
          "Understanding",
          "Understanding",
          "Understanding",
          "Understanding",
          "Understanding",
          "Understanding",
          "Understanding",
          "Understanding",
          "Understanding",
          "Understanding",
          "Understanding",
          "Understanding",
          "Understanding",
          "Understanding",
          "Understanding",
          "Understanding",
          "Understanding",
          "Understanding",
          "Understanding",
          "Understanding",
          "Understanding",
          "Understanding",
          "Understanding",
          "Understanding",
          "Understanding",
          "Understanding",
          "Understanding",
          "Understanding",
          "Understanding",
          "Understanding",
          "Understanding",
          "Understanding",
          "Understanding",
          "Understanding",
          "Understanding",
          "Understanding",
          "Understanding",
          "Understanding",
          "Understanding",
          "Understanding",
          "Understanding",
          "Understanding",
          "Understanding",
          "Understanding",
          "Understanding",
          "Understanding",
          "Understanding",
          "Understanding",
          "Understanding",
          "Understanding",
          "Understanding",
          "Understanding",
          "Understanding",
          "Understanding",
          "Understanding",
          "Understanding",
          "Understanding",
          "Understanding",
          "Understanding",
          "Understanding",
          "Understanding",
          "Understanding",
          "Understanding",
          "Understanding",
          "Understanding",
          "Understanding",
          "Understanding",
          "Understanding",
          "Understanding",
          "Understanding",
          "Understanding",
          "Understanding",
          "Understanding",
          "Understanding",
          "Understanding",
          "Understanding",
          "Understanding",
          "Understanding",
          "Understanding",
          "Understanding",
          "Understanding",
          "Understanding",
          "Understanding",
          "Understanding",
          "Understanding",
          "Understanding",
          "Understanding",
          "Understanding",
          "Understanding",
          "Understanding",
          "Understanding",
          "Understanding",
          "Understanding",
          "Understanding",
          "Understanding",
          "Understanding",
          "Understanding",
          "Understanding",
          "Understanding",
          "Understanding",
          "Understanding",
          "Understanding",
          "Understanding",
          "Understanding",
          "Understanding",
          "Understanding",
          "Understanding",
          "Understanding",
          "Understanding",
          "Understanding",
          "Understanding",
          "Understanding",
          "Understanding",
          "Understanding",
          "Understanding",
          "Understanding",
          "Understanding",
          "Understanding",
          "Understanding",
          "Understanding",
          "Understanding",
          "Understanding",
          "Understanding",
          "Understanding",
          "Understanding",
          "Understanding",
          "Understanding",
          "Understanding",
          "Understanding",
          "Understanding",
          "Understanding",
          "Understanding",
          "Understanding",
          "Understanding",
          "Understanding",
          "Understanding",
          "Understanding",
          "Understanding",
          "Understanding",
          "Understanding",
          "Understanding",
          "Understanding",
          "Understanding",
          "Understanding",
          "Understanding",
          "Understanding",
          "Understanding",
          "Understanding",
          "Understanding",
          "Understanding",
          "Understanding",
          "Understanding",
          "Understanding",
          "Understanding",
          "Understanding",
          "Understanding",
          "Understanding",
          "Understanding",
          "Understanding",
          "Understanding",
          "Understanding",
          "Understanding",
          "Understanding",
          "Understanding",
          "Understanding",
          "Understanding",
          "Understanding",
          "Understanding",
          "Understanding",
          "Understanding",
          "Understanding",
          "Understanding",
          "Understanding",
          "Understanding",
          "Understanding",
          "Understanding",
          "Understanding",
          "Understanding",
          "Understanding",
          "Understanding",
          "Understanding",
          "Understanding",
          "Understanding",
          "Understanding",
          "Understanding",
          "Understanding",
          "Understanding",
          "Understanding",
          "Understanding",
          "Understanding",
          "Understanding",
          "Understanding",
          "Understanding",
          "Understanding",
          "Understanding",
          "Understanding",
          "Understanding",
          "Understanding",
          "Understanding",
          "Understanding",
          "Understanding",
          "Understanding",
          "Understanding",
          "Understanding",
          "Understanding",
          "Understanding",
          "Understanding",
          "Understanding",
          "Understanding",
          "Understanding",
          "Understanding",
          "Understanding",
          "Understanding",
          "Understanding",
          "Understanding",
          "Understanding",
          "Understanding",
          "Understanding",
          "Understanding",
          "Understanding",
          "Understanding",
          "Understanding",
          "Understanding",
          "Understanding",
          "Understanding",
          "Understanding",
          "Understanding",
          "Understanding",
          "Understanding",
          "Understanding",
          "Understanding",
          "Understanding",
          "Understanding",
          "Understanding",
          "Understanding",
          "Understanding",
          "Understanding",
          "Understanding",
          "Understanding",
          "Understanding",
          "Understanding",
          "Understanding",
          "Understanding",
          "Understanding",
          "Understanding",
          "Understanding",
          "Understanding",
          "Understanding",
          "Understanding",
          "Understanding",
          "Understanding",
          "Understanding",
          "Understanding",
          "Understanding",
          "Understanding",
          "Understanding",
          "Understanding",
          "Understanding",
          "Understanding",
          "Understanding",
          "Understanding",
          "Understanding",
          "Understanding",
          "Understanding",
          "Understanding",
          "Understanding",
          "Understanding",
          "Understanding",
          "Understanding",
          "Understanding",
          "Understanding",
          "Understanding",
          "Understanding",
          "Understanding",
          "Understanding",
          "Understanding",
          "Understanding",
          "Understanding",
          "Understanding",
          "Understanding",
          "Understanding",
          "Understanding",
          "Understanding",
          "Understanding",
          "Understanding",
          "Understanding",
          "Understanding",
          "Understanding",
          "Understanding",
          "Understanding",
          "Understanding",
          "Understanding",
          "Understanding",
          "Understanding",
          "Understanding",
          "Understanding",
          "Understanding",
          "Understanding",
          "Understanding",
          "Understanding",
          "Understanding",
          "Understanding",
          "Understanding",
          "Understanding",
          "Understanding",
          "Understanding",
          "Understanding",
          "Understanding",
          "Understanding",
          "Understanding",
          "Understanding",
          "Understanding",
          "Understanding",
          "Understanding",
          "Understanding",
          "Understanding",
          "Understanding",
          "Understanding",
          "Understanding",
          "Understanding",
          "Understanding",
          "Understanding",
          "Understanding",
          "Understanding",
          "Understanding",
          "Understanding",
          "Understanding",
          "Understanding",
          "Understanding",
          "Understanding",
          "Understanding",
          "Understanding",
          "Understanding",
          "Understanding",
          "Understanding",
          "Understanding",
          "Understanding",
          "Understanding",
          "Understanding",
          "Understanding",
          "Understanding",
          "Understanding",
          "Understanding",
          "Understanding",
          "Understanding",
          "Understanding",
          "Understanding",
          "Understanding",
          "Understanding",
          "Understanding",
          "Understanding",
          "Understanding",
          "Understanding",
          "Understanding",
          "Understanding",
          "Understanding",
          "Understanding",
          "Understanding",
          "Understanding",
          "Understanding",
          "Understanding",
          "Understanding",
          "Understanding",
          "Understanding",
          "Understanding",
          "Understanding",
          "Understanding",
          "Understanding",
          "Understanding",
          "Understanding",
          "Understanding",
          "Understanding",
          "Understanding",
          "Understanding",
          "Understanding",
          "Understanding",
          "Understanding",
          "Understanding",
          "Understanding",
          "Understanding",
          "Understanding",
          "Understanding",
          "Understanding",
          "Understanding",
          "Understanding",
          "Understanding",
          "Understanding",
          "Understanding",
          "Understanding",
          "Understanding",
          "Understanding",
          "Understanding",
          "Understanding",
          "Understanding",
          "Understanding",
          "Understanding",
          "Understanding",
          "Understanding",
          "Understanding",
          "Understanding",
          "Understanding",
          "Understanding",
          "Understanding",
          "Understanding",
          "Understanding",
          "Understanding",
          "Understanding",
          "Understanding",
          "Understanding",
          "Understanding",
          "Understanding",
          "Understanding",
          "Understanding",
          "Understanding",
          "Understanding",
          "Understanding",
          "Understanding",
          "Understanding",
          "Understanding",
          "Understanding",
          "Understanding",
          "Understanding",
          "Understanding",
          "Understanding",
          "Understanding",
          "Understanding",
          "Understanding",
          "Understanding",
          "Understanding",
          "Understanding",
          "Understanding",
          "Understanding",
          "Understanding",
          "Understanding",
          "Understanding",
          "Understanding",
          "Understanding",
          "Understanding",
          "Understanding",
          "Understanding",
          "Understanding",
          "Understanding",
          "Understanding",
          "Understanding",
          "Understanding",
          "Understanding",
          "Understanding",
          "Understanding",
          "Understanding",
          "Understanding",
          "Understanding",
          "Understanding",
          "Understanding",
          "Understanding",
          "Understanding",
          "Understanding",
          "Understanding",
          "Understanding",
          "Understanding",
          "Understanding",
          "Understanding",
          "Understanding",
          "Understanding",
          "Understanding",
          "Understanding",
          "Understanding",
          "Understanding",
          "Understanding",
          "Understanding",
          "Understanding",
          "Understanding",
          "Understanding",
          "Understanding",
          "Understanding",
          "Understanding",
          "Understanding",
          "Understanding",
          "Understanding",
          "Understanding",
          "Understanding",
          "Understanding",
          "Understanding",
          "Understanding",
          "Understanding",
          "Understanding",
          "Understanding",
          "Understanding",
          "Understanding",
          "Understanding",
          "Understanding",
          "Understanding",
          "Understanding",
          "Understanding",
          "Understanding",
          "Understanding",
          "Understanding",
          "Understanding",
          "Understanding",
          "Understanding",
          "Understanding",
          "Understanding",
          "Understanding",
          "Understanding",
          "Understanding",
          "Understanding",
          "Understanding",
          "Understanding",
          "Understanding",
          "Understanding",
          "Understanding",
          "Understanding",
          "Understanding",
          "Understanding",
          "Understanding",
          "Understanding",
          "Understanding",
          "Understanding",
          "Understanding",
          "Understanding",
          "Understanding",
          "Understanding",
          "Understanding",
          "Understanding",
          "Understanding",
          "Understanding",
          "Understanding",
          "Understanding",
          "Understanding",
          "Understanding",
          "Understanding",
          "Understanding",
          "Understanding",
          "Understanding",
          "Understanding",
          "Understanding",
          "Understanding",
          "Understanding",
          "Understanding",
          "Understanding",
          "Understanding",
          "Understanding",
          "Understanding",
          "Understanding",
          "Understanding",
          "Understanding",
          "Understanding",
          "Understanding",
          "Understanding",
          "Understanding",
          "Understanding",
          "Understanding",
          "Understanding",
          "Understanding",
          "Understanding",
          "Understanding",
          "Understanding",
          "Understanding",
          "Understanding",
          "Understanding",
          "Understanding",
          "Understanding",
          "Understanding",
          "Understanding",
          "Understanding",
          "Understanding",
          "Understanding",
          "Understanding",
          "Understanding",
          "Understanding",
          "Understanding",
          "Understanding",
          "Understanding",
          "Understanding",
          "Understanding",
          "Understanding",
          "Understanding",
          "Understanding",
          "Understanding",
          "Understanding",
          "Understanding",
          "Understanding",
          "Understanding",
          "Understanding",
          "Understanding",
          "Understanding",
          "Understanding",
          "Understanding",
          "Understanding",
          "Understanding",
          "Understanding",
          "Understanding",
          "Understanding",
          "Understanding",
          "Understanding",
          "Understanding",
          "Understanding",
          "Understanding",
          "Understanding",
          "Understanding",
          "Understanding",
          "Understanding",
          "Understanding",
          "Understanding",
          "Understanding",
          "Understanding",
          "Understanding",
          "Understanding",
          "Understanding",
          "Understanding",
          "Understanding",
          "Understanding",
          "Understanding",
          "Understanding",
          "Understanding",
          "Understanding",
          "Understanding",
          "Understanding",
          "Understanding",
          "Understanding",
          "Understanding",
          "Understanding",
          "Understanding",
          "Understanding",
          "Understanding",
          "Understanding",
          "Understanding",
          "Understanding",
          "Understanding",
          "Understanding",
          "Understanding",
          "Understanding",
          "Understanding",
          "Understanding",
          "Understanding",
          "Understanding",
          "Understanding",
          "Understanding",
          "Understanding",
          "Understanding",
          "Understanding",
          "Understanding",
          "Understanding",
          "Understanding",
          "Understanding",
          "Understanding",
          "Understanding",
          "Understanding",
          "Understanding",
          "Understanding",
          "Understanding",
          "Understanding",
          "Understanding",
          "Understanding",
          "Understanding",
          "Understanding",
          "Understanding",
          "Understanding",
          "Ease",
          "Ease",
          "Ease",
          "Ease",
          "Ease",
          "Ease",
          "Ease",
          "Ease",
          "Ease",
          "Ease",
          "Ease",
          "Ease",
          "Ease",
          "Ease",
          "Ease",
          "Ease",
          "Ease",
          "Ease",
          "Ease",
          "Ease",
          "Ease",
          "Ease",
          "Ease",
          "Ease",
          "Ease",
          "Ease",
          "Ease",
          "Ease",
          "Ease",
          "Ease",
          "Ease",
          "Ease",
          "Ease",
          "Ease",
          "Ease",
          "Ease",
          "Ease",
          "Ease",
          "Ease",
          "Ease",
          "Ease",
          "Ease",
          "Ease",
          "Ease",
          "Ease",
          "Ease",
          "Ease",
          "Ease",
          "Ease",
          "Ease",
          "Ease",
          "Ease",
          "Ease",
          "Ease",
          "Ease",
          "Ease",
          "Ease",
          "Ease",
          "Ease",
          "Ease",
          "Ease",
          "Ease",
          "Ease",
          "Ease",
          "Ease",
          "Ease",
          "Ease",
          "Ease",
          "Ease",
          "Ease",
          "Ease",
          "Ease",
          "Ease",
          "Ease",
          "Ease",
          "Ease",
          "Ease",
          "Ease",
          "Ease",
          "Ease",
          "Ease",
          "Ease",
          "Ease",
          "Ease",
          "Ease",
          "Ease",
          "Ease",
          "Ease",
          "Ease",
          "Ease",
          "Ease",
          "Ease",
          "Ease",
          "Ease",
          "Ease",
          "Ease",
          "Ease",
          "Ease",
          "Ease",
          "Ease",
          "Ease",
          "Ease",
          "Ease",
          "Ease",
          "Ease",
          "Ease",
          "Ease",
          "Ease",
          "Ease",
          "Ease",
          "Ease",
          "Ease",
          "Ease",
          "Ease",
          "Ease",
          "Ease",
          "Ease",
          "Ease",
          "Ease",
          "Ease",
          "Ease",
          "Ease",
          "Ease",
          "Ease",
          "Ease",
          "Ease",
          "Ease",
          "Ease",
          "Ease",
          "Ease",
          "Ease",
          "Ease",
          "Ease",
          "Ease",
          "Ease",
          "Ease",
          "Ease",
          "Ease",
          "Ease",
          "Ease",
          "Ease",
          "Ease",
          "Ease",
          "Ease",
          "Ease",
          "Ease",
          "Ease",
          "Ease",
          "Ease",
          "Ease",
          "Ease",
          "Ease",
          "Ease",
          "Ease",
          "Ease",
          "Ease",
          "Ease",
          "Ease",
          "Ease",
          "Ease",
          "Ease",
          "Ease",
          "Ease",
          "Ease",
          "Ease",
          "Ease",
          "Ease",
          "Ease",
          "Ease",
          "Ease",
          "Ease",
          "Ease",
          "Ease",
          "Ease",
          "Ease",
          "Ease",
          "Ease",
          "Ease",
          "Ease",
          "Ease",
          "Ease",
          "Ease",
          "Ease",
          "Ease",
          "Ease",
          "Ease",
          "Ease",
          "Ease",
          "Ease",
          "Ease",
          "Ease",
          "Ease",
          "Ease",
          "Ease",
          "Ease",
          "Ease",
          "Ease",
          "Ease",
          "Ease",
          "Ease",
          "Ease",
          "Ease",
          "Ease",
          "Ease",
          "Ease",
          "Ease",
          "Ease",
          "Ease",
          "Ease",
          "Ease",
          "Ease",
          "Ease",
          "Ease",
          "Ease",
          "Ease",
          "Ease",
          "Ease",
          "Ease",
          "Ease",
          "Ease",
          "Ease",
          "Ease",
          "Ease",
          "Ease",
          "Ease",
          "Ease",
          "Ease",
          "Ease",
          "Ease",
          "Ease",
          "Ease",
          "Ease",
          "Ease",
          "Ease",
          "Ease",
          "Ease",
          "Ease",
          "Ease",
          "Ease",
          "Ease",
          "Ease",
          "Ease",
          "Ease",
          "Ease",
          "Ease",
          "Ease",
          "Ease",
          "Ease",
          "Ease",
          "Ease",
          "Ease",
          "Ease",
          "Ease",
          "Ease",
          "Ease",
          "Ease",
          "Ease",
          "Ease",
          "Ease",
          "Ease",
          "Ease",
          "Ease",
          "Ease",
          "Ease",
          "Ease",
          "Ease",
          "Ease",
          "Ease",
          "Ease",
          "Ease",
          "Ease",
          "Ease",
          "Ease",
          "Ease",
          "Ease",
          "Ease",
          "Ease",
          "Ease",
          "Ease",
          "Ease",
          "Ease",
          "Ease",
          "Ease",
          "Ease",
          "Ease",
          "Ease",
          "Ease",
          "Ease",
          "Ease",
          "Ease",
          "Ease",
          "Ease",
          "Ease",
          "Ease",
          "Ease",
          "Ease",
          "Ease",
          "Ease",
          "Ease",
          "Ease",
          "Ease",
          "Ease",
          "Ease",
          "Ease",
          "Ease",
          "Ease",
          "Ease",
          "Ease",
          "Ease",
          "Ease",
          "Ease",
          "Ease",
          "Ease",
          "Ease",
          "Ease",
          "Ease",
          "Ease",
          "Ease",
          "Ease",
          "Ease",
          "Ease",
          "Ease",
          "Ease",
          "Ease",
          "Ease",
          "Ease",
          "Ease",
          "Ease",
          "Ease",
          "Ease",
          "Ease",
          "Ease",
          "Ease",
          "Ease",
          "Ease",
          "Ease",
          "Ease",
          "Ease",
          "Ease",
          "Ease",
          "Ease",
          "Ease",
          "Ease",
          "Ease",
          "Ease",
          "Ease",
          "Ease",
          "Ease",
          "Ease",
          "Ease",
          "Ease",
          "Ease",
          "Ease",
          "Ease",
          "Ease",
          "Ease",
          "Ease",
          "Ease",
          "Ease",
          "Ease",
          "Ease",
          "Ease",
          "Ease",
          "Ease",
          "Ease",
          "Ease",
          "Ease",
          "Ease",
          "Ease",
          "Ease",
          "Ease",
          "Ease",
          "Ease",
          "Ease",
          "Ease",
          "Ease",
          "Ease",
          "Ease",
          "Ease",
          "Ease",
          "Ease",
          "Ease",
          "Ease",
          "Ease",
          "Ease",
          "Ease",
          "Ease",
          "Ease",
          "Ease",
          "Ease",
          "Ease",
          "Ease",
          "Ease",
          "Ease",
          "Ease",
          "Ease",
          "Ease",
          "Ease",
          "Ease",
          "Ease",
          "Ease",
          "Ease",
          "Ease",
          "Ease",
          "Ease",
          "Ease",
          "Ease",
          "Ease",
          "Ease",
          "Ease",
          "Ease",
          "Ease",
          "Ease",
          "Ease",
          "Ease",
          "Ease",
          "Ease",
          "Ease",
          "Ease",
          "Ease",
          "Ease",
          "Ease",
          "Ease",
          "Ease",
          "Ease",
          "Ease",
          "Ease",
          "Ease",
          "Ease",
          "Ease",
          "Ease",
          "Ease",
          "Ease",
          "Ease",
          "Ease",
          "Ease",
          "Ease",
          "Ease",
          "Ease",
          "Ease",
          "Ease",
          "Ease",
          "Ease",
          "Ease",
          "Ease",
          "Ease",
          "Ease",
          "Ease",
          "Ease",
          "Ease",
          "Ease",
          "Ease",
          "Ease",
          "Ease",
          "Ease",
          "Ease",
          "Ease",
          "Ease",
          "Ease",
          "Ease",
          "Ease",
          "Ease",
          "Ease",
          "Ease",
          "Ease",
          "Ease",
          "Ease",
          "Ease",
          "Ease",
          "Ease",
          "Ease",
          "Ease",
          "Ease",
          "Ease",
          "Ease",
          "Ease",
          "Ease",
          "Ease",
          "Ease",
          "Ease",
          "Ease",
          "Ease",
          "Ease",
          "Ease",
          "Ease",
          "Ease",
          "Ease",
          "Ease",
          "Ease",
          "Ease",
          "Ease",
          "Ease",
          "Ease",
          "Ease",
          "Ease",
          "Ease",
          "Ease",
          "Ease",
          "Ease",
          "Ease",
          "Ease",
          "Ease",
          "Ease",
          "Ease",
          "Ease",
          "Ease",
          "Ease",
          "Ease",
          "Ease",
          "Ease",
          "Ease",
          "Ease",
          "Ease",
          "Ease",
          "Ease",
          "Ease",
          "Ease",
          "Ease",
          "Ease",
          "Ease",
          "Ease",
          "Ease",
          "Ease",
          "Ease",
          "Ease",
          "Ease",
          "Ease",
          "Ease",
          "Ease",
          "Ease",
          "Ease",
          "Ease",
          "Ease",
          "Ease",
          "Ease",
          "Ease",
          "Ease",
          "Ease",
          "Ease",
          "Ease",
          "Ease",
          "Ease",
          "Ease",
          "Ease",
          "Ease",
          "Ease",
          "Ease",
          "Ease",
          "Ease",
          "Ease",
          "Ease",
          "Ease",
          "Ease",
          "Ease",
          "Ease",
          "Ease",
          "Ease",
          "Ease",
          "Ease",
          "Ease",
          "Ease",
          "Ease",
          "Ease",
          "Ease",
          "Ease",
          "Ease",
          "Ease",
          "Ease",
          "Ease",
          "Ease",
          "Ease",
          "Ease",
          "Ease",
          "Ease",
          "Ease",
          "Ease",
          "Ease",
          "Ease",
          "Ease",
          "Ease",
          "Ease",
          "Ease",
          "Ease",
          "Ease",
          "Ease",
          "Ease",
          "Ease",
          "Ease",
          "Ease",
          "Ease",
          "Ease",
          "Ease",
          "Ease",
          "Ease",
          "Ease",
          "Ease",
          "Ease",
          "Ease",
          "Ease",
          "Ease",
          "Ease",
          "Ease",
          "Ease",
          "Ease",
          "Ease",
          "Ease",
          "Ease",
          "Ease",
          "Ease",
          "Ease",
          "Ease",
          "Ease",
          "Ease",
          "Ease",
          "Ease",
          "Ease",
          "Ease",
          "Ease",
          "Ease",
          "Ease",
          "Ease",
          "Ease",
          "Ease",
          "Ease",
          "Ease",
          "Ease",
          "Ease",
          "Ease",
          "Ease",
          "Ease",
          "Ease",
          "Ease",
          "Ease",
          "Ease",
          "Ease",
          "Ease",
          "Ease",
          "Ease",
          "Ease",
          "Ease",
          "Ease",
          "Ease",
          "Ease",
          "Ease",
          "Ease",
          "Ease",
          "Ease",
          "Ease",
          "Ease",
          "Ease",
          "Ease",
          "Ease",
          "Ease",
          "Ease",
          "Ease",
          "Ease",
          "Ease",
          "Ease",
          "Ease",
          "Ease",
          "Ease",
          "Ease",
          "Ease",
          "Ease",
          "Ease",
          "Ease",
          "Ease",
          "Ease",
          "Ease",
          "Ease",
          "Ease",
          "Ease"
         ],
         "x0": " ",
         "xaxis": "x",
         "y": [
          5,
          1,
          5,
          1,
          5,
          4,
          1,
          1,
          2,
          5,
          1,
          3,
          3,
          5,
          4,
          1,
          2,
          5,
          5,
          4,
          5,
          2,
          1,
          5,
          4,
          4,
          1,
          3,
          3,
          5,
          2,
          3,
          5,
          null,
          3,
          null,
          2,
          5,
          null,
          null,
          null,
          null,
          5,
          3,
          4,
          null,
          null,
          null,
          null,
          null,
          null,
          null,
          null,
          null,
          null,
          null,
          null,
          null,
          null,
          null,
          null,
          null,
          null,
          null,
          null,
          null,
          null,
          null,
          null,
          null,
          null,
          null,
          null,
          null,
          null,
          null,
          null,
          null,
          null,
          null,
          null,
          null,
          null,
          null,
          5,
          3,
          3,
          1,
          5,
          1,
          4,
          1,
          1,
          5,
          5,
          1,
          3,
          5,
          5,
          1,
          5,
          2,
          5,
          5,
          5,
          5,
          1,
          4,
          3,
          5,
          1,
          3,
          5,
          5,
          5,
          5,
          3,
          1,
          1,
          1,
          3,
          5,
          3,
          2,
          2,
          1,
          3,
          null,
          null,
          null,
          null,
          null,
          null,
          null,
          null,
          null,
          5,
          1,
          1,
          3,
          5,
          5,
          5,
          null,
          2,
          null,
          null,
          null,
          null,
          null,
          null,
          null,
          null,
          null,
          null,
          null,
          null,
          null,
          null,
          null,
          1,
          null,
          null,
          null,
          null,
          null,
          null,
          null,
          5,
          1,
          3,
          1,
          4,
          4,
          3,
          1,
          4,
          5,
          null,
          2,
          2,
          5,
          3,
          null,
          5,
          2,
          3,
          5,
          null,
          3,
          1,
          5,
          5,
          5,
          1,
          5,
          5,
          5,
          2,
          4,
          5,
          null,
          null,
          null,
          null,
          5,
          null,
          null,
          null,
          null,
          5,
          2,
          3,
          3,
          4,
          3,
          2,
          null,
          1,
          4,
          2,
          null,
          3,
          5,
          5,
          null,
          null,
          null,
          null,
          null,
          null,
          null,
          null,
          null,
          null,
          null,
          null,
          null,
          null,
          null,
          null,
          null,
          null,
          null,
          null,
          null,
          null,
          null,
          null,
          null,
          null,
          null,
          5,
          5,
          5,
          1,
          4,
          2,
          3,
          3,
          4,
          4,
          4,
          4,
          5,
          5,
          5,
          null,
          5,
          3,
          5,
          5,
          null,
          5,
          1,
          null,
          null,
          null,
          null,
          null,
          null,
          null,
          null,
          null,
          null,
          null,
          1,
          null,
          null,
          null,
          null,
          null,
          null,
          null,
          2,
          3,
          2,
          2,
          5,
          3,
          2,
          2,
          3,
          3,
          2,
          1,
          3,
          4,
          5,
          1,
          2,
          4,
          4,
          4,
          4,
          4,
          5,
          1,
          3,
          5,
          2,
          3,
          2,
          4,
          3,
          2,
          null,
          null,
          null,
          null,
          null,
          5,
          null,
          null,
          null,
          null,
          1,
          3,
          5,
          5,
          5,
          5,
          1,
          5,
          5,
          1,
          1,
          3,
          5,
          5,
          5,
          1,
          5,
          null,
          null,
          5,
          5,
          5,
          2,
          5,
          3,
          5,
          5,
          2,
          5,
          5,
          2,
          5,
          5,
          null,
          null,
          null,
          null,
          5,
          null,
          null,
          null,
          null,
          null,
          null,
          null,
          null,
          null,
          null,
          null,
          null,
          null,
          null,
          null,
          null,
          null,
          null,
          null,
          null,
          null,
          null,
          null,
          null,
          null,
          null,
          null,
          null,
          null,
          null,
          null,
          null,
          null,
          null,
          null,
          null,
          null,
          null,
          null,
          null,
          null,
          null,
          null,
          null,
          null,
          null,
          5,
          5,
          5,
          5,
          5,
          4,
          5,
          3,
          2,
          5,
          5,
          4,
          5,
          5,
          5,
          null,
          5,
          5,
          4,
          5,
          null,
          null,
          null,
          null,
          null,
          null,
          null,
          null,
          null,
          null,
          null,
          null,
          null,
          null,
          5,
          null,
          null,
          null,
          null,
          null,
          null,
          null,
          4,
          3,
          4,
          1,
          4,
          4,
          5,
          3,
          4,
          4,
          3,
          3,
          4,
          5,
          5,
          3,
          5,
          5,
          3,
          5,
          3,
          4,
          4,
          4,
          null,
          null,
          null,
          null,
          null,
          null,
          null,
          null,
          null,
          null,
          null,
          null,
          null,
          null,
          null,
          null,
          null,
          null,
          null,
          5,
          4,
          2,
          5,
          3,
          5,
          3,
          null,
          null,
          null,
          null,
          null,
          5,
          2,
          null,
          5,
          3,
          2,
          null,
          4,
          3,
          2,
          3,
          3,
          5,
          2,
          4,
          2,
          3,
          1,
          3,
          null,
          null,
          3,
          null,
          null,
          null,
          null,
          null,
          null,
          5,
          5,
          5,
          3,
          3,
          1,
          4,
          5,
          5,
          5,
          5,
          5,
          5,
          5,
          5,
          3,
          5,
          5,
          4,
          3,
          5,
          3,
          5,
          5,
          3,
          3,
          5,
          4,
          2,
          5,
          3,
          3,
          1,
          null,
          null,
          3,
          null,
          null,
          null,
          null,
          null,
          null,
          null,
          5,
          5,
          3,
          1,
          5,
          5,
          null,
          null,
          null,
          null,
          null,
          1,
          3,
          5,
          5,
          null,
          5,
          5,
          3,
          5,
          3,
          5,
          5,
          5,
          null,
          null,
          null,
          null,
          null,
          null,
          null,
          null,
          null,
          null,
          null,
          null,
          null,
          null,
          null,
          null,
          null,
          null,
          2,
          2,
          3,
          2,
          3,
          2,
          3,
          2,
          1,
          null,
          3,
          2,
          3,
          3,
          3,
          2,
          3,
          3,
          3,
          3,
          2,
          3,
          null,
          3,
          3,
          3,
          3,
          3,
          null,
          3,
          1,
          3,
          3,
          null,
          null,
          null,
          3,
          3,
          null,
          null,
          null,
          null,
          5,
          3,
          5,
          4,
          5,
          2,
          1,
          2,
          1,
          3,
          5,
          5,
          5,
          3,
          5,
          5,
          2,
          5,
          5,
          3,
          4,
          5,
          4,
          1,
          3,
          5,
          5,
          2,
          4,
          5,
          3,
          2,
          5,
          null,
          5,
          null,
          3,
          5,
          null,
          null,
          null,
          null,
          5,
          3,
          5,
          null,
          null,
          null,
          null,
          null,
          null,
          null,
          null,
          null,
          null,
          null,
          null,
          null,
          null,
          null,
          null,
          null,
          null,
          null,
          null,
          null,
          null,
          null,
          null,
          null,
          null,
          null,
          null,
          null,
          null,
          null,
          null,
          null,
          null,
          null,
          null,
          null,
          null,
          null,
          5,
          1,
          3,
          1,
          5,
          1,
          2,
          1,
          1,
          5,
          5,
          1,
          3,
          5,
          4,
          1,
          4,
          4,
          4,
          5,
          4,
          4,
          1,
          4,
          4,
          5,
          5,
          3,
          4,
          5,
          5,
          3,
          3,
          1,
          1,
          1,
          3,
          4,
          2,
          3,
          2,
          3,
          5,
          null,
          null,
          null,
          null,
          null,
          null,
          null,
          null,
          null,
          5,
          1,
          2,
          2,
          5,
          5,
          5,
          null,
          2,
          null,
          null,
          null,
          null,
          null,
          null,
          null,
          null,
          null,
          null,
          null,
          null,
          null,
          null,
          null,
          1,
          null,
          null,
          null,
          null,
          null,
          null,
          null,
          5,
          2,
          3,
          1,
          4,
          4,
          3,
          1,
          2,
          5,
          null,
          1,
          1,
          5,
          3,
          null,
          5,
          2,
          3,
          5,
          null,
          3,
          1,
          4,
          2,
          5,
          1,
          4,
          2,
          5,
          1,
          1,
          5,
          null,
          null,
          null,
          null,
          5,
          null,
          null,
          null,
          null,
          5,
          4,
          5,
          4,
          4,
          2,
          1,
          null,
          1,
          4,
          2,
          null,
          5,
          4,
          5,
          null,
          null,
          null,
          null,
          null,
          null,
          null,
          null,
          null,
          null,
          null,
          null,
          null,
          null,
          null,
          null,
          null,
          null,
          null,
          null,
          null,
          null,
          null,
          null,
          null,
          null,
          null,
          3,
          1,
          4,
          2,
          5,
          3,
          1,
          3,
          3,
          4,
          4,
          3,
          5,
          3,
          5,
          null,
          4,
          2,
          5,
          5,
          null,
          5,
          1,
          null,
          null,
          null,
          null,
          null,
          null,
          null,
          null,
          null,
          null,
          null,
          1,
          null,
          null,
          null,
          null,
          null,
          null,
          null,
          5,
          3,
          4,
          4,
          5,
          3,
          3,
          2,
          3,
          3,
          2,
          2,
          3,
          4,
          5,
          1,
          2,
          4,
          5,
          4,
          3,
          4,
          5,
          2,
          3,
          5,
          4,
          3,
          2,
          5,
          4,
          2,
          null,
          null,
          null,
          null,
          null,
          5,
          null,
          null,
          null,
          null,
          1,
          2,
          5,
          1,
          5,
          3,
          1,
          3,
          4,
          1,
          2,
          3,
          5,
          5,
          5,
          2,
          5,
          null,
          null,
          5,
          5,
          5,
          2,
          5,
          5,
          5,
          3,
          3,
          5,
          5,
          5,
          3,
          5,
          null,
          null,
          null,
          null,
          5,
          null,
          null,
          null,
          null,
          null,
          null,
          null,
          null,
          null,
          null,
          null,
          null,
          null,
          null,
          null,
          null,
          null,
          null,
          null,
          null,
          null,
          null,
          null,
          null,
          null,
          null,
          null,
          null,
          null,
          null,
          null,
          null,
          null,
          null,
          null,
          null,
          null,
          null,
          null,
          null,
          null,
          null,
          null,
          null,
          null,
          null,
          5,
          5,
          5,
          1,
          4,
          3,
          5,
          3,
          2,
          5,
          5,
          4,
          5,
          5,
          5,
          null,
          5,
          5,
          3,
          5,
          null,
          null,
          null,
          null,
          null,
          null,
          null,
          null,
          null,
          null,
          null,
          null,
          null,
          null,
          5,
          null,
          null,
          null,
          null,
          null,
          null,
          null,
          4,
          2,
          4,
          1,
          4,
          4,
          5,
          4,
          3,
          4,
          3,
          3,
          4,
          5,
          5,
          3,
          5,
          3,
          4,
          5,
          2,
          3,
          4,
          2,
          null,
          null,
          null,
          null,
          null,
          null,
          null,
          null,
          null,
          null,
          null,
          null,
          null,
          null,
          null,
          null,
          null,
          null,
          null,
          4,
          3,
          3,
          3,
          3,
          2,
          3,
          null,
          null,
          null,
          null,
          null,
          4,
          2,
          null,
          5,
          3,
          2,
          5,
          3,
          3,
          2,
          4,
          3,
          5,
          2,
          5,
          2,
          4,
          1,
          3,
          null,
          null,
          3,
          null,
          null,
          null,
          null,
          null,
          null,
          5,
          5,
          5,
          3,
          5,
          1,
          4,
          5,
          5,
          5,
          5,
          5,
          5,
          5,
          4,
          3,
          5,
          5,
          4,
          2,
          5,
          3,
          5,
          5,
          3,
          2,
          5,
          4,
          2,
          5,
          4,
          3,
          2,
          null,
          null,
          2,
          null,
          null,
          null,
          null,
          null,
          null,
          null,
          5,
          3,
          5,
          3,
          4,
          3,
          null,
          null,
          null,
          null,
          null,
          2,
          4,
          5,
          5,
          null,
          4,
          4,
          5,
          5,
          1,
          5,
          5,
          5,
          null,
          null,
          null,
          null,
          null,
          null,
          null,
          null,
          null,
          null,
          null,
          null,
          null,
          null,
          null,
          null,
          null,
          null,
          2,
          2,
          2,
          2,
          3,
          2,
          2,
          1,
          2,
          null,
          2,
          2,
          3,
          3,
          2,
          2,
          2,
          2,
          3,
          2,
          2,
          3,
          null,
          2,
          2,
          3,
          3,
          2,
          null,
          3,
          2,
          2,
          3,
          null,
          null,
          null,
          2,
          3,
          null,
          null,
          null,
          null,
          2,
          1,
          5,
          1,
          4,
          1,
          1,
          1,
          1,
          1,
          1,
          3,
          3,
          3,
          4,
          1,
          1,
          5,
          4,
          5,
          4,
          3,
          1,
          4,
          4,
          4,
          4,
          2,
          3,
          5,
          3,
          4,
          4,
          null,
          2,
          null,
          2,
          4,
          null,
          null,
          null,
          null,
          5,
          3,
          4,
          null,
          null,
          null,
          null,
          null,
          null,
          null,
          null,
          null,
          null,
          null,
          null,
          null,
          null,
          null,
          null,
          null,
          null,
          null,
          null,
          null,
          null,
          null,
          null,
          null,
          null,
          null,
          null,
          null,
          null,
          null,
          null,
          null,
          null,
          null,
          null,
          null,
          null,
          null,
          1,
          1,
          4,
          1,
          5,
          1,
          3,
          1,
          1,
          1,
          5,
          1,
          3,
          5,
          3,
          1,
          4,
          3,
          3,
          5,
          5,
          4,
          1,
          3,
          4,
          5,
          4,
          1,
          4,
          5,
          5,
          3,
          3,
          1,
          1,
          1,
          2,
          4,
          2,
          2,
          1,
          1,
          1,
          null,
          null,
          null,
          null,
          null,
          null,
          null,
          null,
          null,
          5,
          1,
          2,
          5,
          5,
          4,
          5,
          null,
          1,
          null,
          null,
          null,
          null,
          null,
          null,
          null,
          null,
          null,
          null,
          null,
          null,
          null,
          null,
          null,
          2,
          null,
          null,
          null,
          null,
          null,
          null,
          null,
          5,
          2,
          3,
          1,
          4,
          4,
          2,
          1,
          2,
          5,
          null,
          2,
          1,
          5,
          3,
          null,
          5,
          2,
          2,
          5,
          null,
          3,
          1,
          4,
          2,
          5,
          1,
          4,
          3,
          5,
          1,
          3,
          5,
          null,
          null,
          null,
          null,
          5,
          null,
          null,
          null,
          null,
          3,
          2,
          3,
          3,
          3,
          2,
          1,
          null,
          1,
          3,
          2,
          null,
          4,
          4,
          5,
          null,
          null,
          null,
          null,
          null,
          null,
          null,
          null,
          null,
          null,
          null,
          null,
          null,
          null,
          null,
          null,
          null,
          null,
          null,
          null,
          null,
          null,
          null,
          null,
          null,
          null,
          null,
          3,
          1,
          1,
          1,
          3,
          2,
          4,
          1,
          2,
          4,
          4,
          4,
          3,
          2,
          5,
          null,
          5,
          4,
          5,
          5,
          null,
          5,
          3,
          null,
          null,
          null,
          null,
          null,
          null,
          null,
          null,
          null,
          null,
          null,
          4,
          null,
          null,
          null,
          null,
          null,
          null,
          null,
          1,
          4,
          3,
          3,
          5,
          3,
          2,
          2,
          4,
          2,
          3,
          2,
          2,
          4,
          5,
          1,
          2,
          5,
          5,
          4,
          3,
          5,
          5,
          1,
          3,
          5,
          5,
          3,
          4,
          5,
          5,
          2,
          null,
          null,
          null,
          null,
          null,
          5,
          null,
          null,
          null,
          null,
          1,
          5,
          5,
          2,
          5,
          3,
          1,
          5,
          4,
          1,
          1,
          1,
          5,
          5,
          5,
          1,
          5,
          null,
          null,
          5,
          5,
          5,
          5,
          5,
          3,
          5,
          5,
          3,
          5,
          5,
          5,
          4,
          3,
          null,
          null,
          null,
          null,
          5,
          null,
          null,
          null,
          null,
          null,
          null,
          null,
          null,
          null,
          null,
          null,
          null,
          null,
          null,
          null,
          null,
          null,
          null,
          null,
          null,
          null,
          null,
          null,
          null,
          null,
          null,
          null,
          null,
          null,
          null,
          null,
          null,
          null,
          null,
          null,
          null,
          null,
          null,
          null,
          null,
          null,
          null,
          null,
          null,
          null,
          null,
          5,
          5,
          5,
          1,
          4,
          3,
          5,
          3,
          2,
          5,
          5,
          4,
          5,
          5,
          5,
          null,
          4,
          5,
          4,
          3,
          null,
          null,
          null,
          null,
          null,
          null,
          null,
          null,
          null,
          null,
          null,
          null,
          null,
          null,
          5,
          null,
          null,
          null,
          null,
          null,
          null,
          null,
          4,
          2,
          5,
          1,
          3,
          4,
          5,
          3,
          3,
          4,
          3,
          3,
          5,
          5,
          4,
          3,
          5,
          3,
          3,
          5,
          3,
          3,
          3,
          3,
          null,
          null,
          null,
          null,
          null,
          null,
          null,
          null,
          null,
          null,
          null,
          null,
          null,
          null,
          null,
          null,
          null,
          null,
          null,
          4,
          3,
          2,
          3,
          3,
          2,
          3,
          null,
          null,
          null,
          null,
          null,
          4,
          2,
          null,
          5,
          2,
          2,
          4,
          3,
          3,
          2,
          3,
          3,
          5,
          4,
          4,
          2,
          3,
          3,
          2,
          null,
          null,
          3,
          null,
          null,
          null,
          null,
          null,
          null,
          5,
          5,
          5,
          3,
          5,
          1,
          4,
          5,
          4,
          5,
          5,
          5,
          5,
          5,
          4,
          3,
          2,
          5,
          4,
          2,
          5,
          4,
          5,
          5,
          3,
          2,
          5,
          4,
          2,
          5,
          4,
          3,
          2,
          null,
          null,
          2,
          null,
          null,
          null,
          null,
          null,
          null,
          null,
          3,
          5,
          4,
          1,
          4,
          2,
          null,
          null,
          null,
          null,
          null,
          3,
          5,
          5,
          5,
          null,
          5,
          5,
          5,
          5,
          3,
          5,
          5,
          5,
          null,
          null,
          null,
          null,
          null,
          null,
          null,
          null,
          null,
          null,
          null,
          null,
          null,
          null,
          null,
          null,
          null,
          null,
          2,
          2,
          3,
          2,
          3,
          2,
          2,
          2,
          1,
          null,
          3,
          1,
          2,
          3,
          3,
          2,
          2,
          2,
          3,
          2,
          2,
          3,
          null,
          2,
          3,
          3,
          3,
          2,
          null,
          3,
          1,
          2,
          3,
          null,
          null,
          null,
          2,
          3,
          null,
          null,
          null,
          null,
          1,
          1,
          5,
          2,
          4,
          1,
          1,
          2,
          5,
          1,
          1,
          2,
          3,
          5,
          4,
          1,
          3,
          4,
          3,
          5,
          4,
          5,
          2,
          2,
          2,
          5,
          5,
          1,
          4,
          5,
          4,
          2,
          4,
          null,
          4,
          null,
          1,
          4,
          null,
          null,
          null,
          null,
          4,
          3,
          4,
          null,
          null,
          null,
          null,
          null,
          null,
          null,
          null,
          null,
          null,
          null,
          null,
          null,
          null,
          null,
          null,
          null,
          null,
          null,
          null,
          null,
          null,
          null,
          null,
          null,
          null,
          null,
          null,
          null,
          null,
          null,
          null,
          null,
          null,
          null,
          null,
          null,
          null,
          null,
          1,
          1,
          3,
          2,
          4,
          1,
          1,
          1,
          1,
          2,
          5,
          1,
          3,
          5,
          3,
          1,
          4,
          3,
          3,
          5,
          4,
          4,
          1,
          3,
          4,
          5,
          3,
          1,
          4,
          5,
          5,
          4,
          3,
          1,
          1,
          1,
          3,
          5,
          3,
          2,
          1,
          2,
          2,
          null,
          null,
          null,
          null,
          null,
          null,
          null,
          null,
          null,
          3,
          1,
          3,
          5,
          5,
          2,
          5,
          null,
          3,
          null,
          null,
          null,
          null,
          null,
          null,
          null,
          null,
          null,
          null,
          null,
          null,
          null,
          null,
          null,
          4,
          null,
          null,
          null,
          null,
          null,
          null,
          null,
          5,
          2,
          1,
          1,
          3,
          4,
          2,
          1,
          3,
          5,
          null,
          2,
          1,
          5,
          2,
          null,
          5,
          2,
          2,
          5,
          null,
          3,
          1,
          4,
          3,
          5,
          1,
          3,
          5,
          5,
          1,
          3,
          5,
          null,
          null,
          null,
          null,
          5,
          null,
          null,
          null,
          null,
          5,
          5,
          4,
          4,
          3,
          4,
          4,
          null,
          4,
          5,
          5,
          null,
          4,
          5,
          4,
          null,
          null,
          null,
          null,
          null,
          null,
          null,
          null,
          null,
          null,
          null,
          null,
          null,
          null,
          null,
          null,
          null,
          null,
          null,
          null,
          null,
          null,
          null,
          null,
          null,
          null,
          null,
          5,
          5,
          4,
          1,
          4,
          5,
          5,
          5,
          5,
          5,
          5,
          3,
          3,
          5,
          5,
          null,
          5,
          5,
          5,
          5,
          null,
          4,
          3,
          null,
          null,
          null,
          null,
          null,
          null,
          null,
          null,
          null,
          null,
          null,
          4,
          null,
          null,
          null,
          null,
          null,
          null,
          null,
          3,
          4,
          4,
          2,
          3,
          2,
          4,
          3,
          4,
          3,
          3,
          2,
          3,
          5,
          5,
          1,
          4,
          5,
          5,
          5,
          4,
          5,
          5,
          3,
          2,
          5,
          5,
          2,
          4,
          4,
          5,
          3,
          null,
          null,
          null,
          null,
          null,
          5,
          null,
          null,
          null,
          null,
          1,
          5,
          5,
          2,
          5,
          5,
          1,
          5,
          4,
          1,
          4,
          2,
          5,
          5,
          5,
          4,
          5,
          null,
          null,
          5,
          5,
          5,
          5,
          5,
          3,
          5,
          5,
          3,
          5,
          5,
          5,
          4,
          3,
          null,
          null,
          null,
          null,
          5,
          null,
          null,
          null,
          null,
          null,
          null,
          null,
          null,
          null,
          null,
          null,
          null,
          null,
          null,
          null,
          null,
          null,
          null,
          null,
          null,
          null,
          null,
          null,
          null,
          null,
          null,
          null,
          null,
          null,
          null,
          null,
          null,
          null,
          null,
          null,
          null,
          null,
          null,
          null,
          null,
          null,
          null,
          null,
          null,
          null,
          null,
          5,
          4,
          5,
          2,
          5,
          3,
          5,
          3,
          3,
          5,
          5,
          4,
          5,
          5,
          5,
          null,
          4,
          5,
          4,
          4,
          null,
          null,
          null,
          null,
          null,
          null,
          null,
          null,
          null,
          null,
          null,
          null,
          null,
          null,
          5,
          null,
          null,
          null,
          null,
          null,
          null,
          null,
          4,
          5,
          3,
          1,
          3,
          5,
          3,
          5,
          5,
          3,
          5,
          1,
          3,
          4,
          3,
          5,
          4,
          2,
          1,
          4,
          3,
          2,
          5,
          4,
          null,
          null,
          null,
          null,
          null,
          null,
          null,
          null,
          null,
          null,
          null,
          null,
          null,
          null,
          null,
          null,
          null,
          null,
          null,
          4,
          4,
          5,
          4,
          5,
          null,
          5,
          null,
          null,
          null,
          null,
          null,
          5,
          4,
          null,
          5,
          2,
          3,
          4,
          2,
          2,
          2,
          5,
          4,
          5,
          3,
          4,
          2,
          3,
          3,
          3,
          null,
          null,
          2,
          null,
          null,
          null,
          null,
          null,
          null,
          5,
          5,
          5,
          3,
          5,
          1,
          4,
          5,
          4,
          5,
          5,
          5,
          5,
          5,
          4,
          3,
          2,
          3,
          4,
          2,
          5,
          3,
          3,
          5,
          3,
          1,
          5,
          4,
          2,
          4,
          4,
          2,
          2,
          null,
          null,
          2,
          null,
          null,
          null,
          null,
          null,
          null,
          null,
          5,
          2,
          5,
          3,
          4,
          3,
          null,
          null,
          null,
          null,
          null,
          3,
          5,
          5,
          5,
          null,
          5,
          5,
          3,
          5,
          3,
          5,
          1,
          5,
          null,
          null,
          null,
          null,
          null,
          null,
          null,
          null,
          null,
          null,
          null,
          null,
          null,
          null,
          null,
          null,
          null,
          null,
          2,
          2,
          2,
          3,
          3,
          3,
          2,
          1,
          2,
          null,
          2,
          2,
          3,
          3,
          2,
          3,
          3,
          2,
          3,
          3,
          2,
          3,
          null,
          2,
          2,
          3,
          3,
          2,
          null,
          3,
          2,
          3,
          3,
          null,
          null,
          null,
          3,
          3,
          null,
          null,
          null,
          null,
          5,
          2,
          2,
          2,
          2,
          5,
          3,
          4,
          4,
          5,
          3,
          2,
          1,
          4,
          4,
          4,
          4,
          2,
          1,
          2,
          2,
          3,
          5,
          2,
          3,
          2,
          3,
          2,
          2,
          3,
          2,
          3,
          1,
          null,
          1,
          null,
          5,
          2,
          null,
          null,
          null,
          null,
          5,
          3,
          4,
          null,
          null,
          null,
          null,
          null,
          null,
          null,
          null,
          null,
          null,
          null,
          null,
          null,
          null,
          null,
          null,
          null,
          null,
          null,
          null,
          null,
          null,
          null,
          null,
          null,
          null,
          null,
          null,
          null,
          null,
          null,
          null,
          null,
          null,
          null,
          null,
          null,
          null,
          null,
          5,
          1,
          3,
          3,
          3,
          1,
          1,
          1,
          1,
          5,
          5,
          1,
          3,
          5,
          4,
          1,
          4,
          3,
          4,
          5,
          2,
          4,
          1,
          4,
          3,
          3,
          3,
          1,
          3,
          5,
          5,
          4,
          3,
          1,
          1,
          1,
          3,
          5,
          2,
          3,
          1,
          2,
          5,
          null,
          null,
          null,
          null,
          null,
          null,
          null,
          null,
          null,
          5,
          2,
          3,
          5,
          5,
          5,
          4,
          null,
          3,
          null,
          null,
          null,
          null,
          null,
          null,
          null,
          null,
          null,
          null,
          null,
          null,
          null,
          null,
          null,
          4,
          null,
          null,
          null,
          null,
          null,
          null,
          null,
          5,
          4,
          1,
          1,
          3,
          5,
          4,
          5,
          4,
          5,
          null,
          1,
          1,
          5,
          2,
          null,
          5,
          2,
          2,
          5,
          null,
          2,
          1,
          4,
          3,
          5,
          1,
          3,
          4,
          4,
          1,
          3,
          4,
          null,
          null,
          null,
          null,
          4,
          null,
          null,
          null,
          null,
          5,
          5,
          3,
          4,
          3,
          4,
          5,
          null,
          5,
          5,
          5,
          null,
          2,
          4,
          4,
          null,
          null,
          null,
          null,
          null,
          null,
          null,
          null,
          null,
          null,
          null,
          null,
          null,
          null,
          null,
          null,
          null,
          null,
          null,
          null,
          null,
          null,
          null,
          null,
          null,
          null,
          null,
          5,
          5,
          4,
          2,
          4,
          5,
          5,
          5,
          5,
          5,
          5,
          3,
          4,
          4,
          4,
          null,
          4,
          5,
          3,
          5,
          null,
          3,
          5,
          null,
          null,
          null,
          null,
          null,
          null,
          null,
          null,
          null,
          null,
          null,
          2,
          null,
          null,
          null,
          null,
          null,
          null,
          null,
          5,
          3,
          3,
          2,
          3,
          4,
          5,
          3,
          4,
          5,
          5,
          2,
          3,
          5,
          4,
          5,
          4,
          3,
          4,
          4,
          3,
          5,
          5,
          5,
          5,
          5,
          5,
          4,
          4,
          3,
          5,
          3,
          null,
          null,
          null,
          null,
          null,
          5,
          null,
          null,
          null,
          null,
          1,
          5,
          5,
          2,
          5,
          5,
          1,
          5,
          4,
          1,
          4,
          1,
          5,
          5,
          5,
          4,
          5,
          null,
          null,
          5,
          5,
          5,
          5,
          5,
          3,
          5,
          5,
          3,
          3,
          5,
          3,
          4,
          3,
          null,
          null,
          null,
          null,
          5,
          null,
          null,
          null,
          null,
          null,
          null,
          null,
          null,
          null,
          null,
          null,
          null,
          null,
          null,
          null,
          null,
          null,
          null,
          null,
          null,
          null,
          null,
          null,
          null,
          null,
          null,
          null,
          null,
          null,
          null,
          null,
          null,
          null,
          null,
          null,
          null,
          null,
          null,
          null,
          null,
          null,
          null,
          null,
          null,
          null,
          null,
          5,
          4,
          4,
          3,
          5,
          5,
          5,
          5,
          4,
          5,
          5,
          4,
          5,
          5,
          5,
          null,
          4,
          5,
          4,
          3,
          null,
          null,
          null,
          null,
          null,
          null,
          null,
          null,
          null,
          null,
          null,
          null,
          null,
          null,
          5,
          null,
          null,
          null,
          null,
          null,
          null,
          null,
          5,
          5,
          3,
          1,
          3,
          5,
          5,
          5,
          5,
          5,
          5,
          2,
          3,
          3,
          4,
          5,
          3,
          4,
          3,
          3,
          3,
          3,
          5,
          5,
          null,
          null,
          null,
          null,
          null,
          null,
          null,
          null,
          null,
          null,
          null,
          null,
          null,
          null,
          null,
          null,
          null,
          null,
          null,
          4,
          3,
          5,
          3,
          5,
          5,
          5,
          null,
          null,
          null,
          null,
          null,
          5,
          3,
          null,
          5,
          3,
          2,
          4,
          1,
          3,
          5,
          5,
          3,
          4,
          4,
          5,
          3,
          4,
          1,
          4,
          null,
          null,
          1,
          null,
          null,
          null,
          null,
          null,
          null,
          5,
          5,
          5,
          2,
          4,
          1,
          4,
          5,
          4,
          5,
          4,
          3,
          5,
          5,
          4,
          2,
          2,
          3,
          3,
          2,
          5,
          2,
          2,
          5,
          3,
          1,
          5,
          3,
          2,
          2,
          3,
          2,
          1,
          null,
          null,
          3,
          null,
          null,
          null,
          null,
          null,
          null,
          null,
          5,
          5,
          4,
          1,
          3,
          5,
          null,
          null,
          null,
          null,
          null,
          1,
          3,
          4,
          5,
          null,
          3,
          4,
          3,
          3,
          3,
          2,
          5,
          5,
          null,
          null,
          null,
          null,
          null,
          null,
          null,
          null,
          null,
          null,
          null,
          null,
          null,
          null,
          null,
          null,
          null,
          null,
          2,
          2,
          3,
          3,
          3,
          3,
          3,
          2,
          2,
          null,
          3,
          2,
          3,
          3,
          3,
          3,
          3,
          2,
          3,
          3,
          1,
          3,
          null,
          3,
          3,
          3,
          3,
          3,
          null,
          3,
          1,
          3,
          3,
          null,
          null,
          null,
          3,
          3,
          null,
          null,
          null,
          null
         ],
         "y0": " ",
         "yaxis": "y"
        }
       ],
       "layout": {
        "legend": {
         "tracegroupgap": 0
        },
        "margin": {
         "t": 60
        },
        "template": {
         "data": {
          "bar": [
           {
            "error_x": {
             "color": "#f2f5fa"
            },
            "error_y": {
             "color": "#f2f5fa"
            },
            "marker": {
             "line": {
              "color": "rgb(17,17,17)",
              "width": 0.5
             },
             "pattern": {
              "fillmode": "overlay",
              "size": 10,
              "solidity": 0.2
             }
            },
            "type": "bar"
           }
          ],
          "barpolar": [
           {
            "marker": {
             "line": {
              "color": "rgb(17,17,17)",
              "width": 0.5
             },
             "pattern": {
              "fillmode": "overlay",
              "size": 10,
              "solidity": 0.2
             }
            },
            "type": "barpolar"
           }
          ],
          "carpet": [
           {
            "aaxis": {
             "endlinecolor": "#A2B1C6",
             "gridcolor": "#506784",
             "linecolor": "#506784",
             "minorgridcolor": "#506784",
             "startlinecolor": "#A2B1C6"
            },
            "baxis": {
             "endlinecolor": "#A2B1C6",
             "gridcolor": "#506784",
             "linecolor": "#506784",
             "minorgridcolor": "#506784",
             "startlinecolor": "#A2B1C6"
            },
            "type": "carpet"
           }
          ],
          "choropleth": [
           {
            "colorbar": {
             "outlinewidth": 0,
             "ticks": ""
            },
            "type": "choropleth"
           }
          ],
          "contour": [
           {
            "colorbar": {
             "outlinewidth": 0,
             "ticks": ""
            },
            "colorscale": [
             [
              0,
              "#0d0887"
             ],
             [
              0.1111111111111111,
              "#46039f"
             ],
             [
              0.2222222222222222,
              "#7201a8"
             ],
             [
              0.3333333333333333,
              "#9c179e"
             ],
             [
              0.4444444444444444,
              "#bd3786"
             ],
             [
              0.5555555555555556,
              "#d8576b"
             ],
             [
              0.6666666666666666,
              "#ed7953"
             ],
             [
              0.7777777777777778,
              "#fb9f3a"
             ],
             [
              0.8888888888888888,
              "#fdca26"
             ],
             [
              1,
              "#f0f921"
             ]
            ],
            "type": "contour"
           }
          ],
          "contourcarpet": [
           {
            "colorbar": {
             "outlinewidth": 0,
             "ticks": ""
            },
            "type": "contourcarpet"
           }
          ],
          "heatmap": [
           {
            "colorbar": {
             "outlinewidth": 0,
             "ticks": ""
            },
            "colorscale": [
             [
              0,
              "#0d0887"
             ],
             [
              0.1111111111111111,
              "#46039f"
             ],
             [
              0.2222222222222222,
              "#7201a8"
             ],
             [
              0.3333333333333333,
              "#9c179e"
             ],
             [
              0.4444444444444444,
              "#bd3786"
             ],
             [
              0.5555555555555556,
              "#d8576b"
             ],
             [
              0.6666666666666666,
              "#ed7953"
             ],
             [
              0.7777777777777778,
              "#fb9f3a"
             ],
             [
              0.8888888888888888,
              "#fdca26"
             ],
             [
              1,
              "#f0f921"
             ]
            ],
            "type": "heatmap"
           }
          ],
          "heatmapgl": [
           {
            "colorbar": {
             "outlinewidth": 0,
             "ticks": ""
            },
            "colorscale": [
             [
              0,
              "#0d0887"
             ],
             [
              0.1111111111111111,
              "#46039f"
             ],
             [
              0.2222222222222222,
              "#7201a8"
             ],
             [
              0.3333333333333333,
              "#9c179e"
             ],
             [
              0.4444444444444444,
              "#bd3786"
             ],
             [
              0.5555555555555556,
              "#d8576b"
             ],
             [
              0.6666666666666666,
              "#ed7953"
             ],
             [
              0.7777777777777778,
              "#fb9f3a"
             ],
             [
              0.8888888888888888,
              "#fdca26"
             ],
             [
              1,
              "#f0f921"
             ]
            ],
            "type": "heatmapgl"
           }
          ],
          "histogram": [
           {
            "marker": {
             "pattern": {
              "fillmode": "overlay",
              "size": 10,
              "solidity": 0.2
             }
            },
            "type": "histogram"
           }
          ],
          "histogram2d": [
           {
            "colorbar": {
             "outlinewidth": 0,
             "ticks": ""
            },
            "colorscale": [
             [
              0,
              "#0d0887"
             ],
             [
              0.1111111111111111,
              "#46039f"
             ],
             [
              0.2222222222222222,
              "#7201a8"
             ],
             [
              0.3333333333333333,
              "#9c179e"
             ],
             [
              0.4444444444444444,
              "#bd3786"
             ],
             [
              0.5555555555555556,
              "#d8576b"
             ],
             [
              0.6666666666666666,
              "#ed7953"
             ],
             [
              0.7777777777777778,
              "#fb9f3a"
             ],
             [
              0.8888888888888888,
              "#fdca26"
             ],
             [
              1,
              "#f0f921"
             ]
            ],
            "type": "histogram2d"
           }
          ],
          "histogram2dcontour": [
           {
            "colorbar": {
             "outlinewidth": 0,
             "ticks": ""
            },
            "colorscale": [
             [
              0,
              "#0d0887"
             ],
             [
              0.1111111111111111,
              "#46039f"
             ],
             [
              0.2222222222222222,
              "#7201a8"
             ],
             [
              0.3333333333333333,
              "#9c179e"
             ],
             [
              0.4444444444444444,
              "#bd3786"
             ],
             [
              0.5555555555555556,
              "#d8576b"
             ],
             [
              0.6666666666666666,
              "#ed7953"
             ],
             [
              0.7777777777777778,
              "#fb9f3a"
             ],
             [
              0.8888888888888888,
              "#fdca26"
             ],
             [
              1,
              "#f0f921"
             ]
            ],
            "type": "histogram2dcontour"
           }
          ],
          "mesh3d": [
           {
            "colorbar": {
             "outlinewidth": 0,
             "ticks": ""
            },
            "type": "mesh3d"
           }
          ],
          "parcoords": [
           {
            "line": {
             "colorbar": {
              "outlinewidth": 0,
              "ticks": ""
             }
            },
            "type": "parcoords"
           }
          ],
          "pie": [
           {
            "automargin": true,
            "type": "pie"
           }
          ],
          "scatter": [
           {
            "marker": {
             "line": {
              "color": "#283442"
             }
            },
            "type": "scatter"
           }
          ],
          "scatter3d": [
           {
            "line": {
             "colorbar": {
              "outlinewidth": 0,
              "ticks": ""
             }
            },
            "marker": {
             "colorbar": {
              "outlinewidth": 0,
              "ticks": ""
             }
            },
            "type": "scatter3d"
           }
          ],
          "scattercarpet": [
           {
            "marker": {
             "colorbar": {
              "outlinewidth": 0,
              "ticks": ""
             }
            },
            "type": "scattercarpet"
           }
          ],
          "scattergeo": [
           {
            "marker": {
             "colorbar": {
              "outlinewidth": 0,
              "ticks": ""
             }
            },
            "type": "scattergeo"
           }
          ],
          "scattergl": [
           {
            "marker": {
             "line": {
              "color": "#283442"
             }
            },
            "type": "scattergl"
           }
          ],
          "scattermapbox": [
           {
            "marker": {
             "colorbar": {
              "outlinewidth": 0,
              "ticks": ""
             }
            },
            "type": "scattermapbox"
           }
          ],
          "scatterpolar": [
           {
            "marker": {
             "colorbar": {
              "outlinewidth": 0,
              "ticks": ""
             }
            },
            "type": "scatterpolar"
           }
          ],
          "scatterpolargl": [
           {
            "marker": {
             "colorbar": {
              "outlinewidth": 0,
              "ticks": ""
             }
            },
            "type": "scatterpolargl"
           }
          ],
          "scatterternary": [
           {
            "marker": {
             "colorbar": {
              "outlinewidth": 0,
              "ticks": ""
             }
            },
            "type": "scatterternary"
           }
          ],
          "surface": [
           {
            "colorbar": {
             "outlinewidth": 0,
             "ticks": ""
            },
            "colorscale": [
             [
              0,
              "#0d0887"
             ],
             [
              0.1111111111111111,
              "#46039f"
             ],
             [
              0.2222222222222222,
              "#7201a8"
             ],
             [
              0.3333333333333333,
              "#9c179e"
             ],
             [
              0.4444444444444444,
              "#bd3786"
             ],
             [
              0.5555555555555556,
              "#d8576b"
             ],
             [
              0.6666666666666666,
              "#ed7953"
             ],
             [
              0.7777777777777778,
              "#fb9f3a"
             ],
             [
              0.8888888888888888,
              "#fdca26"
             ],
             [
              1,
              "#f0f921"
             ]
            ],
            "type": "surface"
           }
          ],
          "table": [
           {
            "cells": {
             "fill": {
              "color": "#506784"
             },
             "line": {
              "color": "rgb(17,17,17)"
             }
            },
            "header": {
             "fill": {
              "color": "#2a3f5f"
             },
             "line": {
              "color": "rgb(17,17,17)"
             }
            },
            "type": "table"
           }
          ]
         },
         "layout": {
          "annotationdefaults": {
           "arrowcolor": "#f2f5fa",
           "arrowhead": 0,
           "arrowwidth": 1
          },
          "autotypenumbers": "strict",
          "coloraxis": {
           "colorbar": {
            "outlinewidth": 0,
            "ticks": ""
           }
          },
          "colorscale": {
           "diverging": [
            [
             0,
             "#8e0152"
            ],
            [
             0.1,
             "#c51b7d"
            ],
            [
             0.2,
             "#de77ae"
            ],
            [
             0.3,
             "#f1b6da"
            ],
            [
             0.4,
             "#fde0ef"
            ],
            [
             0.5,
             "#f7f7f7"
            ],
            [
             0.6,
             "#e6f5d0"
            ],
            [
             0.7,
             "#b8e186"
            ],
            [
             0.8,
             "#7fbc41"
            ],
            [
             0.9,
             "#4d9221"
            ],
            [
             1,
             "#276419"
            ]
           ],
           "sequential": [
            [
             0,
             "#0d0887"
            ],
            [
             0.1111111111111111,
             "#46039f"
            ],
            [
             0.2222222222222222,
             "#7201a8"
            ],
            [
             0.3333333333333333,
             "#9c179e"
            ],
            [
             0.4444444444444444,
             "#bd3786"
            ],
            [
             0.5555555555555556,
             "#d8576b"
            ],
            [
             0.6666666666666666,
             "#ed7953"
            ],
            [
             0.7777777777777778,
             "#fb9f3a"
            ],
            [
             0.8888888888888888,
             "#fdca26"
            ],
            [
             1,
             "#f0f921"
            ]
           ],
           "sequentialminus": [
            [
             0,
             "#0d0887"
            ],
            [
             0.1111111111111111,
             "#46039f"
            ],
            [
             0.2222222222222222,
             "#7201a8"
            ],
            [
             0.3333333333333333,
             "#9c179e"
            ],
            [
             0.4444444444444444,
             "#bd3786"
            ],
            [
             0.5555555555555556,
             "#d8576b"
            ],
            [
             0.6666666666666666,
             "#ed7953"
            ],
            [
             0.7777777777777778,
             "#fb9f3a"
            ],
            [
             0.8888888888888888,
             "#fdca26"
            ],
            [
             1,
             "#f0f921"
            ]
           ]
          },
          "colorway": [
           "#636efa",
           "#EF553B",
           "#00cc96",
           "#ab63fa",
           "#FFA15A",
           "#19d3f3",
           "#FF6692",
           "#B6E880",
           "#FF97FF",
           "#FECB52"
          ],
          "font": {
           "color": "#f2f5fa"
          },
          "geo": {
           "bgcolor": "rgb(17,17,17)",
           "lakecolor": "rgb(17,17,17)",
           "landcolor": "rgb(17,17,17)",
           "showlakes": true,
           "showland": true,
           "subunitcolor": "#506784"
          },
          "hoverlabel": {
           "align": "left"
          },
          "hovermode": "closest",
          "mapbox": {
           "style": "dark"
          },
          "paper_bgcolor": "rgb(17,17,17)",
          "plot_bgcolor": "rgb(17,17,17)",
          "polar": {
           "angularaxis": {
            "gridcolor": "#506784",
            "linecolor": "#506784",
            "ticks": ""
           },
           "bgcolor": "rgb(17,17,17)",
           "radialaxis": {
            "gridcolor": "#506784",
            "linecolor": "#506784",
            "ticks": ""
           }
          },
          "scene": {
           "xaxis": {
            "backgroundcolor": "rgb(17,17,17)",
            "gridcolor": "#506784",
            "gridwidth": 2,
            "linecolor": "#506784",
            "showbackground": true,
            "ticks": "",
            "zerolinecolor": "#C8D4E3"
           },
           "yaxis": {
            "backgroundcolor": "rgb(17,17,17)",
            "gridcolor": "#506784",
            "gridwidth": 2,
            "linecolor": "#506784",
            "showbackground": true,
            "ticks": "",
            "zerolinecolor": "#C8D4E3"
           },
           "zaxis": {
            "backgroundcolor": "rgb(17,17,17)",
            "gridcolor": "#506784",
            "gridwidth": 2,
            "linecolor": "#506784",
            "showbackground": true,
            "ticks": "",
            "zerolinecolor": "#C8D4E3"
           }
          },
          "shapedefaults": {
           "line": {
            "color": "#f2f5fa"
           }
          },
          "sliderdefaults": {
           "bgcolor": "#C8D4E3",
           "bordercolor": "rgb(17,17,17)",
           "borderwidth": 1,
           "tickwidth": 0
          },
          "ternary": {
           "aaxis": {
            "gridcolor": "#506784",
            "linecolor": "#506784",
            "ticks": ""
           },
           "baxis": {
            "gridcolor": "#506784",
            "linecolor": "#506784",
            "ticks": ""
           },
           "bgcolor": "rgb(17,17,17)",
           "caxis": {
            "gridcolor": "#506784",
            "linecolor": "#506784",
            "ticks": ""
           }
          },
          "title": {
           "x": 0.05
          },
          "updatemenudefaults": {
           "bgcolor": "#506784",
           "borderwidth": 0
          },
          "xaxis": {
           "automargin": true,
           "gridcolor": "#283442",
           "linecolor": "#506784",
           "ticks": "",
           "title": {
            "standoff": 15
           },
           "zerolinecolor": "#283442",
           "zerolinewidth": 2
          },
          "yaxis": {
           "automargin": true,
           "gridcolor": "#283442",
           "linecolor": "#506784",
           "ticks": "",
           "title": {
            "standoff": 15
           },
           "zerolinecolor": "#283442",
           "zerolinewidth": 2
          }
         }
        },
        "violinmode": "group",
        "xaxis": {
         "anchor": "y",
         "domain": [
          0,
          1
         ],
         "title": {
          "text": "variable"
         }
        },
        "yaxis": {
         "anchor": "x",
         "domain": [
          0,
          1
         ],
         "title": {
          "text": "value"
         }
        }
       }
      }
     },
     "metadata": {},
     "output_type": "display_data"
    }
   ],
   "source": [
    "px.violin(rating_counts_raw_df)"
   ]
  }
 ],
 "metadata": {
  "interpreter": {
   "hash": "c2deab0c0d56e72ca5db1d97fb88fe0c0ab6b5e910fcaec703ad36be267b2091"
  },
  "kernelspec": {
   "display_name": "Python 3.8.8 64-bit ('base': conda)",
   "name": "python3"
  },
  "language_info": {
   "codemirror_mode": {
    "name": "ipython",
    "version": 3
   },
   "file_extension": ".py",
   "mimetype": "text/x-python",
   "name": "python",
   "nbconvert_exporter": "python",
   "pygments_lexer": "ipython3",
   "version": "3.8.8"
  }
 },
 "nbformat": 4,
 "nbformat_minor": 4
}
