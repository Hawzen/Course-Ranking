{
 "cells": [
  {
   "cell_type": "code",
   "execution_count": 592,
   "metadata": {},
   "outputs": [],
   "source": [
    "import re\n",
    "import numpy as np\n",
    "import pandas as pd\n",
    "import plotly \n",
    "from plotly.subplots import make_subplots\n",
    "import plotly.express as px\n",
    "import plotly.io as pio\n",
    "\n",
    "# Config\n",
    "pio.templates.default = \"plotly_dark\"\n",
    "\n",
    "pd.set_option(\"display.max_rows\", 500)\n",
    "pd.set_option(\"display.max_columns\", 50)\n",
    "pd.set_option(\"plotting.backend\", \"plotly\")\n",
    "\n",
    "# TODO: Backtesting"
   ]
  },
  {
   "cell_type": "markdown",
   "metadata": {},
   "source": [
    "# Data"
   ]
  },
  {
   "cell_type": "code",
   "execution_count": 268,
   "metadata": {},
   "outputs": [],
   "source": [
    "\n",
    "data = pd.read_csv(\"data.csv\")\n",
    "data_filtered = data.drop(columns=data.columns[3:5])\n",
    "\n",
    "courses = [\"ENGLISH100\", \"ARB100\", \"MATH101\", \"CHEM101\", \"STAT101\", \"TECH101\", \"ENTREPRENEUR101\", \"FAJAB101\", \"NAHAJ101\", \"ENGLISH110\",\n",
    "            \"SALAM107\", \"PHYS104\", \"MATH106\", \"CSC111\", \"MATH151\", \"SALAM108\", \"CSC113\", \"CSC220\", \"MATH244\",\n",
    "            \"CSC212\", \"CSC215\", \"MATH281\", \"CSC304\", \"CSC380\", \"CSC227\", \"CSC311\", \"CSC339\", \"CSC343\", \"CSC361\",\n",
    "            \"CSC329\", \"CSC340\", \"CSC453\", \"CSC496\", \"PHYS210\", \"PHYS103\", \"CHEM103\", \"CSC443\", \"CSC462\", \"CSC476\", \"CSC478\", \"CSC484\", \"CSC489\"]\n",
    "criteria = [\"Application\", \"Relevance\", \"Insight\", \"Understanding\", \"Ease\"]\n",
    "ratings = list(range(1, 6))"
   ]
  },
  {
   "cell_type": "code",
   "execution_count": 460,
   "metadata": {},
   "outputs": [],
   "source": [
    "@np.vectorize\n",
    "def course_to_category(course):\n",
    "    prefix_to_category = {\"ENGLISH\":\"Humanities\", \"NAHAJ\": \"Humanities\", \"ARB\": \"Humanities\", \"ENTREPRENEUR\": \"Humanities\", \"FAJAB\": \"Humanities\", \"TECH\": \"Humanities\",\n",
    "                    \"PHYS\": \"Physics\", \"CHEM\": \"Chemistry\", \"SALAM\": \"Islamics\", \"MATH\": \"Mathematics\", \"STAT\": \"Mathematics\", \"CSC\": \"Computer science\"}\n",
    "    return prefix_to_category[re.findall(\"[a-zA-Z]+\", course)[0]]\n",
    "\n",
    "categories = pd.Series(course_to_category(courses))\n",
    "assert sum(categories.isna()) == 0, \"prefix_to_category must cover each course prefix\""
   ]
  },
  {
   "cell_type": "markdown",
   "metadata": {},
   "source": [
    "# Wrangling"
   ]
  },
  {
   "cell_type": "code",
   "execution_count": 270,
   "metadata": {},
   "outputs": [],
   "source": [
    "def df_by_regex(regex):\n",
    "    \"\"\"THIS USES GLOBALY DEFINED DF ALARM ALARM\"\"\"\n",
    "    return data_filtered.filter(regex=regex, axis=1)\n",
    "\n",
    "def get_subject_df(subject):\n",
    "    \"\"\"THIS USES GLOBALY DEFINED DF ALARM ALARM\"\"\"\n",
    "    return df_by_regex(f\"{subject}.*\\[.*\\].*\")"
   ]
  },
  {
   "cell_type": "code",
   "execution_count": 271,
   "metadata": {},
   "outputs": [],
   "source": [
    "index = list((course, criterion) for criterion in criteria for course in courses)\n",
    "sorted_index = sorted(index, key=lambda x: courses.index(x[0]))\n",
    "df = get_subject_df(\"\").T.set_index(pd.Index(sorted_index))"
   ]
  },
  {
   "cell_type": "markdown",
   "metadata": {},
   "source": [
    "## Ranking"
   ]
  },
  {
   "cell_type": "markdown",
   "metadata": {},
   "source": [
    "### What course is [max, min, contriversial] based on [criteria, weights]"
   ]
  },
  {
   "cell_type": "code",
   "execution_count": 632,
   "metadata": {},
   "outputs": [],
   "source": [
    "def scores_to_bayesian_mean(scores, category_weight_portion=1):\n",
    "    \"\"\"\n",
    "    This function uses globally defined category_to_criterion_mean alarm alarm!\n",
    "    scores: Series of scores with Name formatted like this (Course, _)\n",
    "    category_to_criterion_mean: category_to_criterion_mean\n",
    "    category_weight_portion: the portion of scores category average is weighted at. e.g. 1 means its just as weighty as scores, 2 means half as weighty\n",
    "    returns bayesian estimation of mean of scores, given its category\n",
    "    \"\"\"\n",
    "    scores = scores.dropna()\n",
    "    category_mean_series = pd.Series({\"\": category_to_criterion_mean[course_to_category(scores.name[0]).item(0)]})\n",
    "    weights = [max(len(scores) // category_weight_portion, 1)] + [1] * len(scores)\n",
    "    normalized_weights = weights/np.linalg.norm(weights)\n",
    "    return np.average(scores.append(category_mean_series), weights=normalized_weights)\n",
    "\n",
    "# def scores_to_bayesian_contriversial(scores, category_to_criterion_mean, category_weight_portion=1):\n",
    "#     \"\"\"\n",
    "#     scores: Series of scores with Name formatted like this (Course, _)\n",
    "#     category_to_criterion_mean: category_to_criterion_mean\n",
    "#     category_weight_portion: the portion of scores category average is weighted at. e.g. 1 means its just as weighty as scores, 2 means half as weighty\n",
    "#     returns bayesian estimation of mean of scores, given its category\n",
    "#     \"\"\"\n",
    "#     scores = scores.dropna()\n",
    "#     category_mean_series = pd.Series({\"\": category_to_criterion_mean[course_to_category(scores.name[0]).item(0)]})\n",
    "#     weights = [max(len(scores) // category_weight_portion, 1)] + [1] * len(scores)\n",
    "#     normalized_weights = weights/np.linalg.norm(weights)\n",
    "#     return np.average(scores.append(category_mean_series), weights=normalized_weights)\n"
   ]
  },
  {
   "cell_type": "code",
   "execution_count": 651,
   "metadata": {},
   "outputs": [
    {
     "data": {
      "application/vnd.plotly.v1+json": {
       "config": {
        "plotlyServerURL": "https://plot.ly"
       },
       "data": [
        {
         "hovertemplate": "color=Humanities<br>symbol=Humanities<br>index=%{x}<br>value=%{y}<extra></extra>",
         "legendgroup": "Humanities, Humanities",
         "marker": {
          "color": "#636efa",
          "symbol": "circle"
         },
         "mode": "markers",
         "name": "Humanities, Humanities",
         "orientation": "v",
         "showlegend": true,
         "type": "scatter",
         "x": [
          "ENGLISH100",
          "ARB100",
          "TECH101",
          "ENTREPRENEUR101",
          "FAJAB101",
          "NAHAJ101",
          "ENGLISH110"
         ],
         "xaxis": "x",
         "y": [
          4.388369236583521,
          1.9369153911564625,
          3.4993318756073855,
          1.7850461613216715,
          1.7492205215419505,
          2.499331875607386,
          4.285046161321671
         ],
         "yaxis": "y"
        },
        {
         "hovertemplate": "color=Mathematics<br>symbol=Mathematics<br>index=%{x}<br>value=%{y}<extra></extra>",
         "legendgroup": "Mathematics, Mathematics",
         "marker": {
          "color": "#EF553B",
          "symbol": "diamond"
         },
         "mode": "markers",
         "name": "Mathematics, Mathematics",
         "orientation": "v",
         "showlegend": true,
         "type": "scatter",
         "x": [
          "MATH101",
          "STAT101",
          "MATH106",
          "MATH151",
          "MATH244",
          "MATH281"
         ],
         "xaxis": "x",
         "y": [
          4.3132440476190474,
          4.715136054421769,
          3.1257440476190474,
          4.3132440476190474,
          4.41765873015873,
          3.1676587301587316
         ],
         "yaxis": "y"
        },
        {
         "hovertemplate": "color=Chemistry<br>symbol=Chemistry<br>index=%{x}<br>value=%{y}<extra></extra>",
         "legendgroup": "Chemistry, Chemistry",
         "marker": {
          "color": "#00cc96",
          "symbol": "square"
         },
         "mode": "markers",
         "name": "Chemistry, Chemistry",
         "orientation": "v",
         "showlegend": true,
         "type": "scatter",
         "x": [
          "CHEM101",
          "CHEM103"
         ],
         "xaxis": "x",
         "y": [
          1.5357142857142858,
          1.25
         ],
         "yaxis": "y"
        },
        {
         "hovertemplate": "color=Islamics<br>symbol=Islamics<br>index=%{x}<br>value=%{y}<extra></extra>",
         "legendgroup": "Islamics, Islamics",
         "marker": {
          "color": "#ab63fa",
          "symbol": "x"
         },
         "mode": "markers",
         "name": "Islamics, Islamics",
         "orientation": "v",
         "showlegend": true,
         "type": "scatter",
         "x": [
          "SALAM107",
          "SALAM108"
         ],
         "xaxis": "x",
         "y": [
          2.0234693877551018,
          1.532857142857143
         ],
         "yaxis": "y"
        },
        {
         "hovertemplate": "color=Physics<br>symbol=Physics<br>index=%{x}<br>value=%{y}<extra></extra>",
         "legendgroup": "Physics, Physics",
         "marker": {
          "color": "#FFA15A",
          "symbol": "cross"
         },
         "mode": "markers",
         "name": "Physics, Physics",
         "orientation": "v",
         "showlegend": true,
         "type": "scatter",
         "x": [
          "PHYS104",
          "PHYS210",
          "PHYS103"
         ],
         "xaxis": "x",
         "y": [
          2.467687074829932,
          1.2738095238095237,
          2.0684523809523814
         ],
         "yaxis": "y"
        },
        {
         "hovertemplate": "color=Computer science<br>symbol=Computer science<br>index=%{x}<br>value=%{y}<extra></extra>",
         "legendgroup": "Computer science, Computer science",
         "marker": {
          "color": "#19d3f3",
          "symbol": "circle"
         },
         "mode": "markers",
         "name": "Computer science, Computer science",
         "orientation": "v",
         "showlegend": true,
         "type": "scatter",
         "x": [
          "CSC111",
          "CSC113",
          "CSC220",
          "CSC212",
          "CSC215",
          "CSC304",
          "CSC380",
          "CSC227",
          "CSC311",
          "CSC339",
          "CSC343",
          "CSC361",
          "CSC329",
          "CSC340",
          "CSC453",
          "CSC496",
          "CSC443",
          "CSC462",
          "CSC476",
          "CSC478",
          "CSC484",
          "CSC489"
         ],
         "xaxis": "x",
         "y": [
          4.716528003246753,
          3.176032003710575,
          3.946444805194805,
          4.288704004329004,
          4.683056006493507,
          1.6220373376623378,
          4.346444805194805,
          3.7464448051948054,
          4.346444805194805,
          1.7464448051948052,
          3.1464448051948053,
          3.5464448051948048,
          4.746444805194805,
          2.5464448051948048,
          3.446444805194805,
          4.558056006493507,
          2.616112012987013,
          4.846444805194805,
          3.2322240259740256,
          2.7322240259740256,
          2.7322240259740256,
          2.2322240259740256
         ],
         "yaxis": "y"
        },
        {
         "hovertemplate": "color=Humanities<br>symbol=Humanities<br>index=%{x}<br>value=%{y}<extra></extra>",
         "legendgroup": "Humanities, Humanities",
         "marker": {
          "color": "#636efa",
          "symbol": "circle"
         },
         "mode": "markers",
         "name": "Humanities, Humanities",
         "orientation": "v",
         "showlegend": true,
         "type": "scatter",
         "x": [
          "ENGLISH100",
          "ARB100",
          "TECH101",
          "ENTREPRENEUR101",
          "FAJAB101",
          "NAHAJ101",
          "ENGLISH110"
         ],
         "xaxis": "x2",
         "y": [
          4.537367724867724,
          2.6670386904761902,
          2.3337585034013606,
          1.4766156462585034,
          2.0560515873015874,
          1.6909013605442178,
          3.2623299319727894
         ],
         "yaxis": "y2"
        },
        {
         "hovertemplate": "color=Mathematics<br>symbol=Mathematics<br>index=%{x}<br>value=%{y}<extra></extra>",
         "legendgroup": "Mathematics, Mathematics",
         "marker": {
          "color": "#EF553B",
          "symbol": "diamond"
         },
         "mode": "markers",
         "name": "Mathematics, Mathematics",
         "orientation": "v",
         "showlegend": true,
         "type": "scatter",
         "x": [
          "MATH101",
          "STAT101",
          "MATH106",
          "MATH151",
          "MATH244",
          "MATH281"
         ],
         "xaxis": "x2",
         "y": [
          4.5786210317460325,
          4.804138321995465,
          4.2661210317460325,
          4.766121031746032,
          4.438161375661375,
          4.604828042328042
         ],
         "yaxis": "y2"
        },
        {
         "hovertemplate": "color=Chemistry<br>symbol=Chemistry<br>index=%{x}<br>value=%{y}<extra></extra>",
         "legendgroup": "Chemistry, Chemistry",
         "marker": {
          "color": "#00cc96",
          "symbol": "square"
         },
         "mode": "markers",
         "name": "Chemistry, Chemistry",
         "orientation": "v",
         "showlegend": true,
         "type": "scatter",
         "x": [
          "CHEM101",
          "CHEM103"
         ],
         "xaxis": "x2",
         "y": [
          3.0510204081632653,
          1.3571428571428572
         ],
         "yaxis": "y2"
        },
        {
         "hovertemplate": "color=Islamics<br>symbol=Islamics<br>index=%{x}<br>value=%{y}<extra></extra>",
         "legendgroup": "Islamics, Islamics",
         "marker": {
          "color": "#ab63fa",
          "symbol": "x"
         },
         "mode": "markers",
         "name": "Islamics, Islamics",
         "orientation": "v",
         "showlegend": true,
         "type": "scatter",
         "x": [
          "SALAM107",
          "SALAM108"
         ],
         "xaxis": "x2",
         "y": [
          4.156122448979592,
          3.718571428571429
         ],
         "yaxis": "y2"
        },
        {
         "hovertemplate": "color=Physics<br>symbol=Physics<br>index=%{x}<br>value=%{y}<extra></extra>",
         "legendgroup": "Physics, Physics",
         "marker": {
          "color": "#FFA15A",
          "symbol": "cross"
         },
         "mode": "markers",
         "name": "Physics, Physics",
         "orientation": "v",
         "showlegend": true,
         "type": "scatter",
         "x": [
          "PHYS104",
          "PHYS210",
          "PHYS103"
         ],
         "xaxis": "x2",
         "y": [
          3.4115646258503403,
          1.380952380952381,
          3.095238095238096
         ],
         "yaxis": "y2"
        },
        {
         "hovertemplate": "color=Computer science<br>symbol=Computer science<br>index=%{x}<br>value=%{y}<extra></extra>",
         "legendgroup": "Computer science, Computer science",
         "marker": {
          "color": "#19d3f3",
          "symbol": "circle"
         },
         "mode": "markers",
         "name": "Computer science, Computer science",
         "orientation": "v",
         "showlegend": true,
         "type": "scatter",
         "x": [
          "CSC111",
          "CSC113",
          "CSC220",
          "CSC212",
          "CSC215",
          "CSC304",
          "CSC380",
          "CSC227",
          "CSC311",
          "CSC339",
          "CSC343",
          "CSC361",
          "CSC329",
          "CSC340",
          "CSC453",
          "CSC496",
          "CSC443",
          "CSC462",
          "CSC476",
          "CSC478",
          "CSC484",
          "CSC489"
         ],
         "xaxis": "x2",
         "y": [
          3.4677996482683984,
          3.034628169449598,
          4.048479437229438,
          3.7903995310245313,
          3.9355992965367963,
          3.123732864357865,
          2.3484794372294373,
          3.248479437229437,
          4.848479437229438,
          4.148479437229438,
          2.648479437229437,
          3.6484794372294376,
          4.848479437229438,
          3.3484794372294373,
          2.2484794372294377,
          4.560599296536797,
          3.121198593073593,
          4.748479437229438,
          2.7423971861471865,
          3.242397186147186,
          2.7423971861471865,
          3.242397186147186
         ],
         "yaxis": "y2"
        },
        {
         "hovertemplate": "color=Humanities<br>symbol=Humanities<br>index=%{x}<br>value=%{y}<extra></extra>",
         "legendgroup": "Humanities, Humanities",
         "marker": {
          "color": "#636efa",
          "symbol": "circle"
         },
         "mode": "markers",
         "name": "Humanities, Humanities",
         "orientation": "v",
         "showlegend": true,
         "type": "scatter",
         "x": [
          "ENGLISH100",
          "ARB100",
          "TECH101",
          "ENTREPRENEUR101",
          "FAJAB101",
          "NAHAJ101",
          "ENGLISH110"
         ],
         "xaxis": "x3",
         "y": [
          2.234205719324767,
          1.7634814342403629,
          1.729693067703272,
          1.586835924846129,
          1.5179752456538174,
          1.6582644962747004,
          1.8011216391318432
         ],
         "yaxis": "y3"
        },
        {
         "hovertemplate": "color=Mathematics<br>symbol=Mathematics<br>index=%{x}<br>value=%{y}<extra></extra>",
         "legendgroup": "Mathematics, Mathematics",
         "marker": {
          "color": "#EF553B",
          "symbol": "diamond"
         },
         "mode": "markers",
         "name": "Mathematics, Mathematics",
         "orientation": "v",
         "showlegend": true,
         "type": "scatter",
         "x": [
          "MATH101",
          "STAT101",
          "MATH106",
          "MATH151",
          "MATH244",
          "MATH281"
         ],
         "xaxis": "x3",
         "y": [
          4.170758928571428,
          4.052295918367347,
          2.983258928571429,
          4.170758928571429,
          3.6443452380952386,
          3.6443452380952386
         ],
         "yaxis": "y3"
        },
        {
         "hovertemplate": "color=Chemistry<br>symbol=Chemistry<br>index=%{x}<br>value=%{y}<extra></extra>",
         "legendgroup": "Chemistry, Chemistry",
         "marker": {
          "color": "#00cc96",
          "symbol": "square"
         },
         "mode": "markers",
         "name": "Chemistry, Chemistry",
         "orientation": "v",
         "showlegend": true,
         "type": "scatter",
         "x": [
          "CHEM101",
          "CHEM103"
         ],
         "xaxis": "x3",
         "y": [
          1.38265306122449,
          1.1785714285714286
         ],
         "yaxis": "y3"
        },
        {
         "hovertemplate": "color=Islamics<br>symbol=Islamics<br>index=%{x}<br>value=%{y}<extra></extra>",
         "legendgroup": "Islamics, Islamics",
         "marker": {
          "color": "#ab63fa",
          "symbol": "x"
         },
         "mode": "markers",
         "name": "Islamics, Islamics",
         "orientation": "v",
         "showlegend": true,
         "type": "scatter",
         "x": [
          "SALAM107",
          "SALAM108"
         ],
         "xaxis": "x3",
         "y": [
          2.092857142857143,
          1.43
         ],
         "yaxis": "y3"
        },
        {
         "hovertemplate": "color=Physics<br>symbol=Physics<br>index=%{x}<br>value=%{y}<extra></extra>",
         "legendgroup": "Physics, Physics",
         "marker": {
          "color": "#FFA15A",
          "symbol": "cross"
         },
         "mode": "markers",
         "name": "Physics, Physics",
         "orientation": "v",
         "showlegend": true,
         "type": "scatter",
         "x": [
          "PHYS104",
          "PHYS210",
          "PHYS103"
         ],
         "xaxis": "x3",
         "y": [
          2.4107142857142856,
          1.375,
          2.09375
         ],
         "yaxis": "y3"
        },
        {
         "hovertemplate": "color=Computer science<br>symbol=Computer science<br>index=%{x}<br>value=%{y}<extra></extra>",
         "legendgroup": "Computer science, Computer science",
         "marker": {
          "color": "#19d3f3",
          "symbol": "circle"
         },
         "mode": "markers",
         "name": "Computer science, Computer science",
         "orientation": "v",
         "showlegend": true,
         "type": "scatter",
         "x": [
          "CSC111",
          "CSC113",
          "CSC220",
          "CSC212",
          "CSC215",
          "CSC304",
          "CSC380",
          "CSC227",
          "CSC311",
          "CSC339",
          "CSC343",
          "CSC361",
          "CSC329",
          "CSC340",
          "CSC453",
          "CSC496",
          "CSC443",
          "CSC462",
          "CSC476",
          "CSC478",
          "CSC484",
          "CSC489"
         ],
         "xaxis": "x3",
         "y": [
          3.583756087662337,
          2.5957212430426715,
          4.23400974025974,
          4.778341450216451,
          4.042512175324675,
          2.0283414502164505,
          3.634009740259741,
          3.5340097402597404,
          4.334009740259741,
          3.8340097402597406,
          2.4340097402597407,
          3.4340097402597407,
          4.834009740259741,
          3.4340097402597407,
          3.534009740259741,
          3.7925121753246755,
          2.33502435064935,
          4.234009740259741,
          2.6700487012987013,
          2.6700487012987013,
          2.1700487012987013,
          2.1700487012987013
         ],
         "yaxis": "y3"
        },
        {
         "hovertemplate": "color=Humanities<br>symbol=Humanities<br>index=%{x}<br>value=%{y}<extra></extra>",
         "legendgroup": "Humanities, Humanities",
         "marker": {
          "color": "#636efa",
          "symbol": "circle"
         },
         "mode": "markers",
         "name": "Humanities, Humanities",
         "orientation": "v",
         "showlegend": true,
         "type": "scatter",
         "x": [
          "ENGLISH100",
          "ARB100",
          "TECH101",
          "ENTREPRENEUR101",
          "FAJAB101",
          "NAHAJ101",
          "ENGLISH110"
         ],
         "xaxis": "x4",
         "y": [
          2.1163076341647766,
          2.255846088435374,
          2.2209669582118563,
          1.9352526724975705,
          2.5077947845804993,
          4.220966958211856,
          2.2209669582118563
         ],
         "yaxis": "y4"
        },
        {
         "hovertemplate": "color=Mathematics<br>symbol=Mathematics<br>index=%{x}<br>value=%{y}<extra></extra>",
         "legendgroup": "Mathematics, Mathematics",
         "marker": {
          "color": "#EF553B",
          "symbol": "diamond"
         },
         "mode": "markers",
         "name": "Mathematics, Mathematics",
         "orientation": "v",
         "showlegend": true,
         "type": "scatter",
         "x": [
          "MATH101",
          "STAT101",
          "MATH106",
          "MATH151",
          "MATH244",
          "MATH281"
         ],
         "xaxis": "x4",
         "y": [
          4.297371031746032,
          3.839852607709751,
          3.1098710317460316,
          4.047371031746032,
          3.3131613756613763,
          4.563161375661375
         ],
         "yaxis": "y4"
        },
        {
         "hovertemplate": "color=Chemistry<br>symbol=Chemistry<br>index=%{x}<br>value=%{y}<extra></extra>",
         "legendgroup": "Chemistry, Chemistry",
         "marker": {
          "color": "#00cc96",
          "symbol": "square"
         },
         "mode": "markers",
         "name": "Chemistry, Chemistry",
         "orientation": "v",
         "showlegend": true,
         "type": "scatter",
         "x": [
          "CHEM101",
          "CHEM103"
         ],
         "xaxis": "x4",
         "y": [
          1.9642857142857144,
          1.25
         ],
         "yaxis": "y4"
        },
        {
         "hovertemplate": "color=Islamics<br>symbol=Islamics<br>index=%{x}<br>value=%{y}<extra></extra>",
         "legendgroup": "Islamics, Islamics",
         "marker": {
          "color": "#ab63fa",
          "symbol": "x"
         },
         "mode": "markers",
         "name": "Islamics, Islamics",
         "orientation": "v",
         "showlegend": true,
         "type": "scatter",
         "x": [
          "SALAM107",
          "SALAM108"
         ],
         "xaxis": "x4",
         "y": [
          2.48265306122449,
          1.5757142857142858
         ],
         "yaxis": "y4"
        },
        {
         "hovertemplate": "color=Physics<br>symbol=Physics<br>index=%{x}<br>value=%{y}<extra></extra>",
         "legendgroup": "Physics, Physics",
         "marker": {
          "color": "#FFA15A",
          "symbol": "cross"
         },
         "mode": "markers",
         "name": "Physics, Physics",
         "orientation": "v",
         "showlegend": true,
         "type": "scatter",
         "x": [
          "PHYS104",
          "PHYS210",
          "PHYS103"
         ],
         "xaxis": "x4",
         "y": [
          1.931122448979592,
          1.517857142857143,
          3.379464285714286
         ],
         "yaxis": "y4"
        },
        {
         "hovertemplate": "color=Computer science<br>symbol=Computer science<br>index=%{x}<br>value=%{y}<extra></extra>",
         "legendgroup": "Computer science, Computer science",
         "marker": {
          "color": "#19d3f3",
          "symbol": "circle"
         },
         "mode": "markers",
         "name": "Computer science, Computer science",
         "orientation": "v",
         "showlegend": true,
         "type": "scatter",
         "x": [
          "CSC111",
          "CSC113",
          "CSC220",
          "CSC212",
          "CSC215",
          "CSC304",
          "CSC380",
          "CSC227",
          "CSC311",
          "CSC339",
          "CSC343",
          "CSC361",
          "CSC329",
          "CSC340",
          "CSC453",
          "CSC496",
          "CSC443",
          "CSC462",
          "CSC476",
          "CSC478",
          "CSC484",
          "CSC489"
         ],
         "xaxis": "x4",
         "y": [
          4.9069940476190474,
          3.7508503401360547,
          3.8511904761904767,
          4.875992063492063,
          4.063988095238096,
          2.5426587301587307,
          2.8511904761904763,
          2.5511904761904765,
          4.851190476190476,
          4.251190476190477,
          1.7511904761904757,
          4.151190476190476,
          4.751190476190477,
          3.9511904761904764,
          2.751190476190476,
          3.8139880952380953,
          2.1279761904761902,
          4.351190476190476,
          3.2559523809523805,
          2.7559523809523805,
          2.2559523809523805,
          2.7559523809523805
         ],
         "yaxis": "y4"
        },
        {
         "hovertemplate": "color=Humanities<br>symbol=Humanities<br>index=%{x}<br>value=%{y}<extra></extra>",
         "legendgroup": "Humanities, Humanities",
         "marker": {
          "color": "#636efa",
          "symbol": "circle"
         },
         "mode": "markers",
         "name": "Humanities, Humanities",
         "orientation": "v",
         "showlegend": true,
         "type": "scatter",
         "x": [
          "ENGLISH100",
          "ARB100",
          "TECH101",
          "ENTREPRENEUR101",
          "FAJAB101",
          "NAHAJ101",
          "ENGLISH110"
         ],
         "xaxis": "x5",
         "y": [
          4.720206601158982,
          2.8727324263038554,
          4.497408487204406,
          3.2831227729186914,
          3.9136432350718064,
          3.925979915775834,
          4.640265630061548
         ],
         "yaxis": "y5"
        },
        {
         "hovertemplate": "color=Mathematics<br>symbol=Mathematics<br>index=%{x}<br>value=%{y}<extra></extra>",
         "legendgroup": "Mathematics, Mathematics",
         "marker": {
          "color": "#EF553B",
          "symbol": "diamond"
         },
         "mode": "markers",
         "name": "Mathematics, Mathematics",
         "orientation": "v",
         "showlegend": true,
         "type": "scatter",
         "x": [
          "MATH101",
          "STAT101",
          "MATH106",
          "MATH151",
          "MATH244",
          "MATH281"
         ],
         "xaxis": "x5",
         "y": [
          2.6422991071428568,
          2.7340561224489797,
          2.017299107142857,
          3.954799107142857,
          2.1063988095238098,
          3.3563988095238098
         ],
         "yaxis": "y5"
        },
        {
         "hovertemplate": "color=Chemistry<br>symbol=Chemistry<br>index=%{x}<br>value=%{y}<extra></extra>",
         "legendgroup": "Chemistry, Chemistry",
         "marker": {
          "color": "#00cc96",
          "symbol": "square"
         },
         "mode": "markers",
         "name": "Chemistry, Chemistry",
         "orientation": "v",
         "showlegend": true,
         "type": "scatter",
         "x": [
          "CHEM101",
          "CHEM103"
         ],
         "xaxis": "x5",
         "y": [
          2.11734693877551,
          1.3214285714285714
         ],
         "yaxis": "y5"
        },
        {
         "hovertemplate": "color=Islamics<br>symbol=Islamics<br>index=%{x}<br>value=%{y}<extra></extra>",
         "legendgroup": "Islamics, Islamics",
         "marker": {
          "color": "#ab63fa",
          "symbol": "x"
         },
         "mode": "markers",
         "name": "Islamics, Islamics",
         "orientation": "v",
         "showlegend": true,
         "type": "scatter",
         "x": [
          "SALAM107",
          "SALAM108"
         ],
         "xaxis": "x5",
         "y": [
          3.870408163265306,
          3.9185714285714286
         ],
         "yaxis": "y5"
        },
        {
         "hovertemplate": "color=Physics<br>symbol=Physics<br>index=%{x}<br>value=%{y}<extra></extra>",
         "legendgroup": "Physics, Physics",
         "marker": {
          "color": "#FFA15A",
          "symbol": "cross"
         },
         "mode": "markers",
         "name": "Physics, Physics",
         "orientation": "v",
         "showlegend": true,
         "type": "scatter",
         "x": [
          "PHYS104",
          "PHYS210",
          "PHYS103"
         ],
         "xaxis": "x5",
         "y": [
          1.8265306122448979,
          1.2857142857142858,
          1.5714285714285714
         ],
         "yaxis": "y5"
        },
        {
         "hovertemplate": "color=Computer science<br>symbol=Computer science<br>index=%{x}<br>value=%{y}<extra></extra>",
         "legendgroup": "Computer science, Computer science",
         "marker": {
          "color": "#19d3f3",
          "symbol": "circle"
         },
         "mode": "markers",
         "name": "Computer science, Computer science",
         "orientation": "v",
         "showlegend": true,
         "type": "scatter",
         "x": [
          "CSC111",
          "CSC113",
          "CSC220",
          "CSC212",
          "CSC215",
          "CSC304",
          "CSC380",
          "CSC227",
          "CSC311",
          "CSC339",
          "CSC343",
          "CSC361",
          "CSC329",
          "CSC340",
          "CSC453",
          "CSC496",
          "CSC443",
          "CSC462",
          "CSC476",
          "CSC478",
          "CSC484",
          "CSC489"
         ],
         "xaxis": "x5",
         "y": [
          4.270058847402598,
          4.094352968460112,
          2.6320941558441557,
          3.2767451298701302,
          2.6651176948051947,
          4.193411796536797,
          3.1320941558441566,
          3.2320941558441563,
          3.1320941558441566,
          3.2320941558441567,
          2.432094155844156,
          2.732094155844156,
          3.532094155844156,
          2.732094155844156,
          3.2320941558441563,
          2.1651176948051947,
          4.080235389610389,
          3.2320941558441563,
          2.660470779220779,
          3.1604707792207796,
          2.160470779220779,
          2.660470779220779
         ],
         "yaxis": "y5"
        },
        {
         "hovertemplate": "color=Humanities<br>symbol=Humanities<br>index=%{x}<br>value=%{y}<extra></extra>",
         "legendgroup": "Humanities, Humanities",
         "marker": {
          "color": "#636efa",
          "symbol": "circle"
         },
         "mode": "markers",
         "name": "Humanities, Humanities",
         "orientation": "v",
         "showlegend": true,
         "type": "scatter",
         "x": [
          "ENGLISH100",
          "ARB100",
          "TECH101",
          "ENTREPRENEUR101",
          "FAJAB101",
          "NAHAJ101",
          "ENGLISH110"
         ],
         "xaxis": "x7",
         "y": [
          5,
          5,
          5,
          4,
          5,
          5,
          5
         ],
         "yaxis": "y7"
        },
        {
         "hovertemplate": "color=Mathematics<br>symbol=Mathematics<br>index=%{x}<br>value=%{y}<extra></extra>",
         "legendgroup": "Mathematics, Mathematics",
         "marker": {
          "color": "#EF553B",
          "symbol": "diamond"
         },
         "mode": "markers",
         "name": "Mathematics, Mathematics",
         "orientation": "v",
         "showlegend": true,
         "type": "scatter",
         "x": [
          "MATH101",
          "STAT101",
          "MATH106",
          "MATH151",
          "MATH244",
          "MATH281"
         ],
         "xaxis": "x7",
         "y": [
          5,
          5,
          5,
          5,
          5,
          5
         ],
         "yaxis": "y7"
        },
        {
         "hovertemplate": "color=Chemistry<br>symbol=Chemistry<br>index=%{x}<br>value=%{y}<extra></extra>",
         "legendgroup": "Chemistry, Chemistry",
         "marker": {
          "color": "#00cc96",
          "symbol": "square"
         },
         "mode": "markers",
         "name": "Chemistry, Chemistry",
         "orientation": "v",
         "showlegend": true,
         "type": "scatter",
         "x": [
          "CHEM101",
          "CHEM103"
         ],
         "xaxis": "x7",
         "y": [
          5,
          null
         ],
         "yaxis": "y7"
        },
        {
         "hovertemplate": "color=Islamics<br>symbol=Islamics<br>index=%{x}<br>value=%{y}<extra></extra>",
         "legendgroup": "Islamics, Islamics",
         "marker": {
          "color": "#ab63fa",
          "symbol": "x"
         },
         "mode": "markers",
         "name": "Islamics, Islamics",
         "orientation": "v",
         "showlegend": true,
         "type": "scatter",
         "x": [
          "SALAM107",
          "SALAM108"
         ],
         "xaxis": "x7",
         "y": [
          5,
          5
         ],
         "yaxis": "y7"
        },
        {
         "hovertemplate": "color=Physics<br>symbol=Physics<br>index=%{x}<br>value=%{y}<extra></extra>",
         "legendgroup": "Physics, Physics",
         "marker": {
          "color": "#FFA15A",
          "symbol": "cross"
         },
         "mode": "markers",
         "name": "Physics, Physics",
         "orientation": "v",
         "showlegend": true,
         "type": "scatter",
         "x": [
          "PHYS104",
          "PHYS210",
          "PHYS103"
         ],
         "xaxis": "x7",
         "y": [
          4,
          null,
          3
         ],
         "yaxis": "y7"
        },
        {
         "hovertemplate": "color=Computer science<br>symbol=Computer science<br>index=%{x}<br>value=%{y}<extra></extra>",
         "legendgroup": "Computer science, Computer science",
         "marker": {
          "color": "#19d3f3",
          "symbol": "circle"
         },
         "mode": "markers",
         "name": "Computer science, Computer science",
         "orientation": "v",
         "showlegend": true,
         "type": "scatter",
         "x": [
          "CSC111",
          "CSC113",
          "CSC220",
          "CSC212",
          "CSC215",
          "CSC304",
          "CSC380",
          "CSC227",
          "CSC311",
          "CSC339",
          "CSC343",
          "CSC361",
          "CSC329",
          "CSC340",
          "CSC453",
          "CSC496",
          "CSC443",
          "CSC462",
          "CSC476",
          "CSC478",
          "CSC484",
          "CSC489"
         ],
         "xaxis": "x7",
         "y": [
          5,
          5,
          5,
          5,
          5,
          5,
          5,
          5,
          5,
          5,
          5,
          5,
          5,
          5,
          5,
          5,
          3,
          5,
          null,
          null,
          null,
          null
         ],
         "yaxis": "y7"
        },
        {
         "hovertemplate": "color=Humanities<br>symbol=Humanities<br>index=%{x}<br>value=%{y}<extra></extra>",
         "legendgroup": "Humanities, Humanities",
         "marker": {
          "color": "#636efa",
          "symbol": "circle"
         },
         "mode": "markers",
         "name": "Humanities, Humanities",
         "orientation": "v",
         "showlegend": true,
         "type": "scatter",
         "x": [
          "ENGLISH100",
          "ARB100",
          "TECH101",
          "ENTREPRENEUR101",
          "FAJAB101",
          "NAHAJ101",
          "ENGLISH110"
         ],
         "xaxis": "x8",
         "y": [
          5,
          4,
          4,
          3,
          3,
          4,
          5
         ],
         "yaxis": "y8"
        },
        {
         "hovertemplate": "color=Mathematics<br>symbol=Mathematics<br>index=%{x}<br>value=%{y}<extra></extra>",
         "legendgroup": "Mathematics, Mathematics",
         "marker": {
          "color": "#EF553B",
          "symbol": "diamond"
         },
         "mode": "markers",
         "name": "Mathematics, Mathematics",
         "orientation": "v",
         "showlegend": true,
         "type": "scatter",
         "x": [
          "MATH101",
          "STAT101",
          "MATH106",
          "MATH151",
          "MATH244",
          "MATH281"
         ],
         "xaxis": "x8",
         "y": [
          5,
          5,
          5,
          5,
          5,
          5
         ],
         "yaxis": "y8"
        },
        {
         "hovertemplate": "color=Chemistry<br>symbol=Chemistry<br>index=%{x}<br>value=%{y}<extra></extra>",
         "legendgroup": "Chemistry, Chemistry",
         "marker": {
          "color": "#00cc96",
          "symbol": "square"
         },
         "mode": "markers",
         "name": "Chemistry, Chemistry",
         "orientation": "v",
         "showlegend": true,
         "type": "scatter",
         "x": [
          "CHEM101",
          "CHEM103"
         ],
         "xaxis": "x8",
         "y": [
          4,
          null
         ],
         "yaxis": "y8"
        },
        {
         "hovertemplate": "color=Islamics<br>symbol=Islamics<br>index=%{x}<br>value=%{y}<extra></extra>",
         "legendgroup": "Islamics, Islamics",
         "marker": {
          "color": "#ab63fa",
          "symbol": "x"
         },
         "mode": "markers",
         "name": "Islamics, Islamics",
         "orientation": "v",
         "showlegend": true,
         "type": "scatter",
         "x": [
          "SALAM107",
          "SALAM108"
         ],
         "xaxis": "x8",
         "y": [
          5,
          5
         ],
         "yaxis": "y8"
        },
        {
         "hovertemplate": "color=Physics<br>symbol=Physics<br>index=%{x}<br>value=%{y}<extra></extra>",
         "legendgroup": "Physics, Physics",
         "marker": {
          "color": "#FFA15A",
          "symbol": "cross"
         },
         "mode": "markers",
         "name": "Physics, Physics",
         "orientation": "v",
         "showlegend": true,
         "type": "scatter",
         "x": [
          "PHYS104",
          "PHYS210",
          "PHYS103"
         ],
         "xaxis": "x8",
         "y": [
          5,
          null,
          5
         ],
         "yaxis": "y8"
        },
        {
         "hovertemplate": "color=Computer science<br>symbol=Computer science<br>index=%{x}<br>value=%{y}<extra></extra>",
         "legendgroup": "Computer science, Computer science",
         "marker": {
          "color": "#19d3f3",
          "symbol": "circle"
         },
         "mode": "markers",
         "name": "Computer science, Computer science",
         "orientation": "v",
         "showlegend": true,
         "type": "scatter",
         "x": [
          "CSC111",
          "CSC113",
          "CSC220",
          "CSC212",
          "CSC215",
          "CSC304",
          "CSC380",
          "CSC227",
          "CSC311",
          "CSC339",
          "CSC343",
          "CSC361",
          "CSC329",
          "CSC340",
          "CSC453",
          "CSC496",
          "CSC443",
          "CSC462",
          "CSC476",
          "CSC478",
          "CSC484",
          "CSC489"
         ],
         "xaxis": "x8",
         "y": [
          5,
          5,
          5,
          5,
          5,
          5,
          5,
          5,
          5,
          5,
          4,
          5,
          5,
          5,
          3,
          5,
          3,
          5,
          null,
          null,
          null,
          null
         ],
         "yaxis": "y8"
        },
        {
         "hovertemplate": "color=Humanities<br>symbol=Humanities<br>index=%{x}<br>value=%{y}<extra></extra>",
         "legendgroup": "Humanities, Humanities",
         "marker": {
          "color": "#636efa",
          "symbol": "circle"
         },
         "mode": "markers",
         "name": "Humanities, Humanities",
         "orientation": "v",
         "showlegend": true,
         "type": "scatter",
         "x": [
          "ENGLISH100",
          "ARB100",
          "TECH101",
          "ENTREPRENEUR101",
          "FAJAB101",
          "NAHAJ101",
          "ENGLISH110"
         ],
         "xaxis": "x9",
         "y": [
          5,
          5,
          4,
          4,
          5,
          4,
          5
         ],
         "yaxis": "y9"
        },
        {
         "hovertemplate": "color=Mathematics<br>symbol=Mathematics<br>index=%{x}<br>value=%{y}<extra></extra>",
         "legendgroup": "Mathematics, Mathematics",
         "marker": {
          "color": "#EF553B",
          "symbol": "diamond"
         },
         "mode": "markers",
         "name": "Mathematics, Mathematics",
         "orientation": "v",
         "showlegend": true,
         "type": "scatter",
         "x": [
          "MATH101",
          "STAT101",
          "MATH106",
          "MATH151",
          "MATH244",
          "MATH281"
         ],
         "xaxis": "x9",
         "y": [
          5,
          5,
          5,
          5,
          5,
          5
         ],
         "yaxis": "y9"
        },
        {
         "hovertemplate": "color=Chemistry<br>symbol=Chemistry<br>index=%{x}<br>value=%{y}<extra></extra>",
         "legendgroup": "Chemistry, Chemistry",
         "marker": {
          "color": "#00cc96",
          "symbol": "square"
         },
         "mode": "markers",
         "name": "Chemistry, Chemistry",
         "orientation": "v",
         "showlegend": true,
         "type": "scatter",
         "x": [
          "CHEM101",
          "CHEM103"
         ],
         "xaxis": "x9",
         "y": [
          3,
          null
         ],
         "yaxis": "y9"
        },
        {
         "hovertemplate": "color=Islamics<br>symbol=Islamics<br>index=%{x}<br>value=%{y}<extra></extra>",
         "legendgroup": "Islamics, Islamics",
         "marker": {
          "color": "#ab63fa",
          "symbol": "x"
         },
         "mode": "markers",
         "name": "Islamics, Islamics",
         "orientation": "v",
         "showlegend": true,
         "type": "scatter",
         "x": [
          "SALAM107",
          "SALAM108"
         ],
         "xaxis": "x9",
         "y": [
          5,
          4
         ],
         "yaxis": "y9"
        },
        {
         "hovertemplate": "color=Physics<br>symbol=Physics<br>index=%{x}<br>value=%{y}<extra></extra>",
         "legendgroup": "Physics, Physics",
         "marker": {
          "color": "#FFA15A",
          "symbol": "cross"
         },
         "mode": "markers",
         "name": "Physics, Physics",
         "orientation": "v",
         "showlegend": true,
         "type": "scatter",
         "x": [
          "PHYS104",
          "PHYS210",
          "PHYS103"
         ],
         "xaxis": "x9",
         "y": [
          4,
          null,
          4
         ],
         "yaxis": "y9"
        },
        {
         "hovertemplate": "color=Computer science<br>symbol=Computer science<br>index=%{x}<br>value=%{y}<extra></extra>",
         "legendgroup": "Computer science, Computer science",
         "marker": {
          "color": "#19d3f3",
          "symbol": "circle"
         },
         "mode": "markers",
         "name": "Computer science, Computer science",
         "orientation": "v",
         "showlegend": true,
         "type": "scatter",
         "x": [
          "CSC111",
          "CSC113",
          "CSC220",
          "CSC212",
          "CSC215",
          "CSC304",
          "CSC380",
          "CSC227",
          "CSC311",
          "CSC339",
          "CSC343",
          "CSC361",
          "CSC329",
          "CSC340",
          "CSC453",
          "CSC496",
          "CSC443",
          "CSC462",
          "CSC476",
          "CSC478",
          "CSC484",
          "CSC489"
         ],
         "xaxis": "x9",
         "y": [
          5,
          5,
          5,
          5,
          5,
          5,
          5,
          4,
          5,
          5,
          4,
          5,
          5,
          5,
          4,
          5,
          2,
          5,
          null,
          null,
          null,
          null
         ],
         "yaxis": "y9"
        },
        {
         "hovertemplate": "color=Humanities<br>symbol=Humanities<br>index=%{x}<br>value=%{y}<extra></extra>",
         "legendgroup": "Humanities, Humanities",
         "marker": {
          "color": "#636efa",
          "symbol": "circle"
         },
         "mode": "markers",
         "name": "Humanities, Humanities",
         "orientation": "v",
         "showlegend": true,
         "type": "scatter",
         "x": [
          "ENGLISH100",
          "ARB100",
          "TECH101",
          "ENTREPRENEUR101",
          "FAJAB101",
          "NAHAJ101",
          "ENGLISH110"
         ],
         "xaxis": "x10",
         "y": [
          5,
          5,
          5,
          5,
          5,
          5,
          5
         ],
         "yaxis": "y10"
        },
        {
         "hovertemplate": "color=Mathematics<br>symbol=Mathematics<br>index=%{x}<br>value=%{y}<extra></extra>",
         "legendgroup": "Mathematics, Mathematics",
         "marker": {
          "color": "#EF553B",
          "symbol": "diamond"
         },
         "mode": "markers",
         "name": "Mathematics, Mathematics",
         "orientation": "v",
         "showlegend": true,
         "type": "scatter",
         "x": [
          "MATH101",
          "STAT101",
          "MATH106",
          "MATH151",
          "MATH244",
          "MATH281"
         ],
         "xaxis": "x10",
         "y": [
          5,
          5,
          5,
          5,
          5,
          5
         ],
         "yaxis": "y10"
        },
        {
         "hovertemplate": "color=Chemistry<br>symbol=Chemistry<br>index=%{x}<br>value=%{y}<extra></extra>",
         "legendgroup": "Chemistry, Chemistry",
         "marker": {
          "color": "#00cc96",
          "symbol": "square"
         },
         "mode": "markers",
         "name": "Chemistry, Chemistry",
         "orientation": "v",
         "showlegend": true,
         "type": "scatter",
         "x": [
          "CHEM101",
          "CHEM103"
         ],
         "xaxis": "x10",
         "y": [
          4,
          null
         ],
         "yaxis": "y10"
        },
        {
         "hovertemplate": "color=Islamics<br>symbol=Islamics<br>index=%{x}<br>value=%{y}<extra></extra>",
         "legendgroup": "Islamics, Islamics",
         "marker": {
          "color": "#ab63fa",
          "symbol": "x"
         },
         "mode": "markers",
         "name": "Islamics, Islamics",
         "orientation": "v",
         "showlegend": true,
         "type": "scatter",
         "x": [
          "SALAM107",
          "SALAM108"
         ],
         "xaxis": "x10",
         "y": [
          5,
          4
         ],
         "yaxis": "y10"
        },
        {
         "hovertemplate": "color=Physics<br>symbol=Physics<br>index=%{x}<br>value=%{y}<extra></extra>",
         "legendgroup": "Physics, Physics",
         "marker": {
          "color": "#FFA15A",
          "symbol": "cross"
         },
         "mode": "markers",
         "name": "Physics, Physics",
         "orientation": "v",
         "showlegend": true,
         "type": "scatter",
         "x": [
          "PHYS104",
          "PHYS210",
          "PHYS103"
         ],
         "xaxis": "x10",
         "y": [
          3,
          null,
          4
         ],
         "yaxis": "y10"
        },
        {
         "hovertemplate": "color=Computer science<br>symbol=Computer science<br>index=%{x}<br>value=%{y}<extra></extra>",
         "legendgroup": "Computer science, Computer science",
         "marker": {
          "color": "#19d3f3",
          "symbol": "circle"
         },
         "mode": "markers",
         "name": "Computer science, Computer science",
         "orientation": "v",
         "showlegend": true,
         "type": "scatter",
         "x": [
          "CSC111",
          "CSC113",
          "CSC220",
          "CSC212",
          "CSC215",
          "CSC304",
          "CSC380",
          "CSC227",
          "CSC311",
          "CSC339",
          "CSC343",
          "CSC361",
          "CSC329",
          "CSC340",
          "CSC453",
          "CSC496",
          "CSC443",
          "CSC462",
          "CSC476",
          "CSC478",
          "CSC484",
          "CSC489"
         ],
         "xaxis": "x10",
         "y": [
          5,
          5,
          5,
          5,
          5,
          5,
          5,
          4,
          5,
          5,
          3,
          5,
          5,
          5,
          4,
          5,
          3,
          5,
          null,
          null,
          null,
          null
         ],
         "yaxis": "y10"
        },
        {
         "hovertemplate": "color=Humanities<br>symbol=Humanities<br>index=%{x}<br>value=%{y}<extra></extra>",
         "legendgroup": "Humanities, Humanities",
         "marker": {
          "color": "#636efa",
          "symbol": "circle"
         },
         "mode": "markers",
         "name": "Humanities, Humanities",
         "orientation": "v",
         "showlegend": true,
         "type": "scatter",
         "x": [
          "ENGLISH100",
          "ARB100",
          "TECH101",
          "ENTREPRENEUR101",
          "FAJAB101",
          "NAHAJ101",
          "ENGLISH110"
         ],
         "xaxis": "x11",
         "y": [
          5,
          5,
          5,
          5,
          5,
          5,
          5
         ],
         "yaxis": "y11"
        },
        {
         "hovertemplate": "color=Mathematics<br>symbol=Mathematics<br>index=%{x}<br>value=%{y}<extra></extra>",
         "legendgroup": "Mathematics, Mathematics",
         "marker": {
          "color": "#EF553B",
          "symbol": "diamond"
         },
         "mode": "markers",
         "name": "Mathematics, Mathematics",
         "orientation": "v",
         "showlegend": true,
         "type": "scatter",
         "x": [
          "MATH101",
          "STAT101",
          "MATH106",
          "MATH151",
          "MATH244",
          "MATH281"
         ],
         "xaxis": "x11",
         "y": [
          5,
          5,
          5,
          5,
          4,
          5
         ],
         "yaxis": "y11"
        },
        {
         "hovertemplate": "color=Chemistry<br>symbol=Chemistry<br>index=%{x}<br>value=%{y}<extra></extra>",
         "legendgroup": "Chemistry, Chemistry",
         "marker": {
          "color": "#00cc96",
          "symbol": "square"
         },
         "mode": "markers",
         "name": "Chemistry, Chemistry",
         "orientation": "v",
         "showlegend": true,
         "type": "scatter",
         "x": [
          "CHEM101",
          "CHEM103"
         ],
         "xaxis": "x11",
         "y": [
          4,
          null
         ],
         "yaxis": "y11"
        },
        {
         "hovertemplate": "color=Islamics<br>symbol=Islamics<br>index=%{x}<br>value=%{y}<extra></extra>",
         "legendgroup": "Islamics, Islamics",
         "marker": {
          "color": "#ab63fa",
          "symbol": "x"
         },
         "mode": "markers",
         "name": "Islamics, Islamics",
         "orientation": "v",
         "showlegend": true,
         "type": "scatter",
         "x": [
          "SALAM107",
          "SALAM108"
         ],
         "xaxis": "x11",
         "y": [
          5,
          5
         ],
         "yaxis": "y11"
        },
        {
         "hovertemplate": "color=Physics<br>symbol=Physics<br>index=%{x}<br>value=%{y}<extra></extra>",
         "legendgroup": "Physics, Physics",
         "marker": {
          "color": "#FFA15A",
          "symbol": "cross"
         },
         "mode": "markers",
         "name": "Physics, Physics",
         "orientation": "v",
         "showlegend": true,
         "type": "scatter",
         "x": [
          "PHYS104",
          "PHYS210",
          "PHYS103"
         ],
         "xaxis": "x11",
         "y": [
          3,
          null,
          4
         ],
         "yaxis": "y11"
        },
        {
         "hovertemplate": "color=Computer science<br>symbol=Computer science<br>index=%{x}<br>value=%{y}<extra></extra>",
         "legendgroup": "Computer science, Computer science",
         "marker": {
          "color": "#19d3f3",
          "symbol": "circle"
         },
         "mode": "markers",
         "name": "Computer science, Computer science",
         "orientation": "v",
         "showlegend": true,
         "type": "scatter",
         "x": [
          "CSC111",
          "CSC113",
          "CSC220",
          "CSC212",
          "CSC215",
          "CSC304",
          "CSC380",
          "CSC227",
          "CSC311",
          "CSC339",
          "CSC343",
          "CSC361",
          "CSC329",
          "CSC340",
          "CSC453",
          "CSC496",
          "CSC443",
          "CSC462",
          "CSC476",
          "CSC478",
          "CSC484",
          "CSC489"
         ],
         "xaxis": "x11",
         "y": [
          5,
          5,
          5,
          5,
          5,
          5,
          5,
          5,
          5,
          5,
          4,
          4,
          5,
          5,
          4,
          4,
          5,
          5,
          null,
          null,
          null,
          null
         ],
         "yaxis": "y11"
        },
        {
         "hovertemplate": "color=Humanities<br>symbol=Humanities<br>index=%{x}<br>value=%{y}<extra></extra>",
         "legendgroup": "Humanities, Humanities",
         "marker": {
          "color": "#636efa",
          "symbol": "circle"
         },
         "mode": "markers",
         "name": "Humanities, Humanities",
         "orientation": "v",
         "showlegend": true,
         "type": "scatter",
         "x": [
          "ENGLISH100",
          "ARB100",
          "TECH101",
          "ENTREPRENEUR101",
          "FAJAB101",
          "NAHAJ101",
          "ENGLISH110"
         ],
         "xaxis": "x13",
         "y": [
          1,
          1,
          1,
          1,
          1,
          1,
          1
         ],
         "yaxis": "y13"
        },
        {
         "hovertemplate": "color=Mathematics<br>symbol=Mathematics<br>index=%{x}<br>value=%{y}<extra></extra>",
         "legendgroup": "Mathematics, Mathematics",
         "marker": {
          "color": "#EF553B",
          "symbol": "diamond"
         },
         "mode": "markers",
         "name": "Mathematics, Mathematics",
         "orientation": "v",
         "showlegend": true,
         "type": "scatter",
         "x": [
          "MATH101",
          "STAT101",
          "MATH106",
          "MATH151",
          "MATH244",
          "MATH281"
         ],
         "xaxis": "x13",
         "y": [
          2,
          4,
          1,
          3,
          2,
          2
         ],
         "yaxis": "y13"
        },
        {
         "hovertemplate": "color=Chemistry<br>symbol=Chemistry<br>index=%{x}<br>value=%{y}<extra></extra>",
         "legendgroup": "Chemistry, Chemistry",
         "marker": {
          "color": "#00cc96",
          "symbol": "square"
         },
         "mode": "markers",
         "name": "Chemistry, Chemistry",
         "orientation": "v",
         "showlegend": true,
         "type": "scatter",
         "x": [
          "CHEM101",
          "CHEM103"
         ],
         "xaxis": "x13",
         "y": [
          1,
          null
         ],
         "yaxis": "y13"
        },
        {
         "hovertemplate": "color=Islamics<br>symbol=Islamics<br>index=%{x}<br>value=%{y}<extra></extra>",
         "legendgroup": "Islamics, Islamics",
         "marker": {
          "color": "#ab63fa",
          "symbol": "x"
         },
         "mode": "markers",
         "name": "Islamics, Islamics",
         "orientation": "v",
         "showlegend": true,
         "type": "scatter",
         "x": [
          "SALAM107",
          "SALAM108"
         ],
         "xaxis": "x13",
         "y": [
          1,
          1
         ],
         "yaxis": "y13"
        },
        {
         "hovertemplate": "color=Physics<br>symbol=Physics<br>index=%{x}<br>value=%{y}<extra></extra>",
         "legendgroup": "Physics, Physics",
         "marker": {
          "color": "#FFA15A",
          "symbol": "cross"
         },
         "mode": "markers",
         "name": "Physics, Physics",
         "orientation": "v",
         "showlegend": true,
         "type": "scatter",
         "x": [
          "PHYS104",
          "PHYS210",
          "PHYS103"
         ],
         "xaxis": "x13",
         "y": [
          1,
          null,
          1
         ],
         "yaxis": "y13"
        },
        {
         "hovertemplate": "color=Computer science<br>symbol=Computer science<br>index=%{x}<br>value=%{y}<extra></extra>",
         "legendgroup": "Computer science, Computer science",
         "marker": {
          "color": "#19d3f3",
          "symbol": "circle"
         },
         "mode": "markers",
         "name": "Computer science, Computer science",
         "orientation": "v",
         "showlegend": true,
         "type": "scatter",
         "x": [
          "CSC111",
          "CSC113",
          "CSC220",
          "CSC212",
          "CSC215",
          "CSC304",
          "CSC380",
          "CSC227",
          "CSC311",
          "CSC339",
          "CSC343",
          "CSC361",
          "CSC329",
          "CSC340",
          "CSC453",
          "CSC496",
          "CSC443",
          "CSC462",
          "CSC476",
          "CSC478",
          "CSC484",
          "CSC489"
         ],
         "xaxis": "x13",
         "y": [
          3,
          2,
          2,
          4,
          4,
          1,
          1,
          3,
          4,
          1,
          2,
          2,
          4,
          2,
          2,
          3,
          2,
          5,
          null,
          null,
          null,
          null
         ],
         "yaxis": "y13"
        },
        {
         "hovertemplate": "color=Humanities<br>symbol=Humanities<br>index=%{x}<br>value=%{y}<extra></extra>",
         "legendgroup": "Humanities, Humanities",
         "marker": {
          "color": "#636efa",
          "symbol": "circle"
         },
         "mode": "markers",
         "name": "Humanities, Humanities",
         "orientation": "v",
         "showlegend": true,
         "type": "scatter",
         "x": [
          "ENGLISH100",
          "ARB100",
          "TECH101",
          "ENTREPRENEUR101",
          "FAJAB101",
          "NAHAJ101",
          "ENGLISH110"
         ],
         "xaxis": "x14",
         "y": [
          1,
          1,
          1,
          1,
          1,
          1,
          1
         ],
         "yaxis": "y14"
        },
        {
         "hovertemplate": "color=Mathematics<br>symbol=Mathematics<br>index=%{x}<br>value=%{y}<extra></extra>",
         "legendgroup": "Mathematics, Mathematics",
         "marker": {
          "color": "#EF553B",
          "symbol": "diamond"
         },
         "mode": "markers",
         "name": "Mathematics, Mathematics",
         "orientation": "v",
         "showlegend": true,
         "type": "scatter",
         "x": [
          "MATH101",
          "STAT101",
          "MATH106",
          "MATH151",
          "MATH244",
          "MATH281"
         ],
         "xaxis": "x14",
         "y": [
          3,
          4,
          1,
          3,
          2,
          3
         ],
         "yaxis": "y14"
        },
        {
         "hovertemplate": "color=Chemistry<br>symbol=Chemistry<br>index=%{x}<br>value=%{y}<extra></extra>",
         "legendgroup": "Chemistry, Chemistry",
         "marker": {
          "color": "#00cc96",
          "symbol": "square"
         },
         "mode": "markers",
         "name": "Chemistry, Chemistry",
         "orientation": "v",
         "showlegend": true,
         "type": "scatter",
         "x": [
          "CHEM101",
          "CHEM103"
         ],
         "xaxis": "x14",
         "y": [
          1,
          null
         ],
         "yaxis": "y14"
        },
        {
         "hovertemplate": "color=Islamics<br>symbol=Islamics<br>index=%{x}<br>value=%{y}<extra></extra>",
         "legendgroup": "Islamics, Islamics",
         "marker": {
          "color": "#ab63fa",
          "symbol": "x"
         },
         "mode": "markers",
         "name": "Islamics, Islamics",
         "orientation": "v",
         "showlegend": true,
         "type": "scatter",
         "x": [
          "SALAM107",
          "SALAM108"
         ],
         "xaxis": "x14",
         "y": [
          2,
          1
         ],
         "yaxis": "y14"
        },
        {
         "hovertemplate": "color=Physics<br>symbol=Physics<br>index=%{x}<br>value=%{y}<extra></extra>",
         "legendgroup": "Physics, Physics",
         "marker": {
          "color": "#FFA15A",
          "symbol": "cross"
         },
         "mode": "markers",
         "name": "Physics, Physics",
         "orientation": "v",
         "showlegend": true,
         "type": "scatter",
         "x": [
          "PHYS104",
          "PHYS210",
          "PHYS103"
         ],
         "xaxis": "x14",
         "y": [
          1,
          null,
          1
         ],
         "yaxis": "y14"
        },
        {
         "hovertemplate": "color=Computer science<br>symbol=Computer science<br>index=%{x}<br>value=%{y}<extra></extra>",
         "legendgroup": "Computer science, Computer science",
         "marker": {
          "color": "#19d3f3",
          "symbol": "circle"
         },
         "mode": "markers",
         "name": "Computer science, Computer science",
         "orientation": "v",
         "showlegend": true,
         "type": "scatter",
         "x": [
          "CSC111",
          "CSC113",
          "CSC220",
          "CSC212",
          "CSC215",
          "CSC304",
          "CSC380",
          "CSC227",
          "CSC311",
          "CSC339",
          "CSC343",
          "CSC361",
          "CSC329",
          "CSC340",
          "CSC453",
          "CSC496",
          "CSC443",
          "CSC462",
          "CSC476",
          "CSC478",
          "CSC484",
          "CSC489"
         ],
         "xaxis": "x14",
         "y": [
          2,
          2,
          2,
          3,
          3,
          1,
          1,
          2,
          5,
          1,
          2,
          2,
          5,
          1,
          1,
          3,
          3,
          4,
          null,
          null,
          null,
          null
         ],
         "yaxis": "y14"
        },
        {
         "hovertemplate": "color=Humanities<br>symbol=Humanities<br>index=%{x}<br>value=%{y}<extra></extra>",
         "legendgroup": "Humanities, Humanities",
         "marker": {
          "color": "#636efa",
          "symbol": "circle"
         },
         "mode": "markers",
         "name": "Humanities, Humanities",
         "orientation": "v",
         "showlegend": true,
         "type": "scatter",
         "x": [
          "ENGLISH100",
          "ARB100",
          "TECH101",
          "ENTREPRENEUR101",
          "FAJAB101",
          "NAHAJ101",
          "ENGLISH110"
         ],
         "xaxis": "x15",
         "y": [
          1,
          1,
          1,
          1,
          1,
          1,
          1
         ],
         "yaxis": "y15"
        },
        {
         "hovertemplate": "color=Mathematics<br>symbol=Mathematics<br>index=%{x}<br>value=%{y}<extra></extra>",
         "legendgroup": "Mathematics, Mathematics",
         "marker": {
          "color": "#EF553B",
          "symbol": "diamond"
         },
         "mode": "markers",
         "name": "Mathematics, Mathematics",
         "orientation": "v",
         "showlegend": true,
         "type": "scatter",
         "x": [
          "MATH101",
          "STAT101",
          "MATH106",
          "MATH151",
          "MATH244",
          "MATH281"
         ],
         "xaxis": "x15",
         "y": [
          1,
          3,
          1,
          3,
          1,
          3
         ],
         "yaxis": "y15"
        },
        {
         "hovertemplate": "color=Chemistry<br>symbol=Chemistry<br>index=%{x}<br>value=%{y}<extra></extra>",
         "legendgroup": "Chemistry, Chemistry",
         "marker": {
          "color": "#00cc96",
          "symbol": "square"
         },
         "mode": "markers",
         "name": "Chemistry, Chemistry",
         "orientation": "v",
         "showlegend": true,
         "type": "scatter",
         "x": [
          "CHEM101",
          "CHEM103"
         ],
         "xaxis": "x15",
         "y": [
          1,
          null
         ],
         "yaxis": "y15"
        },
        {
         "hovertemplate": "color=Islamics<br>symbol=Islamics<br>index=%{x}<br>value=%{y}<extra></extra>",
         "legendgroup": "Islamics, Islamics",
         "marker": {
          "color": "#ab63fa",
          "symbol": "x"
         },
         "mode": "markers",
         "name": "Islamics, Islamics",
         "orientation": "v",
         "showlegend": true,
         "type": "scatter",
         "x": [
          "SALAM107",
          "SALAM108"
         ],
         "xaxis": "x15",
         "y": [
          1,
          1
         ],
         "yaxis": "y15"
        },
        {
         "hovertemplate": "color=Physics<br>symbol=Physics<br>index=%{x}<br>value=%{y}<extra></extra>",
         "legendgroup": "Physics, Physics",
         "marker": {
          "color": "#FFA15A",
          "symbol": "cross"
         },
         "mode": "markers",
         "name": "Physics, Physics",
         "orientation": "v",
         "showlegend": true,
         "type": "scatter",
         "x": [
          "PHYS104",
          "PHYS210",
          "PHYS103"
         ],
         "xaxis": "x15",
         "y": [
          1,
          null,
          1
         ],
         "yaxis": "y15"
        },
        {
         "hovertemplate": "color=Computer science<br>symbol=Computer science<br>index=%{x}<br>value=%{y}<extra></extra>",
         "legendgroup": "Computer science, Computer science",
         "marker": {
          "color": "#19d3f3",
          "symbol": "circle"
         },
         "mode": "markers",
         "name": "Computer science, Computer science",
         "orientation": "v",
         "showlegend": true,
         "type": "scatter",
         "x": [
          "CSC111",
          "CSC113",
          "CSC220",
          "CSC212",
          "CSC215",
          "CSC304",
          "CSC380",
          "CSC227",
          "CSC311",
          "CSC339",
          "CSC343",
          "CSC361",
          "CSC329",
          "CSC340",
          "CSC453",
          "CSC496",
          "CSC443",
          "CSC462",
          "CSC476",
          "CSC478",
          "CSC484",
          "CSC489"
         ],
         "xaxis": "x15",
         "y": [
          2,
          1,
          2,
          4,
          3,
          1,
          1,
          2,
          4,
          1,
          1,
          3,
          5,
          1,
          2,
          3,
          2,
          4,
          null,
          null,
          null,
          null
         ],
         "yaxis": "y15"
        },
        {
         "hovertemplate": "color=Humanities<br>symbol=Humanities<br>index=%{x}<br>value=%{y}<extra></extra>",
         "legendgroup": "Humanities, Humanities",
         "marker": {
          "color": "#636efa",
          "symbol": "circle"
         },
         "mode": "markers",
         "name": "Humanities, Humanities",
         "orientation": "v",
         "showlegend": true,
         "type": "scatter",
         "x": [
          "ENGLISH100",
          "ARB100",
          "TECH101",
          "ENTREPRENEUR101",
          "FAJAB101",
          "NAHAJ101",
          "ENGLISH110"
         ],
         "xaxis": "x16",
         "y": [
          1,
          1,
          1,
          1,
          1,
          1,
          1
         ],
         "yaxis": "y16"
        },
        {
         "hovertemplate": "color=Mathematics<br>symbol=Mathematics<br>index=%{x}<br>value=%{y}<extra></extra>",
         "legendgroup": "Mathematics, Mathematics",
         "marker": {
          "color": "#EF553B",
          "symbol": "diamond"
         },
         "mode": "markers",
         "name": "Mathematics, Mathematics",
         "orientation": "v",
         "showlegend": true,
         "type": "scatter",
         "x": [
          "MATH101",
          "STAT101",
          "MATH106",
          "MATH151",
          "MATH244",
          "MATH281"
         ],
         "xaxis": "x16",
         "y": [
          1,
          3,
          1,
          2,
          2,
          3
         ],
         "yaxis": "y16"
        },
        {
         "hovertemplate": "color=Chemistry<br>symbol=Chemistry<br>index=%{x}<br>value=%{y}<extra></extra>",
         "legendgroup": "Chemistry, Chemistry",
         "marker": {
          "color": "#00cc96",
          "symbol": "square"
         },
         "mode": "markers",
         "name": "Chemistry, Chemistry",
         "orientation": "v",
         "showlegend": true,
         "type": "scatter",
         "x": [
          "CHEM101",
          "CHEM103"
         ],
         "xaxis": "x16",
         "y": [
          1,
          null
         ],
         "yaxis": "y16"
        },
        {
         "hovertemplate": "color=Islamics<br>symbol=Islamics<br>index=%{x}<br>value=%{y}<extra></extra>",
         "legendgroup": "Islamics, Islamics",
         "marker": {
          "color": "#ab63fa",
          "symbol": "x"
         },
         "mode": "markers",
         "name": "Islamics, Islamics",
         "orientation": "v",
         "showlegend": true,
         "type": "scatter",
         "x": [
          "SALAM107",
          "SALAM108"
         ],
         "xaxis": "x16",
         "y": [
          1,
          1
         ],
         "yaxis": "y16"
        },
        {
         "hovertemplate": "color=Physics<br>symbol=Physics<br>index=%{x}<br>value=%{y}<extra></extra>",
         "legendgroup": "Physics, Physics",
         "marker": {
          "color": "#FFA15A",
          "symbol": "cross"
         },
         "mode": "markers",
         "name": "Physics, Physics",
         "orientation": "v",
         "showlegend": true,
         "type": "scatter",
         "x": [
          "PHYS104",
          "PHYS210",
          "PHYS103"
         ],
         "xaxis": "x16",
         "y": [
          1,
          null,
          1
         ],
         "yaxis": "y16"
        },
        {
         "hovertemplate": "color=Computer science<br>symbol=Computer science<br>index=%{x}<br>value=%{y}<extra></extra>",
         "legendgroup": "Computer science, Computer science",
         "marker": {
          "color": "#19d3f3",
          "symbol": "circle"
         },
         "mode": "markers",
         "name": "Computer science, Computer science",
         "orientation": "v",
         "showlegend": true,
         "type": "scatter",
         "x": [
          "CSC111",
          "CSC113",
          "CSC220",
          "CSC212",
          "CSC215",
          "CSC304",
          "CSC380",
          "CSC227",
          "CSC311",
          "CSC339",
          "CSC343",
          "CSC361",
          "CSC329",
          "CSC340",
          "CSC453",
          "CSC496",
          "CSC443",
          "CSC462",
          "CSC476",
          "CSC478",
          "CSC484",
          "CSC489"
         ],
         "xaxis": "x16",
         "y": [
          5,
          3,
          2,
          5,
          4,
          1,
          2,
          2,
          5,
          1,
          1,
          4,
          4,
          1,
          2,
          3,
          1,
          4,
          null,
          null,
          null,
          null
         ],
         "yaxis": "y16"
        },
        {
         "hovertemplate": "color=Humanities<br>symbol=Humanities<br>index=%{x}<br>value=%{y}<extra></extra>",
         "legendgroup": "Humanities, Humanities",
         "marker": {
          "color": "#636efa",
          "symbol": "circle"
         },
         "mode": "markers",
         "name": "Humanities, Humanities",
         "orientation": "v",
         "showlegend": true,
         "type": "scatter",
         "x": [
          "ENGLISH100",
          "ARB100",
          "TECH101",
          "ENTREPRENEUR101",
          "FAJAB101",
          "NAHAJ101",
          "ENGLISH110"
         ],
         "xaxis": "x17",
         "y": [
          1,
          1,
          1,
          1,
          1,
          1,
          1
         ],
         "yaxis": "y17"
        },
        {
         "hovertemplate": "color=Mathematics<br>symbol=Mathematics<br>index=%{x}<br>value=%{y}<extra></extra>",
         "legendgroup": "Mathematics, Mathematics",
         "marker": {
          "color": "#EF553B",
          "symbol": "diamond"
         },
         "mode": "markers",
         "name": "Mathematics, Mathematics",
         "orientation": "v",
         "showlegend": true,
         "type": "scatter",
         "x": [
          "MATH101",
          "STAT101",
          "MATH106",
          "MATH151",
          "MATH244",
          "MATH281"
         ],
         "xaxis": "x17",
         "y": [
          1,
          2,
          1,
          2,
          1,
          2
         ],
         "yaxis": "y17"
        },
        {
         "hovertemplate": "color=Chemistry<br>symbol=Chemistry<br>index=%{x}<br>value=%{y}<extra></extra>",
         "legendgroup": "Chemistry, Chemistry",
         "marker": {
          "color": "#00cc96",
          "symbol": "square"
         },
         "mode": "markers",
         "name": "Chemistry, Chemistry",
         "orientation": "v",
         "showlegend": true,
         "type": "scatter",
         "x": [
          "CHEM101",
          "CHEM103"
         ],
         "xaxis": "x17",
         "y": [
          1,
          null
         ],
         "yaxis": "y17"
        },
        {
         "hovertemplate": "color=Islamics<br>symbol=Islamics<br>index=%{x}<br>value=%{y}<extra></extra>",
         "legendgroup": "Islamics, Islamics",
         "marker": {
          "color": "#ab63fa",
          "symbol": "x"
         },
         "mode": "markers",
         "name": "Islamics, Islamics",
         "orientation": "v",
         "showlegend": true,
         "type": "scatter",
         "x": [
          "SALAM107",
          "SALAM108"
         ],
         "xaxis": "x17",
         "y": [
          3,
          1
         ],
         "yaxis": "y17"
        },
        {
         "hovertemplate": "color=Physics<br>symbol=Physics<br>index=%{x}<br>value=%{y}<extra></extra>",
         "legendgroup": "Physics, Physics",
         "marker": {
          "color": "#FFA15A",
          "symbol": "cross"
         },
         "mode": "markers",
         "name": "Physics, Physics",
         "orientation": "v",
         "showlegend": true,
         "type": "scatter",
         "x": [
          "PHYS104",
          "PHYS210",
          "PHYS103"
         ],
         "xaxis": "x17",
         "y": [
          1,
          null,
          1
         ],
         "yaxis": "y17"
        },
        {
         "hovertemplate": "color=Computer science<br>symbol=Computer science<br>index=%{x}<br>value=%{y}<extra></extra>",
         "legendgroup": "Computer science, Computer science",
         "marker": {
          "color": "#19d3f3",
          "symbol": "circle"
         },
         "mode": "markers",
         "name": "Computer science, Computer science",
         "orientation": "v",
         "showlegend": true,
         "type": "scatter",
         "x": [
          "CSC111",
          "CSC113",
          "CSC220",
          "CSC212",
          "CSC215",
          "CSC304",
          "CSC380",
          "CSC227",
          "CSC311",
          "CSC339",
          "CSC343",
          "CSC361",
          "CSC329",
          "CSC340",
          "CSC453",
          "CSC496",
          "CSC443",
          "CSC462",
          "CSC476",
          "CSC478",
          "CSC484",
          "CSC489"
         ],
         "xaxis": "x17",
         "y": [
          4,
          4,
          2,
          2,
          2,
          1,
          2,
          3,
          2,
          1,
          1,
          2,
          3,
          1,
          3,
          1,
          3,
          2,
          null,
          null,
          null,
          null
         ],
         "yaxis": "y17"
        }
       ],
       "layout": {
        "annotations": [
         {
          "font": {
           "size": 16
          },
          "showarrow": false,
          "text": "Course Vs. Bayesian estimated mean Application score",
          "x": 0.225,
          "xanchor": "center",
          "xref": "paper",
          "y": 1,
          "yanchor": "bottom",
          "yref": "paper"
         },
         {
          "font": {
           "size": 16
          },
          "showarrow": false,
          "text": "Course Vs. Bayesian estimated mean Relevance score",
          "x": 0.775,
          "xanchor": "center",
          "xref": "paper",
          "y": 1,
          "yanchor": "bottom",
          "yref": "paper"
         },
         {
          "font": {
           "size": 16
          },
          "showarrow": false,
          "text": "Course Vs. Bayesian estimated mean Insight score",
          "x": 0.225,
          "xanchor": "center",
          "xref": "paper",
          "y": 0.8827160493827161,
          "yanchor": "bottom",
          "yref": "paper"
         },
         {
          "font": {
           "size": 16
          },
          "showarrow": false,
          "text": "Course Vs. Bayesian estimated mean Understanding score",
          "x": 0.775,
          "xanchor": "center",
          "xref": "paper",
          "y": 0.8827160493827161,
          "yanchor": "bottom",
          "yref": "paper"
         },
         {
          "font": {
           "size": 16
          },
          "showarrow": false,
          "text": "Course Vs. Bayesian estimated mean Ease score",
          "x": 0.225,
          "xanchor": "center",
          "xref": "paper",
          "y": 0.7654320987654322,
          "yanchor": "bottom",
          "yref": "paper"
         },
         {
          "font": {
           "size": 16
          },
          "showarrow": false,
          "text": "Course Vs. Max Application score",
          "x": 0.225,
          "xanchor": "center",
          "xref": "paper",
          "y": 0.6481481481481483,
          "yanchor": "bottom",
          "yref": "paper"
         },
         {
          "font": {
           "size": 16
          },
          "showarrow": false,
          "text": "Course Vs. Max Relevance score",
          "x": 0.775,
          "xanchor": "center",
          "xref": "paper",
          "y": 0.6481481481481483,
          "yanchor": "bottom",
          "yref": "paper"
         },
         {
          "font": {
           "size": 16
          },
          "showarrow": false,
          "text": "Course Vs. Max Insight score",
          "x": 0.225,
          "xanchor": "center",
          "xref": "paper",
          "y": 0.5308641975308642,
          "yanchor": "bottom",
          "yref": "paper"
         },
         {
          "font": {
           "size": 16
          },
          "showarrow": false,
          "text": "Course Vs. Max Understanding score",
          "x": 0.775,
          "xanchor": "center",
          "xref": "paper",
          "y": 0.5308641975308642,
          "yanchor": "bottom",
          "yref": "paper"
         },
         {
          "font": {
           "size": 16
          },
          "showarrow": false,
          "text": "Course Vs. Max Ease score",
          "x": 0.225,
          "xanchor": "center",
          "xref": "paper",
          "y": 0.41358024691358025,
          "yanchor": "bottom",
          "yref": "paper"
         },
         {
          "font": {
           "size": 16
          },
          "showarrow": false,
          "text": "Course Vs. Min Application score",
          "x": 0.225,
          "xanchor": "center",
          "xref": "paper",
          "y": 0.2962962962962963,
          "yanchor": "bottom",
          "yref": "paper"
         },
         {
          "font": {
           "size": 16
          },
          "showarrow": false,
          "text": "Course Vs. Min Relevance score",
          "x": 0.775,
          "xanchor": "center",
          "xref": "paper",
          "y": 0.2962962962962963,
          "yanchor": "bottom",
          "yref": "paper"
         },
         {
          "font": {
           "size": 16
          },
          "showarrow": false,
          "text": "Course Vs. Min Insight score",
          "x": 0.225,
          "xanchor": "center",
          "xref": "paper",
          "y": 0.17901234567901234,
          "yanchor": "bottom",
          "yref": "paper"
         },
         {
          "font": {
           "size": 16
          },
          "showarrow": false,
          "text": "Course Vs. Min Understanding score",
          "x": 0.775,
          "xanchor": "center",
          "xref": "paper",
          "y": 0.17901234567901234,
          "yanchor": "bottom",
          "yref": "paper"
         },
         {
          "font": {
           "size": 16
          },
          "showarrow": false,
          "text": "Course Vs. Min Ease score",
          "x": 0.225,
          "xanchor": "center",
          "xref": "paper",
          "y": 0.0617283950617284,
          "yanchor": "bottom",
          "yref": "paper"
         }
        ],
        "height": 5000,
        "showlegend": false,
        "template": {
         "data": {
          "bar": [
           {
            "error_x": {
             "color": "#f2f5fa"
            },
            "error_y": {
             "color": "#f2f5fa"
            },
            "marker": {
             "line": {
              "color": "rgb(17,17,17)",
              "width": 0.5
             },
             "pattern": {
              "fillmode": "overlay",
              "size": 10,
              "solidity": 0.2
             }
            },
            "type": "bar"
           }
          ],
          "barpolar": [
           {
            "marker": {
             "line": {
              "color": "rgb(17,17,17)",
              "width": 0.5
             },
             "pattern": {
              "fillmode": "overlay",
              "size": 10,
              "solidity": 0.2
             }
            },
            "type": "barpolar"
           }
          ],
          "carpet": [
           {
            "aaxis": {
             "endlinecolor": "#A2B1C6",
             "gridcolor": "#506784",
             "linecolor": "#506784",
             "minorgridcolor": "#506784",
             "startlinecolor": "#A2B1C6"
            },
            "baxis": {
             "endlinecolor": "#A2B1C6",
             "gridcolor": "#506784",
             "linecolor": "#506784",
             "minorgridcolor": "#506784",
             "startlinecolor": "#A2B1C6"
            },
            "type": "carpet"
           }
          ],
          "choropleth": [
           {
            "colorbar": {
             "outlinewidth": 0,
             "ticks": ""
            },
            "type": "choropleth"
           }
          ],
          "contour": [
           {
            "colorbar": {
             "outlinewidth": 0,
             "ticks": ""
            },
            "colorscale": [
             [
              0,
              "#0d0887"
             ],
             [
              0.1111111111111111,
              "#46039f"
             ],
             [
              0.2222222222222222,
              "#7201a8"
             ],
             [
              0.3333333333333333,
              "#9c179e"
             ],
             [
              0.4444444444444444,
              "#bd3786"
             ],
             [
              0.5555555555555556,
              "#d8576b"
             ],
             [
              0.6666666666666666,
              "#ed7953"
             ],
             [
              0.7777777777777778,
              "#fb9f3a"
             ],
             [
              0.8888888888888888,
              "#fdca26"
             ],
             [
              1,
              "#f0f921"
             ]
            ],
            "type": "contour"
           }
          ],
          "contourcarpet": [
           {
            "colorbar": {
             "outlinewidth": 0,
             "ticks": ""
            },
            "type": "contourcarpet"
           }
          ],
          "heatmap": [
           {
            "colorbar": {
             "outlinewidth": 0,
             "ticks": ""
            },
            "colorscale": [
             [
              0,
              "#0d0887"
             ],
             [
              0.1111111111111111,
              "#46039f"
             ],
             [
              0.2222222222222222,
              "#7201a8"
             ],
             [
              0.3333333333333333,
              "#9c179e"
             ],
             [
              0.4444444444444444,
              "#bd3786"
             ],
             [
              0.5555555555555556,
              "#d8576b"
             ],
             [
              0.6666666666666666,
              "#ed7953"
             ],
             [
              0.7777777777777778,
              "#fb9f3a"
             ],
             [
              0.8888888888888888,
              "#fdca26"
             ],
             [
              1,
              "#f0f921"
             ]
            ],
            "type": "heatmap"
           }
          ],
          "heatmapgl": [
           {
            "colorbar": {
             "outlinewidth": 0,
             "ticks": ""
            },
            "colorscale": [
             [
              0,
              "#0d0887"
             ],
             [
              0.1111111111111111,
              "#46039f"
             ],
             [
              0.2222222222222222,
              "#7201a8"
             ],
             [
              0.3333333333333333,
              "#9c179e"
             ],
             [
              0.4444444444444444,
              "#bd3786"
             ],
             [
              0.5555555555555556,
              "#d8576b"
             ],
             [
              0.6666666666666666,
              "#ed7953"
             ],
             [
              0.7777777777777778,
              "#fb9f3a"
             ],
             [
              0.8888888888888888,
              "#fdca26"
             ],
             [
              1,
              "#f0f921"
             ]
            ],
            "type": "heatmapgl"
           }
          ],
          "histogram": [
           {
            "marker": {
             "pattern": {
              "fillmode": "overlay",
              "size": 10,
              "solidity": 0.2
             }
            },
            "type": "histogram"
           }
          ],
          "histogram2d": [
           {
            "colorbar": {
             "outlinewidth": 0,
             "ticks": ""
            },
            "colorscale": [
             [
              0,
              "#0d0887"
             ],
             [
              0.1111111111111111,
              "#46039f"
             ],
             [
              0.2222222222222222,
              "#7201a8"
             ],
             [
              0.3333333333333333,
              "#9c179e"
             ],
             [
              0.4444444444444444,
              "#bd3786"
             ],
             [
              0.5555555555555556,
              "#d8576b"
             ],
             [
              0.6666666666666666,
              "#ed7953"
             ],
             [
              0.7777777777777778,
              "#fb9f3a"
             ],
             [
              0.8888888888888888,
              "#fdca26"
             ],
             [
              1,
              "#f0f921"
             ]
            ],
            "type": "histogram2d"
           }
          ],
          "histogram2dcontour": [
           {
            "colorbar": {
             "outlinewidth": 0,
             "ticks": ""
            },
            "colorscale": [
             [
              0,
              "#0d0887"
             ],
             [
              0.1111111111111111,
              "#46039f"
             ],
             [
              0.2222222222222222,
              "#7201a8"
             ],
             [
              0.3333333333333333,
              "#9c179e"
             ],
             [
              0.4444444444444444,
              "#bd3786"
             ],
             [
              0.5555555555555556,
              "#d8576b"
             ],
             [
              0.6666666666666666,
              "#ed7953"
             ],
             [
              0.7777777777777778,
              "#fb9f3a"
             ],
             [
              0.8888888888888888,
              "#fdca26"
             ],
             [
              1,
              "#f0f921"
             ]
            ],
            "type": "histogram2dcontour"
           }
          ],
          "mesh3d": [
           {
            "colorbar": {
             "outlinewidth": 0,
             "ticks": ""
            },
            "type": "mesh3d"
           }
          ],
          "parcoords": [
           {
            "line": {
             "colorbar": {
              "outlinewidth": 0,
              "ticks": ""
             }
            },
            "type": "parcoords"
           }
          ],
          "pie": [
           {
            "automargin": true,
            "type": "pie"
           }
          ],
          "scatter": [
           {
            "marker": {
             "line": {
              "color": "#283442"
             }
            },
            "type": "scatter"
           }
          ],
          "scatter3d": [
           {
            "line": {
             "colorbar": {
              "outlinewidth": 0,
              "ticks": ""
             }
            },
            "marker": {
             "colorbar": {
              "outlinewidth": 0,
              "ticks": ""
             }
            },
            "type": "scatter3d"
           }
          ],
          "scattercarpet": [
           {
            "marker": {
             "colorbar": {
              "outlinewidth": 0,
              "ticks": ""
             }
            },
            "type": "scattercarpet"
           }
          ],
          "scattergeo": [
           {
            "marker": {
             "colorbar": {
              "outlinewidth": 0,
              "ticks": ""
             }
            },
            "type": "scattergeo"
           }
          ],
          "scattergl": [
           {
            "marker": {
             "line": {
              "color": "#283442"
             }
            },
            "type": "scattergl"
           }
          ],
          "scattermapbox": [
           {
            "marker": {
             "colorbar": {
              "outlinewidth": 0,
              "ticks": ""
             }
            },
            "type": "scattermapbox"
           }
          ],
          "scatterpolar": [
           {
            "marker": {
             "colorbar": {
              "outlinewidth": 0,
              "ticks": ""
             }
            },
            "type": "scatterpolar"
           }
          ],
          "scatterpolargl": [
           {
            "marker": {
             "colorbar": {
              "outlinewidth": 0,
              "ticks": ""
             }
            },
            "type": "scatterpolargl"
           }
          ],
          "scatterternary": [
           {
            "marker": {
             "colorbar": {
              "outlinewidth": 0,
              "ticks": ""
             }
            },
            "type": "scatterternary"
           }
          ],
          "surface": [
           {
            "colorbar": {
             "outlinewidth": 0,
             "ticks": ""
            },
            "colorscale": [
             [
              0,
              "#0d0887"
             ],
             [
              0.1111111111111111,
              "#46039f"
             ],
             [
              0.2222222222222222,
              "#7201a8"
             ],
             [
              0.3333333333333333,
              "#9c179e"
             ],
             [
              0.4444444444444444,
              "#bd3786"
             ],
             [
              0.5555555555555556,
              "#d8576b"
             ],
             [
              0.6666666666666666,
              "#ed7953"
             ],
             [
              0.7777777777777778,
              "#fb9f3a"
             ],
             [
              0.8888888888888888,
              "#fdca26"
             ],
             [
              1,
              "#f0f921"
             ]
            ],
            "type": "surface"
           }
          ],
          "table": [
           {
            "cells": {
             "fill": {
              "color": "#506784"
             },
             "line": {
              "color": "rgb(17,17,17)"
             }
            },
            "header": {
             "fill": {
              "color": "#2a3f5f"
             },
             "line": {
              "color": "rgb(17,17,17)"
             }
            },
            "type": "table"
           }
          ]
         },
         "layout": {
          "annotationdefaults": {
           "arrowcolor": "#f2f5fa",
           "arrowhead": 0,
           "arrowwidth": 1
          },
          "autotypenumbers": "strict",
          "coloraxis": {
           "colorbar": {
            "outlinewidth": 0,
            "ticks": ""
           }
          },
          "colorscale": {
           "diverging": [
            [
             0,
             "#8e0152"
            ],
            [
             0.1,
             "#c51b7d"
            ],
            [
             0.2,
             "#de77ae"
            ],
            [
             0.3,
             "#f1b6da"
            ],
            [
             0.4,
             "#fde0ef"
            ],
            [
             0.5,
             "#f7f7f7"
            ],
            [
             0.6,
             "#e6f5d0"
            ],
            [
             0.7,
             "#b8e186"
            ],
            [
             0.8,
             "#7fbc41"
            ],
            [
             0.9,
             "#4d9221"
            ],
            [
             1,
             "#276419"
            ]
           ],
           "sequential": [
            [
             0,
             "#0d0887"
            ],
            [
             0.1111111111111111,
             "#46039f"
            ],
            [
             0.2222222222222222,
             "#7201a8"
            ],
            [
             0.3333333333333333,
             "#9c179e"
            ],
            [
             0.4444444444444444,
             "#bd3786"
            ],
            [
             0.5555555555555556,
             "#d8576b"
            ],
            [
             0.6666666666666666,
             "#ed7953"
            ],
            [
             0.7777777777777778,
             "#fb9f3a"
            ],
            [
             0.8888888888888888,
             "#fdca26"
            ],
            [
             1,
             "#f0f921"
            ]
           ],
           "sequentialminus": [
            [
             0,
             "#0d0887"
            ],
            [
             0.1111111111111111,
             "#46039f"
            ],
            [
             0.2222222222222222,
             "#7201a8"
            ],
            [
             0.3333333333333333,
             "#9c179e"
            ],
            [
             0.4444444444444444,
             "#bd3786"
            ],
            [
             0.5555555555555556,
             "#d8576b"
            ],
            [
             0.6666666666666666,
             "#ed7953"
            ],
            [
             0.7777777777777778,
             "#fb9f3a"
            ],
            [
             0.8888888888888888,
             "#fdca26"
            ],
            [
             1,
             "#f0f921"
            ]
           ]
          },
          "colorway": [
           "#636efa",
           "#EF553B",
           "#00cc96",
           "#ab63fa",
           "#FFA15A",
           "#19d3f3",
           "#FF6692",
           "#B6E880",
           "#FF97FF",
           "#FECB52"
          ],
          "font": {
           "color": "#f2f5fa"
          },
          "geo": {
           "bgcolor": "rgb(17,17,17)",
           "lakecolor": "rgb(17,17,17)",
           "landcolor": "rgb(17,17,17)",
           "showlakes": true,
           "showland": true,
           "subunitcolor": "#506784"
          },
          "hoverlabel": {
           "align": "left"
          },
          "hovermode": "closest",
          "mapbox": {
           "style": "dark"
          },
          "paper_bgcolor": "rgb(17,17,17)",
          "plot_bgcolor": "rgb(17,17,17)",
          "polar": {
           "angularaxis": {
            "gridcolor": "#506784",
            "linecolor": "#506784",
            "ticks": ""
           },
           "bgcolor": "rgb(17,17,17)",
           "radialaxis": {
            "gridcolor": "#506784",
            "linecolor": "#506784",
            "ticks": ""
           }
          },
          "scene": {
           "xaxis": {
            "backgroundcolor": "rgb(17,17,17)",
            "gridcolor": "#506784",
            "gridwidth": 2,
            "linecolor": "#506784",
            "showbackground": true,
            "ticks": "",
            "zerolinecolor": "#C8D4E3"
           },
           "yaxis": {
            "backgroundcolor": "rgb(17,17,17)",
            "gridcolor": "#506784",
            "gridwidth": 2,
            "linecolor": "#506784",
            "showbackground": true,
            "ticks": "",
            "zerolinecolor": "#C8D4E3"
           },
           "zaxis": {
            "backgroundcolor": "rgb(17,17,17)",
            "gridcolor": "#506784",
            "gridwidth": 2,
            "linecolor": "#506784",
            "showbackground": true,
            "ticks": "",
            "zerolinecolor": "#C8D4E3"
           }
          },
          "shapedefaults": {
           "line": {
            "color": "#f2f5fa"
           }
          },
          "sliderdefaults": {
           "bgcolor": "#C8D4E3",
           "bordercolor": "rgb(17,17,17)",
           "borderwidth": 1,
           "tickwidth": 0
          },
          "ternary": {
           "aaxis": {
            "gridcolor": "#506784",
            "linecolor": "#506784",
            "ticks": ""
           },
           "baxis": {
            "gridcolor": "#506784",
            "linecolor": "#506784",
            "ticks": ""
           },
           "bgcolor": "rgb(17,17,17)",
           "caxis": {
            "gridcolor": "#506784",
            "linecolor": "#506784",
            "ticks": ""
           }
          },
          "title": {
           "x": 0.05
          },
          "updatemenudefaults": {
           "bgcolor": "#506784",
           "borderwidth": 0
          },
          "xaxis": {
           "automargin": true,
           "gridcolor": "#283442",
           "linecolor": "#506784",
           "ticks": "",
           "title": {
            "standoff": 15
           },
           "zerolinecolor": "#283442",
           "zerolinewidth": 2
          },
          "yaxis": {
           "automargin": true,
           "gridcolor": "#283442",
           "linecolor": "#506784",
           "ticks": "",
           "title": {
            "standoff": 15
           },
           "zerolinecolor": "#283442",
           "zerolinewidth": 2
          }
         }
        },
        "width": 2200,
        "xaxis": {
         "anchor": "y",
         "domain": [
          0,
          0.45
         ],
         "title": {
          "text": "Course"
         }
        },
        "xaxis10": {
         "anchor": "y10",
         "domain": [
          0.55,
          1
         ],
         "title": {
          "text": "Course"
         }
        },
        "xaxis11": {
         "anchor": "y11",
         "domain": [
          0,
          0.45
         ],
         "title": {
          "text": "Course"
         }
        },
        "xaxis12": {
         "anchor": "y12",
         "domain": [
          0.55,
          1
         ]
        },
        "xaxis13": {
         "anchor": "y13",
         "domain": [
          0,
          0.45
         ],
         "title": {
          "text": "Course"
         }
        },
        "xaxis14": {
         "anchor": "y14",
         "domain": [
          0.55,
          1
         ],
         "title": {
          "text": "Course"
         }
        },
        "xaxis15": {
         "anchor": "y15",
         "domain": [
          0,
          0.45
         ],
         "title": {
          "text": "Course"
         }
        },
        "xaxis16": {
         "anchor": "y16",
         "domain": [
          0.55,
          1
         ],
         "title": {
          "text": "Course"
         }
        },
        "xaxis17": {
         "anchor": "y17",
         "domain": [
          0,
          0.45
         ],
         "title": {
          "text": "Course"
         }
        },
        "xaxis18": {
         "anchor": "y18",
         "domain": [
          0.55,
          1
         ]
        },
        "xaxis2": {
         "anchor": "y2",
         "domain": [
          0.55,
          1
         ],
         "title": {
          "text": "Course"
         }
        },
        "xaxis3": {
         "anchor": "y3",
         "domain": [
          0,
          0.45
         ],
         "title": {
          "text": "Course"
         }
        },
        "xaxis4": {
         "anchor": "y4",
         "domain": [
          0.55,
          1
         ],
         "title": {
          "text": "Course"
         }
        },
        "xaxis5": {
         "anchor": "y5",
         "domain": [
          0,
          0.45
         ],
         "title": {
          "text": "Course"
         }
        },
        "xaxis6": {
         "anchor": "y6",
         "domain": [
          0.55,
          1
         ]
        },
        "xaxis7": {
         "anchor": "y7",
         "domain": [
          0,
          0.45
         ],
         "title": {
          "text": "Course"
         }
        },
        "xaxis8": {
         "anchor": "y8",
         "domain": [
          0.55,
          1
         ],
         "title": {
          "text": "Course"
         }
        },
        "xaxis9": {
         "anchor": "y9",
         "domain": [
          0,
          0.45
         ],
         "title": {
          "text": "Course"
         }
        },
        "yaxis": {
         "anchor": "x",
         "domain": [
          0.9382716049382716,
          1
         ],
         "title": {
          "text": "Application score (1-5)"
         }
        },
        "yaxis10": {
         "anchor": "x10",
         "domain": [
          0.4691358024691358,
          0.5308641975308642
         ],
         "title": {
          "text": "Understanding score (1-5)"
         }
        },
        "yaxis11": {
         "anchor": "x11",
         "domain": [
          0.35185185185185186,
          0.41358024691358025
         ],
         "title": {
          "text": "Ease score (1-5)"
         }
        },
        "yaxis12": {
         "anchor": "x12",
         "domain": [
          0.35185185185185186,
          0.41358024691358025
         ]
        },
        "yaxis13": {
         "anchor": "x13",
         "domain": [
          0.2345679012345679,
          0.2962962962962963
         ],
         "title": {
          "text": "Application score (1-5)"
         }
        },
        "yaxis14": {
         "anchor": "x14",
         "domain": [
          0.2345679012345679,
          0.2962962962962963
         ],
         "title": {
          "text": "Relevance score (1-5)"
         }
        },
        "yaxis15": {
         "anchor": "x15",
         "domain": [
          0.11728395061728394,
          0.17901234567901234
         ],
         "title": {
          "text": "Insight score (1-5)"
         }
        },
        "yaxis16": {
         "anchor": "x16",
         "domain": [
          0.11728395061728394,
          0.17901234567901234
         ],
         "title": {
          "text": "Understanding score (1-5)"
         }
        },
        "yaxis17": {
         "anchor": "x17",
         "domain": [
          0,
          0.0617283950617284
         ],
         "title": {
          "text": "Ease score (1-5)"
         }
        },
        "yaxis18": {
         "anchor": "x18",
         "domain": [
          0,
          0.0617283950617284
         ]
        },
        "yaxis2": {
         "anchor": "x2",
         "domain": [
          0.9382716049382716,
          1
         ],
         "title": {
          "text": "Relevance score (1-5)"
         }
        },
        "yaxis3": {
         "anchor": "x3",
         "domain": [
          0.8209876543209876,
          0.8827160493827161
         ],
         "title": {
          "text": "Insight score (1-5)"
         }
        },
        "yaxis4": {
         "anchor": "x4",
         "domain": [
          0.8209876543209876,
          0.8827160493827161
         ],
         "title": {
          "text": "Understanding score (1-5)"
         }
        },
        "yaxis5": {
         "anchor": "x5",
         "domain": [
          0.7037037037037037,
          0.7654320987654322
         ],
         "title": {
          "text": "Ease score (1-5)"
         }
        },
        "yaxis6": {
         "anchor": "x6",
         "domain": [
          0.7037037037037037,
          0.7654320987654322
         ]
        },
        "yaxis7": {
         "anchor": "x7",
         "domain": [
          0.5864197530864198,
          0.6481481481481483
         ],
         "title": {
          "text": "Application score (1-5)"
         }
        },
        "yaxis8": {
         "anchor": "x8",
         "domain": [
          0.5864197530864198,
          0.6481481481481483
         ],
         "title": {
          "text": "Relevance score (1-5)"
         }
        },
        "yaxis9": {
         "anchor": "x9",
         "domain": [
          0.4691358024691358,
          0.5308641975308642
         ],
         "title": {
          "text": "Insight score (1-5)"
         }
        }
       }
      }
     },
     "metadata": {},
     "output_type": "display_data"
    }
   ],
   "source": [
    "functions = [scores_to_bayesian_mean, max, min]\n",
    "function_to_name = {function: function_name for function, function_name in zip(functions, [\"Bayesian estimated mean\", \"Max\", \"Min\"])}\n",
    "rows = len(functions) * 3\n",
    "cols = 2\n",
    "subtitles = np.empty((rows, cols), dtype=\"object\")\n",
    "for f_i, function in enumerate(functions):\n",
    "    for c_i, criterion in enumerate(criteria):\n",
    "        row = f_i * 3 + int(c_i / 2)\n",
    "        col = c_i % 2\n",
    "        subtitles[row, col] = (f\"Course Vs. {function_to_name.get(function)} {criterion} score\")\n",
    "\n",
    "\n",
    "fig = make_subplots(rows=len(functions) * 3, cols=2, \n",
    "        subplot_titles=subtitles.reshape(-1))\n",
    "\n",
    "\n",
    "for f_i, function in enumerate(functions):\n",
    "    for c_i, criterion in enumerate(criteria):\n",
    "        row = f_i * 3 + int(c_i / 2 + 1)\n",
    "        col = c_i % 2 + 1\n",
    "        course_to_criterion_mean = df.loc[[(subject, criterion) for subject in courses]].T.mean().droplevel(1)\n",
    "\n",
    "        temp = course_to_criterion_mean.reset_index()\n",
    "        temp[\"index\"] = categories\n",
    "        category_to_criterion_mean = temp.groupby(\"index\").mean()[0]\n",
    "\n",
    "        bayesian_estimate_course_to_criterion_mean = df.loc[[(subject, criterion) for subject in courses]].T.apply(function).droplevel(1)\n",
    "\n",
    "        scatter = px.scatter(bayesian_estimate_course_to_criterion_mean, color=categories, symbol=categories)\n",
    "        for trace in scatter.select_traces():\n",
    "            fig.add_trace(\n",
    "                trace,\n",
    "                row=row, col=col\n",
    "            )\n",
    "        fig.update_xaxes(\n",
    "            title=\"Course\",\n",
    "            row=row, col=col\n",
    "        )\n",
    "        fig.update_yaxes(\n",
    "            title=f\"{criterion} score (1-5)\",\n",
    "            row=row, col=col\n",
    "        )\n",
    "    fig.update_layout(height=5000, width=2200, showlegend=False)\n",
    "fig"
   ]
  },
  {
   "cell_type": "code",
   "execution_count": 589,
   "metadata": {},
   "outputs": [
    {
     "data": {
      "application/vnd.plotly.v1+json": {
       "config": {
        "plotlyServerURL": "https://plot.ly"
       },
       "data": [
        {
         "hovertemplate": "color=Humanities<br>symbol=Humanities<br>index=%{x}<br>value=%{y}<extra></extra>",
         "legendgroup": "Humanities, Humanities",
         "marker": {
          "color": "#636efa",
          "symbol": "circle"
         },
         "mode": "markers",
         "name": "Humanities, Humanities",
         "orientation": "v",
         "showlegend": true,
         "type": "scatter",
         "x": [
          "ENGLISH100",
          "ARB100",
          "TECH101",
          "ENTREPRENEUR101",
          "FAJAB101",
          "NAHAJ101",
          "ENGLISH110"
         ],
         "xaxis": "x",
         "y": [
          4,
          2.625,
          3.142857142857143,
          2.2857142857142856,
          2.1666666666666665,
          2.857142857142857,
          3.857142857142857
         ],
         "yaxis": "y"
        },
        {
         "hovertemplate": "color=Mathematics<br>symbol=Mathematics<br>index=%{x}<br>value=%{y}<extra></extra>",
         "legendgroup": "Mathematics, Mathematics",
         "marker": {
          "color": "#EF553B",
          "symbol": "diamond"
         },
         "mode": "markers",
         "name": "Mathematics, Mathematics",
         "orientation": "v",
         "showlegend": true,
         "type": "scatter",
         "x": [
          "MATH101",
          "STAT101",
          "MATH106",
          "MATH151",
          "MATH244",
          "MATH281"
         ],
         "xaxis": "x",
         "y": [
          3.75,
          4.571428571428571,
          3.125,
          4.625,
          4,
          4
         ],
         "yaxis": "y"
        },
        {
         "hovertemplate": "color=Chemistry<br>symbol=Chemistry<br>index=%{x}<br>value=%{y}<extra></extra>",
         "legendgroup": "Chemistry, Chemistry",
         "marker": {
          "color": "#00cc96",
          "symbol": "square"
         },
         "mode": "markers",
         "name": "Chemistry, Chemistry",
         "orientation": "v",
         "showlegend": true,
         "type": "scatter",
         "x": [
          "CHEM101",
          "CHEM103"
         ],
         "xaxis": "x",
         "y": [
          2,
          1
         ],
         "yaxis": "y"
        },
        {
         "hovertemplate": "color=Islamics<br>symbol=Islamics<br>index=%{x}<br>value=%{y}<extra></extra>",
         "legendgroup": "Islamics, Islamics",
         "marker": {
          "color": "#ab63fa",
          "symbol": "x"
         },
         "mode": "markers",
         "name": "Islamics, Islamics",
         "orientation": "v",
         "showlegend": true,
         "type": "scatter",
         "x": [
          "SALAM107",
          "SALAM108"
         ],
         "xaxis": "x",
         "y": [
          2.857142857142857,
          1.8
         ],
         "yaxis": "y"
        },
        {
         "hovertemplate": "color=Physics<br>symbol=Physics<br>index=%{x}<br>value=%{y}<extra></extra>",
         "legendgroup": "Physics, Physics",
         "marker": {
          "color": "#FFA15A",
          "symbol": "cross"
         },
         "mode": "markers",
         "name": "Physics, Physics",
         "orientation": "v",
         "showlegend": true,
         "type": "scatter",
         "x": [
          "PHYS104",
          "PHYS210",
          "PHYS103"
         ],
         "xaxis": "x",
         "y": [
          2.142857142857143,
          1,
          1.5
         ],
         "yaxis": "y"
        },
        {
         "hovertemplate": "color=Computer science<br>symbol=Computer science<br>index=%{x}<br>value=%{y}<extra></extra>",
         "legendgroup": "Computer science, Computer science",
         "marker": {
          "color": "#19d3f3",
          "symbol": "circle"
         },
         "mode": "markers",
         "name": "Computer science, Computer science",
         "orientation": "v",
         "showlegend": true,
         "type": "scatter",
         "x": [
          "CSC111",
          "CSC113",
          "CSC220",
          "CSC212",
          "CSC215",
          "CSC304",
          "CSC380",
          "CSC227",
          "CSC311",
          "CSC339",
          "CSC343",
          "CSC361",
          "CSC329",
          "CSC340",
          "CSC453",
          "CSC496",
          "CSC443",
          "CSC462",
          "CSC476",
          "CSC478",
          "CSC484",
          "CSC489"
         ],
         "xaxis": "x",
         "y": [
          4.625,
          4.142857142857143,
          3.2,
          4.666666666666667,
          4.75,
          1.8333333333333333,
          4,
          3.6,
          4.8,
          2,
          3.2,
          4,
          4.8,
          2.8,
          3.8,
          4.5,
          2.5,
          5,
          3,
          2,
          2,
          1
         ],
         "yaxis": "y"
        }
       ],
       "layout": {
        "legend": {
         "title": {
          "text": ""
         },
         "tracegroupgap": 0
        },
        "margin": {
         "t": 60
        },
        "template": {
         "data": {
          "bar": [
           {
            "error_x": {
             "color": "#f2f5fa"
            },
            "error_y": {
             "color": "#f2f5fa"
            },
            "marker": {
             "line": {
              "color": "rgb(17,17,17)",
              "width": 0.5
             },
             "pattern": {
              "fillmode": "overlay",
              "size": 10,
              "solidity": 0.2
             }
            },
            "type": "bar"
           }
          ],
          "barpolar": [
           {
            "marker": {
             "line": {
              "color": "rgb(17,17,17)",
              "width": 0.5
             },
             "pattern": {
              "fillmode": "overlay",
              "size": 10,
              "solidity": 0.2
             }
            },
            "type": "barpolar"
           }
          ],
          "carpet": [
           {
            "aaxis": {
             "endlinecolor": "#A2B1C6",
             "gridcolor": "#506784",
             "linecolor": "#506784",
             "minorgridcolor": "#506784",
             "startlinecolor": "#A2B1C6"
            },
            "baxis": {
             "endlinecolor": "#A2B1C6",
             "gridcolor": "#506784",
             "linecolor": "#506784",
             "minorgridcolor": "#506784",
             "startlinecolor": "#A2B1C6"
            },
            "type": "carpet"
           }
          ],
          "choropleth": [
           {
            "colorbar": {
             "outlinewidth": 0,
             "ticks": ""
            },
            "type": "choropleth"
           }
          ],
          "contour": [
           {
            "colorbar": {
             "outlinewidth": 0,
             "ticks": ""
            },
            "colorscale": [
             [
              0,
              "#0d0887"
             ],
             [
              0.1111111111111111,
              "#46039f"
             ],
             [
              0.2222222222222222,
              "#7201a8"
             ],
             [
              0.3333333333333333,
              "#9c179e"
             ],
             [
              0.4444444444444444,
              "#bd3786"
             ],
             [
              0.5555555555555556,
              "#d8576b"
             ],
             [
              0.6666666666666666,
              "#ed7953"
             ],
             [
              0.7777777777777778,
              "#fb9f3a"
             ],
             [
              0.8888888888888888,
              "#fdca26"
             ],
             [
              1,
              "#f0f921"
             ]
            ],
            "type": "contour"
           }
          ],
          "contourcarpet": [
           {
            "colorbar": {
             "outlinewidth": 0,
             "ticks": ""
            },
            "type": "contourcarpet"
           }
          ],
          "heatmap": [
           {
            "colorbar": {
             "outlinewidth": 0,
             "ticks": ""
            },
            "colorscale": [
             [
              0,
              "#0d0887"
             ],
             [
              0.1111111111111111,
              "#46039f"
             ],
             [
              0.2222222222222222,
              "#7201a8"
             ],
             [
              0.3333333333333333,
              "#9c179e"
             ],
             [
              0.4444444444444444,
              "#bd3786"
             ],
             [
              0.5555555555555556,
              "#d8576b"
             ],
             [
              0.6666666666666666,
              "#ed7953"
             ],
             [
              0.7777777777777778,
              "#fb9f3a"
             ],
             [
              0.8888888888888888,
              "#fdca26"
             ],
             [
              1,
              "#f0f921"
             ]
            ],
            "type": "heatmap"
           }
          ],
          "heatmapgl": [
           {
            "colorbar": {
             "outlinewidth": 0,
             "ticks": ""
            },
            "colorscale": [
             [
              0,
              "#0d0887"
             ],
             [
              0.1111111111111111,
              "#46039f"
             ],
             [
              0.2222222222222222,
              "#7201a8"
             ],
             [
              0.3333333333333333,
              "#9c179e"
             ],
             [
              0.4444444444444444,
              "#bd3786"
             ],
             [
              0.5555555555555556,
              "#d8576b"
             ],
             [
              0.6666666666666666,
              "#ed7953"
             ],
             [
              0.7777777777777778,
              "#fb9f3a"
             ],
             [
              0.8888888888888888,
              "#fdca26"
             ],
             [
              1,
              "#f0f921"
             ]
            ],
            "type": "heatmapgl"
           }
          ],
          "histogram": [
           {
            "marker": {
             "pattern": {
              "fillmode": "overlay",
              "size": 10,
              "solidity": 0.2
             }
            },
            "type": "histogram"
           }
          ],
          "histogram2d": [
           {
            "colorbar": {
             "outlinewidth": 0,
             "ticks": ""
            },
            "colorscale": [
             [
              0,
              "#0d0887"
             ],
             [
              0.1111111111111111,
              "#46039f"
             ],
             [
              0.2222222222222222,
              "#7201a8"
             ],
             [
              0.3333333333333333,
              "#9c179e"
             ],
             [
              0.4444444444444444,
              "#bd3786"
             ],
             [
              0.5555555555555556,
              "#d8576b"
             ],
             [
              0.6666666666666666,
              "#ed7953"
             ],
             [
              0.7777777777777778,
              "#fb9f3a"
             ],
             [
              0.8888888888888888,
              "#fdca26"
             ],
             [
              1,
              "#f0f921"
             ]
            ],
            "type": "histogram2d"
           }
          ],
          "histogram2dcontour": [
           {
            "colorbar": {
             "outlinewidth": 0,
             "ticks": ""
            },
            "colorscale": [
             [
              0,
              "#0d0887"
             ],
             [
              0.1111111111111111,
              "#46039f"
             ],
             [
              0.2222222222222222,
              "#7201a8"
             ],
             [
              0.3333333333333333,
              "#9c179e"
             ],
             [
              0.4444444444444444,
              "#bd3786"
             ],
             [
              0.5555555555555556,
              "#d8576b"
             ],
             [
              0.6666666666666666,
              "#ed7953"
             ],
             [
              0.7777777777777778,
              "#fb9f3a"
             ],
             [
              0.8888888888888888,
              "#fdca26"
             ],
             [
              1,
              "#f0f921"
             ]
            ],
            "type": "histogram2dcontour"
           }
          ],
          "mesh3d": [
           {
            "colorbar": {
             "outlinewidth": 0,
             "ticks": ""
            },
            "type": "mesh3d"
           }
          ],
          "parcoords": [
           {
            "line": {
             "colorbar": {
              "outlinewidth": 0,
              "ticks": ""
             }
            },
            "type": "parcoords"
           }
          ],
          "pie": [
           {
            "automargin": true,
            "type": "pie"
           }
          ],
          "scatter": [
           {
            "marker": {
             "line": {
              "color": "#283442"
             }
            },
            "type": "scatter"
           }
          ],
          "scatter3d": [
           {
            "line": {
             "colorbar": {
              "outlinewidth": 0,
              "ticks": ""
             }
            },
            "marker": {
             "colorbar": {
              "outlinewidth": 0,
              "ticks": ""
             }
            },
            "type": "scatter3d"
           }
          ],
          "scattercarpet": [
           {
            "marker": {
             "colorbar": {
              "outlinewidth": 0,
              "ticks": ""
             }
            },
            "type": "scattercarpet"
           }
          ],
          "scattergeo": [
           {
            "marker": {
             "colorbar": {
              "outlinewidth": 0,
              "ticks": ""
             }
            },
            "type": "scattergeo"
           }
          ],
          "scattergl": [
           {
            "marker": {
             "line": {
              "color": "#283442"
             }
            },
            "type": "scattergl"
           }
          ],
          "scattermapbox": [
           {
            "marker": {
             "colorbar": {
              "outlinewidth": 0,
              "ticks": ""
             }
            },
            "type": "scattermapbox"
           }
          ],
          "scatterpolar": [
           {
            "marker": {
             "colorbar": {
              "outlinewidth": 0,
              "ticks": ""
             }
            },
            "type": "scatterpolar"
           }
          ],
          "scatterpolargl": [
           {
            "marker": {
             "colorbar": {
              "outlinewidth": 0,
              "ticks": ""
             }
            },
            "type": "scatterpolargl"
           }
          ],
          "scatterternary": [
           {
            "marker": {
             "colorbar": {
              "outlinewidth": 0,
              "ticks": ""
             }
            },
            "type": "scatterternary"
           }
          ],
          "surface": [
           {
            "colorbar": {
             "outlinewidth": 0,
             "ticks": ""
            },
            "colorscale": [
             [
              0,
              "#0d0887"
             ],
             [
              0.1111111111111111,
              "#46039f"
             ],
             [
              0.2222222222222222,
              "#7201a8"
             ],
             [
              0.3333333333333333,
              "#9c179e"
             ],
             [
              0.4444444444444444,
              "#bd3786"
             ],
             [
              0.5555555555555556,
              "#d8576b"
             ],
             [
              0.6666666666666666,
              "#ed7953"
             ],
             [
              0.7777777777777778,
              "#fb9f3a"
             ],
             [
              0.8888888888888888,
              "#fdca26"
             ],
             [
              1,
              "#f0f921"
             ]
            ],
            "type": "surface"
           }
          ],
          "table": [
           {
            "cells": {
             "fill": {
              "color": "#506784"
             },
             "line": {
              "color": "rgb(17,17,17)"
             }
            },
            "header": {
             "fill": {
              "color": "#2a3f5f"
             },
             "line": {
              "color": "rgb(17,17,17)"
             }
            },
            "type": "table"
           }
          ]
         },
         "layout": {
          "annotationdefaults": {
           "arrowcolor": "#f2f5fa",
           "arrowhead": 0,
           "arrowwidth": 1
          },
          "autotypenumbers": "strict",
          "coloraxis": {
           "colorbar": {
            "outlinewidth": 0,
            "ticks": ""
           }
          },
          "colorscale": {
           "diverging": [
            [
             0,
             "#8e0152"
            ],
            [
             0.1,
             "#c51b7d"
            ],
            [
             0.2,
             "#de77ae"
            ],
            [
             0.3,
             "#f1b6da"
            ],
            [
             0.4,
             "#fde0ef"
            ],
            [
             0.5,
             "#f7f7f7"
            ],
            [
             0.6,
             "#e6f5d0"
            ],
            [
             0.7,
             "#b8e186"
            ],
            [
             0.8,
             "#7fbc41"
            ],
            [
             0.9,
             "#4d9221"
            ],
            [
             1,
             "#276419"
            ]
           ],
           "sequential": [
            [
             0,
             "#0d0887"
            ],
            [
             0.1111111111111111,
             "#46039f"
            ],
            [
             0.2222222222222222,
             "#7201a8"
            ],
            [
             0.3333333333333333,
             "#9c179e"
            ],
            [
             0.4444444444444444,
             "#bd3786"
            ],
            [
             0.5555555555555556,
             "#d8576b"
            ],
            [
             0.6666666666666666,
             "#ed7953"
            ],
            [
             0.7777777777777778,
             "#fb9f3a"
            ],
            [
             0.8888888888888888,
             "#fdca26"
            ],
            [
             1,
             "#f0f921"
            ]
           ],
           "sequentialminus": [
            [
             0,
             "#0d0887"
            ],
            [
             0.1111111111111111,
             "#46039f"
            ],
            [
             0.2222222222222222,
             "#7201a8"
            ],
            [
             0.3333333333333333,
             "#9c179e"
            ],
            [
             0.4444444444444444,
             "#bd3786"
            ],
            [
             0.5555555555555556,
             "#d8576b"
            ],
            [
             0.6666666666666666,
             "#ed7953"
            ],
            [
             0.7777777777777778,
             "#fb9f3a"
            ],
            [
             0.8888888888888888,
             "#fdca26"
            ],
            [
             1,
             "#f0f921"
            ]
           ]
          },
          "colorway": [
           "#636efa",
           "#EF553B",
           "#00cc96",
           "#ab63fa",
           "#FFA15A",
           "#19d3f3",
           "#FF6692",
           "#B6E880",
           "#FF97FF",
           "#FECB52"
          ],
          "font": {
           "color": "#f2f5fa"
          },
          "geo": {
           "bgcolor": "rgb(17,17,17)",
           "lakecolor": "rgb(17,17,17)",
           "landcolor": "rgb(17,17,17)",
           "showlakes": true,
           "showland": true,
           "subunitcolor": "#506784"
          },
          "hoverlabel": {
           "align": "left"
          },
          "hovermode": "closest",
          "mapbox": {
           "style": "dark"
          },
          "paper_bgcolor": "rgb(17,17,17)",
          "plot_bgcolor": "rgb(17,17,17)",
          "polar": {
           "angularaxis": {
            "gridcolor": "#506784",
            "linecolor": "#506784",
            "ticks": ""
           },
           "bgcolor": "rgb(17,17,17)",
           "radialaxis": {
            "gridcolor": "#506784",
            "linecolor": "#506784",
            "ticks": ""
           }
          },
          "scene": {
           "xaxis": {
            "backgroundcolor": "rgb(17,17,17)",
            "gridcolor": "#506784",
            "gridwidth": 2,
            "linecolor": "#506784",
            "showbackground": true,
            "ticks": "",
            "zerolinecolor": "#C8D4E3"
           },
           "yaxis": {
            "backgroundcolor": "rgb(17,17,17)",
            "gridcolor": "#506784",
            "gridwidth": 2,
            "linecolor": "#506784",
            "showbackground": true,
            "ticks": "",
            "zerolinecolor": "#C8D4E3"
           },
           "zaxis": {
            "backgroundcolor": "rgb(17,17,17)",
            "gridcolor": "#506784",
            "gridwidth": 2,
            "linecolor": "#506784",
            "showbackground": true,
            "ticks": "",
            "zerolinecolor": "#C8D4E3"
           }
          },
          "shapedefaults": {
           "line": {
            "color": "#f2f5fa"
           }
          },
          "sliderdefaults": {
           "bgcolor": "#C8D4E3",
           "bordercolor": "rgb(17,17,17)",
           "borderwidth": 1,
           "tickwidth": 0
          },
          "ternary": {
           "aaxis": {
            "gridcolor": "#506784",
            "linecolor": "#506784",
            "ticks": ""
           },
           "baxis": {
            "gridcolor": "#506784",
            "linecolor": "#506784",
            "ticks": ""
           },
           "bgcolor": "rgb(17,17,17)",
           "caxis": {
            "gridcolor": "#506784",
            "linecolor": "#506784",
            "ticks": ""
           }
          },
          "title": {
           "x": 0.05
          },
          "updatemenudefaults": {
           "bgcolor": "#506784",
           "borderwidth": 0
          },
          "xaxis": {
           "automargin": true,
           "gridcolor": "#283442",
           "linecolor": "#506784",
           "ticks": "",
           "title": {
            "standoff": 15
           },
           "zerolinecolor": "#283442",
           "zerolinewidth": 2
          },
          "yaxis": {
           "automargin": true,
           "gridcolor": "#283442",
           "linecolor": "#506784",
           "ticks": "",
           "title": {
            "standoff": 15
           },
           "zerolinecolor": "#283442",
           "zerolinewidth": 2
          }
         }
        },
        "title": {
         "text": "Course Vs. mean Applications score"
        },
        "xaxis": {
         "anchor": "y",
         "domain": [
          0,
          1
         ],
         "title": {
          "text": "Course"
         }
        },
        "yaxis": {
         "anchor": "x",
         "domain": [
          0,
          1
         ],
         "title": {
          "text": "Application score (1-5)"
         }
        }
       }
      }
     },
     "metadata": {},
     "output_type": "display_data"
    }
   ],
   "source": [
    "fig = px.scatter(course_to_criterion_mean, color=categories, symbol=categories)\n",
    "fig.update_layout(\n",
    "    title=\"Course Vs. mean Applications score\",\n",
    "    xaxis_title=\"Course\",\n",
    "    yaxis_title=\"Application score (1-5)\",\n",
    "    legend_title=\"\",\n",
    ")"
   ]
  },
  {
   "cell_type": "markdown",
   "metadata": {},
   "source": [
    "## Meta-stats"
   ]
  },
  {
   "cell_type": "code",
   "execution_count": null,
   "metadata": {},
   "outputs": [],
   "source": [
    "# a bit of a primitive way to count every filled in ranking (some rankings are NaN). Maybe it could be improved?\n",
    "i = 0\n",
    "course_to_num_ranking = {}\n",
    "while i < len(df):\n",
    "    course_to_num_ranking.update({df.iloc[i].name[0]:len(df.iloc[i].dropna())})\n",
    "    i += 5\n",
    "course_to_num_ranking_series = pd.Series(course_to_num_ranking)"
   ]
  },
  {
   "cell_type": "code",
   "execution_count": null,
   "metadata": {},
   "outputs": [
    {
     "data": {
      "application/vnd.plotly.v1+json": {
       "config": {
        "plotlyServerURL": "https://plot.ly"
       },
       "data": [
        {
         "hovertemplate": "<b>%{hovertext}</b><br><br>color=Humanities<br>symbol=Humanities<br>index=%{x}<br>value=%{y}<extra></extra>",
         "hovertext": [
          "ENGLISH100",
          "ARB100",
          "TECH101",
          "ENTREPRENEUR101",
          "FAJAB101",
          "NAHAJ101",
          "ENGLISH110"
         ],
         "legendgroup": "Humanities, Humanities",
         "marker": {
          "color": "#636efa",
          "symbol": "circle"
         },
         "mode": "markers",
         "name": "Humanities, Humanities",
         "orientation": "v",
         "showlegend": true,
         "type": "scatter",
         "x": [
          "ENGLISH100",
          "ARB100",
          "TECH101",
          "ENTREPRENEUR101",
          "FAJAB101",
          "NAHAJ101",
          "ENGLISH110"
         ],
         "xaxis": "x",
         "y": [
          9,
          8,
          7,
          7,
          6,
          7,
          7
         ],
         "yaxis": "y"
        },
        {
         "hovertemplate": "<b>%{hovertext}</b><br><br>color=Mathematics<br>symbol=Mathematics<br>index=%{x}<br>value=%{y}<extra></extra>",
         "hovertext": [
          "MATH101",
          "STAT101",
          "MATH106",
          "MATH151",
          "MATH244",
          "MATH281"
         ],
         "legendgroup": "Mathematics, Mathematics",
         "marker": {
          "color": "#EF553B",
          "symbol": "diamond"
         },
         "mode": "markers",
         "name": "Mathematics, Mathematics",
         "orientation": "v",
         "showlegend": true,
         "type": "scatter",
         "x": [
          "MATH101",
          "STAT101",
          "MATH106",
          "MATH151",
          "MATH244",
          "MATH281"
         ],
         "xaxis": "x",
         "y": [
          8,
          7,
          8,
          8,
          6,
          6
         ],
         "yaxis": "y"
        },
        {
         "hovertemplate": "<b>%{hovertext}</b><br><br>color=Chemistry<br>symbol=Chemistry<br>index=%{x}<br>value=%{y}<extra></extra>",
         "hovertext": [
          "CHEM101",
          "CHEM103"
         ],
         "legendgroup": "Chemistry, Chemistry",
         "marker": {
          "color": "#00cc96",
          "symbol": "square"
         },
         "mode": "markers",
         "name": "Chemistry, Chemistry",
         "orientation": "v",
         "showlegend": true,
         "type": "scatter",
         "x": [
          "CHEM101",
          "CHEM103"
         ],
         "xaxis": "x",
         "y": [
          7,
          1
         ],
         "yaxis": "y"
        },
        {
         "hovertemplate": "<b>%{hovertext}</b><br><br>color=Islamics<br>symbol=Islamics<br>index=%{x}<br>value=%{y}<extra></extra>",
         "hovertext": [
          "SALAM107",
          "SALAM108"
         ],
         "legendgroup": "Islamics, Islamics",
         "marker": {
          "color": "#ab63fa",
          "symbol": "x"
         },
         "mode": "markers",
         "name": "Islamics, Islamics",
         "orientation": "v",
         "showlegend": true,
         "type": "scatter",
         "x": [
          "SALAM107",
          "SALAM108"
         ],
         "xaxis": "x",
         "y": [
          7,
          5
         ],
         "yaxis": "y"
        },
        {
         "hovertemplate": "<b>%{hovertext}</b><br><br>color=Physics<br>symbol=Physics<br>index=%{x}<br>value=%{y}<extra></extra>",
         "hovertext": [
          "PHYS104",
          "PHYS210",
          "PHYS103"
         ],
         "legendgroup": "Physics, Physics",
         "marker": {
          "color": "#FFA15A",
          "symbol": "cross"
         },
         "mode": "markers",
         "name": "Physics, Physics",
         "orientation": "v",
         "showlegend": true,
         "type": "scatter",
         "x": [
          "PHYS104",
          "PHYS210",
          "PHYS103"
         ],
         "xaxis": "x",
         "y": [
          7,
          1,
          4
         ],
         "yaxis": "y"
        },
        {
         "hovertemplate": "<b>%{hovertext}</b><br><br>color=Computer science<br>symbol=Computer science<br>index=%{x}<br>value=%{y}<extra></extra>",
         "hovertext": [
          "CSC111",
          "CSC113",
          "CSC220",
          "CSC212",
          "CSC215",
          "CSC304",
          "CSC380",
          "CSC227",
          "CSC311",
          "CSC339",
          "CSC343",
          "CSC361",
          "CSC329",
          "CSC340",
          "CSC453",
          "CSC496",
          "CSC443",
          "CSC462",
          "CSC476",
          "CSC478",
          "CSC484",
          "CSC489"
         ],
         "legendgroup": "Computer science, Computer science",
         "marker": {
          "color": "#19d3f3",
          "symbol": "circle"
         },
         "mode": "markers",
         "name": "Computer science, Computer science",
         "orientation": "v",
         "showlegend": true,
         "type": "scatter",
         "x": [
          "CSC111",
          "CSC113",
          "CSC220",
          "CSC212",
          "CSC215",
          "CSC304",
          "CSC380",
          "CSC227",
          "CSC311",
          "CSC339",
          "CSC343",
          "CSC361",
          "CSC329",
          "CSC340",
          "CSC453",
          "CSC496",
          "CSC443",
          "CSC462",
          "CSC476",
          "CSC478",
          "CSC484",
          "CSC489"
         ],
         "xaxis": "x",
         "y": [
          8,
          7,
          5,
          6,
          4,
          6,
          5,
          5,
          5,
          5,
          5,
          5,
          5,
          5,
          5,
          4,
          2,
          5,
          1,
          1,
          1,
          1
         ],
         "yaxis": "y"
        }
       ],
       "layout": {
        "legend": {
         "title": {
          "text": "color, symbol"
         },
         "tracegroupgap": 0
        },
        "margin": {
         "t": 60
        },
        "template": {
         "data": {
          "bar": [
           {
            "error_x": {
             "color": "#f2f5fa"
            },
            "error_y": {
             "color": "#f2f5fa"
            },
            "marker": {
             "line": {
              "color": "rgb(17,17,17)",
              "width": 0.5
             },
             "pattern": {
              "fillmode": "overlay",
              "size": 10,
              "solidity": 0.2
             }
            },
            "type": "bar"
           }
          ],
          "barpolar": [
           {
            "marker": {
             "line": {
              "color": "rgb(17,17,17)",
              "width": 0.5
             },
             "pattern": {
              "fillmode": "overlay",
              "size": 10,
              "solidity": 0.2
             }
            },
            "type": "barpolar"
           }
          ],
          "carpet": [
           {
            "aaxis": {
             "endlinecolor": "#A2B1C6",
             "gridcolor": "#506784",
             "linecolor": "#506784",
             "minorgridcolor": "#506784",
             "startlinecolor": "#A2B1C6"
            },
            "baxis": {
             "endlinecolor": "#A2B1C6",
             "gridcolor": "#506784",
             "linecolor": "#506784",
             "minorgridcolor": "#506784",
             "startlinecolor": "#A2B1C6"
            },
            "type": "carpet"
           }
          ],
          "choropleth": [
           {
            "colorbar": {
             "outlinewidth": 0,
             "ticks": ""
            },
            "type": "choropleth"
           }
          ],
          "contour": [
           {
            "colorbar": {
             "outlinewidth": 0,
             "ticks": ""
            },
            "colorscale": [
             [
              0,
              "#0d0887"
             ],
             [
              0.1111111111111111,
              "#46039f"
             ],
             [
              0.2222222222222222,
              "#7201a8"
             ],
             [
              0.3333333333333333,
              "#9c179e"
             ],
             [
              0.4444444444444444,
              "#bd3786"
             ],
             [
              0.5555555555555556,
              "#d8576b"
             ],
             [
              0.6666666666666666,
              "#ed7953"
             ],
             [
              0.7777777777777778,
              "#fb9f3a"
             ],
             [
              0.8888888888888888,
              "#fdca26"
             ],
             [
              1,
              "#f0f921"
             ]
            ],
            "type": "contour"
           }
          ],
          "contourcarpet": [
           {
            "colorbar": {
             "outlinewidth": 0,
             "ticks": ""
            },
            "type": "contourcarpet"
           }
          ],
          "heatmap": [
           {
            "colorbar": {
             "outlinewidth": 0,
             "ticks": ""
            },
            "colorscale": [
             [
              0,
              "#0d0887"
             ],
             [
              0.1111111111111111,
              "#46039f"
             ],
             [
              0.2222222222222222,
              "#7201a8"
             ],
             [
              0.3333333333333333,
              "#9c179e"
             ],
             [
              0.4444444444444444,
              "#bd3786"
             ],
             [
              0.5555555555555556,
              "#d8576b"
             ],
             [
              0.6666666666666666,
              "#ed7953"
             ],
             [
              0.7777777777777778,
              "#fb9f3a"
             ],
             [
              0.8888888888888888,
              "#fdca26"
             ],
             [
              1,
              "#f0f921"
             ]
            ],
            "type": "heatmap"
           }
          ],
          "heatmapgl": [
           {
            "colorbar": {
             "outlinewidth": 0,
             "ticks": ""
            },
            "colorscale": [
             [
              0,
              "#0d0887"
             ],
             [
              0.1111111111111111,
              "#46039f"
             ],
             [
              0.2222222222222222,
              "#7201a8"
             ],
             [
              0.3333333333333333,
              "#9c179e"
             ],
             [
              0.4444444444444444,
              "#bd3786"
             ],
             [
              0.5555555555555556,
              "#d8576b"
             ],
             [
              0.6666666666666666,
              "#ed7953"
             ],
             [
              0.7777777777777778,
              "#fb9f3a"
             ],
             [
              0.8888888888888888,
              "#fdca26"
             ],
             [
              1,
              "#f0f921"
             ]
            ],
            "type": "heatmapgl"
           }
          ],
          "histogram": [
           {
            "marker": {
             "pattern": {
              "fillmode": "overlay",
              "size": 10,
              "solidity": 0.2
             }
            },
            "type": "histogram"
           }
          ],
          "histogram2d": [
           {
            "colorbar": {
             "outlinewidth": 0,
             "ticks": ""
            },
            "colorscale": [
             [
              0,
              "#0d0887"
             ],
             [
              0.1111111111111111,
              "#46039f"
             ],
             [
              0.2222222222222222,
              "#7201a8"
             ],
             [
              0.3333333333333333,
              "#9c179e"
             ],
             [
              0.4444444444444444,
              "#bd3786"
             ],
             [
              0.5555555555555556,
              "#d8576b"
             ],
             [
              0.6666666666666666,
              "#ed7953"
             ],
             [
              0.7777777777777778,
              "#fb9f3a"
             ],
             [
              0.8888888888888888,
              "#fdca26"
             ],
             [
              1,
              "#f0f921"
             ]
            ],
            "type": "histogram2d"
           }
          ],
          "histogram2dcontour": [
           {
            "colorbar": {
             "outlinewidth": 0,
             "ticks": ""
            },
            "colorscale": [
             [
              0,
              "#0d0887"
             ],
             [
              0.1111111111111111,
              "#46039f"
             ],
             [
              0.2222222222222222,
              "#7201a8"
             ],
             [
              0.3333333333333333,
              "#9c179e"
             ],
             [
              0.4444444444444444,
              "#bd3786"
             ],
             [
              0.5555555555555556,
              "#d8576b"
             ],
             [
              0.6666666666666666,
              "#ed7953"
             ],
             [
              0.7777777777777778,
              "#fb9f3a"
             ],
             [
              0.8888888888888888,
              "#fdca26"
             ],
             [
              1,
              "#f0f921"
             ]
            ],
            "type": "histogram2dcontour"
           }
          ],
          "mesh3d": [
           {
            "colorbar": {
             "outlinewidth": 0,
             "ticks": ""
            },
            "type": "mesh3d"
           }
          ],
          "parcoords": [
           {
            "line": {
             "colorbar": {
              "outlinewidth": 0,
              "ticks": ""
             }
            },
            "type": "parcoords"
           }
          ],
          "pie": [
           {
            "automargin": true,
            "type": "pie"
           }
          ],
          "scatter": [
           {
            "marker": {
             "line": {
              "color": "#283442"
             }
            },
            "type": "scatter"
           }
          ],
          "scatter3d": [
           {
            "line": {
             "colorbar": {
              "outlinewidth": 0,
              "ticks": ""
             }
            },
            "marker": {
             "colorbar": {
              "outlinewidth": 0,
              "ticks": ""
             }
            },
            "type": "scatter3d"
           }
          ],
          "scattercarpet": [
           {
            "marker": {
             "colorbar": {
              "outlinewidth": 0,
              "ticks": ""
             }
            },
            "type": "scattercarpet"
           }
          ],
          "scattergeo": [
           {
            "marker": {
             "colorbar": {
              "outlinewidth": 0,
              "ticks": ""
             }
            },
            "type": "scattergeo"
           }
          ],
          "scattergl": [
           {
            "marker": {
             "line": {
              "color": "#283442"
             }
            },
            "type": "scattergl"
           }
          ],
          "scattermapbox": [
           {
            "marker": {
             "colorbar": {
              "outlinewidth": 0,
              "ticks": ""
             }
            },
            "type": "scattermapbox"
           }
          ],
          "scatterpolar": [
           {
            "marker": {
             "colorbar": {
              "outlinewidth": 0,
              "ticks": ""
             }
            },
            "type": "scatterpolar"
           }
          ],
          "scatterpolargl": [
           {
            "marker": {
             "colorbar": {
              "outlinewidth": 0,
              "ticks": ""
             }
            },
            "type": "scatterpolargl"
           }
          ],
          "scatterternary": [
           {
            "marker": {
             "colorbar": {
              "outlinewidth": 0,
              "ticks": ""
             }
            },
            "type": "scatterternary"
           }
          ],
          "surface": [
           {
            "colorbar": {
             "outlinewidth": 0,
             "ticks": ""
            },
            "colorscale": [
             [
              0,
              "#0d0887"
             ],
             [
              0.1111111111111111,
              "#46039f"
             ],
             [
              0.2222222222222222,
              "#7201a8"
             ],
             [
              0.3333333333333333,
              "#9c179e"
             ],
             [
              0.4444444444444444,
              "#bd3786"
             ],
             [
              0.5555555555555556,
              "#d8576b"
             ],
             [
              0.6666666666666666,
              "#ed7953"
             ],
             [
              0.7777777777777778,
              "#fb9f3a"
             ],
             [
              0.8888888888888888,
              "#fdca26"
             ],
             [
              1,
              "#f0f921"
             ]
            ],
            "type": "surface"
           }
          ],
          "table": [
           {
            "cells": {
             "fill": {
              "color": "#506784"
             },
             "line": {
              "color": "rgb(17,17,17)"
             }
            },
            "header": {
             "fill": {
              "color": "#2a3f5f"
             },
             "line": {
              "color": "rgb(17,17,17)"
             }
            },
            "type": "table"
           }
          ]
         },
         "layout": {
          "annotationdefaults": {
           "arrowcolor": "#f2f5fa",
           "arrowhead": 0,
           "arrowwidth": 1
          },
          "autotypenumbers": "strict",
          "coloraxis": {
           "colorbar": {
            "outlinewidth": 0,
            "ticks": ""
           }
          },
          "colorscale": {
           "diverging": [
            [
             0,
             "#8e0152"
            ],
            [
             0.1,
             "#c51b7d"
            ],
            [
             0.2,
             "#de77ae"
            ],
            [
             0.3,
             "#f1b6da"
            ],
            [
             0.4,
             "#fde0ef"
            ],
            [
             0.5,
             "#f7f7f7"
            ],
            [
             0.6,
             "#e6f5d0"
            ],
            [
             0.7,
             "#b8e186"
            ],
            [
             0.8,
             "#7fbc41"
            ],
            [
             0.9,
             "#4d9221"
            ],
            [
             1,
             "#276419"
            ]
           ],
           "sequential": [
            [
             0,
             "#0d0887"
            ],
            [
             0.1111111111111111,
             "#46039f"
            ],
            [
             0.2222222222222222,
             "#7201a8"
            ],
            [
             0.3333333333333333,
             "#9c179e"
            ],
            [
             0.4444444444444444,
             "#bd3786"
            ],
            [
             0.5555555555555556,
             "#d8576b"
            ],
            [
             0.6666666666666666,
             "#ed7953"
            ],
            [
             0.7777777777777778,
             "#fb9f3a"
            ],
            [
             0.8888888888888888,
             "#fdca26"
            ],
            [
             1,
             "#f0f921"
            ]
           ],
           "sequentialminus": [
            [
             0,
             "#0d0887"
            ],
            [
             0.1111111111111111,
             "#46039f"
            ],
            [
             0.2222222222222222,
             "#7201a8"
            ],
            [
             0.3333333333333333,
             "#9c179e"
            ],
            [
             0.4444444444444444,
             "#bd3786"
            ],
            [
             0.5555555555555556,
             "#d8576b"
            ],
            [
             0.6666666666666666,
             "#ed7953"
            ],
            [
             0.7777777777777778,
             "#fb9f3a"
            ],
            [
             0.8888888888888888,
             "#fdca26"
            ],
            [
             1,
             "#f0f921"
            ]
           ]
          },
          "colorway": [
           "#636efa",
           "#EF553B",
           "#00cc96",
           "#ab63fa",
           "#FFA15A",
           "#19d3f3",
           "#FF6692",
           "#B6E880",
           "#FF97FF",
           "#FECB52"
          ],
          "font": {
           "color": "#f2f5fa"
          },
          "geo": {
           "bgcolor": "rgb(17,17,17)",
           "lakecolor": "rgb(17,17,17)",
           "landcolor": "rgb(17,17,17)",
           "showlakes": true,
           "showland": true,
           "subunitcolor": "#506784"
          },
          "hoverlabel": {
           "align": "left"
          },
          "hovermode": "closest",
          "mapbox": {
           "style": "dark"
          },
          "paper_bgcolor": "rgb(17,17,17)",
          "plot_bgcolor": "rgb(17,17,17)",
          "polar": {
           "angularaxis": {
            "gridcolor": "#506784",
            "linecolor": "#506784",
            "ticks": ""
           },
           "bgcolor": "rgb(17,17,17)",
           "radialaxis": {
            "gridcolor": "#506784",
            "linecolor": "#506784",
            "ticks": ""
           }
          },
          "scene": {
           "xaxis": {
            "backgroundcolor": "rgb(17,17,17)",
            "gridcolor": "#506784",
            "gridwidth": 2,
            "linecolor": "#506784",
            "showbackground": true,
            "ticks": "",
            "zerolinecolor": "#C8D4E3"
           },
           "yaxis": {
            "backgroundcolor": "rgb(17,17,17)",
            "gridcolor": "#506784",
            "gridwidth": 2,
            "linecolor": "#506784",
            "showbackground": true,
            "ticks": "",
            "zerolinecolor": "#C8D4E3"
           },
           "zaxis": {
            "backgroundcolor": "rgb(17,17,17)",
            "gridcolor": "#506784",
            "gridwidth": 2,
            "linecolor": "#506784",
            "showbackground": true,
            "ticks": "",
            "zerolinecolor": "#C8D4E3"
           }
          },
          "shapedefaults": {
           "line": {
            "color": "#f2f5fa"
           }
          },
          "sliderdefaults": {
           "bgcolor": "#C8D4E3",
           "bordercolor": "rgb(17,17,17)",
           "borderwidth": 1,
           "tickwidth": 0
          },
          "ternary": {
           "aaxis": {
            "gridcolor": "#506784",
            "linecolor": "#506784",
            "ticks": ""
           },
           "baxis": {
            "gridcolor": "#506784",
            "linecolor": "#506784",
            "ticks": ""
           },
           "bgcolor": "rgb(17,17,17)",
           "caxis": {
            "gridcolor": "#506784",
            "linecolor": "#506784",
            "ticks": ""
           }
          },
          "title": {
           "x": 0.05
          },
          "updatemenudefaults": {
           "bgcolor": "#506784",
           "borderwidth": 0
          },
          "xaxis": {
           "automargin": true,
           "gridcolor": "#283442",
           "linecolor": "#506784",
           "ticks": "",
           "title": {
            "standoff": 15
           },
           "zerolinecolor": "#283442",
           "zerolinewidth": 2
          },
          "yaxis": {
           "automargin": true,
           "gridcolor": "#283442",
           "linecolor": "#506784",
           "ticks": "",
           "title": {
            "standoff": 15
           },
           "zerolinecolor": "#283442",
           "zerolinewidth": 2
          }
         }
        },
        "xaxis": {
         "anchor": "y",
         "domain": [
          0,
          1
         ],
         "title": {
          "text": "index"
         }
        },
        "yaxis": {
         "anchor": "x",
         "domain": [
          0,
          1
         ],
         "title": {
          "text": "value"
         }
        }
       }
      }
     },
     "metadata": {},
     "output_type": "display_data"
    }
   ],
   "source": [
    "px.scatter(course_to_num_ranking_series, color=categories, symbol=categories, hover_name=course_to_num_ranking_series.index)"
   ]
  },
  {
   "cell_type": "code",
   "execution_count": null,
   "metadata": {},
   "outputs": [],
   "source": [
    "rating_counts_per_criteria = []\n",
    "for criterion in criteria:\n",
    "    rating_counts_per_criteria.append(df_by_regex(f\".*{criterion}.*\").apply(pd.value_counts).sum(axis=1))\n",
    "rating_counts_df = pd.DataFrame(rating_counts_per_criteria).T\n",
    "rating_counts_df.columns = criteria"
   ]
  },
  {
   "cell_type": "code",
   "execution_count": null,
   "metadata": {},
   "outputs": [
    {
     "data": {
      "text/html": [
       "<div>\n",
       "<style scoped>\n",
       "    .dataframe tbody tr th:only-of-type {\n",
       "        vertical-align: middle;\n",
       "    }\n",
       "\n",
       "    .dataframe tbody tr th {\n",
       "        vertical-align: top;\n",
       "    }\n",
       "\n",
       "    .dataframe thead th {\n",
       "        text-align: right;\n",
       "    }\n",
       "</style>\n",
       "<table border=\"1\" class=\"dataframe\">\n",
       "  <thead>\n",
       "    <tr style=\"text-align: right;\">\n",
       "      <th></th>\n",
       "      <th>Application</th>\n",
       "      <th>Relevance</th>\n",
       "      <th>Insight</th>\n",
       "      <th>Understanding</th>\n",
       "      <th>Ease</th>\n",
       "    </tr>\n",
       "  </thead>\n",
       "  <tbody>\n",
       "    <tr>\n",
       "      <th>1.0</th>\n",
       "      <td>40.0</td>\n",
       "      <td>35.0</td>\n",
       "      <td>51.0</td>\n",
       "      <td>36.0</td>\n",
       "      <td>28.0</td>\n",
       "    </tr>\n",
       "    <tr>\n",
       "      <th>2.0</th>\n",
       "      <td>30.0</td>\n",
       "      <td>31.0</td>\n",
       "      <td>30.0</td>\n",
       "      <td>26.0</td>\n",
       "      <td>28.0</td>\n",
       "    </tr>\n",
       "    <tr>\n",
       "      <th>3.0</th>\n",
       "      <td>40.0</td>\n",
       "      <td>42.0</td>\n",
       "      <td>40.0</td>\n",
       "      <td>38.0</td>\n",
       "      <td>45.0</td>\n",
       "    </tr>\n",
       "    <tr>\n",
       "      <th>4.0</th>\n",
       "      <td>26.0</td>\n",
       "      <td>36.0</td>\n",
       "      <td>39.0</td>\n",
       "      <td>44.0</td>\n",
       "      <td>45.0</td>\n",
       "    </tr>\n",
       "    <tr>\n",
       "      <th>5.0</th>\n",
       "      <td>86.0</td>\n",
       "      <td>78.0</td>\n",
       "      <td>62.0</td>\n",
       "      <td>78.0</td>\n",
       "      <td>76.0</td>\n",
       "    </tr>\n",
       "  </tbody>\n",
       "</table>\n",
       "</div>"
      ],
      "text/plain": [
       "     Application  Relevance  Insight  Understanding  Ease\n",
       "1.0         40.0       35.0     51.0           36.0  28.0\n",
       "2.0         30.0       31.0     30.0           26.0  28.0\n",
       "3.0         40.0       42.0     40.0           38.0  45.0\n",
       "4.0         26.0       36.0     39.0           44.0  45.0\n",
       "5.0         86.0       78.0     62.0           78.0  76.0"
      ]
     },
     "execution_count": 112,
     "metadata": {},
     "output_type": "execute_result"
    }
   ],
   "source": [
    "rating_counts_df"
   ]
  },
  {
   "cell_type": "code",
   "execution_count": null,
   "metadata": {},
   "outputs": [],
   "source": [
    "rating_counts_raw_criteria = []\n",
    "for criterion in criteria:\n",
    "    rating_counts_raw_criteria.append(np.concatenate(df_by_regex(f\".*{criterion}.*\").values))\n",
    "rating_counts_raw_df = pd.DataFrame(rating_counts_raw_criteria).T\n",
    "rating_counts_raw_df.columns = criteria"
   ]
  },
  {
   "cell_type": "code",
   "execution_count": null,
   "metadata": {},
   "outputs": [
    {
     "data": {
      "application/vnd.plotly.v1+json": {
       "config": {
        "plotlyServerURL": "https://plot.ly"
       },
       "data": [
        {
         "alignmentgroup": "True",
         "box": {
          "visible": false
         },
         "hovertemplate": "variable=%{x}<br>value=%{y}<extra></extra>",
         "legendgroup": "",
         "marker": {
          "color": "#636efa"
         },
         "name": "",
         "offsetgroup": "",
         "orientation": "v",
         "scalegroup": "True",
         "showlegend": false,
         "type": "violin",
         "x": [
          "Application",
          "Application",
          "Application",
          "Application",
          "Application",
          "Application",
          "Application",
          "Application",
          "Application",
          "Application",
          "Application",
          "Application",
          "Application",
          "Application",
          "Application",
          "Application",
          "Application",
          "Application",
          "Application",
          "Application",
          "Application",
          "Application",
          "Application",
          "Application",
          "Application",
          "Application",
          "Application",
          "Application",
          "Application",
          "Application",
          "Application",
          "Application",
          "Application",
          "Application",
          "Application",
          "Application",
          "Application",
          "Application",
          "Application",
          "Application",
          "Application",
          "Application",
          "Application",
          "Application",
          "Application",
          "Application",
          "Application",
          "Application",
          "Application",
          "Application",
          "Application",
          "Application",
          "Application",
          "Application",
          "Application",
          "Application",
          "Application",
          "Application",
          "Application",
          "Application",
          "Application",
          "Application",
          "Application",
          "Application",
          "Application",
          "Application",
          "Application",
          "Application",
          "Application",
          "Application",
          "Application",
          "Application",
          "Application",
          "Application",
          "Application",
          "Application",
          "Application",
          "Application",
          "Application",
          "Application",
          "Application",
          "Application",
          "Application",
          "Application",
          "Application",
          "Application",
          "Application",
          "Application",
          "Application",
          "Application",
          "Application",
          "Application",
          "Application",
          "Application",
          "Application",
          "Application",
          "Application",
          "Application",
          "Application",
          "Application",
          "Application",
          "Application",
          "Application",
          "Application",
          "Application",
          "Application",
          "Application",
          "Application",
          "Application",
          "Application",
          "Application",
          "Application",
          "Application",
          "Application",
          "Application",
          "Application",
          "Application",
          "Application",
          "Application",
          "Application",
          "Application",
          "Application",
          "Application",
          "Application",
          "Application",
          "Application",
          "Application",
          "Application",
          "Application",
          "Application",
          "Application",
          "Application",
          "Application",
          "Application",
          "Application",
          "Application",
          "Application",
          "Application",
          "Application",
          "Application",
          "Application",
          "Application",
          "Application",
          "Application",
          "Application",
          "Application",
          "Application",
          "Application",
          "Application",
          "Application",
          "Application",
          "Application",
          "Application",
          "Application",
          "Application",
          "Application",
          "Application",
          "Application",
          "Application",
          "Application",
          "Application",
          "Application",
          "Application",
          "Application",
          "Application",
          "Application",
          "Application",
          "Application",
          "Application",
          "Application",
          "Application",
          "Application",
          "Application",
          "Application",
          "Application",
          "Application",
          "Application",
          "Application",
          "Application",
          "Application",
          "Application",
          "Application",
          "Application",
          "Application",
          "Application",
          "Application",
          "Application",
          "Application",
          "Application",
          "Application",
          "Application",
          "Application",
          "Application",
          "Application",
          "Application",
          "Application",
          "Application",
          "Application",
          "Application",
          "Application",
          "Application",
          "Application",
          "Application",
          "Application",
          "Application",
          "Application",
          "Application",
          "Application",
          "Application",
          "Application",
          "Application",
          "Application",
          "Application",
          "Application",
          "Application",
          "Application",
          "Application",
          "Application",
          "Application",
          "Application",
          "Application",
          "Application",
          "Application",
          "Application",
          "Application",
          "Application",
          "Application",
          "Application",
          "Application",
          "Application",
          "Application",
          "Application",
          "Application",
          "Application",
          "Application",
          "Application",
          "Application",
          "Application",
          "Application",
          "Application",
          "Application",
          "Application",
          "Application",
          "Application",
          "Application",
          "Application",
          "Application",
          "Application",
          "Application",
          "Application",
          "Application",
          "Application",
          "Application",
          "Application",
          "Application",
          "Application",
          "Application",
          "Application",
          "Application",
          "Application",
          "Application",
          "Application",
          "Application",
          "Application",
          "Application",
          "Application",
          "Application",
          "Application",
          "Application",
          "Application",
          "Application",
          "Application",
          "Application",
          "Application",
          "Application",
          "Application",
          "Application",
          "Application",
          "Application",
          "Application",
          "Application",
          "Application",
          "Application",
          "Application",
          "Application",
          "Application",
          "Application",
          "Application",
          "Application",
          "Application",
          "Application",
          "Application",
          "Application",
          "Application",
          "Application",
          "Application",
          "Application",
          "Application",
          "Application",
          "Application",
          "Application",
          "Application",
          "Application",
          "Application",
          "Application",
          "Application",
          "Application",
          "Application",
          "Application",
          "Application",
          "Application",
          "Application",
          "Application",
          "Application",
          "Application",
          "Application",
          "Application",
          "Application",
          "Application",
          "Application",
          "Application",
          "Application",
          "Application",
          "Application",
          "Application",
          "Application",
          "Application",
          "Application",
          "Application",
          "Application",
          "Application",
          "Application",
          "Application",
          "Application",
          "Application",
          "Application",
          "Application",
          "Application",
          "Application",
          "Application",
          "Application",
          "Application",
          "Application",
          "Application",
          "Application",
          "Application",
          "Application",
          "Application",
          "Application",
          "Application",
          "Application",
          "Application",
          "Application",
          "Application",
          "Application",
          "Application",
          "Application",
          "Application",
          "Application",
          "Application",
          "Application",
          "Application",
          "Application",
          "Application",
          "Application",
          "Application",
          "Application",
          "Application",
          "Application",
          "Application",
          "Application",
          "Application",
          "Application",
          "Application",
          "Application",
          "Application",
          "Application",
          "Application",
          "Relevance",
          "Relevance",
          "Relevance",
          "Relevance",
          "Relevance",
          "Relevance",
          "Relevance",
          "Relevance",
          "Relevance",
          "Relevance",
          "Relevance",
          "Relevance",
          "Relevance",
          "Relevance",
          "Relevance",
          "Relevance",
          "Relevance",
          "Relevance",
          "Relevance",
          "Relevance",
          "Relevance",
          "Relevance",
          "Relevance",
          "Relevance",
          "Relevance",
          "Relevance",
          "Relevance",
          "Relevance",
          "Relevance",
          "Relevance",
          "Relevance",
          "Relevance",
          "Relevance",
          "Relevance",
          "Relevance",
          "Relevance",
          "Relevance",
          "Relevance",
          "Relevance",
          "Relevance",
          "Relevance",
          "Relevance",
          "Relevance",
          "Relevance",
          "Relevance",
          "Relevance",
          "Relevance",
          "Relevance",
          "Relevance",
          "Relevance",
          "Relevance",
          "Relevance",
          "Relevance",
          "Relevance",
          "Relevance",
          "Relevance",
          "Relevance",
          "Relevance",
          "Relevance",
          "Relevance",
          "Relevance",
          "Relevance",
          "Relevance",
          "Relevance",
          "Relevance",
          "Relevance",
          "Relevance",
          "Relevance",
          "Relevance",
          "Relevance",
          "Relevance",
          "Relevance",
          "Relevance",
          "Relevance",
          "Relevance",
          "Relevance",
          "Relevance",
          "Relevance",
          "Relevance",
          "Relevance",
          "Relevance",
          "Relevance",
          "Relevance",
          "Relevance",
          "Relevance",
          "Relevance",
          "Relevance",
          "Relevance",
          "Relevance",
          "Relevance",
          "Relevance",
          "Relevance",
          "Relevance",
          "Relevance",
          "Relevance",
          "Relevance",
          "Relevance",
          "Relevance",
          "Relevance",
          "Relevance",
          "Relevance",
          "Relevance",
          "Relevance",
          "Relevance",
          "Relevance",
          "Relevance",
          "Relevance",
          "Relevance",
          "Relevance",
          "Relevance",
          "Relevance",
          "Relevance",
          "Relevance",
          "Relevance",
          "Relevance",
          "Relevance",
          "Relevance",
          "Relevance",
          "Relevance",
          "Relevance",
          "Relevance",
          "Relevance",
          "Relevance",
          "Relevance",
          "Relevance",
          "Relevance",
          "Relevance",
          "Relevance",
          "Relevance",
          "Relevance",
          "Relevance",
          "Relevance",
          "Relevance",
          "Relevance",
          "Relevance",
          "Relevance",
          "Relevance",
          "Relevance",
          "Relevance",
          "Relevance",
          "Relevance",
          "Relevance",
          "Relevance",
          "Relevance",
          "Relevance",
          "Relevance",
          "Relevance",
          "Relevance",
          "Relevance",
          "Relevance",
          "Relevance",
          "Relevance",
          "Relevance",
          "Relevance",
          "Relevance",
          "Relevance",
          "Relevance",
          "Relevance",
          "Relevance",
          "Relevance",
          "Relevance",
          "Relevance",
          "Relevance",
          "Relevance",
          "Relevance",
          "Relevance",
          "Relevance",
          "Relevance",
          "Relevance",
          "Relevance",
          "Relevance",
          "Relevance",
          "Relevance",
          "Relevance",
          "Relevance",
          "Relevance",
          "Relevance",
          "Relevance",
          "Relevance",
          "Relevance",
          "Relevance",
          "Relevance",
          "Relevance",
          "Relevance",
          "Relevance",
          "Relevance",
          "Relevance",
          "Relevance",
          "Relevance",
          "Relevance",
          "Relevance",
          "Relevance",
          "Relevance",
          "Relevance",
          "Relevance",
          "Relevance",
          "Relevance",
          "Relevance",
          "Relevance",
          "Relevance",
          "Relevance",
          "Relevance",
          "Relevance",
          "Relevance",
          "Relevance",
          "Relevance",
          "Relevance",
          "Relevance",
          "Relevance",
          "Relevance",
          "Relevance",
          "Relevance",
          "Relevance",
          "Relevance",
          "Relevance",
          "Relevance",
          "Relevance",
          "Relevance",
          "Relevance",
          "Relevance",
          "Relevance",
          "Relevance",
          "Relevance",
          "Relevance",
          "Relevance",
          "Relevance",
          "Relevance",
          "Relevance",
          "Relevance",
          "Relevance",
          "Relevance",
          "Relevance",
          "Relevance",
          "Relevance",
          "Relevance",
          "Relevance",
          "Relevance",
          "Relevance",
          "Relevance",
          "Relevance",
          "Relevance",
          "Relevance",
          "Relevance",
          "Relevance",
          "Relevance",
          "Relevance",
          "Relevance",
          "Relevance",
          "Relevance",
          "Relevance",
          "Relevance",
          "Relevance",
          "Relevance",
          "Relevance",
          "Relevance",
          "Relevance",
          "Relevance",
          "Relevance",
          "Relevance",
          "Relevance",
          "Relevance",
          "Relevance",
          "Relevance",
          "Relevance",
          "Relevance",
          "Relevance",
          "Relevance",
          "Relevance",
          "Relevance",
          "Relevance",
          "Relevance",
          "Relevance",
          "Relevance",
          "Relevance",
          "Relevance",
          "Relevance",
          "Relevance",
          "Relevance",
          "Relevance",
          "Relevance",
          "Relevance",
          "Relevance",
          "Relevance",
          "Relevance",
          "Relevance",
          "Relevance",
          "Relevance",
          "Relevance",
          "Relevance",
          "Relevance",
          "Relevance",
          "Relevance",
          "Relevance",
          "Relevance",
          "Relevance",
          "Relevance",
          "Relevance",
          "Relevance",
          "Relevance",
          "Relevance",
          "Relevance",
          "Relevance",
          "Relevance",
          "Relevance",
          "Relevance",
          "Relevance",
          "Relevance",
          "Relevance",
          "Relevance",
          "Relevance",
          "Relevance",
          "Relevance",
          "Relevance",
          "Relevance",
          "Relevance",
          "Relevance",
          "Relevance",
          "Relevance",
          "Relevance",
          "Relevance",
          "Relevance",
          "Relevance",
          "Relevance",
          "Relevance",
          "Relevance",
          "Relevance",
          "Relevance",
          "Relevance",
          "Relevance",
          "Relevance",
          "Relevance",
          "Relevance",
          "Relevance",
          "Relevance",
          "Relevance",
          "Relevance",
          "Relevance",
          "Relevance",
          "Relevance",
          "Relevance",
          "Relevance",
          "Relevance",
          "Relevance",
          "Relevance",
          "Relevance",
          "Relevance",
          "Relevance",
          "Relevance",
          "Relevance",
          "Relevance",
          "Relevance",
          "Relevance",
          "Relevance",
          "Relevance",
          "Relevance",
          "Relevance",
          "Relevance",
          "Relevance",
          "Relevance",
          "Relevance",
          "Relevance",
          "Relevance",
          "Relevance",
          "Relevance",
          "Relevance",
          "Relevance",
          "Relevance",
          "Relevance",
          "Relevance",
          "Relevance",
          "Relevance",
          "Relevance",
          "Relevance",
          "Relevance",
          "Relevance",
          "Relevance",
          "Relevance",
          "Relevance",
          "Insight",
          "Insight",
          "Insight",
          "Insight",
          "Insight",
          "Insight",
          "Insight",
          "Insight",
          "Insight",
          "Insight",
          "Insight",
          "Insight",
          "Insight",
          "Insight",
          "Insight",
          "Insight",
          "Insight",
          "Insight",
          "Insight",
          "Insight",
          "Insight",
          "Insight",
          "Insight",
          "Insight",
          "Insight",
          "Insight",
          "Insight",
          "Insight",
          "Insight",
          "Insight",
          "Insight",
          "Insight",
          "Insight",
          "Insight",
          "Insight",
          "Insight",
          "Insight",
          "Insight",
          "Insight",
          "Insight",
          "Insight",
          "Insight",
          "Insight",
          "Insight",
          "Insight",
          "Insight",
          "Insight",
          "Insight",
          "Insight",
          "Insight",
          "Insight",
          "Insight",
          "Insight",
          "Insight",
          "Insight",
          "Insight",
          "Insight",
          "Insight",
          "Insight",
          "Insight",
          "Insight",
          "Insight",
          "Insight",
          "Insight",
          "Insight",
          "Insight",
          "Insight",
          "Insight",
          "Insight",
          "Insight",
          "Insight",
          "Insight",
          "Insight",
          "Insight",
          "Insight",
          "Insight",
          "Insight",
          "Insight",
          "Insight",
          "Insight",
          "Insight",
          "Insight",
          "Insight",
          "Insight",
          "Insight",
          "Insight",
          "Insight",
          "Insight",
          "Insight",
          "Insight",
          "Insight",
          "Insight",
          "Insight",
          "Insight",
          "Insight",
          "Insight",
          "Insight",
          "Insight",
          "Insight",
          "Insight",
          "Insight",
          "Insight",
          "Insight",
          "Insight",
          "Insight",
          "Insight",
          "Insight",
          "Insight",
          "Insight",
          "Insight",
          "Insight",
          "Insight",
          "Insight",
          "Insight",
          "Insight",
          "Insight",
          "Insight",
          "Insight",
          "Insight",
          "Insight",
          "Insight",
          "Insight",
          "Insight",
          "Insight",
          "Insight",
          "Insight",
          "Insight",
          "Insight",
          "Insight",
          "Insight",
          "Insight",
          "Insight",
          "Insight",
          "Insight",
          "Insight",
          "Insight",
          "Insight",
          "Insight",
          "Insight",
          "Insight",
          "Insight",
          "Insight",
          "Insight",
          "Insight",
          "Insight",
          "Insight",
          "Insight",
          "Insight",
          "Insight",
          "Insight",
          "Insight",
          "Insight",
          "Insight",
          "Insight",
          "Insight",
          "Insight",
          "Insight",
          "Insight",
          "Insight",
          "Insight",
          "Insight",
          "Insight",
          "Insight",
          "Insight",
          "Insight",
          "Insight",
          "Insight",
          "Insight",
          "Insight",
          "Insight",
          "Insight",
          "Insight",
          "Insight",
          "Insight",
          "Insight",
          "Insight",
          "Insight",
          "Insight",
          "Insight",
          "Insight",
          "Insight",
          "Insight",
          "Insight",
          "Insight",
          "Insight",
          "Insight",
          "Insight",
          "Insight",
          "Insight",
          "Insight",
          "Insight",
          "Insight",
          "Insight",
          "Insight",
          "Insight",
          "Insight",
          "Insight",
          "Insight",
          "Insight",
          "Insight",
          "Insight",
          "Insight",
          "Insight",
          "Insight",
          "Insight",
          "Insight",
          "Insight",
          "Insight",
          "Insight",
          "Insight",
          "Insight",
          "Insight",
          "Insight",
          "Insight",
          "Insight",
          "Insight",
          "Insight",
          "Insight",
          "Insight",
          "Insight",
          "Insight",
          "Insight",
          "Insight",
          "Insight",
          "Insight",
          "Insight",
          "Insight",
          "Insight",
          "Insight",
          "Insight",
          "Insight",
          "Insight",
          "Insight",
          "Insight",
          "Insight",
          "Insight",
          "Insight",
          "Insight",
          "Insight",
          "Insight",
          "Insight",
          "Insight",
          "Insight",
          "Insight",
          "Insight",
          "Insight",
          "Insight",
          "Insight",
          "Insight",
          "Insight",
          "Insight",
          "Insight",
          "Insight",
          "Insight",
          "Insight",
          "Insight",
          "Insight",
          "Insight",
          "Insight",
          "Insight",
          "Insight",
          "Insight",
          "Insight",
          "Insight",
          "Insight",
          "Insight",
          "Insight",
          "Insight",
          "Insight",
          "Insight",
          "Insight",
          "Insight",
          "Insight",
          "Insight",
          "Insight",
          "Insight",
          "Insight",
          "Insight",
          "Insight",
          "Insight",
          "Insight",
          "Insight",
          "Insight",
          "Insight",
          "Insight",
          "Insight",
          "Insight",
          "Insight",
          "Insight",
          "Insight",
          "Insight",
          "Insight",
          "Insight",
          "Insight",
          "Insight",
          "Insight",
          "Insight",
          "Insight",
          "Insight",
          "Insight",
          "Insight",
          "Insight",
          "Insight",
          "Insight",
          "Insight",
          "Insight",
          "Insight",
          "Insight",
          "Insight",
          "Insight",
          "Insight",
          "Insight",
          "Insight",
          "Insight",
          "Insight",
          "Insight",
          "Insight",
          "Insight",
          "Insight",
          "Insight",
          "Insight",
          "Insight",
          "Insight",
          "Insight",
          "Insight",
          "Insight",
          "Insight",
          "Insight",
          "Insight",
          "Insight",
          "Insight",
          "Insight",
          "Insight",
          "Insight",
          "Insight",
          "Insight",
          "Insight",
          "Insight",
          "Insight",
          "Insight",
          "Insight",
          "Insight",
          "Insight",
          "Insight",
          "Insight",
          "Insight",
          "Insight",
          "Insight",
          "Insight",
          "Insight",
          "Insight",
          "Insight",
          "Insight",
          "Insight",
          "Insight",
          "Insight",
          "Insight",
          "Insight",
          "Insight",
          "Insight",
          "Insight",
          "Insight",
          "Insight",
          "Insight",
          "Insight",
          "Insight",
          "Insight",
          "Insight",
          "Insight",
          "Insight",
          "Insight",
          "Insight",
          "Insight",
          "Insight",
          "Insight",
          "Insight",
          "Insight",
          "Insight",
          "Understanding",
          "Understanding",
          "Understanding",
          "Understanding",
          "Understanding",
          "Understanding",
          "Understanding",
          "Understanding",
          "Understanding",
          "Understanding",
          "Understanding",
          "Understanding",
          "Understanding",
          "Understanding",
          "Understanding",
          "Understanding",
          "Understanding",
          "Understanding",
          "Understanding",
          "Understanding",
          "Understanding",
          "Understanding",
          "Understanding",
          "Understanding",
          "Understanding",
          "Understanding",
          "Understanding",
          "Understanding",
          "Understanding",
          "Understanding",
          "Understanding",
          "Understanding",
          "Understanding",
          "Understanding",
          "Understanding",
          "Understanding",
          "Understanding",
          "Understanding",
          "Understanding",
          "Understanding",
          "Understanding",
          "Understanding",
          "Understanding",
          "Understanding",
          "Understanding",
          "Understanding",
          "Understanding",
          "Understanding",
          "Understanding",
          "Understanding",
          "Understanding",
          "Understanding",
          "Understanding",
          "Understanding",
          "Understanding",
          "Understanding",
          "Understanding",
          "Understanding",
          "Understanding",
          "Understanding",
          "Understanding",
          "Understanding",
          "Understanding",
          "Understanding",
          "Understanding",
          "Understanding",
          "Understanding",
          "Understanding",
          "Understanding",
          "Understanding",
          "Understanding",
          "Understanding",
          "Understanding",
          "Understanding",
          "Understanding",
          "Understanding",
          "Understanding",
          "Understanding",
          "Understanding",
          "Understanding",
          "Understanding",
          "Understanding",
          "Understanding",
          "Understanding",
          "Understanding",
          "Understanding",
          "Understanding",
          "Understanding",
          "Understanding",
          "Understanding",
          "Understanding",
          "Understanding",
          "Understanding",
          "Understanding",
          "Understanding",
          "Understanding",
          "Understanding",
          "Understanding",
          "Understanding",
          "Understanding",
          "Understanding",
          "Understanding",
          "Understanding",
          "Understanding",
          "Understanding",
          "Understanding",
          "Understanding",
          "Understanding",
          "Understanding",
          "Understanding",
          "Understanding",
          "Understanding",
          "Understanding",
          "Understanding",
          "Understanding",
          "Understanding",
          "Understanding",
          "Understanding",
          "Understanding",
          "Understanding",
          "Understanding",
          "Understanding",
          "Understanding",
          "Understanding",
          "Understanding",
          "Understanding",
          "Understanding",
          "Understanding",
          "Understanding",
          "Understanding",
          "Understanding",
          "Understanding",
          "Understanding",
          "Understanding",
          "Understanding",
          "Understanding",
          "Understanding",
          "Understanding",
          "Understanding",
          "Understanding",
          "Understanding",
          "Understanding",
          "Understanding",
          "Understanding",
          "Understanding",
          "Understanding",
          "Understanding",
          "Understanding",
          "Understanding",
          "Understanding",
          "Understanding",
          "Understanding",
          "Understanding",
          "Understanding",
          "Understanding",
          "Understanding",
          "Understanding",
          "Understanding",
          "Understanding",
          "Understanding",
          "Understanding",
          "Understanding",
          "Understanding",
          "Understanding",
          "Understanding",
          "Understanding",
          "Understanding",
          "Understanding",
          "Understanding",
          "Understanding",
          "Understanding",
          "Understanding",
          "Understanding",
          "Understanding",
          "Understanding",
          "Understanding",
          "Understanding",
          "Understanding",
          "Understanding",
          "Understanding",
          "Understanding",
          "Understanding",
          "Understanding",
          "Understanding",
          "Understanding",
          "Understanding",
          "Understanding",
          "Understanding",
          "Understanding",
          "Understanding",
          "Understanding",
          "Understanding",
          "Understanding",
          "Understanding",
          "Understanding",
          "Understanding",
          "Understanding",
          "Understanding",
          "Understanding",
          "Understanding",
          "Understanding",
          "Understanding",
          "Understanding",
          "Understanding",
          "Understanding",
          "Understanding",
          "Understanding",
          "Understanding",
          "Understanding",
          "Understanding",
          "Understanding",
          "Understanding",
          "Understanding",
          "Understanding",
          "Understanding",
          "Understanding",
          "Understanding",
          "Understanding",
          "Understanding",
          "Understanding",
          "Understanding",
          "Understanding",
          "Understanding",
          "Understanding",
          "Understanding",
          "Understanding",
          "Understanding",
          "Understanding",
          "Understanding",
          "Understanding",
          "Understanding",
          "Understanding",
          "Understanding",
          "Understanding",
          "Understanding",
          "Understanding",
          "Understanding",
          "Understanding",
          "Understanding",
          "Understanding",
          "Understanding",
          "Understanding",
          "Understanding",
          "Understanding",
          "Understanding",
          "Understanding",
          "Understanding",
          "Understanding",
          "Understanding",
          "Understanding",
          "Understanding",
          "Understanding",
          "Understanding",
          "Understanding",
          "Understanding",
          "Understanding",
          "Understanding",
          "Understanding",
          "Understanding",
          "Understanding",
          "Understanding",
          "Understanding",
          "Understanding",
          "Understanding",
          "Understanding",
          "Understanding",
          "Understanding",
          "Understanding",
          "Understanding",
          "Understanding",
          "Understanding",
          "Understanding",
          "Understanding",
          "Understanding",
          "Understanding",
          "Understanding",
          "Understanding",
          "Understanding",
          "Understanding",
          "Understanding",
          "Understanding",
          "Understanding",
          "Understanding",
          "Understanding",
          "Understanding",
          "Understanding",
          "Understanding",
          "Understanding",
          "Understanding",
          "Understanding",
          "Understanding",
          "Understanding",
          "Understanding",
          "Understanding",
          "Understanding",
          "Understanding",
          "Understanding",
          "Understanding",
          "Understanding",
          "Understanding",
          "Understanding",
          "Understanding",
          "Understanding",
          "Understanding",
          "Understanding",
          "Understanding",
          "Understanding",
          "Understanding",
          "Understanding",
          "Understanding",
          "Understanding",
          "Understanding",
          "Understanding",
          "Understanding",
          "Understanding",
          "Understanding",
          "Understanding",
          "Understanding",
          "Understanding",
          "Understanding",
          "Understanding",
          "Understanding",
          "Understanding",
          "Understanding",
          "Understanding",
          "Understanding",
          "Understanding",
          "Understanding",
          "Understanding",
          "Understanding",
          "Understanding",
          "Understanding",
          "Understanding",
          "Understanding",
          "Understanding",
          "Understanding",
          "Understanding",
          "Understanding",
          "Understanding",
          "Understanding",
          "Understanding",
          "Understanding",
          "Understanding",
          "Understanding",
          "Understanding",
          "Understanding",
          "Understanding",
          "Understanding",
          "Understanding",
          "Understanding",
          "Understanding",
          "Understanding",
          "Understanding",
          "Understanding",
          "Understanding",
          "Understanding",
          "Understanding",
          "Understanding",
          "Understanding",
          "Understanding",
          "Understanding",
          "Understanding",
          "Understanding",
          "Understanding",
          "Understanding",
          "Understanding",
          "Understanding",
          "Understanding",
          "Understanding",
          "Understanding",
          "Understanding",
          "Understanding",
          "Understanding",
          "Understanding",
          "Understanding",
          "Understanding",
          "Understanding",
          "Understanding",
          "Ease",
          "Ease",
          "Ease",
          "Ease",
          "Ease",
          "Ease",
          "Ease",
          "Ease",
          "Ease",
          "Ease",
          "Ease",
          "Ease",
          "Ease",
          "Ease",
          "Ease",
          "Ease",
          "Ease",
          "Ease",
          "Ease",
          "Ease",
          "Ease",
          "Ease",
          "Ease",
          "Ease",
          "Ease",
          "Ease",
          "Ease",
          "Ease",
          "Ease",
          "Ease",
          "Ease",
          "Ease",
          "Ease",
          "Ease",
          "Ease",
          "Ease",
          "Ease",
          "Ease",
          "Ease",
          "Ease",
          "Ease",
          "Ease",
          "Ease",
          "Ease",
          "Ease",
          "Ease",
          "Ease",
          "Ease",
          "Ease",
          "Ease",
          "Ease",
          "Ease",
          "Ease",
          "Ease",
          "Ease",
          "Ease",
          "Ease",
          "Ease",
          "Ease",
          "Ease",
          "Ease",
          "Ease",
          "Ease",
          "Ease",
          "Ease",
          "Ease",
          "Ease",
          "Ease",
          "Ease",
          "Ease",
          "Ease",
          "Ease",
          "Ease",
          "Ease",
          "Ease",
          "Ease",
          "Ease",
          "Ease",
          "Ease",
          "Ease",
          "Ease",
          "Ease",
          "Ease",
          "Ease",
          "Ease",
          "Ease",
          "Ease",
          "Ease",
          "Ease",
          "Ease",
          "Ease",
          "Ease",
          "Ease",
          "Ease",
          "Ease",
          "Ease",
          "Ease",
          "Ease",
          "Ease",
          "Ease",
          "Ease",
          "Ease",
          "Ease",
          "Ease",
          "Ease",
          "Ease",
          "Ease",
          "Ease",
          "Ease",
          "Ease",
          "Ease",
          "Ease",
          "Ease",
          "Ease",
          "Ease",
          "Ease",
          "Ease",
          "Ease",
          "Ease",
          "Ease",
          "Ease",
          "Ease",
          "Ease",
          "Ease",
          "Ease",
          "Ease",
          "Ease",
          "Ease",
          "Ease",
          "Ease",
          "Ease",
          "Ease",
          "Ease",
          "Ease",
          "Ease",
          "Ease",
          "Ease",
          "Ease",
          "Ease",
          "Ease",
          "Ease",
          "Ease",
          "Ease",
          "Ease",
          "Ease",
          "Ease",
          "Ease",
          "Ease",
          "Ease",
          "Ease",
          "Ease",
          "Ease",
          "Ease",
          "Ease",
          "Ease",
          "Ease",
          "Ease",
          "Ease",
          "Ease",
          "Ease",
          "Ease",
          "Ease",
          "Ease",
          "Ease",
          "Ease",
          "Ease",
          "Ease",
          "Ease",
          "Ease",
          "Ease",
          "Ease",
          "Ease",
          "Ease",
          "Ease",
          "Ease",
          "Ease",
          "Ease",
          "Ease",
          "Ease",
          "Ease",
          "Ease",
          "Ease",
          "Ease",
          "Ease",
          "Ease",
          "Ease",
          "Ease",
          "Ease",
          "Ease",
          "Ease",
          "Ease",
          "Ease",
          "Ease",
          "Ease",
          "Ease",
          "Ease",
          "Ease",
          "Ease",
          "Ease",
          "Ease",
          "Ease",
          "Ease",
          "Ease",
          "Ease",
          "Ease",
          "Ease",
          "Ease",
          "Ease",
          "Ease",
          "Ease",
          "Ease",
          "Ease",
          "Ease",
          "Ease",
          "Ease",
          "Ease",
          "Ease",
          "Ease",
          "Ease",
          "Ease",
          "Ease",
          "Ease",
          "Ease",
          "Ease",
          "Ease",
          "Ease",
          "Ease",
          "Ease",
          "Ease",
          "Ease",
          "Ease",
          "Ease",
          "Ease",
          "Ease",
          "Ease",
          "Ease",
          "Ease",
          "Ease",
          "Ease",
          "Ease",
          "Ease",
          "Ease",
          "Ease",
          "Ease",
          "Ease",
          "Ease",
          "Ease",
          "Ease",
          "Ease",
          "Ease",
          "Ease",
          "Ease",
          "Ease",
          "Ease",
          "Ease",
          "Ease",
          "Ease",
          "Ease",
          "Ease",
          "Ease",
          "Ease",
          "Ease",
          "Ease",
          "Ease",
          "Ease",
          "Ease",
          "Ease",
          "Ease",
          "Ease",
          "Ease",
          "Ease",
          "Ease",
          "Ease",
          "Ease",
          "Ease",
          "Ease",
          "Ease",
          "Ease",
          "Ease",
          "Ease",
          "Ease",
          "Ease",
          "Ease",
          "Ease",
          "Ease",
          "Ease",
          "Ease",
          "Ease",
          "Ease",
          "Ease",
          "Ease",
          "Ease",
          "Ease",
          "Ease",
          "Ease",
          "Ease",
          "Ease",
          "Ease",
          "Ease",
          "Ease",
          "Ease",
          "Ease",
          "Ease",
          "Ease",
          "Ease",
          "Ease",
          "Ease",
          "Ease",
          "Ease",
          "Ease",
          "Ease",
          "Ease",
          "Ease",
          "Ease",
          "Ease",
          "Ease",
          "Ease",
          "Ease",
          "Ease",
          "Ease",
          "Ease",
          "Ease",
          "Ease",
          "Ease",
          "Ease",
          "Ease",
          "Ease",
          "Ease",
          "Ease",
          "Ease",
          "Ease",
          "Ease",
          "Ease",
          "Ease",
          "Ease",
          "Ease",
          "Ease",
          "Ease",
          "Ease",
          "Ease",
          "Ease",
          "Ease",
          "Ease",
          "Ease",
          "Ease",
          "Ease",
          "Ease",
          "Ease",
          "Ease",
          "Ease",
          "Ease",
          "Ease",
          "Ease",
          "Ease",
          "Ease",
          "Ease",
          "Ease",
          "Ease",
          "Ease",
          "Ease",
          "Ease",
          "Ease",
          "Ease",
          "Ease",
          "Ease",
          "Ease",
          "Ease",
          "Ease",
          "Ease",
          "Ease",
          "Ease",
          "Ease",
          "Ease",
          "Ease",
          "Ease",
          "Ease",
          "Ease",
          "Ease"
         ],
         "x0": " ",
         "xaxis": "x",
         "y": [
          5,
          1,
          5,
          1,
          5,
          4,
          1,
          1,
          2,
          5,
          1,
          3,
          3,
          5,
          4,
          1,
          2,
          5,
          5,
          4,
          5,
          2,
          1,
          5,
          4,
          4,
          1,
          3,
          3,
          5,
          2,
          3,
          5,
          null,
          3,
          null,
          2,
          5,
          null,
          null,
          null,
          null,
          5,
          3,
          4,
          null,
          null,
          null,
          null,
          null,
          null,
          null,
          null,
          null,
          null,
          null,
          null,
          null,
          null,
          null,
          null,
          null,
          null,
          null,
          null,
          null,
          null,
          null,
          null,
          null,
          null,
          null,
          null,
          null,
          null,
          null,
          null,
          null,
          null,
          null,
          null,
          null,
          null,
          null,
          5,
          3,
          3,
          1,
          5,
          1,
          4,
          1,
          1,
          5,
          5,
          1,
          3,
          5,
          5,
          1,
          5,
          2,
          5,
          5,
          5,
          5,
          1,
          4,
          3,
          5,
          1,
          3,
          5,
          5,
          5,
          5,
          3,
          1,
          1,
          1,
          3,
          5,
          3,
          2,
          2,
          1,
          3,
          null,
          null,
          null,
          null,
          null,
          null,
          null,
          null,
          null,
          5,
          1,
          1,
          3,
          5,
          5,
          5,
          null,
          2,
          null,
          null,
          null,
          null,
          null,
          null,
          null,
          null,
          null,
          null,
          null,
          null,
          null,
          null,
          null,
          1,
          null,
          null,
          null,
          null,
          null,
          null,
          null,
          5,
          1,
          3,
          1,
          4,
          4,
          3,
          1,
          4,
          5,
          null,
          2,
          2,
          5,
          3,
          null,
          5,
          2,
          3,
          5,
          null,
          3,
          1,
          5,
          5,
          5,
          1,
          5,
          5,
          5,
          2,
          4,
          5,
          null,
          null,
          null,
          null,
          5,
          null,
          null,
          null,
          null,
          5,
          2,
          3,
          3,
          4,
          3,
          2,
          null,
          1,
          4,
          2,
          null,
          3,
          5,
          5,
          null,
          null,
          null,
          null,
          null,
          null,
          null,
          null,
          null,
          null,
          null,
          null,
          null,
          null,
          null,
          null,
          null,
          null,
          null,
          null,
          null,
          null,
          null,
          null,
          null,
          null,
          null,
          5,
          5,
          5,
          1,
          4,
          2,
          3,
          3,
          4,
          4,
          4,
          4,
          5,
          5,
          5,
          null,
          5,
          3,
          5,
          5,
          null,
          5,
          1,
          null,
          null,
          null,
          null,
          null,
          null,
          null,
          null,
          null,
          null,
          null,
          1,
          null,
          null,
          null,
          null,
          null,
          null,
          null,
          2,
          3,
          2,
          2,
          5,
          3,
          2,
          2,
          3,
          3,
          2,
          1,
          3,
          4,
          5,
          1,
          2,
          4,
          4,
          4,
          4,
          4,
          5,
          1,
          3,
          5,
          2,
          3,
          2,
          4,
          3,
          2,
          null,
          null,
          null,
          null,
          null,
          5,
          null,
          null,
          null,
          null,
          1,
          3,
          5,
          5,
          5,
          5,
          1,
          5,
          5,
          1,
          1,
          3,
          5,
          5,
          5,
          1,
          5,
          null,
          null,
          5,
          5,
          5,
          2,
          5,
          3,
          5,
          5,
          2,
          5,
          5,
          2,
          5,
          5,
          null,
          null,
          null,
          null,
          5,
          null,
          null,
          null,
          null,
          5,
          3,
          5,
          4,
          5,
          2,
          1,
          2,
          1,
          3,
          5,
          5,
          5,
          3,
          5,
          5,
          2,
          5,
          5,
          3,
          4,
          5,
          4,
          1,
          3,
          5,
          5,
          2,
          4,
          5,
          3,
          2,
          5,
          null,
          5,
          null,
          3,
          5,
          null,
          null,
          null,
          null,
          5,
          3,
          5,
          null,
          null,
          null,
          null,
          null,
          null,
          null,
          null,
          null,
          null,
          null,
          null,
          null,
          null,
          null,
          null,
          null,
          null,
          null,
          null,
          null,
          null,
          null,
          null,
          null,
          null,
          null,
          null,
          null,
          null,
          null,
          null,
          null,
          null,
          null,
          null,
          null,
          null,
          null,
          5,
          1,
          3,
          1,
          5,
          1,
          2,
          1,
          1,
          5,
          5,
          1,
          3,
          5,
          4,
          1,
          4,
          4,
          4,
          5,
          4,
          4,
          1,
          4,
          4,
          5,
          5,
          3,
          4,
          5,
          5,
          3,
          3,
          1,
          1,
          1,
          3,
          4,
          2,
          3,
          2,
          3,
          5,
          null,
          null,
          null,
          null,
          null,
          null,
          null,
          null,
          null,
          5,
          1,
          2,
          2,
          5,
          5,
          5,
          null,
          2,
          null,
          null,
          null,
          null,
          null,
          null,
          null,
          null,
          null,
          null,
          null,
          null,
          null,
          null,
          null,
          1,
          null,
          null,
          null,
          null,
          null,
          null,
          null,
          5,
          2,
          3,
          1,
          4,
          4,
          3,
          1,
          2,
          5,
          null,
          1,
          1,
          5,
          3,
          null,
          5,
          2,
          3,
          5,
          null,
          3,
          1,
          4,
          2,
          5,
          1,
          4,
          2,
          5,
          1,
          1,
          5,
          null,
          null,
          null,
          null,
          5,
          null,
          null,
          null,
          null,
          5,
          4,
          5,
          4,
          4,
          2,
          1,
          null,
          1,
          4,
          2,
          null,
          5,
          4,
          5,
          null,
          null,
          null,
          null,
          null,
          null,
          null,
          null,
          null,
          null,
          null,
          null,
          null,
          null,
          null,
          null,
          null,
          null,
          null,
          null,
          null,
          null,
          null,
          null,
          null,
          null,
          null,
          3,
          1,
          4,
          2,
          5,
          3,
          1,
          3,
          3,
          4,
          4,
          3,
          5,
          3,
          5,
          null,
          4,
          2,
          5,
          5,
          null,
          5,
          1,
          null,
          null,
          null,
          null,
          null,
          null,
          null,
          null,
          null,
          null,
          null,
          1,
          null,
          null,
          null,
          null,
          null,
          null,
          null,
          5,
          3,
          4,
          4,
          5,
          3,
          3,
          2,
          3,
          3,
          2,
          2,
          3,
          4,
          5,
          1,
          2,
          4,
          5,
          4,
          3,
          4,
          5,
          2,
          3,
          5,
          4,
          3,
          2,
          5,
          4,
          2,
          null,
          null,
          null,
          null,
          null,
          5,
          null,
          null,
          null,
          null,
          1,
          2,
          5,
          1,
          5,
          3,
          1,
          3,
          4,
          1,
          2,
          3,
          5,
          5,
          5,
          2,
          5,
          null,
          null,
          5,
          5,
          5,
          2,
          5,
          5,
          5,
          3,
          3,
          5,
          5,
          5,
          3,
          5,
          null,
          null,
          null,
          null,
          5,
          null,
          null,
          null,
          null,
          2,
          1,
          5,
          1,
          4,
          1,
          1,
          1,
          1,
          1,
          1,
          3,
          3,
          3,
          4,
          1,
          1,
          5,
          4,
          5,
          4,
          3,
          1,
          4,
          4,
          4,
          4,
          2,
          3,
          5,
          3,
          4,
          4,
          null,
          2,
          null,
          2,
          4,
          null,
          null,
          null,
          null,
          5,
          3,
          4,
          null,
          null,
          null,
          null,
          null,
          null,
          null,
          null,
          null,
          null,
          null,
          null,
          null,
          null,
          null,
          null,
          null,
          null,
          null,
          null,
          null,
          null,
          null,
          null,
          null,
          null,
          null,
          null,
          null,
          null,
          null,
          null,
          null,
          null,
          null,
          null,
          null,
          null,
          null,
          1,
          1,
          4,
          1,
          5,
          1,
          3,
          1,
          1,
          1,
          5,
          1,
          3,
          5,
          3,
          1,
          4,
          3,
          3,
          5,
          5,
          4,
          1,
          3,
          4,
          5,
          4,
          1,
          4,
          5,
          5,
          3,
          3,
          1,
          1,
          1,
          2,
          4,
          2,
          2,
          1,
          1,
          1,
          null,
          null,
          null,
          null,
          null,
          null,
          null,
          null,
          null,
          5,
          1,
          2,
          5,
          5,
          4,
          5,
          null,
          1,
          null,
          null,
          null,
          null,
          null,
          null,
          null,
          null,
          null,
          null,
          null,
          null,
          null,
          null,
          null,
          2,
          null,
          null,
          null,
          null,
          null,
          null,
          null,
          5,
          2,
          3,
          1,
          4,
          4,
          2,
          1,
          2,
          5,
          null,
          2,
          1,
          5,
          3,
          null,
          5,
          2,
          2,
          5,
          null,
          3,
          1,
          4,
          2,
          5,
          1,
          4,
          3,
          5,
          1,
          3,
          5,
          null,
          null,
          null,
          null,
          5,
          null,
          null,
          null,
          null,
          3,
          2,
          3,
          3,
          3,
          2,
          1,
          null,
          1,
          3,
          2,
          null,
          4,
          4,
          5,
          null,
          null,
          null,
          null,
          null,
          null,
          null,
          null,
          null,
          null,
          null,
          null,
          null,
          null,
          null,
          null,
          null,
          null,
          null,
          null,
          null,
          null,
          null,
          null,
          null,
          null,
          null,
          3,
          1,
          1,
          1,
          3,
          2,
          4,
          1,
          2,
          4,
          4,
          4,
          3,
          2,
          5,
          null,
          5,
          4,
          5,
          5,
          null,
          5,
          3,
          null,
          null,
          null,
          null,
          null,
          null,
          null,
          null,
          null,
          null,
          null,
          4,
          null,
          null,
          null,
          null,
          null,
          null,
          null,
          1,
          4,
          3,
          3,
          5,
          3,
          2,
          2,
          4,
          2,
          3,
          2,
          2,
          4,
          5,
          1,
          2,
          5,
          5,
          4,
          3,
          5,
          5,
          1,
          3,
          5,
          5,
          3,
          4,
          5,
          5,
          2,
          null,
          null,
          null,
          null,
          null,
          5,
          null,
          null,
          null,
          null,
          1,
          5,
          5,
          2,
          5,
          3,
          1,
          5,
          4,
          1,
          1,
          1,
          5,
          5,
          5,
          1,
          5,
          null,
          null,
          5,
          5,
          5,
          5,
          5,
          3,
          5,
          5,
          3,
          5,
          5,
          5,
          4,
          3,
          null,
          null,
          null,
          null,
          5,
          null,
          null,
          null,
          null,
          1,
          1,
          5,
          2,
          4,
          1,
          1,
          2,
          5,
          1,
          1,
          2,
          3,
          5,
          4,
          1,
          3,
          4,
          3,
          5,
          4,
          5,
          2,
          2,
          2,
          5,
          5,
          1,
          4,
          5,
          4,
          2,
          4,
          null,
          4,
          null,
          1,
          4,
          null,
          null,
          null,
          null,
          4,
          3,
          4,
          null,
          null,
          null,
          null,
          null,
          null,
          null,
          null,
          null,
          null,
          null,
          null,
          null,
          null,
          null,
          null,
          null,
          null,
          null,
          null,
          null,
          null,
          null,
          null,
          null,
          null,
          null,
          null,
          null,
          null,
          null,
          null,
          null,
          null,
          null,
          null,
          null,
          null,
          null,
          1,
          1,
          3,
          2,
          4,
          1,
          1,
          1,
          1,
          2,
          5,
          1,
          3,
          5,
          3,
          1,
          4,
          3,
          3,
          5,
          4,
          4,
          1,
          3,
          4,
          5,
          3,
          1,
          4,
          5,
          5,
          4,
          3,
          1,
          1,
          1,
          3,
          5,
          3,
          2,
          1,
          2,
          2,
          null,
          null,
          null,
          null,
          null,
          null,
          null,
          null,
          null,
          3,
          1,
          3,
          5,
          5,
          2,
          5,
          null,
          3,
          null,
          null,
          null,
          null,
          null,
          null,
          null,
          null,
          null,
          null,
          null,
          null,
          null,
          null,
          null,
          4,
          null,
          null,
          null,
          null,
          null,
          null,
          null,
          5,
          2,
          1,
          1,
          3,
          4,
          2,
          1,
          3,
          5,
          null,
          2,
          1,
          5,
          2,
          null,
          5,
          2,
          2,
          5,
          null,
          3,
          1,
          4,
          3,
          5,
          1,
          3,
          5,
          5,
          1,
          3,
          5,
          null,
          null,
          null,
          null,
          5,
          null,
          null,
          null,
          null,
          5,
          5,
          4,
          4,
          3,
          4,
          4,
          null,
          4,
          5,
          5,
          null,
          4,
          5,
          4,
          null,
          null,
          null,
          null,
          null,
          null,
          null,
          null,
          null,
          null,
          null,
          null,
          null,
          null,
          null,
          null,
          null,
          null,
          null,
          null,
          null,
          null,
          null,
          null,
          null,
          null,
          null,
          5,
          5,
          4,
          1,
          4,
          5,
          5,
          5,
          5,
          5,
          5,
          3,
          3,
          5,
          5,
          null,
          5,
          5,
          5,
          5,
          null,
          4,
          3,
          null,
          null,
          null,
          null,
          null,
          null,
          null,
          null,
          null,
          null,
          null,
          4,
          null,
          null,
          null,
          null,
          null,
          null,
          null,
          3,
          4,
          4,
          2,
          3,
          2,
          4,
          3,
          4,
          3,
          3,
          2,
          3,
          5,
          5,
          1,
          4,
          5,
          5,
          5,
          4,
          5,
          5,
          3,
          2,
          5,
          5,
          2,
          4,
          4,
          5,
          3,
          null,
          null,
          null,
          null,
          null,
          5,
          null,
          null,
          null,
          null,
          1,
          5,
          5,
          2,
          5,
          5,
          1,
          5,
          4,
          1,
          4,
          2,
          5,
          5,
          5,
          4,
          5,
          null,
          null,
          5,
          5,
          5,
          5,
          5,
          3,
          5,
          5,
          3,
          5,
          5,
          5,
          4,
          3,
          null,
          null,
          null,
          null,
          5,
          null,
          null,
          null,
          null,
          5,
          2,
          2,
          2,
          2,
          5,
          3,
          4,
          4,
          5,
          3,
          2,
          1,
          4,
          4,
          4,
          4,
          2,
          1,
          2,
          2,
          3,
          5,
          2,
          3,
          2,
          3,
          2,
          2,
          3,
          2,
          3,
          1,
          null,
          1,
          null,
          5,
          2,
          null,
          null,
          null,
          null,
          5,
          3,
          4,
          null,
          null,
          null,
          null,
          null,
          null,
          null,
          null,
          null,
          null,
          null,
          null,
          null,
          null,
          null,
          null,
          null,
          null,
          null,
          null,
          null,
          null,
          null,
          null,
          null,
          null,
          null,
          null,
          null,
          null,
          null,
          null,
          null,
          null,
          null,
          null,
          null,
          null,
          null,
          5,
          1,
          3,
          3,
          3,
          1,
          1,
          1,
          1,
          5,
          5,
          1,
          3,
          5,
          4,
          1,
          4,
          3,
          4,
          5,
          2,
          4,
          1,
          4,
          3,
          3,
          3,
          1,
          3,
          5,
          5,
          4,
          3,
          1,
          1,
          1,
          3,
          5,
          2,
          3,
          1,
          2,
          5,
          null,
          null,
          null,
          null,
          null,
          null,
          null,
          null,
          null,
          5,
          2,
          3,
          5,
          5,
          5,
          4,
          null,
          3,
          null,
          null,
          null,
          null,
          null,
          null,
          null,
          null,
          null,
          null,
          null,
          null,
          null,
          null,
          null,
          4,
          null,
          null,
          null,
          null,
          null,
          null,
          null,
          5,
          4,
          1,
          1,
          3,
          5,
          4,
          5,
          4,
          5,
          null,
          1,
          1,
          5,
          2,
          null,
          5,
          2,
          2,
          5,
          null,
          2,
          1,
          4,
          3,
          5,
          1,
          3,
          4,
          4,
          1,
          3,
          4,
          null,
          null,
          null,
          null,
          4,
          null,
          null,
          null,
          null,
          5,
          5,
          3,
          4,
          3,
          4,
          5,
          null,
          5,
          5,
          5,
          null,
          2,
          4,
          4,
          null,
          null,
          null,
          null,
          null,
          null,
          null,
          null,
          null,
          null,
          null,
          null,
          null,
          null,
          null,
          null,
          null,
          null,
          null,
          null,
          null,
          null,
          null,
          null,
          null,
          null,
          null,
          5,
          5,
          4,
          2,
          4,
          5,
          5,
          5,
          5,
          5,
          5,
          3,
          4,
          4,
          4,
          null,
          4,
          5,
          3,
          5,
          null,
          3,
          5,
          null,
          null,
          null,
          null,
          null,
          null,
          null,
          null,
          null,
          null,
          null,
          2,
          null,
          null,
          null,
          null,
          null,
          null,
          null,
          5,
          3,
          3,
          2,
          3,
          4,
          5,
          3,
          4,
          5,
          5,
          2,
          3,
          5,
          4,
          5,
          4,
          3,
          4,
          4,
          3,
          5,
          5,
          5,
          5,
          5,
          5,
          4,
          4,
          3,
          5,
          3,
          null,
          null,
          null,
          null,
          null,
          5,
          null,
          null,
          null,
          null,
          1,
          5,
          5,
          2,
          5,
          5,
          1,
          5,
          4,
          1,
          4,
          1,
          5,
          5,
          5,
          4,
          5,
          null,
          null,
          5,
          5,
          5,
          5,
          5,
          3,
          5,
          5,
          3,
          3,
          5,
          3,
          4,
          3,
          null,
          null,
          null,
          null,
          5,
          null,
          null,
          null,
          null
         ],
         "y0": " ",
         "yaxis": "y"
        }
       ],
       "layout": {
        "legend": {
         "tracegroupgap": 0
        },
        "margin": {
         "t": 60
        },
        "template": {
         "data": {
          "bar": [
           {
            "error_x": {
             "color": "#f2f5fa"
            },
            "error_y": {
             "color": "#f2f5fa"
            },
            "marker": {
             "line": {
              "color": "rgb(17,17,17)",
              "width": 0.5
             },
             "pattern": {
              "fillmode": "overlay",
              "size": 10,
              "solidity": 0.2
             }
            },
            "type": "bar"
           }
          ],
          "barpolar": [
           {
            "marker": {
             "line": {
              "color": "rgb(17,17,17)",
              "width": 0.5
             },
             "pattern": {
              "fillmode": "overlay",
              "size": 10,
              "solidity": 0.2
             }
            },
            "type": "barpolar"
           }
          ],
          "carpet": [
           {
            "aaxis": {
             "endlinecolor": "#A2B1C6",
             "gridcolor": "#506784",
             "linecolor": "#506784",
             "minorgridcolor": "#506784",
             "startlinecolor": "#A2B1C6"
            },
            "baxis": {
             "endlinecolor": "#A2B1C6",
             "gridcolor": "#506784",
             "linecolor": "#506784",
             "minorgridcolor": "#506784",
             "startlinecolor": "#A2B1C6"
            },
            "type": "carpet"
           }
          ],
          "choropleth": [
           {
            "colorbar": {
             "outlinewidth": 0,
             "ticks": ""
            },
            "type": "choropleth"
           }
          ],
          "contour": [
           {
            "colorbar": {
             "outlinewidth": 0,
             "ticks": ""
            },
            "colorscale": [
             [
              0,
              "#0d0887"
             ],
             [
              0.1111111111111111,
              "#46039f"
             ],
             [
              0.2222222222222222,
              "#7201a8"
             ],
             [
              0.3333333333333333,
              "#9c179e"
             ],
             [
              0.4444444444444444,
              "#bd3786"
             ],
             [
              0.5555555555555556,
              "#d8576b"
             ],
             [
              0.6666666666666666,
              "#ed7953"
             ],
             [
              0.7777777777777778,
              "#fb9f3a"
             ],
             [
              0.8888888888888888,
              "#fdca26"
             ],
             [
              1,
              "#f0f921"
             ]
            ],
            "type": "contour"
           }
          ],
          "contourcarpet": [
           {
            "colorbar": {
             "outlinewidth": 0,
             "ticks": ""
            },
            "type": "contourcarpet"
           }
          ],
          "heatmap": [
           {
            "colorbar": {
             "outlinewidth": 0,
             "ticks": ""
            },
            "colorscale": [
             [
              0,
              "#0d0887"
             ],
             [
              0.1111111111111111,
              "#46039f"
             ],
             [
              0.2222222222222222,
              "#7201a8"
             ],
             [
              0.3333333333333333,
              "#9c179e"
             ],
             [
              0.4444444444444444,
              "#bd3786"
             ],
             [
              0.5555555555555556,
              "#d8576b"
             ],
             [
              0.6666666666666666,
              "#ed7953"
             ],
             [
              0.7777777777777778,
              "#fb9f3a"
             ],
             [
              0.8888888888888888,
              "#fdca26"
             ],
             [
              1,
              "#f0f921"
             ]
            ],
            "type": "heatmap"
           }
          ],
          "heatmapgl": [
           {
            "colorbar": {
             "outlinewidth": 0,
             "ticks": ""
            },
            "colorscale": [
             [
              0,
              "#0d0887"
             ],
             [
              0.1111111111111111,
              "#46039f"
             ],
             [
              0.2222222222222222,
              "#7201a8"
             ],
             [
              0.3333333333333333,
              "#9c179e"
             ],
             [
              0.4444444444444444,
              "#bd3786"
             ],
             [
              0.5555555555555556,
              "#d8576b"
             ],
             [
              0.6666666666666666,
              "#ed7953"
             ],
             [
              0.7777777777777778,
              "#fb9f3a"
             ],
             [
              0.8888888888888888,
              "#fdca26"
             ],
             [
              1,
              "#f0f921"
             ]
            ],
            "type": "heatmapgl"
           }
          ],
          "histogram": [
           {
            "marker": {
             "pattern": {
              "fillmode": "overlay",
              "size": 10,
              "solidity": 0.2
             }
            },
            "type": "histogram"
           }
          ],
          "histogram2d": [
           {
            "colorbar": {
             "outlinewidth": 0,
             "ticks": ""
            },
            "colorscale": [
             [
              0,
              "#0d0887"
             ],
             [
              0.1111111111111111,
              "#46039f"
             ],
             [
              0.2222222222222222,
              "#7201a8"
             ],
             [
              0.3333333333333333,
              "#9c179e"
             ],
             [
              0.4444444444444444,
              "#bd3786"
             ],
             [
              0.5555555555555556,
              "#d8576b"
             ],
             [
              0.6666666666666666,
              "#ed7953"
             ],
             [
              0.7777777777777778,
              "#fb9f3a"
             ],
             [
              0.8888888888888888,
              "#fdca26"
             ],
             [
              1,
              "#f0f921"
             ]
            ],
            "type": "histogram2d"
           }
          ],
          "histogram2dcontour": [
           {
            "colorbar": {
             "outlinewidth": 0,
             "ticks": ""
            },
            "colorscale": [
             [
              0,
              "#0d0887"
             ],
             [
              0.1111111111111111,
              "#46039f"
             ],
             [
              0.2222222222222222,
              "#7201a8"
             ],
             [
              0.3333333333333333,
              "#9c179e"
             ],
             [
              0.4444444444444444,
              "#bd3786"
             ],
             [
              0.5555555555555556,
              "#d8576b"
             ],
             [
              0.6666666666666666,
              "#ed7953"
             ],
             [
              0.7777777777777778,
              "#fb9f3a"
             ],
             [
              0.8888888888888888,
              "#fdca26"
             ],
             [
              1,
              "#f0f921"
             ]
            ],
            "type": "histogram2dcontour"
           }
          ],
          "mesh3d": [
           {
            "colorbar": {
             "outlinewidth": 0,
             "ticks": ""
            },
            "type": "mesh3d"
           }
          ],
          "parcoords": [
           {
            "line": {
             "colorbar": {
              "outlinewidth": 0,
              "ticks": ""
             }
            },
            "type": "parcoords"
           }
          ],
          "pie": [
           {
            "automargin": true,
            "type": "pie"
           }
          ],
          "scatter": [
           {
            "marker": {
             "line": {
              "color": "#283442"
             }
            },
            "type": "scatter"
           }
          ],
          "scatter3d": [
           {
            "line": {
             "colorbar": {
              "outlinewidth": 0,
              "ticks": ""
             }
            },
            "marker": {
             "colorbar": {
              "outlinewidth": 0,
              "ticks": ""
             }
            },
            "type": "scatter3d"
           }
          ],
          "scattercarpet": [
           {
            "marker": {
             "colorbar": {
              "outlinewidth": 0,
              "ticks": ""
             }
            },
            "type": "scattercarpet"
           }
          ],
          "scattergeo": [
           {
            "marker": {
             "colorbar": {
              "outlinewidth": 0,
              "ticks": ""
             }
            },
            "type": "scattergeo"
           }
          ],
          "scattergl": [
           {
            "marker": {
             "line": {
              "color": "#283442"
             }
            },
            "type": "scattergl"
           }
          ],
          "scattermapbox": [
           {
            "marker": {
             "colorbar": {
              "outlinewidth": 0,
              "ticks": ""
             }
            },
            "type": "scattermapbox"
           }
          ],
          "scatterpolar": [
           {
            "marker": {
             "colorbar": {
              "outlinewidth": 0,
              "ticks": ""
             }
            },
            "type": "scatterpolar"
           }
          ],
          "scatterpolargl": [
           {
            "marker": {
             "colorbar": {
              "outlinewidth": 0,
              "ticks": ""
             }
            },
            "type": "scatterpolargl"
           }
          ],
          "scatterternary": [
           {
            "marker": {
             "colorbar": {
              "outlinewidth": 0,
              "ticks": ""
             }
            },
            "type": "scatterternary"
           }
          ],
          "surface": [
           {
            "colorbar": {
             "outlinewidth": 0,
             "ticks": ""
            },
            "colorscale": [
             [
              0,
              "#0d0887"
             ],
             [
              0.1111111111111111,
              "#46039f"
             ],
             [
              0.2222222222222222,
              "#7201a8"
             ],
             [
              0.3333333333333333,
              "#9c179e"
             ],
             [
              0.4444444444444444,
              "#bd3786"
             ],
             [
              0.5555555555555556,
              "#d8576b"
             ],
             [
              0.6666666666666666,
              "#ed7953"
             ],
             [
              0.7777777777777778,
              "#fb9f3a"
             ],
             [
              0.8888888888888888,
              "#fdca26"
             ],
             [
              1,
              "#f0f921"
             ]
            ],
            "type": "surface"
           }
          ],
          "table": [
           {
            "cells": {
             "fill": {
              "color": "#506784"
             },
             "line": {
              "color": "rgb(17,17,17)"
             }
            },
            "header": {
             "fill": {
              "color": "#2a3f5f"
             },
             "line": {
              "color": "rgb(17,17,17)"
             }
            },
            "type": "table"
           }
          ]
         },
         "layout": {
          "annotationdefaults": {
           "arrowcolor": "#f2f5fa",
           "arrowhead": 0,
           "arrowwidth": 1
          },
          "autotypenumbers": "strict",
          "coloraxis": {
           "colorbar": {
            "outlinewidth": 0,
            "ticks": ""
           }
          },
          "colorscale": {
           "diverging": [
            [
             0,
             "#8e0152"
            ],
            [
             0.1,
             "#c51b7d"
            ],
            [
             0.2,
             "#de77ae"
            ],
            [
             0.3,
             "#f1b6da"
            ],
            [
             0.4,
             "#fde0ef"
            ],
            [
             0.5,
             "#f7f7f7"
            ],
            [
             0.6,
             "#e6f5d0"
            ],
            [
             0.7,
             "#b8e186"
            ],
            [
             0.8,
             "#7fbc41"
            ],
            [
             0.9,
             "#4d9221"
            ],
            [
             1,
             "#276419"
            ]
           ],
           "sequential": [
            [
             0,
             "#0d0887"
            ],
            [
             0.1111111111111111,
             "#46039f"
            ],
            [
             0.2222222222222222,
             "#7201a8"
            ],
            [
             0.3333333333333333,
             "#9c179e"
            ],
            [
             0.4444444444444444,
             "#bd3786"
            ],
            [
             0.5555555555555556,
             "#d8576b"
            ],
            [
             0.6666666666666666,
             "#ed7953"
            ],
            [
             0.7777777777777778,
             "#fb9f3a"
            ],
            [
             0.8888888888888888,
             "#fdca26"
            ],
            [
             1,
             "#f0f921"
            ]
           ],
           "sequentialminus": [
            [
             0,
             "#0d0887"
            ],
            [
             0.1111111111111111,
             "#46039f"
            ],
            [
             0.2222222222222222,
             "#7201a8"
            ],
            [
             0.3333333333333333,
             "#9c179e"
            ],
            [
             0.4444444444444444,
             "#bd3786"
            ],
            [
             0.5555555555555556,
             "#d8576b"
            ],
            [
             0.6666666666666666,
             "#ed7953"
            ],
            [
             0.7777777777777778,
             "#fb9f3a"
            ],
            [
             0.8888888888888888,
             "#fdca26"
            ],
            [
             1,
             "#f0f921"
            ]
           ]
          },
          "colorway": [
           "#636efa",
           "#EF553B",
           "#00cc96",
           "#ab63fa",
           "#FFA15A",
           "#19d3f3",
           "#FF6692",
           "#B6E880",
           "#FF97FF",
           "#FECB52"
          ],
          "font": {
           "color": "#f2f5fa"
          },
          "geo": {
           "bgcolor": "rgb(17,17,17)",
           "lakecolor": "rgb(17,17,17)",
           "landcolor": "rgb(17,17,17)",
           "showlakes": true,
           "showland": true,
           "subunitcolor": "#506784"
          },
          "hoverlabel": {
           "align": "left"
          },
          "hovermode": "closest",
          "mapbox": {
           "style": "dark"
          },
          "paper_bgcolor": "rgb(17,17,17)",
          "plot_bgcolor": "rgb(17,17,17)",
          "polar": {
           "angularaxis": {
            "gridcolor": "#506784",
            "linecolor": "#506784",
            "ticks": ""
           },
           "bgcolor": "rgb(17,17,17)",
           "radialaxis": {
            "gridcolor": "#506784",
            "linecolor": "#506784",
            "ticks": ""
           }
          },
          "scene": {
           "xaxis": {
            "backgroundcolor": "rgb(17,17,17)",
            "gridcolor": "#506784",
            "gridwidth": 2,
            "linecolor": "#506784",
            "showbackground": true,
            "ticks": "",
            "zerolinecolor": "#C8D4E3"
           },
           "yaxis": {
            "backgroundcolor": "rgb(17,17,17)",
            "gridcolor": "#506784",
            "gridwidth": 2,
            "linecolor": "#506784",
            "showbackground": true,
            "ticks": "",
            "zerolinecolor": "#C8D4E3"
           },
           "zaxis": {
            "backgroundcolor": "rgb(17,17,17)",
            "gridcolor": "#506784",
            "gridwidth": 2,
            "linecolor": "#506784",
            "showbackground": true,
            "ticks": "",
            "zerolinecolor": "#C8D4E3"
           }
          },
          "shapedefaults": {
           "line": {
            "color": "#f2f5fa"
           }
          },
          "sliderdefaults": {
           "bgcolor": "#C8D4E3",
           "bordercolor": "rgb(17,17,17)",
           "borderwidth": 1,
           "tickwidth": 0
          },
          "ternary": {
           "aaxis": {
            "gridcolor": "#506784",
            "linecolor": "#506784",
            "ticks": ""
           },
           "baxis": {
            "gridcolor": "#506784",
            "linecolor": "#506784",
            "ticks": ""
           },
           "bgcolor": "rgb(17,17,17)",
           "caxis": {
            "gridcolor": "#506784",
            "linecolor": "#506784",
            "ticks": ""
           }
          },
          "title": {
           "x": 0.05
          },
          "updatemenudefaults": {
           "bgcolor": "#506784",
           "borderwidth": 0
          },
          "xaxis": {
           "automargin": true,
           "gridcolor": "#283442",
           "linecolor": "#506784",
           "ticks": "",
           "title": {
            "standoff": 15
           },
           "zerolinecolor": "#283442",
           "zerolinewidth": 2
          },
          "yaxis": {
           "automargin": true,
           "gridcolor": "#283442",
           "linecolor": "#506784",
           "ticks": "",
           "title": {
            "standoff": 15
           },
           "zerolinecolor": "#283442",
           "zerolinewidth": 2
          }
         }
        },
        "violinmode": "group",
        "xaxis": {
         "anchor": "y",
         "domain": [
          0,
          1
         ],
         "title": {
          "text": "variable"
         }
        },
        "yaxis": {
         "anchor": "x",
         "domain": [
          0,
          1
         ],
         "title": {
          "text": "value"
         }
        }
       }
      }
     },
     "metadata": {},
     "output_type": "display_data"
    }
   ],
   "source": [
    "px.violin(rating_counts_raw_df)"
   ]
  },
  {
   "cell_type": "code",
   "execution_count": null,
   "metadata": {},
   "outputs": [
    {
     "data": {
      "application/vnd.plotly.v1+json": {
       "config": {
        "plotlyServerURL": "https://plot.ly"
       },
       "data": [
        {
         "alignmentgroup": "True",
         "bingroup": "x",
         "hovertemplate": "variable=ENGLISH100 [Application]<br>value=%{x}<br>count=%{y}<extra></extra>",
         "legendgroup": "ENGLISH100 [Application]",
         "marker": {
          "color": "#636efa",
          "pattern": {
           "shape": ""
          }
         },
         "name": "ENGLISH100 [Application]",
         "offsetgroup": "ENGLISH100 [Application]",
         "orientation": "v",
         "showlegend": true,
         "type": "histogram",
         "x": [
          5,
          5,
          5,
          3,
          5,
          5,
          5,
          2,
          1
         ],
         "xaxis": "x",
         "yaxis": "y"
        },
        {
         "alignmentgroup": "True",
         "bingroup": "x",
         "hovertemplate": "variable=ARB100 [Application]<br>value=%{x}<br>count=%{y}<extra></extra>",
         "legendgroup": "ARB100 [Application]",
         "marker": {
          "color": "#EF553B",
          "pattern": {
           "shape": ""
          }
         },
         "name": "ARB100 [Application]",
         "offsetgroup": "ARB100 [Application]",
         "orientation": "v",
         "showlegend": true,
         "type": "histogram",
         "x": [
          1,
          3,
          3,
          null,
          1,
          2,
          5,
          3,
          3
         ],
         "xaxis": "x",
         "yaxis": "y"
        },
        {
         "alignmentgroup": "True",
         "bingroup": "x",
         "hovertemplate": "variable=MATH101 [Application]<br>value=%{x}<br>count=%{y}<extra></extra>",
         "legendgroup": "MATH101 [Application]",
         "marker": {
          "color": "#00cc96",
          "pattern": {
           "shape": ""
          }
         },
         "name": "MATH101 [Application]",
         "offsetgroup": "MATH101 [Application]",
         "orientation": "v",
         "showlegend": true,
         "type": "histogram",
         "x": [
          5,
          4,
          3,
          null,
          3,
          3,
          5,
          2,
          5
         ],
         "xaxis": "x",
         "yaxis": "y"
        },
        {
         "alignmentgroup": "True",
         "bingroup": "x",
         "hovertemplate": "variable=CHEM101 [Application]<br>value=%{x}<br>count=%{y}<extra></extra>",
         "legendgroup": "CHEM101 [Application]",
         "marker": {
          "color": "#ab63fa",
          "pattern": {
           "shape": ""
          }
         },
         "name": "CHEM101 [Application]",
         "offsetgroup": "CHEM101 [Application]",
         "orientation": "v",
         "showlegend": true,
         "type": "histogram",
         "x": [
          1,
          null,
          1,
          null,
          1,
          3,
          1,
          2,
          5
         ],
         "xaxis": "x",
         "yaxis": "y"
        },
        {
         "alignmentgroup": "True",
         "bingroup": "x",
         "hovertemplate": "variable=STAT101 [Application]<br>value=%{x}<br>count=%{y}<extra></extra>",
         "legendgroup": "STAT101 [Application]",
         "marker": {
          "color": "#FFA15A",
          "pattern": {
           "shape": ""
          }
         },
         "name": "STAT101 [Application]",
         "offsetgroup": "STAT101 [Application]",
         "orientation": "v",
         "showlegend": true,
         "type": "histogram",
         "x": [
          5,
          null,
          5,
          null,
          4,
          4,
          4,
          5,
          5
         ],
         "xaxis": "x",
         "yaxis": "y"
        },
        {
         "alignmentgroup": "True",
         "bingroup": "x",
         "hovertemplate": "variable=TECH101 [Application]<br>value=%{x}<br>count=%{y}<extra></extra>",
         "legendgroup": "TECH101 [Application]",
         "marker": {
          "color": "#19d3f3",
          "pattern": {
           "shape": ""
          }
         },
         "name": "TECH101 [Application]",
         "offsetgroup": "TECH101 [Application]",
         "orientation": "v",
         "showlegend": true,
         "type": "histogram",
         "x": [
          4,
          null,
          1,
          null,
          4,
          3,
          2,
          3,
          5
         ],
         "xaxis": "x",
         "yaxis": "y"
        },
        {
         "alignmentgroup": "True",
         "bingroup": "x",
         "hovertemplate": "variable=ENTREPRENEUR(ريد)101 [Application]<br>value=%{x}<br>count=%{y}<extra></extra>",
         "legendgroup": "ENTREPRENEUR(ريد)101 [Application]",
         "marker": {
          "color": "#FF6692",
          "pattern": {
           "shape": ""
          }
         },
         "name": "ENTREPRENEUR(ريد)101 [Application]",
         "offsetgroup": "ENTREPRENEUR(ريد)101 [Application]",
         "orientation": "v",
         "showlegend": true,
         "type": "histogram",
         "x": [
          1,
          null,
          4,
          null,
          3,
          2,
          3,
          2,
          1
         ],
         "xaxis": "x",
         "yaxis": "y"
        },
        {
         "alignmentgroup": "True",
         "bingroup": "x",
         "hovertemplate": "variable=FAJAB101 [Application]<br>value=%{x}<br>count=%{y}<extra></extra>",
         "legendgroup": "FAJAB101 [Application]",
         "marker": {
          "color": "#B6E880",
          "pattern": {
           "shape": ""
          }
         },
         "name": "FAJAB101 [Application]",
         "offsetgroup": "FAJAB101 [Application]",
         "orientation": "v",
         "showlegend": true,
         "type": "histogram",
         "x": [
          1,
          null,
          1,
          null,
          1,
          null,
          3,
          2,
          5
         ],
         "xaxis": "x",
         "yaxis": "y"
        },
        {
         "alignmentgroup": "True",
         "bingroup": "x",
         "hovertemplate": "variable=NAHAJ101 [Application]<br>value=%{x}<br>count=%{y}<extra></extra>",
         "legendgroup": "NAHAJ101 [Application]",
         "marker": {
          "color": "#FF97FF",
          "pattern": {
           "shape": ""
          }
         },
         "name": "NAHAJ101 [Application]",
         "offsetgroup": "NAHAJ101 [Application]",
         "orientation": "v",
         "showlegend": true,
         "type": "histogram",
         "x": [
          2,
          null,
          1,
          null,
          4,
          1,
          4,
          3,
          5
         ],
         "xaxis": "x",
         "yaxis": "y"
        },
        {
         "alignmentgroup": "True",
         "bingroup": "x",
         "hovertemplate": "variable=ENGLISH110 [Application]<br>value=%{x}<br>count=%{y}<extra></extra>",
         "legendgroup": "ENGLISH110 [Application]",
         "marker": {
          "color": "#FECB52",
          "pattern": {
           "shape": ""
          }
         },
         "name": "ENGLISH110 [Application]",
         "offsetgroup": "ENGLISH110 [Application]",
         "orientation": "v",
         "showlegend": true,
         "type": "histogram",
         "x": [
          5,
          null,
          5,
          null,
          5,
          4,
          4,
          3,
          1
         ],
         "xaxis": "x",
         "yaxis": "y"
        },
        {
         "alignmentgroup": "True",
         "bingroup": "x",
         "hovertemplate": "variable=SALAM107 [Application]<br>value=%{x}<br>count=%{y}<extra></extra>",
         "legendgroup": "SALAM107 [Application]",
         "marker": {
          "color": "#636efa",
          "pattern": {
           "shape": ""
          }
         },
         "name": "SALAM107 [Application]",
         "offsetgroup": "SALAM107 [Application]",
         "orientation": "v",
         "showlegend": true,
         "type": "histogram",
         "x": [
          1,
          null,
          5,
          5,
          null,
          2,
          4,
          2,
          1
         ],
         "xaxis": "x",
         "yaxis": "y"
        },
        {
         "alignmentgroup": "True",
         "bingroup": "x",
         "hovertemplate": "variable=PHYS104 [Application]<br>value=%{x}<br>count=%{y}<extra></extra>",
         "legendgroup": "PHYS104 [Application]",
         "marker": {
          "color": "#EF553B",
          "pattern": {
           "shape": ""
          }
         },
         "name": "PHYS104 [Application]",
         "offsetgroup": "PHYS104 [Application]",
         "orientation": "v",
         "showlegend": true,
         "type": "histogram",
         "x": [
          3,
          null,
          1,
          1,
          2,
          null,
          4,
          1,
          3
         ],
         "xaxis": "x",
         "yaxis": "y"
        },
        {
         "alignmentgroup": "True",
         "bingroup": "x",
         "hovertemplate": "variable=MATH106 [Application]<br>value=%{x}<br>count=%{y}<extra></extra>",
         "legendgroup": "MATH106 [Application]",
         "marker": {
          "color": "#00cc96",
          "pattern": {
           "shape": ""
          }
         },
         "name": "MATH106 [Application]",
         "offsetgroup": "MATH106 [Application]",
         "orientation": "v",
         "showlegend": true,
         "type": "histogram",
         "x": [
          3,
          null,
          3,
          1,
          2,
          3,
          5,
          3,
          5
         ],
         "xaxis": "x",
         "yaxis": "y"
        },
        {
         "alignmentgroup": "True",
         "bingroup": "x",
         "hovertemplate": "variable=CSC111 [Application]<br>value=%{x}<br>count=%{y}<extra></extra>",
         "legendgroup": "CSC111 [Application]",
         "marker": {
          "color": "#ab63fa",
          "pattern": {
           "shape": ""
          }
         },
         "name": "CSC111 [Application]",
         "offsetgroup": "CSC111 [Application]",
         "orientation": "v",
         "showlegend": true,
         "type": "histogram",
         "x": [
          5,
          null,
          5,
          3,
          5,
          5,
          5,
          4,
          5
         ],
         "xaxis": "x",
         "yaxis": "y"
        },
        {
         "alignmentgroup": "True",
         "bingroup": "x",
         "hovertemplate": "variable=MATH151 [Application]<br>value=%{x}<br>count=%{y}<extra></extra>",
         "legendgroup": "MATH151 [Application]",
         "marker": {
          "color": "#FFA15A",
          "pattern": {
           "shape": ""
          }
         },
         "name": "MATH151 [Application]",
         "offsetgroup": "MATH151 [Application]",
         "orientation": "v",
         "showlegend": true,
         "type": "histogram",
         "x": [
          4,
          null,
          5,
          5,
          3,
          5,
          5,
          5,
          5
         ],
         "xaxis": "x",
         "yaxis": "y"
        },
        {
         "alignmentgroup": "True",
         "bingroup": "x",
         "hovertemplate": "variable=SALAM108 [Application]<br>value=%{x}<br>count=%{y}<extra></extra>",
         "legendgroup": "SALAM108 [Application]",
         "marker": {
          "color": "#19d3f3",
          "pattern": {
           "shape": ""
          }
         },
         "name": "SALAM108 [Application]",
         "offsetgroup": "SALAM108 [Application]",
         "orientation": "v",
         "showlegend": true,
         "type": "histogram",
         "x": [
          1,
          null,
          1,
          5,
          null,
          null,
          null,
          1,
          1
         ],
         "xaxis": "x",
         "yaxis": "y"
        },
        {
         "alignmentgroup": "True",
         "bingroup": "x",
         "hovertemplate": "variable=CSC113 [Application]<br>value=%{x}<br>count=%{y}<extra></extra>",
         "legendgroup": "CSC113 [Application]",
         "marker": {
          "color": "#FF6692",
          "pattern": {
           "shape": ""
          }
         },
         "name": "CSC113 [Application]",
         "offsetgroup": "CSC113 [Application]",
         "orientation": "v",
         "showlegend": true,
         "type": "histogram",
         "x": [
          2,
          null,
          5,
          5,
          5,
          null,
          5,
          2,
          5
         ],
         "xaxis": "x",
         "yaxis": "y"
        },
        {
         "alignmentgroup": "True",
         "bingroup": "x",
         "hovertemplate": "variable=CSC220 [Application]<br>value=%{x}<br>count=%{y}<extra></extra>",
         "legendgroup": "CSC220 [Application]",
         "marker": {
          "color": "#B6E880",
          "pattern": {
           "shape": ""
          }
         },
         "name": "CSC220 [Application]",
         "offsetgroup": "CSC220 [Application]",
         "orientation": "v",
         "showlegend": true,
         "type": "histogram",
         "x": [
          5,
          null,
          2,
          null,
          2,
          null,
          3,
          4,
          null
         ],
         "xaxis": "x",
         "yaxis": "y"
        },
        {
         "alignmentgroup": "True",
         "bingroup": "x",
         "hovertemplate": "variable=MATH244 [Application]<br>value=%{x}<br>count=%{y}<extra></extra>",
         "legendgroup": "MATH244 [Application]",
         "marker": {
          "color": "#FF97FF",
          "pattern": {
           "shape": ""
          }
         },
         "name": "MATH244 [Application]",
         "offsetgroup": "MATH244 [Application]",
         "orientation": "v",
         "showlegend": true,
         "type": "histogram",
         "x": [
          5,
          null,
          5,
          2,
          3,
          null,
          5,
          4,
          null
         ],
         "xaxis": "x",
         "yaxis": "y"
        },
        {
         "alignmentgroup": "True",
         "bingroup": "x",
         "hovertemplate": "variable=CSC212 [Application]<br>value=%{x}<br>count=%{y}<extra></extra>",
         "legendgroup": "CSC212 [Application]",
         "marker": {
          "color": "#FECB52",
          "pattern": {
           "shape": ""
          }
         },
         "name": "CSC212 [Application]",
         "offsetgroup": "CSC212 [Application]",
         "orientation": "v",
         "showlegend": true,
         "type": "histogram",
         "x": [
          4,
          null,
          5,
          null,
          5,
          null,
          5,
          4,
          5
         ],
         "xaxis": "x",
         "yaxis": "y"
        },
        {
         "alignmentgroup": "True",
         "bingroup": "x",
         "hovertemplate": "variable=CSC215 [Application]<br>value=%{x}<br>count=%{y}<extra></extra>",
         "legendgroup": "CSC215 [Application]",
         "marker": {
          "color": "#636efa",
          "pattern": {
           "shape": ""
          }
         },
         "name": "CSC215 [Application]",
         "offsetgroup": "CSC215 [Application]",
         "orientation": "v",
         "showlegend": true,
         "type": "histogram",
         "x": [
          5,
          null,
          5,
          null,
          null,
          null,
          null,
          4,
          5
         ],
         "xaxis": "x",
         "yaxis": "y"
        },
        {
         "alignmentgroup": "True",
         "bingroup": "x",
         "hovertemplate": "variable=MATH281 [Application]<br>value=%{x}<br>count=%{y}<extra></extra>",
         "legendgroup": "MATH281 [Application]",
         "marker": {
          "color": "#EF553B",
          "pattern": {
           "shape": ""
          }
         },
         "name": "MATH281 [Application]",
         "offsetgroup": "MATH281 [Application]",
         "orientation": "v",
         "showlegend": true,
         "type": "histogram",
         "x": [
          2,
          null,
          5,
          null,
          3,
          null,
          5,
          4,
          5
         ],
         "xaxis": "x",
         "yaxis": "y"
        },
        {
         "alignmentgroup": "True",
         "bingroup": "x",
         "hovertemplate": "variable=CSC304 [Application]<br>value=%{x}<br>count=%{y}<extra></extra>",
         "legendgroup": "CSC304 [Application]",
         "marker": {
          "color": "#00cc96",
          "pattern": {
           "shape": ""
          }
         },
         "name": "CSC304 [Application]",
         "offsetgroup": "CSC304 [Application]",
         "orientation": "v",
         "showlegend": true,
         "type": "histogram",
         "x": [
          1,
          null,
          1,
          null,
          1,
          null,
          1,
          5,
          2
         ],
         "xaxis": "x",
         "yaxis": "y"
        },
        {
         "alignmentgroup": "True",
         "bingroup": "x",
         "hovertemplate": "variable=CSC380 [Application]<br>value=%{x}<br>count=%{y}<extra></extra>",
         "legendgroup": "CSC380 [Application]",
         "marker": {
          "color": "#ab63fa",
          "pattern": {
           "shape": ""
          }
         },
         "name": "CSC380 [Application]",
         "offsetgroup": "CSC380 [Application]",
         "orientation": "v",
         "showlegend": true,
         "type": "histogram",
         "x": [
          5,
          null,
          4,
          null,
          5,
          null,
          null,
          1,
          5
         ],
         "xaxis": "x",
         "yaxis": "y"
        },
        {
         "alignmentgroup": "True",
         "bingroup": "x",
         "hovertemplate": "variable=CSC227 [Application]<br>value=%{x}<br>count=%{y}<extra></extra>",
         "legendgroup": "CSC227 [Application]",
         "marker": {
          "color": "#FFA15A",
          "pattern": {
           "shape": ""
          }
         },
         "name": "CSC227 [Application]",
         "offsetgroup": "CSC227 [Application]",
         "orientation": "v",
         "showlegend": true,
         "type": "histogram",
         "x": [
          4,
          null,
          3,
          null,
          5,
          null,
          null,
          3,
          3
         ],
         "xaxis": "x",
         "yaxis": "y"
        },
        {
         "alignmentgroup": "True",
         "bingroup": "x",
         "hovertemplate": "variable=CSC311 [Application]<br>value=%{x}<br>count=%{y}<extra></extra>",
         "legendgroup": "CSC311 [Application]",
         "marker": {
          "color": "#19d3f3",
          "pattern": {
           "shape": ""
          }
         },
         "name": "CSC311 [Application]",
         "offsetgroup": "CSC311 [Application]",
         "orientation": "v",
         "showlegend": true,
         "type": "histogram",
         "x": [
          4,
          null,
          5,
          null,
          5,
          null,
          null,
          5,
          5
         ],
         "xaxis": "x",
         "yaxis": "y"
        },
        {
         "alignmentgroup": "True",
         "bingroup": "x",
         "hovertemplate": "variable=CSC339 [Application]<br>value=%{x}<br>count=%{y}<extra></extra>",
         "legendgroup": "CSC339 [Application]",
         "marker": {
          "color": "#FF6692",
          "pattern": {
           "shape": ""
          }
         },
         "name": "CSC339 [Application]",
         "offsetgroup": "CSC339 [Application]",
         "orientation": "v",
         "showlegend": true,
         "type": "histogram",
         "x": [
          1,
          null,
          1,
          null,
          1,
          null,
          null,
          2,
          5
         ],
         "xaxis": "x",
         "yaxis": "y"
        },
        {
         "alignmentgroup": "True",
         "bingroup": "x",
         "hovertemplate": "variable=CSC343 [Application]<br>value=%{x}<br>count=%{y}<extra></extra>",
         "legendgroup": "CSC343 [Application]",
         "marker": {
          "color": "#B6E880",
          "pattern": {
           "shape": ""
          }
         },
         "name": "CSC343 [Application]",
         "offsetgroup": "CSC343 [Application]",
         "orientation": "v",
         "showlegend": true,
         "type": "histogram",
         "x": [
          3,
          null,
          3,
          null,
          5,
          null,
          null,
          3,
          2
         ],
         "xaxis": "x",
         "yaxis": "y"
        },
        {
         "alignmentgroup": "True",
         "bingroup": "x",
         "hovertemplate": "variable=CSC361 [Application]<br>value=%{x}<br>count=%{y}<extra></extra>",
         "legendgroup": "CSC361 [Application]",
         "marker": {
          "color": "#FF97FF",
          "pattern": {
           "shape": ""
          }
         },
         "name": "CSC361 [Application]",
         "offsetgroup": "CSC361 [Application]",
         "orientation": "v",
         "showlegend": true,
         "type": "histogram",
         "x": [
          3,
          null,
          5,
          null,
          5,
          null,
          null,
          2,
          5
         ],
         "xaxis": "x",
         "yaxis": "y"
        },
        {
         "alignmentgroup": "True",
         "bingroup": "x",
         "hovertemplate": "variable=CSC329 [Application]<br>value=%{x}<br>count=%{y}<extra></extra>",
         "legendgroup": "CSC329 [Application]",
         "marker": {
          "color": "#FECB52",
          "pattern": {
           "shape": ""
          }
         },
         "name": "CSC329 [Application]",
         "offsetgroup": "CSC329 [Application]",
         "orientation": "v",
         "showlegend": true,
         "type": "histogram",
         "x": [
          5,
          null,
          5,
          null,
          5,
          null,
          null,
          4,
          5
         ],
         "xaxis": "x",
         "yaxis": "y"
        },
        {
         "alignmentgroup": "True",
         "bingroup": "x",
         "hovertemplate": "variable=CSC340 [Application]<br>value=%{x}<br>count=%{y}<extra></extra>",
         "legendgroup": "CSC340 [Application]",
         "marker": {
          "color": "#636efa",
          "pattern": {
           "shape": ""
          }
         },
         "name": "CSC340 [Application]",
         "offsetgroup": "CSC340 [Application]",
         "orientation": "v",
         "showlegend": true,
         "type": "histogram",
         "x": [
          2,
          null,
          5,
          null,
          2,
          null,
          null,
          3,
          2
         ],
         "xaxis": "x",
         "yaxis": "y"
        },
        {
         "alignmentgroup": "True",
         "bingroup": "x",
         "hovertemplate": "variable=CSC453 [Application]<br>value=%{x}<br>count=%{y}<extra></extra>",
         "legendgroup": "CSC453 [Application]",
         "marker": {
          "color": "#EF553B",
          "pattern": {
           "shape": ""
          }
         },
         "name": "CSC453 [Application]",
         "offsetgroup": "CSC453 [Application]",
         "orientation": "v",
         "showlegend": true,
         "type": "histogram",
         "x": [
          3,
          null,
          5,
          null,
          4,
          null,
          null,
          2,
          5
         ],
         "xaxis": "x",
         "yaxis": "y"
        },
        {
         "alignmentgroup": "True",
         "bingroup": "x",
         "hovertemplate": "variable=CSC496 [Application]<br>value=%{x}<br>count=%{y}<extra></extra>",
         "legendgroup": "CSC496 [Application]",
         "marker": {
          "color": "#00cc96",
          "pattern": {
           "shape": ""
          }
         },
         "name": "CSC496 [Application]",
         "offsetgroup": "CSC496 [Application]",
         "orientation": "v",
         "showlegend": true,
         "type": "histogram",
         "x": [
          5,
          null,
          3,
          null,
          5,
          null,
          null,
          null,
          5
         ],
         "xaxis": "x",
         "yaxis": "y"
        },
        {
         "alignmentgroup": "True",
         "bingroup": "x",
         "hovertemplate": "variable=PHYS210 [Application]<br>value=%{x}<br>count=%{y}<extra></extra>",
         "legendgroup": "PHYS210 [Application]",
         "marker": {
          "color": "#ab63fa",
          "pattern": {
           "shape": ""
          }
         },
         "name": "PHYS210 [Application]",
         "offsetgroup": "PHYS210 [Application]",
         "orientation": "v",
         "showlegend": true,
         "type": "histogram",
         "x": [
          null,
          null,
          1,
          null,
          null,
          null,
          null,
          null,
          null
         ],
         "xaxis": "x",
         "yaxis": "y"
        },
        {
         "alignmentgroup": "True",
         "bingroup": "x",
         "hovertemplate": "variable=PHYS103 [Application]<br>value=%{x}<br>count=%{y}<extra></extra>",
         "legendgroup": "PHYS103 [Application]",
         "marker": {
          "color": "#FFA15A",
          "pattern": {
           "shape": ""
          }
         },
         "name": "PHYS103 [Application]",
         "offsetgroup": "PHYS103 [Application]",
         "orientation": "v",
         "showlegend": true,
         "type": "histogram",
         "x": [
          3,
          null,
          1,
          1,
          null,
          null,
          1,
          null,
          null
         ],
         "xaxis": "x",
         "yaxis": "y"
        },
        {
         "alignmentgroup": "True",
         "bingroup": "x",
         "hovertemplate": "variable=CHEM103 [Application]<br>value=%{x}<br>count=%{y}<extra></extra>",
         "legendgroup": "CHEM103 [Application]",
         "marker": {
          "color": "#19d3f3",
          "pattern": {
           "shape": ""
          }
         },
         "name": "CHEM103 [Application]",
         "offsetgroup": "CHEM103 [Application]",
         "orientation": "v",
         "showlegend": true,
         "type": "histogram",
         "x": [
          null,
          null,
          1,
          null,
          null,
          null,
          null,
          null,
          null
         ],
         "xaxis": "x",
         "yaxis": "y"
        },
        {
         "alignmentgroup": "True",
         "bingroup": "x",
         "hovertemplate": "variable=CSC443 [Application]<br>value=%{x}<br>count=%{y}<extra></extra>",
         "legendgroup": "CSC443 [Application]",
         "marker": {
          "color": "#FF6692",
          "pattern": {
           "shape": ""
          }
         },
         "name": "CSC443 [Application]",
         "offsetgroup": "CSC443 [Application]",
         "orientation": "v",
         "showlegend": true,
         "type": "histogram",
         "x": [
          2,
          null,
          3,
          null,
          null,
          null,
          null,
          null,
          null
         ],
         "xaxis": "x",
         "yaxis": "y"
        },
        {
         "alignmentgroup": "True",
         "bingroup": "x",
         "hovertemplate": "variable=CSC462 [Application]<br>value=%{x}<br>count=%{y}<extra></extra>",
         "legendgroup": "CSC462 [Application]",
         "marker": {
          "color": "#B6E880",
          "pattern": {
           "shape": ""
          }
         },
         "name": "CSC462 [Application]",
         "offsetgroup": "CSC462 [Application]",
         "orientation": "v",
         "showlegend": true,
         "type": "histogram",
         "x": [
          5,
          null,
          5,
          null,
          5,
          null,
          null,
          5,
          5
         ],
         "xaxis": "x",
         "yaxis": "y"
        },
        {
         "alignmentgroup": "True",
         "bingroup": "x",
         "hovertemplate": "variable=CSC476 [Application]<br>value=%{x}<br>count=%{y}<extra></extra>",
         "legendgroup": "CSC476 [Application]",
         "marker": {
          "color": "#FF97FF",
          "pattern": {
           "shape": ""
          }
         },
         "name": "CSC476 [Application]",
         "offsetgroup": "CSC476 [Application]",
         "orientation": "v",
         "showlegend": true,
         "type": "histogram",
         "x": [
          null,
          null,
          3,
          null,
          null,
          null,
          null,
          null,
          null
         ],
         "xaxis": "x",
         "yaxis": "y"
        },
        {
         "alignmentgroup": "True",
         "bingroup": "x",
         "hovertemplate": "variable=CSC478 [Application]<br>value=%{x}<br>count=%{y}<extra></extra>",
         "legendgroup": "CSC478 [Application]",
         "marker": {
          "color": "#FECB52",
          "pattern": {
           "shape": ""
          }
         },
         "name": "CSC478 [Application]",
         "offsetgroup": "CSC478 [Application]",
         "orientation": "v",
         "showlegend": true,
         "type": "histogram",
         "x": [
          null,
          null,
          2,
          null,
          null,
          null,
          null,
          null,
          null
         ],
         "xaxis": "x",
         "yaxis": "y"
        },
        {
         "alignmentgroup": "True",
         "bingroup": "x",
         "hovertemplate": "variable=CSC484 [Application]<br>value=%{x}<br>count=%{y}<extra></extra>",
         "legendgroup": "CSC484 [Application]",
         "marker": {
          "color": "#636efa",
          "pattern": {
           "shape": ""
          }
         },
         "name": "CSC484 [Application]",
         "offsetgroup": "CSC484 [Application]",
         "orientation": "v",
         "showlegend": true,
         "type": "histogram",
         "x": [
          null,
          null,
          2,
          null,
          null,
          null,
          null,
          null,
          null
         ],
         "xaxis": "x",
         "yaxis": "y"
        },
        {
         "alignmentgroup": "True",
         "bingroup": "x",
         "hovertemplate": "variable=CSC489 [Application]<br>value=%{x}<br>count=%{y}<extra></extra>",
         "legendgroup": "CSC489 [Application]",
         "marker": {
          "color": "#EF553B",
          "pattern": {
           "shape": ""
          }
         },
         "name": "CSC489 [Application]",
         "offsetgroup": "CSC489 [Application]",
         "orientation": "v",
         "showlegend": true,
         "type": "histogram",
         "x": [
          null,
          null,
          1,
          null,
          null,
          null,
          null,
          null,
          null
         ],
         "xaxis": "x",
         "yaxis": "y"
        }
       ],
       "layout": {
        "barmode": "relative",
        "legend": {
         "title": {
          "text": "variable"
         },
         "tracegroupgap": 0
        },
        "margin": {
         "t": 60
        },
        "template": {
         "data": {
          "bar": [
           {
            "error_x": {
             "color": "#f2f5fa"
            },
            "error_y": {
             "color": "#f2f5fa"
            },
            "marker": {
             "line": {
              "color": "rgb(17,17,17)",
              "width": 0.5
             },
             "pattern": {
              "fillmode": "overlay",
              "size": 10,
              "solidity": 0.2
             }
            },
            "type": "bar"
           }
          ],
          "barpolar": [
           {
            "marker": {
             "line": {
              "color": "rgb(17,17,17)",
              "width": 0.5
             },
             "pattern": {
              "fillmode": "overlay",
              "size": 10,
              "solidity": 0.2
             }
            },
            "type": "barpolar"
           }
          ],
          "carpet": [
           {
            "aaxis": {
             "endlinecolor": "#A2B1C6",
             "gridcolor": "#506784",
             "linecolor": "#506784",
             "minorgridcolor": "#506784",
             "startlinecolor": "#A2B1C6"
            },
            "baxis": {
             "endlinecolor": "#A2B1C6",
             "gridcolor": "#506784",
             "linecolor": "#506784",
             "minorgridcolor": "#506784",
             "startlinecolor": "#A2B1C6"
            },
            "type": "carpet"
           }
          ],
          "choropleth": [
           {
            "colorbar": {
             "outlinewidth": 0,
             "ticks": ""
            },
            "type": "choropleth"
           }
          ],
          "contour": [
           {
            "colorbar": {
             "outlinewidth": 0,
             "ticks": ""
            },
            "colorscale": [
             [
              0,
              "#0d0887"
             ],
             [
              0.1111111111111111,
              "#46039f"
             ],
             [
              0.2222222222222222,
              "#7201a8"
             ],
             [
              0.3333333333333333,
              "#9c179e"
             ],
             [
              0.4444444444444444,
              "#bd3786"
             ],
             [
              0.5555555555555556,
              "#d8576b"
             ],
             [
              0.6666666666666666,
              "#ed7953"
             ],
             [
              0.7777777777777778,
              "#fb9f3a"
             ],
             [
              0.8888888888888888,
              "#fdca26"
             ],
             [
              1,
              "#f0f921"
             ]
            ],
            "type": "contour"
           }
          ],
          "contourcarpet": [
           {
            "colorbar": {
             "outlinewidth": 0,
             "ticks": ""
            },
            "type": "contourcarpet"
           }
          ],
          "heatmap": [
           {
            "colorbar": {
             "outlinewidth": 0,
             "ticks": ""
            },
            "colorscale": [
             [
              0,
              "#0d0887"
             ],
             [
              0.1111111111111111,
              "#46039f"
             ],
             [
              0.2222222222222222,
              "#7201a8"
             ],
             [
              0.3333333333333333,
              "#9c179e"
             ],
             [
              0.4444444444444444,
              "#bd3786"
             ],
             [
              0.5555555555555556,
              "#d8576b"
             ],
             [
              0.6666666666666666,
              "#ed7953"
             ],
             [
              0.7777777777777778,
              "#fb9f3a"
             ],
             [
              0.8888888888888888,
              "#fdca26"
             ],
             [
              1,
              "#f0f921"
             ]
            ],
            "type": "heatmap"
           }
          ],
          "heatmapgl": [
           {
            "colorbar": {
             "outlinewidth": 0,
             "ticks": ""
            },
            "colorscale": [
             [
              0,
              "#0d0887"
             ],
             [
              0.1111111111111111,
              "#46039f"
             ],
             [
              0.2222222222222222,
              "#7201a8"
             ],
             [
              0.3333333333333333,
              "#9c179e"
             ],
             [
              0.4444444444444444,
              "#bd3786"
             ],
             [
              0.5555555555555556,
              "#d8576b"
             ],
             [
              0.6666666666666666,
              "#ed7953"
             ],
             [
              0.7777777777777778,
              "#fb9f3a"
             ],
             [
              0.8888888888888888,
              "#fdca26"
             ],
             [
              1,
              "#f0f921"
             ]
            ],
            "type": "heatmapgl"
           }
          ],
          "histogram": [
           {
            "marker": {
             "pattern": {
              "fillmode": "overlay",
              "size": 10,
              "solidity": 0.2
             }
            },
            "type": "histogram"
           }
          ],
          "histogram2d": [
           {
            "colorbar": {
             "outlinewidth": 0,
             "ticks": ""
            },
            "colorscale": [
             [
              0,
              "#0d0887"
             ],
             [
              0.1111111111111111,
              "#46039f"
             ],
             [
              0.2222222222222222,
              "#7201a8"
             ],
             [
              0.3333333333333333,
              "#9c179e"
             ],
             [
              0.4444444444444444,
              "#bd3786"
             ],
             [
              0.5555555555555556,
              "#d8576b"
             ],
             [
              0.6666666666666666,
              "#ed7953"
             ],
             [
              0.7777777777777778,
              "#fb9f3a"
             ],
             [
              0.8888888888888888,
              "#fdca26"
             ],
             [
              1,
              "#f0f921"
             ]
            ],
            "type": "histogram2d"
           }
          ],
          "histogram2dcontour": [
           {
            "colorbar": {
             "outlinewidth": 0,
             "ticks": ""
            },
            "colorscale": [
             [
              0,
              "#0d0887"
             ],
             [
              0.1111111111111111,
              "#46039f"
             ],
             [
              0.2222222222222222,
              "#7201a8"
             ],
             [
              0.3333333333333333,
              "#9c179e"
             ],
             [
              0.4444444444444444,
              "#bd3786"
             ],
             [
              0.5555555555555556,
              "#d8576b"
             ],
             [
              0.6666666666666666,
              "#ed7953"
             ],
             [
              0.7777777777777778,
              "#fb9f3a"
             ],
             [
              0.8888888888888888,
              "#fdca26"
             ],
             [
              1,
              "#f0f921"
             ]
            ],
            "type": "histogram2dcontour"
           }
          ],
          "mesh3d": [
           {
            "colorbar": {
             "outlinewidth": 0,
             "ticks": ""
            },
            "type": "mesh3d"
           }
          ],
          "parcoords": [
           {
            "line": {
             "colorbar": {
              "outlinewidth": 0,
              "ticks": ""
             }
            },
            "type": "parcoords"
           }
          ],
          "pie": [
           {
            "automargin": true,
            "type": "pie"
           }
          ],
          "scatter": [
           {
            "marker": {
             "line": {
              "color": "#283442"
             }
            },
            "type": "scatter"
           }
          ],
          "scatter3d": [
           {
            "line": {
             "colorbar": {
              "outlinewidth": 0,
              "ticks": ""
             }
            },
            "marker": {
             "colorbar": {
              "outlinewidth": 0,
              "ticks": ""
             }
            },
            "type": "scatter3d"
           }
          ],
          "scattercarpet": [
           {
            "marker": {
             "colorbar": {
              "outlinewidth": 0,
              "ticks": ""
             }
            },
            "type": "scattercarpet"
           }
          ],
          "scattergeo": [
           {
            "marker": {
             "colorbar": {
              "outlinewidth": 0,
              "ticks": ""
             }
            },
            "type": "scattergeo"
           }
          ],
          "scattergl": [
           {
            "marker": {
             "line": {
              "color": "#283442"
             }
            },
            "type": "scattergl"
           }
          ],
          "scattermapbox": [
           {
            "marker": {
             "colorbar": {
              "outlinewidth": 0,
              "ticks": ""
             }
            },
            "type": "scattermapbox"
           }
          ],
          "scatterpolar": [
           {
            "marker": {
             "colorbar": {
              "outlinewidth": 0,
              "ticks": ""
             }
            },
            "type": "scatterpolar"
           }
          ],
          "scatterpolargl": [
           {
            "marker": {
             "colorbar": {
              "outlinewidth": 0,
              "ticks": ""
             }
            },
            "type": "scatterpolargl"
           }
          ],
          "scatterternary": [
           {
            "marker": {
             "colorbar": {
              "outlinewidth": 0,
              "ticks": ""
             }
            },
            "type": "scatterternary"
           }
          ],
          "surface": [
           {
            "colorbar": {
             "outlinewidth": 0,
             "ticks": ""
            },
            "colorscale": [
             [
              0,
              "#0d0887"
             ],
             [
              0.1111111111111111,
              "#46039f"
             ],
             [
              0.2222222222222222,
              "#7201a8"
             ],
             [
              0.3333333333333333,
              "#9c179e"
             ],
             [
              0.4444444444444444,
              "#bd3786"
             ],
             [
              0.5555555555555556,
              "#d8576b"
             ],
             [
              0.6666666666666666,
              "#ed7953"
             ],
             [
              0.7777777777777778,
              "#fb9f3a"
             ],
             [
              0.8888888888888888,
              "#fdca26"
             ],
             [
              1,
              "#f0f921"
             ]
            ],
            "type": "surface"
           }
          ],
          "table": [
           {
            "cells": {
             "fill": {
              "color": "#506784"
             },
             "line": {
              "color": "rgb(17,17,17)"
             }
            },
            "header": {
             "fill": {
              "color": "#2a3f5f"
             },
             "line": {
              "color": "rgb(17,17,17)"
             }
            },
            "type": "table"
           }
          ]
         },
         "layout": {
          "annotationdefaults": {
           "arrowcolor": "#f2f5fa",
           "arrowhead": 0,
           "arrowwidth": 1
          },
          "autotypenumbers": "strict",
          "coloraxis": {
           "colorbar": {
            "outlinewidth": 0,
            "ticks": ""
           }
          },
          "colorscale": {
           "diverging": [
            [
             0,
             "#8e0152"
            ],
            [
             0.1,
             "#c51b7d"
            ],
            [
             0.2,
             "#de77ae"
            ],
            [
             0.3,
             "#f1b6da"
            ],
            [
             0.4,
             "#fde0ef"
            ],
            [
             0.5,
             "#f7f7f7"
            ],
            [
             0.6,
             "#e6f5d0"
            ],
            [
             0.7,
             "#b8e186"
            ],
            [
             0.8,
             "#7fbc41"
            ],
            [
             0.9,
             "#4d9221"
            ],
            [
             1,
             "#276419"
            ]
           ],
           "sequential": [
            [
             0,
             "#0d0887"
            ],
            [
             0.1111111111111111,
             "#46039f"
            ],
            [
             0.2222222222222222,
             "#7201a8"
            ],
            [
             0.3333333333333333,
             "#9c179e"
            ],
            [
             0.4444444444444444,
             "#bd3786"
            ],
            [
             0.5555555555555556,
             "#d8576b"
            ],
            [
             0.6666666666666666,
             "#ed7953"
            ],
            [
             0.7777777777777778,
             "#fb9f3a"
            ],
            [
             0.8888888888888888,
             "#fdca26"
            ],
            [
             1,
             "#f0f921"
            ]
           ],
           "sequentialminus": [
            [
             0,
             "#0d0887"
            ],
            [
             0.1111111111111111,
             "#46039f"
            ],
            [
             0.2222222222222222,
             "#7201a8"
            ],
            [
             0.3333333333333333,
             "#9c179e"
            ],
            [
             0.4444444444444444,
             "#bd3786"
            ],
            [
             0.5555555555555556,
             "#d8576b"
            ],
            [
             0.6666666666666666,
             "#ed7953"
            ],
            [
             0.7777777777777778,
             "#fb9f3a"
            ],
            [
             0.8888888888888888,
             "#fdca26"
            ],
            [
             1,
             "#f0f921"
            ]
           ]
          },
          "colorway": [
           "#636efa",
           "#EF553B",
           "#00cc96",
           "#ab63fa",
           "#FFA15A",
           "#19d3f3",
           "#FF6692",
           "#B6E880",
           "#FF97FF",
           "#FECB52"
          ],
          "font": {
           "color": "#f2f5fa"
          },
          "geo": {
           "bgcolor": "rgb(17,17,17)",
           "lakecolor": "rgb(17,17,17)",
           "landcolor": "rgb(17,17,17)",
           "showlakes": true,
           "showland": true,
           "subunitcolor": "#506784"
          },
          "hoverlabel": {
           "align": "left"
          },
          "hovermode": "closest",
          "mapbox": {
           "style": "dark"
          },
          "paper_bgcolor": "rgb(17,17,17)",
          "plot_bgcolor": "rgb(17,17,17)",
          "polar": {
           "angularaxis": {
            "gridcolor": "#506784",
            "linecolor": "#506784",
            "ticks": ""
           },
           "bgcolor": "rgb(17,17,17)",
           "radialaxis": {
            "gridcolor": "#506784",
            "linecolor": "#506784",
            "ticks": ""
           }
          },
          "scene": {
           "xaxis": {
            "backgroundcolor": "rgb(17,17,17)",
            "gridcolor": "#506784",
            "gridwidth": 2,
            "linecolor": "#506784",
            "showbackground": true,
            "ticks": "",
            "zerolinecolor": "#C8D4E3"
           },
           "yaxis": {
            "backgroundcolor": "rgb(17,17,17)",
            "gridcolor": "#506784",
            "gridwidth": 2,
            "linecolor": "#506784",
            "showbackground": true,
            "ticks": "",
            "zerolinecolor": "#C8D4E3"
           },
           "zaxis": {
            "backgroundcolor": "rgb(17,17,17)",
            "gridcolor": "#506784",
            "gridwidth": 2,
            "linecolor": "#506784",
            "showbackground": true,
            "ticks": "",
            "zerolinecolor": "#C8D4E3"
           }
          },
          "shapedefaults": {
           "line": {
            "color": "#f2f5fa"
           }
          },
          "sliderdefaults": {
           "bgcolor": "#C8D4E3",
           "bordercolor": "rgb(17,17,17)",
           "borderwidth": 1,
           "tickwidth": 0
          },
          "ternary": {
           "aaxis": {
            "gridcolor": "#506784",
            "linecolor": "#506784",
            "ticks": ""
           },
           "baxis": {
            "gridcolor": "#506784",
            "linecolor": "#506784",
            "ticks": ""
           },
           "bgcolor": "rgb(17,17,17)",
           "caxis": {
            "gridcolor": "#506784",
            "linecolor": "#506784",
            "ticks": ""
           }
          },
          "title": {
           "x": 0.05
          },
          "updatemenudefaults": {
           "bgcolor": "#506784",
           "borderwidth": 0
          },
          "xaxis": {
           "automargin": true,
           "gridcolor": "#283442",
           "linecolor": "#506784",
           "ticks": "",
           "title": {
            "standoff": 15
           },
           "zerolinecolor": "#283442",
           "zerolinewidth": 2
          },
          "yaxis": {
           "automargin": true,
           "gridcolor": "#283442",
           "linecolor": "#506784",
           "ticks": "",
           "title": {
            "standoff": 15
           },
           "zerolinecolor": "#283442",
           "zerolinewidth": 2
          }
         }
        },
        "xaxis": {
         "anchor": "y",
         "domain": [
          0,
          1
         ],
         "title": {
          "text": "value"
         }
        },
        "yaxis": {
         "anchor": "x",
         "domain": [
          0,
          1
         ],
         "title": {
          "text": "count"
         }
        }
       }
      }
     },
     "metadata": {},
     "output_type": "display_data"
    }
   ],
   "source": [
    "px.histogram(df_by_regex(\".*Application.*\"))"
   ]
  },
  {
   "cell_type": "code",
   "execution_count": null,
   "metadata": {},
   "outputs": [
    {
     "data": {
      "application/vnd.plotly.v1+json": {
       "config": {
        "plotlyServerURL": "https://plot.ly"
       },
       "data": [
        {
         "alignmentgroup": "True",
         "bingroup": "x",
         "hovertemplate": "variable=0<br>value=%{x}<br>count=%{y}<extra></extra>",
         "legendgroup": "0",
         "marker": {
          "color": "#636efa",
          "pattern": {
           "shape": ""
          }
         },
         "name": "0",
         "offsetgroup": "0",
         "orientation": "v",
         "showlegend": true,
         "type": "histogram",
         "x": [
          5,
          3,
          5,
          4,
          5,
          2,
          1,
          2,
          1,
          3,
          5,
          5,
          5,
          3,
          5,
          5,
          2,
          5,
          5,
          3,
          4,
          5,
          4,
          1,
          3,
          5,
          5,
          2,
          4,
          5,
          3,
          2,
          5,
          null,
          5,
          null,
          3,
          5,
          null,
          null,
          null,
          null,
          5,
          3,
          5,
          null,
          null,
          null,
          null,
          null,
          null,
          null,
          null,
          null,
          null,
          null,
          null,
          null,
          null,
          null,
          null,
          null,
          null,
          null,
          null,
          null,
          null,
          null,
          null,
          null,
          null,
          null,
          null,
          null,
          null,
          null,
          null,
          null,
          null,
          null,
          null,
          null,
          null,
          null,
          5,
          1,
          3,
          1,
          5,
          1,
          2,
          1,
          1,
          5,
          5,
          1,
          3,
          5,
          4,
          1,
          4,
          4,
          4,
          5,
          4,
          4,
          1,
          4,
          4,
          5,
          5,
          3,
          4,
          5,
          5,
          3,
          3,
          1,
          1,
          1,
          3,
          4,
          2,
          3,
          2,
          3,
          5,
          null,
          null,
          null,
          null,
          null,
          null,
          null,
          null,
          null,
          5,
          1,
          2,
          2,
          5,
          5,
          5,
          null,
          2,
          null,
          null,
          null,
          null,
          null,
          null,
          null,
          null,
          null,
          null,
          null,
          null,
          null,
          null,
          null,
          1,
          null,
          null,
          null,
          null,
          null,
          null,
          null,
          5,
          2,
          3,
          1,
          4,
          4,
          3,
          1,
          2,
          5,
          null,
          1,
          1,
          5,
          3,
          null,
          5,
          2,
          3,
          5,
          null,
          3,
          1,
          4,
          2,
          5,
          1,
          4,
          2,
          5,
          1,
          1,
          5,
          null,
          null,
          null,
          null,
          5,
          null,
          null,
          null,
          null,
          5,
          4,
          5,
          4,
          4,
          2,
          1,
          null,
          1,
          4,
          2,
          null,
          5,
          4,
          5,
          null,
          null,
          null,
          null,
          null,
          null,
          null,
          null,
          null,
          null,
          null,
          null,
          null,
          null,
          null,
          null,
          null,
          null,
          null,
          null,
          null,
          null,
          null,
          null,
          null,
          null,
          null,
          3,
          1,
          4,
          2,
          5,
          3,
          1,
          3,
          3,
          4,
          4,
          3,
          5,
          3,
          5,
          null,
          4,
          2,
          5,
          5,
          null,
          5,
          1,
          null,
          null,
          null,
          null,
          null,
          null,
          null,
          null,
          null,
          null,
          null,
          1,
          null,
          null,
          null,
          null,
          null,
          null,
          null,
          5,
          3,
          4,
          4,
          5,
          3,
          3,
          2,
          3,
          3,
          2,
          2,
          3,
          4,
          5,
          1,
          2,
          4,
          5,
          4,
          3,
          4,
          5,
          2,
          3,
          5,
          4,
          3,
          2,
          5,
          4,
          2,
          null,
          null,
          null,
          null,
          null,
          5,
          null,
          null,
          null,
          null,
          1,
          2,
          5,
          1,
          5,
          3,
          1,
          3,
          4,
          1,
          2,
          3,
          5,
          5,
          5,
          2,
          5,
          null,
          null,
          5,
          5,
          5,
          2,
          5,
          5,
          5,
          3,
          3,
          5,
          5,
          5,
          3,
          5,
          null,
          null,
          null,
          null,
          5,
          null,
          null,
          null,
          null
         ],
         "xaxis": "x",
         "yaxis": "y"
        }
       ],
       "layout": {
        "barmode": "relative",
        "legend": {
         "title": {
          "text": "variable"
         },
         "tracegroupgap": 0
        },
        "margin": {
         "t": 60
        },
        "template": {
         "data": {
          "bar": [
           {
            "error_x": {
             "color": "#f2f5fa"
            },
            "error_y": {
             "color": "#f2f5fa"
            },
            "marker": {
             "line": {
              "color": "rgb(17,17,17)",
              "width": 0.5
             },
             "pattern": {
              "fillmode": "overlay",
              "size": 10,
              "solidity": 0.2
             }
            },
            "type": "bar"
           }
          ],
          "barpolar": [
           {
            "marker": {
             "line": {
              "color": "rgb(17,17,17)",
              "width": 0.5
             },
             "pattern": {
              "fillmode": "overlay",
              "size": 10,
              "solidity": 0.2
             }
            },
            "type": "barpolar"
           }
          ],
          "carpet": [
           {
            "aaxis": {
             "endlinecolor": "#A2B1C6",
             "gridcolor": "#506784",
             "linecolor": "#506784",
             "minorgridcolor": "#506784",
             "startlinecolor": "#A2B1C6"
            },
            "baxis": {
             "endlinecolor": "#A2B1C6",
             "gridcolor": "#506784",
             "linecolor": "#506784",
             "minorgridcolor": "#506784",
             "startlinecolor": "#A2B1C6"
            },
            "type": "carpet"
           }
          ],
          "choropleth": [
           {
            "colorbar": {
             "outlinewidth": 0,
             "ticks": ""
            },
            "type": "choropleth"
           }
          ],
          "contour": [
           {
            "colorbar": {
             "outlinewidth": 0,
             "ticks": ""
            },
            "colorscale": [
             [
              0,
              "#0d0887"
             ],
             [
              0.1111111111111111,
              "#46039f"
             ],
             [
              0.2222222222222222,
              "#7201a8"
             ],
             [
              0.3333333333333333,
              "#9c179e"
             ],
             [
              0.4444444444444444,
              "#bd3786"
             ],
             [
              0.5555555555555556,
              "#d8576b"
             ],
             [
              0.6666666666666666,
              "#ed7953"
             ],
             [
              0.7777777777777778,
              "#fb9f3a"
             ],
             [
              0.8888888888888888,
              "#fdca26"
             ],
             [
              1,
              "#f0f921"
             ]
            ],
            "type": "contour"
           }
          ],
          "contourcarpet": [
           {
            "colorbar": {
             "outlinewidth": 0,
             "ticks": ""
            },
            "type": "contourcarpet"
           }
          ],
          "heatmap": [
           {
            "colorbar": {
             "outlinewidth": 0,
             "ticks": ""
            },
            "colorscale": [
             [
              0,
              "#0d0887"
             ],
             [
              0.1111111111111111,
              "#46039f"
             ],
             [
              0.2222222222222222,
              "#7201a8"
             ],
             [
              0.3333333333333333,
              "#9c179e"
             ],
             [
              0.4444444444444444,
              "#bd3786"
             ],
             [
              0.5555555555555556,
              "#d8576b"
             ],
             [
              0.6666666666666666,
              "#ed7953"
             ],
             [
              0.7777777777777778,
              "#fb9f3a"
             ],
             [
              0.8888888888888888,
              "#fdca26"
             ],
             [
              1,
              "#f0f921"
             ]
            ],
            "type": "heatmap"
           }
          ],
          "heatmapgl": [
           {
            "colorbar": {
             "outlinewidth": 0,
             "ticks": ""
            },
            "colorscale": [
             [
              0,
              "#0d0887"
             ],
             [
              0.1111111111111111,
              "#46039f"
             ],
             [
              0.2222222222222222,
              "#7201a8"
             ],
             [
              0.3333333333333333,
              "#9c179e"
             ],
             [
              0.4444444444444444,
              "#bd3786"
             ],
             [
              0.5555555555555556,
              "#d8576b"
             ],
             [
              0.6666666666666666,
              "#ed7953"
             ],
             [
              0.7777777777777778,
              "#fb9f3a"
             ],
             [
              0.8888888888888888,
              "#fdca26"
             ],
             [
              1,
              "#f0f921"
             ]
            ],
            "type": "heatmapgl"
           }
          ],
          "histogram": [
           {
            "marker": {
             "pattern": {
              "fillmode": "overlay",
              "size": 10,
              "solidity": 0.2
             }
            },
            "type": "histogram"
           }
          ],
          "histogram2d": [
           {
            "colorbar": {
             "outlinewidth": 0,
             "ticks": ""
            },
            "colorscale": [
             [
              0,
              "#0d0887"
             ],
             [
              0.1111111111111111,
              "#46039f"
             ],
             [
              0.2222222222222222,
              "#7201a8"
             ],
             [
              0.3333333333333333,
              "#9c179e"
             ],
             [
              0.4444444444444444,
              "#bd3786"
             ],
             [
              0.5555555555555556,
              "#d8576b"
             ],
             [
              0.6666666666666666,
              "#ed7953"
             ],
             [
              0.7777777777777778,
              "#fb9f3a"
             ],
             [
              0.8888888888888888,
              "#fdca26"
             ],
             [
              1,
              "#f0f921"
             ]
            ],
            "type": "histogram2d"
           }
          ],
          "histogram2dcontour": [
           {
            "colorbar": {
             "outlinewidth": 0,
             "ticks": ""
            },
            "colorscale": [
             [
              0,
              "#0d0887"
             ],
             [
              0.1111111111111111,
              "#46039f"
             ],
             [
              0.2222222222222222,
              "#7201a8"
             ],
             [
              0.3333333333333333,
              "#9c179e"
             ],
             [
              0.4444444444444444,
              "#bd3786"
             ],
             [
              0.5555555555555556,
              "#d8576b"
             ],
             [
              0.6666666666666666,
              "#ed7953"
             ],
             [
              0.7777777777777778,
              "#fb9f3a"
             ],
             [
              0.8888888888888888,
              "#fdca26"
             ],
             [
              1,
              "#f0f921"
             ]
            ],
            "type": "histogram2dcontour"
           }
          ],
          "mesh3d": [
           {
            "colorbar": {
             "outlinewidth": 0,
             "ticks": ""
            },
            "type": "mesh3d"
           }
          ],
          "parcoords": [
           {
            "line": {
             "colorbar": {
              "outlinewidth": 0,
              "ticks": ""
             }
            },
            "type": "parcoords"
           }
          ],
          "pie": [
           {
            "automargin": true,
            "type": "pie"
           }
          ],
          "scatter": [
           {
            "marker": {
             "line": {
              "color": "#283442"
             }
            },
            "type": "scatter"
           }
          ],
          "scatter3d": [
           {
            "line": {
             "colorbar": {
              "outlinewidth": 0,
              "ticks": ""
             }
            },
            "marker": {
             "colorbar": {
              "outlinewidth": 0,
              "ticks": ""
             }
            },
            "type": "scatter3d"
           }
          ],
          "scattercarpet": [
           {
            "marker": {
             "colorbar": {
              "outlinewidth": 0,
              "ticks": ""
             }
            },
            "type": "scattercarpet"
           }
          ],
          "scattergeo": [
           {
            "marker": {
             "colorbar": {
              "outlinewidth": 0,
              "ticks": ""
             }
            },
            "type": "scattergeo"
           }
          ],
          "scattergl": [
           {
            "marker": {
             "line": {
              "color": "#283442"
             }
            },
            "type": "scattergl"
           }
          ],
          "scattermapbox": [
           {
            "marker": {
             "colorbar": {
              "outlinewidth": 0,
              "ticks": ""
             }
            },
            "type": "scattermapbox"
           }
          ],
          "scatterpolar": [
           {
            "marker": {
             "colorbar": {
              "outlinewidth": 0,
              "ticks": ""
             }
            },
            "type": "scatterpolar"
           }
          ],
          "scatterpolargl": [
           {
            "marker": {
             "colorbar": {
              "outlinewidth": 0,
              "ticks": ""
             }
            },
            "type": "scatterpolargl"
           }
          ],
          "scatterternary": [
           {
            "marker": {
             "colorbar": {
              "outlinewidth": 0,
              "ticks": ""
             }
            },
            "type": "scatterternary"
           }
          ],
          "surface": [
           {
            "colorbar": {
             "outlinewidth": 0,
             "ticks": ""
            },
            "colorscale": [
             [
              0,
              "#0d0887"
             ],
             [
              0.1111111111111111,
              "#46039f"
             ],
             [
              0.2222222222222222,
              "#7201a8"
             ],
             [
              0.3333333333333333,
              "#9c179e"
             ],
             [
              0.4444444444444444,
              "#bd3786"
             ],
             [
              0.5555555555555556,
              "#d8576b"
             ],
             [
              0.6666666666666666,
              "#ed7953"
             ],
             [
              0.7777777777777778,
              "#fb9f3a"
             ],
             [
              0.8888888888888888,
              "#fdca26"
             ],
             [
              1,
              "#f0f921"
             ]
            ],
            "type": "surface"
           }
          ],
          "table": [
           {
            "cells": {
             "fill": {
              "color": "#506784"
             },
             "line": {
              "color": "rgb(17,17,17)"
             }
            },
            "header": {
             "fill": {
              "color": "#2a3f5f"
             },
             "line": {
              "color": "rgb(17,17,17)"
             }
            },
            "type": "table"
           }
          ]
         },
         "layout": {
          "annotationdefaults": {
           "arrowcolor": "#f2f5fa",
           "arrowhead": 0,
           "arrowwidth": 1
          },
          "autotypenumbers": "strict",
          "coloraxis": {
           "colorbar": {
            "outlinewidth": 0,
            "ticks": ""
           }
          },
          "colorscale": {
           "diverging": [
            [
             0,
             "#8e0152"
            ],
            [
             0.1,
             "#c51b7d"
            ],
            [
             0.2,
             "#de77ae"
            ],
            [
             0.3,
             "#f1b6da"
            ],
            [
             0.4,
             "#fde0ef"
            ],
            [
             0.5,
             "#f7f7f7"
            ],
            [
             0.6,
             "#e6f5d0"
            ],
            [
             0.7,
             "#b8e186"
            ],
            [
             0.8,
             "#7fbc41"
            ],
            [
             0.9,
             "#4d9221"
            ],
            [
             1,
             "#276419"
            ]
           ],
           "sequential": [
            [
             0,
             "#0d0887"
            ],
            [
             0.1111111111111111,
             "#46039f"
            ],
            [
             0.2222222222222222,
             "#7201a8"
            ],
            [
             0.3333333333333333,
             "#9c179e"
            ],
            [
             0.4444444444444444,
             "#bd3786"
            ],
            [
             0.5555555555555556,
             "#d8576b"
            ],
            [
             0.6666666666666666,
             "#ed7953"
            ],
            [
             0.7777777777777778,
             "#fb9f3a"
            ],
            [
             0.8888888888888888,
             "#fdca26"
            ],
            [
             1,
             "#f0f921"
            ]
           ],
           "sequentialminus": [
            [
             0,
             "#0d0887"
            ],
            [
             0.1111111111111111,
             "#46039f"
            ],
            [
             0.2222222222222222,
             "#7201a8"
            ],
            [
             0.3333333333333333,
             "#9c179e"
            ],
            [
             0.4444444444444444,
             "#bd3786"
            ],
            [
             0.5555555555555556,
             "#d8576b"
            ],
            [
             0.6666666666666666,
             "#ed7953"
            ],
            [
             0.7777777777777778,
             "#fb9f3a"
            ],
            [
             0.8888888888888888,
             "#fdca26"
            ],
            [
             1,
             "#f0f921"
            ]
           ]
          },
          "colorway": [
           "#636efa",
           "#EF553B",
           "#00cc96",
           "#ab63fa",
           "#FFA15A",
           "#19d3f3",
           "#FF6692",
           "#B6E880",
           "#FF97FF",
           "#FECB52"
          ],
          "font": {
           "color": "#f2f5fa"
          },
          "geo": {
           "bgcolor": "rgb(17,17,17)",
           "lakecolor": "rgb(17,17,17)",
           "landcolor": "rgb(17,17,17)",
           "showlakes": true,
           "showland": true,
           "subunitcolor": "#506784"
          },
          "hoverlabel": {
           "align": "left"
          },
          "hovermode": "closest",
          "mapbox": {
           "style": "dark"
          },
          "paper_bgcolor": "rgb(17,17,17)",
          "plot_bgcolor": "rgb(17,17,17)",
          "polar": {
           "angularaxis": {
            "gridcolor": "#506784",
            "linecolor": "#506784",
            "ticks": ""
           },
           "bgcolor": "rgb(17,17,17)",
           "radialaxis": {
            "gridcolor": "#506784",
            "linecolor": "#506784",
            "ticks": ""
           }
          },
          "scene": {
           "xaxis": {
            "backgroundcolor": "rgb(17,17,17)",
            "gridcolor": "#506784",
            "gridwidth": 2,
            "linecolor": "#506784",
            "showbackground": true,
            "ticks": "",
            "zerolinecolor": "#C8D4E3"
           },
           "yaxis": {
            "backgroundcolor": "rgb(17,17,17)",
            "gridcolor": "#506784",
            "gridwidth": 2,
            "linecolor": "#506784",
            "showbackground": true,
            "ticks": "",
            "zerolinecolor": "#C8D4E3"
           },
           "zaxis": {
            "backgroundcolor": "rgb(17,17,17)",
            "gridcolor": "#506784",
            "gridwidth": 2,
            "linecolor": "#506784",
            "showbackground": true,
            "ticks": "",
            "zerolinecolor": "#C8D4E3"
           }
          },
          "shapedefaults": {
           "line": {
            "color": "#f2f5fa"
           }
          },
          "sliderdefaults": {
           "bgcolor": "#C8D4E3",
           "bordercolor": "rgb(17,17,17)",
           "borderwidth": 1,
           "tickwidth": 0
          },
          "ternary": {
           "aaxis": {
            "gridcolor": "#506784",
            "linecolor": "#506784",
            "ticks": ""
           },
           "baxis": {
            "gridcolor": "#506784",
            "linecolor": "#506784",
            "ticks": ""
           },
           "bgcolor": "rgb(17,17,17)",
           "caxis": {
            "gridcolor": "#506784",
            "linecolor": "#506784",
            "ticks": ""
           }
          },
          "title": {
           "x": 0.05
          },
          "updatemenudefaults": {
           "bgcolor": "#506784",
           "borderwidth": 0
          },
          "xaxis": {
           "automargin": true,
           "gridcolor": "#283442",
           "linecolor": "#506784",
           "ticks": "",
           "title": {
            "standoff": 15
           },
           "zerolinecolor": "#283442",
           "zerolinewidth": 2
          },
          "yaxis": {
           "automargin": true,
           "gridcolor": "#283442",
           "linecolor": "#506784",
           "ticks": "",
           "title": {
            "standoff": 15
           },
           "zerolinecolor": "#283442",
           "zerolinewidth": 2
          }
         }
        },
        "xaxis": {
         "anchor": "y",
         "domain": [
          0,
          1
         ],
         "title": {
          "text": "value"
         }
        },
        "yaxis": {
         "anchor": "x",
         "domain": [
          0,
          1
         ],
         "title": {
          "text": "count"
         }
        }
       }
      }
     },
     "metadata": {},
     "output_type": "display_data"
    }
   ],
   "source": [
    "px.histogram(np.concatenate(df_by_regex(f\".*Relevance.*\").values))"
   ]
  },
  {
   "cell_type": "code",
   "execution_count": null,
   "metadata": {},
   "outputs": [
    {
     "data": {
      "application/vnd.plotly.v1+json": {
       "config": {
        "plotlyServerURL": "https://plot.ly"
       },
       "data": [
        {
         "alignmentgroup": "True",
         "bingroup": "x",
         "hovertemplate": "variable=MATH101 [Application]<br>value=%{x}<br>count=%{y}<extra></extra>",
         "legendgroup": "MATH101 [Application]",
         "marker": {
          "color": "#636efa",
          "pattern": {
           "shape": ""
          }
         },
         "name": "MATH101 [Application]",
         "offsetgroup": "MATH101 [Application]",
         "orientation": "v",
         "showlegend": true,
         "type": "histogram",
         "x": [
          5,
          4,
          3,
          null,
          3,
          3,
          5,
          2,
          5
         ],
         "xaxis": "x",
         "yaxis": "y"
        }
       ],
       "layout": {
        "barmode": "relative",
        "legend": {
         "title": {
          "text": "variable"
         },
         "tracegroupgap": 0
        },
        "margin": {
         "t": 60
        },
        "template": {
         "data": {
          "bar": [
           {
            "error_x": {
             "color": "#f2f5fa"
            },
            "error_y": {
             "color": "#f2f5fa"
            },
            "marker": {
             "line": {
              "color": "rgb(17,17,17)",
              "width": 0.5
             },
             "pattern": {
              "fillmode": "overlay",
              "size": 10,
              "solidity": 0.2
             }
            },
            "type": "bar"
           }
          ],
          "barpolar": [
           {
            "marker": {
             "line": {
              "color": "rgb(17,17,17)",
              "width": 0.5
             },
             "pattern": {
              "fillmode": "overlay",
              "size": 10,
              "solidity": 0.2
             }
            },
            "type": "barpolar"
           }
          ],
          "carpet": [
           {
            "aaxis": {
             "endlinecolor": "#A2B1C6",
             "gridcolor": "#506784",
             "linecolor": "#506784",
             "minorgridcolor": "#506784",
             "startlinecolor": "#A2B1C6"
            },
            "baxis": {
             "endlinecolor": "#A2B1C6",
             "gridcolor": "#506784",
             "linecolor": "#506784",
             "minorgridcolor": "#506784",
             "startlinecolor": "#A2B1C6"
            },
            "type": "carpet"
           }
          ],
          "choropleth": [
           {
            "colorbar": {
             "outlinewidth": 0,
             "ticks": ""
            },
            "type": "choropleth"
           }
          ],
          "contour": [
           {
            "colorbar": {
             "outlinewidth": 0,
             "ticks": ""
            },
            "colorscale": [
             [
              0,
              "#0d0887"
             ],
             [
              0.1111111111111111,
              "#46039f"
             ],
             [
              0.2222222222222222,
              "#7201a8"
             ],
             [
              0.3333333333333333,
              "#9c179e"
             ],
             [
              0.4444444444444444,
              "#bd3786"
             ],
             [
              0.5555555555555556,
              "#d8576b"
             ],
             [
              0.6666666666666666,
              "#ed7953"
             ],
             [
              0.7777777777777778,
              "#fb9f3a"
             ],
             [
              0.8888888888888888,
              "#fdca26"
             ],
             [
              1,
              "#f0f921"
             ]
            ],
            "type": "contour"
           }
          ],
          "contourcarpet": [
           {
            "colorbar": {
             "outlinewidth": 0,
             "ticks": ""
            },
            "type": "contourcarpet"
           }
          ],
          "heatmap": [
           {
            "colorbar": {
             "outlinewidth": 0,
             "ticks": ""
            },
            "colorscale": [
             [
              0,
              "#0d0887"
             ],
             [
              0.1111111111111111,
              "#46039f"
             ],
             [
              0.2222222222222222,
              "#7201a8"
             ],
             [
              0.3333333333333333,
              "#9c179e"
             ],
             [
              0.4444444444444444,
              "#bd3786"
             ],
             [
              0.5555555555555556,
              "#d8576b"
             ],
             [
              0.6666666666666666,
              "#ed7953"
             ],
             [
              0.7777777777777778,
              "#fb9f3a"
             ],
             [
              0.8888888888888888,
              "#fdca26"
             ],
             [
              1,
              "#f0f921"
             ]
            ],
            "type": "heatmap"
           }
          ],
          "heatmapgl": [
           {
            "colorbar": {
             "outlinewidth": 0,
             "ticks": ""
            },
            "colorscale": [
             [
              0,
              "#0d0887"
             ],
             [
              0.1111111111111111,
              "#46039f"
             ],
             [
              0.2222222222222222,
              "#7201a8"
             ],
             [
              0.3333333333333333,
              "#9c179e"
             ],
             [
              0.4444444444444444,
              "#bd3786"
             ],
             [
              0.5555555555555556,
              "#d8576b"
             ],
             [
              0.6666666666666666,
              "#ed7953"
             ],
             [
              0.7777777777777778,
              "#fb9f3a"
             ],
             [
              0.8888888888888888,
              "#fdca26"
             ],
             [
              1,
              "#f0f921"
             ]
            ],
            "type": "heatmapgl"
           }
          ],
          "histogram": [
           {
            "marker": {
             "pattern": {
              "fillmode": "overlay",
              "size": 10,
              "solidity": 0.2
             }
            },
            "type": "histogram"
           }
          ],
          "histogram2d": [
           {
            "colorbar": {
             "outlinewidth": 0,
             "ticks": ""
            },
            "colorscale": [
             [
              0,
              "#0d0887"
             ],
             [
              0.1111111111111111,
              "#46039f"
             ],
             [
              0.2222222222222222,
              "#7201a8"
             ],
             [
              0.3333333333333333,
              "#9c179e"
             ],
             [
              0.4444444444444444,
              "#bd3786"
             ],
             [
              0.5555555555555556,
              "#d8576b"
             ],
             [
              0.6666666666666666,
              "#ed7953"
             ],
             [
              0.7777777777777778,
              "#fb9f3a"
             ],
             [
              0.8888888888888888,
              "#fdca26"
             ],
             [
              1,
              "#f0f921"
             ]
            ],
            "type": "histogram2d"
           }
          ],
          "histogram2dcontour": [
           {
            "colorbar": {
             "outlinewidth": 0,
             "ticks": ""
            },
            "colorscale": [
             [
              0,
              "#0d0887"
             ],
             [
              0.1111111111111111,
              "#46039f"
             ],
             [
              0.2222222222222222,
              "#7201a8"
             ],
             [
              0.3333333333333333,
              "#9c179e"
             ],
             [
              0.4444444444444444,
              "#bd3786"
             ],
             [
              0.5555555555555556,
              "#d8576b"
             ],
             [
              0.6666666666666666,
              "#ed7953"
             ],
             [
              0.7777777777777778,
              "#fb9f3a"
             ],
             [
              0.8888888888888888,
              "#fdca26"
             ],
             [
              1,
              "#f0f921"
             ]
            ],
            "type": "histogram2dcontour"
           }
          ],
          "mesh3d": [
           {
            "colorbar": {
             "outlinewidth": 0,
             "ticks": ""
            },
            "type": "mesh3d"
           }
          ],
          "parcoords": [
           {
            "line": {
             "colorbar": {
              "outlinewidth": 0,
              "ticks": ""
             }
            },
            "type": "parcoords"
           }
          ],
          "pie": [
           {
            "automargin": true,
            "type": "pie"
           }
          ],
          "scatter": [
           {
            "marker": {
             "line": {
              "color": "#283442"
             }
            },
            "type": "scatter"
           }
          ],
          "scatter3d": [
           {
            "line": {
             "colorbar": {
              "outlinewidth": 0,
              "ticks": ""
             }
            },
            "marker": {
             "colorbar": {
              "outlinewidth": 0,
              "ticks": ""
             }
            },
            "type": "scatter3d"
           }
          ],
          "scattercarpet": [
           {
            "marker": {
             "colorbar": {
              "outlinewidth": 0,
              "ticks": ""
             }
            },
            "type": "scattercarpet"
           }
          ],
          "scattergeo": [
           {
            "marker": {
             "colorbar": {
              "outlinewidth": 0,
              "ticks": ""
             }
            },
            "type": "scattergeo"
           }
          ],
          "scattergl": [
           {
            "marker": {
             "line": {
              "color": "#283442"
             }
            },
            "type": "scattergl"
           }
          ],
          "scattermapbox": [
           {
            "marker": {
             "colorbar": {
              "outlinewidth": 0,
              "ticks": ""
             }
            },
            "type": "scattermapbox"
           }
          ],
          "scatterpolar": [
           {
            "marker": {
             "colorbar": {
              "outlinewidth": 0,
              "ticks": ""
             }
            },
            "type": "scatterpolar"
           }
          ],
          "scatterpolargl": [
           {
            "marker": {
             "colorbar": {
              "outlinewidth": 0,
              "ticks": ""
             }
            },
            "type": "scatterpolargl"
           }
          ],
          "scatterternary": [
           {
            "marker": {
             "colorbar": {
              "outlinewidth": 0,
              "ticks": ""
             }
            },
            "type": "scatterternary"
           }
          ],
          "surface": [
           {
            "colorbar": {
             "outlinewidth": 0,
             "ticks": ""
            },
            "colorscale": [
             [
              0,
              "#0d0887"
             ],
             [
              0.1111111111111111,
              "#46039f"
             ],
             [
              0.2222222222222222,
              "#7201a8"
             ],
             [
              0.3333333333333333,
              "#9c179e"
             ],
             [
              0.4444444444444444,
              "#bd3786"
             ],
             [
              0.5555555555555556,
              "#d8576b"
             ],
             [
              0.6666666666666666,
              "#ed7953"
             ],
             [
              0.7777777777777778,
              "#fb9f3a"
             ],
             [
              0.8888888888888888,
              "#fdca26"
             ],
             [
              1,
              "#f0f921"
             ]
            ],
            "type": "surface"
           }
          ],
          "table": [
           {
            "cells": {
             "fill": {
              "color": "#506784"
             },
             "line": {
              "color": "rgb(17,17,17)"
             }
            },
            "header": {
             "fill": {
              "color": "#2a3f5f"
             },
             "line": {
              "color": "rgb(17,17,17)"
             }
            },
            "type": "table"
           }
          ]
         },
         "layout": {
          "annotationdefaults": {
           "arrowcolor": "#f2f5fa",
           "arrowhead": 0,
           "arrowwidth": 1
          },
          "autotypenumbers": "strict",
          "coloraxis": {
           "colorbar": {
            "outlinewidth": 0,
            "ticks": ""
           }
          },
          "colorscale": {
           "diverging": [
            [
             0,
             "#8e0152"
            ],
            [
             0.1,
             "#c51b7d"
            ],
            [
             0.2,
             "#de77ae"
            ],
            [
             0.3,
             "#f1b6da"
            ],
            [
             0.4,
             "#fde0ef"
            ],
            [
             0.5,
             "#f7f7f7"
            ],
            [
             0.6,
             "#e6f5d0"
            ],
            [
             0.7,
             "#b8e186"
            ],
            [
             0.8,
             "#7fbc41"
            ],
            [
             0.9,
             "#4d9221"
            ],
            [
             1,
             "#276419"
            ]
           ],
           "sequential": [
            [
             0,
             "#0d0887"
            ],
            [
             0.1111111111111111,
             "#46039f"
            ],
            [
             0.2222222222222222,
             "#7201a8"
            ],
            [
             0.3333333333333333,
             "#9c179e"
            ],
            [
             0.4444444444444444,
             "#bd3786"
            ],
            [
             0.5555555555555556,
             "#d8576b"
            ],
            [
             0.6666666666666666,
             "#ed7953"
            ],
            [
             0.7777777777777778,
             "#fb9f3a"
            ],
            [
             0.8888888888888888,
             "#fdca26"
            ],
            [
             1,
             "#f0f921"
            ]
           ],
           "sequentialminus": [
            [
             0,
             "#0d0887"
            ],
            [
             0.1111111111111111,
             "#46039f"
            ],
            [
             0.2222222222222222,
             "#7201a8"
            ],
            [
             0.3333333333333333,
             "#9c179e"
            ],
            [
             0.4444444444444444,
             "#bd3786"
            ],
            [
             0.5555555555555556,
             "#d8576b"
            ],
            [
             0.6666666666666666,
             "#ed7953"
            ],
            [
             0.7777777777777778,
             "#fb9f3a"
            ],
            [
             0.8888888888888888,
             "#fdca26"
            ],
            [
             1,
             "#f0f921"
            ]
           ]
          },
          "colorway": [
           "#636efa",
           "#EF553B",
           "#00cc96",
           "#ab63fa",
           "#FFA15A",
           "#19d3f3",
           "#FF6692",
           "#B6E880",
           "#FF97FF",
           "#FECB52"
          ],
          "font": {
           "color": "#f2f5fa"
          },
          "geo": {
           "bgcolor": "rgb(17,17,17)",
           "lakecolor": "rgb(17,17,17)",
           "landcolor": "rgb(17,17,17)",
           "showlakes": true,
           "showland": true,
           "subunitcolor": "#506784"
          },
          "hoverlabel": {
           "align": "left"
          },
          "hovermode": "closest",
          "mapbox": {
           "style": "dark"
          },
          "paper_bgcolor": "rgb(17,17,17)",
          "plot_bgcolor": "rgb(17,17,17)",
          "polar": {
           "angularaxis": {
            "gridcolor": "#506784",
            "linecolor": "#506784",
            "ticks": ""
           },
           "bgcolor": "rgb(17,17,17)",
           "radialaxis": {
            "gridcolor": "#506784",
            "linecolor": "#506784",
            "ticks": ""
           }
          },
          "scene": {
           "xaxis": {
            "backgroundcolor": "rgb(17,17,17)",
            "gridcolor": "#506784",
            "gridwidth": 2,
            "linecolor": "#506784",
            "showbackground": true,
            "ticks": "",
            "zerolinecolor": "#C8D4E3"
           },
           "yaxis": {
            "backgroundcolor": "rgb(17,17,17)",
            "gridcolor": "#506784",
            "gridwidth": 2,
            "linecolor": "#506784",
            "showbackground": true,
            "ticks": "",
            "zerolinecolor": "#C8D4E3"
           },
           "zaxis": {
            "backgroundcolor": "rgb(17,17,17)",
            "gridcolor": "#506784",
            "gridwidth": 2,
            "linecolor": "#506784",
            "showbackground": true,
            "ticks": "",
            "zerolinecolor": "#C8D4E3"
           }
          },
          "shapedefaults": {
           "line": {
            "color": "#f2f5fa"
           }
          },
          "sliderdefaults": {
           "bgcolor": "#C8D4E3",
           "bordercolor": "rgb(17,17,17)",
           "borderwidth": 1,
           "tickwidth": 0
          },
          "ternary": {
           "aaxis": {
            "gridcolor": "#506784",
            "linecolor": "#506784",
            "ticks": ""
           },
           "baxis": {
            "gridcolor": "#506784",
            "linecolor": "#506784",
            "ticks": ""
           },
           "bgcolor": "rgb(17,17,17)",
           "caxis": {
            "gridcolor": "#506784",
            "linecolor": "#506784",
            "ticks": ""
           }
          },
          "title": {
           "x": 0.05
          },
          "updatemenudefaults": {
           "bgcolor": "#506784",
           "borderwidth": 0
          },
          "xaxis": {
           "automargin": true,
           "gridcolor": "#283442",
           "linecolor": "#506784",
           "ticks": "",
           "title": {
            "standoff": 15
           },
           "zerolinecolor": "#283442",
           "zerolinewidth": 2
          },
          "yaxis": {
           "automargin": true,
           "gridcolor": "#283442",
           "linecolor": "#506784",
           "ticks": "",
           "title": {
            "standoff": 15
           },
           "zerolinecolor": "#283442",
           "zerolinewidth": 2
          }
         }
        },
        "xaxis": {
         "anchor": "y",
         "domain": [
          0,
          1
         ],
         "title": {
          "text": "value"
         }
        },
        "yaxis": {
         "anchor": "x",
         "domain": [
          0,
          1
         ],
         "title": {
          "text": "count"
         }
        }
       }
      }
     },
     "metadata": {},
     "output_type": "display_data"
    }
   ],
   "source": [
    "px.histogram(df[\"MATH101 [Application]\"])"
   ]
  },
  {
   "cell_type": "code",
   "execution_count": null,
   "metadata": {},
   "outputs": [],
   "source": []
  }
 ],
 "metadata": {
  "interpreter": {
   "hash": "c2deab0c0d56e72ca5db1d97fb88fe0c0ab6b5e910fcaec703ad36be267b2091"
  },
  "kernelspec": {
   "display_name": "Python 3.8.8 64-bit ('base': conda)",
   "name": "python3"
  },
  "language_info": {
   "codemirror_mode": {
    "name": "ipython",
    "version": 3
   },
   "file_extension": ".py",
   "mimetype": "text/x-python",
   "name": "python",
   "nbconvert_exporter": "python",
   "pygments_lexer": "ipython3",
   "version": "3.8.8"
  }
 },
 "nbformat": 4,
 "nbformat_minor": 4
}
