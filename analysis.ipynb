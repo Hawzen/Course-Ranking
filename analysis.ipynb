{
 "cells": [
  {
   "cell_type": "markdown",
   "metadata": {},
   "source": [
    "![img](images/plan.jpg)"
   ]
  },
  {
   "cell_type": "code",
   "execution_count": 318,
   "metadata": {},
   "outputs": [],
   "source": [
    "import re\n",
    "import itertools\n",
    "from functools import reduce, partial\n",
    "\n",
    "import numpy as np\n",
    "from scipy import stats\n",
    "import scipy\n",
    "import pandas as pd\n",
    "import plotly\n",
    "import plotly.graph_objs as go\n",
    "from plotly.subplots import make_subplots\n",
    "import plotly.express as px\n",
    "import plotly.io as pio\n",
    "\n",
    "# Config\n",
    "pio.templates.default = \"plotly_dark\"\n",
    "\n",
    "pd.set_option(\"display.max_rows\", 500)\n",
    "pd.set_option(\"display.max_columns\", 50)\n",
    "pd.set_option(\"plotting.backend\", \"plotly\")\n",
    "\n",
    "# TODO: Backtesting"
   ]
  },
  {
   "cell_type": "markdown",
   "metadata": {},
   "source": [
    "# Data"
   ]
  },
  {
   "cell_type": "code",
   "execution_count": 91,
   "metadata": {},
   "outputs": [],
   "source": [
    "\n",
    "data = pd.read_csv(\"data.csv\")\n",
    "data_filtered = data.drop(columns=data.columns[3:5])\n",
    "\n",
    "courses = [\"ENGLISH100\", \"ARB100\", \"MATH101\", \"CHEM101\", \"STAT101\", \"TECH101\", \"ENTREPRENEUR101\", \"FAJAB101\", \"NAHAJ101\", \"ENGLISH110\",\n",
    "            \"SALAM107\", \"PHYS104\", \"MATH106\", \"CSC111\", \"MATH151\", \"SALAM108\", \"CSC113\", \"CSC220\", \"MATH244\",\n",
    "            \"CSC212\", \"CSC215\", \"MATH281\", \"CSC304\", \"CSC380\", \"CSC227\", \"CSC311\", \"CSC339\", \"CSC343\", \"CSC361\",\n",
    "            \"CSC329\", \"CSC340\", \"CSC453\", \"CSC496\", \"PHYS210\", \"PHYS103\", \"CHEM103\", \"CSC443\", \"CSC462\", \"CSC476\", \"CSC478\", \"CSC484\", \"CSC489\"]\n",
    "criteria = [\"Application\", \"Relevance\", \"Insight\", \"Understanding\", \"Ease\"]\n",
    "ratings = list(range(1, 6))"
   ]
  },
  {
   "cell_type": "code",
   "execution_count": 92,
   "metadata": {},
   "outputs": [],
   "source": [
    "@np.vectorize\n",
    "def course_to_category(course):\n",
    "    prefix_to_category = {\"ENGLISH\":\"Humanities\", \"NAHAJ\": \"Humanities\", \"ARB\": \"Humanities\", \"ENTREPRENEUR\": \"Humanities\", \"FAJAB\": \"Humanities\", \"TECH\": \"Humanities\",\n",
    "                    \"PHYS\": \"Physics\", \"CHEM\": \"Chemistry\", \"SALAM\": \"Islamics\", \"MATH\": \"Mathematics\", \"STAT\": \"Mathematics\", \"CSC\": \"Computer science\"}\n",
    "    return prefix_to_category[re.findall(\"[a-zA-Z]+\", course)[0]]\n",
    "\n",
    "categories = pd.Series(course_to_category(courses))\n",
    "assert sum(categories.isna()) == 0, \"prefix_to_category must cover each course prefix\""
   ]
  },
  {
   "cell_type": "markdown",
   "metadata": {},
   "source": [
    "# Wrangling"
   ]
  },
  {
   "cell_type": "code",
   "execution_count": 93,
   "metadata": {},
   "outputs": [],
   "source": [
    "def df_by_regex(regex):\n",
    "    \"\"\"THIS USES GLOBALY DEFINED DF ALARM ALARM\"\"\"\n",
    "    return data_filtered.filter(regex=regex, axis=1)\n",
    "\n",
    "def get_subject_df(subject):\n",
    "    \"\"\"THIS USES GLOBALY DEFINED DF ALARM ALARM\"\"\"\n",
    "    return df_by_regex(f\"{subject}.*\\[.*\\].*\")"
   ]
  },
  {
   "cell_type": "code",
   "execution_count": 94,
   "metadata": {},
   "outputs": [],
   "source": [
    "index = list((course, criterion) for criterion in criteria for course in courses)\n",
    "sorted_index = sorted(index, key=lambda x: courses.index(x[0]))\n",
    "df = get_subject_df(\"\").T.set_index(pd.Index(sorted_index))"
   ]
  },
  {
   "cell_type": "markdown",
   "metadata": {},
   "source": [
    "# Utility"
   ]
  },
  {
   "cell_type": "code",
   "execution_count": 418,
   "metadata": {},
   "outputs": [],
   "source": [
    "def remove_double_naming_in_legend(fig):\n",
    "    for trace in fig.select_traces():\n",
    "        trace.name = trace.name.split(\",\")[0]\n",
    "\n",
    "def get_course_to_num_ranking_series(df):\n",
    "    # a bit of a primitive way to count every filled in ranking (some rankings are NaN). Maybe it could be improved?\n",
    "    i = 0\n",
    "    course_to_num_ranking = {}\n",
    "    while i < len(df):\n",
    "        course_to_num_ranking.update({df.iloc[i].name[0]:len(df.iloc[i].dropna())})\n",
    "        i += 5\n",
    "    return pd.Series(course_to_num_ranking)"
   ]
  },
  {
   "cell_type": "markdown",
   "metadata": {},
   "source": [
    "## Ranking"
   ]
  },
  {
   "cell_type": "markdown",
   "metadata": {},
   "source": [
    "### Course ranking by criteria"
   ]
  },
  {
   "cell_type": "code",
   "execution_count": 263,
   "metadata": {},
   "outputs": [],
   "source": [
    "def get_scores_df(df, criteria, categories):\n",
    "    return pd.DataFrame(((bayesian_mean(df.loc[[(subject, criterion) for subject in courses]].T, categories)) for criterion in criteria), index=criteria)\n",
    "\n",
    "def bayesian_mean(course_to_criterion, categories):\n",
    "    course_to_criterion_mean = course_to_criterion.mean().droplevel(1)\n",
    "\n",
    "    temp = course_to_criterion_mean.reset_index()\n",
    "    temp[\"index\"] = categories\n",
    "    category_to_criterion_mean = temp.groupby(\"index\").mean()[0]\n",
    "\n",
    "    return course_to_criterion.apply(lambda x: scores_to_bayesian_mean(x, category_to_criterion_mean)).droplevel(1)\n",
    "\n",
    "def scores_to_bayesian_mean(scores, category_to_criterion_mean, category_weight_portion=1):\n",
    "    \"\"\"\n",
    "    scores: Series of scores with Name formatted like this (Course, _)\n",
    "    category_to_criterion_mean: category_to_criterion_mean\n",
    "    category_weight_portion: the portion of scores category average is weighted at. e.g. 1 means its just as weighty as scores, 2 means half as weighty\n",
    "    returns bayesian estimation of mean of scores, given its category\n",
    "    \"\"\"\n",
    "    scores = scores.dropna()\n",
    "    category_mean_series = pd.Series({\"\": category_to_criterion_mean[course_to_category(scores.name[0]).item(0)]})\n",
    "    weights = [max(len(scores) // category_weight_portion, 1)] + [1] * len(scores)\n",
    "    normalized_weights = weights/np.linalg.norm(weights)\n",
    "    return np.average(scores.append(category_mean_series), weights=normalized_weights)"
   ]
  },
  {
   "cell_type": "code",
   "execution_count": 440,
   "metadata": {},
   "outputs": [
    {
     "data": {
      "application/vnd.plotly.v1+json": {
       "config": {
        "plotlyServerURL": "https://plot.ly"
       },
       "data": [
        {
         "hovertemplate": "color=Humanities<br>symbol=Humanities<br>index=%{x}<br>value=%{y}<extra></extra>",
         "legendgroup": "Humanities, Humanities",
         "marker": {
          "color": "#636efa",
          "symbol": "circle"
         },
         "mode": "markers",
         "name": "Humanities",
         "orientation": "v",
         "showlegend": true,
         "type": "scatter",
         "x": [
          "ENGLISH100",
          "ARB100",
          "TECH101",
          "ENTREPRENEUR101",
          "FAJAB101",
          "NAHAJ101",
          "ENGLISH110"
         ],
         "xaxis": "x",
         "y": [
          4.388369236583521,
          1.9369153911564625,
          3.4993318756073855,
          1.7850461613216715,
          1.7492205215419505,
          2.499331875607386,
          4.285046161321671
         ],
         "yaxis": "y"
        },
        {
         "hovertemplate": "color=Mathematics<br>symbol=Mathematics<br>index=%{x}<br>value=%{y}<extra></extra>",
         "legendgroup": "Mathematics, Mathematics",
         "marker": {
          "color": "#EF553B",
          "symbol": "diamond"
         },
         "mode": "markers",
         "name": "Mathematics",
         "orientation": "v",
         "showlegend": true,
         "type": "scatter",
         "x": [
          "MATH101",
          "STAT101",
          "MATH106",
          "MATH151",
          "MATH244",
          "MATH281"
         ],
         "xaxis": "x",
         "y": [
          4.3132440476190474,
          4.715136054421769,
          3.1257440476190474,
          4.3132440476190474,
          4.41765873015873,
          3.1676587301587316
         ],
         "yaxis": "y"
        },
        {
         "hovertemplate": "color=Chemistry<br>symbol=Chemistry<br>index=%{x}<br>value=%{y}<extra></extra>",
         "legendgroup": "Chemistry, Chemistry",
         "marker": {
          "color": "#00cc96",
          "symbol": "square"
         },
         "mode": "markers",
         "name": "Chemistry",
         "orientation": "v",
         "showlegend": true,
         "type": "scatter",
         "x": [
          "CHEM101",
          "CHEM103"
         ],
         "xaxis": "x",
         "y": [
          1.5357142857142858,
          1.25
         ],
         "yaxis": "y"
        },
        {
         "hovertemplate": "color=Islamics<br>symbol=Islamics<br>index=%{x}<br>value=%{y}<extra></extra>",
         "legendgroup": "Islamics, Islamics",
         "marker": {
          "color": "#ab63fa",
          "symbol": "x"
         },
         "mode": "markers",
         "name": "Islamics",
         "orientation": "v",
         "showlegend": true,
         "type": "scatter",
         "x": [
          "SALAM107",
          "SALAM108"
         ],
         "xaxis": "x",
         "y": [
          2.0234693877551018,
          1.532857142857143
         ],
         "yaxis": "y"
        },
        {
         "hovertemplate": "color=Physics<br>symbol=Physics<br>index=%{x}<br>value=%{y}<extra></extra>",
         "legendgroup": "Physics, Physics",
         "marker": {
          "color": "#FFA15A",
          "symbol": "cross"
         },
         "mode": "markers",
         "name": "Physics",
         "orientation": "v",
         "showlegend": true,
         "type": "scatter",
         "x": [
          "PHYS104",
          "PHYS210",
          "PHYS103"
         ],
         "xaxis": "x",
         "y": [
          2.467687074829932,
          1.2738095238095237,
          2.0684523809523814
         ],
         "yaxis": "y"
        },
        {
         "hovertemplate": "color=Computer science<br>symbol=Computer science<br>index=%{x}<br>value=%{y}<extra></extra>",
         "legendgroup": "Computer science, Computer science",
         "marker": {
          "color": "#19d3f3",
          "symbol": "circle"
         },
         "mode": "markers",
         "name": "Computer science",
         "orientation": "v",
         "showlegend": true,
         "type": "scatter",
         "x": [
          "CSC111",
          "CSC113",
          "CSC220",
          "CSC212",
          "CSC215",
          "CSC304",
          "CSC380",
          "CSC227",
          "CSC311",
          "CSC339",
          "CSC343",
          "CSC361",
          "CSC329",
          "CSC340",
          "CSC453",
          "CSC496",
          "CSC443",
          "CSC462",
          "CSC476",
          "CSC478",
          "CSC484",
          "CSC489"
         ],
         "xaxis": "x",
         "y": [
          4.716528003246753,
          3.176032003710575,
          3.946444805194805,
          4.288704004329004,
          4.683056006493507,
          1.6220373376623378,
          4.346444805194805,
          3.7464448051948054,
          4.346444805194805,
          1.7464448051948052,
          3.1464448051948053,
          3.5464448051948048,
          4.746444805194805,
          2.5464448051948048,
          3.446444805194805,
          4.558056006493507,
          2.616112012987013,
          4.846444805194805,
          3.2322240259740256,
          2.7322240259740256,
          2.7322240259740256,
          2.2322240259740256
         ],
         "yaxis": "y"
        },
        {
         "hovertemplate": "color=Humanities<br>symbol=Humanities<br>index=%{x}<br>value=%{y}<extra></extra>",
         "legendgroup": "Humanities, Humanities",
         "marker": {
          "color": "#636efa",
          "symbol": "circle"
         },
         "mode": "markers",
         "name": "Humanities",
         "orientation": "v",
         "showlegend": false,
         "type": "scatter",
         "x": [
          "ENGLISH100",
          "ARB100",
          "TECH101",
          "ENTREPRENEUR101",
          "FAJAB101",
          "NAHAJ101",
          "ENGLISH110"
         ],
         "xaxis": "x2",
         "y": [
          4.537367724867724,
          2.6670386904761902,
          2.3337585034013606,
          1.4766156462585034,
          2.0560515873015874,
          1.6909013605442178,
          3.2623299319727894
         ],
         "yaxis": "y2"
        },
        {
         "hovertemplate": "color=Mathematics<br>symbol=Mathematics<br>index=%{x}<br>value=%{y}<extra></extra>",
         "legendgroup": "Mathematics, Mathematics",
         "marker": {
          "color": "#EF553B",
          "symbol": "diamond"
         },
         "mode": "markers",
         "name": "Mathematics",
         "orientation": "v",
         "showlegend": false,
         "type": "scatter",
         "x": [
          "MATH101",
          "STAT101",
          "MATH106",
          "MATH151",
          "MATH244",
          "MATH281"
         ],
         "xaxis": "x2",
         "y": [
          4.5786210317460325,
          4.804138321995465,
          4.2661210317460325,
          4.766121031746032,
          4.438161375661375,
          4.604828042328042
         ],
         "yaxis": "y2"
        },
        {
         "hovertemplate": "color=Chemistry<br>symbol=Chemistry<br>index=%{x}<br>value=%{y}<extra></extra>",
         "legendgroup": "Chemistry, Chemistry",
         "marker": {
          "color": "#00cc96",
          "symbol": "square"
         },
         "mode": "markers",
         "name": "Chemistry",
         "orientation": "v",
         "showlegend": false,
         "type": "scatter",
         "x": [
          "CHEM101",
          "CHEM103"
         ],
         "xaxis": "x2",
         "y": [
          3.0510204081632653,
          1.3571428571428572
         ],
         "yaxis": "y2"
        },
        {
         "hovertemplate": "color=Islamics<br>symbol=Islamics<br>index=%{x}<br>value=%{y}<extra></extra>",
         "legendgroup": "Islamics, Islamics",
         "marker": {
          "color": "#ab63fa",
          "symbol": "x"
         },
         "mode": "markers",
         "name": "Islamics",
         "orientation": "v",
         "showlegend": false,
         "type": "scatter",
         "x": [
          "SALAM107",
          "SALAM108"
         ],
         "xaxis": "x2",
         "y": [
          4.156122448979592,
          3.718571428571429
         ],
         "yaxis": "y2"
        },
        {
         "hovertemplate": "color=Physics<br>symbol=Physics<br>index=%{x}<br>value=%{y}<extra></extra>",
         "legendgroup": "Physics, Physics",
         "marker": {
          "color": "#FFA15A",
          "symbol": "cross"
         },
         "mode": "markers",
         "name": "Physics",
         "orientation": "v",
         "showlegend": false,
         "type": "scatter",
         "x": [
          "PHYS104",
          "PHYS210",
          "PHYS103"
         ],
         "xaxis": "x2",
         "y": [
          3.4115646258503403,
          1.380952380952381,
          3.095238095238096
         ],
         "yaxis": "y2"
        },
        {
         "hovertemplate": "color=Computer science<br>symbol=Computer science<br>index=%{x}<br>value=%{y}<extra></extra>",
         "legendgroup": "Computer science, Computer science",
         "marker": {
          "color": "#19d3f3",
          "symbol": "circle"
         },
         "mode": "markers",
         "name": "Computer science",
         "orientation": "v",
         "showlegend": false,
         "type": "scatter",
         "x": [
          "CSC111",
          "CSC113",
          "CSC220",
          "CSC212",
          "CSC215",
          "CSC304",
          "CSC380",
          "CSC227",
          "CSC311",
          "CSC339",
          "CSC343",
          "CSC361",
          "CSC329",
          "CSC340",
          "CSC453",
          "CSC496",
          "CSC443",
          "CSC462",
          "CSC476",
          "CSC478",
          "CSC484",
          "CSC489"
         ],
         "xaxis": "x2",
         "y": [
          3.4677996482683984,
          3.034628169449598,
          4.048479437229438,
          3.7903995310245313,
          3.9355992965367963,
          3.123732864357865,
          2.3484794372294373,
          3.248479437229437,
          4.848479437229438,
          4.148479437229438,
          2.648479437229437,
          3.6484794372294376,
          4.848479437229438,
          3.3484794372294373,
          2.2484794372294377,
          4.560599296536797,
          3.121198593073593,
          4.748479437229438,
          2.7423971861471865,
          3.242397186147186,
          2.7423971861471865,
          3.242397186147186
         ],
         "yaxis": "y2"
        },
        {
         "hovertemplate": "color=Humanities<br>symbol=Humanities<br>index=%{x}<br>value=%{y}<extra></extra>",
         "legendgroup": "Humanities, Humanities",
         "marker": {
          "color": "#636efa",
          "symbol": "circle"
         },
         "mode": "markers",
         "name": "Humanities",
         "orientation": "v",
         "showlegend": false,
         "type": "scatter",
         "x": [
          "ENGLISH100",
          "ARB100",
          "TECH101",
          "ENTREPRENEUR101",
          "FAJAB101",
          "NAHAJ101",
          "ENGLISH110"
         ],
         "xaxis": "x3",
         "y": [
          2.234205719324767,
          1.7634814342403629,
          1.729693067703272,
          1.586835924846129,
          1.5179752456538174,
          1.6582644962747004,
          1.8011216391318432
         ],
         "yaxis": "y3"
        },
        {
         "hovertemplate": "color=Mathematics<br>symbol=Mathematics<br>index=%{x}<br>value=%{y}<extra></extra>",
         "legendgroup": "Mathematics, Mathematics",
         "marker": {
          "color": "#EF553B",
          "symbol": "diamond"
         },
         "mode": "markers",
         "name": "Mathematics",
         "orientation": "v",
         "showlegend": false,
         "type": "scatter",
         "x": [
          "MATH101",
          "STAT101",
          "MATH106",
          "MATH151",
          "MATH244",
          "MATH281"
         ],
         "xaxis": "x3",
         "y": [
          4.170758928571428,
          4.052295918367347,
          2.983258928571429,
          4.170758928571429,
          3.6443452380952386,
          3.6443452380952386
         ],
         "yaxis": "y3"
        },
        {
         "hovertemplate": "color=Chemistry<br>symbol=Chemistry<br>index=%{x}<br>value=%{y}<extra></extra>",
         "legendgroup": "Chemistry, Chemistry",
         "marker": {
          "color": "#00cc96",
          "symbol": "square"
         },
         "mode": "markers",
         "name": "Chemistry",
         "orientation": "v",
         "showlegend": false,
         "type": "scatter",
         "x": [
          "CHEM101",
          "CHEM103"
         ],
         "xaxis": "x3",
         "y": [
          1.38265306122449,
          1.1785714285714286
         ],
         "yaxis": "y3"
        },
        {
         "hovertemplate": "color=Islamics<br>symbol=Islamics<br>index=%{x}<br>value=%{y}<extra></extra>",
         "legendgroup": "Islamics, Islamics",
         "marker": {
          "color": "#ab63fa",
          "symbol": "x"
         },
         "mode": "markers",
         "name": "Islamics",
         "orientation": "v",
         "showlegend": false,
         "type": "scatter",
         "x": [
          "SALAM107",
          "SALAM108"
         ],
         "xaxis": "x3",
         "y": [
          2.092857142857143,
          1.43
         ],
         "yaxis": "y3"
        },
        {
         "hovertemplate": "color=Physics<br>symbol=Physics<br>index=%{x}<br>value=%{y}<extra></extra>",
         "legendgroup": "Physics, Physics",
         "marker": {
          "color": "#FFA15A",
          "symbol": "cross"
         },
         "mode": "markers",
         "name": "Physics",
         "orientation": "v",
         "showlegend": false,
         "type": "scatter",
         "x": [
          "PHYS104",
          "PHYS210",
          "PHYS103"
         ],
         "xaxis": "x3",
         "y": [
          2.4107142857142856,
          1.375,
          2.09375
         ],
         "yaxis": "y3"
        },
        {
         "hovertemplate": "color=Computer science<br>symbol=Computer science<br>index=%{x}<br>value=%{y}<extra></extra>",
         "legendgroup": "Computer science, Computer science",
         "marker": {
          "color": "#19d3f3",
          "symbol": "circle"
         },
         "mode": "markers",
         "name": "Computer science",
         "orientation": "v",
         "showlegend": false,
         "type": "scatter",
         "x": [
          "CSC111",
          "CSC113",
          "CSC220",
          "CSC212",
          "CSC215",
          "CSC304",
          "CSC380",
          "CSC227",
          "CSC311",
          "CSC339",
          "CSC343",
          "CSC361",
          "CSC329",
          "CSC340",
          "CSC453",
          "CSC496",
          "CSC443",
          "CSC462",
          "CSC476",
          "CSC478",
          "CSC484",
          "CSC489"
         ],
         "xaxis": "x3",
         "y": [
          3.583756087662337,
          2.5957212430426715,
          4.23400974025974,
          4.778341450216451,
          4.042512175324675,
          2.0283414502164505,
          3.634009740259741,
          3.5340097402597404,
          4.334009740259741,
          3.8340097402597406,
          2.4340097402597407,
          3.4340097402597407,
          4.834009740259741,
          3.4340097402597407,
          3.534009740259741,
          3.7925121753246755,
          2.33502435064935,
          4.234009740259741,
          2.6700487012987013,
          2.6700487012987013,
          2.1700487012987013,
          2.1700487012987013
         ],
         "yaxis": "y3"
        },
        {
         "hovertemplate": "color=Humanities<br>symbol=Humanities<br>index=%{x}<br>value=%{y}<extra></extra>",
         "legendgroup": "Humanities, Humanities",
         "marker": {
          "color": "#636efa",
          "symbol": "circle"
         },
         "mode": "markers",
         "name": "Humanities",
         "orientation": "v",
         "showlegend": false,
         "type": "scatter",
         "x": [
          "ENGLISH100",
          "ARB100",
          "TECH101",
          "ENTREPRENEUR101",
          "FAJAB101",
          "NAHAJ101",
          "ENGLISH110"
         ],
         "xaxis": "x4",
         "y": [
          2.1163076341647766,
          2.255846088435374,
          2.2209669582118563,
          1.9352526724975705,
          2.5077947845804993,
          4.220966958211856,
          2.2209669582118563
         ],
         "yaxis": "y4"
        },
        {
         "hovertemplate": "color=Mathematics<br>symbol=Mathematics<br>index=%{x}<br>value=%{y}<extra></extra>",
         "legendgroup": "Mathematics, Mathematics",
         "marker": {
          "color": "#EF553B",
          "symbol": "diamond"
         },
         "mode": "markers",
         "name": "Mathematics",
         "orientation": "v",
         "showlegend": false,
         "type": "scatter",
         "x": [
          "MATH101",
          "STAT101",
          "MATH106",
          "MATH151",
          "MATH244",
          "MATH281"
         ],
         "xaxis": "x4",
         "y": [
          4.297371031746032,
          3.839852607709751,
          3.1098710317460316,
          4.047371031746032,
          3.3131613756613763,
          4.563161375661375
         ],
         "yaxis": "y4"
        },
        {
         "hovertemplate": "color=Chemistry<br>symbol=Chemistry<br>index=%{x}<br>value=%{y}<extra></extra>",
         "legendgroup": "Chemistry, Chemistry",
         "marker": {
          "color": "#00cc96",
          "symbol": "square"
         },
         "mode": "markers",
         "name": "Chemistry",
         "orientation": "v",
         "showlegend": false,
         "type": "scatter",
         "x": [
          "CHEM101",
          "CHEM103"
         ],
         "xaxis": "x4",
         "y": [
          1.9642857142857144,
          1.25
         ],
         "yaxis": "y4"
        },
        {
         "hovertemplate": "color=Islamics<br>symbol=Islamics<br>index=%{x}<br>value=%{y}<extra></extra>",
         "legendgroup": "Islamics, Islamics",
         "marker": {
          "color": "#ab63fa",
          "symbol": "x"
         },
         "mode": "markers",
         "name": "Islamics",
         "orientation": "v",
         "showlegend": false,
         "type": "scatter",
         "x": [
          "SALAM107",
          "SALAM108"
         ],
         "xaxis": "x4",
         "y": [
          2.48265306122449,
          1.5757142857142858
         ],
         "yaxis": "y4"
        },
        {
         "hovertemplate": "color=Physics<br>symbol=Physics<br>index=%{x}<br>value=%{y}<extra></extra>",
         "legendgroup": "Physics, Physics",
         "marker": {
          "color": "#FFA15A",
          "symbol": "cross"
         },
         "mode": "markers",
         "name": "Physics",
         "orientation": "v",
         "showlegend": false,
         "type": "scatter",
         "x": [
          "PHYS104",
          "PHYS210",
          "PHYS103"
         ],
         "xaxis": "x4",
         "y": [
          1.931122448979592,
          1.517857142857143,
          3.379464285714286
         ],
         "yaxis": "y4"
        },
        {
         "hovertemplate": "color=Computer science<br>symbol=Computer science<br>index=%{x}<br>value=%{y}<extra></extra>",
         "legendgroup": "Computer science, Computer science",
         "marker": {
          "color": "#19d3f3",
          "symbol": "circle"
         },
         "mode": "markers",
         "name": "Computer science",
         "orientation": "v",
         "showlegend": false,
         "type": "scatter",
         "x": [
          "CSC111",
          "CSC113",
          "CSC220",
          "CSC212",
          "CSC215",
          "CSC304",
          "CSC380",
          "CSC227",
          "CSC311",
          "CSC339",
          "CSC343",
          "CSC361",
          "CSC329",
          "CSC340",
          "CSC453",
          "CSC496",
          "CSC443",
          "CSC462",
          "CSC476",
          "CSC478",
          "CSC484",
          "CSC489"
         ],
         "xaxis": "x4",
         "y": [
          4.9069940476190474,
          3.7508503401360547,
          3.8511904761904767,
          4.875992063492063,
          4.063988095238096,
          2.5426587301587307,
          2.8511904761904763,
          2.5511904761904765,
          4.851190476190476,
          4.251190476190477,
          1.7511904761904757,
          4.151190476190476,
          4.751190476190477,
          3.9511904761904764,
          2.751190476190476,
          3.8139880952380953,
          2.1279761904761902,
          4.351190476190476,
          3.2559523809523805,
          2.7559523809523805,
          2.2559523809523805,
          2.7559523809523805
         ],
         "yaxis": "y4"
        },
        {
         "hovertemplate": "color=Humanities<br>symbol=Humanities<br>index=%{x}<br>value=%{y}<extra></extra>",
         "legendgroup": "Humanities, Humanities",
         "marker": {
          "color": "#636efa",
          "symbol": "circle"
         },
         "mode": "markers",
         "name": "Humanities",
         "orientation": "v",
         "showlegend": false,
         "type": "scatter",
         "x": [
          "ENGLISH100",
          "ARB100",
          "TECH101",
          "ENTREPRENEUR101",
          "FAJAB101",
          "NAHAJ101",
          "ENGLISH110"
         ],
         "xaxis": "x5",
         "y": [
          4.720206601158982,
          2.8727324263038554,
          4.497408487204406,
          3.2831227729186914,
          3.9136432350718064,
          3.925979915775834,
          4.640265630061548
         ],
         "yaxis": "y5"
        },
        {
         "hovertemplate": "color=Mathematics<br>symbol=Mathematics<br>index=%{x}<br>value=%{y}<extra></extra>",
         "legendgroup": "Mathematics, Mathematics",
         "marker": {
          "color": "#EF553B",
          "symbol": "diamond"
         },
         "mode": "markers",
         "name": "Mathematics",
         "orientation": "v",
         "showlegend": false,
         "type": "scatter",
         "x": [
          "MATH101",
          "STAT101",
          "MATH106",
          "MATH151",
          "MATH244",
          "MATH281"
         ],
         "xaxis": "x5",
         "y": [
          2.6422991071428568,
          2.7340561224489797,
          2.017299107142857,
          3.954799107142857,
          2.1063988095238098,
          3.3563988095238098
         ],
         "yaxis": "y5"
        },
        {
         "hovertemplate": "color=Chemistry<br>symbol=Chemistry<br>index=%{x}<br>value=%{y}<extra></extra>",
         "legendgroup": "Chemistry, Chemistry",
         "marker": {
          "color": "#00cc96",
          "symbol": "square"
         },
         "mode": "markers",
         "name": "Chemistry",
         "orientation": "v",
         "showlegend": false,
         "type": "scatter",
         "x": [
          "CHEM101",
          "CHEM103"
         ],
         "xaxis": "x5",
         "y": [
          2.11734693877551,
          1.3214285714285714
         ],
         "yaxis": "y5"
        },
        {
         "hovertemplate": "color=Islamics<br>symbol=Islamics<br>index=%{x}<br>value=%{y}<extra></extra>",
         "legendgroup": "Islamics, Islamics",
         "marker": {
          "color": "#ab63fa",
          "symbol": "x"
         },
         "mode": "markers",
         "name": "Islamics",
         "orientation": "v",
         "showlegend": false,
         "type": "scatter",
         "x": [
          "SALAM107",
          "SALAM108"
         ],
         "xaxis": "x5",
         "y": [
          3.870408163265306,
          3.9185714285714286
         ],
         "yaxis": "y5"
        },
        {
         "hovertemplate": "color=Physics<br>symbol=Physics<br>index=%{x}<br>value=%{y}<extra></extra>",
         "legendgroup": "Physics, Physics",
         "marker": {
          "color": "#FFA15A",
          "symbol": "cross"
         },
         "mode": "markers",
         "name": "Physics",
         "orientation": "v",
         "showlegend": false,
         "type": "scatter",
         "x": [
          "PHYS104",
          "PHYS210",
          "PHYS103"
         ],
         "xaxis": "x5",
         "y": [
          1.8265306122448979,
          1.2857142857142858,
          1.5714285714285714
         ],
         "yaxis": "y5"
        },
        {
         "hovertemplate": "color=Computer science<br>symbol=Computer science<br>index=%{x}<br>value=%{y}<extra></extra>",
         "legendgroup": "Computer science, Computer science",
         "marker": {
          "color": "#19d3f3",
          "symbol": "circle"
         },
         "mode": "markers",
         "name": "Computer science",
         "orientation": "v",
         "showlegend": false,
         "type": "scatter",
         "x": [
          "CSC111",
          "CSC113",
          "CSC220",
          "CSC212",
          "CSC215",
          "CSC304",
          "CSC380",
          "CSC227",
          "CSC311",
          "CSC339",
          "CSC343",
          "CSC361",
          "CSC329",
          "CSC340",
          "CSC453",
          "CSC496",
          "CSC443",
          "CSC462",
          "CSC476",
          "CSC478",
          "CSC484",
          "CSC489"
         ],
         "xaxis": "x5",
         "y": [
          4.270058847402598,
          4.094352968460112,
          2.6320941558441557,
          3.2767451298701302,
          2.6651176948051947,
          4.193411796536797,
          3.1320941558441566,
          3.2320941558441563,
          3.1320941558441566,
          3.2320941558441567,
          2.432094155844156,
          2.732094155844156,
          3.532094155844156,
          2.732094155844156,
          3.2320941558441563,
          2.1651176948051947,
          4.080235389610389,
          3.2320941558441563,
          2.660470779220779,
          3.1604707792207796,
          2.160470779220779,
          2.660470779220779
         ],
         "yaxis": "y5"
        },
        {
         "hovertemplate": "color=Humanities<br>symbol=Humanities<br>index=%{x}<br>value=%{y}<extra></extra>",
         "legendgroup": "Humanities, Humanities",
         "marker": {
          "color": "#636efa",
          "symbol": "circle"
         },
         "mode": "markers",
         "name": "Humanities",
         "orientation": "v",
         "showlegend": false,
         "type": "scatter",
         "x": [
          "ENGLISH100",
          "ARB100",
          "TECH101",
          "ENTREPRENEUR101",
          "FAJAB101",
          "NAHAJ101",
          "ENGLISH110"
         ],
         "xaxis": "x7",
         "y": [
          5,
          3,
          3,
          2,
          1.5,
          3,
          4
         ],
         "yaxis": "y7"
        },
        {
         "hovertemplate": "color=Mathematics<br>symbol=Mathematics<br>index=%{x}<br>value=%{y}<extra></extra>",
         "legendgroup": "Mathematics, Mathematics",
         "marker": {
          "color": "#EF553B",
          "symbol": "diamond"
         },
         "mode": "markers",
         "name": "Mathematics",
         "orientation": "v",
         "showlegend": false,
         "type": "scatter",
         "x": [
          "MATH101",
          "STAT101",
          "MATH106",
          "MATH151",
          "MATH244",
          "MATH281"
         ],
         "xaxis": "x7",
         "y": [
          3.5,
          5,
          3,
          5,
          4.5,
          4.5
         ],
         "yaxis": "y7"
        },
        {
         "hovertemplate": "color=Chemistry<br>symbol=Chemistry<br>index=%{x}<br>value=%{y}<extra></extra>",
         "legendgroup": "Chemistry, Chemistry",
         "marker": {
          "color": "#00cc96",
          "symbol": "square"
         },
         "mode": "markers",
         "name": "Chemistry",
         "orientation": "v",
         "showlegend": false,
         "type": "scatter",
         "x": [
          "CHEM101",
          "CHEM103"
         ],
         "xaxis": "x7",
         "y": [
          1,
          1
         ],
         "yaxis": "y7"
        },
        {
         "hovertemplate": "color=Islamics<br>symbol=Islamics<br>index=%{x}<br>value=%{y}<extra></extra>",
         "legendgroup": "Islamics, Islamics",
         "marker": {
          "color": "#ab63fa",
          "symbol": "x"
         },
         "mode": "markers",
         "name": "Islamics",
         "orientation": "v",
         "showlegend": false,
         "type": "scatter",
         "x": [
          "SALAM107",
          "SALAM108"
         ],
         "xaxis": "x7",
         "y": [
          2,
          1
         ],
         "yaxis": "y7"
        },
        {
         "hovertemplate": "color=Physics<br>symbol=Physics<br>index=%{x}<br>value=%{y}<extra></extra>",
         "legendgroup": "Physics, Physics",
         "marker": {
          "color": "#FFA15A",
          "symbol": "cross"
         },
         "mode": "markers",
         "name": "Physics",
         "orientation": "v",
         "showlegend": false,
         "type": "scatter",
         "x": [
          "PHYS104",
          "PHYS210",
          "PHYS103"
         ],
         "xaxis": "x7",
         "y": [
          2,
          1,
          1
         ],
         "yaxis": "y7"
        },
        {
         "hovertemplate": "color=Computer science<br>symbol=Computer science<br>index=%{x}<br>value=%{y}<extra></extra>",
         "legendgroup": "Computer science, Computer science",
         "marker": {
          "color": "#19d3f3",
          "symbol": "circle"
         },
         "mode": "markers",
         "name": "Computer science",
         "orientation": "v",
         "showlegend": false,
         "type": "scatter",
         "x": [
          "CSC111",
          "CSC113",
          "CSC220",
          "CSC212",
          "CSC215",
          "CSC304",
          "CSC380",
          "CSC227",
          "CSC311",
          "CSC339",
          "CSC343",
          "CSC361",
          "CSC329",
          "CSC340",
          "CSC453",
          "CSC496",
          "CSC443",
          "CSC462",
          "CSC476",
          "CSC478",
          "CSC484",
          "CSC489"
         ],
         "xaxis": "x7",
         "y": [
          5,
          5,
          3,
          5,
          5,
          1,
          5,
          3,
          5,
          1,
          3,
          5,
          5,
          2,
          4,
          5,
          2.5,
          5,
          3,
          2,
          2,
          1
         ],
         "yaxis": "y7"
        },
        {
         "hovertemplate": "color=Humanities<br>symbol=Humanities<br>index=%{x}<br>value=%{y}<extra></extra>",
         "legendgroup": "Humanities, Humanities",
         "marker": {
          "color": "#636efa",
          "symbol": "circle"
         },
         "mode": "markers",
         "name": "Humanities",
         "orientation": "v",
         "showlegend": false,
         "type": "scatter",
         "x": [
          "ENGLISH100",
          "ARB100",
          "TECH101",
          "ENTREPRENEUR101",
          "FAJAB101",
          "NAHAJ101",
          "ENGLISH110"
         ],
         "xaxis": "x8",
         "y": [
          5,
          2.5,
          3,
          1,
          2,
          2,
          4
         ],
         "yaxis": "y8"
        },
        {
         "hovertemplate": "color=Mathematics<br>symbol=Mathematics<br>index=%{x}<br>value=%{y}<extra></extra>",
         "legendgroup": "Mathematics, Mathematics",
         "marker": {
          "color": "#EF553B",
          "symbol": "diamond"
         },
         "mode": "markers",
         "name": "Mathematics",
         "orientation": "v",
         "showlegend": false,
         "type": "scatter",
         "x": [
          "MATH101",
          "STAT101",
          "MATH106",
          "MATH151",
          "MATH244",
          "MATH281"
         ],
         "xaxis": "x8",
         "y": [
          4.5,
          5,
          4,
          5,
          4.5,
          4.5
         ],
         "yaxis": "y8"
        },
        {
         "hovertemplate": "color=Chemistry<br>symbol=Chemistry<br>index=%{x}<br>value=%{y}<extra></extra>",
         "legendgroup": "Chemistry, Chemistry",
         "marker": {
          "color": "#00cc96",
          "symbol": "square"
         },
         "mode": "markers",
         "name": "Chemistry",
         "orientation": "v",
         "showlegend": false,
         "type": "scatter",
         "x": [
          "CHEM101",
          "CHEM103"
         ],
         "xaxis": "x8",
         "y": [
          2,
          1
         ],
         "yaxis": "y8"
        },
        {
         "hovertemplate": "color=Islamics<br>symbol=Islamics<br>index=%{x}<br>value=%{y}<extra></extra>",
         "legendgroup": "Islamics, Islamics",
         "marker": {
          "color": "#ab63fa",
          "symbol": "x"
         },
         "mode": "markers",
         "name": "Islamics",
         "orientation": "v",
         "showlegend": false,
         "type": "scatter",
         "x": [
          "SALAM107",
          "SALAM108"
         ],
         "xaxis": "x8",
         "y": [
          4,
          2
         ],
         "yaxis": "y8"
        },
        {
         "hovertemplate": "color=Physics<br>symbol=Physics<br>index=%{x}<br>value=%{y}<extra></extra>",
         "legendgroup": "Physics, Physics",
         "marker": {
          "color": "#FFA15A",
          "symbol": "cross"
         },
         "mode": "markers",
         "name": "Physics",
         "orientation": "v",
         "showlegend": false,
         "type": "scatter",
         "x": [
          "PHYS104",
          "PHYS210",
          "PHYS103"
         ],
         "xaxis": "x8",
         "y": [
          2,
          1,
          1
         ],
         "yaxis": "y8"
        },
        {
         "hovertemplate": "color=Computer science<br>symbol=Computer science<br>index=%{x}<br>value=%{y}<extra></extra>",
         "legendgroup": "Computer science, Computer science",
         "marker": {
          "color": "#19d3f3",
          "symbol": "circle"
         },
         "mode": "markers",
         "name": "Computer science",
         "orientation": "v",
         "showlegend": false,
         "type": "scatter",
         "x": [
          "CSC111",
          "CSC113",
          "CSC220",
          "CSC212",
          "CSC215",
          "CSC304",
          "CSC380",
          "CSC227",
          "CSC311",
          "CSC339",
          "CSC343",
          "CSC361",
          "CSC329",
          "CSC340",
          "CSC453",
          "CSC496",
          "CSC443",
          "CSC462",
          "CSC476",
          "CSC478",
          "CSC484",
          "CSC489"
         ],
         "xaxis": "x8",
         "y": [
          4,
          4,
          4,
          5,
          4,
          1.5,
          4,
          3,
          5,
          4,
          3,
          4,
          5,
          4,
          2,
          5,
          3,
          5,
          2,
          3,
          2,
          3
         ],
         "yaxis": "y8"
        },
        {
         "hovertemplate": "color=Humanities<br>symbol=Humanities<br>index=%{x}<br>value=%{y}<extra></extra>",
         "legendgroup": "Humanities, Humanities",
         "marker": {
          "color": "#636efa",
          "symbol": "circle"
         },
         "mode": "markers",
         "name": "Humanities",
         "orientation": "v",
         "showlegend": false,
         "type": "scatter",
         "x": [
          "ENGLISH100",
          "ARB100",
          "TECH101",
          "ENTREPRENEUR101",
          "FAJAB101",
          "NAHAJ101",
          "ENGLISH110"
         ],
         "xaxis": "x9",
         "y": [
          2,
          2,
          2,
          2,
          1,
          2,
          2
         ],
         "yaxis": "y9"
        },
        {
         "hovertemplate": "color=Mathematics<br>symbol=Mathematics<br>index=%{x}<br>value=%{y}<extra></extra>",
         "legendgroup": "Mathematics, Mathematics",
         "marker": {
          "color": "#EF553B",
          "symbol": "diamond"
         },
         "mode": "markers",
         "name": "Mathematics",
         "orientation": "v",
         "showlegend": false,
         "type": "scatter",
         "x": [
          "MATH101",
          "STAT101",
          "MATH106",
          "MATH151",
          "MATH244",
          "MATH281"
         ],
         "xaxis": "x9",
         "y": [
          3.5,
          4,
          3,
          5,
          3.5,
          4.5
         ],
         "yaxis": "y9"
        },
        {
         "hovertemplate": "color=Chemistry<br>symbol=Chemistry<br>index=%{x}<br>value=%{y}<extra></extra>",
         "legendgroup": "Chemistry, Chemistry",
         "marker": {
          "color": "#00cc96",
          "symbol": "square"
         },
         "mode": "markers",
         "name": "Chemistry",
         "orientation": "v",
         "showlegend": false,
         "type": "scatter",
         "x": [
          "CHEM101",
          "CHEM103"
         ],
         "xaxis": "x9",
         "y": [
          1,
          1
         ],
         "yaxis": "y9"
        },
        {
         "hovertemplate": "color=Islamics<br>symbol=Islamics<br>index=%{x}<br>value=%{y}<extra></extra>",
         "legendgroup": "Islamics, Islamics",
         "marker": {
          "color": "#ab63fa",
          "symbol": "x"
         },
         "mode": "markers",
         "name": "Islamics",
         "orientation": "v",
         "showlegend": false,
         "type": "scatter",
         "x": [
          "SALAM107",
          "SALAM108"
         ],
         "xaxis": "x9",
         "y": [
          3,
          1
         ],
         "yaxis": "y9"
        },
        {
         "hovertemplate": "color=Physics<br>symbol=Physics<br>index=%{x}<br>value=%{y}<extra></extra>",
         "legendgroup": "Physics, Physics",
         "marker": {
          "color": "#FFA15A",
          "symbol": "cross"
         },
         "mode": "markers",
         "name": "Physics",
         "orientation": "v",
         "showlegend": false,
         "type": "scatter",
         "x": [
          "PHYS104",
          "PHYS210",
          "PHYS103"
         ],
         "xaxis": "x9",
         "y": [
          2,
          1,
          2
         ],
         "yaxis": "y9"
        },
        {
         "hovertemplate": "color=Computer science<br>symbol=Computer science<br>index=%{x}<br>value=%{y}<extra></extra>",
         "legendgroup": "Computer science, Computer science",
         "marker": {
          "color": "#19d3f3",
          "symbol": "circle"
         },
         "mode": "markers",
         "name": "Computer science",
         "orientation": "v",
         "showlegend": false,
         "type": "scatter",
         "x": [
          "CSC111",
          "CSC113",
          "CSC220",
          "CSC212",
          "CSC215",
          "CSC304",
          "CSC380",
          "CSC227",
          "CSC311",
          "CSC339",
          "CSC343",
          "CSC361",
          "CSC329",
          "CSC340",
          "CSC453",
          "CSC496",
          "CSC443",
          "CSC462",
          "CSC476",
          "CSC478",
          "CSC484",
          "CSC489"
         ],
         "xaxis": "x9",
         "y": [
          4.5,
          5,
          4,
          5,
          4.5,
          2,
          4,
          3,
          5,
          4,
          3,
          4,
          5,
          5,
          3,
          3.5,
          2,
          5,
          2,
          2,
          1,
          1
         ],
         "yaxis": "y9"
        },
        {
         "hovertemplate": "color=Humanities<br>symbol=Humanities<br>index=%{x}<br>value=%{y}<extra></extra>",
         "legendgroup": "Humanities, Humanities",
         "marker": {
          "color": "#636efa",
          "symbol": "circle"
         },
         "mode": "markers",
         "name": "Humanities",
         "orientation": "v",
         "showlegend": false,
         "type": "scatter",
         "x": [
          "ENGLISH100",
          "ARB100",
          "TECH101",
          "ENTREPRENEUR101",
          "FAJAB101",
          "NAHAJ101",
          "ENGLISH110"
         ],
         "xaxis": "x10",
         "y": [
          3,
          3.5,
          4,
          2,
          2.5,
          4,
          3
         ],
         "yaxis": "y10"
        },
        {
         "hovertemplate": "color=Mathematics<br>symbol=Mathematics<br>index=%{x}<br>value=%{y}<extra></extra>",
         "legendgroup": "Mathematics, Mathematics",
         "marker": {
          "color": "#EF553B",
          "symbol": "diamond"
         },
         "mode": "markers",
         "name": "Mathematics",
         "orientation": "v",
         "showlegend": false,
         "type": "scatter",
         "x": [
          "MATH101",
          "STAT101",
          "MATH106",
          "MATH151",
          "MATH244",
          "MATH281"
         ],
         "xaxis": "x10",
         "y": [
          4,
          4,
          3,
          4.5,
          3,
          4.5
         ],
         "yaxis": "y10"
        },
        {
         "hovertemplate": "color=Chemistry<br>symbol=Chemistry<br>index=%{x}<br>value=%{y}<extra></extra>",
         "legendgroup": "Chemistry, Chemistry",
         "marker": {
          "color": "#00cc96",
          "symbol": "square"
         },
         "mode": "markers",
         "name": "Chemistry",
         "orientation": "v",
         "showlegend": false,
         "type": "scatter",
         "x": [
          "CHEM101",
          "CHEM103"
         ],
         "xaxis": "x10",
         "y": [
          2,
          1
         ],
         "yaxis": "y10"
        },
        {
         "hovertemplate": "color=Islamics<br>symbol=Islamics<br>index=%{x}<br>value=%{y}<extra></extra>",
         "legendgroup": "Islamics, Islamics",
         "marker": {
          "color": "#ab63fa",
          "symbol": "x"
         },
         "mode": "markers",
         "name": "Islamics",
         "orientation": "v",
         "showlegend": false,
         "type": "scatter",
         "x": [
          "SALAM107",
          "SALAM108"
         ],
         "xaxis": "x10",
         "y": [
          4,
          1
         ],
         "yaxis": "y10"
        },
        {
         "hovertemplate": "color=Physics<br>symbol=Physics<br>index=%{x}<br>value=%{y}<extra></extra>",
         "legendgroup": "Physics, Physics",
         "marker": {
          "color": "#FFA15A",
          "symbol": "cross"
         },
         "mode": "markers",
         "name": "Physics",
         "orientation": "v",
         "showlegend": false,
         "type": "scatter",
         "x": [
          "PHYS104",
          "PHYS210",
          "PHYS103"
         ],
         "xaxis": "x10",
         "y": [
          2,
          1,
          4
         ],
         "yaxis": "y10"
        },
        {
         "hovertemplate": "color=Computer science<br>symbol=Computer science<br>index=%{x}<br>value=%{y}<extra></extra>",
         "legendgroup": "Computer science, Computer science",
         "marker": {
          "color": "#19d3f3",
          "symbol": "circle"
         },
         "mode": "markers",
         "name": "Computer science",
         "orientation": "v",
         "showlegend": false,
         "type": "scatter",
         "x": [
          "CSC111",
          "CSC113",
          "CSC220",
          "CSC212",
          "CSC215",
          "CSC304",
          "CSC380",
          "CSC227",
          "CSC311",
          "CSC339",
          "CSC343",
          "CSC361",
          "CSC329",
          "CSC340",
          "CSC453",
          "CSC496",
          "CSC443",
          "CSC462",
          "CSC476",
          "CSC478",
          "CSC484",
          "CSC489"
         ],
         "xaxis": "x10",
         "y": [
          5,
          5,
          4,
          5,
          4,
          2.5,
          3,
          3,
          5,
          5,
          2,
          4,
          5,
          5,
          3,
          3.5,
          2,
          5,
          3,
          2,
          1,
          2
         ],
         "yaxis": "y10"
        },
        {
         "hovertemplate": "color=Humanities<br>symbol=Humanities<br>index=%{x}<br>value=%{y}<extra></extra>",
         "legendgroup": "Humanities, Humanities",
         "marker": {
          "color": "#636efa",
          "symbol": "circle"
         },
         "mode": "markers",
         "name": "Humanities",
         "orientation": "v",
         "showlegend": false,
         "type": "scatter",
         "x": [
          "ENGLISH100",
          "ARB100",
          "TECH101",
          "ENTREPRENEUR101",
          "FAJAB101",
          "NAHAJ101",
          "ENGLISH110"
         ],
         "xaxis": "x11",
         "y": [
          5,
          3.5,
          5,
          4,
          4.5,
          4,
          5
         ],
         "yaxis": "y11"
        },
        {
         "hovertemplate": "color=Mathematics<br>symbol=Mathematics<br>index=%{x}<br>value=%{y}<extra></extra>",
         "legendgroup": "Mathematics, Mathematics",
         "marker": {
          "color": "#EF553B",
          "symbol": "diamond"
         },
         "mode": "markers",
         "name": "Mathematics",
         "orientation": "v",
         "showlegend": false,
         "type": "scatter",
         "x": [
          "MATH101",
          "STAT101",
          "MATH106",
          "MATH151",
          "MATH244",
          "MATH281"
         ],
         "xaxis": "x11",
         "y": [
          3,
          3,
          3,
          4,
          3,
          3.5
         ],
         "yaxis": "y11"
        },
        {
         "hovertemplate": "color=Chemistry<br>symbol=Chemistry<br>index=%{x}<br>value=%{y}<extra></extra>",
         "legendgroup": "Chemistry, Chemistry",
         "marker": {
          "color": "#00cc96",
          "symbol": "square"
         },
         "mode": "markers",
         "name": "Chemistry",
         "orientation": "v",
         "showlegend": false,
         "type": "scatter",
         "x": [
          "CHEM101",
          "CHEM103"
         ],
         "xaxis": "x11",
         "y": [
          2,
          1
         ],
         "yaxis": "y11"
        },
        {
         "hovertemplate": "color=Islamics<br>symbol=Islamics<br>index=%{x}<br>value=%{y}<extra></extra>",
         "legendgroup": "Islamics, Islamics",
         "marker": {
          "color": "#ab63fa",
          "symbol": "x"
         },
         "mode": "markers",
         "name": "Islamics",
         "orientation": "v",
         "showlegend": false,
         "type": "scatter",
         "x": [
          "SALAM107",
          "SALAM108"
         ],
         "xaxis": "x11",
         "y": [
          5,
          4
         ],
         "yaxis": "y11"
        },
        {
         "hovertemplate": "color=Physics<br>symbol=Physics<br>index=%{x}<br>value=%{y}<extra></extra>",
         "legendgroup": "Physics, Physics",
         "marker": {
          "color": "#FFA15A",
          "symbol": "cross"
         },
         "mode": "markers",
         "name": "Physics",
         "orientation": "v",
         "showlegend": false,
         "type": "scatter",
         "x": [
          "PHYS104",
          "PHYS210",
          "PHYS103"
         ],
         "xaxis": "x11",
         "y": [
          2,
          1,
          1.5
         ],
         "yaxis": "y11"
        },
        {
         "hovertemplate": "color=Computer science<br>symbol=Computer science<br>index=%{x}<br>value=%{y}<extra></extra>",
         "legendgroup": "Computer science, Computer science",
         "marker": {
          "color": "#19d3f3",
          "symbol": "circle"
         },
         "mode": "markers",
         "name": "Computer science",
         "orientation": "v",
         "showlegend": false,
         "type": "scatter",
         "x": [
          "CSC111",
          "CSC113",
          "CSC220",
          "CSC212",
          "CSC215",
          "CSC304",
          "CSC380",
          "CSC227",
          "CSC311",
          "CSC339",
          "CSC343",
          "CSC361",
          "CSC329",
          "CSC340",
          "CSC453",
          "CSC496",
          "CSC443",
          "CSC462",
          "CSC476",
          "CSC478",
          "CSC484",
          "CSC489"
         ],
         "xaxis": "x11",
         "y": [
          5,
          4,
          3,
          5,
          2.5,
          5,
          4,
          3,
          5,
          3,
          3,
          3,
          4,
          3,
          3,
          3,
          4,
          5,
          2,
          3,
          1,
          2
         ],
         "yaxis": "y11"
        },
        {
         "hovertemplate": "color=Humanities<br>symbol=Humanities<br>index=%{x}<br>value=%{y}<extra></extra>",
         "legendgroup": "Humanities, Humanities",
         "marker": {
          "color": "#636efa",
          "symbol": "circle"
         },
         "mode": "markers",
         "name": "Humanities",
         "orientation": "v",
         "showlegend": false,
         "type": "scatter",
         "x": [
          "ENGLISH100",
          "ARB100",
          "TECH101",
          "ENTREPRENEUR101",
          "FAJAB101",
          "NAHAJ101",
          "ENGLISH110"
         ],
         "xaxis": "x13",
         "y": [
          5,
          3,
          3,
          1,
          1,
          1,
          5
         ],
         "yaxis": "y13"
        },
        {
         "hovertemplate": "color=Mathematics<br>symbol=Mathematics<br>index=%{x}<br>value=%{y}<extra></extra>",
         "legendgroup": "Mathematics, Mathematics",
         "marker": {
          "color": "#EF553B",
          "symbol": "diamond"
         },
         "mode": "markers",
         "name": "Mathematics",
         "orientation": "v",
         "showlegend": false,
         "type": "scatter",
         "x": [
          "MATH101",
          "STAT101",
          "MATH106",
          "MATH151",
          "MATH244",
          "MATH281"
         ],
         "xaxis": "x13",
         "y": [
          3,
          5,
          3,
          5,
          5,
          5
         ],
         "yaxis": "y13"
        },
        {
         "hovertemplate": "color=Chemistry<br>symbol=Chemistry<br>index=%{x}<br>value=%{y}<extra></extra>",
         "legendgroup": "Chemistry, Chemistry",
         "marker": {
          "color": "#00cc96",
          "symbol": "square"
         },
         "mode": "markers",
         "name": "Chemistry",
         "orientation": "v",
         "showlegend": false,
         "type": "scatter",
         "x": [
          "CHEM101",
          "CHEM103"
         ],
         "xaxis": "x13",
         "y": [
          1,
          1
         ],
         "yaxis": "y13"
        },
        {
         "hovertemplate": "color=Islamics<br>symbol=Islamics<br>index=%{x}<br>value=%{y}<extra></extra>",
         "legendgroup": "Islamics, Islamics",
         "marker": {
          "color": "#ab63fa",
          "symbol": "x"
         },
         "mode": "markers",
         "name": "Islamics",
         "orientation": "v",
         "showlegend": false,
         "type": "scatter",
         "x": [
          "SALAM107",
          "SALAM108"
         ],
         "xaxis": "x13",
         "y": [
          1,
          1
         ],
         "yaxis": "y13"
        },
        {
         "hovertemplate": "color=Physics<br>symbol=Physics<br>index=%{x}<br>value=%{y}<extra></extra>",
         "legendgroup": "Physics, Physics",
         "marker": {
          "color": "#FFA15A",
          "symbol": "cross"
         },
         "mode": "markers",
         "name": "Physics",
         "orientation": "v",
         "showlegend": false,
         "type": "scatter",
         "x": [
          "PHYS104",
          "PHYS210",
          "PHYS103"
         ],
         "xaxis": "x13",
         "y": [
          1,
          1,
          1
         ],
         "yaxis": "y13"
        },
        {
         "hovertemplate": "color=Computer science<br>symbol=Computer science<br>index=%{x}<br>value=%{y}<extra></extra>",
         "legendgroup": "Computer science, Computer science",
         "marker": {
          "color": "#19d3f3",
          "symbol": "circle"
         },
         "mode": "markers",
         "name": "Computer science",
         "orientation": "v",
         "showlegend": false,
         "type": "scatter",
         "x": [
          "CSC111",
          "CSC113",
          "CSC220",
          "CSC212",
          "CSC215",
          "CSC304",
          "CSC380",
          "CSC227",
          "CSC311",
          "CSC339",
          "CSC343",
          "CSC361",
          "CSC329",
          "CSC340",
          "CSC453",
          "CSC496",
          "CSC443",
          "CSC462",
          "CSC476",
          "CSC478",
          "CSC484",
          "CSC489"
         ],
         "xaxis": "x13",
         "y": [
          5,
          5,
          2,
          5,
          5,
          1,
          5,
          3,
          5,
          1,
          3,
          5,
          5,
          2,
          5,
          5,
          2,
          5,
          3,
          2,
          2,
          1
         ],
         "yaxis": "y13"
        },
        {
         "hovertemplate": "color=Humanities<br>symbol=Humanities<br>index=%{x}<br>value=%{y}<extra></extra>",
         "legendgroup": "Humanities, Humanities",
         "marker": {
          "color": "#636efa",
          "symbol": "circle"
         },
         "mode": "markers",
         "name": "Humanities",
         "orientation": "v",
         "showlegend": false,
         "type": "scatter",
         "x": [
          "ENGLISH100",
          "ARB100",
          "TECH101",
          "ENTREPRENEUR101",
          "FAJAB101",
          "NAHAJ101",
          "ENGLISH110"
         ],
         "xaxis": "x14",
         "y": [
          5,
          3,
          3,
          1,
          1,
          1,
          3
         ],
         "yaxis": "y14"
        },
        {
         "hovertemplate": "color=Mathematics<br>symbol=Mathematics<br>index=%{x}<br>value=%{y}<extra></extra>",
         "legendgroup": "Mathematics, Mathematics",
         "marker": {
          "color": "#EF553B",
          "symbol": "diamond"
         },
         "mode": "markers",
         "name": "Mathematics",
         "orientation": "v",
         "showlegend": false,
         "type": "scatter",
         "x": [
          "MATH101",
          "STAT101",
          "MATH106",
          "MATH151",
          "MATH244",
          "MATH281"
         ],
         "xaxis": "x14",
         "y": [
          5,
          5,
          5,
          5,
          5,
          5
         ],
         "yaxis": "y14"
        },
        {
         "hovertemplate": "color=Chemistry<br>symbol=Chemistry<br>index=%{x}<br>value=%{y}<extra></extra>",
         "legendgroup": "Chemistry, Chemistry",
         "marker": {
          "color": "#00cc96",
          "symbol": "square"
         },
         "mode": "markers",
         "name": "Chemistry",
         "orientation": "v",
         "showlegend": false,
         "type": "scatter",
         "x": [
          "CHEM101",
          "CHEM103"
         ],
         "xaxis": "x14",
         "y": [
          1,
          1
         ],
         "yaxis": "y14"
        },
        {
         "hovertemplate": "color=Islamics<br>symbol=Islamics<br>index=%{x}<br>value=%{y}<extra></extra>",
         "legendgroup": "Islamics, Islamics",
         "marker": {
          "color": "#ab63fa",
          "symbol": "x"
         },
         "mode": "markers",
         "name": "Islamics",
         "orientation": "v",
         "showlegend": false,
         "type": "scatter",
         "x": [
          "SALAM107",
          "SALAM108"
         ],
         "xaxis": "x14",
         "y": [
          2,
          1
         ],
         "yaxis": "y14"
        },
        {
         "hovertemplate": "color=Physics<br>symbol=Physics<br>index=%{x}<br>value=%{y}<extra></extra>",
         "legendgroup": "Physics, Physics",
         "marker": {
          "color": "#FFA15A",
          "symbol": "cross"
         },
         "mode": "markers",
         "name": "Physics",
         "orientation": "v",
         "showlegend": false,
         "type": "scatter",
         "x": [
          "PHYS104",
          "PHYS210",
          "PHYS103"
         ],
         "xaxis": "x14",
         "y": [
          1,
          1,
          1
         ],
         "yaxis": "y14"
        },
        {
         "hovertemplate": "color=Computer science<br>symbol=Computer science<br>index=%{x}<br>value=%{y}<extra></extra>",
         "legendgroup": "Computer science, Computer science",
         "marker": {
          "color": "#19d3f3",
          "symbol": "circle"
         },
         "mode": "markers",
         "name": "Computer science",
         "orientation": "v",
         "showlegend": false,
         "type": "scatter",
         "x": [
          "CSC111",
          "CSC113",
          "CSC220",
          "CSC212",
          "CSC215",
          "CSC304",
          "CSC380",
          "CSC227",
          "CSC311",
          "CSC339",
          "CSC343",
          "CSC361",
          "CSC329",
          "CSC340",
          "CSC453",
          "CSC496",
          "CSC443",
          "CSC462",
          "CSC476",
          "CSC478",
          "CSC484",
          "CSC489"
         ],
         "xaxis": "x14",
         "y": [
          5,
          5,
          2,
          5,
          4,
          1,
          4,
          3,
          5,
          5,
          3,
          2,
          5,
          5,
          2,
          5,
          3,
          5,
          2,
          3,
          2,
          3
         ],
         "yaxis": "y14"
        },
        {
         "hovertemplate": "color=Humanities<br>symbol=Humanities<br>index=%{x}<br>value=%{y}<extra></extra>",
         "legendgroup": "Humanities, Humanities",
         "marker": {
          "color": "#636efa",
          "symbol": "circle"
         },
         "mode": "markers",
         "name": "Humanities",
         "orientation": "v",
         "showlegend": false,
         "type": "scatter",
         "x": [
          "ENGLISH100",
          "ARB100",
          "TECH101",
          "ENTREPRENEUR101",
          "FAJAB101",
          "NAHAJ101",
          "ENGLISH110"
         ],
         "xaxis": "x15",
         "y": [
          1,
          1,
          1,
          1,
          1,
          1,
          1
         ],
         "yaxis": "y15"
        },
        {
         "hovertemplate": "color=Mathematics<br>symbol=Mathematics<br>index=%{x}<br>value=%{y}<extra></extra>",
         "legendgroup": "Mathematics, Mathematics",
         "marker": {
          "color": "#EF553B",
          "symbol": "diamond"
         },
         "mode": "markers",
         "name": "Mathematics",
         "orientation": "v",
         "showlegend": false,
         "type": "scatter",
         "x": [
          "MATH101",
          "STAT101",
          "MATH106",
          "MATH151",
          "MATH244",
          "MATH281"
         ],
         "xaxis": "x15",
         "y": [
          3,
          5,
          3,
          5,
          5,
          5
         ],
         "yaxis": "y15"
        },
        {
         "hovertemplate": "color=Chemistry<br>symbol=Chemistry<br>index=%{x}<br>value=%{y}<extra></extra>",
         "legendgroup": "Chemistry, Chemistry",
         "marker": {
          "color": "#00cc96",
          "symbol": "square"
         },
         "mode": "markers",
         "name": "Chemistry",
         "orientation": "v",
         "showlegend": false,
         "type": "scatter",
         "x": [
          "CHEM101",
          "CHEM103"
         ],
         "xaxis": "x15",
         "y": [
          1,
          1
         ],
         "yaxis": "y15"
        },
        {
         "hovertemplate": "color=Islamics<br>symbol=Islamics<br>index=%{x}<br>value=%{y}<extra></extra>",
         "legendgroup": "Islamics, Islamics",
         "marker": {
          "color": "#ab63fa",
          "symbol": "x"
         },
         "mode": "markers",
         "name": "Islamics",
         "orientation": "v",
         "showlegend": false,
         "type": "scatter",
         "x": [
          "SALAM107",
          "SALAM108"
         ],
         "xaxis": "x15",
         "y": [
          1,
          1
         ],
         "yaxis": "y15"
        },
        {
         "hovertemplate": "color=Physics<br>symbol=Physics<br>index=%{x}<br>value=%{y}<extra></extra>",
         "legendgroup": "Physics, Physics",
         "marker": {
          "color": "#FFA15A",
          "symbol": "cross"
         },
         "mode": "markers",
         "name": "Physics",
         "orientation": "v",
         "showlegend": false,
         "type": "scatter",
         "x": [
          "PHYS104",
          "PHYS210",
          "PHYS103"
         ],
         "xaxis": "x15",
         "y": [
          1,
          1,
          2
         ],
         "yaxis": "y15"
        },
        {
         "hovertemplate": "color=Computer science<br>symbol=Computer science<br>index=%{x}<br>value=%{y}<extra></extra>",
         "legendgroup": "Computer science, Computer science",
         "marker": {
          "color": "#19d3f3",
          "symbol": "circle"
         },
         "mode": "markers",
         "name": "Computer science",
         "orientation": "v",
         "showlegend": false,
         "type": "scatter",
         "x": [
          "CSC111",
          "CSC113",
          "CSC220",
          "CSC212",
          "CSC215",
          "CSC304",
          "CSC380",
          "CSC227",
          "CSC311",
          "CSC339",
          "CSC343",
          "CSC361",
          "CSC329",
          "CSC340",
          "CSC453",
          "CSC496",
          "CSC443",
          "CSC462",
          "CSC476",
          "CSC478",
          "CSC484",
          "CSC489"
         ],
         "xaxis": "x15",
         "y": [
          5,
          5,
          5,
          5,
          5,
          1,
          4,
          3,
          5,
          4,
          3,
          3,
          5,
          5,
          3,
          3,
          2,
          5,
          2,
          2,
          1,
          1
         ],
         "yaxis": "y15"
        },
        {
         "hovertemplate": "color=Humanities<br>symbol=Humanities<br>index=%{x}<br>value=%{y}<extra></extra>",
         "legendgroup": "Humanities, Humanities",
         "marker": {
          "color": "#636efa",
          "symbol": "circle"
         },
         "mode": "markers",
         "name": "Humanities",
         "orientation": "v",
         "showlegend": false,
         "type": "scatter",
         "x": [
          "ENGLISH100",
          "ARB100",
          "TECH101",
          "ENTREPRENEUR101",
          "FAJAB101",
          "NAHAJ101",
          "ENGLISH110"
         ],
         "xaxis": "x16",
         "y": [
          1,
          5,
          1,
          1,
          1,
          4,
          5
         ],
         "yaxis": "y16"
        },
        {
         "hovertemplate": "color=Mathematics<br>symbol=Mathematics<br>index=%{x}<br>value=%{y}<extra></extra>",
         "legendgroup": "Mathematics, Mathematics",
         "marker": {
          "color": "#EF553B",
          "symbol": "diamond"
         },
         "mode": "markers",
         "name": "Mathematics",
         "orientation": "v",
         "showlegend": false,
         "type": "scatter",
         "x": [
          "MATH101",
          "STAT101",
          "MATH106",
          "MATH151",
          "MATH244",
          "MATH281"
         ],
         "xaxis": "x16",
         "y": [
          4,
          3,
          3,
          5,
          3,
          5
         ],
         "yaxis": "y16"
        },
        {
         "hovertemplate": "color=Chemistry<br>symbol=Chemistry<br>index=%{x}<br>value=%{y}<extra></extra>",
         "legendgroup": "Chemistry, Chemistry",
         "marker": {
          "color": "#00cc96",
          "symbol": "square"
         },
         "mode": "markers",
         "name": "Chemistry",
         "orientation": "v",
         "showlegend": false,
         "type": "scatter",
         "x": [
          "CHEM101",
          "CHEM103"
         ],
         "xaxis": "x16",
         "y": [
          2,
          1
         ],
         "yaxis": "y16"
        },
        {
         "hovertemplate": "color=Islamics<br>symbol=Islamics<br>index=%{x}<br>value=%{y}<extra></extra>",
         "legendgroup": "Islamics, Islamics",
         "marker": {
          "color": "#ab63fa",
          "symbol": "x"
         },
         "mode": "markers",
         "name": "Islamics",
         "orientation": "v",
         "showlegend": false,
         "type": "scatter",
         "x": [
          "SALAM107",
          "SALAM108"
         ],
         "xaxis": "x16",
         "y": [
          5,
          1
         ],
         "yaxis": "y16"
        },
        {
         "hovertemplate": "color=Physics<br>symbol=Physics<br>index=%{x}<br>value=%{y}<extra></extra>",
         "legendgroup": "Physics, Physics",
         "marker": {
          "color": "#FFA15A",
          "symbol": "cross"
         },
         "mode": "markers",
         "name": "Physics",
         "orientation": "v",
         "showlegend": false,
         "type": "scatter",
         "x": [
          "PHYS104",
          "PHYS210",
          "PHYS103"
         ],
         "xaxis": "x16",
         "y": [
          2,
          1,
          4
         ],
         "yaxis": "y16"
        },
        {
         "hovertemplate": "color=Computer science<br>symbol=Computer science<br>index=%{x}<br>value=%{y}<extra></extra>",
         "legendgroup": "Computer science, Computer science",
         "marker": {
          "color": "#19d3f3",
          "symbol": "circle"
         },
         "mode": "markers",
         "name": "Computer science",
         "orientation": "v",
         "showlegend": false,
         "type": "scatter",
         "x": [
          "CSC111",
          "CSC113",
          "CSC220",
          "CSC212",
          "CSC215",
          "CSC304",
          "CSC380",
          "CSC227",
          "CSC311",
          "CSC339",
          "CSC343",
          "CSC361",
          "CSC329",
          "CSC340",
          "CSC453",
          "CSC496",
          "CSC443",
          "CSC462",
          "CSC476",
          "CSC478",
          "CSC484",
          "CSC489"
         ],
         "xaxis": "x16",
         "y": [
          5,
          5,
          5,
          5,
          4,
          1,
          3,
          2,
          5,
          5,
          1,
          4,
          5,
          5,
          3,
          3,
          1,
          5,
          3,
          2,
          1,
          2
         ],
         "yaxis": "y16"
        },
        {
         "hovertemplate": "color=Humanities<br>symbol=Humanities<br>index=%{x}<br>value=%{y}<extra></extra>",
         "legendgroup": "Humanities, Humanities",
         "marker": {
          "color": "#636efa",
          "symbol": "circle"
         },
         "mode": "markers",
         "name": "Humanities",
         "orientation": "v",
         "showlegend": false,
         "type": "scatter",
         "x": [
          "ENGLISH100",
          "ARB100",
          "TECH101",
          "ENTREPRENEUR101",
          "FAJAB101",
          "NAHAJ101",
          "ENGLISH110"
         ],
         "xaxis": "x17",
         "y": [
          5,
          5,
          5,
          5,
          5,
          4,
          5
         ],
         "yaxis": "y17"
        },
        {
         "hovertemplate": "color=Mathematics<br>symbol=Mathematics<br>index=%{x}<br>value=%{y}<extra></extra>",
         "legendgroup": "Mathematics, Mathematics",
         "marker": {
          "color": "#EF553B",
          "symbol": "diamond"
         },
         "mode": "markers",
         "name": "Mathematics",
         "orientation": "v",
         "showlegend": false,
         "type": "scatter",
         "x": [
          "MATH101",
          "STAT101",
          "MATH106",
          "MATH151",
          "MATH244",
          "MATH281"
         ],
         "xaxis": "x17",
         "y": [
          3,
          3,
          3,
          4,
          3,
          3
         ],
         "yaxis": "y17"
        },
        {
         "hovertemplate": "color=Chemistry<br>symbol=Chemistry<br>index=%{x}<br>value=%{y}<extra></extra>",
         "legendgroup": "Chemistry, Chemistry",
         "marker": {
          "color": "#00cc96",
          "symbol": "square"
         },
         "mode": "markers",
         "name": "Chemistry",
         "orientation": "v",
         "showlegend": false,
         "type": "scatter",
         "x": [
          "CHEM101",
          "CHEM103"
         ],
         "xaxis": "x17",
         "y": [
          2,
          1
         ],
         "yaxis": "y17"
        },
        {
         "hovertemplate": "color=Islamics<br>symbol=Islamics<br>index=%{x}<br>value=%{y}<extra></extra>",
         "legendgroup": "Islamics, Islamics",
         "marker": {
          "color": "#ab63fa",
          "symbol": "x"
         },
         "mode": "markers",
         "name": "Islamics",
         "orientation": "v",
         "showlegend": false,
         "type": "scatter",
         "x": [
          "SALAM107",
          "SALAM108"
         ],
         "xaxis": "x17",
         "y": [
          5,
          4
         ],
         "yaxis": "y17"
        },
        {
         "hovertemplate": "color=Physics<br>symbol=Physics<br>index=%{x}<br>value=%{y}<extra></extra>",
         "legendgroup": "Physics, Physics",
         "marker": {
          "color": "#FFA15A",
          "symbol": "cross"
         },
         "mode": "markers",
         "name": "Physics",
         "orientation": "v",
         "showlegend": false,
         "type": "scatter",
         "x": [
          "PHYS104",
          "PHYS210",
          "PHYS103"
         ],
         "xaxis": "x17",
         "y": [
          1,
          1,
          1
         ],
         "yaxis": "y17"
        },
        {
         "hovertemplate": "color=Computer science<br>symbol=Computer science<br>index=%{x}<br>value=%{y}<extra></extra>",
         "legendgroup": "Computer science, Computer science",
         "marker": {
          "color": "#19d3f3",
          "symbol": "circle"
         },
         "mode": "markers",
         "name": "Computer science",
         "orientation": "v",
         "showlegend": false,
         "type": "scatter",
         "x": [
          "CSC111",
          "CSC113",
          "CSC220",
          "CSC212",
          "CSC215",
          "CSC304",
          "CSC380",
          "CSC227",
          "CSC311",
          "CSC339",
          "CSC343",
          "CSC361",
          "CSC329",
          "CSC340",
          "CSC453",
          "CSC496",
          "CSC443",
          "CSC462",
          "CSC476",
          "CSC478",
          "CSC484",
          "CSC489"
         ],
         "xaxis": "x17",
         "y": [
          5,
          4,
          2,
          5,
          2,
          5,
          4,
          3,
          5,
          3,
          3,
          3,
          3,
          5,
          3,
          3,
          3,
          5,
          2,
          3,
          1,
          2
         ],
         "yaxis": "y17"
        },
        {
         "hovertemplate": "color=Humanities<br>symbol=Humanities<br>index=%{x}<br>value=%{y}<extra></extra>",
         "legendgroup": "Humanities, Humanities",
         "marker": {
          "color": "#636efa",
          "symbol": "circle"
         },
         "mode": "markers",
         "name": "Humanities",
         "orientation": "v",
         "showlegend": false,
         "type": "scatter",
         "x": [
          "ENGLISH100",
          "ARB100",
          "TECH101",
          "ENTREPRENEUR101",
          "FAJAB101",
          "NAHAJ101",
          "ENGLISH110"
         ],
         "xaxis": "x19",
         "y": [
          1.5811388300841898,
          1.3024701806293193,
          1.3451854182690985,
          1.1126972805283737,
          1.602081978759722,
          1.5735915849388864,
          1.4638501094227998
         ],
         "yaxis": "y19"
        },
        {
         "hovertemplate": "color=Mathematics<br>symbol=Mathematics<br>index=%{x}<br>value=%{y}<extra></extra>",
         "legendgroup": "Mathematics, Mathematics",
         "marker": {
          "color": "#EF553B",
          "symbol": "diamond"
         },
         "mode": "markers",
         "name": "Mathematics",
         "orientation": "v",
         "showlegend": false,
         "type": "scatter",
         "x": [
          "MATH101",
          "STAT101",
          "MATH106",
          "MATH151",
          "MATH244",
          "MATH281"
         ],
         "xaxis": "x19",
         "y": [
          1.164964745021435,
          0.5345224838248488,
          1.3562026818605375,
          0.7440238091428449,
          1.2649110640673518,
          1.2649110640673518
         ],
         "yaxis": "y19"
        },
        {
         "hovertemplate": "color=Chemistry<br>symbol=Chemistry<br>index=%{x}<br>value=%{y}<extra></extra>",
         "legendgroup": "Chemistry, Chemistry",
         "marker": {
          "color": "#00cc96",
          "symbol": "square"
         },
         "mode": "markers",
         "name": "Chemistry",
         "orientation": "v",
         "showlegend": false,
         "type": "scatter",
         "x": [
          "CHEM101",
          "CHEM103"
         ],
         "xaxis": "x19",
         "y": [
          1.5275252316519468,
          null
         ],
         "yaxis": "y19"
        },
        {
         "hovertemplate": "color=Islamics<br>symbol=Islamics<br>index=%{x}<br>value=%{y}<extra></extra>",
         "legendgroup": "Islamics, Islamics",
         "marker": {
          "color": "#ab63fa",
          "symbol": "x"
         },
         "mode": "markers",
         "name": "Islamics",
         "orientation": "v",
         "showlegend": false,
         "type": "scatter",
         "x": [
          "SALAM107",
          "SALAM108"
         ],
         "xaxis": "x19",
         "y": [
          1.7728105208558365,
          1.7888543819998322
         ],
         "yaxis": "y19"
        },
        {
         "hovertemplate": "color=Physics<br>symbol=Physics<br>index=%{x}<br>value=%{y}<extra></extra>",
         "legendgroup": "Physics, Physics",
         "marker": {
          "color": "#FFA15A",
          "symbol": "cross"
         },
         "mode": "markers",
         "name": "Physics",
         "orientation": "v",
         "showlegend": false,
         "type": "scatter",
         "x": [
          "PHYS104",
          "PHYS210",
          "PHYS103"
         ],
         "xaxis": "x19",
         "y": [
          1.2149857925879117,
          null,
          1
         ],
         "yaxis": "y19"
        },
        {
         "hovertemplate": "color=Computer science<br>symbol=Computer science<br>index=%{x}<br>value=%{y}<extra></extra>",
         "legendgroup": "Computer science, Computer science",
         "marker": {
          "color": "#19d3f3",
          "symbol": "circle"
         },
         "mode": "markers",
         "name": "Computer science",
         "orientation": "v",
         "showlegend": false,
         "type": "scatter",
         "x": [
          "CSC111",
          "CSC113",
          "CSC220",
          "CSC212",
          "CSC215",
          "CSC304",
          "CSC380",
          "CSC227",
          "CSC311",
          "CSC339",
          "CSC343",
          "CSC361",
          "CSC329",
          "CSC340",
          "CSC453",
          "CSC496",
          "CSC443",
          "CSC462",
          "CSC476",
          "CSC478",
          "CSC484",
          "CSC489"
         ],
         "xaxis": "x19",
         "y": [
          0.7440238091428449,
          1.4638501094227998,
          1.3038404810405297,
          0.5163977794943223,
          0.5,
          1.6020819787597222,
          1.7320508075688772,
          0.8944271909999159,
          0.44721359549995787,
          1.7320508075688772,
          1.0954451150103321,
          1.4142135623730951,
          0.4472135954999579,
          1.3038404810405297,
          1.3038404810405297,
          1,
          0.7071067811865476,
          0,
          null,
          null,
          null,
          null
         ],
         "yaxis": "y19"
        },
        {
         "hovertemplate": "color=Humanities<br>symbol=Humanities<br>index=%{x}<br>value=%{y}<extra></extra>",
         "legendgroup": "Humanities, Humanities",
         "marker": {
          "color": "#636efa",
          "symbol": "circle"
         },
         "mode": "markers",
         "name": "Humanities",
         "orientation": "v",
         "showlegend": false,
         "type": "scatter",
         "x": [
          "ENGLISH100",
          "ARB100",
          "TECH101",
          "ENTREPRENEUR101",
          "FAJAB101",
          "NAHAJ101",
          "ENGLISH110"
         ],
         "xaxis": "x20",
         "y": [
          1.4142135623730951,
          1.0606601717798212,
          0.9759000729485333,
          0.9511897312113419,
          0.8944271909999159,
          1.2149857925879117,
          1.3972762620115438
         ],
         "yaxis": "y20"
        },
        {
         "hovertemplate": "color=Mathematics<br>symbol=Mathematics<br>index=%{x}<br>value=%{y}<extra></extra>",
         "legendgroup": "Mathematics, Mathematics",
         "marker": {
          "color": "#EF553B",
          "symbol": "diamond"
         },
         "mode": "markers",
         "name": "Mathematics",
         "orientation": "v",
         "showlegend": false,
         "type": "scatter",
         "x": [
          "MATH101",
          "STAT101",
          "MATH106",
          "MATH151",
          "MATH244",
          "MATH281"
         ],
         "xaxis": "x20",
         "y": [
          0.8864052604279183,
          0.4879500364742666,
          1.5979898086569353,
          0.7440238091428449,
          1.2649110640673518,
          0.816496580927726
         ],
         "yaxis": "y20"
        },
        {
         "hovertemplate": "color=Chemistry<br>symbol=Chemistry<br>index=%{x}<br>value=%{y}<extra></extra>",
         "legendgroup": "Chemistry, Chemistry",
         "marker": {
          "color": "#00cc96",
          "symbol": "square"
         },
         "mode": "markers",
         "name": "Chemistry",
         "orientation": "v",
         "showlegend": false,
         "type": "scatter",
         "x": [
          "CHEM101",
          "CHEM103"
         ],
         "xaxis": "x20",
         "y": [
          1.5118578920369088,
          null
         ],
         "yaxis": "y20"
        },
        {
         "hovertemplate": "color=Islamics<br>symbol=Islamics<br>index=%{x}<br>value=%{y}<extra></extra>",
         "legendgroup": "Islamics, Islamics",
         "marker": {
          "color": "#ab63fa",
          "symbol": "x"
         },
         "mode": "markers",
         "name": "Islamics",
         "orientation": "v",
         "showlegend": false,
         "type": "scatter",
         "x": [
          "SALAM107",
          "SALAM108"
         ],
         "xaxis": "x20",
         "y": [
          1.511857892036909,
          2.04939015319192
         ],
         "yaxis": "y20"
        },
        {
         "hovertemplate": "color=Physics<br>symbol=Physics<br>index=%{x}<br>value=%{y}<extra></extra>",
         "legendgroup": "Physics, Physics",
         "marker": {
          "color": "#FFA15A",
          "symbol": "cross"
         },
         "mode": "markers",
         "name": "Physics",
         "orientation": "v",
         "showlegend": false,
         "type": "scatter",
         "x": [
          "PHYS104",
          "PHYS210",
          "PHYS103"
         ],
         "xaxis": "x20",
         "y": [
          1.4960264830861911,
          null,
          2
         ],
         "yaxis": "y20"
        },
        {
         "hovertemplate": "color=Computer science<br>symbol=Computer science<br>index=%{x}<br>value=%{y}<extra></extra>",
         "legendgroup": "Computer science, Computer science",
         "marker": {
          "color": "#19d3f3",
          "symbol": "circle"
         },
         "mode": "markers",
         "name": "Computer science",
         "orientation": "v",
         "showlegend": false,
         "type": "scatter",
         "x": [
          "CSC111",
          "CSC113",
          "CSC220",
          "CSC212",
          "CSC215",
          "CSC304",
          "CSC380",
          "CSC227",
          "CSC311",
          "CSC339",
          "CSC343",
          "CSC361",
          "CSC329",
          "CSC340",
          "CSC453",
          "CSC496",
          "CSC443",
          "CSC462",
          "CSC476",
          "CSC478",
          "CSC484",
          "CSC489"
         ],
         "xaxis": "x20",
         "y": [
          1.1259916264596033,
          1.3451854182690985,
          1.3416407864998738,
          0.8366600265340756,
          0.816496580927726,
          1.7511900715418263,
          1.6431676725154984,
          1.140175425099138,
          0,
          1.6733200530681511,
          0.7071067811865476,
          1.3416407864998738,
          0,
          1.6733200530681511,
          0.8366600265340756,
          1,
          0,
          0.44721359549995787,
          null,
          null,
          null,
          null
         ],
         "yaxis": "y20"
        },
        {
         "hovertemplate": "color=Humanities<br>symbol=Humanities<br>index=%{x}<br>value=%{y}<extra></extra>",
         "legendgroup": "Humanities, Humanities",
         "marker": {
          "color": "#636efa",
          "symbol": "circle"
         },
         "mode": "markers",
         "name": "Humanities",
         "orientation": "v",
         "showlegend": false,
         "type": "scatter",
         "x": [
          "ENGLISH100",
          "ARB100",
          "TECH101",
          "ENTREPRENEUR101",
          "FAJAB101",
          "NAHAJ101",
          "ENGLISH110"
         ],
         "xaxis": "x21",
         "y": [
          1.6666666666666667,
          1.5059406173077154,
          1.1126972805283737,
          1.1547005383792515,
          1.6020819787597222,
          1.3451854182690985,
          1.618347187425374
         ],
         "yaxis": "y21"
        },
        {
         "hovertemplate": "color=Mathematics<br>symbol=Mathematics<br>index=%{x}<br>value=%{y}<extra></extra>",
         "legendgroup": "Mathematics, Mathematics",
         "marker": {
          "color": "#EF553B",
          "symbol": "diamond"
         },
         "mode": "markers",
         "name": "Mathematics",
         "orientation": "v",
         "showlegend": false,
         "type": "scatter",
         "x": [
          "MATH101",
          "STAT101",
          "MATH106",
          "MATH151",
          "MATH244",
          "MATH281"
         ],
         "xaxis": "x21",
         "y": [
          1.3093073414159542,
          0.8997354108424372,
          1.246423454758225,
          0.9161253813129043,
          1.632993161855452,
          0.983192080250175
         ],
         "yaxis": "y21"
        },
        {
         "hovertemplate": "color=Chemistry<br>symbol=Chemistry<br>index=%{x}<br>value=%{y}<extra></extra>",
         "legendgroup": "Chemistry, Chemistry",
         "marker": {
          "color": "#00cc96",
          "symbol": "square"
         },
         "mode": "markers",
         "name": "Chemistry",
         "orientation": "v",
         "showlegend": false,
         "type": "scatter",
         "x": [
          "CHEM101",
          "CHEM103"
         ],
         "xaxis": "x21",
         "y": [
          0.9511897312113419,
          null
         ],
         "yaxis": "y21"
        },
        {
         "hovertemplate": "color=Islamics<br>symbol=Islamics<br>index=%{x}<br>value=%{y}<extra></extra>",
         "legendgroup": "Islamics, Islamics",
         "marker": {
          "color": "#ab63fa",
          "symbol": "x"
         },
         "mode": "markers",
         "name": "Islamics",
         "orientation": "v",
         "showlegend": false,
         "type": "scatter",
         "x": [
          "SALAM107",
          "SALAM108"
         ],
         "xaxis": "x21",
         "y": [
          1.7320508075688772,
          1.3416407864998738
         ],
         "yaxis": "y21"
        },
        {
         "hovertemplate": "color=Physics<br>symbol=Physics<br>index=%{x}<br>value=%{y}<extra></extra>",
         "legendgroup": "Physics, Physics",
         "marker": {
          "color": "#FFA15A",
          "symbol": "cross"
         },
         "mode": "markers",
         "name": "Physics",
         "orientation": "v",
         "showlegend": false,
         "type": "scatter",
         "x": [
          "PHYS104",
          "PHYS210",
          "PHYS103"
         ],
         "xaxis": "x21",
         "y": [
          1.1547005383792515,
          null,
          1.2583057392117916
         ],
         "yaxis": "y21"
        },
        {
         "hovertemplate": "color=Computer science<br>symbol=Computer science<br>index=%{x}<br>value=%{y}<extra></extra>",
         "legendgroup": "Computer science, Computer science",
         "marker": {
          "color": "#19d3f3",
          "symbol": "circle"
         },
         "mode": "markers",
         "name": "Computer science",
         "orientation": "v",
         "showlegend": false,
         "type": "scatter",
         "x": [
          "CSC111",
          "CSC113",
          "CSC220",
          "CSC212",
          "CSC215",
          "CSC304",
          "CSC380",
          "CSC227",
          "CSC311",
          "CSC339",
          "CSC343",
          "CSC361",
          "CSC329",
          "CSC340",
          "CSC453",
          "CSC496",
          "CSC443",
          "CSC462",
          "CSC476",
          "CSC478",
          "CSC484",
          "CSC489"
         ],
         "xaxis": "x21",
         "y": [
          1.1259916264596033,
          1.6761634196950517,
          1.3038404810405297,
          0.408248290463863,
          0.9574271077563381,
          1.9663841605003503,
          1.51657508881031,
          0.8366600265340756,
          0.44721359549995787,
          1.6431676725154984,
          1.140175425099138,
          0.8366600265340756,
          0,
          1.7888543819998317,
          0.8366600265340756,
          0.9574271077563381,
          0,
          0.5477225575051662,
          null,
          null,
          null,
          null
         ],
         "yaxis": "y21"
        },
        {
         "hovertemplate": "color=Humanities<br>symbol=Humanities<br>index=%{x}<br>value=%{y}<extra></extra>",
         "legendgroup": "Humanities, Humanities",
         "marker": {
          "color": "#636efa",
          "symbol": "circle"
         },
         "mode": "markers",
         "name": "Humanities",
         "orientation": "v",
         "showlegend": false,
         "type": "scatter",
         "x": [
          "ENGLISH100",
          "ARB100",
          "TECH101",
          "ENTREPRENEUR101",
          "FAJAB101",
          "NAHAJ101",
          "ENGLISH110"
         ],
         "xaxis": "x22",
         "y": [
          1.8027756377319946,
          1.7525491637693282,
          1.7728105208558365,
          1.7182493859684491,
          1.834847859269718,
          1.3801311186847083,
          1.864454471471609
         ],
         "yaxis": "y22"
        },
        {
         "hovertemplate": "color=Mathematics<br>symbol=Mathematics<br>index=%{x}<br>value=%{y}<extra></extra>",
         "legendgroup": "Mathematics, Mathematics",
         "marker": {
          "color": "#EF553B",
          "symbol": "diamond"
         },
         "mode": "markers",
         "name": "Mathematics",
         "orientation": "v",
         "showlegend": false,
         "type": "scatter",
         "x": [
          "MATH101",
          "STAT101",
          "MATH106",
          "MATH151",
          "MATH244",
          "MATH281"
         ],
         "xaxis": "x22",
         "y": [
          1.2817398889233114,
          0.7559289460184545,
          1.1259916264596033,
          1.1259916264596033,
          1.224744871391589,
          0.816496580927726
         ],
         "yaxis": "y22"
        },
        {
         "hovertemplate": "color=Chemistry<br>symbol=Chemistry<br>index=%{x}<br>value=%{y}<extra></extra>",
         "legendgroup": "Chemistry, Chemistry",
         "marker": {
          "color": "#00cc96",
          "symbol": "square"
         },
         "mode": "markers",
         "name": "Chemistry",
         "orientation": "v",
         "showlegend": false,
         "type": "scatter",
         "x": [
          "CHEM101",
          "CHEM103"
         ],
         "xaxis": "x22",
         "y": [
          1,
          null
         ],
         "yaxis": "y22"
        },
        {
         "hovertemplate": "color=Islamics<br>symbol=Islamics<br>index=%{x}<br>value=%{y}<extra></extra>",
         "legendgroup": "Islamics, Islamics",
         "marker": {
          "color": "#ab63fa",
          "symbol": "x"
         },
         "mode": "markers",
         "name": "Islamics",
         "orientation": "v",
         "showlegend": false,
         "type": "scatter",
         "x": [
          "SALAM107",
          "SALAM108"
         ],
         "xaxis": "x22",
         "y": [
          1.4960264830861911,
          1.3038404810405297
         ],
         "yaxis": "y22"
        },
        {
         "hovertemplate": "color=Physics<br>symbol=Physics<br>index=%{x}<br>value=%{y}<extra></extra>",
         "legendgroup": "Physics, Physics",
         "marker": {
          "color": "#FFA15A",
          "symbol": "cross"
         },
         "mode": "markers",
         "name": "Physics",
         "orientation": "v",
         "showlegend": false,
         "type": "scatter",
         "x": [
          "PHYS104",
          "PHYS210",
          "PHYS103"
         ],
         "xaxis": "x22",
         "y": [
          0.6900655593423541,
          null,
          1.5
         ],
         "yaxis": "y22"
        },
        {
         "hovertemplate": "color=Computer science<br>symbol=Computer science<br>index=%{x}<br>value=%{y}<extra></extra>",
         "legendgroup": "Computer science, Computer science",
         "marker": {
          "color": "#19d3f3",
          "symbol": "circle"
         },
         "mode": "markers",
         "name": "Computer science",
         "orientation": "v",
         "showlegend": false,
         "type": "scatter",
         "x": [
          "CSC111",
          "CSC113",
          "CSC220",
          "CSC212",
          "CSC215",
          "CSC304",
          "CSC380",
          "CSC227",
          "CSC311",
          "CSC339",
          "CSC343",
          "CSC361",
          "CSC329",
          "CSC340",
          "CSC453",
          "CSC496",
          "CSC443",
          "CSC462",
          "CSC476",
          "CSC478",
          "CSC484",
          "CSC489"
         ],
         "xaxis": "x22",
         "y": [
          0,
          0.7867957924694431,
          1.3038404810405297,
          0,
          0.5,
          1.834847859269718,
          1.140175425099138,
          0.8366600265340756,
          0,
          1.7888543819998317,
          1,
          0.5477225575051661,
          0.4472135954999579,
          1.7320508075688772,
          0.8366600265340756,
          0.9574271077563381,
          1.4142135623730951,
          0.44721359549995787,
          null,
          null,
          null,
          null
         ],
         "yaxis": "y22"
        },
        {
         "hovertemplate": "color=Humanities<br>symbol=Humanities<br>index=%{x}<br>value=%{y}<extra></extra>",
         "legendgroup": "Humanities, Humanities",
         "marker": {
          "color": "#636efa",
          "symbol": "circle"
         },
         "mode": "markers",
         "name": "Humanities",
         "orientation": "v",
         "showlegend": false,
         "type": "scatter",
         "x": [
          "ENGLISH100",
          "ARB100",
          "TECH101",
          "ENTREPRENEUR101",
          "FAJAB101",
          "NAHAJ101",
          "ENGLISH110"
         ],
         "xaxis": "x23",
         "y": [
          1.3333333333333335,
          1.5118578920369088,
          1.4638501094228,
          1.8126539343499313,
          1.6020819787597222,
          1.3451854182690988,
          1.511857892036909
         ],
         "yaxis": "y23"
        },
        {
         "hovertemplate": "color=Mathematics<br>symbol=Mathematics<br>index=%{x}<br>value=%{y}<extra></extra>",
         "legendgroup": "Mathematics, Mathematics",
         "marker": {
          "color": "#EF553B",
          "symbol": "diamond"
         },
         "mode": "markers",
         "name": "Mathematics",
         "orientation": "v",
         "showlegend": false,
         "type": "scatter",
         "x": [
          "MATH101",
          "STAT101",
          "MATH106",
          "MATH151",
          "MATH244",
          "MATH281"
         ],
         "xaxis": "x23",
         "y": [
          1.246423454758225,
          0.9511897312113419,
          1.3887301496588271,
          0.9258200997725514,
          1.1690451944500122,
          1.2110601416389968
         ],
         "yaxis": "y23"
        },
        {
         "hovertemplate": "color=Chemistry<br>symbol=Chemistry<br>index=%{x}<br>value=%{y}<extra></extra>",
         "legendgroup": "Chemistry, Chemistry",
         "marker": {
          "color": "#00cc96",
          "symbol": "square"
         },
         "mode": "markers",
         "name": "Chemistry",
         "orientation": "v",
         "showlegend": false,
         "type": "scatter",
         "x": [
          "CHEM101",
          "CHEM103"
         ],
         "xaxis": "x23",
         "y": [
          0.951189731211342,
          null
         ],
         "yaxis": "y23"
        },
        {
         "hovertemplate": "color=Islamics<br>symbol=Islamics<br>index=%{x}<br>value=%{y}<extra></extra>",
         "legendgroup": "Islamics, Islamics",
         "marker": {
          "color": "#ab63fa",
          "symbol": "x"
         },
         "mode": "markers",
         "name": "Islamics",
         "orientation": "v",
         "showlegend": false,
         "type": "scatter",
         "x": [
          "SALAM107",
          "SALAM108"
         ],
         "xaxis": "x23",
         "y": [
          0.7867957924694431,
          1.6431676725154984
         ],
         "yaxis": "y23"
        },
        {
         "hovertemplate": "color=Physics<br>symbol=Physics<br>index=%{x}<br>value=%{y}<extra></extra>",
         "legendgroup": "Physics, Physics",
         "marker": {
          "color": "#FFA15A",
          "symbol": "cross"
         },
         "mode": "markers",
         "name": "Physics",
         "orientation": "v",
         "showlegend": false,
         "type": "scatter",
         "x": [
          "PHYS104",
          "PHYS210",
          "PHYS103"
         ],
         "xaxis": "x23",
         "y": [
          0.7559289460184545,
          null,
          1.4142135623730951
         ],
         "yaxis": "y23"
        },
        {
         "hovertemplate": "color=Computer science<br>symbol=Computer science<br>index=%{x}<br>value=%{y}<extra></extra>",
         "legendgroup": "Computer science, Computer science",
         "marker": {
          "color": "#19d3f3",
          "symbol": "circle"
         },
         "mode": "markers",
         "name": "Computer science",
         "orientation": "v",
         "showlegend": false,
         "type": "scatter",
         "x": [
          "CSC111",
          "CSC113",
          "CSC220",
          "CSC212",
          "CSC215",
          "CSC304",
          "CSC380",
          "CSC227",
          "CSC311",
          "CSC339",
          "CSC343",
          "CSC361",
          "CSC329",
          "CSC340",
          "CSC453",
          "CSC496",
          "CSC443",
          "CSC462",
          "CSC476",
          "CSC478",
          "CSC484",
          "CSC489"
         ],
         "xaxis": "x23",
         "y": [
          0.5175491695067657,
          0.48795003647426655,
          1.224744871391589,
          1.2110601416389966,
          1.4142135623730951,
          2.0655911179772892,
          1.224744871391589,
          0.8944271909999159,
          1.4142135623730951,
          1.6733200530681511,
          1.140175425099138,
          0.8366600265340756,
          1,
          1.7888543819998317,
          0.5477225575051661,
          1.2583057392117916,
          1.4142135623730951,
          1.3038404810405297,
          null,
          null,
          null,
          null
         ],
         "yaxis": "y23"
        }
       ],
       "layout": {
        "annotations": [
         {
          "font": {
           "size": 16
          },
          "showarrow": false,
          "text": "Bayesian estimated mean Application score for each course",
          "x": 0.225,
          "xanchor": "center",
          "xref": "paper",
          "y": 1,
          "yanchor": "bottom",
          "yref": "paper"
         },
         {
          "font": {
           "size": 16
          },
          "showarrow": false,
          "text": "Bayesian estimated mean Relevance score for each course",
          "x": 0.775,
          "xanchor": "center",
          "xref": "paper",
          "y": 1,
          "yanchor": "bottom",
          "yref": "paper"
         },
         {
          "font": {
           "size": 16
          },
          "showarrow": false,
          "text": "Bayesian estimated mean Insight score for each course",
          "x": 0.225,
          "xanchor": "center",
          "xref": "paper",
          "y": 0.9131944444444444,
          "yanchor": "bottom",
          "yref": "paper"
         },
         {
          "font": {
           "size": 16
          },
          "showarrow": false,
          "text": "Bayesian estimated mean Understanding score for each course",
          "x": 0.775,
          "xanchor": "center",
          "xref": "paper",
          "y": 0.9131944444444444,
          "yanchor": "bottom",
          "yref": "paper"
         },
         {
          "font": {
           "size": 16
          },
          "showarrow": false,
          "text": "Bayesian estimated mean Ease score for each course",
          "x": 0.225,
          "xanchor": "center",
          "xref": "paper",
          "y": 0.8263888888888888,
          "yanchor": "bottom",
          "yref": "paper"
         },
         {
          "font": {
           "size": 16
          },
          "showarrow": false,
          "text": "Median Application score for each course",
          "x": 0.225,
          "xanchor": "center",
          "xref": "paper",
          "y": 0.7395833333333333,
          "yanchor": "bottom",
          "yref": "paper"
         },
         {
          "font": {
           "size": 16
          },
          "showarrow": false,
          "text": "Median Relevance score for each course",
          "x": 0.775,
          "xanchor": "center",
          "xref": "paper",
          "y": 0.7395833333333333,
          "yanchor": "bottom",
          "yref": "paper"
         },
         {
          "font": {
           "size": 16
          },
          "showarrow": false,
          "text": "Median Insight score for each course",
          "x": 0.225,
          "xanchor": "center",
          "xref": "paper",
          "y": 0.6527777777777777,
          "yanchor": "bottom",
          "yref": "paper"
         },
         {
          "font": {
           "size": 16
          },
          "showarrow": false,
          "text": "Median Understanding score for each course",
          "x": 0.775,
          "xanchor": "center",
          "xref": "paper",
          "y": 0.6527777777777777,
          "yanchor": "bottom",
          "yref": "paper"
         },
         {
          "font": {
           "size": 16
          },
          "showarrow": false,
          "text": "Median Ease score for each course",
          "x": 0.225,
          "xanchor": "center",
          "xref": "paper",
          "y": 0.5659722222222223,
          "yanchor": "bottom",
          "yref": "paper"
         },
         {
          "font": {
           "size": 16
          },
          "showarrow": false,
          "text": "Mode Application score for each course",
          "x": 0.225,
          "xanchor": "center",
          "xref": "paper",
          "y": 0.4791666666666667,
          "yanchor": "bottom",
          "yref": "paper"
         },
         {
          "font": {
           "size": 16
          },
          "showarrow": false,
          "text": "Mode Relevance score for each course",
          "x": 0.775,
          "xanchor": "center",
          "xref": "paper",
          "y": 0.4791666666666667,
          "yanchor": "bottom",
          "yref": "paper"
         },
         {
          "font": {
           "size": 16
          },
          "showarrow": false,
          "text": "Mode Insight score for each course",
          "x": 0.225,
          "xanchor": "center",
          "xref": "paper",
          "y": 0.3923611111111111,
          "yanchor": "bottom",
          "yref": "paper"
         },
         {
          "font": {
           "size": 16
          },
          "showarrow": false,
          "text": "Mode Understanding score for each course",
          "x": 0.775,
          "xanchor": "center",
          "xref": "paper",
          "y": 0.3923611111111111,
          "yanchor": "bottom",
          "yref": "paper"
         },
         {
          "font": {
           "size": 16
          },
          "showarrow": false,
          "text": "Mode Ease score for each course",
          "x": 0.225,
          "xanchor": "center",
          "xref": "paper",
          "y": 0.3055555555555556,
          "yanchor": "bottom",
          "yref": "paper"
         },
         {
          "font": {
           "size": 16
          },
          "showarrow": false,
          "text": "Standard deviation Application score for each course",
          "x": 0.225,
          "xanchor": "center",
          "xref": "paper",
          "y": 0.21875,
          "yanchor": "bottom",
          "yref": "paper"
         },
         {
          "font": {
           "size": 16
          },
          "showarrow": false,
          "text": "Standard deviation Relevance score for each course",
          "x": 0.775,
          "xanchor": "center",
          "xref": "paper",
          "y": 0.21875,
          "yanchor": "bottom",
          "yref": "paper"
         },
         {
          "font": {
           "size": 16
          },
          "showarrow": false,
          "text": "Standard deviation Insight score for each course",
          "x": 0.225,
          "xanchor": "center",
          "xref": "paper",
          "y": 0.13194444444444445,
          "yanchor": "bottom",
          "yref": "paper"
         },
         {
          "font": {
           "size": 16
          },
          "showarrow": false,
          "text": "Standard deviation Understanding score for each course",
          "x": 0.775,
          "xanchor": "center",
          "xref": "paper",
          "y": 0.13194444444444445,
          "yanchor": "bottom",
          "yref": "paper"
         },
         {
          "font": {
           "size": 16
          },
          "showarrow": false,
          "text": "Standard deviation Ease score for each course",
          "x": 0.225,
          "xanchor": "center",
          "xref": "paper",
          "y": 0.045138888888888895,
          "yanchor": "bottom",
          "yref": "paper"
         }
        ],
        "height": 5000,
        "template": {
         "data": {
          "bar": [
           {
            "error_x": {
             "color": "#f2f5fa"
            },
            "error_y": {
             "color": "#f2f5fa"
            },
            "marker": {
             "line": {
              "color": "rgb(17,17,17)",
              "width": 0.5
             },
             "pattern": {
              "fillmode": "overlay",
              "size": 10,
              "solidity": 0.2
             }
            },
            "type": "bar"
           }
          ],
          "barpolar": [
           {
            "marker": {
             "line": {
              "color": "rgb(17,17,17)",
              "width": 0.5
             },
             "pattern": {
              "fillmode": "overlay",
              "size": 10,
              "solidity": 0.2
             }
            },
            "type": "barpolar"
           }
          ],
          "carpet": [
           {
            "aaxis": {
             "endlinecolor": "#A2B1C6",
             "gridcolor": "#506784",
             "linecolor": "#506784",
             "minorgridcolor": "#506784",
             "startlinecolor": "#A2B1C6"
            },
            "baxis": {
             "endlinecolor": "#A2B1C6",
             "gridcolor": "#506784",
             "linecolor": "#506784",
             "minorgridcolor": "#506784",
             "startlinecolor": "#A2B1C6"
            },
            "type": "carpet"
           }
          ],
          "choropleth": [
           {
            "colorbar": {
             "outlinewidth": 0,
             "ticks": ""
            },
            "type": "choropleth"
           }
          ],
          "contour": [
           {
            "colorbar": {
             "outlinewidth": 0,
             "ticks": ""
            },
            "colorscale": [
             [
              0,
              "#0d0887"
             ],
             [
              0.1111111111111111,
              "#46039f"
             ],
             [
              0.2222222222222222,
              "#7201a8"
             ],
             [
              0.3333333333333333,
              "#9c179e"
             ],
             [
              0.4444444444444444,
              "#bd3786"
             ],
             [
              0.5555555555555556,
              "#d8576b"
             ],
             [
              0.6666666666666666,
              "#ed7953"
             ],
             [
              0.7777777777777778,
              "#fb9f3a"
             ],
             [
              0.8888888888888888,
              "#fdca26"
             ],
             [
              1,
              "#f0f921"
             ]
            ],
            "type": "contour"
           }
          ],
          "contourcarpet": [
           {
            "colorbar": {
             "outlinewidth": 0,
             "ticks": ""
            },
            "type": "contourcarpet"
           }
          ],
          "heatmap": [
           {
            "colorbar": {
             "outlinewidth": 0,
             "ticks": ""
            },
            "colorscale": [
             [
              0,
              "#0d0887"
             ],
             [
              0.1111111111111111,
              "#46039f"
             ],
             [
              0.2222222222222222,
              "#7201a8"
             ],
             [
              0.3333333333333333,
              "#9c179e"
             ],
             [
              0.4444444444444444,
              "#bd3786"
             ],
             [
              0.5555555555555556,
              "#d8576b"
             ],
             [
              0.6666666666666666,
              "#ed7953"
             ],
             [
              0.7777777777777778,
              "#fb9f3a"
             ],
             [
              0.8888888888888888,
              "#fdca26"
             ],
             [
              1,
              "#f0f921"
             ]
            ],
            "type": "heatmap"
           }
          ],
          "heatmapgl": [
           {
            "colorbar": {
             "outlinewidth": 0,
             "ticks": ""
            },
            "colorscale": [
             [
              0,
              "#0d0887"
             ],
             [
              0.1111111111111111,
              "#46039f"
             ],
             [
              0.2222222222222222,
              "#7201a8"
             ],
             [
              0.3333333333333333,
              "#9c179e"
             ],
             [
              0.4444444444444444,
              "#bd3786"
             ],
             [
              0.5555555555555556,
              "#d8576b"
             ],
             [
              0.6666666666666666,
              "#ed7953"
             ],
             [
              0.7777777777777778,
              "#fb9f3a"
             ],
             [
              0.8888888888888888,
              "#fdca26"
             ],
             [
              1,
              "#f0f921"
             ]
            ],
            "type": "heatmapgl"
           }
          ],
          "histogram": [
           {
            "marker": {
             "pattern": {
              "fillmode": "overlay",
              "size": 10,
              "solidity": 0.2
             }
            },
            "type": "histogram"
           }
          ],
          "histogram2d": [
           {
            "colorbar": {
             "outlinewidth": 0,
             "ticks": ""
            },
            "colorscale": [
             [
              0,
              "#0d0887"
             ],
             [
              0.1111111111111111,
              "#46039f"
             ],
             [
              0.2222222222222222,
              "#7201a8"
             ],
             [
              0.3333333333333333,
              "#9c179e"
             ],
             [
              0.4444444444444444,
              "#bd3786"
             ],
             [
              0.5555555555555556,
              "#d8576b"
             ],
             [
              0.6666666666666666,
              "#ed7953"
             ],
             [
              0.7777777777777778,
              "#fb9f3a"
             ],
             [
              0.8888888888888888,
              "#fdca26"
             ],
             [
              1,
              "#f0f921"
             ]
            ],
            "type": "histogram2d"
           }
          ],
          "histogram2dcontour": [
           {
            "colorbar": {
             "outlinewidth": 0,
             "ticks": ""
            },
            "colorscale": [
             [
              0,
              "#0d0887"
             ],
             [
              0.1111111111111111,
              "#46039f"
             ],
             [
              0.2222222222222222,
              "#7201a8"
             ],
             [
              0.3333333333333333,
              "#9c179e"
             ],
             [
              0.4444444444444444,
              "#bd3786"
             ],
             [
              0.5555555555555556,
              "#d8576b"
             ],
             [
              0.6666666666666666,
              "#ed7953"
             ],
             [
              0.7777777777777778,
              "#fb9f3a"
             ],
             [
              0.8888888888888888,
              "#fdca26"
             ],
             [
              1,
              "#f0f921"
             ]
            ],
            "type": "histogram2dcontour"
           }
          ],
          "mesh3d": [
           {
            "colorbar": {
             "outlinewidth": 0,
             "ticks": ""
            },
            "type": "mesh3d"
           }
          ],
          "parcoords": [
           {
            "line": {
             "colorbar": {
              "outlinewidth": 0,
              "ticks": ""
             }
            },
            "type": "parcoords"
           }
          ],
          "pie": [
           {
            "automargin": true,
            "type": "pie"
           }
          ],
          "scatter": [
           {
            "marker": {
             "line": {
              "color": "#283442"
             }
            },
            "type": "scatter"
           }
          ],
          "scatter3d": [
           {
            "line": {
             "colorbar": {
              "outlinewidth": 0,
              "ticks": ""
             }
            },
            "marker": {
             "colorbar": {
              "outlinewidth": 0,
              "ticks": ""
             }
            },
            "type": "scatter3d"
           }
          ],
          "scattercarpet": [
           {
            "marker": {
             "colorbar": {
              "outlinewidth": 0,
              "ticks": ""
             }
            },
            "type": "scattercarpet"
           }
          ],
          "scattergeo": [
           {
            "marker": {
             "colorbar": {
              "outlinewidth": 0,
              "ticks": ""
             }
            },
            "type": "scattergeo"
           }
          ],
          "scattergl": [
           {
            "marker": {
             "line": {
              "color": "#283442"
             }
            },
            "type": "scattergl"
           }
          ],
          "scattermapbox": [
           {
            "marker": {
             "colorbar": {
              "outlinewidth": 0,
              "ticks": ""
             }
            },
            "type": "scattermapbox"
           }
          ],
          "scatterpolar": [
           {
            "marker": {
             "colorbar": {
              "outlinewidth": 0,
              "ticks": ""
             }
            },
            "type": "scatterpolar"
           }
          ],
          "scatterpolargl": [
           {
            "marker": {
             "colorbar": {
              "outlinewidth": 0,
              "ticks": ""
             }
            },
            "type": "scatterpolargl"
           }
          ],
          "scatterternary": [
           {
            "marker": {
             "colorbar": {
              "outlinewidth": 0,
              "ticks": ""
             }
            },
            "type": "scatterternary"
           }
          ],
          "surface": [
           {
            "colorbar": {
             "outlinewidth": 0,
             "ticks": ""
            },
            "colorscale": [
             [
              0,
              "#0d0887"
             ],
             [
              0.1111111111111111,
              "#46039f"
             ],
             [
              0.2222222222222222,
              "#7201a8"
             ],
             [
              0.3333333333333333,
              "#9c179e"
             ],
             [
              0.4444444444444444,
              "#bd3786"
             ],
             [
              0.5555555555555556,
              "#d8576b"
             ],
             [
              0.6666666666666666,
              "#ed7953"
             ],
             [
              0.7777777777777778,
              "#fb9f3a"
             ],
             [
              0.8888888888888888,
              "#fdca26"
             ],
             [
              1,
              "#f0f921"
             ]
            ],
            "type": "surface"
           }
          ],
          "table": [
           {
            "cells": {
             "fill": {
              "color": "#506784"
             },
             "line": {
              "color": "rgb(17,17,17)"
             }
            },
            "header": {
             "fill": {
              "color": "#2a3f5f"
             },
             "line": {
              "color": "rgb(17,17,17)"
             }
            },
            "type": "table"
           }
          ]
         },
         "layout": {
          "annotationdefaults": {
           "arrowcolor": "#f2f5fa",
           "arrowhead": 0,
           "arrowwidth": 1
          },
          "autotypenumbers": "strict",
          "coloraxis": {
           "colorbar": {
            "outlinewidth": 0,
            "ticks": ""
           }
          },
          "colorscale": {
           "diverging": [
            [
             0,
             "#8e0152"
            ],
            [
             0.1,
             "#c51b7d"
            ],
            [
             0.2,
             "#de77ae"
            ],
            [
             0.3,
             "#f1b6da"
            ],
            [
             0.4,
             "#fde0ef"
            ],
            [
             0.5,
             "#f7f7f7"
            ],
            [
             0.6,
             "#e6f5d0"
            ],
            [
             0.7,
             "#b8e186"
            ],
            [
             0.8,
             "#7fbc41"
            ],
            [
             0.9,
             "#4d9221"
            ],
            [
             1,
             "#276419"
            ]
           ],
           "sequential": [
            [
             0,
             "#0d0887"
            ],
            [
             0.1111111111111111,
             "#46039f"
            ],
            [
             0.2222222222222222,
             "#7201a8"
            ],
            [
             0.3333333333333333,
             "#9c179e"
            ],
            [
             0.4444444444444444,
             "#bd3786"
            ],
            [
             0.5555555555555556,
             "#d8576b"
            ],
            [
             0.6666666666666666,
             "#ed7953"
            ],
            [
             0.7777777777777778,
             "#fb9f3a"
            ],
            [
             0.8888888888888888,
             "#fdca26"
            ],
            [
             1,
             "#f0f921"
            ]
           ],
           "sequentialminus": [
            [
             0,
             "#0d0887"
            ],
            [
             0.1111111111111111,
             "#46039f"
            ],
            [
             0.2222222222222222,
             "#7201a8"
            ],
            [
             0.3333333333333333,
             "#9c179e"
            ],
            [
             0.4444444444444444,
             "#bd3786"
            ],
            [
             0.5555555555555556,
             "#d8576b"
            ],
            [
             0.6666666666666666,
             "#ed7953"
            ],
            [
             0.7777777777777778,
             "#fb9f3a"
            ],
            [
             0.8888888888888888,
             "#fdca26"
            ],
            [
             1,
             "#f0f921"
            ]
           ]
          },
          "colorway": [
           "#636efa",
           "#EF553B",
           "#00cc96",
           "#ab63fa",
           "#FFA15A",
           "#19d3f3",
           "#FF6692",
           "#B6E880",
           "#FF97FF",
           "#FECB52"
          ],
          "font": {
           "color": "#f2f5fa"
          },
          "geo": {
           "bgcolor": "rgb(17,17,17)",
           "lakecolor": "rgb(17,17,17)",
           "landcolor": "rgb(17,17,17)",
           "showlakes": true,
           "showland": true,
           "subunitcolor": "#506784"
          },
          "hoverlabel": {
           "align": "left"
          },
          "hovermode": "closest",
          "mapbox": {
           "style": "dark"
          },
          "paper_bgcolor": "rgb(17,17,17)",
          "plot_bgcolor": "rgb(17,17,17)",
          "polar": {
           "angularaxis": {
            "gridcolor": "#506784",
            "linecolor": "#506784",
            "ticks": ""
           },
           "bgcolor": "rgb(17,17,17)",
           "radialaxis": {
            "gridcolor": "#506784",
            "linecolor": "#506784",
            "ticks": ""
           }
          },
          "scene": {
           "xaxis": {
            "backgroundcolor": "rgb(17,17,17)",
            "gridcolor": "#506784",
            "gridwidth": 2,
            "linecolor": "#506784",
            "showbackground": true,
            "ticks": "",
            "zerolinecolor": "#C8D4E3"
           },
           "yaxis": {
            "backgroundcolor": "rgb(17,17,17)",
            "gridcolor": "#506784",
            "gridwidth": 2,
            "linecolor": "#506784",
            "showbackground": true,
            "ticks": "",
            "zerolinecolor": "#C8D4E3"
           },
           "zaxis": {
            "backgroundcolor": "rgb(17,17,17)",
            "gridcolor": "#506784",
            "gridwidth": 2,
            "linecolor": "#506784",
            "showbackground": true,
            "ticks": "",
            "zerolinecolor": "#C8D4E3"
           }
          },
          "shapedefaults": {
           "line": {
            "color": "#f2f5fa"
           }
          },
          "sliderdefaults": {
           "bgcolor": "#C8D4E3",
           "bordercolor": "rgb(17,17,17)",
           "borderwidth": 1,
           "tickwidth": 0
          },
          "ternary": {
           "aaxis": {
            "gridcolor": "#506784",
            "linecolor": "#506784",
            "ticks": ""
           },
           "baxis": {
            "gridcolor": "#506784",
            "linecolor": "#506784",
            "ticks": ""
           },
           "bgcolor": "rgb(17,17,17)",
           "caxis": {
            "gridcolor": "#506784",
            "linecolor": "#506784",
            "ticks": ""
           }
          },
          "title": {
           "x": 0.05
          },
          "updatemenudefaults": {
           "bgcolor": "#506784",
           "borderwidth": 0
          },
          "xaxis": {
           "automargin": true,
           "gridcolor": "#283442",
           "linecolor": "#506784",
           "ticks": "",
           "title": {
            "standoff": 15
           },
           "zerolinecolor": "#283442",
           "zerolinewidth": 2
          },
          "yaxis": {
           "automargin": true,
           "gridcolor": "#283442",
           "linecolor": "#506784",
           "ticks": "",
           "title": {
            "standoff": 15
           },
           "zerolinecolor": "#283442",
           "zerolinewidth": 2
          }
         }
        },
        "width": 2400,
        "xaxis": {
         "anchor": "y",
         "domain": [
          0,
          0.45
         ]
        },
        "xaxis10": {
         "anchor": "y10",
         "domain": [
          0.55,
          1
         ]
        },
        "xaxis11": {
         "anchor": "y11",
         "domain": [
          0,
          0.45
         ]
        },
        "xaxis12": {
         "anchor": "y12",
         "domain": [
          0.55,
          1
         ]
        },
        "xaxis13": {
         "anchor": "y13",
         "domain": [
          0,
          0.45
         ]
        },
        "xaxis14": {
         "anchor": "y14",
         "domain": [
          0.55,
          1
         ]
        },
        "xaxis15": {
         "anchor": "y15",
         "domain": [
          0,
          0.45
         ]
        },
        "xaxis16": {
         "anchor": "y16",
         "domain": [
          0.55,
          1
         ]
        },
        "xaxis17": {
         "anchor": "y17",
         "domain": [
          0,
          0.45
         ]
        },
        "xaxis18": {
         "anchor": "y18",
         "domain": [
          0.55,
          1
         ]
        },
        "xaxis19": {
         "anchor": "y19",
         "domain": [
          0,
          0.45
         ]
        },
        "xaxis2": {
         "anchor": "y2",
         "domain": [
          0.55,
          1
         ]
        },
        "xaxis20": {
         "anchor": "y20",
         "domain": [
          0.55,
          1
         ]
        },
        "xaxis21": {
         "anchor": "y21",
         "domain": [
          0,
          0.45
         ]
        },
        "xaxis22": {
         "anchor": "y22",
         "domain": [
          0.55,
          1
         ]
        },
        "xaxis23": {
         "anchor": "y23",
         "domain": [
          0,
          0.45
         ]
        },
        "xaxis24": {
         "anchor": "y24",
         "domain": [
          0.55,
          1
         ]
        },
        "xaxis3": {
         "anchor": "y3",
         "domain": [
          0,
          0.45
         ]
        },
        "xaxis4": {
         "anchor": "y4",
         "domain": [
          0.55,
          1
         ]
        },
        "xaxis5": {
         "anchor": "y5",
         "domain": [
          0,
          0.45
         ]
        },
        "xaxis6": {
         "anchor": "y6",
         "domain": [
          0.55,
          1
         ]
        },
        "xaxis7": {
         "anchor": "y7",
         "domain": [
          0,
          0.45
         ]
        },
        "xaxis8": {
         "anchor": "y8",
         "domain": [
          0.55,
          1
         ]
        },
        "xaxis9": {
         "anchor": "y9",
         "domain": [
          0,
          0.45
         ]
        },
        "yaxis": {
         "anchor": "x",
         "domain": [
          0.9548611111111112,
          1
         ],
         "title": {
          "text": "Bayesian estimated mean Application"
         }
        },
        "yaxis10": {
         "anchor": "x10",
         "domain": [
          0.6076388888888888,
          0.6527777777777777
         ],
         "title": {
          "text": "Median Understanding"
         }
        },
        "yaxis11": {
         "anchor": "x11",
         "domain": [
          0.5208333333333334,
          0.5659722222222223
         ],
         "title": {
          "text": "Median Ease"
         }
        },
        "yaxis12": {
         "anchor": "x12",
         "domain": [
          0.5208333333333334,
          0.5659722222222223
         ]
        },
        "yaxis13": {
         "anchor": "x13",
         "domain": [
          0.4340277777777778,
          0.4791666666666667
         ],
         "title": {
          "text": "Mode Application"
         }
        },
        "yaxis14": {
         "anchor": "x14",
         "domain": [
          0.4340277777777778,
          0.4791666666666667
         ],
         "title": {
          "text": "Mode Relevance"
         }
        },
        "yaxis15": {
         "anchor": "x15",
         "domain": [
          0.3472222222222222,
          0.3923611111111111
         ],
         "title": {
          "text": "Mode Insight"
         }
        },
        "yaxis16": {
         "anchor": "x16",
         "domain": [
          0.3472222222222222,
          0.3923611111111111
         ],
         "title": {
          "text": "Mode Understanding"
         }
        },
        "yaxis17": {
         "anchor": "x17",
         "domain": [
          0.2604166666666667,
          0.3055555555555556
         ],
         "title": {
          "text": "Mode Ease"
         }
        },
        "yaxis18": {
         "anchor": "x18",
         "domain": [
          0.2604166666666667,
          0.3055555555555556
         ]
        },
        "yaxis19": {
         "anchor": "x19",
         "domain": [
          0.1736111111111111,
          0.21875
         ],
         "title": {
          "text": "Standard deviation Application"
         }
        },
        "yaxis2": {
         "anchor": "x2",
         "domain": [
          0.9548611111111112,
          1
         ],
         "title": {
          "text": "Bayesian estimated mean Relevance"
         }
        },
        "yaxis20": {
         "anchor": "x20",
         "domain": [
          0.1736111111111111,
          0.21875
         ],
         "title": {
          "text": "Standard deviation Relevance"
         }
        },
        "yaxis21": {
         "anchor": "x21",
         "domain": [
          0.08680555555555555,
          0.13194444444444445
         ],
         "title": {
          "text": "Standard deviation Insight"
         }
        },
        "yaxis22": {
         "anchor": "x22",
         "domain": [
          0.08680555555555555,
          0.13194444444444445
         ],
         "title": {
          "text": "Standard deviation Understanding"
         }
        },
        "yaxis23": {
         "anchor": "x23",
         "domain": [
          0,
          0.045138888888888895
         ],
         "title": {
          "text": "Standard deviation Ease"
         }
        },
        "yaxis24": {
         "anchor": "x24",
         "domain": [
          0,
          0.045138888888888895
         ]
        },
        "yaxis3": {
         "anchor": "x3",
         "domain": [
          0.8680555555555556,
          0.9131944444444444
         ],
         "title": {
          "text": "Bayesian estimated mean Insight"
         }
        },
        "yaxis4": {
         "anchor": "x4",
         "domain": [
          0.8680555555555556,
          0.9131944444444444
         ],
         "title": {
          "text": "Bayesian estimated mean Understanding"
         }
        },
        "yaxis5": {
         "anchor": "x5",
         "domain": [
          0.78125,
          0.8263888888888888
         ],
         "title": {
          "text": "Bayesian estimated mean Ease"
         }
        },
        "yaxis6": {
         "anchor": "x6",
         "domain": [
          0.78125,
          0.8263888888888888
         ]
        },
        "yaxis7": {
         "anchor": "x7",
         "domain": [
          0.6944444444444444,
          0.7395833333333333
         ],
         "title": {
          "text": "Median Application"
         }
        },
        "yaxis8": {
         "anchor": "x8",
         "domain": [
          0.6944444444444444,
          0.7395833333333333
         ],
         "title": {
          "text": "Median Relevance"
         }
        },
        "yaxis9": {
         "anchor": "x9",
         "domain": [
          0.6076388888888888,
          0.6527777777777777
         ],
         "title": {
          "text": "Median Insight"
         }
        }
       }
      }
     },
     "metadata": {},
     "output_type": "display_data"
    }
   ],
   "source": [
    "functions = [\n",
    "            lambda x: bayesian_mean(x, categories), \n",
    "            lambda x: pd.Series(np.nanmedian(x, axis=0), index=courses), \n",
    "            lambda x: pd.Series(stats.mode(x, nan_policy=\"omit\")[0].data[0], index=courses),\n",
    "            lambda x: x.std().droplevel(1),\n",
    "]\n",
    "function_to_name = {function: function_name for function, function_name in zip(functions, [\"Bayesian estimated mean\", \"Median\", \"Mode\", \"Standard deviation\"])}\n",
    "rows = len(functions) * 3\n",
    "cols = 2\n",
    "subtitles = np.empty((rows, cols), dtype=\"object\")\n",
    "for f_i, function in enumerate(functions):\n",
    "    for c_i, criterion in enumerate(criteria):\n",
    "        row = f_i * 3 + int(c_i / 2)\n",
    "        col = c_i % 2\n",
    "        subtitles[row, col] = (f\"{function_to_name.get(function)} {criterion} score for each course\")\n",
    "\n",
    "\n",
    "fig = make_subplots(rows=len(functions) * 3, cols=2, \n",
    "        subplot_titles=subtitles.reshape(-1))\n",
    "        \n",
    "for f_i, function in enumerate(functions):\n",
    "    for c_i, criterion in enumerate(criteria):\n",
    "        row = f_i * 3 + int(c_i / 2 + 1)\n",
    "        col = c_i % 2 + 1\n",
    "        course_to_criterion = function(df.loc[[(subject, criterion) for subject in courses]].T)\n",
    "\n",
    "        scatter = px.scatter(course_to_criterion, color=categories, symbol=categories)\n",
    "        for trace in scatter.select_traces():\n",
    "            # Only show legend once\n",
    "            if f_i == c_i == 0:\n",
    "                trace.showlegend = True\n",
    "            else:\n",
    "                trace.showlegend = False\n",
    "\n",
    "            fig.add_trace(\n",
    "                trace,\n",
    "                row=row, col=col\n",
    "            )\n",
    "        fig.update_yaxes(\n",
    "            title=f\"{function_to_name.get(function)} {criterion}\",\n",
    "            row=row, col=col\n",
    "        )\n",
    "    remove_double_naming_in_legend(fig)\n",
    "    fig.update_layout(height=5000, width=2400)\n",
    "fig"
   ]
  },
  {
   "cell_type": "markdown",
   "metadata": {},
   "source": [
    "### Scores & weighted scores"
   ]
  },
  {
   "cell_type": "code",
   "execution_count": 265,
   "metadata": {},
   "outputs": [],
   "source": [
    "score_df = get_scores_df(df, criteria, categories)"
   ]
  },
  {
   "cell_type": "code",
   "execution_count": 273,
   "metadata": {},
   "outputs": [],
   "source": [
    "i = 0\n",
    "course_to_num_ranking = {}\n",
    "while i < len(df):\n",
    "    course_to_num_ranking.update({df.iloc[i].name[0]:len(df.iloc[i].dropna())})\n",
    "    i += 5\n",
    "course_to_num_ranking_series = pd.Series(course_to_num_ranking)"
   ]
  },
  {
   "cell_type": "code",
   "execution_count": 447,
   "metadata": {},
   "outputs": [
    {
     "data": {
      "application/vnd.plotly.v1+json": {
       "config": {
        "plotlyServerURL": "https://plot.ly"
       },
       "data": [
        {
         "hovertemplate": "color=Chemistry<br>symbol=Chemistry<br>index=%{x}<br>value=%{y}<extra></extra>",
         "legendgroup": "Chemistry, Chemistry",
         "marker": {
          "color": "#636efa",
          "symbol": "circle"
         },
         "mode": "markers",
         "name": "Chemistry",
         "orientation": "v",
         "showlegend": true,
         "type": "scatter",
         "x": [
          "CHEM103",
          "CHEM101"
         ],
         "xaxis": "x",
         "y": [
          0.2542857142857143,
          0.40204081632653055
         ],
         "yaxis": "y"
        },
        {
         "hovertemplate": "color=Physics<br>symbol=Physics<br>index=%{x}<br>value=%{y}<extra></extra>",
         "legendgroup": "Physics, Physics",
         "marker": {
          "color": "#EF553B",
          "symbol": "diamond"
         },
         "mode": "markers",
         "name": "Physics",
         "orientation": "v",
         "showlegend": true,
         "type": "scatter",
         "x": [
          "PHYS210",
          "PHYS104",
          "PHYS103"
         ],
         "xaxis": "x",
         "y": [
          0.2733333333333334,
          0.48190476190476195,
          0.48833333333333334
         ],
         "yaxis": "y"
        },
        {
         "hovertemplate": "color=Humanities<br>symbol=Humanities<br>index=%{x}<br>value=%{y}<extra></extra>",
         "legendgroup": "Humanities, Humanities",
         "marker": {
          "color": "#00cc96",
          "symbol": "square"
         },
         "mode": "markers",
         "name": "Humanities",
         "orientation": "v",
         "showlegend": true,
         "type": "scatter",
         "x": [
          "ENTREPRENEUR101",
          "ARB100",
          "FAJAB101",
          "NAHAJ101",
          "TECH101",
          "ENGLISH110",
          "ENGLISH100"
         ],
         "xaxis": "x",
         "y": [
          0.4026749271137027,
          0.45984056122448985,
          0.4697874149659864,
          0.5598177842565597,
          0.5712463556851313,
          0.6483892128279883,
          0.7198582766439908
         ],
         "yaxis": "y"
        },
        {
         "hovertemplate": "color=Computer science<br>symbol=Computer science<br>index=%{x}<br>value=%{y}<extra></extra>",
         "legendgroup": "Computer science, Computer science",
         "marker": {
          "color": "#ab63fa",
          "symbol": "x"
         },
         "mode": "markers",
         "name": "Computer science",
         "orientation": "v",
         "showlegend": true,
         "type": "scatter",
         "x": [
          "CSC484",
          "CSC343",
          "CSC489",
          "CSC304",
          "CSC443",
          "CSC476",
          "CSC478",
          "CSC453",
          "CSC340",
          "CSC227",
          "CSC380",
          "CSC113",
          "CSC339",
          "CSC361",
          "CSC220",
          "CSC496",
          "CSC215",
          "CSC111",
          "CSC212",
          "CSC462",
          "CSC311",
          "CSC329"
         ],
         "xaxis": "x",
         "y": [
          0.4824437229437229,
          0.49648874458874465,
          0.5224437229437229,
          0.5404072871572873,
          0.5712218614718614,
          0.5824437229437229,
          0.5824437229437229,
          0.6084887445887446,
          0.6404887445887446,
          0.6524887445887445,
          0.6524887445887447,
          0.6660633889919605,
          0.6884887445887446,
          0.7004887445887447,
          0.7484887445887446,
          0.7556109307359307,
          0.7756109307359307,
          0.8378054653679654,
          0.8404072871572872,
          0.8564887445887446,
          0.8604887445887448,
          0.9084887445887446
         ],
         "yaxis": "y"
        },
        {
         "hovertemplate": "color=Islamics<br>symbol=Islamics<br>index=%{x}<br>value=%{y}<extra></extra>",
         "legendgroup": "Islamics, Islamics",
         "marker": {
          "color": "#FFA15A",
          "symbol": "cross"
         },
         "mode": "markers",
         "name": "Islamics",
         "orientation": "v",
         "showlegend": true,
         "type": "scatter",
         "x": [
          "SALAM108",
          "SALAM107"
         ],
         "xaxis": "x",
         "y": [
          0.4870285714285715,
          0.5850204081632654
         ],
         "yaxis": "y"
        },
        {
         "hovertemplate": "color=Mathematics<br>symbol=Mathematics<br>index=%{x}<br>value=%{y}<extra></extra>",
         "legendgroup": "Mathematics, Mathematics",
         "marker": {
          "color": "#19d3f3",
          "symbol": "circle"
         },
         "mode": "markers",
         "name": "Mathematics",
         "orientation": "v",
         "showlegend": true,
         "type": "scatter",
         "x": [
          "MATH106",
          "MATH244",
          "MATH281",
          "MATH101",
          "STAT101",
          "MATH151"
         ],
         "xaxis": "x",
         "y": [
          0.620091765873016,
          0.7167890211640211,
          0.7734556878306879,
          0.8000917658730158,
          0.8058191609977324,
          0.8500917658730158
         ],
         "yaxis": "y"
        },
        {
         "marker": {
          "color": "rgba(100, 100, 100, 0.3)"
         },
         "name": "Percentage of data points",
         "type": "bar",
         "x": [
          "ENGLISH100",
          "ARB100",
          "MATH101",
          "CHEM101",
          "STAT101",
          "TECH101",
          "ENTREPRENEUR101",
          "FAJAB101",
          "NAHAJ101",
          "ENGLISH110",
          "SALAM107",
          "PHYS104",
          "MATH106",
          "CSC111",
          "MATH151",
          "SALAM108",
          "CSC113",
          "CSC220",
          "MATH244",
          "CSC212",
          "CSC215",
          "MATH281",
          "CSC304",
          "CSC380",
          "CSC227",
          "CSC311",
          "CSC339",
          "CSC343",
          "CSC361",
          "CSC329",
          "CSC340",
          "CSC453",
          "CSC496",
          "PHYS210",
          "PHYS103",
          "CHEM103",
          "CSC443",
          "CSC462",
          "CSC476",
          "CSC478",
          "CSC484",
          "CSC489"
         ],
         "y": [
          0.24227185592617448,
          0.2153527608232662,
          0.2153527608232662,
          0.18843366572035794,
          0.18843366572035794,
          0.18843366572035794,
          0.18843366572035794,
          0.16151457061744964,
          0.18843366572035794,
          0.18843366572035794,
          0.18843366572035794,
          0.18843366572035794,
          0.2153527608232662,
          0.2153527608232662,
          0.2153527608232662,
          0.13459547551454137,
          0.18843366572035794,
          0.13459547551454137,
          0.16151457061744964,
          0.16151457061744964,
          0.1076763804116331,
          0.16151457061744964,
          0.16151457061744964,
          0.13459547551454137,
          0.13459547551454137,
          0.13459547551454137,
          0.13459547551454137,
          0.13459547551454137,
          0.13459547551454137,
          0.13459547551454137,
          0.13459547551454137,
          0.13459547551454137,
          0.1076763804116331,
          0.026919095102908276,
          0.1076763804116331,
          0.026919095102908276,
          0.05383819020581655,
          0.13459547551454137,
          0.026919095102908276,
          0.026919095102908276,
          0.026919095102908276,
          0.026919095102908276
         ]
        }
       ],
       "layout": {
        "height": 1000,
        "legend": {
         "title": {
          "text": "color, symbol"
         },
         "tracegroupgap": 0
        },
        "template": {
         "data": {
          "bar": [
           {
            "error_x": {
             "color": "#f2f5fa"
            },
            "error_y": {
             "color": "#f2f5fa"
            },
            "marker": {
             "line": {
              "color": "rgb(17,17,17)",
              "width": 0.5
             },
             "pattern": {
              "fillmode": "overlay",
              "size": 10,
              "solidity": 0.2
             }
            },
            "type": "bar"
           }
          ],
          "barpolar": [
           {
            "marker": {
             "line": {
              "color": "rgb(17,17,17)",
              "width": 0.5
             },
             "pattern": {
              "fillmode": "overlay",
              "size": 10,
              "solidity": 0.2
             }
            },
            "type": "barpolar"
           }
          ],
          "carpet": [
           {
            "aaxis": {
             "endlinecolor": "#A2B1C6",
             "gridcolor": "#506784",
             "linecolor": "#506784",
             "minorgridcolor": "#506784",
             "startlinecolor": "#A2B1C6"
            },
            "baxis": {
             "endlinecolor": "#A2B1C6",
             "gridcolor": "#506784",
             "linecolor": "#506784",
             "minorgridcolor": "#506784",
             "startlinecolor": "#A2B1C6"
            },
            "type": "carpet"
           }
          ],
          "choropleth": [
           {
            "colorbar": {
             "outlinewidth": 0,
             "ticks": ""
            },
            "type": "choropleth"
           }
          ],
          "contour": [
           {
            "colorbar": {
             "outlinewidth": 0,
             "ticks": ""
            },
            "colorscale": [
             [
              0,
              "#0d0887"
             ],
             [
              0.1111111111111111,
              "#46039f"
             ],
             [
              0.2222222222222222,
              "#7201a8"
             ],
             [
              0.3333333333333333,
              "#9c179e"
             ],
             [
              0.4444444444444444,
              "#bd3786"
             ],
             [
              0.5555555555555556,
              "#d8576b"
             ],
             [
              0.6666666666666666,
              "#ed7953"
             ],
             [
              0.7777777777777778,
              "#fb9f3a"
             ],
             [
              0.8888888888888888,
              "#fdca26"
             ],
             [
              1,
              "#f0f921"
             ]
            ],
            "type": "contour"
           }
          ],
          "contourcarpet": [
           {
            "colorbar": {
             "outlinewidth": 0,
             "ticks": ""
            },
            "type": "contourcarpet"
           }
          ],
          "heatmap": [
           {
            "colorbar": {
             "outlinewidth": 0,
             "ticks": ""
            },
            "colorscale": [
             [
              0,
              "#0d0887"
             ],
             [
              0.1111111111111111,
              "#46039f"
             ],
             [
              0.2222222222222222,
              "#7201a8"
             ],
             [
              0.3333333333333333,
              "#9c179e"
             ],
             [
              0.4444444444444444,
              "#bd3786"
             ],
             [
              0.5555555555555556,
              "#d8576b"
             ],
             [
              0.6666666666666666,
              "#ed7953"
             ],
             [
              0.7777777777777778,
              "#fb9f3a"
             ],
             [
              0.8888888888888888,
              "#fdca26"
             ],
             [
              1,
              "#f0f921"
             ]
            ],
            "type": "heatmap"
           }
          ],
          "heatmapgl": [
           {
            "colorbar": {
             "outlinewidth": 0,
             "ticks": ""
            },
            "colorscale": [
             [
              0,
              "#0d0887"
             ],
             [
              0.1111111111111111,
              "#46039f"
             ],
             [
              0.2222222222222222,
              "#7201a8"
             ],
             [
              0.3333333333333333,
              "#9c179e"
             ],
             [
              0.4444444444444444,
              "#bd3786"
             ],
             [
              0.5555555555555556,
              "#d8576b"
             ],
             [
              0.6666666666666666,
              "#ed7953"
             ],
             [
              0.7777777777777778,
              "#fb9f3a"
             ],
             [
              0.8888888888888888,
              "#fdca26"
             ],
             [
              1,
              "#f0f921"
             ]
            ],
            "type": "heatmapgl"
           }
          ],
          "histogram": [
           {
            "marker": {
             "pattern": {
              "fillmode": "overlay",
              "size": 10,
              "solidity": 0.2
             }
            },
            "type": "histogram"
           }
          ],
          "histogram2d": [
           {
            "colorbar": {
             "outlinewidth": 0,
             "ticks": ""
            },
            "colorscale": [
             [
              0,
              "#0d0887"
             ],
             [
              0.1111111111111111,
              "#46039f"
             ],
             [
              0.2222222222222222,
              "#7201a8"
             ],
             [
              0.3333333333333333,
              "#9c179e"
             ],
             [
              0.4444444444444444,
              "#bd3786"
             ],
             [
              0.5555555555555556,
              "#d8576b"
             ],
             [
              0.6666666666666666,
              "#ed7953"
             ],
             [
              0.7777777777777778,
              "#fb9f3a"
             ],
             [
              0.8888888888888888,
              "#fdca26"
             ],
             [
              1,
              "#f0f921"
             ]
            ],
            "type": "histogram2d"
           }
          ],
          "histogram2dcontour": [
           {
            "colorbar": {
             "outlinewidth": 0,
             "ticks": ""
            },
            "colorscale": [
             [
              0,
              "#0d0887"
             ],
             [
              0.1111111111111111,
              "#46039f"
             ],
             [
              0.2222222222222222,
              "#7201a8"
             ],
             [
              0.3333333333333333,
              "#9c179e"
             ],
             [
              0.4444444444444444,
              "#bd3786"
             ],
             [
              0.5555555555555556,
              "#d8576b"
             ],
             [
              0.6666666666666666,
              "#ed7953"
             ],
             [
              0.7777777777777778,
              "#fb9f3a"
             ],
             [
              0.8888888888888888,
              "#fdca26"
             ],
             [
              1,
              "#f0f921"
             ]
            ],
            "type": "histogram2dcontour"
           }
          ],
          "mesh3d": [
           {
            "colorbar": {
             "outlinewidth": 0,
             "ticks": ""
            },
            "type": "mesh3d"
           }
          ],
          "parcoords": [
           {
            "line": {
             "colorbar": {
              "outlinewidth": 0,
              "ticks": ""
             }
            },
            "type": "parcoords"
           }
          ],
          "pie": [
           {
            "automargin": true,
            "type": "pie"
           }
          ],
          "scatter": [
           {
            "marker": {
             "line": {
              "color": "#283442"
             }
            },
            "type": "scatter"
           }
          ],
          "scatter3d": [
           {
            "line": {
             "colorbar": {
              "outlinewidth": 0,
              "ticks": ""
             }
            },
            "marker": {
             "colorbar": {
              "outlinewidth": 0,
              "ticks": ""
             }
            },
            "type": "scatter3d"
           }
          ],
          "scattercarpet": [
           {
            "marker": {
             "colorbar": {
              "outlinewidth": 0,
              "ticks": ""
             }
            },
            "type": "scattercarpet"
           }
          ],
          "scattergeo": [
           {
            "marker": {
             "colorbar": {
              "outlinewidth": 0,
              "ticks": ""
             }
            },
            "type": "scattergeo"
           }
          ],
          "scattergl": [
           {
            "marker": {
             "line": {
              "color": "#283442"
             }
            },
            "type": "scattergl"
           }
          ],
          "scattermapbox": [
           {
            "marker": {
             "colorbar": {
              "outlinewidth": 0,
              "ticks": ""
             }
            },
            "type": "scattermapbox"
           }
          ],
          "scatterpolar": [
           {
            "marker": {
             "colorbar": {
              "outlinewidth": 0,
              "ticks": ""
             }
            },
            "type": "scatterpolar"
           }
          ],
          "scatterpolargl": [
           {
            "marker": {
             "colorbar": {
              "outlinewidth": 0,
              "ticks": ""
             }
            },
            "type": "scatterpolargl"
           }
          ],
          "scatterternary": [
           {
            "marker": {
             "colorbar": {
              "outlinewidth": 0,
              "ticks": ""
             }
            },
            "type": "scatterternary"
           }
          ],
          "surface": [
           {
            "colorbar": {
             "outlinewidth": 0,
             "ticks": ""
            },
            "colorscale": [
             [
              0,
              "#0d0887"
             ],
             [
              0.1111111111111111,
              "#46039f"
             ],
             [
              0.2222222222222222,
              "#7201a8"
             ],
             [
              0.3333333333333333,
              "#9c179e"
             ],
             [
              0.4444444444444444,
              "#bd3786"
             ],
             [
              0.5555555555555556,
              "#d8576b"
             ],
             [
              0.6666666666666666,
              "#ed7953"
             ],
             [
              0.7777777777777778,
              "#fb9f3a"
             ],
             [
              0.8888888888888888,
              "#fdca26"
             ],
             [
              1,
              "#f0f921"
             ]
            ],
            "type": "surface"
           }
          ],
          "table": [
           {
            "cells": {
             "fill": {
              "color": "#506784"
             },
             "line": {
              "color": "rgb(17,17,17)"
             }
            },
            "header": {
             "fill": {
              "color": "#2a3f5f"
             },
             "line": {
              "color": "rgb(17,17,17)"
             }
            },
            "type": "table"
           }
          ]
         },
         "layout": {
          "annotationdefaults": {
           "arrowcolor": "#f2f5fa",
           "arrowhead": 0,
           "arrowwidth": 1
          },
          "autotypenumbers": "strict",
          "coloraxis": {
           "colorbar": {
            "outlinewidth": 0,
            "ticks": ""
           }
          },
          "colorscale": {
           "diverging": [
            [
             0,
             "#8e0152"
            ],
            [
             0.1,
             "#c51b7d"
            ],
            [
             0.2,
             "#de77ae"
            ],
            [
             0.3,
             "#f1b6da"
            ],
            [
             0.4,
             "#fde0ef"
            ],
            [
             0.5,
             "#f7f7f7"
            ],
            [
             0.6,
             "#e6f5d0"
            ],
            [
             0.7,
             "#b8e186"
            ],
            [
             0.8,
             "#7fbc41"
            ],
            [
             0.9,
             "#4d9221"
            ],
            [
             1,
             "#276419"
            ]
           ],
           "sequential": [
            [
             0,
             "#0d0887"
            ],
            [
             0.1111111111111111,
             "#46039f"
            ],
            [
             0.2222222222222222,
             "#7201a8"
            ],
            [
             0.3333333333333333,
             "#9c179e"
            ],
            [
             0.4444444444444444,
             "#bd3786"
            ],
            [
             0.5555555555555556,
             "#d8576b"
            ],
            [
             0.6666666666666666,
             "#ed7953"
            ],
            [
             0.7777777777777778,
             "#fb9f3a"
            ],
            [
             0.8888888888888888,
             "#fdca26"
            ],
            [
             1,
             "#f0f921"
            ]
           ],
           "sequentialminus": [
            [
             0,
             "#0d0887"
            ],
            [
             0.1111111111111111,
             "#46039f"
            ],
            [
             0.2222222222222222,
             "#7201a8"
            ],
            [
             0.3333333333333333,
             "#9c179e"
            ],
            [
             0.4444444444444444,
             "#bd3786"
            ],
            [
             0.5555555555555556,
             "#d8576b"
            ],
            [
             0.6666666666666666,
             "#ed7953"
            ],
            [
             0.7777777777777778,
             "#fb9f3a"
            ],
            [
             0.8888888888888888,
             "#fdca26"
            ],
            [
             1,
             "#f0f921"
            ]
           ]
          },
          "colorway": [
           "#636efa",
           "#EF553B",
           "#00cc96",
           "#ab63fa",
           "#FFA15A",
           "#19d3f3",
           "#FF6692",
           "#B6E880",
           "#FF97FF",
           "#FECB52"
          ],
          "font": {
           "color": "#f2f5fa"
          },
          "geo": {
           "bgcolor": "rgb(17,17,17)",
           "lakecolor": "rgb(17,17,17)",
           "landcolor": "rgb(17,17,17)",
           "showlakes": true,
           "showland": true,
           "subunitcolor": "#506784"
          },
          "hoverlabel": {
           "align": "left"
          },
          "hovermode": "closest",
          "mapbox": {
           "style": "dark"
          },
          "paper_bgcolor": "rgb(17,17,17)",
          "plot_bgcolor": "rgb(17,17,17)",
          "polar": {
           "angularaxis": {
            "gridcolor": "#506784",
            "linecolor": "#506784",
            "ticks": ""
           },
           "bgcolor": "rgb(17,17,17)",
           "radialaxis": {
            "gridcolor": "#506784",
            "linecolor": "#506784",
            "ticks": ""
           }
          },
          "scene": {
           "xaxis": {
            "backgroundcolor": "rgb(17,17,17)",
            "gridcolor": "#506784",
            "gridwidth": 2,
            "linecolor": "#506784",
            "showbackground": true,
            "ticks": "",
            "zerolinecolor": "#C8D4E3"
           },
           "yaxis": {
            "backgroundcolor": "rgb(17,17,17)",
            "gridcolor": "#506784",
            "gridwidth": 2,
            "linecolor": "#506784",
            "showbackground": true,
            "ticks": "",
            "zerolinecolor": "#C8D4E3"
           },
           "zaxis": {
            "backgroundcolor": "rgb(17,17,17)",
            "gridcolor": "#506784",
            "gridwidth": 2,
            "linecolor": "#506784",
            "showbackground": true,
            "ticks": "",
            "zerolinecolor": "#C8D4E3"
           }
          },
          "shapedefaults": {
           "line": {
            "color": "#f2f5fa"
           }
          },
          "sliderdefaults": {
           "bgcolor": "#C8D4E3",
           "bordercolor": "rgb(17,17,17)",
           "borderwidth": 1,
           "tickwidth": 0
          },
          "ternary": {
           "aaxis": {
            "gridcolor": "#506784",
            "linecolor": "#506784",
            "ticks": ""
           },
           "baxis": {
            "gridcolor": "#506784",
            "linecolor": "#506784",
            "ticks": ""
           },
           "bgcolor": "rgb(17,17,17)",
           "caxis": {
            "gridcolor": "#506784",
            "linecolor": "#506784",
            "ticks": ""
           }
          },
          "title": {
           "x": 0.05
          },
          "updatemenudefaults": {
           "bgcolor": "#506784",
           "borderwidth": 0
          },
          "xaxis": {
           "automargin": true,
           "gridcolor": "#283442",
           "linecolor": "#506784",
           "ticks": "",
           "title": {
            "standoff": 15
           },
           "zerolinecolor": "#283442",
           "zerolinewidth": 2
          },
          "yaxis": {
           "automargin": true,
           "gridcolor": "#283442",
           "linecolor": "#506784",
           "ticks": "",
           "title": {
            "standoff": 15
           },
           "zerolinecolor": "#283442",
           "zerolinewidth": 2
          }
         }
        },
        "title": {
         "text": "Course ranking (General)"
        },
        "width": 2000,
        "xaxis": {
         "anchor": "y",
         "domain": [
          0,
          1
         ],
         "title": {
          "text": "Course"
         }
        },
        "yaxis": {
         "anchor": "x",
         "domain": [
          0,
          1
         ],
         "title": {
          "text": "Ranking"
         }
        }
       }
      }
     },
     "metadata": {},
     "output_type": "display_data"
    }
   ],
   "source": [
    "sorted_categories = course_to_category((scores_df.sum().sort_values() / 25).index)\n",
    "fig = px.scatter(scores_df.sum().sort_values() / 25, color=sorted_categories, symbol=sorted_categories, title=\"Course ranking (General)\")\n",
    "fig.update_xaxes(title=\"Course\")\n",
    "fig.update_yaxes(title=\"Ranking\")\n",
    "\n",
    "remove_double_naming_in_legend(fig)\n",
    "\n",
    "fig.add_trace(\n",
    "    go.Bar(x=course_to_num_ranking_series.index, y=course_to_num_ranking_series / np.linalg.norm(course_to_num_ranking_series), marker={\"color\": \"rgba(100, 100, 100, 0.3)\"}, name=\"Percentage of data points\"),\n",
    "    # row=2, col=1\n",
    ")\n",
    "fig.update_layout(height=1000, width=2000)"
   ]
  },
  {
   "cell_type": "code",
   "execution_count": 499,
   "metadata": {},
   "outputs": [],
   "source": [
    "weights_real_world = {\"Application\": 1.5, \"Relevance\": 1, \"Understanding\": 0.2, \"Ease\": 0.5}\n",
    "weights_academic = {\"Insight\": 1.5, \"Understanding\": 1.5}\n",
    "\n",
    "scores_df_real_world = scores_df.apply(lambda x: weights_real_world.get(x.name, 0) * x, axis=1)\n",
    "scores_df_academic = scores_df.apply(lambda x: weights_academic.get(x.name, 0) * x, axis=1)\n",
    "\n",
    "standardized_scores_df_real_world = scores_df_real_world.sum() / max(scores_df_real_world.sum())\n",
    "standardized_scores_df_academic = scores_df_academic.sum() / max(scores_df_academic.sum())"
   ]
  },
  {
   "cell_type": "code",
   "execution_count": 500,
   "metadata": {},
   "outputs": [],
   "source": [
    "weighted_scores = pd.DataFrame([standardized_scores_df_real_world, standardized_scores_df_academic]).T\n",
    "weighted_scores.columns = (\"Real-world score\", \"Academic score\")"
   ]
  },
  {
   "cell_type": "code",
   "execution_count": 533,
   "metadata": {},
   "outputs": [
    {
     "data": {
      "application/vnd.plotly.v1+json": {
       "config": {
        "plotlyServerURL": "https://plot.ly"
       },
       "data": [
        {
         "hovertemplate": "<b>%{hovertext}</b><br><br>color=Humanities<br>symbol=Humanities<br>Real-world score=%{x}<br>Academic score=%{y}<br>index=%{text}<extra></extra>",
         "hovertext": [
          "ENGLISH100",
          "ARB100",
          "TECH101",
          "ENTREPRENEUR101",
          "FAJAB101",
          "NAHAJ101",
          "ENGLISH110"
         ],
         "legendgroup": "Humanities, Humanities",
         "marker": {
          "color": "#636efa",
          "symbol": "circle"
         },
         "mode": "markers+text",
         "name": "Humanities",
         "orientation": "v",
         "showlegend": true,
         "text": [
          "ENGLISH100",
          "ARB100",
          "TECH101",
          "ENTREPRENEUR101",
          "FAJAB101",
          "NAHAJ101",
          "ENGLISH110"
         ],
         "textposition": "top center",
         "type": "scatter",
         "x": [
          0.9468045191875127,
          0.5080174228336983,
          0.6997651716652742,
          0.421044333601285,
          0.48611093928933197,
          0.5616208121361767,
          0.8481244310187064
         ],
         "xaxis": "x",
         "y": [
          0.4506280363436899,
          0.4163236661514291,
          0.4092110574288171,
          0.36481944531360627,
          0.416990983843472,
          0.6089733119472657,
          0.4166096594480189
         ],
         "yaxis": "y"
        },
        {
         "hovertemplate": "<b>%{hovertext}</b><br><br>color=Mathematics<br>symbol=Mathematics<br>Real-world score=%{x}<br>Academic score=%{y}<br>index=%{text}<extra></extra>",
         "hovertext": [
          "MATH101",
          "STAT101",
          "MATH106",
          "MATH151",
          "MATH244",
          "MATH281"
         ],
         "legendgroup": "Mathematics, Mathematics",
         "marker": {
          "color": "#EF553B",
          "symbol": "diamond"
         },
         "mode": "markers+text",
         "name": "Mathematics",
         "orientation": "v",
         "showlegend": true,
         "text": [
          "MATH101",
          "STAT101",
          "MATH106",
          "MATH151",
          "MATH244",
          "MATH281"
         ],
         "textposition": "top center",
         "type": "scatter",
         "x": [
          0.9008936148769036,
          0.9541970135368479,
          0.7208560054730048,
          0.9549474597806743,
          0.8703422310810313,
          0.8135927876125055
         ],
         "xaxis": "x",
         "y": [
          0.8771325279257524,
          0.8174721242922435,
          0.6311290107872924,
          0.851237420858546,
          0.720661514736094,
          0.8501370500721255
         ],
         "yaxis": "y"
        },
        {
         "hovertemplate": "<b>%{hovertext}</b><br><br>color=Chemistry<br>symbol=Chemistry<br>Real-world score=%{x}<br>Academic score=%{y}<br>index=%{text}<extra></extra>",
         "hovertext": [
          "CHEM101",
          "CHEM103"
         ],
         "legendgroup": "Chemistry, Chemistry",
         "marker": {
          "color": "#00cc96",
          "symbol": "square"
         },
         "mode": "markers+text",
         "name": "Chemistry",
         "orientation": "v",
         "showlegend": true,
         "text": [
          "CHEM101",
          "CHEM103"
         ],
         "textposition": "top center",
         "type": "scatter",
         "x": [
          0.4634923933898796,
          0.28212580467210063
         ],
         "xaxis": "x",
         "y": [
          0.3466773517568844,
          0.25155246865286124
         ],
         "yaxis": "y"
        },
        {
         "hovertemplate": "<b>%{hovertext}</b><br><br>color=Islamics<br>symbol=Islamics<br>Real-world score=%{x}<br>Academic score=%{y}<br>index=%{text}<extra></extra>",
         "hovertext": [
          "SALAM107",
          "SALAM108"
         ],
         "legendgroup": "Islamics, Islamics",
         "marker": {
          "color": "#ab63fa",
          "symbol": "x"
         },
         "mode": "markers+text",
         "name": "Islamics",
         "orientation": "v",
         "showlegend": true,
         "text": [
          "SALAM107",
          "SALAM108"
         ],
         "textposition": "top center",
         "type": "scatter",
         "x": [
          0.6553240427440177,
          0.5646991192412673
         ],
         "xaxis": "x",
         "y": [
          0.47393330648715537,
          0.31133317296801183
         ],
         "yaxis": "y"
        },
        {
         "hovertemplate": "<b>%{hovertext}</b><br><br>color=Physics<br>symbol=Physics<br>Real-world score=%{x}<br>Academic score=%{y}<br>index=%{text}<extra></extra>",
         "hovertext": [
          "PHYS104",
          "PHYS210",
          "PHYS103"
         ],
         "legendgroup": "Physics, Physics",
         "marker": {
          "color": "#FFA15A",
          "symbol": "cross"
         },
         "mode": "markers+text",
         "name": "Physics",
         "orientation": "v",
         "showlegend": true,
         "text": [
          "PHYS104",
          "PHYS210",
          "PHYS103"
         ],
         "textposition": "top center",
         "type": "scatter",
         "x": [
          0.5728914225743075,
          0.28861145535421784,
          0.5216084561092803
         ],
         "xaxis": "x",
         "y": [
          0.44972930845290954,
          0.29964338177767297,
          0.566917879721338
         ],
         "yaxis": "y"
        },
        {
         "hovertemplate": "<b>%{hovertext}</b><br><br>color=Computer science<br>symbol=Computer science<br>Real-world score=%{x}<br>Academic score=%{y}<br>index=%{text}<extra></extra>",
         "hovertext": [
          "CSC111",
          "CSC113",
          "CSC220",
          "CSC212",
          "CSC215",
          "CSC304",
          "CSC380",
          "CSC227",
          "CSC311",
          "CSC339",
          "CSC343",
          "CSC361",
          "CSC329",
          "CSC340",
          "CSC453",
          "CSC496",
          "CSC443",
          "CSC462",
          "CSC476",
          "CSC478",
          "CSC484",
          "CSC489"
         ],
         "legendgroup": "Computer science, Computer science",
         "marker": {
          "color": "#19d3f3",
          "symbol": "circle"
         },
         "mode": "markers+text",
         "name": "Computer science",
         "orientation": "v",
         "showlegend": true,
         "text": [
          "CSC111",
          "CSC113",
          "CSC220",
          "CSC212",
          "CSC215",
          "CSC304",
          "CSC380",
          "CSC227",
          "CSC311",
          "CSC339",
          "CSC343",
          "CSC361",
          "CSC329",
          "CSC340",
          "CSC453",
          "CSC496",
          "CSC443",
          "CSC462",
          "CSC476",
          "CSC478",
          "CSC484",
          "CSC489"
         ],
         "textposition": "top center",
         "type": "scatter",
         "x": [
          0.9301701322519985,
          0.7215820713030962,
          0.820898756413332,
          0.8741929326306719,
          0.892478506148286,
          0.5558285547722414,
          0.7493944576429892,
          0.748713464321367,
          0.9468825209134597,
          0.62885863971584,
          0.6084288400671706,
          0.760290350788946,
          1,
          0.6349875796104408,
          0.6526934059726209,
          0.9018421643205929,
          0.6476981651873117,
          0.9877421202107983,
          0.6518576414415391,
          0.6450477082253159,
          0.5701384428468617,
          0.5769483760630847
         ],
         "xaxis": "x",
         "y": [
          0.8794755353360314,
          0.6573806026244086,
          0.8374685010591117,
          1,
          0.8396747697862393,
          0.47346615630013855,
          0.6717398158289914,
          0.6303076445214614,
          0.9514069721548195,
          0.8374685010591117,
          0.43350483081069335,
          0.7856782869246992,
          0.9928391434623496,
          0.7649622012709342,
          0.6510237301752263,
          0.7878845556518267,
          0.46227950741378215,
          0.8892587151935245,
          0.6138177300210889,
          0.5620275158866762,
          0.4584470876178509,
          0.5102373017522636
         ],
         "yaxis": "y"
        }
       ],
       "layout": {
        "height": 1000,
        "legend": {
         "title": {
          "text": "color, symbol"
         },
         "tracegroupgap": 0
        },
        "template": {
         "data": {
          "bar": [
           {
            "error_x": {
             "color": "#f2f5fa"
            },
            "error_y": {
             "color": "#f2f5fa"
            },
            "marker": {
             "line": {
              "color": "rgb(17,17,17)",
              "width": 0.5
             },
             "pattern": {
              "fillmode": "overlay",
              "size": 10,
              "solidity": 0.2
             }
            },
            "type": "bar"
           }
          ],
          "barpolar": [
           {
            "marker": {
             "line": {
              "color": "rgb(17,17,17)",
              "width": 0.5
             },
             "pattern": {
              "fillmode": "overlay",
              "size": 10,
              "solidity": 0.2
             }
            },
            "type": "barpolar"
           }
          ],
          "carpet": [
           {
            "aaxis": {
             "endlinecolor": "#A2B1C6",
             "gridcolor": "#506784",
             "linecolor": "#506784",
             "minorgridcolor": "#506784",
             "startlinecolor": "#A2B1C6"
            },
            "baxis": {
             "endlinecolor": "#A2B1C6",
             "gridcolor": "#506784",
             "linecolor": "#506784",
             "minorgridcolor": "#506784",
             "startlinecolor": "#A2B1C6"
            },
            "type": "carpet"
           }
          ],
          "choropleth": [
           {
            "colorbar": {
             "outlinewidth": 0,
             "ticks": ""
            },
            "type": "choropleth"
           }
          ],
          "contour": [
           {
            "colorbar": {
             "outlinewidth": 0,
             "ticks": ""
            },
            "colorscale": [
             [
              0,
              "#0d0887"
             ],
             [
              0.1111111111111111,
              "#46039f"
             ],
             [
              0.2222222222222222,
              "#7201a8"
             ],
             [
              0.3333333333333333,
              "#9c179e"
             ],
             [
              0.4444444444444444,
              "#bd3786"
             ],
             [
              0.5555555555555556,
              "#d8576b"
             ],
             [
              0.6666666666666666,
              "#ed7953"
             ],
             [
              0.7777777777777778,
              "#fb9f3a"
             ],
             [
              0.8888888888888888,
              "#fdca26"
             ],
             [
              1,
              "#f0f921"
             ]
            ],
            "type": "contour"
           }
          ],
          "contourcarpet": [
           {
            "colorbar": {
             "outlinewidth": 0,
             "ticks": ""
            },
            "type": "contourcarpet"
           }
          ],
          "heatmap": [
           {
            "colorbar": {
             "outlinewidth": 0,
             "ticks": ""
            },
            "colorscale": [
             [
              0,
              "#0d0887"
             ],
             [
              0.1111111111111111,
              "#46039f"
             ],
             [
              0.2222222222222222,
              "#7201a8"
             ],
             [
              0.3333333333333333,
              "#9c179e"
             ],
             [
              0.4444444444444444,
              "#bd3786"
             ],
             [
              0.5555555555555556,
              "#d8576b"
             ],
             [
              0.6666666666666666,
              "#ed7953"
             ],
             [
              0.7777777777777778,
              "#fb9f3a"
             ],
             [
              0.8888888888888888,
              "#fdca26"
             ],
             [
              1,
              "#f0f921"
             ]
            ],
            "type": "heatmap"
           }
          ],
          "heatmapgl": [
           {
            "colorbar": {
             "outlinewidth": 0,
             "ticks": ""
            },
            "colorscale": [
             [
              0,
              "#0d0887"
             ],
             [
              0.1111111111111111,
              "#46039f"
             ],
             [
              0.2222222222222222,
              "#7201a8"
             ],
             [
              0.3333333333333333,
              "#9c179e"
             ],
             [
              0.4444444444444444,
              "#bd3786"
             ],
             [
              0.5555555555555556,
              "#d8576b"
             ],
             [
              0.6666666666666666,
              "#ed7953"
             ],
             [
              0.7777777777777778,
              "#fb9f3a"
             ],
             [
              0.8888888888888888,
              "#fdca26"
             ],
             [
              1,
              "#f0f921"
             ]
            ],
            "type": "heatmapgl"
           }
          ],
          "histogram": [
           {
            "marker": {
             "pattern": {
              "fillmode": "overlay",
              "size": 10,
              "solidity": 0.2
             }
            },
            "type": "histogram"
           }
          ],
          "histogram2d": [
           {
            "colorbar": {
             "outlinewidth": 0,
             "ticks": ""
            },
            "colorscale": [
             [
              0,
              "#0d0887"
             ],
             [
              0.1111111111111111,
              "#46039f"
             ],
             [
              0.2222222222222222,
              "#7201a8"
             ],
             [
              0.3333333333333333,
              "#9c179e"
             ],
             [
              0.4444444444444444,
              "#bd3786"
             ],
             [
              0.5555555555555556,
              "#d8576b"
             ],
             [
              0.6666666666666666,
              "#ed7953"
             ],
             [
              0.7777777777777778,
              "#fb9f3a"
             ],
             [
              0.8888888888888888,
              "#fdca26"
             ],
             [
              1,
              "#f0f921"
             ]
            ],
            "type": "histogram2d"
           }
          ],
          "histogram2dcontour": [
           {
            "colorbar": {
             "outlinewidth": 0,
             "ticks": ""
            },
            "colorscale": [
             [
              0,
              "#0d0887"
             ],
             [
              0.1111111111111111,
              "#46039f"
             ],
             [
              0.2222222222222222,
              "#7201a8"
             ],
             [
              0.3333333333333333,
              "#9c179e"
             ],
             [
              0.4444444444444444,
              "#bd3786"
             ],
             [
              0.5555555555555556,
              "#d8576b"
             ],
             [
              0.6666666666666666,
              "#ed7953"
             ],
             [
              0.7777777777777778,
              "#fb9f3a"
             ],
             [
              0.8888888888888888,
              "#fdca26"
             ],
             [
              1,
              "#f0f921"
             ]
            ],
            "type": "histogram2dcontour"
           }
          ],
          "mesh3d": [
           {
            "colorbar": {
             "outlinewidth": 0,
             "ticks": ""
            },
            "type": "mesh3d"
           }
          ],
          "parcoords": [
           {
            "line": {
             "colorbar": {
              "outlinewidth": 0,
              "ticks": ""
             }
            },
            "type": "parcoords"
           }
          ],
          "pie": [
           {
            "automargin": true,
            "type": "pie"
           }
          ],
          "scatter": [
           {
            "marker": {
             "line": {
              "color": "#283442"
             }
            },
            "type": "scatter"
           }
          ],
          "scatter3d": [
           {
            "line": {
             "colorbar": {
              "outlinewidth": 0,
              "ticks": ""
             }
            },
            "marker": {
             "colorbar": {
              "outlinewidth": 0,
              "ticks": ""
             }
            },
            "type": "scatter3d"
           }
          ],
          "scattercarpet": [
           {
            "marker": {
             "colorbar": {
              "outlinewidth": 0,
              "ticks": ""
             }
            },
            "type": "scattercarpet"
           }
          ],
          "scattergeo": [
           {
            "marker": {
             "colorbar": {
              "outlinewidth": 0,
              "ticks": ""
             }
            },
            "type": "scattergeo"
           }
          ],
          "scattergl": [
           {
            "marker": {
             "line": {
              "color": "#283442"
             }
            },
            "type": "scattergl"
           }
          ],
          "scattermapbox": [
           {
            "marker": {
             "colorbar": {
              "outlinewidth": 0,
              "ticks": ""
             }
            },
            "type": "scattermapbox"
           }
          ],
          "scatterpolar": [
           {
            "marker": {
             "colorbar": {
              "outlinewidth": 0,
              "ticks": ""
             }
            },
            "type": "scatterpolar"
           }
          ],
          "scatterpolargl": [
           {
            "marker": {
             "colorbar": {
              "outlinewidth": 0,
              "ticks": ""
             }
            },
            "type": "scatterpolargl"
           }
          ],
          "scatterternary": [
           {
            "marker": {
             "colorbar": {
              "outlinewidth": 0,
              "ticks": ""
             }
            },
            "type": "scatterternary"
           }
          ],
          "surface": [
           {
            "colorbar": {
             "outlinewidth": 0,
             "ticks": ""
            },
            "colorscale": [
             [
              0,
              "#0d0887"
             ],
             [
              0.1111111111111111,
              "#46039f"
             ],
             [
              0.2222222222222222,
              "#7201a8"
             ],
             [
              0.3333333333333333,
              "#9c179e"
             ],
             [
              0.4444444444444444,
              "#bd3786"
             ],
             [
              0.5555555555555556,
              "#d8576b"
             ],
             [
              0.6666666666666666,
              "#ed7953"
             ],
             [
              0.7777777777777778,
              "#fb9f3a"
             ],
             [
              0.8888888888888888,
              "#fdca26"
             ],
             [
              1,
              "#f0f921"
             ]
            ],
            "type": "surface"
           }
          ],
          "table": [
           {
            "cells": {
             "fill": {
              "color": "#506784"
             },
             "line": {
              "color": "rgb(17,17,17)"
             }
            },
            "header": {
             "fill": {
              "color": "#2a3f5f"
             },
             "line": {
              "color": "rgb(17,17,17)"
             }
            },
            "type": "table"
           }
          ]
         },
         "layout": {
          "annotationdefaults": {
           "arrowcolor": "#f2f5fa",
           "arrowhead": 0,
           "arrowwidth": 1
          },
          "autotypenumbers": "strict",
          "coloraxis": {
           "colorbar": {
            "outlinewidth": 0,
            "ticks": ""
           }
          },
          "colorscale": {
           "diverging": [
            [
             0,
             "#8e0152"
            ],
            [
             0.1,
             "#c51b7d"
            ],
            [
             0.2,
             "#de77ae"
            ],
            [
             0.3,
             "#f1b6da"
            ],
            [
             0.4,
             "#fde0ef"
            ],
            [
             0.5,
             "#f7f7f7"
            ],
            [
             0.6,
             "#e6f5d0"
            ],
            [
             0.7,
             "#b8e186"
            ],
            [
             0.8,
             "#7fbc41"
            ],
            [
             0.9,
             "#4d9221"
            ],
            [
             1,
             "#276419"
            ]
           ],
           "sequential": [
            [
             0,
             "#0d0887"
            ],
            [
             0.1111111111111111,
             "#46039f"
            ],
            [
             0.2222222222222222,
             "#7201a8"
            ],
            [
             0.3333333333333333,
             "#9c179e"
            ],
            [
             0.4444444444444444,
             "#bd3786"
            ],
            [
             0.5555555555555556,
             "#d8576b"
            ],
            [
             0.6666666666666666,
             "#ed7953"
            ],
            [
             0.7777777777777778,
             "#fb9f3a"
            ],
            [
             0.8888888888888888,
             "#fdca26"
            ],
            [
             1,
             "#f0f921"
            ]
           ],
           "sequentialminus": [
            [
             0,
             "#0d0887"
            ],
            [
             0.1111111111111111,
             "#46039f"
            ],
            [
             0.2222222222222222,
             "#7201a8"
            ],
            [
             0.3333333333333333,
             "#9c179e"
            ],
            [
             0.4444444444444444,
             "#bd3786"
            ],
            [
             0.5555555555555556,
             "#d8576b"
            ],
            [
             0.6666666666666666,
             "#ed7953"
            ],
            [
             0.7777777777777778,
             "#fb9f3a"
            ],
            [
             0.8888888888888888,
             "#fdca26"
            ],
            [
             1,
             "#f0f921"
            ]
           ]
          },
          "colorway": [
           "#636efa",
           "#EF553B",
           "#00cc96",
           "#ab63fa",
           "#FFA15A",
           "#19d3f3",
           "#FF6692",
           "#B6E880",
           "#FF97FF",
           "#FECB52"
          ],
          "font": {
           "color": "#f2f5fa"
          },
          "geo": {
           "bgcolor": "rgb(17,17,17)",
           "lakecolor": "rgb(17,17,17)",
           "landcolor": "rgb(17,17,17)",
           "showlakes": true,
           "showland": true,
           "subunitcolor": "#506784"
          },
          "hoverlabel": {
           "align": "left"
          },
          "hovermode": "closest",
          "mapbox": {
           "style": "dark"
          },
          "paper_bgcolor": "rgb(17,17,17)",
          "plot_bgcolor": "rgb(17,17,17)",
          "polar": {
           "angularaxis": {
            "gridcolor": "#506784",
            "linecolor": "#506784",
            "ticks": ""
           },
           "bgcolor": "rgb(17,17,17)",
           "radialaxis": {
            "gridcolor": "#506784",
            "linecolor": "#506784",
            "ticks": ""
           }
          },
          "scene": {
           "xaxis": {
            "backgroundcolor": "rgb(17,17,17)",
            "gridcolor": "#506784",
            "gridwidth": 2,
            "linecolor": "#506784",
            "showbackground": true,
            "ticks": "",
            "zerolinecolor": "#C8D4E3"
           },
           "yaxis": {
            "backgroundcolor": "rgb(17,17,17)",
            "gridcolor": "#506784",
            "gridwidth": 2,
            "linecolor": "#506784",
            "showbackground": true,
            "ticks": "",
            "zerolinecolor": "#C8D4E3"
           },
           "zaxis": {
            "backgroundcolor": "rgb(17,17,17)",
            "gridcolor": "#506784",
            "gridwidth": 2,
            "linecolor": "#506784",
            "showbackground": true,
            "ticks": "",
            "zerolinecolor": "#C8D4E3"
           }
          },
          "shapedefaults": {
           "line": {
            "color": "#f2f5fa"
           }
          },
          "sliderdefaults": {
           "bgcolor": "#C8D4E3",
           "bordercolor": "rgb(17,17,17)",
           "borderwidth": 1,
           "tickwidth": 0
          },
          "ternary": {
           "aaxis": {
            "gridcolor": "#506784",
            "linecolor": "#506784",
            "ticks": ""
           },
           "baxis": {
            "gridcolor": "#506784",
            "linecolor": "#506784",
            "ticks": ""
           },
           "bgcolor": "rgb(17,17,17)",
           "caxis": {
            "gridcolor": "#506784",
            "linecolor": "#506784",
            "ticks": ""
           }
          },
          "title": {
           "x": 0.05
          },
          "updatemenudefaults": {
           "bgcolor": "#506784",
           "borderwidth": 0
          },
          "xaxis": {
           "automargin": true,
           "gridcolor": "#283442",
           "linecolor": "#506784",
           "ticks": "",
           "title": {
            "standoff": 15
           },
           "zerolinecolor": "#283442",
           "zerolinewidth": 2
          },
          "yaxis": {
           "automargin": true,
           "gridcolor": "#283442",
           "linecolor": "#506784",
           "ticks": "",
           "title": {
            "standoff": 15
           },
           "zerolinecolor": "#283442",
           "zerolinewidth": 2
          }
         }
        },
        "title": {
         "text": "Course ranking (Real-world Vs. Academic)"
        },
        "width": 1600,
        "xaxis": {
         "anchor": "y",
         "domain": [
          0,
          1
         ],
         "title": {
          "text": "Real-world score"
         }
        },
        "yaxis": {
         "anchor": "x",
         "domain": [
          0,
          1
         ],
         "title": {
          "text": "Academic score"
         }
        }
       }
      }
     },
     "metadata": {},
     "output_type": "display_data"
    }
   ],
   "source": [
    "sorted_categories = course_to_category(weighted_scores.index)\n",
    "fig = px.scatter(weighted_scores, x=\"Real-world score\", y=\"Academic score\",color=sorted_categories, symbol=sorted_categories, title=\"Course ranking (Real-world Vs. Academic)\",\n",
    "                hover_name=weighted_scores.index, text=weighted_scores.index)\n",
    "\n",
    "remove_double_naming_in_legend(fig)\n",
    "\n",
    "fig.update_traces(textposition=\"top center\")\n",
    "fig.update_layout(height=1000, width=1600)\n",
    "fig"
   ]
  },
  {
   "cell_type": "markdown",
   "metadata": {},
   "source": [
    "## Meta-stats"
   ]
  },
  {
   "cell_type": "code",
   "execution_count": 431,
   "metadata": {},
   "outputs": [],
   "source": [
    "rating_counts_per_criteria = []\n",
    "for criterion in criteria:\n",
    "    rating_counts_per_criteria.append(df_by_regex(f\".*{criterion}.*\").apply(pd.value_counts).sum(axis=1))\n",
    "rating_counts_df = pd.DataFrame(rating_counts_per_criteria).T\n",
    "rating_counts_df.columns = criteria"
   ]
  },
  {
   "cell_type": "code",
   "execution_count": 432,
   "metadata": {},
   "outputs": [
    {
     "data": {
      "text/html": [
       "<div>\n",
       "<style scoped>\n",
       "    .dataframe tbody tr th:only-of-type {\n",
       "        vertical-align: middle;\n",
       "    }\n",
       "\n",
       "    .dataframe tbody tr th {\n",
       "        vertical-align: top;\n",
       "    }\n",
       "\n",
       "    .dataframe thead th {\n",
       "        text-align: right;\n",
       "    }\n",
       "</style>\n",
       "<table border=\"1\" class=\"dataframe\">\n",
       "  <thead>\n",
       "    <tr style=\"text-align: right;\">\n",
       "      <th></th>\n",
       "      <th>Application</th>\n",
       "      <th>Relevance</th>\n",
       "      <th>Insight</th>\n",
       "      <th>Understanding</th>\n",
       "      <th>Ease</th>\n",
       "    </tr>\n",
       "  </thead>\n",
       "  <tbody>\n",
       "    <tr>\n",
       "      <th>1.0</th>\n",
       "      <td>40.0</td>\n",
       "      <td>35.0</td>\n",
       "      <td>51.0</td>\n",
       "      <td>36.0</td>\n",
       "      <td>28.0</td>\n",
       "    </tr>\n",
       "    <tr>\n",
       "      <th>2.0</th>\n",
       "      <td>30.0</td>\n",
       "      <td>31.0</td>\n",
       "      <td>30.0</td>\n",
       "      <td>26.0</td>\n",
       "      <td>28.0</td>\n",
       "    </tr>\n",
       "    <tr>\n",
       "      <th>3.0</th>\n",
       "      <td>40.0</td>\n",
       "      <td>42.0</td>\n",
       "      <td>40.0</td>\n",
       "      <td>38.0</td>\n",
       "      <td>45.0</td>\n",
       "    </tr>\n",
       "    <tr>\n",
       "      <th>4.0</th>\n",
       "      <td>26.0</td>\n",
       "      <td>36.0</td>\n",
       "      <td>39.0</td>\n",
       "      <td>44.0</td>\n",
       "      <td>45.0</td>\n",
       "    </tr>\n",
       "    <tr>\n",
       "      <th>5.0</th>\n",
       "      <td>86.0</td>\n",
       "      <td>78.0</td>\n",
       "      <td>62.0</td>\n",
       "      <td>78.0</td>\n",
       "      <td>76.0</td>\n",
       "    </tr>\n",
       "  </tbody>\n",
       "</table>\n",
       "</div>"
      ],
      "text/plain": [
       "     Application  Relevance  Insight  Understanding  Ease\n",
       "1.0         40.0       35.0     51.0           36.0  28.0\n",
       "2.0         30.0       31.0     30.0           26.0  28.0\n",
       "3.0         40.0       42.0     40.0           38.0  45.0\n",
       "4.0         26.0       36.0     39.0           44.0  45.0\n",
       "5.0         86.0       78.0     62.0           78.0  76.0"
      ]
     },
     "execution_count": 432,
     "metadata": {},
     "output_type": "execute_result"
    }
   ],
   "source": [
    "rating_counts_df"
   ]
  },
  {
   "cell_type": "code",
   "execution_count": 433,
   "metadata": {},
   "outputs": [],
   "source": [
    "rating_counts_raw_criteria = []\n",
    "for criterion in criteria:\n",
    "    rating_counts_raw_criteria.append(np.concatenate(df_by_regex(f\".*{criterion}.*\").values))\n",
    "rating_counts_raw_df = pd.DataFrame(rating_counts_raw_criteria).T\n",
    "rating_counts_raw_df.columns = criteria"
   ]
  },
  {
   "cell_type": "code",
   "execution_count": 434,
   "metadata": {},
   "outputs": [
    {
     "data": {
      "application/vnd.plotly.v1+json": {
       "config": {
        "plotlyServerURL": "https://plot.ly"
       },
       "data": [
        {
         "alignmentgroup": "True",
         "box": {
          "visible": false
         },
         "hovertemplate": "variable=%{x}<br>value=%{y}<extra></extra>",
         "legendgroup": "",
         "marker": {
          "color": "#636efa"
         },
         "name": "",
         "offsetgroup": "",
         "orientation": "v",
         "scalegroup": "True",
         "showlegend": false,
         "type": "violin",
         "x": [
          "Application",
          "Application",
          "Application",
          "Application",
          "Application",
          "Application",
          "Application",
          "Application",
          "Application",
          "Application",
          "Application",
          "Application",
          "Application",
          "Application",
          "Application",
          "Application",
          "Application",
          "Application",
          "Application",
          "Application",
          "Application",
          "Application",
          "Application",
          "Application",
          "Application",
          "Application",
          "Application",
          "Application",
          "Application",
          "Application",
          "Application",
          "Application",
          "Application",
          "Application",
          "Application",
          "Application",
          "Application",
          "Application",
          "Application",
          "Application",
          "Application",
          "Application",
          "Application",
          "Application",
          "Application",
          "Application",
          "Application",
          "Application",
          "Application",
          "Application",
          "Application",
          "Application",
          "Application",
          "Application",
          "Application",
          "Application",
          "Application",
          "Application",
          "Application",
          "Application",
          "Application",
          "Application",
          "Application",
          "Application",
          "Application",
          "Application",
          "Application",
          "Application",
          "Application",
          "Application",
          "Application",
          "Application",
          "Application",
          "Application",
          "Application",
          "Application",
          "Application",
          "Application",
          "Application",
          "Application",
          "Application",
          "Application",
          "Application",
          "Application",
          "Application",
          "Application",
          "Application",
          "Application",
          "Application",
          "Application",
          "Application",
          "Application",
          "Application",
          "Application",
          "Application",
          "Application",
          "Application",
          "Application",
          "Application",
          "Application",
          "Application",
          "Application",
          "Application",
          "Application",
          "Application",
          "Application",
          "Application",
          "Application",
          "Application",
          "Application",
          "Application",
          "Application",
          "Application",
          "Application",
          "Application",
          "Application",
          "Application",
          "Application",
          "Application",
          "Application",
          "Application",
          "Application",
          "Application",
          "Application",
          "Application",
          "Application",
          "Application",
          "Application",
          "Application",
          "Application",
          "Application",
          "Application",
          "Application",
          "Application",
          "Application",
          "Application",
          "Application",
          "Application",
          "Application",
          "Application",
          "Application",
          "Application",
          "Application",
          "Application",
          "Application",
          "Application",
          "Application",
          "Application",
          "Application",
          "Application",
          "Application",
          "Application",
          "Application",
          "Application",
          "Application",
          "Application",
          "Application",
          "Application",
          "Application",
          "Application",
          "Application",
          "Application",
          "Application",
          "Application",
          "Application",
          "Application",
          "Application",
          "Application",
          "Application",
          "Application",
          "Application",
          "Application",
          "Application",
          "Application",
          "Application",
          "Application",
          "Application",
          "Application",
          "Application",
          "Application",
          "Application",
          "Application",
          "Application",
          "Application",
          "Application",
          "Application",
          "Application",
          "Application",
          "Application",
          "Application",
          "Application",
          "Application",
          "Application",
          "Application",
          "Application",
          "Application",
          "Application",
          "Application",
          "Application",
          "Application",
          "Application",
          "Application",
          "Application",
          "Application",
          "Application",
          "Application",
          "Application",
          "Application",
          "Application",
          "Application",
          "Application",
          "Application",
          "Application",
          "Application",
          "Application",
          "Application",
          "Application",
          "Application",
          "Application",
          "Application",
          "Application",
          "Application",
          "Application",
          "Application",
          "Application",
          "Application",
          "Application",
          "Application",
          "Application",
          "Application",
          "Application",
          "Application",
          "Application",
          "Application",
          "Application",
          "Application",
          "Application",
          "Application",
          "Application",
          "Application",
          "Application",
          "Application",
          "Application",
          "Application",
          "Application",
          "Application",
          "Application",
          "Application",
          "Application",
          "Application",
          "Application",
          "Application",
          "Application",
          "Application",
          "Application",
          "Application",
          "Application",
          "Application",
          "Application",
          "Application",
          "Application",
          "Application",
          "Application",
          "Application",
          "Application",
          "Application",
          "Application",
          "Application",
          "Application",
          "Application",
          "Application",
          "Application",
          "Application",
          "Application",
          "Application",
          "Application",
          "Application",
          "Application",
          "Application",
          "Application",
          "Application",
          "Application",
          "Application",
          "Application",
          "Application",
          "Application",
          "Application",
          "Application",
          "Application",
          "Application",
          "Application",
          "Application",
          "Application",
          "Application",
          "Application",
          "Application",
          "Application",
          "Application",
          "Application",
          "Application",
          "Application",
          "Application",
          "Application",
          "Application",
          "Application",
          "Application",
          "Application",
          "Application",
          "Application",
          "Application",
          "Application",
          "Application",
          "Application",
          "Application",
          "Application",
          "Application",
          "Application",
          "Application",
          "Application",
          "Application",
          "Application",
          "Application",
          "Application",
          "Application",
          "Application",
          "Application",
          "Application",
          "Application",
          "Application",
          "Application",
          "Application",
          "Application",
          "Application",
          "Application",
          "Application",
          "Application",
          "Application",
          "Application",
          "Application",
          "Application",
          "Application",
          "Application",
          "Application",
          "Application",
          "Application",
          "Application",
          "Application",
          "Application",
          "Application",
          "Application",
          "Application",
          "Application",
          "Application",
          "Application",
          "Application",
          "Application",
          "Application",
          "Application",
          "Application",
          "Application",
          "Application",
          "Application",
          "Application",
          "Application",
          "Application",
          "Application",
          "Application",
          "Application",
          "Application",
          "Application",
          "Application",
          "Application",
          "Application",
          "Application",
          "Application",
          "Application",
          "Application",
          "Application",
          "Relevance",
          "Relevance",
          "Relevance",
          "Relevance",
          "Relevance",
          "Relevance",
          "Relevance",
          "Relevance",
          "Relevance",
          "Relevance",
          "Relevance",
          "Relevance",
          "Relevance",
          "Relevance",
          "Relevance",
          "Relevance",
          "Relevance",
          "Relevance",
          "Relevance",
          "Relevance",
          "Relevance",
          "Relevance",
          "Relevance",
          "Relevance",
          "Relevance",
          "Relevance",
          "Relevance",
          "Relevance",
          "Relevance",
          "Relevance",
          "Relevance",
          "Relevance",
          "Relevance",
          "Relevance",
          "Relevance",
          "Relevance",
          "Relevance",
          "Relevance",
          "Relevance",
          "Relevance",
          "Relevance",
          "Relevance",
          "Relevance",
          "Relevance",
          "Relevance",
          "Relevance",
          "Relevance",
          "Relevance",
          "Relevance",
          "Relevance",
          "Relevance",
          "Relevance",
          "Relevance",
          "Relevance",
          "Relevance",
          "Relevance",
          "Relevance",
          "Relevance",
          "Relevance",
          "Relevance",
          "Relevance",
          "Relevance",
          "Relevance",
          "Relevance",
          "Relevance",
          "Relevance",
          "Relevance",
          "Relevance",
          "Relevance",
          "Relevance",
          "Relevance",
          "Relevance",
          "Relevance",
          "Relevance",
          "Relevance",
          "Relevance",
          "Relevance",
          "Relevance",
          "Relevance",
          "Relevance",
          "Relevance",
          "Relevance",
          "Relevance",
          "Relevance",
          "Relevance",
          "Relevance",
          "Relevance",
          "Relevance",
          "Relevance",
          "Relevance",
          "Relevance",
          "Relevance",
          "Relevance",
          "Relevance",
          "Relevance",
          "Relevance",
          "Relevance",
          "Relevance",
          "Relevance",
          "Relevance",
          "Relevance",
          "Relevance",
          "Relevance",
          "Relevance",
          "Relevance",
          "Relevance",
          "Relevance",
          "Relevance",
          "Relevance",
          "Relevance",
          "Relevance",
          "Relevance",
          "Relevance",
          "Relevance",
          "Relevance",
          "Relevance",
          "Relevance",
          "Relevance",
          "Relevance",
          "Relevance",
          "Relevance",
          "Relevance",
          "Relevance",
          "Relevance",
          "Relevance",
          "Relevance",
          "Relevance",
          "Relevance",
          "Relevance",
          "Relevance",
          "Relevance",
          "Relevance",
          "Relevance",
          "Relevance",
          "Relevance",
          "Relevance",
          "Relevance",
          "Relevance",
          "Relevance",
          "Relevance",
          "Relevance",
          "Relevance",
          "Relevance",
          "Relevance",
          "Relevance",
          "Relevance",
          "Relevance",
          "Relevance",
          "Relevance",
          "Relevance",
          "Relevance",
          "Relevance",
          "Relevance",
          "Relevance",
          "Relevance",
          "Relevance",
          "Relevance",
          "Relevance",
          "Relevance",
          "Relevance",
          "Relevance",
          "Relevance",
          "Relevance",
          "Relevance",
          "Relevance",
          "Relevance",
          "Relevance",
          "Relevance",
          "Relevance",
          "Relevance",
          "Relevance",
          "Relevance",
          "Relevance",
          "Relevance",
          "Relevance",
          "Relevance",
          "Relevance",
          "Relevance",
          "Relevance",
          "Relevance",
          "Relevance",
          "Relevance",
          "Relevance",
          "Relevance",
          "Relevance",
          "Relevance",
          "Relevance",
          "Relevance",
          "Relevance",
          "Relevance",
          "Relevance",
          "Relevance",
          "Relevance",
          "Relevance",
          "Relevance",
          "Relevance",
          "Relevance",
          "Relevance",
          "Relevance",
          "Relevance",
          "Relevance",
          "Relevance",
          "Relevance",
          "Relevance",
          "Relevance",
          "Relevance",
          "Relevance",
          "Relevance",
          "Relevance",
          "Relevance",
          "Relevance",
          "Relevance",
          "Relevance",
          "Relevance",
          "Relevance",
          "Relevance",
          "Relevance",
          "Relevance",
          "Relevance",
          "Relevance",
          "Relevance",
          "Relevance",
          "Relevance",
          "Relevance",
          "Relevance",
          "Relevance",
          "Relevance",
          "Relevance",
          "Relevance",
          "Relevance",
          "Relevance",
          "Relevance",
          "Relevance",
          "Relevance",
          "Relevance",
          "Relevance",
          "Relevance",
          "Relevance",
          "Relevance",
          "Relevance",
          "Relevance",
          "Relevance",
          "Relevance",
          "Relevance",
          "Relevance",
          "Relevance",
          "Relevance",
          "Relevance",
          "Relevance",
          "Relevance",
          "Relevance",
          "Relevance",
          "Relevance",
          "Relevance",
          "Relevance",
          "Relevance",
          "Relevance",
          "Relevance",
          "Relevance",
          "Relevance",
          "Relevance",
          "Relevance",
          "Relevance",
          "Relevance",
          "Relevance",
          "Relevance",
          "Relevance",
          "Relevance",
          "Relevance",
          "Relevance",
          "Relevance",
          "Relevance",
          "Relevance",
          "Relevance",
          "Relevance",
          "Relevance",
          "Relevance",
          "Relevance",
          "Relevance",
          "Relevance",
          "Relevance",
          "Relevance",
          "Relevance",
          "Relevance",
          "Relevance",
          "Relevance",
          "Relevance",
          "Relevance",
          "Relevance",
          "Relevance",
          "Relevance",
          "Relevance",
          "Relevance",
          "Relevance",
          "Relevance",
          "Relevance",
          "Relevance",
          "Relevance",
          "Relevance",
          "Relevance",
          "Relevance",
          "Relevance",
          "Relevance",
          "Relevance",
          "Relevance",
          "Relevance",
          "Relevance",
          "Relevance",
          "Relevance",
          "Relevance",
          "Relevance",
          "Relevance",
          "Relevance",
          "Relevance",
          "Relevance",
          "Relevance",
          "Relevance",
          "Relevance",
          "Relevance",
          "Relevance",
          "Relevance",
          "Relevance",
          "Relevance",
          "Relevance",
          "Relevance",
          "Relevance",
          "Relevance",
          "Relevance",
          "Relevance",
          "Relevance",
          "Relevance",
          "Relevance",
          "Relevance",
          "Relevance",
          "Relevance",
          "Relevance",
          "Relevance",
          "Relevance",
          "Relevance",
          "Relevance",
          "Relevance",
          "Relevance",
          "Relevance",
          "Relevance",
          "Relevance",
          "Relevance",
          "Relevance",
          "Relevance",
          "Relevance",
          "Relevance",
          "Relevance",
          "Relevance",
          "Relevance",
          "Relevance",
          "Relevance",
          "Relevance",
          "Relevance",
          "Relevance",
          "Relevance",
          "Relevance",
          "Relevance",
          "Relevance",
          "Relevance",
          "Relevance",
          "Relevance",
          "Relevance",
          "Relevance",
          "Relevance",
          "Relevance",
          "Relevance",
          "Relevance",
          "Relevance",
          "Relevance",
          "Relevance",
          "Relevance",
          "Relevance",
          "Relevance",
          "Relevance",
          "Insight",
          "Insight",
          "Insight",
          "Insight",
          "Insight",
          "Insight",
          "Insight",
          "Insight",
          "Insight",
          "Insight",
          "Insight",
          "Insight",
          "Insight",
          "Insight",
          "Insight",
          "Insight",
          "Insight",
          "Insight",
          "Insight",
          "Insight",
          "Insight",
          "Insight",
          "Insight",
          "Insight",
          "Insight",
          "Insight",
          "Insight",
          "Insight",
          "Insight",
          "Insight",
          "Insight",
          "Insight",
          "Insight",
          "Insight",
          "Insight",
          "Insight",
          "Insight",
          "Insight",
          "Insight",
          "Insight",
          "Insight",
          "Insight",
          "Insight",
          "Insight",
          "Insight",
          "Insight",
          "Insight",
          "Insight",
          "Insight",
          "Insight",
          "Insight",
          "Insight",
          "Insight",
          "Insight",
          "Insight",
          "Insight",
          "Insight",
          "Insight",
          "Insight",
          "Insight",
          "Insight",
          "Insight",
          "Insight",
          "Insight",
          "Insight",
          "Insight",
          "Insight",
          "Insight",
          "Insight",
          "Insight",
          "Insight",
          "Insight",
          "Insight",
          "Insight",
          "Insight",
          "Insight",
          "Insight",
          "Insight",
          "Insight",
          "Insight",
          "Insight",
          "Insight",
          "Insight",
          "Insight",
          "Insight",
          "Insight",
          "Insight",
          "Insight",
          "Insight",
          "Insight",
          "Insight",
          "Insight",
          "Insight",
          "Insight",
          "Insight",
          "Insight",
          "Insight",
          "Insight",
          "Insight",
          "Insight",
          "Insight",
          "Insight",
          "Insight",
          "Insight",
          "Insight",
          "Insight",
          "Insight",
          "Insight",
          "Insight",
          "Insight",
          "Insight",
          "Insight",
          "Insight",
          "Insight",
          "Insight",
          "Insight",
          "Insight",
          "Insight",
          "Insight",
          "Insight",
          "Insight",
          "Insight",
          "Insight",
          "Insight",
          "Insight",
          "Insight",
          "Insight",
          "Insight",
          "Insight",
          "Insight",
          "Insight",
          "Insight",
          "Insight",
          "Insight",
          "Insight",
          "Insight",
          "Insight",
          "Insight",
          "Insight",
          "Insight",
          "Insight",
          "Insight",
          "Insight",
          "Insight",
          "Insight",
          "Insight",
          "Insight",
          "Insight",
          "Insight",
          "Insight",
          "Insight",
          "Insight",
          "Insight",
          "Insight",
          "Insight",
          "Insight",
          "Insight",
          "Insight",
          "Insight",
          "Insight",
          "Insight",
          "Insight",
          "Insight",
          "Insight",
          "Insight",
          "Insight",
          "Insight",
          "Insight",
          "Insight",
          "Insight",
          "Insight",
          "Insight",
          "Insight",
          "Insight",
          "Insight",
          "Insight",
          "Insight",
          "Insight",
          "Insight",
          "Insight",
          "Insight",
          "Insight",
          "Insight",
          "Insight",
          "Insight",
          "Insight",
          "Insight",
          "Insight",
          "Insight",
          "Insight",
          "Insight",
          "Insight",
          "Insight",
          "Insight",
          "Insight",
          "Insight",
          "Insight",
          "Insight",
          "Insight",
          "Insight",
          "Insight",
          "Insight",
          "Insight",
          "Insight",
          "Insight",
          "Insight",
          "Insight",
          "Insight",
          "Insight",
          "Insight",
          "Insight",
          "Insight",
          "Insight",
          "Insight",
          "Insight",
          "Insight",
          "Insight",
          "Insight",
          "Insight",
          "Insight",
          "Insight",
          "Insight",
          "Insight",
          "Insight",
          "Insight",
          "Insight",
          "Insight",
          "Insight",
          "Insight",
          "Insight",
          "Insight",
          "Insight",
          "Insight",
          "Insight",
          "Insight",
          "Insight",
          "Insight",
          "Insight",
          "Insight",
          "Insight",
          "Insight",
          "Insight",
          "Insight",
          "Insight",
          "Insight",
          "Insight",
          "Insight",
          "Insight",
          "Insight",
          "Insight",
          "Insight",
          "Insight",
          "Insight",
          "Insight",
          "Insight",
          "Insight",
          "Insight",
          "Insight",
          "Insight",
          "Insight",
          "Insight",
          "Insight",
          "Insight",
          "Insight",
          "Insight",
          "Insight",
          "Insight",
          "Insight",
          "Insight",
          "Insight",
          "Insight",
          "Insight",
          "Insight",
          "Insight",
          "Insight",
          "Insight",
          "Insight",
          "Insight",
          "Insight",
          "Insight",
          "Insight",
          "Insight",
          "Insight",
          "Insight",
          "Insight",
          "Insight",
          "Insight",
          "Insight",
          "Insight",
          "Insight",
          "Insight",
          "Insight",
          "Insight",
          "Insight",
          "Insight",
          "Insight",
          "Insight",
          "Insight",
          "Insight",
          "Insight",
          "Insight",
          "Insight",
          "Insight",
          "Insight",
          "Insight",
          "Insight",
          "Insight",
          "Insight",
          "Insight",
          "Insight",
          "Insight",
          "Insight",
          "Insight",
          "Insight",
          "Insight",
          "Insight",
          "Insight",
          "Insight",
          "Insight",
          "Insight",
          "Insight",
          "Insight",
          "Insight",
          "Insight",
          "Insight",
          "Insight",
          "Insight",
          "Insight",
          "Insight",
          "Insight",
          "Insight",
          "Insight",
          "Insight",
          "Insight",
          "Insight",
          "Insight",
          "Insight",
          "Insight",
          "Insight",
          "Insight",
          "Insight",
          "Insight",
          "Insight",
          "Insight",
          "Insight",
          "Insight",
          "Insight",
          "Insight",
          "Insight",
          "Insight",
          "Insight",
          "Insight",
          "Insight",
          "Insight",
          "Insight",
          "Insight",
          "Insight",
          "Insight",
          "Insight",
          "Insight",
          "Insight",
          "Insight",
          "Insight",
          "Insight",
          "Insight",
          "Insight",
          "Insight",
          "Insight",
          "Insight",
          "Insight",
          "Insight",
          "Insight",
          "Insight",
          "Insight",
          "Insight",
          "Insight",
          "Insight",
          "Insight",
          "Understanding",
          "Understanding",
          "Understanding",
          "Understanding",
          "Understanding",
          "Understanding",
          "Understanding",
          "Understanding",
          "Understanding",
          "Understanding",
          "Understanding",
          "Understanding",
          "Understanding",
          "Understanding",
          "Understanding",
          "Understanding",
          "Understanding",
          "Understanding",
          "Understanding",
          "Understanding",
          "Understanding",
          "Understanding",
          "Understanding",
          "Understanding",
          "Understanding",
          "Understanding",
          "Understanding",
          "Understanding",
          "Understanding",
          "Understanding",
          "Understanding",
          "Understanding",
          "Understanding",
          "Understanding",
          "Understanding",
          "Understanding",
          "Understanding",
          "Understanding",
          "Understanding",
          "Understanding",
          "Understanding",
          "Understanding",
          "Understanding",
          "Understanding",
          "Understanding",
          "Understanding",
          "Understanding",
          "Understanding",
          "Understanding",
          "Understanding",
          "Understanding",
          "Understanding",
          "Understanding",
          "Understanding",
          "Understanding",
          "Understanding",
          "Understanding",
          "Understanding",
          "Understanding",
          "Understanding",
          "Understanding",
          "Understanding",
          "Understanding",
          "Understanding",
          "Understanding",
          "Understanding",
          "Understanding",
          "Understanding",
          "Understanding",
          "Understanding",
          "Understanding",
          "Understanding",
          "Understanding",
          "Understanding",
          "Understanding",
          "Understanding",
          "Understanding",
          "Understanding",
          "Understanding",
          "Understanding",
          "Understanding",
          "Understanding",
          "Understanding",
          "Understanding",
          "Understanding",
          "Understanding",
          "Understanding",
          "Understanding",
          "Understanding",
          "Understanding",
          "Understanding",
          "Understanding",
          "Understanding",
          "Understanding",
          "Understanding",
          "Understanding",
          "Understanding",
          "Understanding",
          "Understanding",
          "Understanding",
          "Understanding",
          "Understanding",
          "Understanding",
          "Understanding",
          "Understanding",
          "Understanding",
          "Understanding",
          "Understanding",
          "Understanding",
          "Understanding",
          "Understanding",
          "Understanding",
          "Understanding",
          "Understanding",
          "Understanding",
          "Understanding",
          "Understanding",
          "Understanding",
          "Understanding",
          "Understanding",
          "Understanding",
          "Understanding",
          "Understanding",
          "Understanding",
          "Understanding",
          "Understanding",
          "Understanding",
          "Understanding",
          "Understanding",
          "Understanding",
          "Understanding",
          "Understanding",
          "Understanding",
          "Understanding",
          "Understanding",
          "Understanding",
          "Understanding",
          "Understanding",
          "Understanding",
          "Understanding",
          "Understanding",
          "Understanding",
          "Understanding",
          "Understanding",
          "Understanding",
          "Understanding",
          "Understanding",
          "Understanding",
          "Understanding",
          "Understanding",
          "Understanding",
          "Understanding",
          "Understanding",
          "Understanding",
          "Understanding",
          "Understanding",
          "Understanding",
          "Understanding",
          "Understanding",
          "Understanding",
          "Understanding",
          "Understanding",
          "Understanding",
          "Understanding",
          "Understanding",
          "Understanding",
          "Understanding",
          "Understanding",
          "Understanding",
          "Understanding",
          "Understanding",
          "Understanding",
          "Understanding",
          "Understanding",
          "Understanding",
          "Understanding",
          "Understanding",
          "Understanding",
          "Understanding",
          "Understanding",
          "Understanding",
          "Understanding",
          "Understanding",
          "Understanding",
          "Understanding",
          "Understanding",
          "Understanding",
          "Understanding",
          "Understanding",
          "Understanding",
          "Understanding",
          "Understanding",
          "Understanding",
          "Understanding",
          "Understanding",
          "Understanding",
          "Understanding",
          "Understanding",
          "Understanding",
          "Understanding",
          "Understanding",
          "Understanding",
          "Understanding",
          "Understanding",
          "Understanding",
          "Understanding",
          "Understanding",
          "Understanding",
          "Understanding",
          "Understanding",
          "Understanding",
          "Understanding",
          "Understanding",
          "Understanding",
          "Understanding",
          "Understanding",
          "Understanding",
          "Understanding",
          "Understanding",
          "Understanding",
          "Understanding",
          "Understanding",
          "Understanding",
          "Understanding",
          "Understanding",
          "Understanding",
          "Understanding",
          "Understanding",
          "Understanding",
          "Understanding",
          "Understanding",
          "Understanding",
          "Understanding",
          "Understanding",
          "Understanding",
          "Understanding",
          "Understanding",
          "Understanding",
          "Understanding",
          "Understanding",
          "Understanding",
          "Understanding",
          "Understanding",
          "Understanding",
          "Understanding",
          "Understanding",
          "Understanding",
          "Understanding",
          "Understanding",
          "Understanding",
          "Understanding",
          "Understanding",
          "Understanding",
          "Understanding",
          "Understanding",
          "Understanding",
          "Understanding",
          "Understanding",
          "Understanding",
          "Understanding",
          "Understanding",
          "Understanding",
          "Understanding",
          "Understanding",
          "Understanding",
          "Understanding",
          "Understanding",
          "Understanding",
          "Understanding",
          "Understanding",
          "Understanding",
          "Understanding",
          "Understanding",
          "Understanding",
          "Understanding",
          "Understanding",
          "Understanding",
          "Understanding",
          "Understanding",
          "Understanding",
          "Understanding",
          "Understanding",
          "Understanding",
          "Understanding",
          "Understanding",
          "Understanding",
          "Understanding",
          "Understanding",
          "Understanding",
          "Understanding",
          "Understanding",
          "Understanding",
          "Understanding",
          "Understanding",
          "Understanding",
          "Understanding",
          "Understanding",
          "Understanding",
          "Understanding",
          "Understanding",
          "Understanding",
          "Understanding",
          "Understanding",
          "Understanding",
          "Understanding",
          "Understanding",
          "Understanding",
          "Understanding",
          "Understanding",
          "Understanding",
          "Understanding",
          "Understanding",
          "Understanding",
          "Understanding",
          "Understanding",
          "Understanding",
          "Understanding",
          "Understanding",
          "Understanding",
          "Understanding",
          "Understanding",
          "Understanding",
          "Understanding",
          "Understanding",
          "Understanding",
          "Understanding",
          "Understanding",
          "Understanding",
          "Understanding",
          "Understanding",
          "Understanding",
          "Understanding",
          "Understanding",
          "Understanding",
          "Understanding",
          "Understanding",
          "Understanding",
          "Understanding",
          "Understanding",
          "Understanding",
          "Understanding",
          "Understanding",
          "Understanding",
          "Understanding",
          "Understanding",
          "Understanding",
          "Understanding",
          "Understanding",
          "Understanding",
          "Understanding",
          "Understanding",
          "Understanding",
          "Understanding",
          "Understanding",
          "Understanding",
          "Understanding",
          "Understanding",
          "Understanding",
          "Understanding",
          "Understanding",
          "Understanding",
          "Understanding",
          "Understanding",
          "Understanding",
          "Understanding",
          "Understanding",
          "Understanding",
          "Understanding",
          "Understanding",
          "Understanding",
          "Understanding",
          "Understanding",
          "Understanding",
          "Understanding",
          "Understanding",
          "Understanding",
          "Understanding",
          "Understanding",
          "Ease",
          "Ease",
          "Ease",
          "Ease",
          "Ease",
          "Ease",
          "Ease",
          "Ease",
          "Ease",
          "Ease",
          "Ease",
          "Ease",
          "Ease",
          "Ease",
          "Ease",
          "Ease",
          "Ease",
          "Ease",
          "Ease",
          "Ease",
          "Ease",
          "Ease",
          "Ease",
          "Ease",
          "Ease",
          "Ease",
          "Ease",
          "Ease",
          "Ease",
          "Ease",
          "Ease",
          "Ease",
          "Ease",
          "Ease",
          "Ease",
          "Ease",
          "Ease",
          "Ease",
          "Ease",
          "Ease",
          "Ease",
          "Ease",
          "Ease",
          "Ease",
          "Ease",
          "Ease",
          "Ease",
          "Ease",
          "Ease",
          "Ease",
          "Ease",
          "Ease",
          "Ease",
          "Ease",
          "Ease",
          "Ease",
          "Ease",
          "Ease",
          "Ease",
          "Ease",
          "Ease",
          "Ease",
          "Ease",
          "Ease",
          "Ease",
          "Ease",
          "Ease",
          "Ease",
          "Ease",
          "Ease",
          "Ease",
          "Ease",
          "Ease",
          "Ease",
          "Ease",
          "Ease",
          "Ease",
          "Ease",
          "Ease",
          "Ease",
          "Ease",
          "Ease",
          "Ease",
          "Ease",
          "Ease",
          "Ease",
          "Ease",
          "Ease",
          "Ease",
          "Ease",
          "Ease",
          "Ease",
          "Ease",
          "Ease",
          "Ease",
          "Ease",
          "Ease",
          "Ease",
          "Ease",
          "Ease",
          "Ease",
          "Ease",
          "Ease",
          "Ease",
          "Ease",
          "Ease",
          "Ease",
          "Ease",
          "Ease",
          "Ease",
          "Ease",
          "Ease",
          "Ease",
          "Ease",
          "Ease",
          "Ease",
          "Ease",
          "Ease",
          "Ease",
          "Ease",
          "Ease",
          "Ease",
          "Ease",
          "Ease",
          "Ease",
          "Ease",
          "Ease",
          "Ease",
          "Ease",
          "Ease",
          "Ease",
          "Ease",
          "Ease",
          "Ease",
          "Ease",
          "Ease",
          "Ease",
          "Ease",
          "Ease",
          "Ease",
          "Ease",
          "Ease",
          "Ease",
          "Ease",
          "Ease",
          "Ease",
          "Ease",
          "Ease",
          "Ease",
          "Ease",
          "Ease",
          "Ease",
          "Ease",
          "Ease",
          "Ease",
          "Ease",
          "Ease",
          "Ease",
          "Ease",
          "Ease",
          "Ease",
          "Ease",
          "Ease",
          "Ease",
          "Ease",
          "Ease",
          "Ease",
          "Ease",
          "Ease",
          "Ease",
          "Ease",
          "Ease",
          "Ease",
          "Ease",
          "Ease",
          "Ease",
          "Ease",
          "Ease",
          "Ease",
          "Ease",
          "Ease",
          "Ease",
          "Ease",
          "Ease",
          "Ease",
          "Ease",
          "Ease",
          "Ease",
          "Ease",
          "Ease",
          "Ease",
          "Ease",
          "Ease",
          "Ease",
          "Ease",
          "Ease",
          "Ease",
          "Ease",
          "Ease",
          "Ease",
          "Ease",
          "Ease",
          "Ease",
          "Ease",
          "Ease",
          "Ease",
          "Ease",
          "Ease",
          "Ease",
          "Ease",
          "Ease",
          "Ease",
          "Ease",
          "Ease",
          "Ease",
          "Ease",
          "Ease",
          "Ease",
          "Ease",
          "Ease",
          "Ease",
          "Ease",
          "Ease",
          "Ease",
          "Ease",
          "Ease",
          "Ease",
          "Ease",
          "Ease",
          "Ease",
          "Ease",
          "Ease",
          "Ease",
          "Ease",
          "Ease",
          "Ease",
          "Ease",
          "Ease",
          "Ease",
          "Ease",
          "Ease",
          "Ease",
          "Ease",
          "Ease",
          "Ease",
          "Ease",
          "Ease",
          "Ease",
          "Ease",
          "Ease",
          "Ease",
          "Ease",
          "Ease",
          "Ease",
          "Ease",
          "Ease",
          "Ease",
          "Ease",
          "Ease",
          "Ease",
          "Ease",
          "Ease",
          "Ease",
          "Ease",
          "Ease",
          "Ease",
          "Ease",
          "Ease",
          "Ease",
          "Ease",
          "Ease",
          "Ease",
          "Ease",
          "Ease",
          "Ease",
          "Ease",
          "Ease",
          "Ease",
          "Ease",
          "Ease",
          "Ease",
          "Ease",
          "Ease",
          "Ease",
          "Ease",
          "Ease",
          "Ease",
          "Ease",
          "Ease",
          "Ease",
          "Ease",
          "Ease",
          "Ease",
          "Ease",
          "Ease",
          "Ease",
          "Ease",
          "Ease",
          "Ease",
          "Ease",
          "Ease",
          "Ease",
          "Ease",
          "Ease",
          "Ease",
          "Ease",
          "Ease",
          "Ease",
          "Ease",
          "Ease",
          "Ease",
          "Ease",
          "Ease",
          "Ease",
          "Ease",
          "Ease",
          "Ease",
          "Ease",
          "Ease",
          "Ease",
          "Ease",
          "Ease",
          "Ease",
          "Ease",
          "Ease",
          "Ease",
          "Ease",
          "Ease",
          "Ease",
          "Ease",
          "Ease",
          "Ease",
          "Ease",
          "Ease",
          "Ease",
          "Ease",
          "Ease",
          "Ease",
          "Ease",
          "Ease",
          "Ease",
          "Ease",
          "Ease",
          "Ease",
          "Ease",
          "Ease",
          "Ease",
          "Ease",
          "Ease",
          "Ease",
          "Ease",
          "Ease",
          "Ease",
          "Ease",
          "Ease",
          "Ease",
          "Ease",
          "Ease",
          "Ease",
          "Ease",
          "Ease",
          "Ease",
          "Ease",
          "Ease",
          "Ease",
          "Ease",
          "Ease",
          "Ease",
          "Ease",
          "Ease",
          "Ease",
          "Ease",
          "Ease",
          "Ease",
          "Ease",
          "Ease",
          "Ease",
          "Ease"
         ],
         "x0": " ",
         "xaxis": "x",
         "y": [
          5,
          1,
          5,
          1,
          5,
          4,
          1,
          1,
          2,
          5,
          1,
          3,
          3,
          5,
          4,
          1,
          2,
          5,
          5,
          4,
          5,
          2,
          1,
          5,
          4,
          4,
          1,
          3,
          3,
          5,
          2,
          3,
          5,
          null,
          3,
          null,
          2,
          5,
          null,
          null,
          null,
          null,
          5,
          3,
          4,
          null,
          null,
          null,
          null,
          null,
          null,
          null,
          null,
          null,
          null,
          null,
          null,
          null,
          null,
          null,
          null,
          null,
          null,
          null,
          null,
          null,
          null,
          null,
          null,
          null,
          null,
          null,
          null,
          null,
          null,
          null,
          null,
          null,
          null,
          null,
          null,
          null,
          null,
          null,
          5,
          3,
          3,
          1,
          5,
          1,
          4,
          1,
          1,
          5,
          5,
          1,
          3,
          5,
          5,
          1,
          5,
          2,
          5,
          5,
          5,
          5,
          1,
          4,
          3,
          5,
          1,
          3,
          5,
          5,
          5,
          5,
          3,
          1,
          1,
          1,
          3,
          5,
          3,
          2,
          2,
          1,
          3,
          null,
          null,
          null,
          null,
          null,
          null,
          null,
          null,
          null,
          5,
          1,
          1,
          3,
          5,
          5,
          5,
          null,
          2,
          null,
          null,
          null,
          null,
          null,
          null,
          null,
          null,
          null,
          null,
          null,
          null,
          null,
          null,
          null,
          1,
          null,
          null,
          null,
          null,
          null,
          null,
          null,
          5,
          1,
          3,
          1,
          4,
          4,
          3,
          1,
          4,
          5,
          null,
          2,
          2,
          5,
          3,
          null,
          5,
          2,
          3,
          5,
          null,
          3,
          1,
          5,
          5,
          5,
          1,
          5,
          5,
          5,
          2,
          4,
          5,
          null,
          null,
          null,
          null,
          5,
          null,
          null,
          null,
          null,
          5,
          2,
          3,
          3,
          4,
          3,
          2,
          null,
          1,
          4,
          2,
          null,
          3,
          5,
          5,
          null,
          null,
          null,
          null,
          null,
          null,
          null,
          null,
          null,
          null,
          null,
          null,
          null,
          null,
          null,
          null,
          null,
          null,
          null,
          null,
          null,
          null,
          null,
          null,
          null,
          null,
          null,
          5,
          5,
          5,
          1,
          4,
          2,
          3,
          3,
          4,
          4,
          4,
          4,
          5,
          5,
          5,
          null,
          5,
          3,
          5,
          5,
          null,
          5,
          1,
          null,
          null,
          null,
          null,
          null,
          null,
          null,
          null,
          null,
          null,
          null,
          1,
          null,
          null,
          null,
          null,
          null,
          null,
          null,
          2,
          3,
          2,
          2,
          5,
          3,
          2,
          2,
          3,
          3,
          2,
          1,
          3,
          4,
          5,
          1,
          2,
          4,
          4,
          4,
          4,
          4,
          5,
          1,
          3,
          5,
          2,
          3,
          2,
          4,
          3,
          2,
          null,
          null,
          null,
          null,
          null,
          5,
          null,
          null,
          null,
          null,
          1,
          3,
          5,
          5,
          5,
          5,
          1,
          5,
          5,
          1,
          1,
          3,
          5,
          5,
          5,
          1,
          5,
          null,
          null,
          5,
          5,
          5,
          2,
          5,
          3,
          5,
          5,
          2,
          5,
          5,
          2,
          5,
          5,
          null,
          null,
          null,
          null,
          5,
          null,
          null,
          null,
          null,
          5,
          3,
          5,
          4,
          5,
          2,
          1,
          2,
          1,
          3,
          5,
          5,
          5,
          3,
          5,
          5,
          2,
          5,
          5,
          3,
          4,
          5,
          4,
          1,
          3,
          5,
          5,
          2,
          4,
          5,
          3,
          2,
          5,
          null,
          5,
          null,
          3,
          5,
          null,
          null,
          null,
          null,
          5,
          3,
          5,
          null,
          null,
          null,
          null,
          null,
          null,
          null,
          null,
          null,
          null,
          null,
          null,
          null,
          null,
          null,
          null,
          null,
          null,
          null,
          null,
          null,
          null,
          null,
          null,
          null,
          null,
          null,
          null,
          null,
          null,
          null,
          null,
          null,
          null,
          null,
          null,
          null,
          null,
          null,
          5,
          1,
          3,
          1,
          5,
          1,
          2,
          1,
          1,
          5,
          5,
          1,
          3,
          5,
          4,
          1,
          4,
          4,
          4,
          5,
          4,
          4,
          1,
          4,
          4,
          5,
          5,
          3,
          4,
          5,
          5,
          3,
          3,
          1,
          1,
          1,
          3,
          4,
          2,
          3,
          2,
          3,
          5,
          null,
          null,
          null,
          null,
          null,
          null,
          null,
          null,
          null,
          5,
          1,
          2,
          2,
          5,
          5,
          5,
          null,
          2,
          null,
          null,
          null,
          null,
          null,
          null,
          null,
          null,
          null,
          null,
          null,
          null,
          null,
          null,
          null,
          1,
          null,
          null,
          null,
          null,
          null,
          null,
          null,
          5,
          2,
          3,
          1,
          4,
          4,
          3,
          1,
          2,
          5,
          null,
          1,
          1,
          5,
          3,
          null,
          5,
          2,
          3,
          5,
          null,
          3,
          1,
          4,
          2,
          5,
          1,
          4,
          2,
          5,
          1,
          1,
          5,
          null,
          null,
          null,
          null,
          5,
          null,
          null,
          null,
          null,
          5,
          4,
          5,
          4,
          4,
          2,
          1,
          null,
          1,
          4,
          2,
          null,
          5,
          4,
          5,
          null,
          null,
          null,
          null,
          null,
          null,
          null,
          null,
          null,
          null,
          null,
          null,
          null,
          null,
          null,
          null,
          null,
          null,
          null,
          null,
          null,
          null,
          null,
          null,
          null,
          null,
          null,
          3,
          1,
          4,
          2,
          5,
          3,
          1,
          3,
          3,
          4,
          4,
          3,
          5,
          3,
          5,
          null,
          4,
          2,
          5,
          5,
          null,
          5,
          1,
          null,
          null,
          null,
          null,
          null,
          null,
          null,
          null,
          null,
          null,
          null,
          1,
          null,
          null,
          null,
          null,
          null,
          null,
          null,
          5,
          3,
          4,
          4,
          5,
          3,
          3,
          2,
          3,
          3,
          2,
          2,
          3,
          4,
          5,
          1,
          2,
          4,
          5,
          4,
          3,
          4,
          5,
          2,
          3,
          5,
          4,
          3,
          2,
          5,
          4,
          2,
          null,
          null,
          null,
          null,
          null,
          5,
          null,
          null,
          null,
          null,
          1,
          2,
          5,
          1,
          5,
          3,
          1,
          3,
          4,
          1,
          2,
          3,
          5,
          5,
          5,
          2,
          5,
          null,
          null,
          5,
          5,
          5,
          2,
          5,
          5,
          5,
          3,
          3,
          5,
          5,
          5,
          3,
          5,
          null,
          null,
          null,
          null,
          5,
          null,
          null,
          null,
          null,
          2,
          1,
          5,
          1,
          4,
          1,
          1,
          1,
          1,
          1,
          1,
          3,
          3,
          3,
          4,
          1,
          1,
          5,
          4,
          5,
          4,
          3,
          1,
          4,
          4,
          4,
          4,
          2,
          3,
          5,
          3,
          4,
          4,
          null,
          2,
          null,
          2,
          4,
          null,
          null,
          null,
          null,
          5,
          3,
          4,
          null,
          null,
          null,
          null,
          null,
          null,
          null,
          null,
          null,
          null,
          null,
          null,
          null,
          null,
          null,
          null,
          null,
          null,
          null,
          null,
          null,
          null,
          null,
          null,
          null,
          null,
          null,
          null,
          null,
          null,
          null,
          null,
          null,
          null,
          null,
          null,
          null,
          null,
          null,
          1,
          1,
          4,
          1,
          5,
          1,
          3,
          1,
          1,
          1,
          5,
          1,
          3,
          5,
          3,
          1,
          4,
          3,
          3,
          5,
          5,
          4,
          1,
          3,
          4,
          5,
          4,
          1,
          4,
          5,
          5,
          3,
          3,
          1,
          1,
          1,
          2,
          4,
          2,
          2,
          1,
          1,
          1,
          null,
          null,
          null,
          null,
          null,
          null,
          null,
          null,
          null,
          5,
          1,
          2,
          5,
          5,
          4,
          5,
          null,
          1,
          null,
          null,
          null,
          null,
          null,
          null,
          null,
          null,
          null,
          null,
          null,
          null,
          null,
          null,
          null,
          2,
          null,
          null,
          null,
          null,
          null,
          null,
          null,
          5,
          2,
          3,
          1,
          4,
          4,
          2,
          1,
          2,
          5,
          null,
          2,
          1,
          5,
          3,
          null,
          5,
          2,
          2,
          5,
          null,
          3,
          1,
          4,
          2,
          5,
          1,
          4,
          3,
          5,
          1,
          3,
          5,
          null,
          null,
          null,
          null,
          5,
          null,
          null,
          null,
          null,
          3,
          2,
          3,
          3,
          3,
          2,
          1,
          null,
          1,
          3,
          2,
          null,
          4,
          4,
          5,
          null,
          null,
          null,
          null,
          null,
          null,
          null,
          null,
          null,
          null,
          null,
          null,
          null,
          null,
          null,
          null,
          null,
          null,
          null,
          null,
          null,
          null,
          null,
          null,
          null,
          null,
          null,
          3,
          1,
          1,
          1,
          3,
          2,
          4,
          1,
          2,
          4,
          4,
          4,
          3,
          2,
          5,
          null,
          5,
          4,
          5,
          5,
          null,
          5,
          3,
          null,
          null,
          null,
          null,
          null,
          null,
          null,
          null,
          null,
          null,
          null,
          4,
          null,
          null,
          null,
          null,
          null,
          null,
          null,
          1,
          4,
          3,
          3,
          5,
          3,
          2,
          2,
          4,
          2,
          3,
          2,
          2,
          4,
          5,
          1,
          2,
          5,
          5,
          4,
          3,
          5,
          5,
          1,
          3,
          5,
          5,
          3,
          4,
          5,
          5,
          2,
          null,
          null,
          null,
          null,
          null,
          5,
          null,
          null,
          null,
          null,
          1,
          5,
          5,
          2,
          5,
          3,
          1,
          5,
          4,
          1,
          1,
          1,
          5,
          5,
          5,
          1,
          5,
          null,
          null,
          5,
          5,
          5,
          5,
          5,
          3,
          5,
          5,
          3,
          5,
          5,
          5,
          4,
          3,
          null,
          null,
          null,
          null,
          5,
          null,
          null,
          null,
          null,
          1,
          1,
          5,
          2,
          4,
          1,
          1,
          2,
          5,
          1,
          1,
          2,
          3,
          5,
          4,
          1,
          3,
          4,
          3,
          5,
          4,
          5,
          2,
          2,
          2,
          5,
          5,
          1,
          4,
          5,
          4,
          2,
          4,
          null,
          4,
          null,
          1,
          4,
          null,
          null,
          null,
          null,
          4,
          3,
          4,
          null,
          null,
          null,
          null,
          null,
          null,
          null,
          null,
          null,
          null,
          null,
          null,
          null,
          null,
          null,
          null,
          null,
          null,
          null,
          null,
          null,
          null,
          null,
          null,
          null,
          null,
          null,
          null,
          null,
          null,
          null,
          null,
          null,
          null,
          null,
          null,
          null,
          null,
          null,
          1,
          1,
          3,
          2,
          4,
          1,
          1,
          1,
          1,
          2,
          5,
          1,
          3,
          5,
          3,
          1,
          4,
          3,
          3,
          5,
          4,
          4,
          1,
          3,
          4,
          5,
          3,
          1,
          4,
          5,
          5,
          4,
          3,
          1,
          1,
          1,
          3,
          5,
          3,
          2,
          1,
          2,
          2,
          null,
          null,
          null,
          null,
          null,
          null,
          null,
          null,
          null,
          3,
          1,
          3,
          5,
          5,
          2,
          5,
          null,
          3,
          null,
          null,
          null,
          null,
          null,
          null,
          null,
          null,
          null,
          null,
          null,
          null,
          null,
          null,
          null,
          4,
          null,
          null,
          null,
          null,
          null,
          null,
          null,
          5,
          2,
          1,
          1,
          3,
          4,
          2,
          1,
          3,
          5,
          null,
          2,
          1,
          5,
          2,
          null,
          5,
          2,
          2,
          5,
          null,
          3,
          1,
          4,
          3,
          5,
          1,
          3,
          5,
          5,
          1,
          3,
          5,
          null,
          null,
          null,
          null,
          5,
          null,
          null,
          null,
          null,
          5,
          5,
          4,
          4,
          3,
          4,
          4,
          null,
          4,
          5,
          5,
          null,
          4,
          5,
          4,
          null,
          null,
          null,
          null,
          null,
          null,
          null,
          null,
          null,
          null,
          null,
          null,
          null,
          null,
          null,
          null,
          null,
          null,
          null,
          null,
          null,
          null,
          null,
          null,
          null,
          null,
          null,
          5,
          5,
          4,
          1,
          4,
          5,
          5,
          5,
          5,
          5,
          5,
          3,
          3,
          5,
          5,
          null,
          5,
          5,
          5,
          5,
          null,
          4,
          3,
          null,
          null,
          null,
          null,
          null,
          null,
          null,
          null,
          null,
          null,
          null,
          4,
          null,
          null,
          null,
          null,
          null,
          null,
          null,
          3,
          4,
          4,
          2,
          3,
          2,
          4,
          3,
          4,
          3,
          3,
          2,
          3,
          5,
          5,
          1,
          4,
          5,
          5,
          5,
          4,
          5,
          5,
          3,
          2,
          5,
          5,
          2,
          4,
          4,
          5,
          3,
          null,
          null,
          null,
          null,
          null,
          5,
          null,
          null,
          null,
          null,
          1,
          5,
          5,
          2,
          5,
          5,
          1,
          5,
          4,
          1,
          4,
          2,
          5,
          5,
          5,
          4,
          5,
          null,
          null,
          5,
          5,
          5,
          5,
          5,
          3,
          5,
          5,
          3,
          5,
          5,
          5,
          4,
          3,
          null,
          null,
          null,
          null,
          5,
          null,
          null,
          null,
          null,
          5,
          2,
          2,
          2,
          2,
          5,
          3,
          4,
          4,
          5,
          3,
          2,
          1,
          4,
          4,
          4,
          4,
          2,
          1,
          2,
          2,
          3,
          5,
          2,
          3,
          2,
          3,
          2,
          2,
          3,
          2,
          3,
          1,
          null,
          1,
          null,
          5,
          2,
          null,
          null,
          null,
          null,
          5,
          3,
          4,
          null,
          null,
          null,
          null,
          null,
          null,
          null,
          null,
          null,
          null,
          null,
          null,
          null,
          null,
          null,
          null,
          null,
          null,
          null,
          null,
          null,
          null,
          null,
          null,
          null,
          null,
          null,
          null,
          null,
          null,
          null,
          null,
          null,
          null,
          null,
          null,
          null,
          null,
          null,
          5,
          1,
          3,
          3,
          3,
          1,
          1,
          1,
          1,
          5,
          5,
          1,
          3,
          5,
          4,
          1,
          4,
          3,
          4,
          5,
          2,
          4,
          1,
          4,
          3,
          3,
          3,
          1,
          3,
          5,
          5,
          4,
          3,
          1,
          1,
          1,
          3,
          5,
          2,
          3,
          1,
          2,
          5,
          null,
          null,
          null,
          null,
          null,
          null,
          null,
          null,
          null,
          5,
          2,
          3,
          5,
          5,
          5,
          4,
          null,
          3,
          null,
          null,
          null,
          null,
          null,
          null,
          null,
          null,
          null,
          null,
          null,
          null,
          null,
          null,
          null,
          4,
          null,
          null,
          null,
          null,
          null,
          null,
          null,
          5,
          4,
          1,
          1,
          3,
          5,
          4,
          5,
          4,
          5,
          null,
          1,
          1,
          5,
          2,
          null,
          5,
          2,
          2,
          5,
          null,
          2,
          1,
          4,
          3,
          5,
          1,
          3,
          4,
          4,
          1,
          3,
          4,
          null,
          null,
          null,
          null,
          4,
          null,
          null,
          null,
          null,
          5,
          5,
          3,
          4,
          3,
          4,
          5,
          null,
          5,
          5,
          5,
          null,
          2,
          4,
          4,
          null,
          null,
          null,
          null,
          null,
          null,
          null,
          null,
          null,
          null,
          null,
          null,
          null,
          null,
          null,
          null,
          null,
          null,
          null,
          null,
          null,
          null,
          null,
          null,
          null,
          null,
          null,
          5,
          5,
          4,
          2,
          4,
          5,
          5,
          5,
          5,
          5,
          5,
          3,
          4,
          4,
          4,
          null,
          4,
          5,
          3,
          5,
          null,
          3,
          5,
          null,
          null,
          null,
          null,
          null,
          null,
          null,
          null,
          null,
          null,
          null,
          2,
          null,
          null,
          null,
          null,
          null,
          null,
          null,
          5,
          3,
          3,
          2,
          3,
          4,
          5,
          3,
          4,
          5,
          5,
          2,
          3,
          5,
          4,
          5,
          4,
          3,
          4,
          4,
          3,
          5,
          5,
          5,
          5,
          5,
          5,
          4,
          4,
          3,
          5,
          3,
          null,
          null,
          null,
          null,
          null,
          5,
          null,
          null,
          null,
          null,
          1,
          5,
          5,
          2,
          5,
          5,
          1,
          5,
          4,
          1,
          4,
          1,
          5,
          5,
          5,
          4,
          5,
          null,
          null,
          5,
          5,
          5,
          5,
          5,
          3,
          5,
          5,
          3,
          3,
          5,
          3,
          4,
          3,
          null,
          null,
          null,
          null,
          5,
          null,
          null,
          null,
          null
         ],
         "y0": " ",
         "yaxis": "y"
        }
       ],
       "layout": {
        "legend": {
         "tracegroupgap": 0
        },
        "margin": {
         "t": 60
        },
        "template": {
         "data": {
          "bar": [
           {
            "error_x": {
             "color": "#f2f5fa"
            },
            "error_y": {
             "color": "#f2f5fa"
            },
            "marker": {
             "line": {
              "color": "rgb(17,17,17)",
              "width": 0.5
             },
             "pattern": {
              "fillmode": "overlay",
              "size": 10,
              "solidity": 0.2
             }
            },
            "type": "bar"
           }
          ],
          "barpolar": [
           {
            "marker": {
             "line": {
              "color": "rgb(17,17,17)",
              "width": 0.5
             },
             "pattern": {
              "fillmode": "overlay",
              "size": 10,
              "solidity": 0.2
             }
            },
            "type": "barpolar"
           }
          ],
          "carpet": [
           {
            "aaxis": {
             "endlinecolor": "#A2B1C6",
             "gridcolor": "#506784",
             "linecolor": "#506784",
             "minorgridcolor": "#506784",
             "startlinecolor": "#A2B1C6"
            },
            "baxis": {
             "endlinecolor": "#A2B1C6",
             "gridcolor": "#506784",
             "linecolor": "#506784",
             "minorgridcolor": "#506784",
             "startlinecolor": "#A2B1C6"
            },
            "type": "carpet"
           }
          ],
          "choropleth": [
           {
            "colorbar": {
             "outlinewidth": 0,
             "ticks": ""
            },
            "type": "choropleth"
           }
          ],
          "contour": [
           {
            "colorbar": {
             "outlinewidth": 0,
             "ticks": ""
            },
            "colorscale": [
             [
              0,
              "#0d0887"
             ],
             [
              0.1111111111111111,
              "#46039f"
             ],
             [
              0.2222222222222222,
              "#7201a8"
             ],
             [
              0.3333333333333333,
              "#9c179e"
             ],
             [
              0.4444444444444444,
              "#bd3786"
             ],
             [
              0.5555555555555556,
              "#d8576b"
             ],
             [
              0.6666666666666666,
              "#ed7953"
             ],
             [
              0.7777777777777778,
              "#fb9f3a"
             ],
             [
              0.8888888888888888,
              "#fdca26"
             ],
             [
              1,
              "#f0f921"
             ]
            ],
            "type": "contour"
           }
          ],
          "contourcarpet": [
           {
            "colorbar": {
             "outlinewidth": 0,
             "ticks": ""
            },
            "type": "contourcarpet"
           }
          ],
          "heatmap": [
           {
            "colorbar": {
             "outlinewidth": 0,
             "ticks": ""
            },
            "colorscale": [
             [
              0,
              "#0d0887"
             ],
             [
              0.1111111111111111,
              "#46039f"
             ],
             [
              0.2222222222222222,
              "#7201a8"
             ],
             [
              0.3333333333333333,
              "#9c179e"
             ],
             [
              0.4444444444444444,
              "#bd3786"
             ],
             [
              0.5555555555555556,
              "#d8576b"
             ],
             [
              0.6666666666666666,
              "#ed7953"
             ],
             [
              0.7777777777777778,
              "#fb9f3a"
             ],
             [
              0.8888888888888888,
              "#fdca26"
             ],
             [
              1,
              "#f0f921"
             ]
            ],
            "type": "heatmap"
           }
          ],
          "heatmapgl": [
           {
            "colorbar": {
             "outlinewidth": 0,
             "ticks": ""
            },
            "colorscale": [
             [
              0,
              "#0d0887"
             ],
             [
              0.1111111111111111,
              "#46039f"
             ],
             [
              0.2222222222222222,
              "#7201a8"
             ],
             [
              0.3333333333333333,
              "#9c179e"
             ],
             [
              0.4444444444444444,
              "#bd3786"
             ],
             [
              0.5555555555555556,
              "#d8576b"
             ],
             [
              0.6666666666666666,
              "#ed7953"
             ],
             [
              0.7777777777777778,
              "#fb9f3a"
             ],
             [
              0.8888888888888888,
              "#fdca26"
             ],
             [
              1,
              "#f0f921"
             ]
            ],
            "type": "heatmapgl"
           }
          ],
          "histogram": [
           {
            "marker": {
             "pattern": {
              "fillmode": "overlay",
              "size": 10,
              "solidity": 0.2
             }
            },
            "type": "histogram"
           }
          ],
          "histogram2d": [
           {
            "colorbar": {
             "outlinewidth": 0,
             "ticks": ""
            },
            "colorscale": [
             [
              0,
              "#0d0887"
             ],
             [
              0.1111111111111111,
              "#46039f"
             ],
             [
              0.2222222222222222,
              "#7201a8"
             ],
             [
              0.3333333333333333,
              "#9c179e"
             ],
             [
              0.4444444444444444,
              "#bd3786"
             ],
             [
              0.5555555555555556,
              "#d8576b"
             ],
             [
              0.6666666666666666,
              "#ed7953"
             ],
             [
              0.7777777777777778,
              "#fb9f3a"
             ],
             [
              0.8888888888888888,
              "#fdca26"
             ],
             [
              1,
              "#f0f921"
             ]
            ],
            "type": "histogram2d"
           }
          ],
          "histogram2dcontour": [
           {
            "colorbar": {
             "outlinewidth": 0,
             "ticks": ""
            },
            "colorscale": [
             [
              0,
              "#0d0887"
             ],
             [
              0.1111111111111111,
              "#46039f"
             ],
             [
              0.2222222222222222,
              "#7201a8"
             ],
             [
              0.3333333333333333,
              "#9c179e"
             ],
             [
              0.4444444444444444,
              "#bd3786"
             ],
             [
              0.5555555555555556,
              "#d8576b"
             ],
             [
              0.6666666666666666,
              "#ed7953"
             ],
             [
              0.7777777777777778,
              "#fb9f3a"
             ],
             [
              0.8888888888888888,
              "#fdca26"
             ],
             [
              1,
              "#f0f921"
             ]
            ],
            "type": "histogram2dcontour"
           }
          ],
          "mesh3d": [
           {
            "colorbar": {
             "outlinewidth": 0,
             "ticks": ""
            },
            "type": "mesh3d"
           }
          ],
          "parcoords": [
           {
            "line": {
             "colorbar": {
              "outlinewidth": 0,
              "ticks": ""
             }
            },
            "type": "parcoords"
           }
          ],
          "pie": [
           {
            "automargin": true,
            "type": "pie"
           }
          ],
          "scatter": [
           {
            "marker": {
             "line": {
              "color": "#283442"
             }
            },
            "type": "scatter"
           }
          ],
          "scatter3d": [
           {
            "line": {
             "colorbar": {
              "outlinewidth": 0,
              "ticks": ""
             }
            },
            "marker": {
             "colorbar": {
              "outlinewidth": 0,
              "ticks": ""
             }
            },
            "type": "scatter3d"
           }
          ],
          "scattercarpet": [
           {
            "marker": {
             "colorbar": {
              "outlinewidth": 0,
              "ticks": ""
             }
            },
            "type": "scattercarpet"
           }
          ],
          "scattergeo": [
           {
            "marker": {
             "colorbar": {
              "outlinewidth": 0,
              "ticks": ""
             }
            },
            "type": "scattergeo"
           }
          ],
          "scattergl": [
           {
            "marker": {
             "line": {
              "color": "#283442"
             }
            },
            "type": "scattergl"
           }
          ],
          "scattermapbox": [
           {
            "marker": {
             "colorbar": {
              "outlinewidth": 0,
              "ticks": ""
             }
            },
            "type": "scattermapbox"
           }
          ],
          "scatterpolar": [
           {
            "marker": {
             "colorbar": {
              "outlinewidth": 0,
              "ticks": ""
             }
            },
            "type": "scatterpolar"
           }
          ],
          "scatterpolargl": [
           {
            "marker": {
             "colorbar": {
              "outlinewidth": 0,
              "ticks": ""
             }
            },
            "type": "scatterpolargl"
           }
          ],
          "scatterternary": [
           {
            "marker": {
             "colorbar": {
              "outlinewidth": 0,
              "ticks": ""
             }
            },
            "type": "scatterternary"
           }
          ],
          "surface": [
           {
            "colorbar": {
             "outlinewidth": 0,
             "ticks": ""
            },
            "colorscale": [
             [
              0,
              "#0d0887"
             ],
             [
              0.1111111111111111,
              "#46039f"
             ],
             [
              0.2222222222222222,
              "#7201a8"
             ],
             [
              0.3333333333333333,
              "#9c179e"
             ],
             [
              0.4444444444444444,
              "#bd3786"
             ],
             [
              0.5555555555555556,
              "#d8576b"
             ],
             [
              0.6666666666666666,
              "#ed7953"
             ],
             [
              0.7777777777777778,
              "#fb9f3a"
             ],
             [
              0.8888888888888888,
              "#fdca26"
             ],
             [
              1,
              "#f0f921"
             ]
            ],
            "type": "surface"
           }
          ],
          "table": [
           {
            "cells": {
             "fill": {
              "color": "#506784"
             },
             "line": {
              "color": "rgb(17,17,17)"
             }
            },
            "header": {
             "fill": {
              "color": "#2a3f5f"
             },
             "line": {
              "color": "rgb(17,17,17)"
             }
            },
            "type": "table"
           }
          ]
         },
         "layout": {
          "annotationdefaults": {
           "arrowcolor": "#f2f5fa",
           "arrowhead": 0,
           "arrowwidth": 1
          },
          "autotypenumbers": "strict",
          "coloraxis": {
           "colorbar": {
            "outlinewidth": 0,
            "ticks": ""
           }
          },
          "colorscale": {
           "diverging": [
            [
             0,
             "#8e0152"
            ],
            [
             0.1,
             "#c51b7d"
            ],
            [
             0.2,
             "#de77ae"
            ],
            [
             0.3,
             "#f1b6da"
            ],
            [
             0.4,
             "#fde0ef"
            ],
            [
             0.5,
             "#f7f7f7"
            ],
            [
             0.6,
             "#e6f5d0"
            ],
            [
             0.7,
             "#b8e186"
            ],
            [
             0.8,
             "#7fbc41"
            ],
            [
             0.9,
             "#4d9221"
            ],
            [
             1,
             "#276419"
            ]
           ],
           "sequential": [
            [
             0,
             "#0d0887"
            ],
            [
             0.1111111111111111,
             "#46039f"
            ],
            [
             0.2222222222222222,
             "#7201a8"
            ],
            [
             0.3333333333333333,
             "#9c179e"
            ],
            [
             0.4444444444444444,
             "#bd3786"
            ],
            [
             0.5555555555555556,
             "#d8576b"
            ],
            [
             0.6666666666666666,
             "#ed7953"
            ],
            [
             0.7777777777777778,
             "#fb9f3a"
            ],
            [
             0.8888888888888888,
             "#fdca26"
            ],
            [
             1,
             "#f0f921"
            ]
           ],
           "sequentialminus": [
            [
             0,
             "#0d0887"
            ],
            [
             0.1111111111111111,
             "#46039f"
            ],
            [
             0.2222222222222222,
             "#7201a8"
            ],
            [
             0.3333333333333333,
             "#9c179e"
            ],
            [
             0.4444444444444444,
             "#bd3786"
            ],
            [
             0.5555555555555556,
             "#d8576b"
            ],
            [
             0.6666666666666666,
             "#ed7953"
            ],
            [
             0.7777777777777778,
             "#fb9f3a"
            ],
            [
             0.8888888888888888,
             "#fdca26"
            ],
            [
             1,
             "#f0f921"
            ]
           ]
          },
          "colorway": [
           "#636efa",
           "#EF553B",
           "#00cc96",
           "#ab63fa",
           "#FFA15A",
           "#19d3f3",
           "#FF6692",
           "#B6E880",
           "#FF97FF",
           "#FECB52"
          ],
          "font": {
           "color": "#f2f5fa"
          },
          "geo": {
           "bgcolor": "rgb(17,17,17)",
           "lakecolor": "rgb(17,17,17)",
           "landcolor": "rgb(17,17,17)",
           "showlakes": true,
           "showland": true,
           "subunitcolor": "#506784"
          },
          "hoverlabel": {
           "align": "left"
          },
          "hovermode": "closest",
          "mapbox": {
           "style": "dark"
          },
          "paper_bgcolor": "rgb(17,17,17)",
          "plot_bgcolor": "rgb(17,17,17)",
          "polar": {
           "angularaxis": {
            "gridcolor": "#506784",
            "linecolor": "#506784",
            "ticks": ""
           },
           "bgcolor": "rgb(17,17,17)",
           "radialaxis": {
            "gridcolor": "#506784",
            "linecolor": "#506784",
            "ticks": ""
           }
          },
          "scene": {
           "xaxis": {
            "backgroundcolor": "rgb(17,17,17)",
            "gridcolor": "#506784",
            "gridwidth": 2,
            "linecolor": "#506784",
            "showbackground": true,
            "ticks": "",
            "zerolinecolor": "#C8D4E3"
           },
           "yaxis": {
            "backgroundcolor": "rgb(17,17,17)",
            "gridcolor": "#506784",
            "gridwidth": 2,
            "linecolor": "#506784",
            "showbackground": true,
            "ticks": "",
            "zerolinecolor": "#C8D4E3"
           },
           "zaxis": {
            "backgroundcolor": "rgb(17,17,17)",
            "gridcolor": "#506784",
            "gridwidth": 2,
            "linecolor": "#506784",
            "showbackground": true,
            "ticks": "",
            "zerolinecolor": "#C8D4E3"
           }
          },
          "shapedefaults": {
           "line": {
            "color": "#f2f5fa"
           }
          },
          "sliderdefaults": {
           "bgcolor": "#C8D4E3",
           "bordercolor": "rgb(17,17,17)",
           "borderwidth": 1,
           "tickwidth": 0
          },
          "ternary": {
           "aaxis": {
            "gridcolor": "#506784",
            "linecolor": "#506784",
            "ticks": ""
           },
           "baxis": {
            "gridcolor": "#506784",
            "linecolor": "#506784",
            "ticks": ""
           },
           "bgcolor": "rgb(17,17,17)",
           "caxis": {
            "gridcolor": "#506784",
            "linecolor": "#506784",
            "ticks": ""
           }
          },
          "title": {
           "x": 0.05
          },
          "updatemenudefaults": {
           "bgcolor": "#506784",
           "borderwidth": 0
          },
          "xaxis": {
           "automargin": true,
           "gridcolor": "#283442",
           "linecolor": "#506784",
           "ticks": "",
           "title": {
            "standoff": 15
           },
           "zerolinecolor": "#283442",
           "zerolinewidth": 2
          },
          "yaxis": {
           "automargin": true,
           "gridcolor": "#283442",
           "linecolor": "#506784",
           "ticks": "",
           "title": {
            "standoff": 15
           },
           "zerolinecolor": "#283442",
           "zerolinewidth": 2
          }
         }
        },
        "violinmode": "group",
        "xaxis": {
         "anchor": "y",
         "domain": [
          0,
          1
         ],
         "title": {
          "text": "variable"
         }
        },
        "yaxis": {
         "anchor": "x",
         "domain": [
          0,
          1
         ],
         "title": {
          "text": "value"
         }
        }
       }
      }
     },
     "metadata": {},
     "output_type": "display_data"
    }
   ],
   "source": [
    "px.violin(rating_counts_raw_df)"
   ]
  }
 ],
 "metadata": {
  "interpreter": {
   "hash": "c2deab0c0d56e72ca5db1d97fb88fe0c0ab6b5e910fcaec703ad36be267b2091"
  },
  "kernelspec": {
   "display_name": "Python 3.8.8 64-bit ('base': conda)",
   "name": "python3"
  },
  "language_info": {
   "codemirror_mode": {
    "name": "ipython",
    "version": 3
   },
   "file_extension": ".py",
   "mimetype": "text/x-python",
   "name": "python",
   "nbconvert_exporter": "python",
   "pygments_lexer": "ipython3",
   "version": "3.8.8"
  }
 },
 "nbformat": 4,
 "nbformat_minor": 4
}
