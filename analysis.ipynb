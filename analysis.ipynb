{
 "cells": [
  {
   "cell_type": "code",
   "execution_count": 27,
   "metadata": {},
   "outputs": [],
   "source": [
    "import re\n",
    "import operator\n",
    "import itertools\n",
    "from functools import reduce, partial\n",
    "\n",
    "import numpy as np\n",
    "from scipy import stats\n",
    "import scipy\n",
    "import pandas as pd\n",
    "import plotly\n",
    "import plotly.graph_objs as go\n",
    "from plotly.subplots import make_subplots\n",
    "import plotly.express as px\n",
    "import plotly.io as pio\n",
    "from bs4 import BeautifulSoup\n",
    "\n",
    "# Config\n",
    "pio.templates.default = \"plotly_dark\"\n",
    "\n",
    "pd.set_option(\"display.max_rows\", 500)\n",
    "pd.set_option(\"display.max_columns\", 50)\n",
    "pd.set_option(\"plotting.backend\", \"plotly\")\n",
    "\n",
    "# TODO: Backtesting"
   ]
  },
  {
   "cell_type": "markdown",
   "metadata": {},
   "source": [
    "# Data"
   ]
  },
  {
   "cell_type": "code",
   "execution_count": 28,
   "metadata": {},
   "outputs": [],
   "source": [
    "data = pd.read_csv(\"../data.csv\")\n",
    "data_male = data.groupby(\"College branch\").get_group(\"Males\")\n",
    "data_female = data.groupby(\"College branch\").get_group(\"Females\")\n",
    "\n",
    "data_filtered = data.drop(columns=data.columns[3:5])\n",
    "\n",
    "courses_raw = [\"ENGLISH100\", \"ARB100\", \"MATH101\", \"CHEM101\", \"STAT101\", \"TECH101\", \"ENTREPRENEUR101\", \"FAJAB101\", \"NAHAJ101\", \"ENGLISH110\",\n",
    "            \"SALAM107\", \"PHYS104\", \"MATH106\", \"CSC111\", \"MATH151\", \"SALAM108\", \"CSC113\", \"CSC220\", \"MATH244\",\n",
    "            \"CSC212\", \"CSC215\", \"MATH281\", \"CSC304\", \"CSC380\", \"CSC227\", \"CSC311\", \"CSC339\", \"CSC343\", \"CSC361\",\n",
    "            \"CSC329\", \"CSC340\", \"CSC453\", \"CSC496\", \"PHYS210\", \"PHYS103\", \"CHEM103\", \"CSC443\", \"CSC462\", \"CSC476\", \"CSC478\", \"CSC484\", \"CSC489\"]\n",
    "criteria = [\"Application\", \"Relevance\", \"Insight\", \"Understanding\", \"Ease\"]\n",
    "ratings = list(range(1, 6))\n",
    "\n",
    "filtered_comments = [\"I do not take this course. \"]\n",
    "filtered_courses = [\"PHYS210\", \"CHEM103\", \"CSC484\", \"CSC476\", \"CSC478\"]\n",
    "bayes_weight = 2\n",
    "name_to_figure = {}\n",
    "\n",
    "ccis_df = pd.read_html(\"https://ccis.ksu.edu.sa/en/cs/Course-Catalog\")"
   ]
  },
  {
   "cell_type": "markdown",
   "metadata": {},
   "source": [
    "# Utility"
   ]
  },
  {
   "cell_type": "code",
   "execution_count": 29,
   "metadata": {},
   "outputs": [],
   "source": [
    "@np.vectorize\n",
    "def course_to_category(course):\n",
    "    prefix_to_category = {\"ENGLISH\":\"Humanities\", \"NAHAJ\": \"Humanities\", \"ARB\": \"Humanities\", \"ENTREPRENEUR\": \"Humanities\", \"FAJAB\": \"Humanities\", \"TECH\": \"Humanities\",\n",
    "                    \"PHYS\": \"Physics\", \"CHEM\": \"Chemistry\", \"SALAM\": \"Islamics\", \"MATH\": \"Mathematics\", \"STAT\": \"Mathematics\", \"CSC\": \"Computer science\"}\n",
    "    return prefix_to_category[re.findall(\"[a-zA-Z]+\", course)[0]]\n",
    "\n",
    "def df_by_regex(df, regex):\n",
    "    return df.filter(regex=regex, axis=1)\n",
    "\n",
    "def get_subject_df(df, subject):\n",
    "    return df_by_regex(df, f\"{subject}.*\\[.*\\].*\")\n",
    "\n",
    "def remove_double_naming_in_legend(fig):\n",
    "    for trace in fig.select_traces():\n",
    "        trace.name = trace.name.split(\",\")[0]\n",
    "\n",
    "def get_course_to_num_ranking_series(df):\n",
    "    # a bit of a primitive way to count every filled in ranking (some rankings are NaN). Maybe it could be improved?\n",
    "    i = 0\n",
    "    course_to_num_ranking = {}\n",
    "    while i < len(df):\n",
    "        course_to_num_ranking.update({df.iloc[i].name[0]:len(df.iloc[i].dropna())})\n",
    "        i += 5\n",
    "    return pd.Series(course_to_num_ranking)\n",
    "\n",
    "@np.vectorize\n",
    "def build_df(cc):\n",
    "    name = cc.iloc[0][0].replace(\" \", \"\").split(\"–\")[0].split(\"-\")[0]\n",
    "    lv1_indices = cc[0].copy()\n",
    "    lv1_indices[0] = \"Title\"\n",
    "    return pd.DataFrame(cc[1].values, index=pd.MultiIndex.from_tuples(zip(itertools.repeat(name), lv1_indices)))\n",
    "\n",
    "def get_scores_df(df, criteria, categories):\n",
    "    return pd.DataFrame(((bayesian_mean(df.loc[[(subject, criterion) for subject in courses]].T, categories)) for criterion in criteria), index=criteria)\n",
    "\n",
    "def bayesian_mean(course_to_criterion, categories):\n",
    "    course_to_criterion_mean = course_to_criterion.mean().droplevel(1)\n",
    "\n",
    "    temp = course_to_criterion_mean.reset_index()\n",
    "    temp[\"index\"] = categories\n",
    "    category_to_criterion_mean = temp.groupby(\"index\").mean()[0]\n",
    "\n",
    "    return course_to_criterion.apply(lambda x: scores_to_bayesian_mean(x, category_to_criterion_mean)).droplevel(1)\n",
    "\n",
    "def scores_to_bayesian_mean(scores, category_to_criterion_mean, category_weight_portion=bayes_weight):\n",
    "    \"\"\"\n",
    "    scores: Series of scores with Name formatted like this (Course, _)\n",
    "    category_to_criterion_mean: category_to_criterion_mean\n",
    "    category_weight_portion: the portion of scores category average is weighted at. e.g. 1 means its just as weighty as scores, 2 means half as weighty\n",
    "    returns bayesian estimation of mean of scores, given its category\n",
    "    \"\"\"\n",
    "    scores = scores.dropna()\n",
    "    category_mean_series = pd.Series({\"\": category_to_criterion_mean[course_to_category(scores.name[0]).item(0)]})\n",
    "    weights = [max(len(scores) // category_weight_portion, 1)] + [1] * len(scores)\n",
    "    normalized_weights = weights/np.linalg.norm(weights)\n",
    "    return np.average(scores.append(category_mean_series), weights=normalized_weights)\n"
   ]
  },
  {
   "cell_type": "markdown",
   "metadata": {},
   "source": [
    "# Wrangling"
   ]
  },
  {
   "cell_type": "code",
   "execution_count": 30,
   "metadata": {},
   "outputs": [
    {
     "name": "stderr",
     "output_type": "stream",
     "text": [
      "D:\\Softwarez\\Anaconda\\lib\\site-packages\\pandas\\core\\generic.py:4153: PerformanceWarning:\n",
      "\n",
      "dropping on a non-lexsorted multi-index without a level parameter may impact performance.\n",
      "\n",
      "D:\\Softwarez\\Anaconda\\lib\\site-packages\\numpy\\core\\_asarray.py:102: VisibleDeprecationWarning:\n",
      "\n",
      "Creating an ndarray from ragged nested sequences (which is a list-or-tuple of lists-or-tuples-or ndarrays with different lengths or shapes) is deprecated. If you meant to do this, you must specify 'dtype=object' when creating the ndarray.\n",
      "\n"
     ]
    }
   ],
   "source": [
    "# Dataframes\n",
    "index = list((course, criterion) for criterion in criteria for course in courses_raw)\n",
    "sorted_index = sorted(index, key=lambda x: courses_raw.index(x[0]))\n",
    "df = get_subject_df(data_filtered, \"\").T.set_index(pd.Index(sorted_index)).drop(filtered_courses)\n",
    "\n",
    "# Useful structures\n",
    "courses = courses_raw.copy()\n",
    "[courses.remove(course) for course in filtered_courses]\n",
    "categories = pd.Series(course_to_category(courses))\n",
    "assert sum(categories.isna()) == 0, \"prefix_to_category must cover each course prefix\"\n",
    "\n",
    "# Comments\n",
    "course_to_comments = {}\n",
    "other_details_df = df_by_regex(data_filtered, \"Other details you want to add.*\")\n",
    "for course, other_details_col in zip(courses, other_details_df):\n",
    "    filt = (other_details_df[other_details_col].isna()) | reduce(operator.or_, (comment == other_details_df[other_details_col] for comment in filtered_comments))\n",
    "    comments = other_details_df[other_details_col][~filt]\n",
    "    if comments.all():\n",
    "        course_to_comments[course] = comments\n",
    "\n",
    "# Course info\n",
    "course_info = pd.concat(build_df(ccis_df[:-14]))\n",
    "course_info.columns = [\"Values\"]\n",
    "course_info.loc[((\"ENGLISH100\", \"Title\"), \"Values\")] = \"English 100\"\n",
    "course_info.loc[((\"ARB100\", \"Title\"), \"Values\")] = \"Arabic 100\"\n",
    "course_info.loc[((\"MATH101\", \"Title\"), \"Values\")] = \"Math 101 - Derivative Math\"\n",
    "course_info.loc[((\"CHEM101\", \"Title\"), \"Values\")] = \"Chemistry 101 - Intro To Chemistry\"\n",
    "course_info.loc[((\"STAT101\", \"Title\"), \"Values\")] = \"Statistics 101\"\n",
    "course_info.loc[((\"TECH101\", \"Title\"), \"Values\")] = \"Tech 140 - Computer Skills\"\n",
    "course_info.loc[((\"ENTREPRENEUR101\", \"Title\"), \"Values\")] = \"Entrepreneurship 101\"\n",
    "course_info.loc[((\"FAJAB101\", \"Title\"), \"Values\")] = \"Fajab 101 - Health and Stuff\"\n",
    "course_info.loc[((\"NAHAJ101\", \"Title\"), \"Values\")] = \"Nahaj 101 - University Skills\"\n",
    "course_info.loc[((\"ENGLISH110\", \"Title\"), \"Values\")] = \"English 110\"\n",
    "course_info.loc[((\"SALAM107\", \"Title\"), \"Values\")] = \"Salam 107 - Job Ethics\"\n",
    "course_info.loc[((\"PHYS104\", \"Title\"), \"Values\")] = \"Physics 104 - Electrical Physics\"\n",
    "course_info.loc[((\"MATH106\", \"Title\"), \"Values\")] = \"Math 106 - Integral Math\"\n",
    "course_info.loc[((\"MATH151\", \"Title\"), \"Values\")] = \"Math 151 - Discrete Math\"\n",
    "course_info.loc[((\"SALAM108\", \"Title\"), \"Values\")] = \"Salam 108 - Modern Issues\"\n",
    "course_info.loc[((\"MATH244\", \"Title\"), \"Values\")] = \"MATH 244 - Linear Algebra\"\n",
    "course_info.loc[((\"MATH281\", \"Title\"), \"Values\")] = \"Math 281 - Combinatorial Math\"\n",
    "course_info.loc[((\"CSC343\", \"Title\"), \"Values\")] = \"CSC 343 - Intro To Software Engineering\"\n",
    "course_info.loc[((\"PHYS103\", \"Title\"), \"Values\")] = \"Physics 103 - Newtonian Physics\"\n",
    "course_info.loc[((\"CSC489\", \"Title\"), \"Values\")] = \"CSC 489 - Selected Topics in Computer Science\"\n",
    "course_to_info = {}\n",
    "for course in courses:\n",
    "    course_to_info[course] = course_info.loc[course].values[0][0]\n",
    "course_info_df = pd.DataFrame(course_to_info.values(), course_to_info.keys(), columns=[\"Description\"])"
   ]
  },
  {
   "cell_type": "markdown",
   "metadata": {},
   "source": [
    "## Ranking"
   ]
  },
  {
   "cell_type": "markdown",
   "metadata": {},
   "source": [
    "### Course ranking by criteria"
   ]
  },
  {
   "cell_type": "code",
   "execution_count": 31,
   "metadata": {},
   "outputs": [
    {
     "data": {
      "application/vnd.plotly.v1+json": {
       "config": {
        "plotlyServerURL": "https://plot.ly"
       },
       "data": [
        {
         "hovertemplate": "<b>%{hovertext}</b><br><br>color=Humanities<br>symbol=Humanities<br>index=%{x}<br>value=%{y}<extra></extra>",
         "hovertext": [
          "English 100",
          "Arabic 100",
          "Tech 140 - Computer Skills",
          "Entrepreneurship 101",
          "Fajab 101 - Health and Stuff",
          "Nahaj 101 - University Skills",
          "English 110"
         ],
         "legendgroup": "Humanities, Humanities",
         "marker": {
          "color": "#636efa",
          "symbol": "circle"
         },
         "mode": "markers",
         "name": "Humanities",
         "orientation": "v",
         "showlegend": true,
         "type": "scatter",
         "x": [
          "ENGLISH100",
          "ARB100",
          "TECH101",
          "ENTREPRENEUR101",
          "FAJAB101",
          "NAHAJ101",
          "ENGLISH110"
         ],
         "xaxis": "x",
         "y": [
          4.303654508756549,
          2.6369878420898822,
          3.546144457046713,
          2.632041371327085,
          2.2735465427429715,
          2.711046542742972,
          4.291782978925835
         ],
         "yaxis": "y"
        },
        {
         "hovertemplate": "<b>%{hovertext}</b><br><br>color=Mathematics<br>symbol=Mathematics<br>index=%{x}<br>value=%{y}<extra></extra>",
         "hovertext": [
          "Math 101 - Derivative Math",
          "Statistics 101",
          "Math 106 - Integral Math",
          "Math 151 - Discrete Math",
          "MATH 244 - Linear Algebra",
          "Math 281 - Combinatorial Math"
         ],
         "legendgroup": "Mathematics, Mathematics",
         "marker": {
          "color": "#EF553B",
          "symbol": "diamond"
         },
         "mode": "markers",
         "name": "Mathematics",
         "orientation": "v",
         "showlegend": true,
         "type": "scatter",
         "x": [
          "MATH101",
          "STAT101",
          "MATH106",
          "MATH151",
          "MATH244",
          "MATH281"
         ],
         "xaxis": "x",
         "y": [
          4.0888278388278385,
          4.413967611336032,
          3.3613360323886647,
          4.1840659340659325,
          3.936965811965811,
          3.4915865384615388
         ],
         "yaxis": "y"
        },
        {
         "hovertemplate": "<b>%{hovertext}</b><br><br>color=Chemistry<br>symbol=Chemistry<br>index=%{x}<br>value=%{y}<extra></extra>",
         "hovertext": [
          "Chemistry 101 - Intro To Chemistry"
         ],
         "legendgroup": "Chemistry, Chemistry",
         "marker": {
          "color": "#00cc96",
          "symbol": "square"
         },
         "mode": "markers",
         "name": "Chemistry",
         "orientation": "v",
         "showlegend": true,
         "type": "scatter",
         "x": [
          "CHEM101"
         ],
         "xaxis": "x",
         "y": [
          1.8502024291497978
         ],
         "yaxis": "y"
        },
        {
         "hovertemplate": "<b>%{hovertext}</b><br><br>color=Islamics<br>symbol=Islamics<br>index=%{x}<br>value=%{y}<extra></extra>",
         "hovertext": [
          "Salam 107 - Job Ethics",
          "Salam 108 - Modern Issues"
         ],
         "legendgroup": "Islamics, Islamics",
         "marker": {
          "color": "#ab63fa",
          "symbol": "x"
         },
         "mode": "markers",
         "name": "Islamics",
         "orientation": "v",
         "showlegend": true,
         "type": "scatter",
         "x": [
          "SALAM107",
          "SALAM108"
         ],
         "xaxis": "x",
         "y": [
          2.6764914772727275,
          2.0686553030303028
         ],
         "yaxis": "y"
        },
        {
         "hovertemplate": "<b>%{hovertext}</b><br><br>color=Physics<br>symbol=Physics<br>index=%{x}<br>value=%{y}<extra></extra>",
         "hovertext": [
          "Physics 104 - Electrical Physics",
          "Physics 103 - Newtonian Physics"
         ],
         "legendgroup": "Physics, Physics",
         "marker": {
          "color": "#FFA15A",
          "symbol": "cross"
         },
         "mode": "markers",
         "name": "Physics",
         "orientation": "v",
         "showlegend": true,
         "type": "scatter",
         "x": [
          "PHYS104",
          "PHYS103"
         ],
         "xaxis": "x",
         "y": [
          2.636904761904762,
          2.5464285714285717
         ],
         "yaxis": "y"
        },
        {
         "hovertemplate": "<b>%{hovertext}</b><br><br>color=Computer science<br>symbol=Computer science<br>index=%{x}<br>value=%{y}<extra></extra>",
         "hovertext": [
          "CSC 111 – Computer Programming-I (3-2-1)",
          "CSC 113 – Computer Programming-II (3-2-1)",
          "CSC 220 – Computer Organization (2-2-1)",
          "CSC 212 – Data Structures (3-0-1)",
          "CSC 215 – Procedural Programming With C (2-2-1)",
          "CSC 304 – Ethical Issues in Computing & Research Methods (3-0-1)",
          "CSC 380 – Introduction to Database Concepts (3-0-1)",
          "CSC 227 – Operating Systems (3-0-1)",
          "CSC 311 – Design and Analysis of Algorithms (3-0-1)",
          "CSC 339 – Theory of Computation (3-0-1)",
          "CSC 343 - Intro To Software Engineering",
          "CSC 361 – Artificial Intelligence (3-0-1)",
          "CSC 329 – Computer Networks (3-0-1)",
          "CSC 340 – Programming Languages and Compilation (3-0-1)",
          "CSC 453 - Parallel Processing (3-0-1)",
          "CSC 496 – Graduation Project-I (2-0-0)",
          "CSC 443 – IT/Software project management (3-0-1)",
          "CSC 462 – Machine Learning (3-0-1)",
          "CSC 489 - Selected Topics in Computer Science"
         ],
         "legendgroup": "Computer science, Computer science",
         "marker": {
          "color": "#19d3f3",
          "symbol": "circle"
         },
         "mode": "markers",
         "name": "Computer science",
         "orientation": "v",
         "showlegend": true,
         "type": "scatter",
         "x": [
          "CSC111",
          "CSC113",
          "CSC220",
          "CSC212",
          "CSC215",
          "CSC304",
          "CSC380",
          "CSC227",
          "CSC311",
          "CSC339",
          "CSC343",
          "CSC361",
          "CSC329",
          "CSC340",
          "CSC453",
          "CSC496",
          "CSC443",
          "CSC462",
          "CSC489"
         ],
         "xaxis": "x",
         "y": [
          4.697517200148777,
          3.718308484374966,
          4.040491325195273,
          4.415491325195274,
          4.049835477163412,
          2.309857413541623,
          4.109857413541622,
          3.553988433593697,
          4.38732176692703,
          2.1373217669270304,
          3.13732176692703,
          3.6647861203124363,
          4.303988433593696,
          2.3873217669270304,
          3.2206551002603634,
          4.235408743303481,
          2.91196530078109,
          4.627540133680485,
          3.215953734374787
         ],
         "yaxis": "y"
        },
        {
         "hovertemplate": "<b>%{hovertext}</b><br><br>color=Humanities<br>symbol=Humanities<br>index=%{x}<br>value=%{y}<extra></extra>",
         "hovertext": [
          "English 100",
          "Arabic 100",
          "Tech 140 - Computer Skills",
          "Entrepreneurship 101",
          "Fajab 101 - Health and Stuff",
          "Nahaj 101 - University Skills",
          "English 110"
         ],
         "legendgroup": "Humanities, Humanities",
         "marker": {
          "color": "#636efa",
          "symbol": "circle"
         },
         "mode": "markers",
         "name": "Humanities",
         "orientation": "v",
         "showlegend": false,
         "type": "scatter",
         "x": [
          "ENGLISH100",
          "ARB100",
          "TECH101",
          "ENTREPRENEUR101",
          "FAJAB101",
          "NAHAJ101",
          "ENGLISH110"
         ],
         "xaxis": "x2",
         "y": [
          4.431784655254042,
          2.907975131444519,
          2.635130408438679,
          2.1704154311297166,
          2.441717360020932,
          2.1292173600209314,
          3.6044985173556587
         ],
         "yaxis": "y2"
        },
        {
         "hovertemplate": "<b>%{hovertext}</b><br><br>color=Mathematics<br>symbol=Mathematics<br>index=%{x}<br>value=%{y}<extra></extra>",
         "hovertext": [
          "Math 101 - Derivative Math",
          "Statistics 101",
          "Math 106 - Integral Math",
          "Math 151 - Discrete Math",
          "MATH 244 - Linear Algebra",
          "Math 281 - Combinatorial Math"
         ],
         "legendgroup": "Mathematics, Mathematics",
         "marker": {
          "color": "#EF553B",
          "symbol": "diamond"
         },
         "mode": "markers",
         "name": "Mathematics",
         "orientation": "v",
         "showlegend": false,
         "type": "scatter",
         "x": [
          "MATH101",
          "STAT101",
          "MATH106",
          "MATH151",
          "MATH244",
          "MATH281"
         ],
         "xaxis": "x2",
         "y": [
          4.283608587180015,
          4.26083054372528,
          4.155567385830544,
          4.426465730037157,
          3.9975433517100183,
          4.309736270673772
         ],
         "yaxis": "y2"
        },
        {
         "hovertemplate": "<b>%{hovertext}</b><br><br>color=Chemistry<br>symbol=Chemistry<br>index=%{x}<br>value=%{y}<extra></extra>",
         "hovertext": [
          "Chemistry 101 - Intro To Chemistry"
         ],
         "legendgroup": "Chemistry, Chemistry",
         "marker": {
          "color": "#00cc96",
          "symbol": "square"
         },
         "mode": "markers",
         "name": "Chemistry",
         "orientation": "v",
         "showlegend": false,
         "type": "scatter",
         "x": [
          "CHEM101"
         ],
         "xaxis": "x2",
         "y": [
          2.8663967611336036
         ],
         "yaxis": "y2"
        },
        {
         "hovertemplate": "<b>%{hovertext}</b><br><br>color=Islamics<br>symbol=Islamics<br>index=%{x}<br>value=%{y}<extra></extra>",
         "hovertext": [
          "Salam 107 - Job Ethics",
          "Salam 108 - Modern Issues"
         ],
         "legendgroup": "Islamics, Islamics",
         "marker": {
          "color": "#ab63fa",
          "symbol": "x"
         },
         "mode": "markers",
         "name": "Islamics",
         "orientation": "v",
         "showlegend": false,
         "type": "scatter",
         "x": [
          "SALAM107",
          "SALAM108"
         ],
         "xaxis": "x2",
         "y": [
          3.957386363636364,
          3.5265151515151514
         ],
         "yaxis": "y2"
        },
        {
         "hovertemplate": "<b>%{hovertext}</b><br><br>color=Physics<br>symbol=Physics<br>index=%{x}<br>value=%{y}<extra></extra>",
         "hovertext": [
          "Physics 104 - Electrical Physics",
          "Physics 103 - Newtonian Physics"
         ],
         "legendgroup": "Physics, Physics",
         "marker": {
          "color": "#FFA15A",
          "symbol": "cross"
         },
         "mode": "markers",
         "name": "Physics",
         "orientation": "v",
         "showlegend": false,
         "type": "scatter",
         "x": [
          "PHYS104",
          "PHYS103"
         ],
         "xaxis": "x2",
         "y": [
          3.3121693121693125,
          3.061904761904762
         ],
         "yaxis": "y2"
        },
        {
         "hovertemplate": "<b>%{hovertext}</b><br><br>color=Computer science<br>symbol=Computer science<br>index=%{x}<br>value=%{y}<extra></extra>",
         "hovertext": [
          "CSC 111 – Computer Programming-I (3-2-1)",
          "CSC 113 – Computer Programming-II (3-2-1)",
          "CSC 220 – Computer Organization (2-2-1)",
          "CSC 212 – Data Structures (3-0-1)",
          "CSC 215 – Procedural Programming With C (2-2-1)",
          "CSC 304 – Ethical Issues in Computing & Research Methods (3-0-1)",
          "CSC 380 – Introduction to Database Concepts (3-0-1)",
          "CSC 227 – Operating Systems (3-0-1)",
          "CSC 311 – Design and Analysis of Algorithms (3-0-1)",
          "CSC 339 – Theory of Computation (3-0-1)",
          "CSC 343 - Intro To Software Engineering",
          "CSC 361 – Artificial Intelligence (3-0-1)",
          "CSC 329 – Computer Networks (3-0-1)",
          "CSC 340 – Programming Languages and Compilation (3-0-1)",
          "CSC 453 - Parallel Processing (3-0-1)",
          "CSC 496 – Graduation Project-I (2-0-0)",
          "CSC 443 – IT/Software project management (3-0-1)",
          "CSC 462 – Machine Learning (3-0-1)",
          "CSC 489 - Selected Topics in Computer Science"
         ],
         "legendgroup": "Computer science, Computer science",
         "marker": {
          "color": "#19d3f3",
          "symbol": "circle"
         },
         "mode": "markers",
         "name": "Computer science",
         "orientation": "v",
         "showlegend": false,
         "type": "scatter",
         "x": [
          "CSC111",
          "CSC113",
          "CSC220",
          "CSC212",
          "CSC215",
          "CSC304",
          "CSC380",
          "CSC227",
          "CSC311",
          "CSC339",
          "CSC343",
          "CSC361",
          "CSC329",
          "CSC340",
          "CSC453",
          "CSC496",
          "CSC443",
          "CSC462",
          "CSC489"
         ],
         "xaxis": "x2",
         "y": [
          3.741787306260989,
          3.5040807069200426,
          3.8485958394675506,
          4.0320851906378214,
          3.275194879344676,
          3.3051688954320526,
          2.638502228765386,
          3.048127785956733,
          4.7147944526234,
          3.798127785956733,
          2.798127785956733,
          3.55775334314808,
          4.5481277859567335,
          3.048127785956733,
          2.298127785956733,
          4.225361918782971,
          2.8943833578702,
          4.508614825720089,
          3.8591778104936
         ],
         "yaxis": "y2"
        },
        {
         "hovertemplate": "<b>%{hovertext}</b><br><br>color=Humanities<br>symbol=Humanities<br>index=%{x}<br>value=%{y}<extra></extra>",
         "hovertext": [
          "English 100",
          "Arabic 100",
          "Tech 140 - Computer Skills",
          "Entrepreneurship 101",
          "Fajab 101 - Health and Stuff",
          "Nahaj 101 - University Skills",
          "English 110"
         ],
         "legendgroup": "Humanities, Humanities",
         "marker": {
          "color": "#636efa",
          "symbol": "circle"
         },
         "mode": "markers",
         "name": "Humanities",
         "orientation": "v",
         "showlegend": false,
         "type": "scatter",
         "x": [
          "ENGLISH100",
          "ARB100",
          "TECH101",
          "ENTREPRENEUR101",
          "FAJAB101",
          "NAHAJ101",
          "ENGLISH110"
         ],
         "xaxis": "x3",
         "y": [
          2.6538859100083583,
          2.4157906719131206,
          2.1964002163250287,
          2.262866895009752,
          2.0457252568859716,
          2.0457252568859716,
          2.515440274011702
         ],
         "yaxis": "y3"
        },
        {
         "hovertemplate": "<b>%{hovertext}</b><br><br>color=Mathematics<br>symbol=Mathematics<br>index=%{x}<br>value=%{y}<extra></extra>",
         "hovertext": [
          "Math 101 - Derivative Math",
          "Statistics 101",
          "Math 106 - Integral Math",
          "Math 151 - Discrete Math",
          "MATH 244 - Linear Algebra",
          "Math 281 - Combinatorial Math"
         ],
         "legendgroup": "Mathematics, Mathematics",
         "marker": {
          "color": "#EF553B",
          "symbol": "diamond"
         },
         "mode": "markers",
         "name": "Mathematics",
         "orientation": "v",
         "showlegend": false,
         "type": "scatter",
         "x": [
          "MATH101",
          "STAT101",
          "MATH106",
          "MATH151",
          "MATH244",
          "MATH281"
         ],
         "xaxis": "x3",
         "y": [
          4.032073085644513,
          3.719659726238674,
          3.351238673607095,
          4.032073085644513,
          3.4818630443630436,
          3.7295959249084256
         ],
         "yaxis": "y3"
        },
        {
         "hovertemplate": "<b>%{hovertext}</b><br><br>color=Chemistry<br>symbol=Chemistry<br>index=%{x}<br>value=%{y}<extra></extra>",
         "hovertext": [
          "Chemistry 101 - Intro To Chemistry"
         ],
         "legendgroup": "Chemistry, Chemistry",
         "marker": {
          "color": "#00cc96",
          "symbol": "square"
         },
         "mode": "markers",
         "name": "Chemistry",
         "orientation": "v",
         "showlegend": false,
         "type": "scatter",
         "x": [
          "CHEM101"
         ],
         "xaxis": "x3",
         "y": [
          1.623481781376518
         ],
         "yaxis": "y3"
        },
        {
         "hovertemplate": "<b>%{hovertext}</b><br><br>color=Islamics<br>symbol=Islamics<br>index=%{x}<br>value=%{y}<extra></extra>",
         "hovertext": [
          "Salam 107 - Job Ethics",
          "Salam 108 - Modern Issues"
         ],
         "legendgroup": "Islamics, Islamics",
         "marker": {
          "color": "#ab63fa",
          "symbol": "x"
         },
         "mode": "markers",
         "name": "Islamics",
         "orientation": "v",
         "showlegend": false,
         "type": "scatter",
         "x": [
          "SALAM107",
          "SALAM108"
         ],
         "xaxis": "x3",
         "y": [
          2.7262073863636367,
          1.718276515151515
         ],
         "yaxis": "y3"
        },
        {
         "hovertemplate": "<b>%{hovertext}</b><br><br>color=Physics<br>symbol=Physics<br>index=%{x}<br>value=%{y}<extra></extra>",
         "hovertext": [
          "Physics 104 - Electrical Physics",
          "Physics 103 - Newtonian Physics"
         ],
         "legendgroup": "Physics, Physics",
         "marker": {
          "color": "#FFA15A",
          "symbol": "cross"
         },
         "mode": "markers",
         "name": "Physics",
         "orientation": "v",
         "showlegend": false,
         "type": "scatter",
         "x": [
          "PHYS104",
          "PHYS103"
         ],
         "xaxis": "x3",
         "y": [
          2.64484126984127,
          2.560714285714286
         ],
         "yaxis": "y3"
        },
        {
         "hovertemplate": "<b>%{hovertext}</b><br><br>color=Computer science<br>symbol=Computer science<br>index=%{x}<br>value=%{y}<extra></extra>",
         "hovertext": [
          "CSC 111 – Computer Programming-I (3-2-1)",
          "CSC 113 – Computer Programming-II (3-2-1)",
          "CSC 220 – Computer Organization (2-2-1)",
          "CSC 212 – Data Structures (3-0-1)",
          "CSC 215 – Procedural Programming With C (2-2-1)",
          "CSC 304 – Ethical Issues in Computing & Research Methods (3-0-1)",
          "CSC 380 – Introduction to Database Concepts (3-0-1)",
          "CSC 227 – Operating Systems (3-0-1)",
          "CSC 311 – Design and Analysis of Algorithms (3-0-1)",
          "CSC 339 – Theory of Computation (3-0-1)",
          "CSC 343 - Intro To Software Engineering",
          "CSC 361 – Artificial Intelligence (3-0-1)",
          "CSC 329 – Computer Networks (3-0-1)",
          "CSC 340 – Programming Languages and Compilation (3-0-1)",
          "CSC 453 - Parallel Processing (3-0-1)",
          "CSC 496 – Graduation Project-I (2-0-0)",
          "CSC 443 – IT/Software project management (3-0-1)",
          "CSC 462 – Machine Learning (3-0-1)",
          "CSC 489 - Selected Topics in Computer Science"
         ],
         "legendgroup": "Computer science, Computer science",
         "marker": {
          "color": "#19d3f3",
          "symbol": "circle"
         },
         "mode": "markers",
         "name": "Computer science",
         "orientation": "v",
         "showlegend": false,
         "type": "scatter",
         "x": [
          "CSC111",
          "CSC113",
          "CSC220",
          "CSC212",
          "CSC215",
          "CSC304",
          "CSC380",
          "CSC227",
          "CSC311",
          "CSC339",
          "CSC343",
          "CSC361",
          "CSC329",
          "CSC340",
          "CSC453",
          "CSC496",
          "CSC443",
          "CSC462",
          "CSC489"
         ],
         "xaxis": "x3",
         "y": [
          3.8353945205448956,
          3.239120259549623,
          3.971455308215178,
          4.530182496191268,
          3.6571757639571407,
          2.569552328762854,
          3.5028856620961872,
          3.2952737442869022,
          4.378607077620236,
          3.7952737442869022,
          2.5452737442869022,
          3.5543284931442827,
          4.461940410953568,
          3.2119404109535687,
          3.1286070776202353,
          3.6490407044918323,
          2.3858212328607067,
          4.1714761034936485,
          3.181094977147608
         ],
         "yaxis": "y3"
        },
        {
         "hovertemplate": "<b>%{hovertext}</b><br><br>color=Humanities<br>symbol=Humanities<br>index=%{x}<br>value=%{y}<extra></extra>",
         "hovertext": [
          "English 100",
          "Arabic 100",
          "Tech 140 - Computer Skills",
          "Entrepreneurship 101",
          "Fajab 101 - Health and Stuff",
          "Nahaj 101 - University Skills",
          "English 110"
         ],
         "legendgroup": "Humanities, Humanities",
         "marker": {
          "color": "#636efa",
          "symbol": "circle"
         },
         "mode": "markers",
         "name": "Humanities",
         "orientation": "v",
         "showlegend": false,
         "type": "scatter",
         "x": [
          "ENGLISH100",
          "ARB100",
          "TECH101",
          "ENTREPRENEUR101",
          "FAJAB101",
          "NAHAJ101",
          "ENGLISH110"
         ],
         "xaxis": "x4",
         "y": [
          2.732841987944028,
          2.7328419879440284,
          2.8099832498328743,
          2.5243551091765384,
          2.8993551091765384,
          4.024355109176539,
          2.8259787831216396
         ],
         "yaxis": "y4"
        },
        {
         "hovertemplate": "<b>%{hovertext}</b><br><br>color=Mathematics<br>symbol=Mathematics<br>index=%{x}<br>value=%{y}<extra></extra>",
         "hovertext": [
          "Math 101 - Derivative Math",
          "Statistics 101",
          "Math 106 - Integral Math",
          "Math 151 - Discrete Math",
          "MATH 244 - Linear Algebra",
          "Math 281 - Combinatorial Math"
         ],
         "legendgroup": "Mathematics, Mathematics",
         "marker": {
          "color": "#EF553B",
          "symbol": "diamond"
         },
         "mode": "markers",
         "name": "Mathematics",
         "orientation": "v",
         "showlegend": false,
         "type": "scatter",
         "x": [
          "MATH101",
          "STAT101",
          "MATH106",
          "MATH151",
          "MATH244",
          "MATH281"
         ],
         "xaxis": "x4",
         "y": [
          4.0756379863522705,
          3.662547248073564,
          3.399389353336722,
          3.9327808434951286,
          3.0882443174109837,
          4.036774857087358
         ],
         "yaxis": "y4"
        },
        {
         "hovertemplate": "<b>%{hovertext}</b><br><br>color=Chemistry<br>symbol=Chemistry<br>index=%{x}<br>value=%{y}<extra></extra>",
         "hovertext": [
          "Chemistry 101 - Intro To Chemistry"
         ],
         "legendgroup": "Chemistry, Chemistry",
         "marker": {
          "color": "#00cc96",
          "symbol": "square"
         },
         "mode": "markers",
         "name": "Chemistry",
         "orientation": "v",
         "showlegend": false,
         "type": "scatter",
         "x": [
          "CHEM101"
         ],
         "xaxis": "x4",
         "y": [
          2.3967611336032393
         ],
         "yaxis": "y4"
        },
        {
         "hovertemplate": "<b>%{hovertext}</b><br><br>color=Islamics<br>symbol=Islamics<br>index=%{x}<br>value=%{y}<extra></extra>",
         "hovertext": [
          "Salam 107 - Job Ethics",
          "Salam 108 - Modern Issues"
         ],
         "legendgroup": "Islamics, Islamics",
         "marker": {
          "color": "#ab63fa",
          "symbol": "x"
         },
         "mode": "markers",
         "name": "Islamics",
         "orientation": "v",
         "showlegend": false,
         "type": "scatter",
         "x": [
          "SALAM107",
          "SALAM108"
         ],
         "xaxis": "x4",
         "y": [
          3.1338778409090913,
          2.095170454545454
         ],
         "yaxis": "y4"
        },
        {
         "hovertemplate": "<b>%{hovertext}</b><br><br>color=Physics<br>symbol=Physics<br>index=%{x}<br>value=%{y}<extra></extra>",
         "hovertext": [
          "Physics 104 - Electrical Physics",
          "Physics 103 - Newtonian Physics"
         ],
         "legendgroup": "Physics, Physics",
         "marker": {
          "color": "#FFA15A",
          "symbol": "cross"
         },
         "mode": "markers",
         "name": "Physics",
         "orientation": "v",
         "showlegend": false,
         "type": "scatter",
         "x": [
          "PHYS104",
          "PHYS103"
         ],
         "xaxis": "x4",
         "y": [
          2.263227513227513,
          3.273809523809524
         ],
         "yaxis": "y4"
        },
        {
         "hovertemplate": "<b>%{hovertext}</b><br><br>color=Computer science<br>symbol=Computer science<br>index=%{x}<br>value=%{y}<extra></extra>",
         "hovertext": [
          "CSC 111 – Computer Programming-I (3-2-1)",
          "CSC 113 – Computer Programming-II (3-2-1)",
          "CSC 220 – Computer Organization (2-2-1)",
          "CSC 212 – Data Structures (3-0-1)",
          "CSC 215 – Procedural Programming With C (2-2-1)",
          "CSC 304 – Ethical Issues in Computing & Research Methods (3-0-1)",
          "CSC 380 – Introduction to Database Concepts (3-0-1)",
          "CSC 227 – Operating Systems (3-0-1)",
          "CSC 311 – Design and Analysis of Algorithms (3-0-1)",
          "CSC 339 – Theory of Computation (3-0-1)",
          "CSC 343 - Intro To Software Engineering",
          "CSC 361 – Artificial Intelligence (3-0-1)",
          "CSC 329 – Computer Networks (3-0-1)",
          "CSC 340 – Programming Languages and Compilation (3-0-1)",
          "CSC 453 - Parallel Processing (3-0-1)",
          "CSC 496 – Graduation Project-I (2-0-0)",
          "CSC 443 – IT/Software project management (3-0-1)",
          "CSC 462 – Machine Learning (3-0-1)",
          "CSC 489 - Selected Topics in Computer Science"
         ],
         "legendgroup": "Computer science, Computer science",
         "marker": {
          "color": "#19d3f3",
          "symbol": "circle"
         },
         "mode": "markers",
         "name": "Computer science",
         "orientation": "v",
         "showlegend": false,
         "type": "scatter",
         "x": [
          "CSC111",
          "CSC113",
          "CSC220",
          "CSC212",
          "CSC215",
          "CSC304",
          "CSC380",
          "CSC227",
          "CSC311",
          "CSC339",
          "CSC343",
          "CSC361",
          "CSC329",
          "CSC340",
          "CSC453",
          "CSC496",
          "CSC443",
          "CSC462",
          "CSC489"
         ],
         "xaxis": "x4",
         "y": [
          4.743898520026338,
          3.8748352063449016,
          3.663866807534572,
          4.645659384475173,
          3.5093745323502405,
          2.7747912613702077,
          3.1747912613702085,
          2.551822410046094,
          4.718489076712761,
          3.9684890767127614,
          2.0518224100460944,
          3.962186892055313,
          4.385155743379428,
          3.5518224100460944,
          2.801822410046094,
          3.6602669886504478,
          2.655467230138283,
          4.291318768950349,
          3.54062297351771
         ],
         "yaxis": "y4"
        },
        {
         "hovertemplate": "<b>%{hovertext}</b><br><br>color=Humanities<br>symbol=Humanities<br>index=%{x}<br>value=%{y}<extra></extra>",
         "hovertext": [
          "English 100",
          "Arabic 100",
          "Tech 140 - Computer Skills",
          "Entrepreneurship 101",
          "Fajab 101 - Health and Stuff",
          "Nahaj 101 - University Skills",
          "English 110"
         ],
         "legendgroup": "Humanities, Humanities",
         "marker": {
          "color": "#636efa",
          "symbol": "circle"
         },
         "mode": "markers",
         "name": "Humanities",
         "orientation": "v",
         "showlegend": false,
         "type": "scatter",
         "x": [
          "ENGLISH100",
          "ARB100",
          "TECH101",
          "ENTREPRENEUR101",
          "FAJAB101",
          "NAHAJ101",
          "ENGLISH110"
         ],
         "xaxis": "x5",
         "y": [
          4.625300436524925,
          3.2919671031915922,
          4.480595219317023,
          3.6739616203901906,
          4.008206822938967,
          3.945706822938967,
          4.608753944468229
         ],
         "yaxis": "y5"
        },
        {
         "hovertemplate": "<b>%{hovertext}</b><br><br>color=Mathematics<br>symbol=Mathematics<br>index=%{x}<br>value=%{y}<extra></extra>",
         "hovertext": [
          "Math 101 - Derivative Math",
          "Statistics 101",
          "Math 106 - Integral Math",
          "Math 151 - Discrete Math",
          "MATH 244 - Linear Algebra",
          "Math 281 - Combinatorial Math"
         ],
         "legendgroup": "Mathematics, Mathematics",
         "marker": {
          "color": "#EF553B",
          "symbol": "diamond"
         },
         "mode": "markers",
         "name": "Mathematics",
         "orientation": "v",
         "showlegend": false,
         "type": "scatter",
         "x": [
          "MATH101",
          "STAT101",
          "MATH106",
          "MATH151",
          "MATH244",
          "MATH281"
         ],
         "xaxis": "x5",
         "y": [
          2.820022570022569,
          2.853709156340736,
          2.5905512616038937,
          3.867641617641617,
          2.345581887248554,
          3.138779623154624
         ],
         "yaxis": "y5"
        },
        {
         "hovertemplate": "<b>%{hovertext}</b><br><br>color=Chemistry<br>symbol=Chemistry<br>index=%{x}<br>value=%{y}<extra></extra>",
         "hovertext": [
          "Chemistry 101 - Intro To Chemistry"
         ],
         "legendgroup": "Chemistry, Chemistry",
         "marker": {
          "color": "#00cc96",
          "symbol": "square"
         },
         "mode": "markers",
         "name": "Chemistry",
         "orientation": "v",
         "showlegend": false,
         "type": "scatter",
         "x": [
          "CHEM101"
         ],
         "xaxis": "x5",
         "y": [
          2.3967611336032393
         ],
         "yaxis": "y5"
        },
        {
         "hovertemplate": "<b>%{hovertext}</b><br><br>color=Islamics<br>symbol=Islamics<br>index=%{x}<br>value=%{y}<extra></extra>",
         "hovertext": [
          "Salam 107 - Job Ethics",
          "Salam 108 - Modern Issues"
         ],
         "legendgroup": "Islamics, Islamics",
         "marker": {
          "color": "#ab63fa",
          "symbol": "x"
         },
         "mode": "markers",
         "name": "Islamics",
         "orientation": "v",
         "showlegend": false,
         "type": "scatter",
         "x": [
          "SALAM107",
          "SALAM108"
         ],
         "xaxis": "x5",
         "y": [
          3.999644886363637,
          3.7495265151515147
         ],
         "yaxis": "y5"
        },
        {
         "hovertemplate": "<b>%{hovertext}</b><br><br>color=Physics<br>symbol=Physics<br>index=%{x}<br>value=%{y}<extra></extra>",
         "hovertext": [
          "Physics 104 - Electrical Physics",
          "Physics 103 - Newtonian Physics"
         ],
         "legendgroup": "Physics, Physics",
         "marker": {
          "color": "#FFA15A",
          "symbol": "cross"
         },
         "mode": "markers",
         "name": "Physics",
         "orientation": "v",
         "showlegend": false,
         "type": "scatter",
         "x": [
          "PHYS104",
          "PHYS103"
         ],
         "xaxis": "x5",
         "y": [
          2.1276455026455023,
          2.1297619047619047
         ],
         "yaxis": "y5"
        },
        {
         "hovertemplate": "<b>%{hovertext}</b><br><br>color=Computer science<br>symbol=Computer science<br>index=%{x}<br>value=%{y}<extra></extra>",
         "hovertext": [
          "CSC 111 – Computer Programming-I (3-2-1)",
          "CSC 113 – Computer Programming-II (3-2-1)",
          "CSC 220 – Computer Organization (2-2-1)",
          "CSC 212 – Data Structures (3-0-1)",
          "CSC 215 – Procedural Programming With C (2-2-1)",
          "CSC 304 – Ethical Issues in Computing & Research Methods (3-0-1)",
          "CSC 380 – Introduction to Database Concepts (3-0-1)",
          "CSC 227 – Operating Systems (3-0-1)",
          "CSC 311 – Design and Analysis of Algorithms (3-0-1)",
          "CSC 339 – Theory of Computation (3-0-1)",
          "CSC 343 - Intro To Software Engineering",
          "CSC 361 – Artificial Intelligence (3-0-1)",
          "CSC 329 – Computer Networks (3-0-1)",
          "CSC 340 – Programming Languages and Compilation (3-0-1)",
          "CSC 453 - Parallel Processing (3-0-1)",
          "CSC 496 – Graduation Project-I (2-0-0)",
          "CSC 443 – IT/Software project management (3-0-1)",
          "CSC 462 – Machine Learning (3-0-1)",
          "CSC 489 - Selected Topics in Computer Science"
         ],
         "legendgroup": "Computer science, Computer science",
         "marker": {
          "color": "#19d3f3",
          "symbol": "circle"
         },
         "mode": "markers",
         "name": "Computer science",
         "orientation": "v",
         "showlegend": false,
         "type": "scatter",
         "x": [
          "CSC111",
          "CSC113",
          "CSC220",
          "CSC212",
          "CSC215",
          "CSC304",
          "CSC380",
          "CSC227",
          "CSC311",
          "CSC339",
          "CSC343",
          "CSC361",
          "CSC329",
          "CSC340",
          "CSC453",
          "CSC496",
          "CSC443",
          "CSC462",
          "CSC489"
         ],
         "xaxis": "x5",
         "y": [
          4.21254567626748,
          3.9191294316640577,
          2.966466200101069,
          3.359081066756505,
          2.420266092432084,
          4.364230613441139,
          3.4975639467744717,
          3.0386216001347575,
          3.455288266801425,
          3.288621600134758,
          2.7052882668014244,
          2.8463459201617094,
          3.5386216001347583,
          2.4552882668014244,
          3.121954933468091,
          2.6376370288024424,
          3.6158648004042737,
          3.4959399112907894,
          3.4878197338723647
         ],
         "yaxis": "y5"
        },
        {
         "hovertemplate": "<b>%{hovertext}</b><br><br>color=Humanities<br>symbol=Humanities<br>index=%{x}<br>value=%{y}<extra></extra>",
         "hovertext": [
          "English 100",
          "Arabic 100",
          "Tech 140 - Computer Skills",
          "Entrepreneurship 101",
          "Fajab 101 - Health and Stuff",
          "Nahaj 101 - University Skills",
          "English 110"
         ],
         "legendgroup": "Humanities, Humanities",
         "marker": {
          "color": "#636efa",
          "symbol": "circle"
         },
         "mode": "markers",
         "name": "Humanities",
         "orientation": "v",
         "showlegend": false,
         "type": "scatter",
         "x": [
          "ENGLISH100",
          "ARB100",
          "TECH101",
          "ENTREPRENEUR101",
          "FAJAB101",
          "NAHAJ101",
          "ENGLISH110"
         ],
         "xaxis": "x7",
         "y": [
          5,
          3,
          4,
          3,
          3,
          3,
          4.5
         ],
         "yaxis": "y7"
        },
        {
         "hovertemplate": "<b>%{hovertext}</b><br><br>color=Mathematics<br>symbol=Mathematics<br>index=%{x}<br>value=%{y}<extra></extra>",
         "hovertext": [
          "Math 101 - Derivative Math",
          "Statistics 101",
          "Math 106 - Integral Math",
          "Math 151 - Discrete Math",
          "MATH 244 - Linear Algebra",
          "Math 281 - Combinatorial Math"
         ],
         "legendgroup": "Mathematics, Mathematics",
         "marker": {
          "color": "#EF553B",
          "symbol": "diamond"
         },
         "mode": "markers",
         "name": "Mathematics",
         "orientation": "v",
         "showlegend": false,
         "type": "scatter",
         "x": [
          "MATH101",
          "STAT101",
          "MATH106",
          "MATH151",
          "MATH244",
          "MATH281"
         ],
         "xaxis": "x7",
         "y": [
          3.5,
          5,
          3,
          5,
          3,
          4
         ],
         "yaxis": "y7"
        },
        {
         "hovertemplate": "<b>%{hovertext}</b><br><br>color=Chemistry<br>symbol=Chemistry<br>index=%{x}<br>value=%{y}<extra></extra>",
         "hovertext": [
          "Chemistry 101 - Intro To Chemistry"
         ],
         "legendgroup": "Chemistry, Chemistry",
         "marker": {
          "color": "#00cc96",
          "symbol": "square"
         },
         "mode": "markers",
         "name": "Chemistry",
         "orientation": "v",
         "showlegend": false,
         "type": "scatter",
         "x": [
          "CHEM101"
         ],
         "xaxis": "x7",
         "y": [
          2
         ],
         "yaxis": "y7"
        },
        {
         "hovertemplate": "<b>%{hovertext}</b><br><br>color=Islamics<br>symbol=Islamics<br>index=%{x}<br>value=%{y}<extra></extra>",
         "hovertext": [
          "Salam 107 - Job Ethics",
          "Salam 108 - Modern Issues"
         ],
         "legendgroup": "Islamics, Islamics",
         "marker": {
          "color": "#ab63fa",
          "symbol": "x"
         },
         "mode": "markers",
         "name": "Islamics",
         "orientation": "v",
         "showlegend": false,
         "type": "scatter",
         "x": [
          "SALAM107",
          "SALAM108"
         ],
         "xaxis": "x7",
         "y": [
          3,
          1.5
         ],
         "yaxis": "y7"
        },
        {
         "hovertemplate": "<b>%{hovertext}</b><br><br>color=Physics<br>symbol=Physics<br>index=%{x}<br>value=%{y}<extra></extra>",
         "hovertext": [
          "Physics 104 - Electrical Physics",
          "Physics 103 - Newtonian Physics"
         ],
         "legendgroup": "Physics, Physics",
         "marker": {
          "color": "#FFA15A",
          "symbol": "cross"
         },
         "mode": "markers",
         "name": "Physics",
         "orientation": "v",
         "showlegend": false,
         "type": "scatter",
         "x": [
          "PHYS104",
          "PHYS103"
         ],
         "xaxis": "x7",
         "y": [
          2.5,
          3
         ],
         "yaxis": "y7"
        },
        {
         "hovertemplate": "<b>%{hovertext}</b><br><br>color=Computer science<br>symbol=Computer science<br>index=%{x}<br>value=%{y}<extra></extra>",
         "hovertext": [
          "CSC 111 – Computer Programming-I (3-2-1)",
          "CSC 113 – Computer Programming-II (3-2-1)",
          "CSC 220 – Computer Organization (2-2-1)",
          "CSC 212 – Data Structures (3-0-1)",
          "CSC 215 – Procedural Programming With C (2-2-1)",
          "CSC 304 – Ethical Issues in Computing & Research Methods (3-0-1)",
          "CSC 380 – Introduction to Database Concepts (3-0-1)",
          "CSC 227 – Operating Systems (3-0-1)",
          "CSC 311 – Design and Analysis of Algorithms (3-0-1)",
          "CSC 339 – Theory of Computation (3-0-1)",
          "CSC 343 - Intro To Software Engineering",
          "CSC 361 – Artificial Intelligence (3-0-1)",
          "CSC 329 – Computer Networks (3-0-1)",
          "CSC 340 – Programming Languages and Compilation (3-0-1)",
          "CSC 453 - Parallel Processing (3-0-1)",
          "CSC 496 – Graduation Project-I (2-0-0)",
          "CSC 443 – IT/Software project management (3-0-1)",
          "CSC 462 – Machine Learning (3-0-1)",
          "CSC 489 - Selected Topics in Computer Science"
         ],
         "legendgroup": "Computer science, Computer science",
         "marker": {
          "color": "#19d3f3",
          "symbol": "circle"
         },
         "mode": "markers",
         "name": "Computer science",
         "orientation": "v",
         "showlegend": false,
         "type": "scatter",
         "x": [
          "CSC111",
          "CSC113",
          "CSC220",
          "CSC212",
          "CSC215",
          "CSC304",
          "CSC380",
          "CSC227",
          "CSC311",
          "CSC339",
          "CSC343",
          "CSC361",
          "CSC329",
          "CSC340",
          "CSC453",
          "CSC496",
          "CSC443",
          "CSC462",
          "CSC489"
         ],
         "xaxis": "x7",
         "y": [
          5,
          5,
          4,
          5,
          4,
          2,
          4,
          3,
          5,
          2,
          3,
          5,
          4.5,
          2,
          3,
          5,
          3,
          5,
          3
         ],
         "yaxis": "y7"
        },
        {
         "hovertemplate": "<b>%{hovertext}</b><br><br>color=Humanities<br>symbol=Humanities<br>index=%{x}<br>value=%{y}<extra></extra>",
         "hovertext": [
          "English 100",
          "Arabic 100",
          "Tech 140 - Computer Skills",
          "Entrepreneurship 101",
          "Fajab 101 - Health and Stuff",
          "Nahaj 101 - University Skills",
          "English 110"
         ],
         "legendgroup": "Humanities, Humanities",
         "marker": {
          "color": "#636efa",
          "symbol": "circle"
         },
         "mode": "markers",
         "name": "Humanities",
         "orientation": "v",
         "showlegend": false,
         "type": "scatter",
         "x": [
          "ENGLISH100",
          "ARB100",
          "TECH101",
          "ENTREPRENEUR101",
          "FAJAB101",
          "NAHAJ101",
          "ENGLISH110"
         ],
         "xaxis": "x8",
         "y": [
          5,
          3,
          3,
          2,
          3,
          2,
          4
         ],
         "yaxis": "y8"
        },
        {
         "hovertemplate": "<b>%{hovertext}</b><br><br>color=Mathematics<br>symbol=Mathematics<br>index=%{x}<br>value=%{y}<extra></extra>",
         "hovertext": [
          "Math 101 - Derivative Math",
          "Statistics 101",
          "Math 106 - Integral Math",
          "Math 151 - Discrete Math",
          "MATH 244 - Linear Algebra",
          "Math 281 - Combinatorial Math"
         ],
         "legendgroup": "Mathematics, Mathematics",
         "marker": {
          "color": "#EF553B",
          "symbol": "diamond"
         },
         "mode": "markers",
         "name": "Mathematics",
         "orientation": "v",
         "showlegend": false,
         "type": "scatter",
         "x": [
          "MATH101",
          "STAT101",
          "MATH106",
          "MATH151",
          "MATH244",
          "MATH281"
         ],
         "xaxis": "x8",
         "y": [
          4,
          4,
          4,
          5,
          3.5,
          4
         ],
         "yaxis": "y8"
        },
        {
         "hovertemplate": "<b>%{hovertext}</b><br><br>color=Chemistry<br>symbol=Chemistry<br>index=%{x}<br>value=%{y}<extra></extra>",
         "hovertext": [
          "Chemistry 101 - Intro To Chemistry"
         ],
         "legendgroup": "Chemistry, Chemistry",
         "marker": {
          "color": "#00cc96",
          "symbol": "square"
         },
         "mode": "markers",
         "name": "Chemistry",
         "orientation": "v",
         "showlegend": false,
         "type": "scatter",
         "x": [
          "CHEM101"
         ],
         "xaxis": "x8",
         "y": [
          2
         ],
         "yaxis": "y8"
        },
        {
         "hovertemplate": "<b>%{hovertext}</b><br><br>color=Islamics<br>symbol=Islamics<br>index=%{x}<br>value=%{y}<extra></extra>",
         "hovertext": [
          "Salam 107 - Job Ethics",
          "Salam 108 - Modern Issues"
         ],
         "legendgroup": "Islamics, Islamics",
         "marker": {
          "color": "#ab63fa",
          "symbol": "x"
         },
         "mode": "markers",
         "name": "Islamics",
         "orientation": "v",
         "showlegend": false,
         "type": "scatter",
         "x": [
          "SALAM107",
          "SALAM108"
         ],
         "xaxis": "x8",
         "y": [
          4,
          2.5
         ],
         "yaxis": "y8"
        },
        {
         "hovertemplate": "<b>%{hovertext}</b><br><br>color=Physics<br>symbol=Physics<br>index=%{x}<br>value=%{y}<extra></extra>",
         "hovertext": [
          "Physics 104 - Electrical Physics",
          "Physics 103 - Newtonian Physics"
         ],
         "legendgroup": "Physics, Physics",
         "marker": {
          "color": "#FFA15A",
          "symbol": "cross"
         },
         "mode": "markers",
         "name": "Physics",
         "orientation": "v",
         "showlegend": false,
         "type": "scatter",
         "x": [
          "PHYS104",
          "PHYS103"
         ],
         "xaxis": "x8",
         "y": [
          2.5,
          2
         ],
         "yaxis": "y8"
        },
        {
         "hovertemplate": "<b>%{hovertext}</b><br><br>color=Computer science<br>symbol=Computer science<br>index=%{x}<br>value=%{y}<extra></extra>",
         "hovertext": [
          "CSC 111 – Computer Programming-I (3-2-1)",
          "CSC 113 – Computer Programming-II (3-2-1)",
          "CSC 220 – Computer Organization (2-2-1)",
          "CSC 212 – Data Structures (3-0-1)",
          "CSC 215 – Procedural Programming With C (2-2-1)",
          "CSC 304 – Ethical Issues in Computing & Research Methods (3-0-1)",
          "CSC 380 – Introduction to Database Concepts (3-0-1)",
          "CSC 227 – Operating Systems (3-0-1)",
          "CSC 311 – Design and Analysis of Algorithms (3-0-1)",
          "CSC 339 – Theory of Computation (3-0-1)",
          "CSC 343 - Intro To Software Engineering",
          "CSC 361 – Artificial Intelligence (3-0-1)",
          "CSC 329 – Computer Networks (3-0-1)",
          "CSC 340 – Programming Languages and Compilation (3-0-1)",
          "CSC 453 - Parallel Processing (3-0-1)",
          "CSC 496 – Graduation Project-I (2-0-0)",
          "CSC 443 – IT/Software project management (3-0-1)",
          "CSC 462 – Machine Learning (3-0-1)",
          "CSC 489 - Selected Topics in Computer Science"
         ],
         "legendgroup": "Computer science, Computer science",
         "marker": {
          "color": "#19d3f3",
          "symbol": "circle"
         },
         "mode": "markers",
         "name": "Computer science",
         "orientation": "v",
         "showlegend": false,
         "type": "scatter",
         "x": [
          "CSC111",
          "CSC113",
          "CSC220",
          "CSC212",
          "CSC215",
          "CSC304",
          "CSC380",
          "CSC227",
          "CSC311",
          "CSC339",
          "CSC343",
          "CSC361",
          "CSC329",
          "CSC340",
          "CSC453",
          "CSC496",
          "CSC443",
          "CSC462",
          "CSC489"
         ],
         "xaxis": "x8",
         "y": [
          4,
          5,
          4,
          5,
          3,
          3,
          3.5,
          3,
          5,
          3.5,
          3,
          4,
          5,
          3,
          2,
          5,
          3,
          5,
          4
         ],
         "yaxis": "y8"
        },
        {
         "hovertemplate": "<b>%{hovertext}</b><br><br>color=Humanities<br>symbol=Humanities<br>index=%{x}<br>value=%{y}<extra></extra>",
         "hovertext": [
          "English 100",
          "Arabic 100",
          "Tech 140 - Computer Skills",
          "Entrepreneurship 101",
          "Fajab 101 - Health and Stuff",
          "Nahaj 101 - University Skills",
          "English 110"
         ],
         "legendgroup": "Humanities, Humanities",
         "marker": {
          "color": "#636efa",
          "symbol": "circle"
         },
         "mode": "markers",
         "name": "Humanities",
         "orientation": "v",
         "showlegend": false,
         "type": "scatter",
         "x": [
          "ENGLISH100",
          "ARB100",
          "TECH101",
          "ENTREPRENEUR101",
          "FAJAB101",
          "NAHAJ101",
          "ENGLISH110"
         ],
         "xaxis": "x9",
         "y": [
          3,
          2.5,
          3,
          2,
          2,
          2,
          3.5
         ],
         "yaxis": "y9"
        },
        {
         "hovertemplate": "<b>%{hovertext}</b><br><br>color=Mathematics<br>symbol=Mathematics<br>index=%{x}<br>value=%{y}<extra></extra>",
         "hovertext": [
          "Math 101 - Derivative Math",
          "Statistics 101",
          "Math 106 - Integral Math",
          "Math 151 - Discrete Math",
          "MATH 244 - Linear Algebra",
          "Math 281 - Combinatorial Math"
         ],
         "legendgroup": "Mathematics, Mathematics",
         "marker": {
          "color": "#EF553B",
          "symbol": "diamond"
         },
         "mode": "markers",
         "name": "Mathematics",
         "orientation": "v",
         "showlegend": false,
         "type": "scatter",
         "x": [
          "MATH101",
          "STAT101",
          "MATH106",
          "MATH151",
          "MATH244",
          "MATH281"
         ],
         "xaxis": "x9",
         "y": [
          3.5,
          4,
          3,
          4.5,
          3,
          4
         ],
         "yaxis": "y9"
        },
        {
         "hovertemplate": "<b>%{hovertext}</b><br><br>color=Chemistry<br>symbol=Chemistry<br>index=%{x}<br>value=%{y}<extra></extra>",
         "hovertext": [
          "Chemistry 101 - Intro To Chemistry"
         ],
         "legendgroup": "Chemistry, Chemistry",
         "marker": {
          "color": "#00cc96",
          "symbol": "square"
         },
         "mode": "markers",
         "name": "Chemistry",
         "orientation": "v",
         "showlegend": false,
         "type": "scatter",
         "x": [
          "CHEM101"
         ],
         "xaxis": "x9",
         "y": [
          1
         ],
         "yaxis": "y9"
        },
        {
         "hovertemplate": "<b>%{hovertext}</b><br><br>color=Islamics<br>symbol=Islamics<br>index=%{x}<br>value=%{y}<extra></extra>",
         "hovertext": [
          "Salam 107 - Job Ethics",
          "Salam 108 - Modern Issues"
         ],
         "legendgroup": "Islamics, Islamics",
         "marker": {
          "color": "#ab63fa",
          "symbol": "x"
         },
         "mode": "markers",
         "name": "Islamics",
         "orientation": "v",
         "showlegend": false,
         "type": "scatter",
         "x": [
          "SALAM107",
          "SALAM108"
         ],
         "xaxis": "x9",
         "y": [
          3,
          1.5
         ],
         "yaxis": "y9"
        },
        {
         "hovertemplate": "<b>%{hovertext}</b><br><br>color=Physics<br>symbol=Physics<br>index=%{x}<br>value=%{y}<extra></extra>",
         "hovertext": [
          "Physics 104 - Electrical Physics",
          "Physics 103 - Newtonian Physics"
         ],
         "legendgroup": "Physics, Physics",
         "marker": {
          "color": "#FFA15A",
          "symbol": "cross"
         },
         "mode": "markers",
         "name": "Physics",
         "orientation": "v",
         "showlegend": false,
         "type": "scatter",
         "x": [
          "PHYS104",
          "PHYS103"
         ],
         "xaxis": "x9",
         "y": [
          2.5,
          2
         ],
         "yaxis": "y9"
        },
        {
         "hovertemplate": "<b>%{hovertext}</b><br><br>color=Computer science<br>symbol=Computer science<br>index=%{x}<br>value=%{y}<extra></extra>",
         "hovertext": [
          "CSC 111 – Computer Programming-I (3-2-1)",
          "CSC 113 – Computer Programming-II (3-2-1)",
          "CSC 220 – Computer Organization (2-2-1)",
          "CSC 212 – Data Structures (3-0-1)",
          "CSC 215 – Procedural Programming With C (2-2-1)",
          "CSC 304 – Ethical Issues in Computing & Research Methods (3-0-1)",
          "CSC 380 – Introduction to Database Concepts (3-0-1)",
          "CSC 227 – Operating Systems (3-0-1)",
          "CSC 311 – Design and Analysis of Algorithms (3-0-1)",
          "CSC 339 – Theory of Computation (3-0-1)",
          "CSC 343 - Intro To Software Engineering",
          "CSC 361 – Artificial Intelligence (3-0-1)",
          "CSC 329 – Computer Networks (3-0-1)",
          "CSC 340 – Programming Languages and Compilation (3-0-1)",
          "CSC 453 - Parallel Processing (3-0-1)",
          "CSC 496 – Graduation Project-I (2-0-0)",
          "CSC 443 – IT/Software project management (3-0-1)",
          "CSC 462 – Machine Learning (3-0-1)",
          "CSC 489 - Selected Topics in Computer Science"
         ],
         "legendgroup": "Computer science, Computer science",
         "marker": {
          "color": "#19d3f3",
          "symbol": "circle"
         },
         "mode": "markers",
         "name": "Computer science",
         "orientation": "v",
         "showlegend": false,
         "type": "scatter",
         "x": [
          "CSC111",
          "CSC113",
          "CSC220",
          "CSC212",
          "CSC215",
          "CSC304",
          "CSC380",
          "CSC227",
          "CSC311",
          "CSC339",
          "CSC343",
          "CSC361",
          "CSC329",
          "CSC340",
          "CSC453",
          "CSC496",
          "CSC443",
          "CSC462",
          "CSC489"
         ],
         "xaxis": "x9",
         "y": [
          4.5,
          5,
          4,
          5,
          3,
          3,
          3,
          3,
          5,
          4,
          2.5,
          4,
          5,
          3,
          2.5,
          3,
          2,
          4.5,
          3
         ],
         "yaxis": "y9"
        },
        {
         "hovertemplate": "<b>%{hovertext}</b><br><br>color=Humanities<br>symbol=Humanities<br>index=%{x}<br>value=%{y}<extra></extra>",
         "hovertext": [
          "English 100",
          "Arabic 100",
          "Tech 140 - Computer Skills",
          "Entrepreneurship 101",
          "Fajab 101 - Health and Stuff",
          "Nahaj 101 - University Skills",
          "English 110"
         ],
         "legendgroup": "Humanities, Humanities",
         "marker": {
          "color": "#636efa",
          "symbol": "circle"
         },
         "mode": "markers",
         "name": "Humanities",
         "orientation": "v",
         "showlegend": false,
         "type": "scatter",
         "x": [
          "ENGLISH100",
          "ARB100",
          "TECH101",
          "ENTREPRENEUR101",
          "FAJAB101",
          "NAHAJ101",
          "ENGLISH110"
         ],
         "xaxis": "x10",
         "y": [
          4,
          4,
          4,
          3,
          3,
          4,
          4
         ],
         "yaxis": "y10"
        },
        {
         "hovertemplate": "<b>%{hovertext}</b><br><br>color=Mathematics<br>symbol=Mathematics<br>index=%{x}<br>value=%{y}<extra></extra>",
         "hovertext": [
          "Math 101 - Derivative Math",
          "Statistics 101",
          "Math 106 - Integral Math",
          "Math 151 - Discrete Math",
          "MATH 244 - Linear Algebra",
          "Math 281 - Combinatorial Math"
         ],
         "legendgroup": "Mathematics, Mathematics",
         "marker": {
          "color": "#EF553B",
          "symbol": "diamond"
         },
         "mode": "markers",
         "name": "Mathematics",
         "orientation": "v",
         "showlegend": false,
         "type": "scatter",
         "x": [
          "MATH101",
          "STAT101",
          "MATH106",
          "MATH151",
          "MATH244",
          "MATH281"
         ],
         "xaxis": "x10",
         "y": [
          4,
          4,
          3,
          4,
          3,
          4
         ],
         "yaxis": "y10"
        },
        {
         "hovertemplate": "<b>%{hovertext}</b><br><br>color=Chemistry<br>symbol=Chemistry<br>index=%{x}<br>value=%{y}<extra></extra>",
         "hovertext": [
          "Chemistry 101 - Intro To Chemistry"
         ],
         "legendgroup": "Chemistry, Chemistry",
         "marker": {
          "color": "#00cc96",
          "symbol": "square"
         },
         "mode": "markers",
         "name": "Chemistry",
         "orientation": "v",
         "showlegend": false,
         "type": "scatter",
         "x": [
          "CHEM101"
         ],
         "xaxis": "x10",
         "y": [
          2
         ],
         "yaxis": "y10"
        },
        {
         "hovertemplate": "<b>%{hovertext}</b><br><br>color=Islamics<br>symbol=Islamics<br>index=%{x}<br>value=%{y}<extra></extra>",
         "hovertext": [
          "Salam 107 - Job Ethics",
          "Salam 108 - Modern Issues"
         ],
         "legendgroup": "Islamics, Islamics",
         "marker": {
          "color": "#ab63fa",
          "symbol": "x"
         },
         "mode": "markers",
         "name": "Islamics",
         "orientation": "v",
         "showlegend": false,
         "type": "scatter",
         "x": [
          "SALAM107",
          "SALAM108"
         ],
         "xaxis": "x10",
         "y": [
          5,
          2
         ],
         "yaxis": "y10"
        },
        {
         "hovertemplate": "<b>%{hovertext}</b><br><br>color=Physics<br>symbol=Physics<br>index=%{x}<br>value=%{y}<extra></extra>",
         "hovertext": [
          "Physics 104 - Electrical Physics",
          "Physics 103 - Newtonian Physics"
         ],
         "legendgroup": "Physics, Physics",
         "marker": {
          "color": "#FFA15A",
          "symbol": "cross"
         },
         "mode": "markers",
         "name": "Physics",
         "orientation": "v",
         "showlegend": false,
         "type": "scatter",
         "x": [
          "PHYS104",
          "PHYS103"
         ],
         "xaxis": "x10",
         "y": [
          2,
          4
         ],
         "yaxis": "y10"
        },
        {
         "hovertemplate": "<b>%{hovertext}</b><br><br>color=Computer science<br>symbol=Computer science<br>index=%{x}<br>value=%{y}<extra></extra>",
         "hovertext": [
          "CSC 111 – Computer Programming-I (3-2-1)",
          "CSC 113 – Computer Programming-II (3-2-1)",
          "CSC 220 – Computer Organization (2-2-1)",
          "CSC 212 – Data Structures (3-0-1)",
          "CSC 215 – Procedural Programming With C (2-2-1)",
          "CSC 304 – Ethical Issues in Computing & Research Methods (3-0-1)",
          "CSC 380 – Introduction to Database Concepts (3-0-1)",
          "CSC 227 – Operating Systems (3-0-1)",
          "CSC 311 – Design and Analysis of Algorithms (3-0-1)",
          "CSC 339 – Theory of Computation (3-0-1)",
          "CSC 343 - Intro To Software Engineering",
          "CSC 361 – Artificial Intelligence (3-0-1)",
          "CSC 329 – Computer Networks (3-0-1)",
          "CSC 340 – Programming Languages and Compilation (3-0-1)",
          "CSC 453 - Parallel Processing (3-0-1)",
          "CSC 496 – Graduation Project-I (2-0-0)",
          "CSC 443 – IT/Software project management (3-0-1)",
          "CSC 462 – Machine Learning (3-0-1)",
          "CSC 489 - Selected Topics in Computer Science"
         ],
         "legendgroup": "Computer science, Computer science",
         "marker": {
          "color": "#19d3f3",
          "symbol": "circle"
         },
         "mode": "markers",
         "name": "Computer science",
         "orientation": "v",
         "showlegend": false,
         "type": "scatter",
         "x": [
          "CSC111",
          "CSC113",
          "CSC220",
          "CSC212",
          "CSC215",
          "CSC304",
          "CSC380",
          "CSC227",
          "CSC311",
          "CSC339",
          "CSC343",
          "CSC361",
          "CSC329",
          "CSC340",
          "CSC453",
          "CSC496",
          "CSC443",
          "CSC462",
          "CSC489"
         ],
         "xaxis": "x10",
         "y": [
          5,
          4,
          4,
          5,
          3,
          2.5,
          3.5,
          2.5,
          5,
          3.5,
          2,
          4,
          4.5,
          3.5,
          3,
          3,
          3,
          5,
          3.5
         ],
         "yaxis": "y10"
        },
        {
         "hovertemplate": "<b>%{hovertext}</b><br><br>color=Humanities<br>symbol=Humanities<br>index=%{x}<br>value=%{y}<extra></extra>",
         "hovertext": [
          "English 100",
          "Arabic 100",
          "Tech 140 - Computer Skills",
          "Entrepreneurship 101",
          "Fajab 101 - Health and Stuff",
          "Nahaj 101 - University Skills",
          "English 110"
         ],
         "legendgroup": "Humanities, Humanities",
         "marker": {
          "color": "#636efa",
          "symbol": "circle"
         },
         "mode": "markers",
         "name": "Humanities",
         "orientation": "v",
         "showlegend": false,
         "type": "scatter",
         "x": [
          "ENGLISH100",
          "ARB100",
          "TECH101",
          "ENTREPRENEUR101",
          "FAJAB101",
          "NAHAJ101",
          "ENGLISH110"
         ],
         "xaxis": "x11",
         "y": [
          5,
          4,
          5,
          5,
          5,
          4,
          5
         ],
         "yaxis": "y11"
        },
        {
         "hovertemplate": "<b>%{hovertext}</b><br><br>color=Mathematics<br>symbol=Mathematics<br>index=%{x}<br>value=%{y}<extra></extra>",
         "hovertext": [
          "Math 101 - Derivative Math",
          "Statistics 101",
          "Math 106 - Integral Math",
          "Math 151 - Discrete Math",
          "MATH 244 - Linear Algebra",
          "Math 281 - Combinatorial Math"
         ],
         "legendgroup": "Mathematics, Mathematics",
         "marker": {
          "color": "#EF553B",
          "symbol": "diamond"
         },
         "mode": "markers",
         "name": "Mathematics",
         "orientation": "v",
         "showlegend": false,
         "type": "scatter",
         "x": [
          "MATH101",
          "STAT101",
          "MATH106",
          "MATH151",
          "MATH244",
          "MATH281"
         ],
         "xaxis": "x11",
         "y": [
          3,
          3,
          3,
          4,
          3,
          3
         ],
         "yaxis": "y11"
        },
        {
         "hovertemplate": "<b>%{hovertext}</b><br><br>color=Chemistry<br>symbol=Chemistry<br>index=%{x}<br>value=%{y}<extra></extra>",
         "hovertext": [
          "Chemistry 101 - Intro To Chemistry"
         ],
         "legendgroup": "Chemistry, Chemistry",
         "marker": {
          "color": "#00cc96",
          "symbol": "square"
         },
         "mode": "markers",
         "name": "Chemistry",
         "orientation": "v",
         "showlegend": false,
         "type": "scatter",
         "x": [
          "CHEM101"
         ],
         "xaxis": "x11",
         "y": [
          2
         ],
         "yaxis": "y11"
        },
        {
         "hovertemplate": "<b>%{hovertext}</b><br><br>color=Islamics<br>symbol=Islamics<br>index=%{x}<br>value=%{y}<extra></extra>",
         "hovertext": [
          "Salam 107 - Job Ethics",
          "Salam 108 - Modern Issues"
         ],
         "legendgroup": "Islamics, Islamics",
         "marker": {
          "color": "#ab63fa",
          "symbol": "x"
         },
         "mode": "markers",
         "name": "Islamics",
         "orientation": "v",
         "showlegend": false,
         "type": "scatter",
         "x": [
          "SALAM107",
          "SALAM108"
         ],
         "xaxis": "x11",
         "y": [
          5,
          4
         ],
         "yaxis": "y11"
        },
        {
         "hovertemplate": "<b>%{hovertext}</b><br><br>color=Physics<br>symbol=Physics<br>index=%{x}<br>value=%{y}<extra></extra>",
         "hovertext": [
          "Physics 104 - Electrical Physics",
          "Physics 103 - Newtonian Physics"
         ],
         "legendgroup": "Physics, Physics",
         "marker": {
          "color": "#FFA15A",
          "symbol": "cross"
         },
         "mode": "markers",
         "name": "Physics",
         "orientation": "v",
         "showlegend": false,
         "type": "scatter",
         "x": [
          "PHYS104",
          "PHYS103"
         ],
         "xaxis": "x11",
         "y": [
          2,
          2
         ],
         "yaxis": "y11"
        },
        {
         "hovertemplate": "<b>%{hovertext}</b><br><br>color=Computer science<br>symbol=Computer science<br>index=%{x}<br>value=%{y}<extra></extra>",
         "hovertext": [
          "CSC 111 – Computer Programming-I (3-2-1)",
          "CSC 113 – Computer Programming-II (3-2-1)",
          "CSC 220 – Computer Organization (2-2-1)",
          "CSC 212 – Data Structures (3-0-1)",
          "CSC 215 – Procedural Programming With C (2-2-1)",
          "CSC 304 – Ethical Issues in Computing & Research Methods (3-0-1)",
          "CSC 380 – Introduction to Database Concepts (3-0-1)",
          "CSC 227 – Operating Systems (3-0-1)",
          "CSC 311 – Design and Analysis of Algorithms (3-0-1)",
          "CSC 339 – Theory of Computation (3-0-1)",
          "CSC 343 - Intro To Software Engineering",
          "CSC 361 – Artificial Intelligence (3-0-1)",
          "CSC 329 – Computer Networks (3-0-1)",
          "CSC 340 – Programming Languages and Compilation (3-0-1)",
          "CSC 453 - Parallel Processing (3-0-1)",
          "CSC 496 – Graduation Project-I (2-0-0)",
          "CSC 443 – IT/Software project management (3-0-1)",
          "CSC 462 – Machine Learning (3-0-1)",
          "CSC 489 - Selected Topics in Computer Science"
         ],
         "legendgroup": "Computer science, Computer science",
         "marker": {
          "color": "#19d3f3",
          "symbol": "circle"
         },
         "mode": "markers",
         "name": "Computer science",
         "orientation": "v",
         "showlegend": false,
         "type": "scatter",
         "x": [
          "CSC111",
          "CSC113",
          "CSC220",
          "CSC212",
          "CSC215",
          "CSC304",
          "CSC380",
          "CSC227",
          "CSC311",
          "CSC339",
          "CSC343",
          "CSC361",
          "CSC329",
          "CSC340",
          "CSC453",
          "CSC496",
          "CSC443",
          "CSC462",
          "CSC489"
         ],
         "xaxis": "x11",
         "y": [
          4.5,
          4,
          3,
          4,
          2,
          5,
          4.5,
          3,
          4.5,
          3,
          3,
          3,
          3.5,
          2,
          3,
          3,
          3,
          4.5,
          3.5
         ],
         "yaxis": "y11"
        },
        {
         "hovertemplate": "<b>%{hovertext}</b><br><br>color=Humanities<br>symbol=Humanities<br>index=%{x}<br>value=%{y}<extra></extra>",
         "hovertext": [
          "English 100",
          "Arabic 100",
          "Tech 140 - Computer Skills",
          "Entrepreneurship 101",
          "Fajab 101 - Health and Stuff",
          "Nahaj 101 - University Skills",
          "English 110"
         ],
         "legendgroup": "Humanities, Humanities",
         "marker": {
          "color": "#636efa",
          "symbol": "circle"
         },
         "mode": "markers",
         "name": "Humanities",
         "orientation": "v",
         "showlegend": false,
         "type": "scatter",
         "x": [
          "ENGLISH100",
          "ARB100",
          "TECH101",
          "ENTREPRENEUR101",
          "FAJAB101",
          "NAHAJ101",
          "ENGLISH110"
         ],
         "xaxis": "x13",
         "y": [
          5,
          3,
          4,
          5,
          3,
          1,
          5
         ],
         "yaxis": "y13"
        },
        {
         "hovertemplate": "<b>%{hovertext}</b><br><br>color=Mathematics<br>symbol=Mathematics<br>index=%{x}<br>value=%{y}<extra></extra>",
         "hovertext": [
          "Math 101 - Derivative Math",
          "Statistics 101",
          "Math 106 - Integral Math",
          "Math 151 - Discrete Math",
          "MATH 244 - Linear Algebra",
          "Math 281 - Combinatorial Math"
         ],
         "legendgroup": "Mathematics, Mathematics",
         "marker": {
          "color": "#EF553B",
          "symbol": "diamond"
         },
         "mode": "markers",
         "name": "Mathematics",
         "orientation": "v",
         "showlegend": false,
         "type": "scatter",
         "x": [
          "MATH101",
          "STAT101",
          "MATH106",
          "MATH151",
          "MATH244",
          "MATH281"
         ],
         "xaxis": "x13",
         "y": [
          3,
          5,
          3,
          5,
          3,
          5
         ],
         "yaxis": "y13"
        },
        {
         "hovertemplate": "<b>%{hovertext}</b><br><br>color=Chemistry<br>symbol=Chemistry<br>index=%{x}<br>value=%{y}<extra></extra>",
         "hovertext": [
          "Chemistry 101 - Intro To Chemistry"
         ],
         "legendgroup": "Chemistry, Chemistry",
         "marker": {
          "color": "#00cc96",
          "symbol": "square"
         },
         "mode": "markers",
         "name": "Chemistry",
         "orientation": "v",
         "showlegend": false,
         "type": "scatter",
         "x": [
          "CHEM101"
         ],
         "xaxis": "x13",
         "y": [
          1
         ],
         "yaxis": "y13"
        },
        {
         "hovertemplate": "<b>%{hovertext}</b><br><br>color=Islamics<br>symbol=Islamics<br>index=%{x}<br>value=%{y}<extra></extra>",
         "hovertext": [
          "Salam 107 - Job Ethics",
          "Salam 108 - Modern Issues"
         ],
         "legendgroup": "Islamics, Islamics",
         "marker": {
          "color": "#ab63fa",
          "symbol": "x"
         },
         "mode": "markers",
         "name": "Islamics",
         "orientation": "v",
         "showlegend": false,
         "type": "scatter",
         "x": [
          "SALAM107",
          "SALAM108"
         ],
         "xaxis": "x13",
         "y": [
          5,
          1
         ],
         "yaxis": "y13"
        },
        {
         "hovertemplate": "<b>%{hovertext}</b><br><br>color=Physics<br>symbol=Physics<br>index=%{x}<br>value=%{y}<extra></extra>",
         "hovertext": [
          "Physics 104 - Electrical Physics",
          "Physics 103 - Newtonian Physics"
         ],
         "legendgroup": "Physics, Physics",
         "marker": {
          "color": "#FFA15A",
          "symbol": "cross"
         },
         "mode": "markers",
         "name": "Physics",
         "orientation": "v",
         "showlegend": false,
         "type": "scatter",
         "x": [
          "PHYS104",
          "PHYS103"
         ],
         "xaxis": "x13",
         "y": [
          1,
          1
         ],
         "yaxis": "y13"
        },
        {
         "hovertemplate": "<b>%{hovertext}</b><br><br>color=Computer science<br>symbol=Computer science<br>index=%{x}<br>value=%{y}<extra></extra>",
         "hovertext": [
          "CSC 111 – Computer Programming-I (3-2-1)",
          "CSC 113 – Computer Programming-II (3-2-1)",
          "CSC 220 – Computer Organization (2-2-1)",
          "CSC 212 – Data Structures (3-0-1)",
          "CSC 215 – Procedural Programming With C (2-2-1)",
          "CSC 304 – Ethical Issues in Computing & Research Methods (3-0-1)",
          "CSC 380 – Introduction to Database Concepts (3-0-1)",
          "CSC 227 – Operating Systems (3-0-1)",
          "CSC 311 – Design and Analysis of Algorithms (3-0-1)",
          "CSC 339 – Theory of Computation (3-0-1)",
          "CSC 343 - Intro To Software Engineering",
          "CSC 361 – Artificial Intelligence (3-0-1)",
          "CSC 329 – Computer Networks (3-0-1)",
          "CSC 340 – Programming Languages and Compilation (3-0-1)",
          "CSC 453 - Parallel Processing (3-0-1)",
          "CSC 496 – Graduation Project-I (2-0-0)",
          "CSC 443 – IT/Software project management (3-0-1)",
          "CSC 462 – Machine Learning (3-0-1)",
          "CSC 489 - Selected Topics in Computer Science"
         ],
         "legendgroup": "Computer science, Computer science",
         "marker": {
          "color": "#19d3f3",
          "symbol": "circle"
         },
         "mode": "markers",
         "name": "Computer science",
         "orientation": "v",
         "showlegend": false,
         "type": "scatter",
         "x": [
          "CSC111",
          "CSC113",
          "CSC220",
          "CSC212",
          "CSC215",
          "CSC304",
          "CSC380",
          "CSC227",
          "CSC311",
          "CSC339",
          "CSC343",
          "CSC361",
          "CSC329",
          "CSC340",
          "CSC453",
          "CSC496",
          "CSC443",
          "CSC462",
          "CSC489"
         ],
         "xaxis": "x13",
         "y": [
          5,
          5,
          5,
          5,
          3,
          1,
          5,
          3,
          5,
          1,
          3,
          5,
          5,
          2,
          3,
          5,
          3,
          5,
          1
         ],
         "yaxis": "y13"
        },
        {
         "hovertemplate": "<b>%{hovertext}</b><br><br>color=Humanities<br>symbol=Humanities<br>index=%{x}<br>value=%{y}<extra></extra>",
         "hovertext": [
          "English 100",
          "Arabic 100",
          "Tech 140 - Computer Skills",
          "Entrepreneurship 101",
          "Fajab 101 - Health and Stuff",
          "Nahaj 101 - University Skills",
          "English 110"
         ],
         "legendgroup": "Humanities, Humanities",
         "marker": {
          "color": "#636efa",
          "symbol": "circle"
         },
         "mode": "markers",
         "name": "Humanities",
         "orientation": "v",
         "showlegend": false,
         "type": "scatter",
         "x": [
          "ENGLISH100",
          "ARB100",
          "TECH101",
          "ENTREPRENEUR101",
          "FAJAB101",
          "NAHAJ101",
          "ENGLISH110"
         ],
         "xaxis": "x14",
         "y": [
          5,
          2,
          3,
          1,
          3,
          1,
          5
         ],
         "yaxis": "y14"
        },
        {
         "hovertemplate": "<b>%{hovertext}</b><br><br>color=Mathematics<br>symbol=Mathematics<br>index=%{x}<br>value=%{y}<extra></extra>",
         "hovertext": [
          "Math 101 - Derivative Math",
          "Statistics 101",
          "Math 106 - Integral Math",
          "Math 151 - Discrete Math",
          "MATH 244 - Linear Algebra",
          "Math 281 - Combinatorial Math"
         ],
         "legendgroup": "Mathematics, Mathematics",
         "marker": {
          "color": "#EF553B",
          "symbol": "diamond"
         },
         "mode": "markers",
         "name": "Mathematics",
         "orientation": "v",
         "showlegend": false,
         "type": "scatter",
         "x": [
          "MATH101",
          "STAT101",
          "MATH106",
          "MATH151",
          "MATH244",
          "MATH281"
         ],
         "xaxis": "x14",
         "y": [
          5,
          4,
          5,
          5,
          5,
          5
         ],
         "yaxis": "y14"
        },
        {
         "hovertemplate": "<b>%{hovertext}</b><br><br>color=Chemistry<br>symbol=Chemistry<br>index=%{x}<br>value=%{y}<extra></extra>",
         "hovertext": [
          "Chemistry 101 - Intro To Chemistry"
         ],
         "legendgroup": "Chemistry, Chemistry",
         "marker": {
          "color": "#00cc96",
          "symbol": "square"
         },
         "mode": "markers",
         "name": "Chemistry",
         "orientation": "v",
         "showlegend": false,
         "type": "scatter",
         "x": [
          "CHEM101"
         ],
         "xaxis": "x14",
         "y": [
          1
         ],
         "yaxis": "y14"
        },
        {
         "hovertemplate": "<b>%{hovertext}</b><br><br>color=Islamics<br>symbol=Islamics<br>index=%{x}<br>value=%{y}<extra></extra>",
         "hovertext": [
          "Salam 107 - Job Ethics",
          "Salam 108 - Modern Issues"
         ],
         "legendgroup": "Islamics, Islamics",
         "marker": {
          "color": "#ab63fa",
          "symbol": "x"
         },
         "mode": "markers",
         "name": "Islamics",
         "orientation": "v",
         "showlegend": false,
         "type": "scatter",
         "x": [
          "SALAM107",
          "SALAM108"
         ],
         "xaxis": "x14",
         "y": [
          5,
          5
         ],
         "yaxis": "y14"
        },
        {
         "hovertemplate": "<b>%{hovertext}</b><br><br>color=Physics<br>symbol=Physics<br>index=%{x}<br>value=%{y}<extra></extra>",
         "hovertext": [
          "Physics 104 - Electrical Physics",
          "Physics 103 - Newtonian Physics"
         ],
         "legendgroup": "Physics, Physics",
         "marker": {
          "color": "#FFA15A",
          "symbol": "cross"
         },
         "mode": "markers",
         "name": "Physics",
         "orientation": "v",
         "showlegend": false,
         "type": "scatter",
         "x": [
          "PHYS104",
          "PHYS103"
         ],
         "xaxis": "x14",
         "y": [
          1,
          1
         ],
         "yaxis": "y14"
        },
        {
         "hovertemplate": "<b>%{hovertext}</b><br><br>color=Computer science<br>symbol=Computer science<br>index=%{x}<br>value=%{y}<extra></extra>",
         "hovertext": [
          "CSC 111 – Computer Programming-I (3-2-1)",
          "CSC 113 – Computer Programming-II (3-2-1)",
          "CSC 220 – Computer Organization (2-2-1)",
          "CSC 212 – Data Structures (3-0-1)",
          "CSC 215 – Procedural Programming With C (2-2-1)",
          "CSC 304 – Ethical Issues in Computing & Research Methods (3-0-1)",
          "CSC 380 – Introduction to Database Concepts (3-0-1)",
          "CSC 227 – Operating Systems (3-0-1)",
          "CSC 311 – Design and Analysis of Algorithms (3-0-1)",
          "CSC 339 – Theory of Computation (3-0-1)",
          "CSC 343 - Intro To Software Engineering",
          "CSC 361 – Artificial Intelligence (3-0-1)",
          "CSC 329 – Computer Networks (3-0-1)",
          "CSC 340 – Programming Languages and Compilation (3-0-1)",
          "CSC 453 - Parallel Processing (3-0-1)",
          "CSC 496 – Graduation Project-I (2-0-0)",
          "CSC 443 – IT/Software project management (3-0-1)",
          "CSC 462 – Machine Learning (3-0-1)",
          "CSC 489 - Selected Topics in Computer Science"
         ],
         "legendgroup": "Computer science, Computer science",
         "marker": {
          "color": "#19d3f3",
          "symbol": "circle"
         },
         "mode": "markers",
         "name": "Computer science",
         "orientation": "v",
         "showlegend": false,
         "type": "scatter",
         "x": [
          "CSC111",
          "CSC113",
          "CSC220",
          "CSC212",
          "CSC215",
          "CSC304",
          "CSC380",
          "CSC227",
          "CSC311",
          "CSC339",
          "CSC343",
          "CSC361",
          "CSC329",
          "CSC340",
          "CSC453",
          "CSC496",
          "CSC443",
          "CSC462",
          "CSC489"
         ],
         "xaxis": "x14",
         "y": [
          5,
          5,
          4,
          5,
          3,
          1,
          2,
          2,
          5,
          3,
          2,
          2,
          5,
          1,
          2,
          5,
          3,
          5,
          3
         ],
         "yaxis": "y14"
        },
        {
         "hovertemplate": "<b>%{hovertext}</b><br><br>color=Humanities<br>symbol=Humanities<br>index=%{x}<br>value=%{y}<extra></extra>",
         "hovertext": [
          "English 100",
          "Arabic 100",
          "Tech 140 - Computer Skills",
          "Entrepreneurship 101",
          "Fajab 101 - Health and Stuff",
          "Nahaj 101 - University Skills",
          "English 110"
         ],
         "legendgroup": "Humanities, Humanities",
         "marker": {
          "color": "#636efa",
          "symbol": "circle"
         },
         "mode": "markers",
         "name": "Humanities",
         "orientation": "v",
         "showlegend": false,
         "type": "scatter",
         "x": [
          "ENGLISH100",
          "ARB100",
          "TECH101",
          "ENTREPRENEUR101",
          "FAJAB101",
          "NAHAJ101",
          "ENGLISH110"
         ],
         "xaxis": "x15",
         "y": [
          1,
          2,
          2,
          2,
          1,
          1,
          1
         ],
         "yaxis": "y15"
        },
        {
         "hovertemplate": "<b>%{hovertext}</b><br><br>color=Mathematics<br>symbol=Mathematics<br>index=%{x}<br>value=%{y}<extra></extra>",
         "hovertext": [
          "Math 101 - Derivative Math",
          "Statistics 101",
          "Math 106 - Integral Math",
          "Math 151 - Discrete Math",
          "MATH 244 - Linear Algebra",
          "Math 281 - Combinatorial Math"
         ],
         "legendgroup": "Mathematics, Mathematics",
         "marker": {
          "color": "#EF553B",
          "symbol": "diamond"
         },
         "mode": "markers",
         "name": "Mathematics",
         "orientation": "v",
         "showlegend": false,
         "type": "scatter",
         "x": [
          "MATH101",
          "STAT101",
          "MATH106",
          "MATH151",
          "MATH244",
          "MATH281"
         ],
         "xaxis": "x15",
         "y": [
          3,
          3,
          5,
          5,
          2,
          3
         ],
         "yaxis": "y15"
        },
        {
         "hovertemplate": "<b>%{hovertext}</b><br><br>color=Chemistry<br>symbol=Chemistry<br>index=%{x}<br>value=%{y}<extra></extra>",
         "hovertext": [
          "Chemistry 101 - Intro To Chemistry"
         ],
         "legendgroup": "Chemistry, Chemistry",
         "marker": {
          "color": "#00cc96",
          "symbol": "square"
         },
         "mode": "markers",
         "name": "Chemistry",
         "orientation": "v",
         "showlegend": false,
         "type": "scatter",
         "x": [
          "CHEM101"
         ],
         "xaxis": "x15",
         "y": [
          1
         ],
         "yaxis": "y15"
        },
        {
         "hovertemplate": "<b>%{hovertext}</b><br><br>color=Islamics<br>symbol=Islamics<br>index=%{x}<br>value=%{y}<extra></extra>",
         "hovertext": [
          "Salam 107 - Job Ethics",
          "Salam 108 - Modern Issues"
         ],
         "legendgroup": "Islamics, Islamics",
         "marker": {
          "color": "#ab63fa",
          "symbol": "x"
         },
         "mode": "markers",
         "name": "Islamics",
         "orientation": "v",
         "showlegend": false,
         "type": "scatter",
         "x": [
          "SALAM107",
          "SALAM108"
         ],
         "xaxis": "x15",
         "y": [
          5,
          1
         ],
         "yaxis": "y15"
        },
        {
         "hovertemplate": "<b>%{hovertext}</b><br><br>color=Physics<br>symbol=Physics<br>index=%{x}<br>value=%{y}<extra></extra>",
         "hovertext": [
          "Physics 104 - Electrical Physics",
          "Physics 103 - Newtonian Physics"
         ],
         "legendgroup": "Physics, Physics",
         "marker": {
          "color": "#FFA15A",
          "symbol": "cross"
         },
         "mode": "markers",
         "name": "Physics",
         "orientation": "v",
         "showlegend": false,
         "type": "scatter",
         "x": [
          "PHYS104",
          "PHYS103"
         ],
         "xaxis": "x15",
         "y": [
          1,
          2
         ],
         "yaxis": "y15"
        },
        {
         "hovertemplate": "<b>%{hovertext}</b><br><br>color=Computer science<br>symbol=Computer science<br>index=%{x}<br>value=%{y}<extra></extra>",
         "hovertext": [
          "CSC 111 – Computer Programming-I (3-2-1)",
          "CSC 113 – Computer Programming-II (3-2-1)",
          "CSC 220 – Computer Organization (2-2-1)",
          "CSC 212 – Data Structures (3-0-1)",
          "CSC 215 – Procedural Programming With C (2-2-1)",
          "CSC 304 – Ethical Issues in Computing & Research Methods (3-0-1)",
          "CSC 380 – Introduction to Database Concepts (3-0-1)",
          "CSC 227 – Operating Systems (3-0-1)",
          "CSC 311 – Design and Analysis of Algorithms (3-0-1)",
          "CSC 339 – Theory of Computation (3-0-1)",
          "CSC 343 - Intro To Software Engineering",
          "CSC 361 – Artificial Intelligence (3-0-1)",
          "CSC 329 – Computer Networks (3-0-1)",
          "CSC 340 – Programming Languages and Compilation (3-0-1)",
          "CSC 453 - Parallel Processing (3-0-1)",
          "CSC 496 – Graduation Project-I (2-0-0)",
          "CSC 443 – IT/Software project management (3-0-1)",
          "CSC 462 – Machine Learning (3-0-1)",
          "CSC 489 - Selected Topics in Computer Science"
         ],
         "legendgroup": "Computer science, Computer science",
         "marker": {
          "color": "#19d3f3",
          "symbol": "circle"
         },
         "mode": "markers",
         "name": "Computer science",
         "orientation": "v",
         "showlegend": false,
         "type": "scatter",
         "x": [
          "CSC111",
          "CSC113",
          "CSC220",
          "CSC212",
          "CSC215",
          "CSC304",
          "CSC380",
          "CSC227",
          "CSC311",
          "CSC339",
          "CSC343",
          "CSC361",
          "CSC329",
          "CSC340",
          "CSC453",
          "CSC496",
          "CSC443",
          "CSC462",
          "CSC489"
         ],
         "xaxis": "x15",
         "y": [
          5,
          5,
          5,
          5,
          3,
          5,
          3,
          3,
          5,
          4,
          2,
          3,
          5,
          3,
          2,
          3,
          2,
          5,
          1
         ],
         "yaxis": "y15"
        },
        {
         "hovertemplate": "<b>%{hovertext}</b><br><br>color=Humanities<br>symbol=Humanities<br>index=%{x}<br>value=%{y}<extra></extra>",
         "hovertext": [
          "English 100",
          "Arabic 100",
          "Tech 140 - Computer Skills",
          "Entrepreneurship 101",
          "Fajab 101 - Health and Stuff",
          "Nahaj 101 - University Skills",
          "English 110"
         ],
         "legendgroup": "Humanities, Humanities",
         "marker": {
          "color": "#636efa",
          "symbol": "circle"
         },
         "mode": "markers",
         "name": "Humanities",
         "orientation": "v",
         "showlegend": false,
         "type": "scatter",
         "x": [
          "ENGLISH100",
          "ARB100",
          "TECH101",
          "ENTREPRENEUR101",
          "FAJAB101",
          "NAHAJ101",
          "ENGLISH110"
         ],
         "xaxis": "x16",
         "y": [
          5,
          5,
          5,
          1,
          5,
          5,
          5
         ],
         "yaxis": "y16"
        },
        {
         "hovertemplate": "<b>%{hovertext}</b><br><br>color=Mathematics<br>symbol=Mathematics<br>index=%{x}<br>value=%{y}<extra></extra>",
         "hovertext": [
          "Math 101 - Derivative Math",
          "Statistics 101",
          "Math 106 - Integral Math",
          "Math 151 - Discrete Math",
          "MATH 244 - Linear Algebra",
          "Math 281 - Combinatorial Math"
         ],
         "legendgroup": "Mathematics, Mathematics",
         "marker": {
          "color": "#EF553B",
          "symbol": "diamond"
         },
         "mode": "markers",
         "name": "Mathematics",
         "orientation": "v",
         "showlegend": false,
         "type": "scatter",
         "x": [
          "MATH101",
          "STAT101",
          "MATH106",
          "MATH151",
          "MATH244",
          "MATH281"
         ],
         "xaxis": "x16",
         "y": [
          4,
          3,
          3,
          5,
          3,
          5
         ],
         "yaxis": "y16"
        },
        {
         "hovertemplate": "<b>%{hovertext}</b><br><br>color=Chemistry<br>symbol=Chemistry<br>index=%{x}<br>value=%{y}<extra></extra>",
         "hovertext": [
          "Chemistry 101 - Intro To Chemistry"
         ],
         "legendgroup": "Chemistry, Chemistry",
         "marker": {
          "color": "#00cc96",
          "symbol": "square"
         },
         "mode": "markers",
         "name": "Chemistry",
         "orientation": "v",
         "showlegend": false,
         "type": "scatter",
         "x": [
          "CHEM101"
         ],
         "xaxis": "x16",
         "y": [
          2
         ],
         "yaxis": "y16"
        },
        {
         "hovertemplate": "<b>%{hovertext}</b><br><br>color=Islamics<br>symbol=Islamics<br>index=%{x}<br>value=%{y}<extra></extra>",
         "hovertext": [
          "Salam 107 - Job Ethics",
          "Salam 108 - Modern Issues"
         ],
         "legendgroup": "Islamics, Islamics",
         "marker": {
          "color": "#ab63fa",
          "symbol": "x"
         },
         "mode": "markers",
         "name": "Islamics",
         "orientation": "v",
         "showlegend": false,
         "type": "scatter",
         "x": [
          "SALAM107",
          "SALAM108"
         ],
         "xaxis": "x16",
         "y": [
          5,
          1
         ],
         "yaxis": "y16"
        },
        {
         "hovertemplate": "<b>%{hovertext}</b><br><br>color=Physics<br>symbol=Physics<br>index=%{x}<br>value=%{y}<extra></extra>",
         "hovertext": [
          "Physics 104 - Electrical Physics",
          "Physics 103 - Newtonian Physics"
         ],
         "legendgroup": "Physics, Physics",
         "marker": {
          "color": "#FFA15A",
          "symbol": "cross"
         },
         "mode": "markers",
         "name": "Physics",
         "orientation": "v",
         "showlegend": false,
         "type": "scatter",
         "x": [
          "PHYS104",
          "PHYS103"
         ],
         "xaxis": "x16",
         "y": [
          2,
          4
         ],
         "yaxis": "y16"
        },
        {
         "hovertemplate": "<b>%{hovertext}</b><br><br>color=Computer science<br>symbol=Computer science<br>index=%{x}<br>value=%{y}<extra></extra>",
         "hovertext": [
          "CSC 111 – Computer Programming-I (3-2-1)",
          "CSC 113 – Computer Programming-II (3-2-1)",
          "CSC 220 – Computer Organization (2-2-1)",
          "CSC 212 – Data Structures (3-0-1)",
          "CSC 215 – Procedural Programming With C (2-2-1)",
          "CSC 304 – Ethical Issues in Computing & Research Methods (3-0-1)",
          "CSC 380 – Introduction to Database Concepts (3-0-1)",
          "CSC 227 – Operating Systems (3-0-1)",
          "CSC 311 – Design and Analysis of Algorithms (3-0-1)",
          "CSC 339 – Theory of Computation (3-0-1)",
          "CSC 343 - Intro To Software Engineering",
          "CSC 361 – Artificial Intelligence (3-0-1)",
          "CSC 329 – Computer Networks (3-0-1)",
          "CSC 340 – Programming Languages and Compilation (3-0-1)",
          "CSC 453 - Parallel Processing (3-0-1)",
          "CSC 496 – Graduation Project-I (2-0-0)",
          "CSC 443 – IT/Software project management (3-0-1)",
          "CSC 462 – Machine Learning (3-0-1)",
          "CSC 489 - Selected Topics in Computer Science"
         ],
         "legendgroup": "Computer science, Computer science",
         "marker": {
          "color": "#19d3f3",
          "symbol": "circle"
         },
         "mode": "markers",
         "name": "Computer science",
         "orientation": "v",
         "showlegend": false,
         "type": "scatter",
         "x": [
          "CSC111",
          "CSC113",
          "CSC220",
          "CSC212",
          "CSC215",
          "CSC304",
          "CSC380",
          "CSC227",
          "CSC311",
          "CSC339",
          "CSC343",
          "CSC361",
          "CSC329",
          "CSC340",
          "CSC453",
          "CSC496",
          "CSC443",
          "CSC462",
          "CSC489"
         ],
         "xaxis": "x16",
         "y": [
          5,
          5,
          2,
          5,
          3,
          5,
          3,
          2,
          5,
          3,
          2,
          4,
          5,
          5,
          3,
          3,
          3,
          5,
          2
         ],
         "yaxis": "y16"
        },
        {
         "hovertemplate": "<b>%{hovertext}</b><br><br>color=Humanities<br>symbol=Humanities<br>index=%{x}<br>value=%{y}<extra></extra>",
         "hovertext": [
          "English 100",
          "Arabic 100",
          "Tech 140 - Computer Skills",
          "Entrepreneurship 101",
          "Fajab 101 - Health and Stuff",
          "Nahaj 101 - University Skills",
          "English 110"
         ],
         "legendgroup": "Humanities, Humanities",
         "marker": {
          "color": "#636efa",
          "symbol": "circle"
         },
         "mode": "markers",
         "name": "Humanities",
         "orientation": "v",
         "showlegend": false,
         "type": "scatter",
         "x": [
          "ENGLISH100",
          "ARB100",
          "TECH101",
          "ENTREPRENEUR101",
          "FAJAB101",
          "NAHAJ101",
          "ENGLISH110"
         ],
         "xaxis": "x17",
         "y": [
          5,
          5,
          5,
          5,
          5,
          4,
          5
         ],
         "yaxis": "y17"
        },
        {
         "hovertemplate": "<b>%{hovertext}</b><br><br>color=Mathematics<br>symbol=Mathematics<br>index=%{x}<br>value=%{y}<extra></extra>",
         "hovertext": [
          "Math 101 - Derivative Math",
          "Statistics 101",
          "Math 106 - Integral Math",
          "Math 151 - Discrete Math",
          "MATH 244 - Linear Algebra",
          "Math 281 - Combinatorial Math"
         ],
         "legendgroup": "Mathematics, Mathematics",
         "marker": {
          "color": "#EF553B",
          "symbol": "diamond"
         },
         "mode": "markers",
         "name": "Mathematics",
         "orientation": "v",
         "showlegend": false,
         "type": "scatter",
         "x": [
          "MATH101",
          "STAT101",
          "MATH106",
          "MATH151",
          "MATH244",
          "MATH281"
         ],
         "xaxis": "x17",
         "y": [
          3,
          3,
          3,
          4,
          3,
          3
         ],
         "yaxis": "y17"
        },
        {
         "hovertemplate": "<b>%{hovertext}</b><br><br>color=Chemistry<br>symbol=Chemistry<br>index=%{x}<br>value=%{y}<extra></extra>",
         "hovertext": [
          "Chemistry 101 - Intro To Chemistry"
         ],
         "legendgroup": "Chemistry, Chemistry",
         "marker": {
          "color": "#00cc96",
          "symbol": "square"
         },
         "mode": "markers",
         "name": "Chemistry",
         "orientation": "v",
         "showlegend": false,
         "type": "scatter",
         "x": [
          "CHEM101"
         ],
         "xaxis": "x17",
         "y": [
          2
         ],
         "yaxis": "y17"
        },
        {
         "hovertemplate": "<b>%{hovertext}</b><br><br>color=Islamics<br>symbol=Islamics<br>index=%{x}<br>value=%{y}<extra></extra>",
         "hovertext": [
          "Salam 107 - Job Ethics",
          "Salam 108 - Modern Issues"
         ],
         "legendgroup": "Islamics, Islamics",
         "marker": {
          "color": "#ab63fa",
          "symbol": "x"
         },
         "mode": "markers",
         "name": "Islamics",
         "orientation": "v",
         "showlegend": false,
         "type": "scatter",
         "x": [
          "SALAM107",
          "SALAM108"
         ],
         "xaxis": "x17",
         "y": [
          5,
          5
         ],
         "yaxis": "y17"
        },
        {
         "hovertemplate": "<b>%{hovertext}</b><br><br>color=Physics<br>symbol=Physics<br>index=%{x}<br>value=%{y}<extra></extra>",
         "hovertext": [
          "Physics 104 - Electrical Physics",
          "Physics 103 - Newtonian Physics"
         ],
         "legendgroup": "Physics, Physics",
         "marker": {
          "color": "#FFA15A",
          "symbol": "cross"
         },
         "mode": "markers",
         "name": "Physics",
         "orientation": "v",
         "showlegend": false,
         "type": "scatter",
         "x": [
          "PHYS104",
          "PHYS103"
         ],
         "xaxis": "x17",
         "y": [
          2,
          1
         ],
         "yaxis": "y17"
        },
        {
         "hovertemplate": "<b>%{hovertext}</b><br><br>color=Computer science<br>symbol=Computer science<br>index=%{x}<br>value=%{y}<extra></extra>",
         "hovertext": [
          "CSC 111 – Computer Programming-I (3-2-1)",
          "CSC 113 – Computer Programming-II (3-2-1)",
          "CSC 220 – Computer Organization (2-2-1)",
          "CSC 212 – Data Structures (3-0-1)",
          "CSC 215 – Procedural Programming With C (2-2-1)",
          "CSC 304 – Ethical Issues in Computing & Research Methods (3-0-1)",
          "CSC 380 – Introduction to Database Concepts (3-0-1)",
          "CSC 227 – Operating Systems (3-0-1)",
          "CSC 311 – Design and Analysis of Algorithms (3-0-1)",
          "CSC 339 – Theory of Computation (3-0-1)",
          "CSC 343 - Intro To Software Engineering",
          "CSC 361 – Artificial Intelligence (3-0-1)",
          "CSC 329 – Computer Networks (3-0-1)",
          "CSC 340 – Programming Languages and Compilation (3-0-1)",
          "CSC 453 - Parallel Processing (3-0-1)",
          "CSC 496 – Graduation Project-I (2-0-0)",
          "CSC 443 – IT/Software project management (3-0-1)",
          "CSC 462 – Machine Learning (3-0-1)",
          "CSC 489 - Selected Topics in Computer Science"
         ],
         "legendgroup": "Computer science, Computer science",
         "marker": {
          "color": "#19d3f3",
          "symbol": "circle"
         },
         "mode": "markers",
         "name": "Computer science",
         "orientation": "v",
         "showlegend": false,
         "type": "scatter",
         "x": [
          "CSC111",
          "CSC113",
          "CSC220",
          "CSC212",
          "CSC215",
          "CSC304",
          "CSC380",
          "CSC227",
          "CSC311",
          "CSC339",
          "CSC343",
          "CSC361",
          "CSC329",
          "CSC340",
          "CSC453",
          "CSC496",
          "CSC443",
          "CSC462",
          "CSC489"
         ],
         "xaxis": "x17",
         "y": [
          5,
          4,
          3,
          5,
          2,
          5,
          5,
          3,
          5,
          3,
          3,
          3,
          3,
          1,
          3,
          3,
          3,
          5,
          2
         ],
         "yaxis": "y17"
        },
        {
         "hovertemplate": "<b>%{hovertext}</b><br><br>color=Humanities<br>symbol=Humanities<br>index=%{x}<br>value=%{y}<extra></extra>",
         "hovertext": [
          "English 100",
          "Arabic 100",
          "Tech 140 - Computer Skills",
          "Entrepreneurship 101",
          "Fajab 101 - Health and Stuff",
          "Nahaj 101 - University Skills",
          "English 110"
         ],
         "legendgroup": "Humanities, Humanities",
         "marker": {
          "color": "#636efa",
          "symbol": "circle"
         },
         "mode": "markers",
         "name": "Humanities",
         "orientation": "v",
         "showlegend": false,
         "type": "scatter",
         "x": [
          "ENGLISH100",
          "ARB100",
          "TECH101",
          "ENTREPRENEUR101",
          "FAJAB101",
          "NAHAJ101",
          "ENGLISH110"
         ],
         "xaxis": "x19",
         "y": [
          1.4392458342578487,
          1.4898926873369838,
          1.192927878405448,
          1.5447859516333116,
          1.433368568981982,
          1.5782614139961386,
          1.286683937707919
         ],
         "yaxis": "y19"
        },
        {
         "hovertemplate": "<b>%{hovertext}</b><br><br>color=Mathematics<br>symbol=Mathematics<br>index=%{x}<br>value=%{y}<extra></extra>",
         "hovertext": [
          "Math 101 - Derivative Math",
          "Statistics 101",
          "Math 106 - Integral Math",
          "Math 151 - Discrete Math",
          "MATH 244 - Linear Algebra",
          "Math 281 - Combinatorial Math"
         ],
         "legendgroup": "Mathematics, Mathematics",
         "marker": {
          "color": "#EF553B",
          "symbol": "diamond"
         },
         "mode": "markers",
         "name": "Mathematics",
         "orientation": "v",
         "showlegend": false,
         "type": "scatter",
         "x": [
          "MATH101",
          "STAT101",
          "MATH106",
          "MATH151",
          "MATH244",
          "MATH281"
         ],
         "xaxis": "x19",
         "y": [
          0.9944903161976936,
          1.1657505560686467,
          1.2659242088545832,
          1.0690449676496976,
          1.087114613009218,
          1.0954451150103321
         ],
         "yaxis": "y19"
        },
        {
         "hovertemplate": "<b>%{hovertext}</b><br><br>color=Chemistry<br>symbol=Chemistry<br>index=%{x}<br>value=%{y}<extra></extra>",
         "hovertext": [
          "Chemistry 101 - Intro To Chemistry"
         ],
         "legendgroup": "Chemistry, Chemistry",
         "marker": {
          "color": "#00cc96",
          "symbol": "square"
         },
         "mode": "markers",
         "name": "Chemistry",
         "orientation": "v",
         "showlegend": false,
         "type": "scatter",
         "x": [
          "CHEM101"
         ],
         "xaxis": "x19",
         "y": [
          1.4632243987255136
         ],
         "yaxis": "y19"
        },
        {
         "hovertemplate": "<b>%{hovertext}</b><br><br>color=Islamics<br>symbol=Islamics<br>index=%{x}<br>value=%{y}<extra></extra>",
         "hovertext": [
          "Salam 107 - Job Ethics",
          "Salam 108 - Modern Issues"
         ],
         "legendgroup": "Islamics, Islamics",
         "marker": {
          "color": "#ab63fa",
          "symbol": "x"
         },
         "mode": "markers",
         "name": "Islamics",
         "orientation": "v",
         "showlegend": false,
         "type": "scatter",
         "x": [
          "SALAM107",
          "SALAM108"
         ],
         "xaxis": "x19",
         "y": [
          1.618079669911781,
          1.7677669529663689
         ],
         "yaxis": "y19"
        },
        {
         "hovertemplate": "<b>%{hovertext}</b><br><br>color=Physics<br>symbol=Physics<br>index=%{x}<br>value=%{y}<extra></extra>",
         "hovertext": [
          "Physics 104 - Electrical Physics",
          "Physics 103 - Newtonian Physics"
         ],
         "legendgroup": "Physics, Physics",
         "marker": {
          "color": "#FFA15A",
          "symbol": "cross"
         },
         "mode": "markers",
         "name": "Physics",
         "orientation": "v",
         "showlegend": false,
         "type": "scatter",
         "x": [
          "PHYS104",
          "PHYS103"
         ],
         "xaxis": "x19",
         "y": [
          1.381698559415515,
          1.511857892036909
         ],
         "yaxis": "y19"
        },
        {
         "hovertemplate": "<b>%{hovertext}</b><br><br>color=Computer science<br>symbol=Computer science<br>index=%{x}<br>value=%{y}<extra></extra>",
         "hovertext": [
          "CSC 111 – Computer Programming-I (3-2-1)",
          "CSC 113 – Computer Programming-II (3-2-1)",
          "CSC 220 – Computer Organization (2-2-1)",
          "CSC 212 – Data Structures (3-0-1)",
          "CSC 215 – Procedural Programming With C (2-2-1)",
          "CSC 304 – Ethical Issues in Computing & Research Methods (3-0-1)",
          "CSC 380 – Introduction to Database Concepts (3-0-1)",
          "CSC 227 – Operating Systems (3-0-1)",
          "CSC 311 – Design and Analysis of Algorithms (3-0-1)",
          "CSC 339 – Theory of Computation (3-0-1)",
          "CSC 343 - Intro To Software Engineering",
          "CSC 361 – Artificial Intelligence (3-0-1)",
          "CSC 329 – Computer Networks (3-0-1)",
          "CSC 340 – Programming Languages and Compilation (3-0-1)",
          "CSC 453 - Parallel Processing (3-0-1)",
          "CSC 496 – Graduation Project-I (2-0-0)",
          "CSC 443 – IT/Software project management (3-0-1)",
          "CSC 462 – Machine Learning (3-0-1)",
          "CSC 489 - Selected Topics in Computer Science"
         ],
         "legendgroup": "Computer science, Computer science",
         "marker": {
          "color": "#19d3f3",
          "symbol": "circle"
         },
         "mode": "markers",
         "name": "Computer science",
         "orientation": "v",
         "showlegend": false,
         "type": "scatter",
         "x": [
          "CSC111",
          "CSC113",
          "CSC220",
          "CSC212",
          "CSC215",
          "CSC304",
          "CSC380",
          "CSC227",
          "CSC311",
          "CSC339",
          "CSC343",
          "CSC361",
          "CSC329",
          "CSC340",
          "CSC453",
          "CSC496",
          "CSC443",
          "CSC462",
          "CSC489"
         ],
         "xaxis": "x19",
         "y": [
          0.7449463436684919,
          1.192927878405448,
          1.1908743922772957,
          0.674199862463242,
          1.0929064207170003,
          1.8287822299126937,
          1.3165611772087666,
          0.7440238091428449,
          0.7440238091428449,
          1.5059406173077154,
          0.9910312089651149,
          1.4638501094227998,
          0.9910312089651149,
          1.3024701806293193,
          1.3887301496588271,
          1.0954451150103321,
          0.5773502691896258,
          0.816496580927726,
          2.8284271247461903
         ],
         "yaxis": "y19"
        },
        {
         "hovertemplate": "<b>%{hovertext}</b><br><br>color=Humanities<br>symbol=Humanities<br>index=%{x}<br>value=%{y}<extra></extra>",
         "hovertext": [
          "English 100",
          "Arabic 100",
          "Tech 140 - Computer Skills",
          "Entrepreneurship 101",
          "Fajab 101 - Health and Stuff",
          "Nahaj 101 - University Skills",
          "English 110"
         ],
         "legendgroup": "Humanities, Humanities",
         "marker": {
          "color": "#636efa",
          "symbol": "circle"
         },
         "mode": "markers",
         "name": "Humanities",
         "orientation": "v",
         "showlegend": false,
         "type": "scatter",
         "x": [
          "ENGLISH100",
          "ARB100",
          "TECH101",
          "ENTREPRENEUR101",
          "FAJAB101",
          "NAHAJ101",
          "ENGLISH110"
         ],
         "xaxis": "x20",
         "y": [
          1.3259870882635918,
          1.292412345317728,
          0.8987170342729172,
          1.621353717973928,
          1.2933395813657265,
          1.2933395813657265,
          1.286683937707919
         ],
         "yaxis": "y20"
        },
        {
         "hovertemplate": "<b>%{hovertext}</b><br><br>color=Mathematics<br>symbol=Mathematics<br>index=%{x}<br>value=%{y}<extra></extra>",
         "hovertext": [
          "Math 101 - Derivative Math",
          "Statistics 101",
          "Math 106 - Integral Math",
          "Math 151 - Discrete Math",
          "MATH 244 - Linear Algebra",
          "Math 281 - Combinatorial Math"
         ],
         "legendgroup": "Mathematics, Mathematics",
         "marker": {
          "color": "#EF553B",
          "symbol": "diamond"
         },
         "mode": "markers",
         "name": "Mathematics",
         "orientation": "v",
         "showlegend": false,
         "type": "scatter",
         "x": [
          "MATH101",
          "STAT101",
          "MATH106",
          "MATH151",
          "MATH244",
          "MATH281"
         ],
         "xaxis": "x20",
         "y": [
          1.0377490433255416,
          1.1547005383792515,
          1.344504484072964,
          1.1883130530663677,
          1.2401124093721456,
          0.9438798074485389
         ],
         "yaxis": "y20"
        },
        {
         "hovertemplate": "<b>%{hovertext}</b><br><br>color=Chemistry<br>symbol=Chemistry<br>index=%{x}<br>value=%{y}<extra></extra>",
         "hovertext": [
          "Chemistry 101 - Intro To Chemistry"
         ],
         "legendgroup": "Chemistry, Chemistry",
         "marker": {
          "color": "#00cc96",
          "symbol": "square"
         },
         "mode": "markers",
         "name": "Chemistry",
         "orientation": "v",
         "showlegend": false,
         "type": "scatter",
         "x": [
          "CHEM101"
         ],
         "xaxis": "x20",
         "y": [
          1.4500221041639683
         ],
         "yaxis": "y20"
        },
        {
         "hovertemplate": "<b>%{hovertext}</b><br><br>color=Islamics<br>symbol=Islamics<br>index=%{x}<br>value=%{y}<extra></extra>",
         "hovertext": [
          "Salam 107 - Job Ethics",
          "Salam 108 - Modern Issues"
         ],
         "legendgroup": "Islamics, Islamics",
         "marker": {
          "color": "#ab63fa",
          "symbol": "x"
         },
         "mode": "markers",
         "name": "Islamics",
         "orientation": "v",
         "showlegend": false,
         "type": "scatter",
         "x": [
          "SALAM107",
          "SALAM108"
         ],
         "xaxis": "x20",
         "y": [
          1.4333685689819817,
          1.7728105208558367
         ],
         "yaxis": "y20"
        },
        {
         "hovertemplate": "<b>%{hovertext}</b><br><br>color=Physics<br>symbol=Physics<br>index=%{x}<br>value=%{y}<extra></extra>",
         "hovertext": [
          "Physics 104 - Electrical Physics",
          "Physics 103 - Newtonian Physics"
         ],
         "legendgroup": "Physics, Physics",
         "marker": {
          "color": "#FFA15A",
          "symbol": "cross"
         },
         "mode": "markers",
         "name": "Physics",
         "orientation": "v",
         "showlegend": false,
         "type": "scatter",
         "x": [
          "PHYS104",
          "PHYS103"
         ],
         "xaxis": "x20",
         "y": [
          1.4354811251305468,
          1.8126539343499315
         ],
         "yaxis": "y20"
        },
        {
         "hovertemplate": "<b>%{hovertext}</b><br><br>color=Computer science<br>symbol=Computer science<br>index=%{x}<br>value=%{y}<extra></extra>",
         "hovertext": [
          "CSC 111 – Computer Programming-I (3-2-1)",
          "CSC 113 – Computer Programming-II (3-2-1)",
          "CSC 220 – Computer Organization (2-2-1)",
          "CSC 212 – Data Structures (3-0-1)",
          "CSC 215 – Procedural Programming With C (2-2-1)",
          "CSC 304 – Ethical Issues in Computing & Research Methods (3-0-1)",
          "CSC 380 – Introduction to Database Concepts (3-0-1)",
          "CSC 227 – Operating Systems (3-0-1)",
          "CSC 311 – Design and Analysis of Algorithms (3-0-1)",
          "CSC 339 – Theory of Computation (3-0-1)",
          "CSC 343 - Intro To Software Engineering",
          "CSC 361 – Artificial Intelligence (3-0-1)",
          "CSC 329 – Computer Networks (3-0-1)",
          "CSC 340 – Programming Languages and Compilation (3-0-1)",
          "CSC 453 - Parallel Processing (3-0-1)",
          "CSC 496 – Graduation Project-I (2-0-0)",
          "CSC 443 – IT/Software project management (3-0-1)",
          "CSC 462 – Machine Learning (3-0-1)",
          "CSC 489 - Selected Topics in Computer Science"
         ],
         "legendgroup": "Computer science, Computer science",
         "marker": {
          "color": "#19d3f3",
          "symbol": "circle"
         },
         "mode": "markers",
         "name": "Computer science",
         "orientation": "v",
         "showlegend": false,
         "type": "scatter",
         "x": [
          "CSC111",
          "CSC113",
          "CSC220",
          "CSC212",
          "CSC215",
          "CSC304",
          "CSC380",
          "CSC227",
          "CSC311",
          "CSC339",
          "CSC343",
          "CSC361",
          "CSC329",
          "CSC340",
          "CSC453",
          "CSC496",
          "CSC443",
          "CSC462",
          "CSC489"
         ],
         "xaxis": "x20",
         "y": [
          0.9972489631508749,
          1.2557559782549623,
          1.1281521496355325,
          1,
          1.224744871391589,
          1.7638342073763937,
          1.3984117975602022,
          1.0690449676496976,
          0.7071067811865476,
          1.407885953173359,
          1.0690449676496976,
          1.3972762620115438,
          0.7559289460184544,
          1.6035674514745464,
          0.7071067811865476,
          1.0954451150103321,
          0.5773502691896258,
          0.8366600265340756,
          1.4142135623730951
         ],
         "yaxis": "y20"
        },
        {
         "hovertemplate": "<b>%{hovertext}</b><br><br>color=Humanities<br>symbol=Humanities<br>index=%{x}<br>value=%{y}<extra></extra>",
         "hovertext": [
          "English 100",
          "Arabic 100",
          "Tech 140 - Computer Skills",
          "Entrepreneurship 101",
          "Fajab 101 - Health and Stuff",
          "Nahaj 101 - University Skills",
          "English 110"
         ],
         "legendgroup": "Humanities, Humanities",
         "marker": {
          "color": "#636efa",
          "symbol": "circle"
         },
         "mode": "markers",
         "name": "Humanities",
         "orientation": "v",
         "showlegend": false,
         "type": "scatter",
         "x": [
          "ENGLISH100",
          "ARB100",
          "TECH101",
          "ENTREPRENEUR101",
          "FAJAB101",
          "NAHAJ101",
          "ENGLISH110"
         ],
         "xaxis": "x21",
         "y": [
          1.6391501416322993,
          1.6172150801252798,
          1.0439078454267836,
          1.6025547785276542,
          1.3618169680781096,
          1.4333685689819817,
          1.728840330651992
         ],
         "yaxis": "y21"
        },
        {
         "hovertemplate": "<b>%{hovertext}</b><br><br>color=Mathematics<br>symbol=Mathematics<br>index=%{x}<br>value=%{y}<extra></extra>",
         "hovertext": [
          "Math 101 - Derivative Math",
          "Statistics 101",
          "Math 106 - Integral Math",
          "Math 151 - Discrete Math",
          "MATH 244 - Linear Algebra",
          "Math 281 - Combinatorial Math"
         ],
         "legendgroup": "Mathematics, Mathematics",
         "marker": {
          "color": "#EF553B",
          "symbol": "diamond"
         },
         "mode": "markers",
         "name": "Mathematics",
         "orientation": "v",
         "showlegend": false,
         "type": "scatter",
         "x": [
          "MATH101",
          "STAT101",
          "MATH106",
          "MATH151",
          "MATH244",
          "MATH281"
         ],
         "xaxis": "x21",
         "y": [
          1.15072838853303,
          1.12089707663561,
          1.4500221041639685,
          1.071611705960535,
          1.3568010505999362,
          1
         ],
         "yaxis": "y21"
        },
        {
         "hovertemplate": "<b>%{hovertext}</b><br><br>color=Chemistry<br>symbol=Chemistry<br>index=%{x}<br>value=%{y}<extra></extra>",
         "hovertext": [
          "Chemistry 101 - Intro To Chemistry"
         ],
         "legendgroup": "Chemistry, Chemistry",
         "marker": {
          "color": "#00cc96",
          "symbol": "square"
         },
         "mode": "markers",
         "name": "Chemistry",
         "orientation": "v",
         "showlegend": false,
         "type": "scatter",
         "x": [
          "CHEM101"
         ],
         "xaxis": "x21",
         "y": [
          1.214231845389905
         ],
         "yaxis": "y21"
        },
        {
         "hovertemplate": "<b>%{hovertext}</b><br><br>color=Islamics<br>symbol=Islamics<br>index=%{x}<br>value=%{y}<extra></extra>",
         "hovertext": [
          "Salam 107 - Job Ethics",
          "Salam 108 - Modern Issues"
         ],
         "legendgroup": "Islamics, Islamics",
         "marker": {
          "color": "#ab63fa",
          "symbol": "x"
         },
         "mode": "markers",
         "name": "Islamics",
         "orientation": "v",
         "showlegend": false,
         "type": "scatter",
         "x": [
          "SALAM107",
          "SALAM108"
         ],
         "xaxis": "x21",
         "y": [
          1.5666989036012806,
          1.1259916264596033
         ],
         "yaxis": "y21"
        },
        {
         "hovertemplate": "<b>%{hovertext}</b><br><br>color=Physics<br>symbol=Physics<br>index=%{x}<br>value=%{y}<extra></extra>",
         "hovertext": [
          "Physics 104 - Electrical Physics",
          "Physics 103 - Newtonian Physics"
         ],
         "legendgroup": "Physics, Physics",
         "marker": {
          "color": "#FFA15A",
          "symbol": "cross"
         },
         "mode": "markers",
         "name": "Physics",
         "orientation": "v",
         "showlegend": false,
         "type": "scatter",
         "x": [
          "PHYS104",
          "PHYS103"
         ],
         "xaxis": "x21",
         "y": [
          1.381698559415515,
          1.3801311186847085
         ],
         "yaxis": "y21"
        },
        {
         "hovertemplate": "<b>%{hovertext}</b><br><br>color=Computer science<br>symbol=Computer science<br>index=%{x}<br>value=%{y}<extra></extra>",
         "hovertext": [
          "CSC 111 – Computer Programming-I (3-2-1)",
          "CSC 113 – Computer Programming-II (3-2-1)",
          "CSC 220 – Computer Organization (2-2-1)",
          "CSC 212 – Data Structures (3-0-1)",
          "CSC 215 – Procedural Programming With C (2-2-1)",
          "CSC 304 – Ethical Issues in Computing & Research Methods (3-0-1)",
          "CSC 380 – Introduction to Database Concepts (3-0-1)",
          "CSC 227 – Operating Systems (3-0-1)",
          "CSC 311 – Design and Analysis of Algorithms (3-0-1)",
          "CSC 339 – Theory of Computation (3-0-1)",
          "CSC 343 - Intro To Software Engineering",
          "CSC 361 – Artificial Intelligence (3-0-1)",
          "CSC 329 – Computer Networks (3-0-1)",
          "CSC 340 – Programming Languages and Compilation (3-0-1)",
          "CSC 453 - Parallel Processing (3-0-1)",
          "CSC 496 – Graduation Project-I (2-0-0)",
          "CSC 443 – IT/Software project management (3-0-1)",
          "CSC 462 – Machine Learning (3-0-1)",
          "CSC 489 - Selected Topics in Computer Science"
         ],
         "legendgroup": "Computer science, Computer science",
         "marker": {
          "color": "#19d3f3",
          "symbol": "circle"
         },
         "mode": "markers",
         "name": "Computer science",
         "orientation": "v",
         "showlegend": false,
         "type": "scatter",
         "x": [
          "CSC111",
          "CSC113",
          "CSC220",
          "CSC212",
          "CSC215",
          "CSC304",
          "CSC380",
          "CSC227",
          "CSC311",
          "CSC339",
          "CSC343",
          "CSC361",
          "CSC329",
          "CSC340",
          "CSC453",
          "CSC496",
          "CSC443",
          "CSC462",
          "CSC489"
         ],
         "xaxis": "x21",
         "y": [
          0.9749612559222293,
          1.4411533842457842,
          1.2862913567871996,
          0.996204919895622,
          1.0137937550497031,
          1.7919573407620817,
          1.2516655570345725,
          0.7559289460184544,
          0.7440238091428449,
          1.2817398889233114,
          1.0606601717798212,
          1.1126972805283737,
          0.9161253813129043,
          1.6690459207925603,
          0.8864052604279183,
          0.8944271909999159,
          0,
          0.816496580927726,
          2.8284271247461903
         ],
         "yaxis": "y21"
        },
        {
         "hovertemplate": "<b>%{hovertext}</b><br><br>color=Humanities<br>symbol=Humanities<br>index=%{x}<br>value=%{y}<extra></extra>",
         "hovertext": [
          "English 100",
          "Arabic 100",
          "Tech 140 - Computer Skills",
          "Entrepreneurship 101",
          "Fajab 101 - Health and Stuff",
          "Nahaj 101 - University Skills",
          "English 110"
         ],
         "legendgroup": "Humanities, Humanities",
         "marker": {
          "color": "#636efa",
          "symbol": "circle"
         },
         "mode": "markers",
         "name": "Humanities",
         "orientation": "v",
         "showlegend": false,
         "type": "scatter",
         "x": [
          "ENGLISH100",
          "ARB100",
          "TECH101",
          "ENTREPRENEUR101",
          "FAJAB101",
          "NAHAJ101",
          "ENGLISH110"
         ],
         "xaxis": "x22",
         "y": [
          1.696797241605749,
          1.5548576840284827,
          1.4500221041639683,
          1.6733200530681511,
          1.721521525754576,
          1.3483997249264843,
          1.7159383568311668
         ],
         "yaxis": "y22"
        },
        {
         "hovertemplate": "<b>%{hovertext}</b><br><br>color=Mathematics<br>symbol=Mathematics<br>index=%{x}<br>value=%{y}<extra></extra>",
         "hovertext": [
          "Math 101 - Derivative Math",
          "Statistics 101",
          "Math 106 - Integral Math",
          "Math 151 - Discrete Math",
          "MATH 244 - Linear Algebra",
          "Math 281 - Combinatorial Math"
         ],
         "legendgroup": "Mathematics, Mathematics",
         "marker": {
          "color": "#EF553B",
          "symbol": "diamond"
         },
         "mode": "markers",
         "name": "Mathematics",
         "orientation": "v",
         "showlegend": false,
         "type": "scatter",
         "x": [
          "MATH101",
          "STAT101",
          "MATH106",
          "MATH151",
          "MATH244",
          "MATH281"
         ],
         "xaxis": "x22",
         "y": [
          1.2043875831929893,
          1.0500305245868344,
          1.1982893790305562,
          1.1411388181101378,
          1.164500152881315,
          1.1908743922772957
         ],
         "yaxis": "y22"
        },
        {
         "hovertemplate": "<b>%{hovertext}</b><br><br>color=Chemistry<br>symbol=Chemistry<br>index=%{x}<br>value=%{y}<extra></extra>",
         "hovertext": [
          "Chemistry 101 - Intro To Chemistry"
         ],
         "legendgroup": "Chemistry, Chemistry",
         "marker": {
          "color": "#00cc96",
          "symbol": "square"
         },
         "mode": "markers",
         "name": "Chemistry",
         "orientation": "v",
         "showlegend": false,
         "type": "scatter",
         "x": [
          "CHEM101"
         ],
         "xaxis": "x22",
         "y": [
          1.39136531360295
         ],
         "yaxis": "y22"
        },
        {
         "hovertemplate": "<b>%{hovertext}</b><br><br>color=Islamics<br>symbol=Islamics<br>index=%{x}<br>value=%{y}<extra></extra>",
         "hovertext": [
          "Salam 107 - Job Ethics",
          "Salam 108 - Modern Issues"
         ],
         "legendgroup": "Islamics, Islamics",
         "marker": {
          "color": "#ab63fa",
          "symbol": "x"
         },
         "mode": "markers",
         "name": "Islamics",
         "orientation": "v",
         "showlegend": false,
         "type": "scatter",
         "x": [
          "SALAM107",
          "SALAM108"
         ],
         "xaxis": "x22",
         "y": [
          1.4459976109624424,
          1.5059406173077154
         ],
         "yaxis": "y22"
        },
        {
         "hovertemplate": "<b>%{hovertext}</b><br><br>color=Physics<br>symbol=Physics<br>index=%{x}<br>value=%{y}<extra></extra>",
         "hovertext": [
          "Physics 104 - Electrical Physics",
          "Physics 103 - Newtonian Physics"
         ],
         "legendgroup": "Physics, Physics",
         "marker": {
          "color": "#FFA15A",
          "symbol": "cross"
         },
         "mode": "markers",
         "name": "Physics",
         "orientation": "v",
         "showlegend": false,
         "type": "scatter",
         "x": [
          "PHYS104",
          "PHYS103"
         ],
         "xaxis": "x22",
         "y": [
          1.2309149097933274,
          1.4638501094227998
         ],
         "yaxis": "y22"
        },
        {
         "hovertemplate": "<b>%{hovertext}</b><br><br>color=Computer science<br>symbol=Computer science<br>index=%{x}<br>value=%{y}<extra></extra>",
         "hovertext": [
          "CSC 111 – Computer Programming-I (3-2-1)",
          "CSC 113 – Computer Programming-II (3-2-1)",
          "CSC 220 – Computer Organization (2-2-1)",
          "CSC 212 – Data Structures (3-0-1)",
          "CSC 215 – Procedural Programming With C (2-2-1)",
          "CSC 304 – Ethical Issues in Computing & Research Methods (3-0-1)",
          "CSC 380 – Introduction to Database Concepts (3-0-1)",
          "CSC 227 – Operating Systems (3-0-1)",
          "CSC 311 – Design and Analysis of Algorithms (3-0-1)",
          "CSC 339 – Theory of Computation (3-0-1)",
          "CSC 343 - Intro To Software Engineering",
          "CSC 361 – Artificial Intelligence (3-0-1)",
          "CSC 329 – Computer Networks (3-0-1)",
          "CSC 340 – Programming Languages and Compilation (3-0-1)",
          "CSC 453 - Parallel Processing (3-0-1)",
          "CSC 496 – Graduation Project-I (2-0-0)",
          "CSC 443 – IT/Software project management (3-0-1)",
          "CSC 462 – Machine Learning (3-0-1)",
          "CSC 489 - Selected Topics in Computer Science"
         ],
         "legendgroup": "Computer science, Computer science",
         "marker": {
          "color": "#19d3f3",
          "symbol": "circle"
         },
         "mode": "markers",
         "name": "Computer science",
         "orientation": "v",
         "showlegend": false,
         "type": "scatter",
         "x": [
          "CSC111",
          "CSC113",
          "CSC220",
          "CSC212",
          "CSC215",
          "CSC304",
          "CSC380",
          "CSC227",
          "CSC311",
          "CSC339",
          "CSC343",
          "CSC361",
          "CSC329",
          "CSC340",
          "CSC453",
          "CSC496",
          "CSC443",
          "CSC462",
          "CSC489"
         ],
         "xaxis": "x22",
         "y": [
          0.6112498455021266,
          0.8320502943378437,
          1.3684762594679063,
          0.6685579234215214,
          1,
          1.8257418583505538,
          1.1737877907772674,
          1.0606601717798212,
          0.7071067811865476,
          1.407885953173359,
          1.0350983390135313,
          1,
          0.8864052604279183,
          1.5979898086569353,
          0.7559289460184544,
          0.8944271909999159,
          1.1547005383792515,
          0.8366600265340756,
          2.1213203435596424
         ],
         "yaxis": "y22"
        },
        {
         "hovertemplate": "<b>%{hovertext}</b><br><br>color=Humanities<br>symbol=Humanities<br>index=%{x}<br>value=%{y}<extra></extra>",
         "hovertext": [
          "English 100",
          "Arabic 100",
          "Tech 140 - Computer Skills",
          "Entrepreneurship 101",
          "Fajab 101 - Health and Stuff",
          "Nahaj 101 - University Skills",
          "English 110"
         ],
         "legendgroup": "Humanities, Humanities",
         "marker": {
          "color": "#636efa",
          "symbol": "circle"
         },
         "mode": "markers",
         "name": "Humanities",
         "orientation": "v",
         "showlegend": false,
         "type": "scatter",
         "x": [
          "ENGLISH100",
          "ARB100",
          "TECH101",
          "ENTREPRENEUR101",
          "FAJAB101",
          "NAHAJ101",
          "ENGLISH110"
         ],
         "xaxis": "x23",
         "y": [
          1.286019499792345,
          1.3688047244316384,
          1.1821319289469758,
          1.5642792899510294,
          1.4142135623730951,
          1.300349603340998,
          1.2692955176439846
         ],
         "yaxis": "y23"
        },
        {
         "hovertemplate": "<b>%{hovertext}</b><br><br>color=Mathematics<br>symbol=Mathematics<br>index=%{x}<br>value=%{y}<extra></extra>",
         "hovertext": [
          "Math 101 - Derivative Math",
          "Statistics 101",
          "Math 106 - Integral Math",
          "Math 151 - Discrete Math",
          "MATH 244 - Linear Algebra",
          "Math 281 - Combinatorial Math"
         ],
         "legendgroup": "Mathematics, Mathematics",
         "marker": {
          "color": "#EF553B",
          "symbol": "diamond"
         },
         "mode": "markers",
         "name": "Mathematics",
         "orientation": "v",
         "showlegend": false,
         "type": "scatter",
         "x": [
          "MATH101",
          "STAT101",
          "MATH106",
          "MATH151",
          "MATH244",
          "MATH281"
         ],
         "xaxis": "x23",
         "y": [
          1.027105182026191,
          1.0681880176381127,
          1.3445044840729643,
          1.027105182026191,
          0.9374368665610922,
          1.0787197799411874
         ],
         "yaxis": "y23"
        },
        {
         "hovertemplate": "<b>%{hovertext}</b><br><br>color=Chemistry<br>symbol=Chemistry<br>index=%{x}<br>value=%{y}<extra></extra>",
         "hovertext": [
          "Chemistry 101 - Intro To Chemistry"
         ],
         "legendgroup": "Chemistry, Chemistry",
         "marker": {
          "color": "#00cc96",
          "symbol": "square"
         },
         "mode": "markers",
         "name": "Chemistry",
         "orientation": "v",
         "showlegend": false,
         "type": "scatter",
         "x": [
          "CHEM101"
         ],
         "xaxis": "x23",
         "y": [
          1.2659242088545832
         ],
         "yaxis": "y23"
        },
        {
         "hovertemplate": "<b>%{hovertext}</b><br><br>color=Islamics<br>symbol=Islamics<br>index=%{x}<br>value=%{y}<extra></extra>",
         "hovertext": [
          "Salam 107 - Job Ethics",
          "Salam 108 - Modern Issues"
         ],
         "legendgroup": "Islamics, Islamics",
         "marker": {
          "color": "#ab63fa",
          "symbol": "x"
         },
         "mode": "markers",
         "name": "Islamics",
         "orientation": "v",
         "showlegend": false,
         "type": "scatter",
         "x": [
          "SALAM107",
          "SALAM108"
         ],
         "xaxis": "x23",
         "y": [
          0.9244162777371754,
          1.5059406173077154
         ],
         "yaxis": "y23"
        },
        {
         "hovertemplate": "<b>%{hovertext}</b><br><br>color=Physics<br>symbol=Physics<br>index=%{x}<br>value=%{y}<extra></extra>",
         "hovertext": [
          "Physics 104 - Electrical Physics",
          "Physics 103 - Newtonian Physics"
         ],
         "legendgroup": "Physics, Physics",
         "marker": {
          "color": "#FFA15A",
          "symbol": "cross"
         },
         "mode": "markers",
         "name": "Physics",
         "orientation": "v",
         "showlegend": false,
         "type": "scatter",
         "x": [
          "PHYS104",
          "PHYS103"
         ],
         "xaxis": "x23",
         "y": [
          1.2673044646258476,
          1.618347187425374
         ],
         "yaxis": "y23"
        },
        {
         "hovertemplate": "<b>%{hovertext}</b><br><br>color=Computer science<br>symbol=Computer science<br>index=%{x}<br>value=%{y}<extra></extra>",
         "hovertext": [
          "CSC 111 – Computer Programming-I (3-2-1)",
          "CSC 113 – Computer Programming-II (3-2-1)",
          "CSC 220 – Computer Organization (2-2-1)",
          "CSC 212 – Data Structures (3-0-1)",
          "CSC 215 – Procedural Programming With C (2-2-1)",
          "CSC 304 – Ethical Issues in Computing & Research Methods (3-0-1)",
          "CSC 380 – Introduction to Database Concepts (3-0-1)",
          "CSC 227 – Operating Systems (3-0-1)",
          "CSC 311 – Design and Analysis of Algorithms (3-0-1)",
          "CSC 339 – Theory of Computation (3-0-1)",
          "CSC 343 - Intro To Software Engineering",
          "CSC 361 – Artificial Intelligence (3-0-1)",
          "CSC 329 – Computer Networks (3-0-1)",
          "CSC 340 – Programming Languages and Compilation (3-0-1)",
          "CSC 453 - Parallel Processing (3-0-1)",
          "CSC 496 – Graduation Project-I (2-0-0)",
          "CSC 443 – IT/Software project management (3-0-1)",
          "CSC 462 – Machine Learning (3-0-1)",
          "CSC 489 - Selected Topics in Computer Science"
         ],
         "legendgroup": "Computer science, Computer science",
         "marker": {
          "color": "#19d3f3",
          "symbol": "circle"
         },
         "mode": "markers",
         "name": "Computer science",
         "orientation": "v",
         "showlegend": false,
         "type": "scatter",
         "x": [
          "CSC111",
          "CSC113",
          "CSC220",
          "CSC212",
          "CSC215",
          "CSC304",
          "CSC380",
          "CSC227",
          "CSC311",
          "CSC339",
          "CSC343",
          "CSC361",
          "CSC329",
          "CSC340",
          "CSC453",
          "CSC496",
          "CSC443",
          "CSC462",
          "CSC489"
         ],
         "xaxis": "x23",
         "y": [
          0.7449463436684919,
          0.75955452531275,
          1.1037127426019047,
          1.0836246694508316,
          1.2360330811826106,
          1.6865480854231358,
          1.1005049346146119,
          1.0690449676496976,
          1.1952286093343936,
          1.3024701806293193,
          1.246423454758225,
          0.816496580927726,
          0.8864052604279183,
          1.6903085094570331,
          0.9910312089651149,
          1.0954451150103321,
          1.1547005383792515,
          1.2649110640673518,
          2.1213203435596424
         ],
         "yaxis": "y23"
        }
       ],
       "layout": {
        "annotations": [
         {
          "font": {
           "size": 16
          },
          "showarrow": false,
          "text": "Bayesian estimated mean Application score for each course",
          "x": 0.225,
          "xanchor": "center",
          "xref": "paper",
          "y": 1,
          "yanchor": "bottom",
          "yref": "paper"
         },
         {
          "font": {
           "size": 16
          },
          "showarrow": false,
          "text": "Bayesian estimated mean Relevance score for each course",
          "x": 0.775,
          "xanchor": "center",
          "xref": "paper",
          "y": 1,
          "yanchor": "bottom",
          "yref": "paper"
         },
         {
          "font": {
           "size": 16
          },
          "showarrow": false,
          "text": "Bayesian estimated mean Insight score for each course",
          "x": 0.225,
          "xanchor": "center",
          "xref": "paper",
          "y": 0.9131944444444444,
          "yanchor": "bottom",
          "yref": "paper"
         },
         {
          "font": {
           "size": 16
          },
          "showarrow": false,
          "text": "Bayesian estimated mean Understanding score for each course",
          "x": 0.775,
          "xanchor": "center",
          "xref": "paper",
          "y": 0.9131944444444444,
          "yanchor": "bottom",
          "yref": "paper"
         },
         {
          "font": {
           "size": 16
          },
          "showarrow": false,
          "text": "Bayesian estimated mean Ease score for each course",
          "x": 0.225,
          "xanchor": "center",
          "xref": "paper",
          "y": 0.8263888888888888,
          "yanchor": "bottom",
          "yref": "paper"
         },
         {
          "font": {
           "size": 16
          },
          "showarrow": false,
          "text": "Median Application score for each course",
          "x": 0.225,
          "xanchor": "center",
          "xref": "paper",
          "y": 0.7395833333333333,
          "yanchor": "bottom",
          "yref": "paper"
         },
         {
          "font": {
           "size": 16
          },
          "showarrow": false,
          "text": "Median Relevance score for each course",
          "x": 0.775,
          "xanchor": "center",
          "xref": "paper",
          "y": 0.7395833333333333,
          "yanchor": "bottom",
          "yref": "paper"
         },
         {
          "font": {
           "size": 16
          },
          "showarrow": false,
          "text": "Median Insight score for each course",
          "x": 0.225,
          "xanchor": "center",
          "xref": "paper",
          "y": 0.6527777777777777,
          "yanchor": "bottom",
          "yref": "paper"
         },
         {
          "font": {
           "size": 16
          },
          "showarrow": false,
          "text": "Median Understanding score for each course",
          "x": 0.775,
          "xanchor": "center",
          "xref": "paper",
          "y": 0.6527777777777777,
          "yanchor": "bottom",
          "yref": "paper"
         },
         {
          "font": {
           "size": 16
          },
          "showarrow": false,
          "text": "Median Ease score for each course",
          "x": 0.225,
          "xanchor": "center",
          "xref": "paper",
          "y": 0.5659722222222223,
          "yanchor": "bottom",
          "yref": "paper"
         },
         {
          "font": {
           "size": 16
          },
          "showarrow": false,
          "text": "Mode Application score for each course",
          "x": 0.225,
          "xanchor": "center",
          "xref": "paper",
          "y": 0.4791666666666667,
          "yanchor": "bottom",
          "yref": "paper"
         },
         {
          "font": {
           "size": 16
          },
          "showarrow": false,
          "text": "Mode Relevance score for each course",
          "x": 0.775,
          "xanchor": "center",
          "xref": "paper",
          "y": 0.4791666666666667,
          "yanchor": "bottom",
          "yref": "paper"
         },
         {
          "font": {
           "size": 16
          },
          "showarrow": false,
          "text": "Mode Insight score for each course",
          "x": 0.225,
          "xanchor": "center",
          "xref": "paper",
          "y": 0.3923611111111111,
          "yanchor": "bottom",
          "yref": "paper"
         },
         {
          "font": {
           "size": 16
          },
          "showarrow": false,
          "text": "Mode Understanding score for each course",
          "x": 0.775,
          "xanchor": "center",
          "xref": "paper",
          "y": 0.3923611111111111,
          "yanchor": "bottom",
          "yref": "paper"
         },
         {
          "font": {
           "size": 16
          },
          "showarrow": false,
          "text": "Mode Ease score for each course",
          "x": 0.225,
          "xanchor": "center",
          "xref": "paper",
          "y": 0.3055555555555556,
          "yanchor": "bottom",
          "yref": "paper"
         },
         {
          "font": {
           "size": 16
          },
          "showarrow": false,
          "text": "Standard deviation Application score for each course",
          "x": 0.225,
          "xanchor": "center",
          "xref": "paper",
          "y": 0.21875,
          "yanchor": "bottom",
          "yref": "paper"
         },
         {
          "font": {
           "size": 16
          },
          "showarrow": false,
          "text": "Standard deviation Relevance score for each course",
          "x": 0.775,
          "xanchor": "center",
          "xref": "paper",
          "y": 0.21875,
          "yanchor": "bottom",
          "yref": "paper"
         },
         {
          "font": {
           "size": 16
          },
          "showarrow": false,
          "text": "Standard deviation Insight score for each course",
          "x": 0.225,
          "xanchor": "center",
          "xref": "paper",
          "y": 0.13194444444444445,
          "yanchor": "bottom",
          "yref": "paper"
         },
         {
          "font": {
           "size": 16
          },
          "showarrow": false,
          "text": "Standard deviation Understanding score for each course",
          "x": 0.775,
          "xanchor": "center",
          "xref": "paper",
          "y": 0.13194444444444445,
          "yanchor": "bottom",
          "yref": "paper"
         },
         {
          "font": {
           "size": 16
          },
          "showarrow": false,
          "text": "Standard deviation Ease score for each course",
          "x": 0.225,
          "xanchor": "center",
          "xref": "paper",
          "y": 0.045138888888888895,
          "yanchor": "bottom",
          "yref": "paper"
         }
        ],
        "height": 5000,
        "template": {
         "data": {
          "bar": [
           {
            "error_x": {
             "color": "#f2f5fa"
            },
            "error_y": {
             "color": "#f2f5fa"
            },
            "marker": {
             "line": {
              "color": "rgb(17,17,17)",
              "width": 0.5
             },
             "pattern": {
              "fillmode": "overlay",
              "size": 10,
              "solidity": 0.2
             }
            },
            "type": "bar"
           }
          ],
          "barpolar": [
           {
            "marker": {
             "line": {
              "color": "rgb(17,17,17)",
              "width": 0.5
             },
             "pattern": {
              "fillmode": "overlay",
              "size": 10,
              "solidity": 0.2
             }
            },
            "type": "barpolar"
           }
          ],
          "carpet": [
           {
            "aaxis": {
             "endlinecolor": "#A2B1C6",
             "gridcolor": "#506784",
             "linecolor": "#506784",
             "minorgridcolor": "#506784",
             "startlinecolor": "#A2B1C6"
            },
            "baxis": {
             "endlinecolor": "#A2B1C6",
             "gridcolor": "#506784",
             "linecolor": "#506784",
             "minorgridcolor": "#506784",
             "startlinecolor": "#A2B1C6"
            },
            "type": "carpet"
           }
          ],
          "choropleth": [
           {
            "colorbar": {
             "outlinewidth": 0,
             "ticks": ""
            },
            "type": "choropleth"
           }
          ],
          "contour": [
           {
            "colorbar": {
             "outlinewidth": 0,
             "ticks": ""
            },
            "colorscale": [
             [
              0,
              "#0d0887"
             ],
             [
              0.1111111111111111,
              "#46039f"
             ],
             [
              0.2222222222222222,
              "#7201a8"
             ],
             [
              0.3333333333333333,
              "#9c179e"
             ],
             [
              0.4444444444444444,
              "#bd3786"
             ],
             [
              0.5555555555555556,
              "#d8576b"
             ],
             [
              0.6666666666666666,
              "#ed7953"
             ],
             [
              0.7777777777777778,
              "#fb9f3a"
             ],
             [
              0.8888888888888888,
              "#fdca26"
             ],
             [
              1,
              "#f0f921"
             ]
            ],
            "type": "contour"
           }
          ],
          "contourcarpet": [
           {
            "colorbar": {
             "outlinewidth": 0,
             "ticks": ""
            },
            "type": "contourcarpet"
           }
          ],
          "heatmap": [
           {
            "colorbar": {
             "outlinewidth": 0,
             "ticks": ""
            },
            "colorscale": [
             [
              0,
              "#0d0887"
             ],
             [
              0.1111111111111111,
              "#46039f"
             ],
             [
              0.2222222222222222,
              "#7201a8"
             ],
             [
              0.3333333333333333,
              "#9c179e"
             ],
             [
              0.4444444444444444,
              "#bd3786"
             ],
             [
              0.5555555555555556,
              "#d8576b"
             ],
             [
              0.6666666666666666,
              "#ed7953"
             ],
             [
              0.7777777777777778,
              "#fb9f3a"
             ],
             [
              0.8888888888888888,
              "#fdca26"
             ],
             [
              1,
              "#f0f921"
             ]
            ],
            "type": "heatmap"
           }
          ],
          "heatmapgl": [
           {
            "colorbar": {
             "outlinewidth": 0,
             "ticks": ""
            },
            "colorscale": [
             [
              0,
              "#0d0887"
             ],
             [
              0.1111111111111111,
              "#46039f"
             ],
             [
              0.2222222222222222,
              "#7201a8"
             ],
             [
              0.3333333333333333,
              "#9c179e"
             ],
             [
              0.4444444444444444,
              "#bd3786"
             ],
             [
              0.5555555555555556,
              "#d8576b"
             ],
             [
              0.6666666666666666,
              "#ed7953"
             ],
             [
              0.7777777777777778,
              "#fb9f3a"
             ],
             [
              0.8888888888888888,
              "#fdca26"
             ],
             [
              1,
              "#f0f921"
             ]
            ],
            "type": "heatmapgl"
           }
          ],
          "histogram": [
           {
            "marker": {
             "pattern": {
              "fillmode": "overlay",
              "size": 10,
              "solidity": 0.2
             }
            },
            "type": "histogram"
           }
          ],
          "histogram2d": [
           {
            "colorbar": {
             "outlinewidth": 0,
             "ticks": ""
            },
            "colorscale": [
             [
              0,
              "#0d0887"
             ],
             [
              0.1111111111111111,
              "#46039f"
             ],
             [
              0.2222222222222222,
              "#7201a8"
             ],
             [
              0.3333333333333333,
              "#9c179e"
             ],
             [
              0.4444444444444444,
              "#bd3786"
             ],
             [
              0.5555555555555556,
              "#d8576b"
             ],
             [
              0.6666666666666666,
              "#ed7953"
             ],
             [
              0.7777777777777778,
              "#fb9f3a"
             ],
             [
              0.8888888888888888,
              "#fdca26"
             ],
             [
              1,
              "#f0f921"
             ]
            ],
            "type": "histogram2d"
           }
          ],
          "histogram2dcontour": [
           {
            "colorbar": {
             "outlinewidth": 0,
             "ticks": ""
            },
            "colorscale": [
             [
              0,
              "#0d0887"
             ],
             [
              0.1111111111111111,
              "#46039f"
             ],
             [
              0.2222222222222222,
              "#7201a8"
             ],
             [
              0.3333333333333333,
              "#9c179e"
             ],
             [
              0.4444444444444444,
              "#bd3786"
             ],
             [
              0.5555555555555556,
              "#d8576b"
             ],
             [
              0.6666666666666666,
              "#ed7953"
             ],
             [
              0.7777777777777778,
              "#fb9f3a"
             ],
             [
              0.8888888888888888,
              "#fdca26"
             ],
             [
              1,
              "#f0f921"
             ]
            ],
            "type": "histogram2dcontour"
           }
          ],
          "mesh3d": [
           {
            "colorbar": {
             "outlinewidth": 0,
             "ticks": ""
            },
            "type": "mesh3d"
           }
          ],
          "parcoords": [
           {
            "line": {
             "colorbar": {
              "outlinewidth": 0,
              "ticks": ""
             }
            },
            "type": "parcoords"
           }
          ],
          "pie": [
           {
            "automargin": true,
            "type": "pie"
           }
          ],
          "scatter": [
           {
            "marker": {
             "line": {
              "color": "#283442"
             }
            },
            "type": "scatter"
           }
          ],
          "scatter3d": [
           {
            "line": {
             "colorbar": {
              "outlinewidth": 0,
              "ticks": ""
             }
            },
            "marker": {
             "colorbar": {
              "outlinewidth": 0,
              "ticks": ""
             }
            },
            "type": "scatter3d"
           }
          ],
          "scattercarpet": [
           {
            "marker": {
             "colorbar": {
              "outlinewidth": 0,
              "ticks": ""
             }
            },
            "type": "scattercarpet"
           }
          ],
          "scattergeo": [
           {
            "marker": {
             "colorbar": {
              "outlinewidth": 0,
              "ticks": ""
             }
            },
            "type": "scattergeo"
           }
          ],
          "scattergl": [
           {
            "marker": {
             "line": {
              "color": "#283442"
             }
            },
            "type": "scattergl"
           }
          ],
          "scattermapbox": [
           {
            "marker": {
             "colorbar": {
              "outlinewidth": 0,
              "ticks": ""
             }
            },
            "type": "scattermapbox"
           }
          ],
          "scatterpolar": [
           {
            "marker": {
             "colorbar": {
              "outlinewidth": 0,
              "ticks": ""
             }
            },
            "type": "scatterpolar"
           }
          ],
          "scatterpolargl": [
           {
            "marker": {
             "colorbar": {
              "outlinewidth": 0,
              "ticks": ""
             }
            },
            "type": "scatterpolargl"
           }
          ],
          "scatterternary": [
           {
            "marker": {
             "colorbar": {
              "outlinewidth": 0,
              "ticks": ""
             }
            },
            "type": "scatterternary"
           }
          ],
          "surface": [
           {
            "colorbar": {
             "outlinewidth": 0,
             "ticks": ""
            },
            "colorscale": [
             [
              0,
              "#0d0887"
             ],
             [
              0.1111111111111111,
              "#46039f"
             ],
             [
              0.2222222222222222,
              "#7201a8"
             ],
             [
              0.3333333333333333,
              "#9c179e"
             ],
             [
              0.4444444444444444,
              "#bd3786"
             ],
             [
              0.5555555555555556,
              "#d8576b"
             ],
             [
              0.6666666666666666,
              "#ed7953"
             ],
             [
              0.7777777777777778,
              "#fb9f3a"
             ],
             [
              0.8888888888888888,
              "#fdca26"
             ],
             [
              1,
              "#f0f921"
             ]
            ],
            "type": "surface"
           }
          ],
          "table": [
           {
            "cells": {
             "fill": {
              "color": "#506784"
             },
             "line": {
              "color": "rgb(17,17,17)"
             }
            },
            "header": {
             "fill": {
              "color": "#2a3f5f"
             },
             "line": {
              "color": "rgb(17,17,17)"
             }
            },
            "type": "table"
           }
          ]
         },
         "layout": {
          "annotationdefaults": {
           "arrowcolor": "#f2f5fa",
           "arrowhead": 0,
           "arrowwidth": 1
          },
          "autotypenumbers": "strict",
          "coloraxis": {
           "colorbar": {
            "outlinewidth": 0,
            "ticks": ""
           }
          },
          "colorscale": {
           "diverging": [
            [
             0,
             "#8e0152"
            ],
            [
             0.1,
             "#c51b7d"
            ],
            [
             0.2,
             "#de77ae"
            ],
            [
             0.3,
             "#f1b6da"
            ],
            [
             0.4,
             "#fde0ef"
            ],
            [
             0.5,
             "#f7f7f7"
            ],
            [
             0.6,
             "#e6f5d0"
            ],
            [
             0.7,
             "#b8e186"
            ],
            [
             0.8,
             "#7fbc41"
            ],
            [
             0.9,
             "#4d9221"
            ],
            [
             1,
             "#276419"
            ]
           ],
           "sequential": [
            [
             0,
             "#0d0887"
            ],
            [
             0.1111111111111111,
             "#46039f"
            ],
            [
             0.2222222222222222,
             "#7201a8"
            ],
            [
             0.3333333333333333,
             "#9c179e"
            ],
            [
             0.4444444444444444,
             "#bd3786"
            ],
            [
             0.5555555555555556,
             "#d8576b"
            ],
            [
             0.6666666666666666,
             "#ed7953"
            ],
            [
             0.7777777777777778,
             "#fb9f3a"
            ],
            [
             0.8888888888888888,
             "#fdca26"
            ],
            [
             1,
             "#f0f921"
            ]
           ],
           "sequentialminus": [
            [
             0,
             "#0d0887"
            ],
            [
             0.1111111111111111,
             "#46039f"
            ],
            [
             0.2222222222222222,
             "#7201a8"
            ],
            [
             0.3333333333333333,
             "#9c179e"
            ],
            [
             0.4444444444444444,
             "#bd3786"
            ],
            [
             0.5555555555555556,
             "#d8576b"
            ],
            [
             0.6666666666666666,
             "#ed7953"
            ],
            [
             0.7777777777777778,
             "#fb9f3a"
            ],
            [
             0.8888888888888888,
             "#fdca26"
            ],
            [
             1,
             "#f0f921"
            ]
           ]
          },
          "colorway": [
           "#636efa",
           "#EF553B",
           "#00cc96",
           "#ab63fa",
           "#FFA15A",
           "#19d3f3",
           "#FF6692",
           "#B6E880",
           "#FF97FF",
           "#FECB52"
          ],
          "font": {
           "color": "#f2f5fa"
          },
          "geo": {
           "bgcolor": "rgb(17,17,17)",
           "lakecolor": "rgb(17,17,17)",
           "landcolor": "rgb(17,17,17)",
           "showlakes": true,
           "showland": true,
           "subunitcolor": "#506784"
          },
          "hoverlabel": {
           "align": "left"
          },
          "hovermode": "closest",
          "mapbox": {
           "style": "dark"
          },
          "paper_bgcolor": "rgb(17,17,17)",
          "plot_bgcolor": "rgb(17,17,17)",
          "polar": {
           "angularaxis": {
            "gridcolor": "#506784",
            "linecolor": "#506784",
            "ticks": ""
           },
           "bgcolor": "rgb(17,17,17)",
           "radialaxis": {
            "gridcolor": "#506784",
            "linecolor": "#506784",
            "ticks": ""
           }
          },
          "scene": {
           "xaxis": {
            "backgroundcolor": "rgb(17,17,17)",
            "gridcolor": "#506784",
            "gridwidth": 2,
            "linecolor": "#506784",
            "showbackground": true,
            "ticks": "",
            "zerolinecolor": "#C8D4E3"
           },
           "yaxis": {
            "backgroundcolor": "rgb(17,17,17)",
            "gridcolor": "#506784",
            "gridwidth": 2,
            "linecolor": "#506784",
            "showbackground": true,
            "ticks": "",
            "zerolinecolor": "#C8D4E3"
           },
           "zaxis": {
            "backgroundcolor": "rgb(17,17,17)",
            "gridcolor": "#506784",
            "gridwidth": 2,
            "linecolor": "#506784",
            "showbackground": true,
            "ticks": "",
            "zerolinecolor": "#C8D4E3"
           }
          },
          "shapedefaults": {
           "line": {
            "color": "#f2f5fa"
           }
          },
          "sliderdefaults": {
           "bgcolor": "#C8D4E3",
           "bordercolor": "rgb(17,17,17)",
           "borderwidth": 1,
           "tickwidth": 0
          },
          "ternary": {
           "aaxis": {
            "gridcolor": "#506784",
            "linecolor": "#506784",
            "ticks": ""
           },
           "baxis": {
            "gridcolor": "#506784",
            "linecolor": "#506784",
            "ticks": ""
           },
           "bgcolor": "rgb(17,17,17)",
           "caxis": {
            "gridcolor": "#506784",
            "linecolor": "#506784",
            "ticks": ""
           }
          },
          "title": {
           "x": 0.05
          },
          "updatemenudefaults": {
           "bgcolor": "#506784",
           "borderwidth": 0
          },
          "xaxis": {
           "automargin": true,
           "gridcolor": "#283442",
           "linecolor": "#506784",
           "ticks": "",
           "title": {
            "standoff": 15
           },
           "zerolinecolor": "#283442",
           "zerolinewidth": 2
          },
          "yaxis": {
           "automargin": true,
           "gridcolor": "#283442",
           "linecolor": "#506784",
           "ticks": "",
           "title": {
            "standoff": 15
           },
           "zerolinecolor": "#283442",
           "zerolinewidth": 2
          }
         }
        },
        "width": 1920,
        "xaxis": {
         "anchor": "y",
         "domain": [
          0,
          0.45
         ]
        },
        "xaxis10": {
         "anchor": "y10",
         "domain": [
          0.55,
          1
         ]
        },
        "xaxis11": {
         "anchor": "y11",
         "domain": [
          0,
          0.45
         ]
        },
        "xaxis12": {
         "anchor": "y12",
         "domain": [
          0.55,
          1
         ]
        },
        "xaxis13": {
         "anchor": "y13",
         "domain": [
          0,
          0.45
         ]
        },
        "xaxis14": {
         "anchor": "y14",
         "domain": [
          0.55,
          1
         ]
        },
        "xaxis15": {
         "anchor": "y15",
         "domain": [
          0,
          0.45
         ]
        },
        "xaxis16": {
         "anchor": "y16",
         "domain": [
          0.55,
          1
         ]
        },
        "xaxis17": {
         "anchor": "y17",
         "domain": [
          0,
          0.45
         ]
        },
        "xaxis18": {
         "anchor": "y18",
         "domain": [
          0.55,
          1
         ]
        },
        "xaxis19": {
         "anchor": "y19",
         "domain": [
          0,
          0.45
         ]
        },
        "xaxis2": {
         "anchor": "y2",
         "domain": [
          0.55,
          1
         ]
        },
        "xaxis20": {
         "anchor": "y20",
         "domain": [
          0.55,
          1
         ]
        },
        "xaxis21": {
         "anchor": "y21",
         "domain": [
          0,
          0.45
         ]
        },
        "xaxis22": {
         "anchor": "y22",
         "domain": [
          0.55,
          1
         ]
        },
        "xaxis23": {
         "anchor": "y23",
         "domain": [
          0,
          0.45
         ]
        },
        "xaxis24": {
         "anchor": "y24",
         "domain": [
          0.55,
          1
         ]
        },
        "xaxis3": {
         "anchor": "y3",
         "domain": [
          0,
          0.45
         ]
        },
        "xaxis4": {
         "anchor": "y4",
         "domain": [
          0.55,
          1
         ]
        },
        "xaxis5": {
         "anchor": "y5",
         "domain": [
          0,
          0.45
         ]
        },
        "xaxis6": {
         "anchor": "y6",
         "domain": [
          0.55,
          1
         ]
        },
        "xaxis7": {
         "anchor": "y7",
         "domain": [
          0,
          0.45
         ]
        },
        "xaxis8": {
         "anchor": "y8",
         "domain": [
          0.55,
          1
         ]
        },
        "xaxis9": {
         "anchor": "y9",
         "domain": [
          0,
          0.45
         ]
        },
        "yaxis": {
         "anchor": "x",
         "domain": [
          0.9548611111111112,
          1
         ],
         "title": {
          "text": "Bayesian estimated mean Application"
         }
        },
        "yaxis10": {
         "anchor": "x10",
         "domain": [
          0.6076388888888888,
          0.6527777777777777
         ],
         "title": {
          "text": "Median Understanding"
         }
        },
        "yaxis11": {
         "anchor": "x11",
         "domain": [
          0.5208333333333334,
          0.5659722222222223
         ],
         "title": {
          "text": "Median Ease"
         }
        },
        "yaxis12": {
         "anchor": "x12",
         "domain": [
          0.5208333333333334,
          0.5659722222222223
         ]
        },
        "yaxis13": {
         "anchor": "x13",
         "domain": [
          0.4340277777777778,
          0.4791666666666667
         ],
         "title": {
          "text": "Mode Application"
         }
        },
        "yaxis14": {
         "anchor": "x14",
         "domain": [
          0.4340277777777778,
          0.4791666666666667
         ],
         "title": {
          "text": "Mode Relevance"
         }
        },
        "yaxis15": {
         "anchor": "x15",
         "domain": [
          0.3472222222222222,
          0.3923611111111111
         ],
         "title": {
          "text": "Mode Insight"
         }
        },
        "yaxis16": {
         "anchor": "x16",
         "domain": [
          0.3472222222222222,
          0.3923611111111111
         ],
         "title": {
          "text": "Mode Understanding"
         }
        },
        "yaxis17": {
         "anchor": "x17",
         "domain": [
          0.2604166666666667,
          0.3055555555555556
         ],
         "title": {
          "text": "Mode Ease"
         }
        },
        "yaxis18": {
         "anchor": "x18",
         "domain": [
          0.2604166666666667,
          0.3055555555555556
         ]
        },
        "yaxis19": {
         "anchor": "x19",
         "domain": [
          0.1736111111111111,
          0.21875
         ],
         "title": {
          "text": "Standard deviation Application"
         }
        },
        "yaxis2": {
         "anchor": "x2",
         "domain": [
          0.9548611111111112,
          1
         ],
         "title": {
          "text": "Bayesian estimated mean Relevance"
         }
        },
        "yaxis20": {
         "anchor": "x20",
         "domain": [
          0.1736111111111111,
          0.21875
         ],
         "title": {
          "text": "Standard deviation Relevance"
         }
        },
        "yaxis21": {
         "anchor": "x21",
         "domain": [
          0.08680555555555555,
          0.13194444444444445
         ],
         "title": {
          "text": "Standard deviation Insight"
         }
        },
        "yaxis22": {
         "anchor": "x22",
         "domain": [
          0.08680555555555555,
          0.13194444444444445
         ],
         "title": {
          "text": "Standard deviation Understanding"
         }
        },
        "yaxis23": {
         "anchor": "x23",
         "domain": [
          0,
          0.045138888888888895
         ],
         "title": {
          "text": "Standard deviation Ease"
         }
        },
        "yaxis24": {
         "anchor": "x24",
         "domain": [
          0,
          0.045138888888888895
         ]
        },
        "yaxis3": {
         "anchor": "x3",
         "domain": [
          0.8680555555555556,
          0.9131944444444444
         ],
         "title": {
          "text": "Bayesian estimated mean Insight"
         }
        },
        "yaxis4": {
         "anchor": "x4",
         "domain": [
          0.8680555555555556,
          0.9131944444444444
         ],
         "title": {
          "text": "Bayesian estimated mean Understanding"
         }
        },
        "yaxis5": {
         "anchor": "x5",
         "domain": [
          0.78125,
          0.8263888888888888
         ],
         "title": {
          "text": "Bayesian estimated mean Ease"
         }
        },
        "yaxis6": {
         "anchor": "x6",
         "domain": [
          0.78125,
          0.8263888888888888
         ]
        },
        "yaxis7": {
         "anchor": "x7",
         "domain": [
          0.6944444444444444,
          0.7395833333333333
         ],
         "title": {
          "text": "Median Application"
         }
        },
        "yaxis8": {
         "anchor": "x8",
         "domain": [
          0.6944444444444444,
          0.7395833333333333
         ],
         "title": {
          "text": "Median Relevance"
         }
        },
        "yaxis9": {
         "anchor": "x9",
         "domain": [
          0.6076388888888888,
          0.6527777777777777
         ],
         "title": {
          "text": "Median Insight"
         }
        }
       }
      }
     },
     "metadata": {},
     "output_type": "display_data"
    }
   ],
   "source": [
    "functions = [\n",
    "            lambda x: bayesian_mean(x, categories), \n",
    "            lambda x: pd.Series(np.nanmedian(x, axis=0), index=courses), \n",
    "            lambda x: pd.Series(stats.mode(x, nan_policy=\"omit\")[0].data[0], index=courses),\n",
    "            lambda x: x.std().droplevel(1),\n",
    "]\n",
    "function_to_name = {function: function_name for function, function_name in zip(functions, [\"Bayesian estimated mean\", \"Median\", \"Mode\", \"Standard deviation\"])}\n",
    "rows = len(functions) * 3\n",
    "cols = 2\n",
    "subtitles = np.empty((rows, cols), dtype=\"object\")\n",
    "for f_i, function in enumerate(functions):\n",
    "    for c_i, criterion in enumerate(criteria):\n",
    "        row = f_i * 3 + int(c_i / 2)\n",
    "        col = c_i % 2\n",
    "        subtitles[row, col] = (f\"{function_to_name.get(function)} {criterion} score for each course\")\n",
    "\n",
    "\n",
    "fig_ranking = make_subplots(rows=len(functions) * 3, cols=2, \n",
    "        subplot_titles=subtitles.reshape(-1))\n",
    "        \n",
    "for f_i, function in enumerate(functions):\n",
    "    for c_i, criterion in enumerate(criteria):\n",
    "        row = f_i * 3 + int(c_i / 2 + 1)\n",
    "        col = c_i % 2 + 1\n",
    "        course_to_criterion = function(df.loc[[(subject, criterion) for subject in courses]].T)\n",
    "\n",
    "        scatter = px.scatter(course_to_criterion, color=categories, symbol=categories, hover_name=course_info_df.Description)\n",
    "        for trace in scatter.select_traces():\n",
    "            # Only show legend once\n",
    "            if f_i == c_i == 0:\n",
    "                trace.showlegend = True\n",
    "            else:\n",
    "                trace.showlegend = False\n",
    "\n",
    "            fig_ranking.add_trace(\n",
    "                trace,\n",
    "                row=row, col=col\n",
    "            )\n",
    "        fig_ranking.update_yaxes(\n",
    "            title=f\"{function_to_name.get(function)} {criterion}\",\n",
    "            row=row, col=col\n",
    "        )\n",
    "    remove_double_naming_in_legend(fig_ranking)\n",
    "    fig_ranking.update_layout(height=5000, width=1920)\n",
    "\n",
    "name = \"ranking_of_criteria\"\n",
    "fig_ranking.write_image(f\"images/{name}.png\")\n",
    "name_to_figure.update({name: fig_ranking})\n",
    "fig_ranking"
   ]
  },
  {
   "cell_type": "markdown",
   "metadata": {},
   "source": [
    "### Scores "
   ]
  },
  {
   "cell_type": "code",
   "execution_count": 32,
   "metadata": {},
   "outputs": [],
   "source": [
    "scores_df = get_scores_df(df, criteria, categories)"
   ]
  },
  {
   "cell_type": "code",
   "execution_count": 33,
   "metadata": {},
   "outputs": [],
   "source": [
    "i = 0\n",
    "course_to_num_ranking = {}\n",
    "while i < len(df):\n",
    "    course_to_num_ranking.update({df.iloc[i].name[0]:len(df.iloc[i].dropna())})\n",
    "    i += 5\n",
    "course_to_num_ranking_series = pd.Series(course_to_num_ranking)"
   ]
  },
  {
   "cell_type": "code",
   "execution_count": 34,
   "metadata": {},
   "outputs": [
    {
     "data": {
      "application/vnd.plotly.v1+json": {
       "config": {
        "plotlyServerURL": "https://plot.ly"
       },
       "data": [
        {
         "hovertemplate": "<b>%{hovertext}</b><br><br>color=Chemistry<br>symbol=Chemistry<br>index=%{x}<br>value=%{y}<extra></extra>",
         "hovertext": [
          "English 100"
         ],
         "legendgroup": "Chemistry, Chemistry",
         "marker": {
          "color": "#636efa",
          "symbol": "circle"
         },
         "mode": "markers",
         "name": "Chemistry",
         "orientation": "v",
         "showlegend": true,
         "type": "scatter",
         "x": [
          "CHEM101"
         ],
         "xaxis": "x",
         "y": [
          0.44534412955465597
         ],
         "yaxis": "y"
        },
        {
         "hovertemplate": "<b>%{hovertext}</b><br><br>color=Physics<br>symbol=Physics<br>index=%{x}<br>value=%{y}<extra></extra>",
         "hovertext": [
          "Arabic 100",
          "Tech 140 - Computer Skills"
         ],
         "legendgroup": "Physics, Physics",
         "marker": {
          "color": "#EF553B",
          "symbol": "diamond"
         },
         "mode": "markers",
         "name": "Physics",
         "orientation": "v",
         "showlegend": true,
         "type": "scatter",
         "x": [
          "PHYS104",
          "PHYS103"
         ],
         "xaxis": "x",
         "y": [
          0.5193915343915344,
          0.542904761904762
         ],
         "yaxis": "y"
        },
        {
         "hovertemplate": "<b>%{hovertext}</b><br><br>color=Islamics<br>symbol=Islamics<br>index=%{x}<br>value=%{y}<extra></extra>",
         "hovertext": [
          "Math 101 - Derivative Math",
          "Salam 108 - Modern Issues"
         ],
         "legendgroup": "Islamics, Islamics",
         "marker": {
          "color": "#00cc96",
          "symbol": "square"
         },
         "mode": "markers",
         "name": "Islamics",
         "orientation": "v",
         "showlegend": true,
         "type": "scatter",
         "x": [
          "SALAM108",
          "SALAM107"
         ],
         "xaxis": "x",
         "y": [
          0.5263257575757575,
          0.6597443181818182
         ],
         "yaxis": "y"
        },
        {
         "hovertemplate": "<b>%{hovertext}</b><br><br>color=Computer science<br>symbol=Computer science<br>index=%{x}<br>value=%{y}<extra></extra>",
         "hovertext": [
          "Chemistry 101 - Intro To Chemistry",
          "Nahaj 101 - University Skills",
          "English 110",
          "Salam 107 - Job Ethics",
          "Math 106 - Integral Math",
          "CSC 111 – Computer Programming-I (3-2-1)",
          "MATH 244 - Linear Algebra",
          "CSC 212 – Data Structures (3-0-1)",
          "CSC 215 – Procedural Programming With C (2-2-1)",
          "Math 281 - Combinatorial Math",
          "CSC 304 – Ethical Issues in Computing & Research Methods (3-0-1)",
          "CSC 227 – Operating Systems (3-0-1)",
          "CSC 311 – Design and Analysis of Algorithms (3-0-1)",
          "CSC 339 – Theory of Computation (3-0-1)",
          "CSC 496 – Graduation Project-I (2-0-0)",
          "Physics 103 - Newtonian Physics",
          "CSC 443 – IT/Software project management (3-0-1)",
          "CSC 462 – Machine Learning (3-0-1)",
          "CSC 489 - Selected Topics in Computer Science"
         ],
         "legendgroup": "Computer science, Computer science",
         "marker": {
          "color": "#ab63fa",
          "symbol": "x"
         },
         "mode": "markers",
         "name": "Computer science",
         "orientation": "v",
         "showlegend": true,
         "type": "scatter",
         "x": [
          "CSC343",
          "CSC443",
          "CSC453",
          "CSC340",
          "CSC304",
          "CSC227",
          "CSC215",
          "CSC380",
          "CSC339",
          "CSC489",
          "CSC361",
          "CSC113",
          "CSC496",
          "CSC220",
          "CSC212",
          "CSC462",
          "CSC111",
          "CSC329",
          "CSC311"
         ],
         "xaxis": "x",
         "y": [
          0.5295133589607274,
          0.5785400768821822,
          0.5828466922940606,
          0.586180025627394,
          0.612944020501915,
          0.6195133589607273,
          0.6764738698099021,
          0.676944020501915,
          0.6795133589607274,
          0.6913867691762428,
          0.703416030752873,
          0.7302189635541435,
          0.736308615361247,
          0.7396350192205458,
          0.8392999785302416,
          0.8437955897254145,
          0.8492457289299392,
          0.8495133589607273,
          0.866180025627394
         ],
         "yaxis": "y"
        },
        {
         "hovertemplate": "<b>%{hovertext}</b><br><br>color=Humanities<br>symbol=Humanities<br>index=%{x}<br>value=%{y}<extra></extra>",
         "hovertext": [
          "Statistics 101",
          "Entrepreneurship 101",
          "Fajab 101 - Health and Stuff",
          "Physics 104 - Electrical Physics",
          "Math 151 - Discrete Math",
          "CSC 380 – Introduction to Database Concepts (3-0-1)",
          "CSC 361 – Artificial Intelligence (3-0-1)"
         ],
         "legendgroup": "Humanities, Humanities",
         "marker": {
          "color": "#FFA15A",
          "symbol": "cross"
         },
         "mode": "markers",
         "name": "Humanities",
         "orientation": "v",
         "showlegend": true,
         "type": "scatter",
         "x": [
          "ENTREPRENEUR101",
          "FAJAB101",
          "ARB100",
          "NAHAJ101",
          "TECH101",
          "ENGLISH110",
          "ENGLISH100"
         ],
         "xaxis": "x",
         "y": [
          0.5305456170813313,
          0.5467420436706152,
          0.5594225094633256,
          0.5942420436706152,
          0.6267301420384128,
          0.7138581799153226,
          0.749898699939516
         ],
         "yaxis": "y"
        },
        {
         "hovertemplate": "<b>%{hovertext}</b><br><br>color=Mathematics<br>symbol=Mathematics<br>index=%{x}<br>value=%{y}<extra></extra>",
         "hovertext": [
          "CSC 113 – Computer Programming-II (3-2-1)",
          "CSC 220 – Computer Organization (2-2-1)",
          "CSC 343 - Intro To Software Engineering",
          "CSC 329 – Computer Networks (3-0-1)",
          "CSC 340 – Programming Languages and Compilation (3-0-1)",
          "CSC 453 - Parallel Processing (3-0-1)"
         ],
         "legendgroup": "Mathematics, Mathematics",
         "marker": {
          "color": "#19d3f3",
          "symbol": "circle"
         },
         "mode": "markers",
         "name": "Mathematics",
         "orientation": "v",
         "showlegend": true,
         "type": "scatter",
         "x": [
          "MATH244",
          "MATH106",
          "MATH281",
          "STAT101",
          "MATH101",
          "MATH151"
         ],
         "xaxis": "x",
         "y": [
          0.6740079365079364,
          0.6743233082706769,
          0.7482589285714286,
          0.7564285714285713,
          0.7720068027210882,
          0.8177210884353738
         ],
         "yaxis": "y"
        },
        {
         "marker": {
          "color": "rgba(100, 100, 100, 0.3)"
         },
         "name": "Percentage of data points",
         "type": "bar",
         "x": [
          "ENGLISH100",
          "ARB100",
          "MATH101",
          "CHEM101",
          "STAT101",
          "TECH101",
          "ENTREPRENEUR101",
          "FAJAB101",
          "NAHAJ101",
          "ENGLISH110",
          "SALAM107",
          "PHYS104",
          "MATH106",
          "CSC111",
          "MATH151",
          "SALAM108",
          "CSC113",
          "CSC220",
          "MATH244",
          "CSC212",
          "CSC215",
          "MATH281",
          "CSC304",
          "CSC380",
          "CSC227",
          "CSC311",
          "CSC339",
          "CSC343",
          "CSC361",
          "CSC329",
          "CSC340",
          "CSC453",
          "CSC496",
          "PHYS103",
          "CSC443",
          "CSC462",
          "CSC489"
         ],
         "y": [
          0.220043114711676,
          0.220043114711676,
          0.220043114711676,
          0.20432574937512774,
          0.20432574937512774,
          0.20432574937512774,
          0.18860838403857944,
          0.17289101870203116,
          0.17289101870203116,
          0.15717365336548286,
          0.17289101870203116,
          0.18860838403857944,
          0.20432574937512774,
          0.220043114711676,
          0.220043114711676,
          0.1257389226923863,
          0.20432574937512774,
          0.17289101870203116,
          0.18860838403857944,
          0.17289101870203116,
          0.1414562880289346,
          0.17289101870203116,
          0.15717365336548286,
          0.15717365336548286,
          0.1257389226923863,
          0.1257389226923863,
          0.1257389226923863,
          0.1257389226923863,
          0.110021557355838,
          0.1257389226923863,
          0.1257389226923863,
          0.1257389226923863,
          0.07858682668274143,
          0.110021557355838,
          0.04715209600964486,
          0.09430419201928972,
          0.03143473067309657
         ]
        }
       ],
       "layout": {
        "height": 980,
        "legend": {
         "title": {
          "text": "color, symbol"
         },
         "tracegroupgap": 0
        },
        "template": {
         "data": {
          "bar": [
           {
            "error_x": {
             "color": "#f2f5fa"
            },
            "error_y": {
             "color": "#f2f5fa"
            },
            "marker": {
             "line": {
              "color": "rgb(17,17,17)",
              "width": 0.5
             },
             "pattern": {
              "fillmode": "overlay",
              "size": 10,
              "solidity": 0.2
             }
            },
            "type": "bar"
           }
          ],
          "barpolar": [
           {
            "marker": {
             "line": {
              "color": "rgb(17,17,17)",
              "width": 0.5
             },
             "pattern": {
              "fillmode": "overlay",
              "size": 10,
              "solidity": 0.2
             }
            },
            "type": "barpolar"
           }
          ],
          "carpet": [
           {
            "aaxis": {
             "endlinecolor": "#A2B1C6",
             "gridcolor": "#506784",
             "linecolor": "#506784",
             "minorgridcolor": "#506784",
             "startlinecolor": "#A2B1C6"
            },
            "baxis": {
             "endlinecolor": "#A2B1C6",
             "gridcolor": "#506784",
             "linecolor": "#506784",
             "minorgridcolor": "#506784",
             "startlinecolor": "#A2B1C6"
            },
            "type": "carpet"
           }
          ],
          "choropleth": [
           {
            "colorbar": {
             "outlinewidth": 0,
             "ticks": ""
            },
            "type": "choropleth"
           }
          ],
          "contour": [
           {
            "colorbar": {
             "outlinewidth": 0,
             "ticks": ""
            },
            "colorscale": [
             [
              0,
              "#0d0887"
             ],
             [
              0.1111111111111111,
              "#46039f"
             ],
             [
              0.2222222222222222,
              "#7201a8"
             ],
             [
              0.3333333333333333,
              "#9c179e"
             ],
             [
              0.4444444444444444,
              "#bd3786"
             ],
             [
              0.5555555555555556,
              "#d8576b"
             ],
             [
              0.6666666666666666,
              "#ed7953"
             ],
             [
              0.7777777777777778,
              "#fb9f3a"
             ],
             [
              0.8888888888888888,
              "#fdca26"
             ],
             [
              1,
              "#f0f921"
             ]
            ],
            "type": "contour"
           }
          ],
          "contourcarpet": [
           {
            "colorbar": {
             "outlinewidth": 0,
             "ticks": ""
            },
            "type": "contourcarpet"
           }
          ],
          "heatmap": [
           {
            "colorbar": {
             "outlinewidth": 0,
             "ticks": ""
            },
            "colorscale": [
             [
              0,
              "#0d0887"
             ],
             [
              0.1111111111111111,
              "#46039f"
             ],
             [
              0.2222222222222222,
              "#7201a8"
             ],
             [
              0.3333333333333333,
              "#9c179e"
             ],
             [
              0.4444444444444444,
              "#bd3786"
             ],
             [
              0.5555555555555556,
              "#d8576b"
             ],
             [
              0.6666666666666666,
              "#ed7953"
             ],
             [
              0.7777777777777778,
              "#fb9f3a"
             ],
             [
              0.8888888888888888,
              "#fdca26"
             ],
             [
              1,
              "#f0f921"
             ]
            ],
            "type": "heatmap"
           }
          ],
          "heatmapgl": [
           {
            "colorbar": {
             "outlinewidth": 0,
             "ticks": ""
            },
            "colorscale": [
             [
              0,
              "#0d0887"
             ],
             [
              0.1111111111111111,
              "#46039f"
             ],
             [
              0.2222222222222222,
              "#7201a8"
             ],
             [
              0.3333333333333333,
              "#9c179e"
             ],
             [
              0.4444444444444444,
              "#bd3786"
             ],
             [
              0.5555555555555556,
              "#d8576b"
             ],
             [
              0.6666666666666666,
              "#ed7953"
             ],
             [
              0.7777777777777778,
              "#fb9f3a"
             ],
             [
              0.8888888888888888,
              "#fdca26"
             ],
             [
              1,
              "#f0f921"
             ]
            ],
            "type": "heatmapgl"
           }
          ],
          "histogram": [
           {
            "marker": {
             "pattern": {
              "fillmode": "overlay",
              "size": 10,
              "solidity": 0.2
             }
            },
            "type": "histogram"
           }
          ],
          "histogram2d": [
           {
            "colorbar": {
             "outlinewidth": 0,
             "ticks": ""
            },
            "colorscale": [
             [
              0,
              "#0d0887"
             ],
             [
              0.1111111111111111,
              "#46039f"
             ],
             [
              0.2222222222222222,
              "#7201a8"
             ],
             [
              0.3333333333333333,
              "#9c179e"
             ],
             [
              0.4444444444444444,
              "#bd3786"
             ],
             [
              0.5555555555555556,
              "#d8576b"
             ],
             [
              0.6666666666666666,
              "#ed7953"
             ],
             [
              0.7777777777777778,
              "#fb9f3a"
             ],
             [
              0.8888888888888888,
              "#fdca26"
             ],
             [
              1,
              "#f0f921"
             ]
            ],
            "type": "histogram2d"
           }
          ],
          "histogram2dcontour": [
           {
            "colorbar": {
             "outlinewidth": 0,
             "ticks": ""
            },
            "colorscale": [
             [
              0,
              "#0d0887"
             ],
             [
              0.1111111111111111,
              "#46039f"
             ],
             [
              0.2222222222222222,
              "#7201a8"
             ],
             [
              0.3333333333333333,
              "#9c179e"
             ],
             [
              0.4444444444444444,
              "#bd3786"
             ],
             [
              0.5555555555555556,
              "#d8576b"
             ],
             [
              0.6666666666666666,
              "#ed7953"
             ],
             [
              0.7777777777777778,
              "#fb9f3a"
             ],
             [
              0.8888888888888888,
              "#fdca26"
             ],
             [
              1,
              "#f0f921"
             ]
            ],
            "type": "histogram2dcontour"
           }
          ],
          "mesh3d": [
           {
            "colorbar": {
             "outlinewidth": 0,
             "ticks": ""
            },
            "type": "mesh3d"
           }
          ],
          "parcoords": [
           {
            "line": {
             "colorbar": {
              "outlinewidth": 0,
              "ticks": ""
             }
            },
            "type": "parcoords"
           }
          ],
          "pie": [
           {
            "automargin": true,
            "type": "pie"
           }
          ],
          "scatter": [
           {
            "marker": {
             "line": {
              "color": "#283442"
             }
            },
            "type": "scatter"
           }
          ],
          "scatter3d": [
           {
            "line": {
             "colorbar": {
              "outlinewidth": 0,
              "ticks": ""
             }
            },
            "marker": {
             "colorbar": {
              "outlinewidth": 0,
              "ticks": ""
             }
            },
            "type": "scatter3d"
           }
          ],
          "scattercarpet": [
           {
            "marker": {
             "colorbar": {
              "outlinewidth": 0,
              "ticks": ""
             }
            },
            "type": "scattercarpet"
           }
          ],
          "scattergeo": [
           {
            "marker": {
             "colorbar": {
              "outlinewidth": 0,
              "ticks": ""
             }
            },
            "type": "scattergeo"
           }
          ],
          "scattergl": [
           {
            "marker": {
             "line": {
              "color": "#283442"
             }
            },
            "type": "scattergl"
           }
          ],
          "scattermapbox": [
           {
            "marker": {
             "colorbar": {
              "outlinewidth": 0,
              "ticks": ""
             }
            },
            "type": "scattermapbox"
           }
          ],
          "scatterpolar": [
           {
            "marker": {
             "colorbar": {
              "outlinewidth": 0,
              "ticks": ""
             }
            },
            "type": "scatterpolar"
           }
          ],
          "scatterpolargl": [
           {
            "marker": {
             "colorbar": {
              "outlinewidth": 0,
              "ticks": ""
             }
            },
            "type": "scatterpolargl"
           }
          ],
          "scatterternary": [
           {
            "marker": {
             "colorbar": {
              "outlinewidth": 0,
              "ticks": ""
             }
            },
            "type": "scatterternary"
           }
          ],
          "surface": [
           {
            "colorbar": {
             "outlinewidth": 0,
             "ticks": ""
            },
            "colorscale": [
             [
              0,
              "#0d0887"
             ],
             [
              0.1111111111111111,
              "#46039f"
             ],
             [
              0.2222222222222222,
              "#7201a8"
             ],
             [
              0.3333333333333333,
              "#9c179e"
             ],
             [
              0.4444444444444444,
              "#bd3786"
             ],
             [
              0.5555555555555556,
              "#d8576b"
             ],
             [
              0.6666666666666666,
              "#ed7953"
             ],
             [
              0.7777777777777778,
              "#fb9f3a"
             ],
             [
              0.8888888888888888,
              "#fdca26"
             ],
             [
              1,
              "#f0f921"
             ]
            ],
            "type": "surface"
           }
          ],
          "table": [
           {
            "cells": {
             "fill": {
              "color": "#506784"
             },
             "line": {
              "color": "rgb(17,17,17)"
             }
            },
            "header": {
             "fill": {
              "color": "#2a3f5f"
             },
             "line": {
              "color": "rgb(17,17,17)"
             }
            },
            "type": "table"
           }
          ]
         },
         "layout": {
          "annotationdefaults": {
           "arrowcolor": "#f2f5fa",
           "arrowhead": 0,
           "arrowwidth": 1
          },
          "autotypenumbers": "strict",
          "coloraxis": {
           "colorbar": {
            "outlinewidth": 0,
            "ticks": ""
           }
          },
          "colorscale": {
           "diverging": [
            [
             0,
             "#8e0152"
            ],
            [
             0.1,
             "#c51b7d"
            ],
            [
             0.2,
             "#de77ae"
            ],
            [
             0.3,
             "#f1b6da"
            ],
            [
             0.4,
             "#fde0ef"
            ],
            [
             0.5,
             "#f7f7f7"
            ],
            [
             0.6,
             "#e6f5d0"
            ],
            [
             0.7,
             "#b8e186"
            ],
            [
             0.8,
             "#7fbc41"
            ],
            [
             0.9,
             "#4d9221"
            ],
            [
             1,
             "#276419"
            ]
           ],
           "sequential": [
            [
             0,
             "#0d0887"
            ],
            [
             0.1111111111111111,
             "#46039f"
            ],
            [
             0.2222222222222222,
             "#7201a8"
            ],
            [
             0.3333333333333333,
             "#9c179e"
            ],
            [
             0.4444444444444444,
             "#bd3786"
            ],
            [
             0.5555555555555556,
             "#d8576b"
            ],
            [
             0.6666666666666666,
             "#ed7953"
            ],
            [
             0.7777777777777778,
             "#fb9f3a"
            ],
            [
             0.8888888888888888,
             "#fdca26"
            ],
            [
             1,
             "#f0f921"
            ]
           ],
           "sequentialminus": [
            [
             0,
             "#0d0887"
            ],
            [
             0.1111111111111111,
             "#46039f"
            ],
            [
             0.2222222222222222,
             "#7201a8"
            ],
            [
             0.3333333333333333,
             "#9c179e"
            ],
            [
             0.4444444444444444,
             "#bd3786"
            ],
            [
             0.5555555555555556,
             "#d8576b"
            ],
            [
             0.6666666666666666,
             "#ed7953"
            ],
            [
             0.7777777777777778,
             "#fb9f3a"
            ],
            [
             0.8888888888888888,
             "#fdca26"
            ],
            [
             1,
             "#f0f921"
            ]
           ]
          },
          "colorway": [
           "#636efa",
           "#EF553B",
           "#00cc96",
           "#ab63fa",
           "#FFA15A",
           "#19d3f3",
           "#FF6692",
           "#B6E880",
           "#FF97FF",
           "#FECB52"
          ],
          "font": {
           "color": "#f2f5fa"
          },
          "geo": {
           "bgcolor": "rgb(17,17,17)",
           "lakecolor": "rgb(17,17,17)",
           "landcolor": "rgb(17,17,17)",
           "showlakes": true,
           "showland": true,
           "subunitcolor": "#506784"
          },
          "hoverlabel": {
           "align": "left"
          },
          "hovermode": "closest",
          "mapbox": {
           "style": "dark"
          },
          "paper_bgcolor": "rgb(17,17,17)",
          "plot_bgcolor": "rgb(17,17,17)",
          "polar": {
           "angularaxis": {
            "gridcolor": "#506784",
            "linecolor": "#506784",
            "ticks": ""
           },
           "bgcolor": "rgb(17,17,17)",
           "radialaxis": {
            "gridcolor": "#506784",
            "linecolor": "#506784",
            "ticks": ""
           }
          },
          "scene": {
           "xaxis": {
            "backgroundcolor": "rgb(17,17,17)",
            "gridcolor": "#506784",
            "gridwidth": 2,
            "linecolor": "#506784",
            "showbackground": true,
            "ticks": "",
            "zerolinecolor": "#C8D4E3"
           },
           "yaxis": {
            "backgroundcolor": "rgb(17,17,17)",
            "gridcolor": "#506784",
            "gridwidth": 2,
            "linecolor": "#506784",
            "showbackground": true,
            "ticks": "",
            "zerolinecolor": "#C8D4E3"
           },
           "zaxis": {
            "backgroundcolor": "rgb(17,17,17)",
            "gridcolor": "#506784",
            "gridwidth": 2,
            "linecolor": "#506784",
            "showbackground": true,
            "ticks": "",
            "zerolinecolor": "#C8D4E3"
           }
          },
          "shapedefaults": {
           "line": {
            "color": "#f2f5fa"
           }
          },
          "sliderdefaults": {
           "bgcolor": "#C8D4E3",
           "bordercolor": "rgb(17,17,17)",
           "borderwidth": 1,
           "tickwidth": 0
          },
          "ternary": {
           "aaxis": {
            "gridcolor": "#506784",
            "linecolor": "#506784",
            "ticks": ""
           },
           "baxis": {
            "gridcolor": "#506784",
            "linecolor": "#506784",
            "ticks": ""
           },
           "bgcolor": "rgb(17,17,17)",
           "caxis": {
            "gridcolor": "#506784",
            "linecolor": "#506784",
            "ticks": ""
           }
          },
          "title": {
           "x": 0.05
          },
          "updatemenudefaults": {
           "bgcolor": "#506784",
           "borderwidth": 0
          },
          "xaxis": {
           "automargin": true,
           "gridcolor": "#283442",
           "linecolor": "#506784",
           "ticks": "",
           "title": {
            "standoff": 15
           },
           "zerolinecolor": "#283442",
           "zerolinewidth": 2
          },
          "yaxis": {
           "automargin": true,
           "gridcolor": "#283442",
           "linecolor": "#506784",
           "ticks": "",
           "title": {
            "standoff": 15
           },
           "zerolinecolor": "#283442",
           "zerolinewidth": 2
          }
         }
        },
        "title": {
         "text": "Course ranking (General)"
        },
        "width": 1920,
        "xaxis": {
         "anchor": "y",
         "domain": [
          0,
          1
         ],
         "title": {
          "text": "Course"
         }
        },
        "yaxis": {
         "anchor": "x",
         "domain": [
          0,
          1
         ],
         "title": {
          "text": "Ranking"
         }
        }
       }
      }
     },
     "metadata": {},
     "output_type": "display_data"
    }
   ],
   "source": [
    "general_scores = scores_df.sum().sort_values() / 25\n",
    "sorted_categories = course_to_category(general_scores.index)\n",
    "fig_scores = px.scatter(general_scores, color=sorted_categories, symbol=sorted_categories, title=\"Course ranking (General)\", hover_name=course_info_df.Description)\n",
    "fig_scores.update_xaxes(title=\"Course\")\n",
    "fig_scores.update_yaxes(title=\"Ranking\")\n",
    "\n",
    "remove_double_naming_in_legend(fig_scores)\n",
    "\n",
    "fig_scores.add_trace(\n",
    "    go.Bar(x=course_to_num_ranking_series.index, y=course_to_num_ranking_series / np.linalg.norm(course_to_num_ranking_series), marker={\"color\": \"rgba(100, 100, 100, 0.3)\"}, name=\"Percentage of data points\"),\n",
    "    # row=2, col=1\n",
    ")\n",
    "fig_scores.update_layout(height=980, width=1920)\n",
    "\n",
    "name = \"Course ranking (General)\"\n",
    "fig_scores.write_image(f\"images/{name}.png\")\n",
    "name_to_figure.update({name: fig_scores})\n",
    "fig_scores"
   ]
  },
  {
   "cell_type": "markdown",
   "metadata": {},
   "source": [
    "### Weighted scores"
   ]
  },
  {
   "cell_type": "code",
   "execution_count": 35,
   "metadata": {},
   "outputs": [],
   "source": [
    "weights_real_world = {\"Application\": 1.5, \"Relevance\": 1, \"Understanding\": 0.2, \"Ease\": 0.5}\n",
    "weights_academic = {\"Insight\": 1.5, \"Understanding\": 1.5}\n",
    "\n",
    "scores_df_real_world = scores_df.apply(lambda x: weights_real_world.get(x.name, 0) * x, axis=1)\n",
    "scores_df_academic = scores_df.apply(lambda x: weights_academic.get(x.name, 0) * x, axis=1)\n",
    "\n",
    "standardized_scores_df_real_world = scores_df_real_world.sum() / max(scores_df_real_world.sum())\n",
    "standardized_scores_df_academic = scores_df_academic.sum() / max(scores_df_academic.sum())"
   ]
  },
  {
   "cell_type": "code",
   "execution_count": 36,
   "metadata": {},
   "outputs": [],
   "source": [
    "weighted_scores = pd.DataFrame([standardized_scores_df_real_world, standardized_scores_df_academic]).T\n",
    "weighted_scores.columns = (\"Real-world score\", \"Academic score\")"
   ]
  },
  {
   "cell_type": "code",
   "execution_count": 37,
   "metadata": {},
   "outputs": [
    {
     "data": {
      "application/vnd.plotly.v1+json": {
       "config": {
        "plotlyServerURL": "https://plot.ly"
       },
       "data": [
        {
         "hovertemplate": "<b>%{hovertext}</b><br><br>color=Humanities<br>symbol=Humanities<br>Real-world score=%{x}<br>Academic score=%{y}<br>index=%{text}<extra></extra>",
         "hovertext": [
          "English 100",
          "Arabic 100",
          "Tech 140 - Computer Skills",
          "Entrepreneurship 101",
          "Fajab 101 - Health and Stuff",
          "Nahaj 101 - University Skills",
          "English 110"
         ],
         "legendgroup": "Humanities, Humanities",
         "marker": {
          "color": "#636efa",
          "symbol": "circle"
         },
         "mode": "markers+text",
         "name": "Humanities",
         "orientation": "v",
         "showlegend": true,
         "text": [
          "ENGLISH100",
          "ARB100",
          "TECH101",
          "ENTREPRENEUR101",
          "FAJAB101",
          "NAHAJ101",
          "ENGLISH110"
         ],
         "textposition": "top center",
         "type": "scatter",
         "x": [
          0.9779688243950918,
          0.6442733761094108,
          0.765261801315045,
          0.6018948333784377,
          0.6001647936735754,
          0.6384042593844855,
          0.9185828046912444
         ],
         "xaxis": "x",
         "y": [
          0.5870554405805813,
          0.561107386855189,
          0.5456048100290816,
          0.5217201937920268,
          0.5389238862628865,
          0.6615284401153654,
          0.5821176003901884
         ],
         "yaxis": "y"
        },
        {
         "hovertemplate": "<b>%{hovertext}</b><br><br>color=Mathematics<br>symbol=Mathematics<br>Real-world score=%{x}<br>Academic score=%{y}<br>index=%{text}<extra></extra>",
         "hovertext": [
          "Math 101 - Derivative Math",
          "Statistics 101",
          "Math 106 - Integral Math",
          "Math 151 - Discrete Math",
          "MATH 244 - Linear Algebra",
          "Math 281 - Combinatorial Math"
         ],
         "legendgroup": "Mathematics, Mathematics",
         "marker": {
          "color": "#EF553B",
          "symbol": "diamond"
         },
         "mode": "markers+text",
         "name": "Mathematics",
         "orientation": "v",
         "showlegend": true,
         "text": [
          "MATH101",
          "STAT101",
          "MATH106",
          "MATH151",
          "MATH244",
          "MATH281"
         ],
         "textposition": "top center",
         "type": "scatter",
         "x": [
          0.8993914671450435,
          0.9277887532256133,
          0.7948633155034787,
          0.9549509123418473,
          0.8319080693849752,
          0.848301522883106
         ],
         "xaxis": "x",
         "y": [
          0.8835931544417506,
          0.8045263933619646,
          0.7356957666377659,
          0.8680243222065153,
          0.7160222949806151,
          0.8463932664706852
         ],
         "yaxis": "y"
        },
        {
         "hovertemplate": "<b>%{hovertext}</b><br><br>color=Chemistry<br>symbol=Chemistry<br>Real-world score=%{x}<br>Academic score=%{y}<br>index=%{text}<extra></extra>",
         "hovertext": [
          "Chemistry 101 - Intro To Chemistry"
         ],
         "legendgroup": "Chemistry, Chemistry",
         "marker": {
          "color": "#00cc96",
          "symbol": "square"
         },
         "mode": "markers+text",
         "name": "Chemistry",
         "orientation": "v",
         "showlegend": true,
         "text": [
          "CHEM101"
         ],
         "textposition": "top center",
         "type": "scatter",
         "x": [
          0.5207278415121291
         ],
         "xaxis": "x",
         "y": [
          0.4381334124174956
         ],
         "yaxis": "y"
        },
        {
         "hovertemplate": "<b>%{hovertext}</b><br><br>color=Islamics<br>symbol=Islamics<br>Real-world score=%{x}<br>Academic score=%{y}<br>index=%{text}<extra></extra>",
         "hovertext": [
          "Salam 107 - Job Ethics",
          "Salam 108 - Modern Issues"
         ],
         "legendgroup": "Islamics, Islamics",
         "marker": {
          "color": "#ab63fa",
          "symbol": "x"
         },
         "mode": "markers+text",
         "name": "Islamics",
         "orientation": "v",
         "showlegend": true,
         "text": [
          "SALAM107",
          "SALAM108"
         ],
         "textposition": "top center",
         "type": "scatter",
         "x": [
          0.7540268853117187,
          0.6348317219765752
         ],
         "xaxis": "x",
         "y": [
          0.6386427865131337,
          0.41559641276425296
         ],
         "yaxis": "y"
        },
        {
         "hovertemplate": "<b>%{hovertext}</b><br><br>color=Physics<br>symbol=Physics<br>Real-world score=%{x}<br>Academic score=%{y}<br>index=%{text}<extra></extra>",
         "hovertext": [
          "Physics 104 - Electrical Physics",
          "Physics 103 - Newtonian Physics"
         ],
         "legendgroup": "Physics, Physics",
         "marker": {
          "color": "#FFA15A",
          "symbol": "cross"
         },
         "mode": "markers+text",
         "name": "Physics",
         "orientation": "v",
         "showlegend": true,
         "text": [
          "PHYS104",
          "PHYS103"
         ],
         "textposition": "top center",
         "type": "scatter",
         "x": [
          0.6249214222872881,
          0.6119161456507735
         ],
         "xaxis": "x",
         "y": [
          0.5348902963781577,
          0.63585705654074
         ],
         "yaxis": "y"
        },
        {
         "hovertemplate": "<b>%{hovertext}</b><br><br>color=Computer science<br>symbol=Computer science<br>Real-world score=%{x}<br>Academic score=%{y}<br>index=%{text}<extra></extra>",
         "hovertext": [
          "CSC 111 – Computer Programming-I (3-2-1)",
          "CSC 113 – Computer Programming-II (3-2-1)",
          "CSC 220 – Computer Organization (2-2-1)",
          "CSC 212 – Data Structures (3-0-1)",
          "CSC 215 – Procedural Programming With C (2-2-1)",
          "CSC 304 – Ethical Issues in Computing & Research Methods (3-0-1)",
          "CSC 380 – Introduction to Database Concepts (3-0-1)",
          "CSC 227 – Operating Systems (3-0-1)",
          "CSC 311 – Design and Analysis of Algorithms (3-0-1)",
          "CSC 339 – Theory of Computation (3-0-1)",
          "CSC 343 - Intro To Software Engineering",
          "CSC 361 – Artificial Intelligence (3-0-1)",
          "CSC 329 – Computer Networks (3-0-1)",
          "CSC 340 – Programming Languages and Compilation (3-0-1)",
          "CSC 453 - Parallel Processing (3-0-1)",
          "CSC 496 – Graduation Project-I (2-0-0)",
          "CSC 443 – IT/Software project management (3-0-1)",
          "CSC 462 – Machine Learning (3-0-1)",
          "CSC 489 - Selected Topics in Computer Science"
         ],
         "legendgroup": "Computer science, Computer science",
         "marker": {
          "color": "#19d3f3",
          "symbol": "circle"
         },
         "mode": "markers+text",
         "name": "Computer science",
         "orientation": "v",
         "showlegend": true,
         "text": [
          "CSC111",
          "CSC113",
          "CSC220",
          "CSC212",
          "CSC215",
          "CSC304",
          "CSC380",
          "CSC227",
          "CSC311",
          "CSC339",
          "CSC343",
          "CSC361",
          "CSC329",
          "CSC340",
          "CSC453",
          "CSC496",
          "CSC443",
          "CSC462",
          "CSC489"
         ],
         "textposition": "top center",
         "type": "scatter",
         "x": [
          0.984843434749183,
          0.8406333062099555,
          0.8626353413356304,
          0.9436429139803574,
          0.8012115016310705,
          0.6763603594351192,
          0.7958809220292187,
          0.7405142410639604,
          0.993665432669519,
          0.6717424887776727,
          0.6592924301741204,
          0.8018223950119894,
          0.9711367551964248,
          0.6094921957599123,
          0.6581067103071156,
          0.898492054860952,
          0.683071195752947,
          1,
          0.7921896076367667
         ],
         "xaxis": "x",
         "y": [
          0.9349870183190343,
          0.7752918542421352,
          0.8321113435746343,
          1,
          0.7810237348801041,
          0.5824363213356618,
          0.7277454221978591,
          0.6372272136307042,
          0.9914181469823101,
          0.846109046120113,
          0.5009999315723944,
          0.8191635691801691,
          0.9641726905706481,
          0.737127220473465,
          0.6463090324345916,
          0.7965816966117344,
          0.5494088203090136,
          0.9222908352720379,
          0.7325450937453514
         ],
         "yaxis": "y"
        }
       ],
       "layout": {
        "annotations": [
         {
          "showarrow": false,
          "text": "Academic_score = (Insight: 1.5 Understanding * 1.5) / max_score",
          "x": 0.4,
          "y": 0.98
         },
         {
          "showarrow": false,
          "text": "Real_world_score = (Application * 1.5 + Relevance + Understanding * 0.2 + Ease * 0.5) / max_score",
          "x": 0.462,
          "y": 1
         }
        ],
        "height": 980,
        "legend": {
         "title": {
          "text": "color, symbol"
         },
         "tracegroupgap": 0
        },
        "template": {
         "data": {
          "bar": [
           {
            "error_x": {
             "color": "#f2f5fa"
            },
            "error_y": {
             "color": "#f2f5fa"
            },
            "marker": {
             "line": {
              "color": "rgb(17,17,17)",
              "width": 0.5
             },
             "pattern": {
              "fillmode": "overlay",
              "size": 10,
              "solidity": 0.2
             }
            },
            "type": "bar"
           }
          ],
          "barpolar": [
           {
            "marker": {
             "line": {
              "color": "rgb(17,17,17)",
              "width": 0.5
             },
             "pattern": {
              "fillmode": "overlay",
              "size": 10,
              "solidity": 0.2
             }
            },
            "type": "barpolar"
           }
          ],
          "carpet": [
           {
            "aaxis": {
             "endlinecolor": "#A2B1C6",
             "gridcolor": "#506784",
             "linecolor": "#506784",
             "minorgridcolor": "#506784",
             "startlinecolor": "#A2B1C6"
            },
            "baxis": {
             "endlinecolor": "#A2B1C6",
             "gridcolor": "#506784",
             "linecolor": "#506784",
             "minorgridcolor": "#506784",
             "startlinecolor": "#A2B1C6"
            },
            "type": "carpet"
           }
          ],
          "choropleth": [
           {
            "colorbar": {
             "outlinewidth": 0,
             "ticks": ""
            },
            "type": "choropleth"
           }
          ],
          "contour": [
           {
            "colorbar": {
             "outlinewidth": 0,
             "ticks": ""
            },
            "colorscale": [
             [
              0,
              "#0d0887"
             ],
             [
              0.1111111111111111,
              "#46039f"
             ],
             [
              0.2222222222222222,
              "#7201a8"
             ],
             [
              0.3333333333333333,
              "#9c179e"
             ],
             [
              0.4444444444444444,
              "#bd3786"
             ],
             [
              0.5555555555555556,
              "#d8576b"
             ],
             [
              0.6666666666666666,
              "#ed7953"
             ],
             [
              0.7777777777777778,
              "#fb9f3a"
             ],
             [
              0.8888888888888888,
              "#fdca26"
             ],
             [
              1,
              "#f0f921"
             ]
            ],
            "type": "contour"
           }
          ],
          "contourcarpet": [
           {
            "colorbar": {
             "outlinewidth": 0,
             "ticks": ""
            },
            "type": "contourcarpet"
           }
          ],
          "heatmap": [
           {
            "colorbar": {
             "outlinewidth": 0,
             "ticks": ""
            },
            "colorscale": [
             [
              0,
              "#0d0887"
             ],
             [
              0.1111111111111111,
              "#46039f"
             ],
             [
              0.2222222222222222,
              "#7201a8"
             ],
             [
              0.3333333333333333,
              "#9c179e"
             ],
             [
              0.4444444444444444,
              "#bd3786"
             ],
             [
              0.5555555555555556,
              "#d8576b"
             ],
             [
              0.6666666666666666,
              "#ed7953"
             ],
             [
              0.7777777777777778,
              "#fb9f3a"
             ],
             [
              0.8888888888888888,
              "#fdca26"
             ],
             [
              1,
              "#f0f921"
             ]
            ],
            "type": "heatmap"
           }
          ],
          "heatmapgl": [
           {
            "colorbar": {
             "outlinewidth": 0,
             "ticks": ""
            },
            "colorscale": [
             [
              0,
              "#0d0887"
             ],
             [
              0.1111111111111111,
              "#46039f"
             ],
             [
              0.2222222222222222,
              "#7201a8"
             ],
             [
              0.3333333333333333,
              "#9c179e"
             ],
             [
              0.4444444444444444,
              "#bd3786"
             ],
             [
              0.5555555555555556,
              "#d8576b"
             ],
             [
              0.6666666666666666,
              "#ed7953"
             ],
             [
              0.7777777777777778,
              "#fb9f3a"
             ],
             [
              0.8888888888888888,
              "#fdca26"
             ],
             [
              1,
              "#f0f921"
             ]
            ],
            "type": "heatmapgl"
           }
          ],
          "histogram": [
           {
            "marker": {
             "pattern": {
              "fillmode": "overlay",
              "size": 10,
              "solidity": 0.2
             }
            },
            "type": "histogram"
           }
          ],
          "histogram2d": [
           {
            "colorbar": {
             "outlinewidth": 0,
             "ticks": ""
            },
            "colorscale": [
             [
              0,
              "#0d0887"
             ],
             [
              0.1111111111111111,
              "#46039f"
             ],
             [
              0.2222222222222222,
              "#7201a8"
             ],
             [
              0.3333333333333333,
              "#9c179e"
             ],
             [
              0.4444444444444444,
              "#bd3786"
             ],
             [
              0.5555555555555556,
              "#d8576b"
             ],
             [
              0.6666666666666666,
              "#ed7953"
             ],
             [
              0.7777777777777778,
              "#fb9f3a"
             ],
             [
              0.8888888888888888,
              "#fdca26"
             ],
             [
              1,
              "#f0f921"
             ]
            ],
            "type": "histogram2d"
           }
          ],
          "histogram2dcontour": [
           {
            "colorbar": {
             "outlinewidth": 0,
             "ticks": ""
            },
            "colorscale": [
             [
              0,
              "#0d0887"
             ],
             [
              0.1111111111111111,
              "#46039f"
             ],
             [
              0.2222222222222222,
              "#7201a8"
             ],
             [
              0.3333333333333333,
              "#9c179e"
             ],
             [
              0.4444444444444444,
              "#bd3786"
             ],
             [
              0.5555555555555556,
              "#d8576b"
             ],
             [
              0.6666666666666666,
              "#ed7953"
             ],
             [
              0.7777777777777778,
              "#fb9f3a"
             ],
             [
              0.8888888888888888,
              "#fdca26"
             ],
             [
              1,
              "#f0f921"
             ]
            ],
            "type": "histogram2dcontour"
           }
          ],
          "mesh3d": [
           {
            "colorbar": {
             "outlinewidth": 0,
             "ticks": ""
            },
            "type": "mesh3d"
           }
          ],
          "parcoords": [
           {
            "line": {
             "colorbar": {
              "outlinewidth": 0,
              "ticks": ""
             }
            },
            "type": "parcoords"
           }
          ],
          "pie": [
           {
            "automargin": true,
            "type": "pie"
           }
          ],
          "scatter": [
           {
            "marker": {
             "line": {
              "color": "#283442"
             }
            },
            "type": "scatter"
           }
          ],
          "scatter3d": [
           {
            "line": {
             "colorbar": {
              "outlinewidth": 0,
              "ticks": ""
             }
            },
            "marker": {
             "colorbar": {
              "outlinewidth": 0,
              "ticks": ""
             }
            },
            "type": "scatter3d"
           }
          ],
          "scattercarpet": [
           {
            "marker": {
             "colorbar": {
              "outlinewidth": 0,
              "ticks": ""
             }
            },
            "type": "scattercarpet"
           }
          ],
          "scattergeo": [
           {
            "marker": {
             "colorbar": {
              "outlinewidth": 0,
              "ticks": ""
             }
            },
            "type": "scattergeo"
           }
          ],
          "scattergl": [
           {
            "marker": {
             "line": {
              "color": "#283442"
             }
            },
            "type": "scattergl"
           }
          ],
          "scattermapbox": [
           {
            "marker": {
             "colorbar": {
              "outlinewidth": 0,
              "ticks": ""
             }
            },
            "type": "scattermapbox"
           }
          ],
          "scatterpolar": [
           {
            "marker": {
             "colorbar": {
              "outlinewidth": 0,
              "ticks": ""
             }
            },
            "type": "scatterpolar"
           }
          ],
          "scatterpolargl": [
           {
            "marker": {
             "colorbar": {
              "outlinewidth": 0,
              "ticks": ""
             }
            },
            "type": "scatterpolargl"
           }
          ],
          "scatterternary": [
           {
            "marker": {
             "colorbar": {
              "outlinewidth": 0,
              "ticks": ""
             }
            },
            "type": "scatterternary"
           }
          ],
          "surface": [
           {
            "colorbar": {
             "outlinewidth": 0,
             "ticks": ""
            },
            "colorscale": [
             [
              0,
              "#0d0887"
             ],
             [
              0.1111111111111111,
              "#46039f"
             ],
             [
              0.2222222222222222,
              "#7201a8"
             ],
             [
              0.3333333333333333,
              "#9c179e"
             ],
             [
              0.4444444444444444,
              "#bd3786"
             ],
             [
              0.5555555555555556,
              "#d8576b"
             ],
             [
              0.6666666666666666,
              "#ed7953"
             ],
             [
              0.7777777777777778,
              "#fb9f3a"
             ],
             [
              0.8888888888888888,
              "#fdca26"
             ],
             [
              1,
              "#f0f921"
             ]
            ],
            "type": "surface"
           }
          ],
          "table": [
           {
            "cells": {
             "fill": {
              "color": "#506784"
             },
             "line": {
              "color": "rgb(17,17,17)"
             }
            },
            "header": {
             "fill": {
              "color": "#2a3f5f"
             },
             "line": {
              "color": "rgb(17,17,17)"
             }
            },
            "type": "table"
           }
          ]
         },
         "layout": {
          "annotationdefaults": {
           "arrowcolor": "#f2f5fa",
           "arrowhead": 0,
           "arrowwidth": 1
          },
          "autotypenumbers": "strict",
          "coloraxis": {
           "colorbar": {
            "outlinewidth": 0,
            "ticks": ""
           }
          },
          "colorscale": {
           "diverging": [
            [
             0,
             "#8e0152"
            ],
            [
             0.1,
             "#c51b7d"
            ],
            [
             0.2,
             "#de77ae"
            ],
            [
             0.3,
             "#f1b6da"
            ],
            [
             0.4,
             "#fde0ef"
            ],
            [
             0.5,
             "#f7f7f7"
            ],
            [
             0.6,
             "#e6f5d0"
            ],
            [
             0.7,
             "#b8e186"
            ],
            [
             0.8,
             "#7fbc41"
            ],
            [
             0.9,
             "#4d9221"
            ],
            [
             1,
             "#276419"
            ]
           ],
           "sequential": [
            [
             0,
             "#0d0887"
            ],
            [
             0.1111111111111111,
             "#46039f"
            ],
            [
             0.2222222222222222,
             "#7201a8"
            ],
            [
             0.3333333333333333,
             "#9c179e"
            ],
            [
             0.4444444444444444,
             "#bd3786"
            ],
            [
             0.5555555555555556,
             "#d8576b"
            ],
            [
             0.6666666666666666,
             "#ed7953"
            ],
            [
             0.7777777777777778,
             "#fb9f3a"
            ],
            [
             0.8888888888888888,
             "#fdca26"
            ],
            [
             1,
             "#f0f921"
            ]
           ],
           "sequentialminus": [
            [
             0,
             "#0d0887"
            ],
            [
             0.1111111111111111,
             "#46039f"
            ],
            [
             0.2222222222222222,
             "#7201a8"
            ],
            [
             0.3333333333333333,
             "#9c179e"
            ],
            [
             0.4444444444444444,
             "#bd3786"
            ],
            [
             0.5555555555555556,
             "#d8576b"
            ],
            [
             0.6666666666666666,
             "#ed7953"
            ],
            [
             0.7777777777777778,
             "#fb9f3a"
            ],
            [
             0.8888888888888888,
             "#fdca26"
            ],
            [
             1,
             "#f0f921"
            ]
           ]
          },
          "colorway": [
           "#636efa",
           "#EF553B",
           "#00cc96",
           "#ab63fa",
           "#FFA15A",
           "#19d3f3",
           "#FF6692",
           "#B6E880",
           "#FF97FF",
           "#FECB52"
          ],
          "font": {
           "color": "#f2f5fa"
          },
          "geo": {
           "bgcolor": "rgb(17,17,17)",
           "lakecolor": "rgb(17,17,17)",
           "landcolor": "rgb(17,17,17)",
           "showlakes": true,
           "showland": true,
           "subunitcolor": "#506784"
          },
          "hoverlabel": {
           "align": "left"
          },
          "hovermode": "closest",
          "mapbox": {
           "style": "dark"
          },
          "paper_bgcolor": "rgb(17,17,17)",
          "plot_bgcolor": "rgb(17,17,17)",
          "polar": {
           "angularaxis": {
            "gridcolor": "#506784",
            "linecolor": "#506784",
            "ticks": ""
           },
           "bgcolor": "rgb(17,17,17)",
           "radialaxis": {
            "gridcolor": "#506784",
            "linecolor": "#506784",
            "ticks": ""
           }
          },
          "scene": {
           "xaxis": {
            "backgroundcolor": "rgb(17,17,17)",
            "gridcolor": "#506784",
            "gridwidth": 2,
            "linecolor": "#506784",
            "showbackground": true,
            "ticks": "",
            "zerolinecolor": "#C8D4E3"
           },
           "yaxis": {
            "backgroundcolor": "rgb(17,17,17)",
            "gridcolor": "#506784",
            "gridwidth": 2,
            "linecolor": "#506784",
            "showbackground": true,
            "ticks": "",
            "zerolinecolor": "#C8D4E3"
           },
           "zaxis": {
            "backgroundcolor": "rgb(17,17,17)",
            "gridcolor": "#506784",
            "gridwidth": 2,
            "linecolor": "#506784",
            "showbackground": true,
            "ticks": "",
            "zerolinecolor": "#C8D4E3"
           }
          },
          "shapedefaults": {
           "line": {
            "color": "#f2f5fa"
           }
          },
          "sliderdefaults": {
           "bgcolor": "#C8D4E3",
           "bordercolor": "rgb(17,17,17)",
           "borderwidth": 1,
           "tickwidth": 0
          },
          "ternary": {
           "aaxis": {
            "gridcolor": "#506784",
            "linecolor": "#506784",
            "ticks": ""
           },
           "baxis": {
            "gridcolor": "#506784",
            "linecolor": "#506784",
            "ticks": ""
           },
           "bgcolor": "rgb(17,17,17)",
           "caxis": {
            "gridcolor": "#506784",
            "linecolor": "#506784",
            "ticks": ""
           }
          },
          "title": {
           "x": 0.05
          },
          "updatemenudefaults": {
           "bgcolor": "#506784",
           "borderwidth": 0
          },
          "xaxis": {
           "automargin": true,
           "gridcolor": "#283442",
           "linecolor": "#506784",
           "ticks": "",
           "title": {
            "standoff": 15
           },
           "zerolinecolor": "#283442",
           "zerolinewidth": 2
          },
          "yaxis": {
           "automargin": true,
           "gridcolor": "#283442",
           "linecolor": "#506784",
           "ticks": "",
           "title": {
            "standoff": 15
           },
           "zerolinecolor": "#283442",
           "zerolinewidth": 2
          }
         }
        },
        "title": {
         "text": "Course ranking (Real-world Vs. Academic)"
        },
        "width": 1920,
        "xaxis": {
         "anchor": "y",
         "domain": [
          0,
          1
         ],
         "title": {
          "text": "Real-world score"
         }
        },
        "yaxis": {
         "anchor": "x",
         "domain": [
          0,
          1
         ],
         "title": {
          "text": "Academic score"
         }
        }
       }
      }
     },
     "metadata": {},
     "output_type": "display_data"
    }
   ],
   "source": [
    "sorted_categories = course_to_category(weighted_scores.index)\n",
    "fig_weighted_scores = px.scatter(weighted_scores, x=\"Real-world score\", y=\"Academic score\", color=sorted_categories, symbol=sorted_categories, title=\"Course ranking (Real-world Vs. Academic)\",\n",
    "                hover_name=course_info_df.Description, text=weighted_scores.index)\n",
    "\n",
    "remove_double_naming_in_legend(fig_weighted_scores)\n",
    "\n",
    "fig_weighted_scores.update_traces(textposition=\"top center\")\n",
    "fig_weighted_scores.update_layout(height=980, width=1920)\n",
    "fig_weighted_scores.add_annotation(\n",
    "    x=.4, y=.98,\n",
    "    text=\"Academic_score = (Insight: 1.5 Understanding * 1.5) / max_score\",\n",
    "    showarrow=False\n",
    ")\n",
    "fig_weighted_scores.add_annotation(\n",
    "    x=.462, y=1,\n",
    "    text=\"Real_world_score = (Application * 1.5 + Relevance + Understanding * 0.2 + Ease * 0.5) / max_score\",\n",
    "    showarrow=False\n",
    ")\n",
    "\n",
    "name = \"Course ranking (Real-world Vs. Academic)\"\n",
    "fig_weighted_scores.write_image(f\"images/{name}.png\")\n",
    "name_to_figure.update({name: fig_weighted_scores})\n",
    "fig_weighted_scores"
   ]
  },
  {
   "cell_type": "markdown",
   "metadata": {},
   "source": [
    "# Comments"
   ]
  },
  {
   "cell_type": "code",
   "execution_count": 38,
   "metadata": {},
   "outputs": [
    {
     "data": {
      "application/vnd.plotly.v1+json": {
       "config": {
        "plotlyServerURL": "https://plot.ly"
       },
       "data": [],
       "layout": {
        "annotations": [
         {
          "showarrow": false,
          "text": "ENGLISH100",
          "x": 1,
          "y": 1
         },
         {
          "showarrow": false,
          "text": "She let me love the English and can speak fluently than than the past ",
          "x": 7,
          "y": 1
         },
         {
          "showarrow": false,
          "text": "ARB100",
          "x": 1,
          "y": 2
         },
         {
          "showarrow": false,
          "text": "So accurate and gives examples that helps so well ",
          "x": 7,
          "y": 2
         },
         {
          "showarrow": false,
          "text": "MATH101",
          "x": 1,
          "y": 3
         },
         {
          "showarrow": false,
          "text": "This was the best course in my college experience!",
          "x": 7,
          "y": 3
         },
         {
          "showarrow": false,
          "text": "PHYS104",
          "x": 1,
          "y": 4
         },
         {
          "showarrow": false,
          "text": "Just unexpected exam with the material we have studied ",
          "x": 7,
          "y": 4
         },
         {
          "showarrow": false,
          "text": "CSC453",
          "x": 1,
          "y": 5
         },
         {
          "showarrow": false,
          "text": "Till now I do not know the purpose of it and how it actually truly works. ",
          "x": 7,
          "y": 5
         }
        ],
        "height": 980,
        "template": {
         "data": {
          "bar": [
           {
            "error_x": {
             "color": "#f2f5fa"
            },
            "error_y": {
             "color": "#f2f5fa"
            },
            "marker": {
             "line": {
              "color": "rgb(17,17,17)",
              "width": 0.5
             },
             "pattern": {
              "fillmode": "overlay",
              "size": 10,
              "solidity": 0.2
             }
            },
            "type": "bar"
           }
          ],
          "barpolar": [
           {
            "marker": {
             "line": {
              "color": "rgb(17,17,17)",
              "width": 0.5
             },
             "pattern": {
              "fillmode": "overlay",
              "size": 10,
              "solidity": 0.2
             }
            },
            "type": "barpolar"
           }
          ],
          "carpet": [
           {
            "aaxis": {
             "endlinecolor": "#A2B1C6",
             "gridcolor": "#506784",
             "linecolor": "#506784",
             "minorgridcolor": "#506784",
             "startlinecolor": "#A2B1C6"
            },
            "baxis": {
             "endlinecolor": "#A2B1C6",
             "gridcolor": "#506784",
             "linecolor": "#506784",
             "minorgridcolor": "#506784",
             "startlinecolor": "#A2B1C6"
            },
            "type": "carpet"
           }
          ],
          "choropleth": [
           {
            "colorbar": {
             "outlinewidth": 0,
             "ticks": ""
            },
            "type": "choropleth"
           }
          ],
          "contour": [
           {
            "colorbar": {
             "outlinewidth": 0,
             "ticks": ""
            },
            "colorscale": [
             [
              0,
              "#0d0887"
             ],
             [
              0.1111111111111111,
              "#46039f"
             ],
             [
              0.2222222222222222,
              "#7201a8"
             ],
             [
              0.3333333333333333,
              "#9c179e"
             ],
             [
              0.4444444444444444,
              "#bd3786"
             ],
             [
              0.5555555555555556,
              "#d8576b"
             ],
             [
              0.6666666666666666,
              "#ed7953"
             ],
             [
              0.7777777777777778,
              "#fb9f3a"
             ],
             [
              0.8888888888888888,
              "#fdca26"
             ],
             [
              1,
              "#f0f921"
             ]
            ],
            "type": "contour"
           }
          ],
          "contourcarpet": [
           {
            "colorbar": {
             "outlinewidth": 0,
             "ticks": ""
            },
            "type": "contourcarpet"
           }
          ],
          "heatmap": [
           {
            "colorbar": {
             "outlinewidth": 0,
             "ticks": ""
            },
            "colorscale": [
             [
              0,
              "#0d0887"
             ],
             [
              0.1111111111111111,
              "#46039f"
             ],
             [
              0.2222222222222222,
              "#7201a8"
             ],
             [
              0.3333333333333333,
              "#9c179e"
             ],
             [
              0.4444444444444444,
              "#bd3786"
             ],
             [
              0.5555555555555556,
              "#d8576b"
             ],
             [
              0.6666666666666666,
              "#ed7953"
             ],
             [
              0.7777777777777778,
              "#fb9f3a"
             ],
             [
              0.8888888888888888,
              "#fdca26"
             ],
             [
              1,
              "#f0f921"
             ]
            ],
            "type": "heatmap"
           }
          ],
          "heatmapgl": [
           {
            "colorbar": {
             "outlinewidth": 0,
             "ticks": ""
            },
            "colorscale": [
             [
              0,
              "#0d0887"
             ],
             [
              0.1111111111111111,
              "#46039f"
             ],
             [
              0.2222222222222222,
              "#7201a8"
             ],
             [
              0.3333333333333333,
              "#9c179e"
             ],
             [
              0.4444444444444444,
              "#bd3786"
             ],
             [
              0.5555555555555556,
              "#d8576b"
             ],
             [
              0.6666666666666666,
              "#ed7953"
             ],
             [
              0.7777777777777778,
              "#fb9f3a"
             ],
             [
              0.8888888888888888,
              "#fdca26"
             ],
             [
              1,
              "#f0f921"
             ]
            ],
            "type": "heatmapgl"
           }
          ],
          "histogram": [
           {
            "marker": {
             "pattern": {
              "fillmode": "overlay",
              "size": 10,
              "solidity": 0.2
             }
            },
            "type": "histogram"
           }
          ],
          "histogram2d": [
           {
            "colorbar": {
             "outlinewidth": 0,
             "ticks": ""
            },
            "colorscale": [
             [
              0,
              "#0d0887"
             ],
             [
              0.1111111111111111,
              "#46039f"
             ],
             [
              0.2222222222222222,
              "#7201a8"
             ],
             [
              0.3333333333333333,
              "#9c179e"
             ],
             [
              0.4444444444444444,
              "#bd3786"
             ],
             [
              0.5555555555555556,
              "#d8576b"
             ],
             [
              0.6666666666666666,
              "#ed7953"
             ],
             [
              0.7777777777777778,
              "#fb9f3a"
             ],
             [
              0.8888888888888888,
              "#fdca26"
             ],
             [
              1,
              "#f0f921"
             ]
            ],
            "type": "histogram2d"
           }
          ],
          "histogram2dcontour": [
           {
            "colorbar": {
             "outlinewidth": 0,
             "ticks": ""
            },
            "colorscale": [
             [
              0,
              "#0d0887"
             ],
             [
              0.1111111111111111,
              "#46039f"
             ],
             [
              0.2222222222222222,
              "#7201a8"
             ],
             [
              0.3333333333333333,
              "#9c179e"
             ],
             [
              0.4444444444444444,
              "#bd3786"
             ],
             [
              0.5555555555555556,
              "#d8576b"
             ],
             [
              0.6666666666666666,
              "#ed7953"
             ],
             [
              0.7777777777777778,
              "#fb9f3a"
             ],
             [
              0.8888888888888888,
              "#fdca26"
             ],
             [
              1,
              "#f0f921"
             ]
            ],
            "type": "histogram2dcontour"
           }
          ],
          "mesh3d": [
           {
            "colorbar": {
             "outlinewidth": 0,
             "ticks": ""
            },
            "type": "mesh3d"
           }
          ],
          "parcoords": [
           {
            "line": {
             "colorbar": {
              "outlinewidth": 0,
              "ticks": ""
             }
            },
            "type": "parcoords"
           }
          ],
          "pie": [
           {
            "automargin": true,
            "type": "pie"
           }
          ],
          "scatter": [
           {
            "marker": {
             "line": {
              "color": "#283442"
             }
            },
            "type": "scatter"
           }
          ],
          "scatter3d": [
           {
            "line": {
             "colorbar": {
              "outlinewidth": 0,
              "ticks": ""
             }
            },
            "marker": {
             "colorbar": {
              "outlinewidth": 0,
              "ticks": ""
             }
            },
            "type": "scatter3d"
           }
          ],
          "scattercarpet": [
           {
            "marker": {
             "colorbar": {
              "outlinewidth": 0,
              "ticks": ""
             }
            },
            "type": "scattercarpet"
           }
          ],
          "scattergeo": [
           {
            "marker": {
             "colorbar": {
              "outlinewidth": 0,
              "ticks": ""
             }
            },
            "type": "scattergeo"
           }
          ],
          "scattergl": [
           {
            "marker": {
             "line": {
              "color": "#283442"
             }
            },
            "type": "scattergl"
           }
          ],
          "scattermapbox": [
           {
            "marker": {
             "colorbar": {
              "outlinewidth": 0,
              "ticks": ""
             }
            },
            "type": "scattermapbox"
           }
          ],
          "scatterpolar": [
           {
            "marker": {
             "colorbar": {
              "outlinewidth": 0,
              "ticks": ""
             }
            },
            "type": "scatterpolar"
           }
          ],
          "scatterpolargl": [
           {
            "marker": {
             "colorbar": {
              "outlinewidth": 0,
              "ticks": ""
             }
            },
            "type": "scatterpolargl"
           }
          ],
          "scatterternary": [
           {
            "marker": {
             "colorbar": {
              "outlinewidth": 0,
              "ticks": ""
             }
            },
            "type": "scatterternary"
           }
          ],
          "surface": [
           {
            "colorbar": {
             "outlinewidth": 0,
             "ticks": ""
            },
            "colorscale": [
             [
              0,
              "#0d0887"
             ],
             [
              0.1111111111111111,
              "#46039f"
             ],
             [
              0.2222222222222222,
              "#7201a8"
             ],
             [
              0.3333333333333333,
              "#9c179e"
             ],
             [
              0.4444444444444444,
              "#bd3786"
             ],
             [
              0.5555555555555556,
              "#d8576b"
             ],
             [
              0.6666666666666666,
              "#ed7953"
             ],
             [
              0.7777777777777778,
              "#fb9f3a"
             ],
             [
              0.8888888888888888,
              "#fdca26"
             ],
             [
              1,
              "#f0f921"
             ]
            ],
            "type": "surface"
           }
          ],
          "table": [
           {
            "cells": {
             "fill": {
              "color": "#506784"
             },
             "line": {
              "color": "rgb(17,17,17)"
             }
            },
            "header": {
             "fill": {
              "color": "#2a3f5f"
             },
             "line": {
              "color": "rgb(17,17,17)"
             }
            },
            "type": "table"
           }
          ]
         },
         "layout": {
          "annotationdefaults": {
           "arrowcolor": "#f2f5fa",
           "arrowhead": 0,
           "arrowwidth": 1
          },
          "autotypenumbers": "strict",
          "coloraxis": {
           "colorbar": {
            "outlinewidth": 0,
            "ticks": ""
           }
          },
          "colorscale": {
           "diverging": [
            [
             0,
             "#8e0152"
            ],
            [
             0.1,
             "#c51b7d"
            ],
            [
             0.2,
             "#de77ae"
            ],
            [
             0.3,
             "#f1b6da"
            ],
            [
             0.4,
             "#fde0ef"
            ],
            [
             0.5,
             "#f7f7f7"
            ],
            [
             0.6,
             "#e6f5d0"
            ],
            [
             0.7,
             "#b8e186"
            ],
            [
             0.8,
             "#7fbc41"
            ],
            [
             0.9,
             "#4d9221"
            ],
            [
             1,
             "#276419"
            ]
           ],
           "sequential": [
            [
             0,
             "#0d0887"
            ],
            [
             0.1111111111111111,
             "#46039f"
            ],
            [
             0.2222222222222222,
             "#7201a8"
            ],
            [
             0.3333333333333333,
             "#9c179e"
            ],
            [
             0.4444444444444444,
             "#bd3786"
            ],
            [
             0.5555555555555556,
             "#d8576b"
            ],
            [
             0.6666666666666666,
             "#ed7953"
            ],
            [
             0.7777777777777778,
             "#fb9f3a"
            ],
            [
             0.8888888888888888,
             "#fdca26"
            ],
            [
             1,
             "#f0f921"
            ]
           ],
           "sequentialminus": [
            [
             0,
             "#0d0887"
            ],
            [
             0.1111111111111111,
             "#46039f"
            ],
            [
             0.2222222222222222,
             "#7201a8"
            ],
            [
             0.3333333333333333,
             "#9c179e"
            ],
            [
             0.4444444444444444,
             "#bd3786"
            ],
            [
             0.5555555555555556,
             "#d8576b"
            ],
            [
             0.6666666666666666,
             "#ed7953"
            ],
            [
             0.7777777777777778,
             "#fb9f3a"
            ],
            [
             0.8888888888888888,
             "#fdca26"
            ],
            [
             1,
             "#f0f921"
            ]
           ]
          },
          "colorway": [
           "#636efa",
           "#EF553B",
           "#00cc96",
           "#ab63fa",
           "#FFA15A",
           "#19d3f3",
           "#FF6692",
           "#B6E880",
           "#FF97FF",
           "#FECB52"
          ],
          "font": {
           "color": "#f2f5fa"
          },
          "geo": {
           "bgcolor": "rgb(17,17,17)",
           "lakecolor": "rgb(17,17,17)",
           "landcolor": "rgb(17,17,17)",
           "showlakes": true,
           "showland": true,
           "subunitcolor": "#506784"
          },
          "hoverlabel": {
           "align": "left"
          },
          "hovermode": "closest",
          "mapbox": {
           "style": "dark"
          },
          "paper_bgcolor": "rgb(17,17,17)",
          "plot_bgcolor": "rgb(17,17,17)",
          "polar": {
           "angularaxis": {
            "gridcolor": "#506784",
            "linecolor": "#506784",
            "ticks": ""
           },
           "bgcolor": "rgb(17,17,17)",
           "radialaxis": {
            "gridcolor": "#506784",
            "linecolor": "#506784",
            "ticks": ""
           }
          },
          "scene": {
           "xaxis": {
            "backgroundcolor": "rgb(17,17,17)",
            "gridcolor": "#506784",
            "gridwidth": 2,
            "linecolor": "#506784",
            "showbackground": true,
            "ticks": "",
            "zerolinecolor": "#C8D4E3"
           },
           "yaxis": {
            "backgroundcolor": "rgb(17,17,17)",
            "gridcolor": "#506784",
            "gridwidth": 2,
            "linecolor": "#506784",
            "showbackground": true,
            "ticks": "",
            "zerolinecolor": "#C8D4E3"
           },
           "zaxis": {
            "backgroundcolor": "rgb(17,17,17)",
            "gridcolor": "#506784",
            "gridwidth": 2,
            "linecolor": "#506784",
            "showbackground": true,
            "ticks": "",
            "zerolinecolor": "#C8D4E3"
           }
          },
          "shapedefaults": {
           "line": {
            "color": "#f2f5fa"
           }
          },
          "sliderdefaults": {
           "bgcolor": "#C8D4E3",
           "bordercolor": "rgb(17,17,17)",
           "borderwidth": 1,
           "tickwidth": 0
          },
          "ternary": {
           "aaxis": {
            "gridcolor": "#506784",
            "linecolor": "#506784",
            "ticks": ""
           },
           "baxis": {
            "gridcolor": "#506784",
            "linecolor": "#506784",
            "ticks": ""
           },
           "bgcolor": "rgb(17,17,17)",
           "caxis": {
            "gridcolor": "#506784",
            "linecolor": "#506784",
            "ticks": ""
           }
          },
          "title": {
           "x": 0.05
          },
          "updatemenudefaults": {
           "bgcolor": "#506784",
           "borderwidth": 0
          },
          "xaxis": {
           "automargin": true,
           "gridcolor": "#283442",
           "linecolor": "#506784",
           "ticks": "",
           "title": {
            "standoff": 15
           },
           "zerolinecolor": "#283442",
           "zerolinewidth": 2
          },
          "yaxis": {
           "automargin": true,
           "gridcolor": "#283442",
           "linecolor": "#506784",
           "ticks": "",
           "title": {
            "standoff": 15
           },
           "zerolinecolor": "#283442",
           "zerolinewidth": 2
          }
         }
        },
        "title": {
         "text": "Comments on courses"
        },
        "width": 1920,
        "xaxis": {
         "range": [
          0,
          10
         ],
         "showgrid": false
        },
        "yaxis": {
         "range": [
          0,
          6
         ],
         "showgrid": false
        }
       }
      }
     },
     "metadata": {},
     "output_type": "display_data"
    }
   ],
   "source": [
    "fig_comments = go.Figure()\n",
    "count = 1\n",
    "for course, comments in course_to_comments.items():\n",
    "    if len(comments):\n",
    "        fig_comments.add_annotation(\n",
    "            x=1, y=count,\n",
    "            text=course,\n",
    "            showarrow=False,\n",
    "        )\n",
    "        for comment in comments:\n",
    "            fig_comments.add_annotation(\n",
    "                x=7, y=count,\n",
    "                text=comment,\n",
    "                showarrow=False,\n",
    "            )\n",
    "            count += 1\n",
    "fig_comments.update_xaxes(showgrid=False)\n",
    "fig_comments.update_yaxes(showgrid=False)\n",
    "fig_comments.update_layout(height=980, width=1920, yaxis_range=[0, count], xaxis_range=[0, 10], title=\"Comments on courses\")\n",
    "\n",
    "name = \"comments\"\n",
    "fig_comments.write_image(f\"images/{name}.png\")\n",
    "name_to_figure.update({name: fig_comments})\n",
    "fig_comments"
   ]
  },
  {
   "cell_type": "code",
   "execution_count": 39,
   "metadata": {},
   "outputs": [
    {
     "data": {
      "application/vnd.plotly.v1+json": {
       "config": {
        "plotlyServerURL": "https://plot.ly"
       },
       "data": [
        {
         "dimensions": [
          {
           "axis": {
            "matches": true
           },
           "label": "Application",
           "values": [
            4.303654508756549,
            2.6369878420898822,
            3.546144457046713,
            2.632041371327085,
            2.2735465427429715,
            2.711046542742972,
            4.291782978925835
           ]
          },
          {
           "axis": {
            "matches": true
           },
           "label": "Relevance",
           "values": [
            4.431784655254042,
            2.907975131444519,
            2.635130408438679,
            2.1704154311297166,
            2.441717360020932,
            2.1292173600209314,
            3.6044985173556587
           ]
          },
          {
           "axis": {
            "matches": true
           },
           "label": "Insight",
           "values": [
            2.6538859100083583,
            2.4157906719131206,
            2.1964002163250287,
            2.262866895009752,
            2.0457252568859716,
            2.0457252568859716,
            2.515440274011702
           ]
          },
          {
           "axis": {
            "matches": true
           },
           "label": "Understanding",
           "values": [
            2.732841987944028,
            2.7328419879440284,
            2.8099832498328743,
            2.5243551091765384,
            2.8993551091765384,
            4.024355109176539,
            2.8259787831216396
           ]
          },
          {
           "axis": {
            "matches": true
           },
           "label": "Ease",
           "values": [
            4.625300436524925,
            3.2919671031915922,
            4.480595219317023,
            3.6739616203901906,
            4.008206822938967,
            3.945706822938967,
            4.608753944468229
           ]
          }
         ],
         "hovertemplate": "<b>%{hovertext}</b><br><br>categories=Humanities<br>%{xaxis.title.text}=%{x}<br>%{yaxis.title.text}=%{y}<extra></extra>",
         "hovertext": [
          "English 100",
          "Arabic 100",
          "Tech 140 - Computer Skills",
          "Entrepreneurship 101",
          "Fajab 101 - Health and Stuff",
          "Nahaj 101 - University Skills",
          "English 110"
         ],
         "legendgroup": "Humanities",
         "marker": {
          "color": "#636efa",
          "symbol": "circle"
         },
         "name": "Humanities",
         "showlegend": true,
         "type": "splom"
        },
        {
         "dimensions": [
          {
           "axis": {
            "matches": true
           },
           "label": "Application",
           "values": [
            4.0888278388278385,
            4.413967611336032,
            3.3613360323886647,
            4.1840659340659325,
            3.936965811965811,
            3.4915865384615388
           ]
          },
          {
           "axis": {
            "matches": true
           },
           "label": "Relevance",
           "values": [
            4.283608587180015,
            4.26083054372528,
            4.155567385830544,
            4.426465730037157,
            3.9975433517100183,
            4.309736270673772
           ]
          },
          {
           "axis": {
            "matches": true
           },
           "label": "Insight",
           "values": [
            4.032073085644513,
            3.719659726238674,
            3.351238673607095,
            4.032073085644513,
            3.4818630443630436,
            3.7295959249084256
           ]
          },
          {
           "axis": {
            "matches": true
           },
           "label": "Understanding",
           "values": [
            4.0756379863522705,
            3.662547248073564,
            3.399389353336722,
            3.9327808434951286,
            3.0882443174109837,
            4.036774857087358
           ]
          },
          {
           "axis": {
            "matches": true
           },
           "label": "Ease",
           "values": [
            2.820022570022569,
            2.853709156340736,
            2.5905512616038937,
            3.867641617641617,
            2.345581887248554,
            3.138779623154624
           ]
          }
         ],
         "hovertemplate": "<b>%{hovertext}</b><br><br>categories=Mathematics<br>%{xaxis.title.text}=%{x}<br>%{yaxis.title.text}=%{y}<extra></extra>",
         "hovertext": [
          "Math 101 - Derivative Math",
          "Statistics 101",
          "Math 106 - Integral Math",
          "Math 151 - Discrete Math",
          "MATH 244 - Linear Algebra",
          "Math 281 - Combinatorial Math"
         ],
         "legendgroup": "Mathematics",
         "marker": {
          "color": "#EF553B",
          "symbol": "diamond"
         },
         "name": "Mathematics",
         "showlegend": true,
         "type": "splom"
        },
        {
         "dimensions": [
          {
           "axis": {
            "matches": true
           },
           "label": "Application",
           "values": [
            1.8502024291497978
           ]
          },
          {
           "axis": {
            "matches": true
           },
           "label": "Relevance",
           "values": [
            2.8663967611336036
           ]
          },
          {
           "axis": {
            "matches": true
           },
           "label": "Insight",
           "values": [
            1.623481781376518
           ]
          },
          {
           "axis": {
            "matches": true
           },
           "label": "Understanding",
           "values": [
            2.3967611336032393
           ]
          },
          {
           "axis": {
            "matches": true
           },
           "label": "Ease",
           "values": [
            2.3967611336032393
           ]
          }
         ],
         "hovertemplate": "<b>%{hovertext}</b><br><br>categories=Chemistry<br>%{xaxis.title.text}=%{x}<br>%{yaxis.title.text}=%{y}<extra></extra>",
         "hovertext": [
          "Chemistry 101 - Intro To Chemistry"
         ],
         "legendgroup": "Chemistry",
         "marker": {
          "color": "#00cc96",
          "symbol": "square"
         },
         "name": "Chemistry",
         "showlegend": true,
         "type": "splom"
        },
        {
         "dimensions": [
          {
           "axis": {
            "matches": true
           },
           "label": "Application",
           "values": [
            2.6764914772727275,
            2.0686553030303028
           ]
          },
          {
           "axis": {
            "matches": true
           },
           "label": "Relevance",
           "values": [
            3.957386363636364,
            3.5265151515151514
           ]
          },
          {
           "axis": {
            "matches": true
           },
           "label": "Insight",
           "values": [
            2.7262073863636367,
            1.718276515151515
           ]
          },
          {
           "axis": {
            "matches": true
           },
           "label": "Understanding",
           "values": [
            3.1338778409090913,
            2.095170454545454
           ]
          },
          {
           "axis": {
            "matches": true
           },
           "label": "Ease",
           "values": [
            3.999644886363637,
            3.7495265151515147
           ]
          }
         ],
         "hovertemplate": "<b>%{hovertext}</b><br><br>categories=Islamics<br>%{xaxis.title.text}=%{x}<br>%{yaxis.title.text}=%{y}<extra></extra>",
         "hovertext": [
          "Salam 107 - Job Ethics",
          "Salam 108 - Modern Issues"
         ],
         "legendgroup": "Islamics",
         "marker": {
          "color": "#ab63fa",
          "symbol": "x"
         },
         "name": "Islamics",
         "showlegend": true,
         "type": "splom"
        },
        {
         "dimensions": [
          {
           "axis": {
            "matches": true
           },
           "label": "Application",
           "values": [
            2.636904761904762,
            2.5464285714285717
           ]
          },
          {
           "axis": {
            "matches": true
           },
           "label": "Relevance",
           "values": [
            3.3121693121693125,
            3.061904761904762
           ]
          },
          {
           "axis": {
            "matches": true
           },
           "label": "Insight",
           "values": [
            2.64484126984127,
            2.560714285714286
           ]
          },
          {
           "axis": {
            "matches": true
           },
           "label": "Understanding",
           "values": [
            2.263227513227513,
            3.273809523809524
           ]
          },
          {
           "axis": {
            "matches": true
           },
           "label": "Ease",
           "values": [
            2.1276455026455023,
            2.1297619047619047
           ]
          }
         ],
         "hovertemplate": "<b>%{hovertext}</b><br><br>categories=Physics<br>%{xaxis.title.text}=%{x}<br>%{yaxis.title.text}=%{y}<extra></extra>",
         "hovertext": [
          "Physics 104 - Electrical Physics",
          "Physics 103 - Newtonian Physics"
         ],
         "legendgroup": "Physics",
         "marker": {
          "color": "#FFA15A",
          "symbol": "cross"
         },
         "name": "Physics",
         "showlegend": true,
         "type": "splom"
        },
        {
         "dimensions": [
          {
           "axis": {
            "matches": true
           },
           "label": "Application",
           "values": [
            4.697517200148777,
            3.718308484374966,
            4.040491325195273,
            4.415491325195274,
            4.049835477163412,
            2.309857413541623,
            4.109857413541622,
            3.553988433593697,
            4.38732176692703,
            2.1373217669270304,
            3.13732176692703,
            3.6647861203124363,
            4.303988433593696,
            2.3873217669270304,
            3.2206551002603634,
            4.235408743303481,
            2.91196530078109,
            4.627540133680485,
            3.215953734374787
           ]
          },
          {
           "axis": {
            "matches": true
           },
           "label": "Relevance",
           "values": [
            3.741787306260989,
            3.5040807069200426,
            3.8485958394675506,
            4.0320851906378214,
            3.275194879344676,
            3.3051688954320526,
            2.638502228765386,
            3.048127785956733,
            4.7147944526234,
            3.798127785956733,
            2.798127785956733,
            3.55775334314808,
            4.5481277859567335,
            3.048127785956733,
            2.298127785956733,
            4.225361918782971,
            2.8943833578702,
            4.508614825720089,
            3.8591778104936
           ]
          },
          {
           "axis": {
            "matches": true
           },
           "label": "Insight",
           "values": [
            3.8353945205448956,
            3.239120259549623,
            3.971455308215178,
            4.530182496191268,
            3.6571757639571407,
            2.569552328762854,
            3.5028856620961872,
            3.2952737442869022,
            4.378607077620236,
            3.7952737442869022,
            2.5452737442869022,
            3.5543284931442827,
            4.461940410953568,
            3.2119404109535687,
            3.1286070776202353,
            3.6490407044918323,
            2.3858212328607067,
            4.1714761034936485,
            3.181094977147608
           ]
          },
          {
           "axis": {
            "matches": true
           },
           "label": "Understanding",
           "values": [
            4.743898520026338,
            3.8748352063449016,
            3.663866807534572,
            4.645659384475173,
            3.5093745323502405,
            2.7747912613702077,
            3.1747912613702085,
            2.551822410046094,
            4.718489076712761,
            3.9684890767127614,
            2.0518224100460944,
            3.962186892055313,
            4.385155743379428,
            3.5518224100460944,
            2.801822410046094,
            3.6602669886504478,
            2.655467230138283,
            4.291318768950349,
            3.54062297351771
           ]
          },
          {
           "axis": {
            "matches": true
           },
           "label": "Ease",
           "values": [
            4.21254567626748,
            3.9191294316640577,
            2.966466200101069,
            3.359081066756505,
            2.420266092432084,
            4.364230613441139,
            3.4975639467744717,
            3.0386216001347575,
            3.455288266801425,
            3.288621600134758,
            2.7052882668014244,
            2.8463459201617094,
            3.5386216001347583,
            2.4552882668014244,
            3.121954933468091,
            2.6376370288024424,
            3.6158648004042737,
            3.4959399112907894,
            3.4878197338723647
           ]
          }
         ],
         "hovertemplate": "<b>%{hovertext}</b><br><br>categories=Computer science<br>%{xaxis.title.text}=%{x}<br>%{yaxis.title.text}=%{y}<extra></extra>",
         "hovertext": [
          "CSC 111 – Computer Programming-I (3-2-1)",
          "CSC 113 – Computer Programming-II (3-2-1)",
          "CSC 220 – Computer Organization (2-2-1)",
          "CSC 212 – Data Structures (3-0-1)",
          "CSC 215 – Procedural Programming With C (2-2-1)",
          "CSC 304 – Ethical Issues in Computing & Research Methods (3-0-1)",
          "CSC 380 – Introduction to Database Concepts (3-0-1)",
          "CSC 227 – Operating Systems (3-0-1)",
          "CSC 311 – Design and Analysis of Algorithms (3-0-1)",
          "CSC 339 – Theory of Computation (3-0-1)",
          "CSC 343 - Intro To Software Engineering",
          "CSC 361 – Artificial Intelligence (3-0-1)",
          "CSC 329 – Computer Networks (3-0-1)",
          "CSC 340 – Programming Languages and Compilation (3-0-1)",
          "CSC 453 - Parallel Processing (3-0-1)",
          "CSC 496 – Graduation Project-I (2-0-0)",
          "CSC 443 – IT/Software project management (3-0-1)",
          "CSC 462 – Machine Learning (3-0-1)",
          "CSC 489 - Selected Topics in Computer Science"
         ],
         "legendgroup": "Computer science",
         "marker": {
          "color": "#19d3f3",
          "symbol": "circle"
         },
         "name": "Computer science",
         "showlegend": true,
         "type": "splom"
        }
       ],
       "layout": {
        "dragmode": "select",
        "height": 980,
        "legend": {
         "title": {
          "text": "categories"
         },
         "tracegroupgap": 0
        },
        "template": {
         "data": {
          "bar": [
           {
            "error_x": {
             "color": "#f2f5fa"
            },
            "error_y": {
             "color": "#f2f5fa"
            },
            "marker": {
             "line": {
              "color": "rgb(17,17,17)",
              "width": 0.5
             },
             "pattern": {
              "fillmode": "overlay",
              "size": 10,
              "solidity": 0.2
             }
            },
            "type": "bar"
           }
          ],
          "barpolar": [
           {
            "marker": {
             "line": {
              "color": "rgb(17,17,17)",
              "width": 0.5
             },
             "pattern": {
              "fillmode": "overlay",
              "size": 10,
              "solidity": 0.2
             }
            },
            "type": "barpolar"
           }
          ],
          "carpet": [
           {
            "aaxis": {
             "endlinecolor": "#A2B1C6",
             "gridcolor": "#506784",
             "linecolor": "#506784",
             "minorgridcolor": "#506784",
             "startlinecolor": "#A2B1C6"
            },
            "baxis": {
             "endlinecolor": "#A2B1C6",
             "gridcolor": "#506784",
             "linecolor": "#506784",
             "minorgridcolor": "#506784",
             "startlinecolor": "#A2B1C6"
            },
            "type": "carpet"
           }
          ],
          "choropleth": [
           {
            "colorbar": {
             "outlinewidth": 0,
             "ticks": ""
            },
            "type": "choropleth"
           }
          ],
          "contour": [
           {
            "colorbar": {
             "outlinewidth": 0,
             "ticks": ""
            },
            "colorscale": [
             [
              0,
              "#0d0887"
             ],
             [
              0.1111111111111111,
              "#46039f"
             ],
             [
              0.2222222222222222,
              "#7201a8"
             ],
             [
              0.3333333333333333,
              "#9c179e"
             ],
             [
              0.4444444444444444,
              "#bd3786"
             ],
             [
              0.5555555555555556,
              "#d8576b"
             ],
             [
              0.6666666666666666,
              "#ed7953"
             ],
             [
              0.7777777777777778,
              "#fb9f3a"
             ],
             [
              0.8888888888888888,
              "#fdca26"
             ],
             [
              1,
              "#f0f921"
             ]
            ],
            "type": "contour"
           }
          ],
          "contourcarpet": [
           {
            "colorbar": {
             "outlinewidth": 0,
             "ticks": ""
            },
            "type": "contourcarpet"
           }
          ],
          "heatmap": [
           {
            "colorbar": {
             "outlinewidth": 0,
             "ticks": ""
            },
            "colorscale": [
             [
              0,
              "#0d0887"
             ],
             [
              0.1111111111111111,
              "#46039f"
             ],
             [
              0.2222222222222222,
              "#7201a8"
             ],
             [
              0.3333333333333333,
              "#9c179e"
             ],
             [
              0.4444444444444444,
              "#bd3786"
             ],
             [
              0.5555555555555556,
              "#d8576b"
             ],
             [
              0.6666666666666666,
              "#ed7953"
             ],
             [
              0.7777777777777778,
              "#fb9f3a"
             ],
             [
              0.8888888888888888,
              "#fdca26"
             ],
             [
              1,
              "#f0f921"
             ]
            ],
            "type": "heatmap"
           }
          ],
          "heatmapgl": [
           {
            "colorbar": {
             "outlinewidth": 0,
             "ticks": ""
            },
            "colorscale": [
             [
              0,
              "#0d0887"
             ],
             [
              0.1111111111111111,
              "#46039f"
             ],
             [
              0.2222222222222222,
              "#7201a8"
             ],
             [
              0.3333333333333333,
              "#9c179e"
             ],
             [
              0.4444444444444444,
              "#bd3786"
             ],
             [
              0.5555555555555556,
              "#d8576b"
             ],
             [
              0.6666666666666666,
              "#ed7953"
             ],
             [
              0.7777777777777778,
              "#fb9f3a"
             ],
             [
              0.8888888888888888,
              "#fdca26"
             ],
             [
              1,
              "#f0f921"
             ]
            ],
            "type": "heatmapgl"
           }
          ],
          "histogram": [
           {
            "marker": {
             "pattern": {
              "fillmode": "overlay",
              "size": 10,
              "solidity": 0.2
             }
            },
            "type": "histogram"
           }
          ],
          "histogram2d": [
           {
            "colorbar": {
             "outlinewidth": 0,
             "ticks": ""
            },
            "colorscale": [
             [
              0,
              "#0d0887"
             ],
             [
              0.1111111111111111,
              "#46039f"
             ],
             [
              0.2222222222222222,
              "#7201a8"
             ],
             [
              0.3333333333333333,
              "#9c179e"
             ],
             [
              0.4444444444444444,
              "#bd3786"
             ],
             [
              0.5555555555555556,
              "#d8576b"
             ],
             [
              0.6666666666666666,
              "#ed7953"
             ],
             [
              0.7777777777777778,
              "#fb9f3a"
             ],
             [
              0.8888888888888888,
              "#fdca26"
             ],
             [
              1,
              "#f0f921"
             ]
            ],
            "type": "histogram2d"
           }
          ],
          "histogram2dcontour": [
           {
            "colorbar": {
             "outlinewidth": 0,
             "ticks": ""
            },
            "colorscale": [
             [
              0,
              "#0d0887"
             ],
             [
              0.1111111111111111,
              "#46039f"
             ],
             [
              0.2222222222222222,
              "#7201a8"
             ],
             [
              0.3333333333333333,
              "#9c179e"
             ],
             [
              0.4444444444444444,
              "#bd3786"
             ],
             [
              0.5555555555555556,
              "#d8576b"
             ],
             [
              0.6666666666666666,
              "#ed7953"
             ],
             [
              0.7777777777777778,
              "#fb9f3a"
             ],
             [
              0.8888888888888888,
              "#fdca26"
             ],
             [
              1,
              "#f0f921"
             ]
            ],
            "type": "histogram2dcontour"
           }
          ],
          "mesh3d": [
           {
            "colorbar": {
             "outlinewidth": 0,
             "ticks": ""
            },
            "type": "mesh3d"
           }
          ],
          "parcoords": [
           {
            "line": {
             "colorbar": {
              "outlinewidth": 0,
              "ticks": ""
             }
            },
            "type": "parcoords"
           }
          ],
          "pie": [
           {
            "automargin": true,
            "type": "pie"
           }
          ],
          "scatter": [
           {
            "marker": {
             "line": {
              "color": "#283442"
             }
            },
            "type": "scatter"
           }
          ],
          "scatter3d": [
           {
            "line": {
             "colorbar": {
              "outlinewidth": 0,
              "ticks": ""
             }
            },
            "marker": {
             "colorbar": {
              "outlinewidth": 0,
              "ticks": ""
             }
            },
            "type": "scatter3d"
           }
          ],
          "scattercarpet": [
           {
            "marker": {
             "colorbar": {
              "outlinewidth": 0,
              "ticks": ""
             }
            },
            "type": "scattercarpet"
           }
          ],
          "scattergeo": [
           {
            "marker": {
             "colorbar": {
              "outlinewidth": 0,
              "ticks": ""
             }
            },
            "type": "scattergeo"
           }
          ],
          "scattergl": [
           {
            "marker": {
             "line": {
              "color": "#283442"
             }
            },
            "type": "scattergl"
           }
          ],
          "scattermapbox": [
           {
            "marker": {
             "colorbar": {
              "outlinewidth": 0,
              "ticks": ""
             }
            },
            "type": "scattermapbox"
           }
          ],
          "scatterpolar": [
           {
            "marker": {
             "colorbar": {
              "outlinewidth": 0,
              "ticks": ""
             }
            },
            "type": "scatterpolar"
           }
          ],
          "scatterpolargl": [
           {
            "marker": {
             "colorbar": {
              "outlinewidth": 0,
              "ticks": ""
             }
            },
            "type": "scatterpolargl"
           }
          ],
          "scatterternary": [
           {
            "marker": {
             "colorbar": {
              "outlinewidth": 0,
              "ticks": ""
             }
            },
            "type": "scatterternary"
           }
          ],
          "surface": [
           {
            "colorbar": {
             "outlinewidth": 0,
             "ticks": ""
            },
            "colorscale": [
             [
              0,
              "#0d0887"
             ],
             [
              0.1111111111111111,
              "#46039f"
             ],
             [
              0.2222222222222222,
              "#7201a8"
             ],
             [
              0.3333333333333333,
              "#9c179e"
             ],
             [
              0.4444444444444444,
              "#bd3786"
             ],
             [
              0.5555555555555556,
              "#d8576b"
             ],
             [
              0.6666666666666666,
              "#ed7953"
             ],
             [
              0.7777777777777778,
              "#fb9f3a"
             ],
             [
              0.8888888888888888,
              "#fdca26"
             ],
             [
              1,
              "#f0f921"
             ]
            ],
            "type": "surface"
           }
          ],
          "table": [
           {
            "cells": {
             "fill": {
              "color": "#506784"
             },
             "line": {
              "color": "rgb(17,17,17)"
             }
            },
            "header": {
             "fill": {
              "color": "#2a3f5f"
             },
             "line": {
              "color": "rgb(17,17,17)"
             }
            },
            "type": "table"
           }
          ]
         },
         "layout": {
          "annotationdefaults": {
           "arrowcolor": "#f2f5fa",
           "arrowhead": 0,
           "arrowwidth": 1
          },
          "autotypenumbers": "strict",
          "coloraxis": {
           "colorbar": {
            "outlinewidth": 0,
            "ticks": ""
           }
          },
          "colorscale": {
           "diverging": [
            [
             0,
             "#8e0152"
            ],
            [
             0.1,
             "#c51b7d"
            ],
            [
             0.2,
             "#de77ae"
            ],
            [
             0.3,
             "#f1b6da"
            ],
            [
             0.4,
             "#fde0ef"
            ],
            [
             0.5,
             "#f7f7f7"
            ],
            [
             0.6,
             "#e6f5d0"
            ],
            [
             0.7,
             "#b8e186"
            ],
            [
             0.8,
             "#7fbc41"
            ],
            [
             0.9,
             "#4d9221"
            ],
            [
             1,
             "#276419"
            ]
           ],
           "sequential": [
            [
             0,
             "#0d0887"
            ],
            [
             0.1111111111111111,
             "#46039f"
            ],
            [
             0.2222222222222222,
             "#7201a8"
            ],
            [
             0.3333333333333333,
             "#9c179e"
            ],
            [
             0.4444444444444444,
             "#bd3786"
            ],
            [
             0.5555555555555556,
             "#d8576b"
            ],
            [
             0.6666666666666666,
             "#ed7953"
            ],
            [
             0.7777777777777778,
             "#fb9f3a"
            ],
            [
             0.8888888888888888,
             "#fdca26"
            ],
            [
             1,
             "#f0f921"
            ]
           ],
           "sequentialminus": [
            [
             0,
             "#0d0887"
            ],
            [
             0.1111111111111111,
             "#46039f"
            ],
            [
             0.2222222222222222,
             "#7201a8"
            ],
            [
             0.3333333333333333,
             "#9c179e"
            ],
            [
             0.4444444444444444,
             "#bd3786"
            ],
            [
             0.5555555555555556,
             "#d8576b"
            ],
            [
             0.6666666666666666,
             "#ed7953"
            ],
            [
             0.7777777777777778,
             "#fb9f3a"
            ],
            [
             0.8888888888888888,
             "#fdca26"
            ],
            [
             1,
             "#f0f921"
            ]
           ]
          },
          "colorway": [
           "#636efa",
           "#EF553B",
           "#00cc96",
           "#ab63fa",
           "#FFA15A",
           "#19d3f3",
           "#FF6692",
           "#B6E880",
           "#FF97FF",
           "#FECB52"
          ],
          "font": {
           "color": "#f2f5fa"
          },
          "geo": {
           "bgcolor": "rgb(17,17,17)",
           "lakecolor": "rgb(17,17,17)",
           "landcolor": "rgb(17,17,17)",
           "showlakes": true,
           "showland": true,
           "subunitcolor": "#506784"
          },
          "hoverlabel": {
           "align": "left"
          },
          "hovermode": "closest",
          "mapbox": {
           "style": "dark"
          },
          "paper_bgcolor": "rgb(17,17,17)",
          "plot_bgcolor": "rgb(17,17,17)",
          "polar": {
           "angularaxis": {
            "gridcolor": "#506784",
            "linecolor": "#506784",
            "ticks": ""
           },
           "bgcolor": "rgb(17,17,17)",
           "radialaxis": {
            "gridcolor": "#506784",
            "linecolor": "#506784",
            "ticks": ""
           }
          },
          "scene": {
           "xaxis": {
            "backgroundcolor": "rgb(17,17,17)",
            "gridcolor": "#506784",
            "gridwidth": 2,
            "linecolor": "#506784",
            "showbackground": true,
            "ticks": "",
            "zerolinecolor": "#C8D4E3"
           },
           "yaxis": {
            "backgroundcolor": "rgb(17,17,17)",
            "gridcolor": "#506784",
            "gridwidth": 2,
            "linecolor": "#506784",
            "showbackground": true,
            "ticks": "",
            "zerolinecolor": "#C8D4E3"
           },
           "zaxis": {
            "backgroundcolor": "rgb(17,17,17)",
            "gridcolor": "#506784",
            "gridwidth": 2,
            "linecolor": "#506784",
            "showbackground": true,
            "ticks": "",
            "zerolinecolor": "#C8D4E3"
           }
          },
          "shapedefaults": {
           "line": {
            "color": "#f2f5fa"
           }
          },
          "sliderdefaults": {
           "bgcolor": "#C8D4E3",
           "bordercolor": "rgb(17,17,17)",
           "borderwidth": 1,
           "tickwidth": 0
          },
          "ternary": {
           "aaxis": {
            "gridcolor": "#506784",
            "linecolor": "#506784",
            "ticks": ""
           },
           "baxis": {
            "gridcolor": "#506784",
            "linecolor": "#506784",
            "ticks": ""
           },
           "bgcolor": "rgb(17,17,17)",
           "caxis": {
            "gridcolor": "#506784",
            "linecolor": "#506784",
            "ticks": ""
           }
          },
          "title": {
           "x": 0.05
          },
          "updatemenudefaults": {
           "bgcolor": "#506784",
           "borderwidth": 0
          },
          "xaxis": {
           "automargin": true,
           "gridcolor": "#283442",
           "linecolor": "#506784",
           "ticks": "",
           "title": {
            "standoff": 15
           },
           "zerolinecolor": "#283442",
           "zerolinewidth": 2
          },
          "yaxis": {
           "automargin": true,
           "gridcolor": "#283442",
           "linecolor": "#506784",
           "ticks": "",
           "title": {
            "standoff": 15
           },
           "zerolinecolor": "#283442",
           "zerolinewidth": 2
          }
         }
        },
        "title": {
         "text": "Scatter matrix of all criteria"
        },
        "width": 1920
       }
      }
     },
     "metadata": {},
     "output_type": "display_data"
    }
   ],
   "source": [
    "scores_df_matrix = scores_df.T\n",
    "scores_df_matrix[\"categories\"] = categories.values\n",
    "fig_matrix = px.scatter_matrix(scores_df_matrix, dimensions=criteria, symbol=\"categories\", color=\"categories\", hover_name=course_info_df.Description, title=\"Scatter matrix of all criteria\")\n",
    "fig_matrix.update_layout(height=980, width=1920)\n",
    "\n",
    "name = \"scatter_matrix_criteria\"\n",
    "fig_matrix.write_image(f\"images/{name}.png\")\n",
    "name_to_figure.update({name: fig_matrix})\n",
    "fig_matrix"
   ]
  },
  {
   "cell_type": "code",
   "execution_count": 40,
   "metadata": {},
   "outputs": [
    {
     "data": {
      "application/vnd.plotly.v1+json": {
       "config": {
        "plotlyServerURL": "https://plot.ly"
       },
       "data": [
        {
         "coloraxis": "coloraxis",
         "hovertemplate": "x: %{x}<br>categories: %{y}<br>color: %{z}<extra></extra>",
         "name": "0",
         "type": "heatmap",
         "x": [
          "Application",
          "Relevance",
          "Insight",
          "Understanding",
          "Ease"
         ],
         "xaxis": "x",
         "y": [
          "Chemistry",
          "Computer science",
          "Humanities",
          "Islamics",
          "Mathematics",
          "Physics"
         ],
         "yaxis": "y",
         "z": [
          [
           1.8502024291497978,
           2.8663967611336036,
           1.623481781376518,
           2.3967611336032393,
           2.3967611336032393
          ],
          [
           3.6381543003562693,
           3.56022460374775,
           3.5297075821296593,
           3.60665807177753,
           3.2856092082234225
          ],
          [
           3.19931489194743,
           2.902962694809211,
           2.305119211577129,
           2.935673048053169,
           4.0906417099671275
          ],
          [
           2.372573390151515,
           3.741950757575758,
           2.2222419507575757,
           2.6145241477272725,
           3.874585700757576
          ],
          [
           3.9127916278409693,
           4.238958644859465,
           3.724417256734377,
           3.699229100959338,
           2.9360476860019986
          ],
          [
           2.591666666666667,
           3.1870370370370376,
           2.602777777777778,
           2.7685185185185186,
           2.1287037037037035
          ]
         ]
        }
       ],
       "layout": {
        "coloraxis": {
         "colorscale": [
          [
           0,
           "#0d0887"
          ],
          [
           0.1111111111111111,
           "#46039f"
          ],
          [
           0.2222222222222222,
           "#7201a8"
          ],
          [
           0.3333333333333333,
           "#9c179e"
          ],
          [
           0.4444444444444444,
           "#bd3786"
          ],
          [
           0.5555555555555556,
           "#d8576b"
          ],
          [
           0.6666666666666666,
           "#ed7953"
          ],
          [
           0.7777777777777778,
           "#fb9f3a"
          ],
          [
           0.8888888888888888,
           "#fdca26"
          ],
          [
           1,
           "#f0f921"
          ]
         ]
        },
        "height": 980,
        "template": {
         "data": {
          "bar": [
           {
            "error_x": {
             "color": "#f2f5fa"
            },
            "error_y": {
             "color": "#f2f5fa"
            },
            "marker": {
             "line": {
              "color": "rgb(17,17,17)",
              "width": 0.5
             },
             "pattern": {
              "fillmode": "overlay",
              "size": 10,
              "solidity": 0.2
             }
            },
            "type": "bar"
           }
          ],
          "barpolar": [
           {
            "marker": {
             "line": {
              "color": "rgb(17,17,17)",
              "width": 0.5
             },
             "pattern": {
              "fillmode": "overlay",
              "size": 10,
              "solidity": 0.2
             }
            },
            "type": "barpolar"
           }
          ],
          "carpet": [
           {
            "aaxis": {
             "endlinecolor": "#A2B1C6",
             "gridcolor": "#506784",
             "linecolor": "#506784",
             "minorgridcolor": "#506784",
             "startlinecolor": "#A2B1C6"
            },
            "baxis": {
             "endlinecolor": "#A2B1C6",
             "gridcolor": "#506784",
             "linecolor": "#506784",
             "minorgridcolor": "#506784",
             "startlinecolor": "#A2B1C6"
            },
            "type": "carpet"
           }
          ],
          "choropleth": [
           {
            "colorbar": {
             "outlinewidth": 0,
             "ticks": ""
            },
            "type": "choropleth"
           }
          ],
          "contour": [
           {
            "colorbar": {
             "outlinewidth": 0,
             "ticks": ""
            },
            "colorscale": [
             [
              0,
              "#0d0887"
             ],
             [
              0.1111111111111111,
              "#46039f"
             ],
             [
              0.2222222222222222,
              "#7201a8"
             ],
             [
              0.3333333333333333,
              "#9c179e"
             ],
             [
              0.4444444444444444,
              "#bd3786"
             ],
             [
              0.5555555555555556,
              "#d8576b"
             ],
             [
              0.6666666666666666,
              "#ed7953"
             ],
             [
              0.7777777777777778,
              "#fb9f3a"
             ],
             [
              0.8888888888888888,
              "#fdca26"
             ],
             [
              1,
              "#f0f921"
             ]
            ],
            "type": "contour"
           }
          ],
          "contourcarpet": [
           {
            "colorbar": {
             "outlinewidth": 0,
             "ticks": ""
            },
            "type": "contourcarpet"
           }
          ],
          "heatmap": [
           {
            "colorbar": {
             "outlinewidth": 0,
             "ticks": ""
            },
            "colorscale": [
             [
              0,
              "#0d0887"
             ],
             [
              0.1111111111111111,
              "#46039f"
             ],
             [
              0.2222222222222222,
              "#7201a8"
             ],
             [
              0.3333333333333333,
              "#9c179e"
             ],
             [
              0.4444444444444444,
              "#bd3786"
             ],
             [
              0.5555555555555556,
              "#d8576b"
             ],
             [
              0.6666666666666666,
              "#ed7953"
             ],
             [
              0.7777777777777778,
              "#fb9f3a"
             ],
             [
              0.8888888888888888,
              "#fdca26"
             ],
             [
              1,
              "#f0f921"
             ]
            ],
            "type": "heatmap"
           }
          ],
          "heatmapgl": [
           {
            "colorbar": {
             "outlinewidth": 0,
             "ticks": ""
            },
            "colorscale": [
             [
              0,
              "#0d0887"
             ],
             [
              0.1111111111111111,
              "#46039f"
             ],
             [
              0.2222222222222222,
              "#7201a8"
             ],
             [
              0.3333333333333333,
              "#9c179e"
             ],
             [
              0.4444444444444444,
              "#bd3786"
             ],
             [
              0.5555555555555556,
              "#d8576b"
             ],
             [
              0.6666666666666666,
              "#ed7953"
             ],
             [
              0.7777777777777778,
              "#fb9f3a"
             ],
             [
              0.8888888888888888,
              "#fdca26"
             ],
             [
              1,
              "#f0f921"
             ]
            ],
            "type": "heatmapgl"
           }
          ],
          "histogram": [
           {
            "marker": {
             "pattern": {
              "fillmode": "overlay",
              "size": 10,
              "solidity": 0.2
             }
            },
            "type": "histogram"
           }
          ],
          "histogram2d": [
           {
            "colorbar": {
             "outlinewidth": 0,
             "ticks": ""
            },
            "colorscale": [
             [
              0,
              "#0d0887"
             ],
             [
              0.1111111111111111,
              "#46039f"
             ],
             [
              0.2222222222222222,
              "#7201a8"
             ],
             [
              0.3333333333333333,
              "#9c179e"
             ],
             [
              0.4444444444444444,
              "#bd3786"
             ],
             [
              0.5555555555555556,
              "#d8576b"
             ],
             [
              0.6666666666666666,
              "#ed7953"
             ],
             [
              0.7777777777777778,
              "#fb9f3a"
             ],
             [
              0.8888888888888888,
              "#fdca26"
             ],
             [
              1,
              "#f0f921"
             ]
            ],
            "type": "histogram2d"
           }
          ],
          "histogram2dcontour": [
           {
            "colorbar": {
             "outlinewidth": 0,
             "ticks": ""
            },
            "colorscale": [
             [
              0,
              "#0d0887"
             ],
             [
              0.1111111111111111,
              "#46039f"
             ],
             [
              0.2222222222222222,
              "#7201a8"
             ],
             [
              0.3333333333333333,
              "#9c179e"
             ],
             [
              0.4444444444444444,
              "#bd3786"
             ],
             [
              0.5555555555555556,
              "#d8576b"
             ],
             [
              0.6666666666666666,
              "#ed7953"
             ],
             [
              0.7777777777777778,
              "#fb9f3a"
             ],
             [
              0.8888888888888888,
              "#fdca26"
             ],
             [
              1,
              "#f0f921"
             ]
            ],
            "type": "histogram2dcontour"
           }
          ],
          "mesh3d": [
           {
            "colorbar": {
             "outlinewidth": 0,
             "ticks": ""
            },
            "type": "mesh3d"
           }
          ],
          "parcoords": [
           {
            "line": {
             "colorbar": {
              "outlinewidth": 0,
              "ticks": ""
             }
            },
            "type": "parcoords"
           }
          ],
          "pie": [
           {
            "automargin": true,
            "type": "pie"
           }
          ],
          "scatter": [
           {
            "marker": {
             "line": {
              "color": "#283442"
             }
            },
            "type": "scatter"
           }
          ],
          "scatter3d": [
           {
            "line": {
             "colorbar": {
              "outlinewidth": 0,
              "ticks": ""
             }
            },
            "marker": {
             "colorbar": {
              "outlinewidth": 0,
              "ticks": ""
             }
            },
            "type": "scatter3d"
           }
          ],
          "scattercarpet": [
           {
            "marker": {
             "colorbar": {
              "outlinewidth": 0,
              "ticks": ""
             }
            },
            "type": "scattercarpet"
           }
          ],
          "scattergeo": [
           {
            "marker": {
             "colorbar": {
              "outlinewidth": 0,
              "ticks": ""
             }
            },
            "type": "scattergeo"
           }
          ],
          "scattergl": [
           {
            "marker": {
             "line": {
              "color": "#283442"
             }
            },
            "type": "scattergl"
           }
          ],
          "scattermapbox": [
           {
            "marker": {
             "colorbar": {
              "outlinewidth": 0,
              "ticks": ""
             }
            },
            "type": "scattermapbox"
           }
          ],
          "scatterpolar": [
           {
            "marker": {
             "colorbar": {
              "outlinewidth": 0,
              "ticks": ""
             }
            },
            "type": "scatterpolar"
           }
          ],
          "scatterpolargl": [
           {
            "marker": {
             "colorbar": {
              "outlinewidth": 0,
              "ticks": ""
             }
            },
            "type": "scatterpolargl"
           }
          ],
          "scatterternary": [
           {
            "marker": {
             "colorbar": {
              "outlinewidth": 0,
              "ticks": ""
             }
            },
            "type": "scatterternary"
           }
          ],
          "surface": [
           {
            "colorbar": {
             "outlinewidth": 0,
             "ticks": ""
            },
            "colorscale": [
             [
              0,
              "#0d0887"
             ],
             [
              0.1111111111111111,
              "#46039f"
             ],
             [
              0.2222222222222222,
              "#7201a8"
             ],
             [
              0.3333333333333333,
              "#9c179e"
             ],
             [
              0.4444444444444444,
              "#bd3786"
             ],
             [
              0.5555555555555556,
              "#d8576b"
             ],
             [
              0.6666666666666666,
              "#ed7953"
             ],
             [
              0.7777777777777778,
              "#fb9f3a"
             ],
             [
              0.8888888888888888,
              "#fdca26"
             ],
             [
              1,
              "#f0f921"
             ]
            ],
            "type": "surface"
           }
          ],
          "table": [
           {
            "cells": {
             "fill": {
              "color": "#506784"
             },
             "line": {
              "color": "rgb(17,17,17)"
             }
            },
            "header": {
             "fill": {
              "color": "#2a3f5f"
             },
             "line": {
              "color": "rgb(17,17,17)"
             }
            },
            "type": "table"
           }
          ]
         },
         "layout": {
          "annotationdefaults": {
           "arrowcolor": "#f2f5fa",
           "arrowhead": 0,
           "arrowwidth": 1
          },
          "autotypenumbers": "strict",
          "coloraxis": {
           "colorbar": {
            "outlinewidth": 0,
            "ticks": ""
           }
          },
          "colorscale": {
           "diverging": [
            [
             0,
             "#8e0152"
            ],
            [
             0.1,
             "#c51b7d"
            ],
            [
             0.2,
             "#de77ae"
            ],
            [
             0.3,
             "#f1b6da"
            ],
            [
             0.4,
             "#fde0ef"
            ],
            [
             0.5,
             "#f7f7f7"
            ],
            [
             0.6,
             "#e6f5d0"
            ],
            [
             0.7,
             "#b8e186"
            ],
            [
             0.8,
             "#7fbc41"
            ],
            [
             0.9,
             "#4d9221"
            ],
            [
             1,
             "#276419"
            ]
           ],
           "sequential": [
            [
             0,
             "#0d0887"
            ],
            [
             0.1111111111111111,
             "#46039f"
            ],
            [
             0.2222222222222222,
             "#7201a8"
            ],
            [
             0.3333333333333333,
             "#9c179e"
            ],
            [
             0.4444444444444444,
             "#bd3786"
            ],
            [
             0.5555555555555556,
             "#d8576b"
            ],
            [
             0.6666666666666666,
             "#ed7953"
            ],
            [
             0.7777777777777778,
             "#fb9f3a"
            ],
            [
             0.8888888888888888,
             "#fdca26"
            ],
            [
             1,
             "#f0f921"
            ]
           ],
           "sequentialminus": [
            [
             0,
             "#0d0887"
            ],
            [
             0.1111111111111111,
             "#46039f"
            ],
            [
             0.2222222222222222,
             "#7201a8"
            ],
            [
             0.3333333333333333,
             "#9c179e"
            ],
            [
             0.4444444444444444,
             "#bd3786"
            ],
            [
             0.5555555555555556,
             "#d8576b"
            ],
            [
             0.6666666666666666,
             "#ed7953"
            ],
            [
             0.7777777777777778,
             "#fb9f3a"
            ],
            [
             0.8888888888888888,
             "#fdca26"
            ],
            [
             1,
             "#f0f921"
            ]
           ]
          },
          "colorway": [
           "#636efa",
           "#EF553B",
           "#00cc96",
           "#ab63fa",
           "#FFA15A",
           "#19d3f3",
           "#FF6692",
           "#B6E880",
           "#FF97FF",
           "#FECB52"
          ],
          "font": {
           "color": "#f2f5fa"
          },
          "geo": {
           "bgcolor": "rgb(17,17,17)",
           "lakecolor": "rgb(17,17,17)",
           "landcolor": "rgb(17,17,17)",
           "showlakes": true,
           "showland": true,
           "subunitcolor": "#506784"
          },
          "hoverlabel": {
           "align": "left"
          },
          "hovermode": "closest",
          "mapbox": {
           "style": "dark"
          },
          "paper_bgcolor": "rgb(17,17,17)",
          "plot_bgcolor": "rgb(17,17,17)",
          "polar": {
           "angularaxis": {
            "gridcolor": "#506784",
            "linecolor": "#506784",
            "ticks": ""
           },
           "bgcolor": "rgb(17,17,17)",
           "radialaxis": {
            "gridcolor": "#506784",
            "linecolor": "#506784",
            "ticks": ""
           }
          },
          "scene": {
           "xaxis": {
            "backgroundcolor": "rgb(17,17,17)",
            "gridcolor": "#506784",
            "gridwidth": 2,
            "linecolor": "#506784",
            "showbackground": true,
            "ticks": "",
            "zerolinecolor": "#C8D4E3"
           },
           "yaxis": {
            "backgroundcolor": "rgb(17,17,17)",
            "gridcolor": "#506784",
            "gridwidth": 2,
            "linecolor": "#506784",
            "showbackground": true,
            "ticks": "",
            "zerolinecolor": "#C8D4E3"
           },
           "zaxis": {
            "backgroundcolor": "rgb(17,17,17)",
            "gridcolor": "#506784",
            "gridwidth": 2,
            "linecolor": "#506784",
            "showbackground": true,
            "ticks": "",
            "zerolinecolor": "#C8D4E3"
           }
          },
          "shapedefaults": {
           "line": {
            "color": "#f2f5fa"
           }
          },
          "sliderdefaults": {
           "bgcolor": "#C8D4E3",
           "bordercolor": "rgb(17,17,17)",
           "borderwidth": 1,
           "tickwidth": 0
          },
          "ternary": {
           "aaxis": {
            "gridcolor": "#506784",
            "linecolor": "#506784",
            "ticks": ""
           },
           "baxis": {
            "gridcolor": "#506784",
            "linecolor": "#506784",
            "ticks": ""
           },
           "bgcolor": "rgb(17,17,17)",
           "caxis": {
            "gridcolor": "#506784",
            "linecolor": "#506784",
            "ticks": ""
           }
          },
          "title": {
           "x": 0.05
          },
          "updatemenudefaults": {
           "bgcolor": "#506784",
           "borderwidth": 0
          },
          "xaxis": {
           "automargin": true,
           "gridcolor": "#283442",
           "linecolor": "#506784",
           "ticks": "",
           "title": {
            "standoff": 15
           },
           "zerolinecolor": "#283442",
           "zerolinewidth": 2
          },
          "yaxis": {
           "automargin": true,
           "gridcolor": "#283442",
           "linecolor": "#506784",
           "ticks": "",
           "title": {
            "standoff": 15
           },
           "zerolinecolor": "#283442",
           "zerolinewidth": 2
          }
         }
        },
        "title": {
         "text": "Categories summary"
        },
        "width": 1920,
        "xaxis": {
         "anchor": "y",
         "constrain": "domain",
         "domain": [
          0,
          1
         ],
         "scaleanchor": "y"
        },
        "yaxis": {
         "anchor": "x",
         "autorange": "reversed",
         "constrain": "domain",
         "domain": [
          0,
          1
         ],
         "title": {
          "text": "categories"
         }
        }
       }
      }
     },
     "metadata": {},
     "output_type": "display_data"
    }
   ],
   "source": [
    "fig_categories_criteria_means = px.imshow(scores_df_matrix.groupby(\"categories\").mean(), title=\"Categories summary\")\n",
    "fig_categories_criteria_means.update_layout(height=980, width=1920)\n",
    "name = \"Categories summary\"\n",
    "fig_categories_criteria_means.write_image(f\"images/{name}.png\")\n",
    "name_to_figure.update({name: fig_categories_criteria_means})\n",
    "fig_categories_criteria_means"
   ]
  },
  {
   "cell_type": "code",
   "execution_count": 41,
   "metadata": {},
   "outputs": [
    {
     "data": {
      "application/vnd.plotly.v1+json": {
       "config": {
        "plotlyServerURL": "https://plot.ly"
       },
       "data": [
        {
         "hovertemplate": "<b>%{hovertext}</b><br><br>categories=Humanities<br>General score=%{x}<br>Real-world score=%{y}<br>Academic score=%{z}<extra></extra>",
         "hovertext": [
          "English 100",
          "Arabic 100",
          "Tech 140 - Computer Skills",
          "Entrepreneurship 101",
          "Fajab 101 - Health and Stuff",
          "Nahaj 101 - University Skills",
          "English 110"
         ],
         "legendgroup": "Humanities",
         "marker": {
          "color": "#636efa",
          "symbol": "circle"
         },
         "mode": "markers",
         "name": "Humanities",
         "scene": "scene",
         "showlegend": true,
         "type": "scatter3d",
         "x": [
          0.749898699939516,
          0.5594225094633256,
          0.6267301420384128,
          0.5305456170813313,
          0.5467420436706152,
          0.5942420436706152,
          0.7138581799153226
         ],
         "y": [
          0.9779688243950918,
          0.6442733761094108,
          0.765261801315045,
          0.6018948333784377,
          0.6001647936735754,
          0.6384042593844855,
          0.9185828046912444
         ],
         "z": [
          0.5870554405805813,
          0.561107386855189,
          0.5456048100290816,
          0.5217201937920268,
          0.5389238862628865,
          0.6615284401153654,
          0.5821176003901884
         ]
        },
        {
         "hovertemplate": "<b>%{hovertext}</b><br><br>categories=Mathematics<br>General score=%{x}<br>Real-world score=%{y}<br>Academic score=%{z}<extra></extra>",
         "hovertext": [
          "Math 101 - Derivative Math",
          "Statistics 101",
          "Math 106 - Integral Math",
          "Math 151 - Discrete Math",
          "MATH 244 - Linear Algebra",
          "Math 281 - Combinatorial Math"
         ],
         "legendgroup": "Mathematics",
         "marker": {
          "color": "#EF553B",
          "symbol": "diamond"
         },
         "mode": "markers",
         "name": "Mathematics",
         "scene": "scene",
         "showlegend": true,
         "type": "scatter3d",
         "x": [
          0.7720068027210882,
          0.7564285714285713,
          0.6743233082706769,
          0.8177210884353738,
          0.6740079365079364,
          0.7482589285714286
         ],
         "y": [
          0.8993914671450435,
          0.9277887532256133,
          0.7948633155034787,
          0.9549509123418473,
          0.8319080693849752,
          0.848301522883106
         ],
         "z": [
          0.8835931544417506,
          0.8045263933619646,
          0.7356957666377659,
          0.8680243222065153,
          0.7160222949806151,
          0.8463932664706852
         ]
        },
        {
         "hovertemplate": "<b>%{hovertext}</b><br><br>categories=Chemistry<br>General score=%{x}<br>Real-world score=%{y}<br>Academic score=%{z}<extra></extra>",
         "hovertext": [
          "Chemistry 101 - Intro To Chemistry"
         ],
         "legendgroup": "Chemistry",
         "marker": {
          "color": "#00cc96",
          "symbol": "square"
         },
         "mode": "markers",
         "name": "Chemistry",
         "scene": "scene",
         "showlegend": true,
         "type": "scatter3d",
         "x": [
          0.44534412955465597
         ],
         "y": [
          0.5207278415121291
         ],
         "z": [
          0.4381334124174956
         ]
        },
        {
         "hovertemplate": "<b>%{hovertext}</b><br><br>categories=Islamics<br>General score=%{x}<br>Real-world score=%{y}<br>Academic score=%{z}<extra></extra>",
         "hovertext": [
          "Salam 107 - Job Ethics",
          "Salam 108 - Modern Issues"
         ],
         "legendgroup": "Islamics",
         "marker": {
          "color": "#ab63fa",
          "symbol": "x"
         },
         "mode": "markers",
         "name": "Islamics",
         "scene": "scene",
         "showlegend": true,
         "type": "scatter3d",
         "x": [
          0.6597443181818182,
          0.5263257575757575
         ],
         "y": [
          0.7540268853117187,
          0.6348317219765752
         ],
         "z": [
          0.6386427865131337,
          0.41559641276425296
         ]
        },
        {
         "hovertemplate": "<b>%{hovertext}</b><br><br>categories=Physics<br>General score=%{x}<br>Real-world score=%{y}<br>Academic score=%{z}<extra></extra>",
         "hovertext": [
          "Physics 104 - Electrical Physics",
          "Physics 103 - Newtonian Physics"
         ],
         "legendgroup": "Physics",
         "marker": {
          "color": "#FFA15A",
          "symbol": "cross"
         },
         "mode": "markers",
         "name": "Physics",
         "scene": "scene",
         "showlegend": true,
         "type": "scatter3d",
         "x": [
          0.5193915343915344,
          0.542904761904762
         ],
         "y": [
          0.6249214222872881,
          0.6119161456507735
         ],
         "z": [
          0.5348902963781577,
          0.63585705654074
         ]
        },
        {
         "hovertemplate": "<b>%{hovertext}</b><br><br>categories=Computer science<br>General score=%{x}<br>Real-world score=%{y}<br>Academic score=%{z}<extra></extra>",
         "hovertext": [
          "CSC 111 – Computer Programming-I (3-2-1)",
          "CSC 113 – Computer Programming-II (3-2-1)",
          "CSC 220 – Computer Organization (2-2-1)",
          "CSC 212 – Data Structures (3-0-1)",
          "CSC 215 – Procedural Programming With C (2-2-1)",
          "CSC 304 – Ethical Issues in Computing & Research Methods (3-0-1)",
          "CSC 380 – Introduction to Database Concepts (3-0-1)",
          "CSC 227 – Operating Systems (3-0-1)",
          "CSC 311 – Design and Analysis of Algorithms (3-0-1)",
          "CSC 339 – Theory of Computation (3-0-1)",
          "CSC 343 - Intro To Software Engineering",
          "CSC 361 – Artificial Intelligence (3-0-1)",
          "CSC 329 – Computer Networks (3-0-1)",
          "CSC 340 – Programming Languages and Compilation (3-0-1)",
          "CSC 453 - Parallel Processing (3-0-1)",
          "CSC 496 – Graduation Project-I (2-0-0)",
          "CSC 443 – IT/Software project management (3-0-1)",
          "CSC 462 – Machine Learning (3-0-1)",
          "CSC 489 - Selected Topics in Computer Science"
         ],
         "legendgroup": "Computer science",
         "marker": {
          "color": "#19d3f3",
          "symbol": "circle"
         },
         "mode": "markers",
         "name": "Computer science",
         "scene": "scene",
         "showlegend": true,
         "type": "scatter3d",
         "x": [
          0.8492457289299392,
          0.7302189635541435,
          0.7396350192205458,
          0.8392999785302416,
          0.6764738698099021,
          0.612944020501915,
          0.676944020501915,
          0.6195133589607273,
          0.866180025627394,
          0.6795133589607274,
          0.5295133589607274,
          0.703416030752873,
          0.8495133589607273,
          0.586180025627394,
          0.5828466922940606,
          0.736308615361247,
          0.5785400768821822,
          0.8437955897254145,
          0.6913867691762428
         ],
         "y": [
          0.984843434749183,
          0.8406333062099555,
          0.8626353413356304,
          0.9436429139803574,
          0.8012115016310705,
          0.6763603594351192,
          0.7958809220292187,
          0.7405142410639604,
          0.993665432669519,
          0.6717424887776727,
          0.6592924301741204,
          0.8018223950119894,
          0.9711367551964248,
          0.6094921957599123,
          0.6581067103071156,
          0.898492054860952,
          0.683071195752947,
          1,
          0.7921896076367667
         ],
         "z": [
          0.9349870183190343,
          0.7752918542421352,
          0.8321113435746343,
          1,
          0.7810237348801041,
          0.5824363213356618,
          0.7277454221978591,
          0.6372272136307042,
          0.9914181469823101,
          0.846109046120113,
          0.5009999315723944,
          0.8191635691801691,
          0.9641726905706481,
          0.737127220473465,
          0.6463090324345916,
          0.7965816966117344,
          0.5494088203090136,
          0.9222908352720379,
          0.7325450937453514
         ]
        }
       ],
       "layout": {
        "height": 980,
        "legend": {
         "title": {
          "text": "categories"
         },
         "tracegroupgap": 0
        },
        "scene": {
         "domain": {
          "x": [
           0,
           1
          ],
          "y": [
           0,
           1
          ]
         },
         "xaxis": {
          "title": {
           "text": "General score"
          }
         },
         "yaxis": {
          "title": {
           "text": "Real-world score"
          }
         },
         "zaxis": {
          "title": {
           "text": "Academic score"
          }
         }
        },
        "template": {
         "data": {
          "bar": [
           {
            "error_x": {
             "color": "#f2f5fa"
            },
            "error_y": {
             "color": "#f2f5fa"
            },
            "marker": {
             "line": {
              "color": "rgb(17,17,17)",
              "width": 0.5
             },
             "pattern": {
              "fillmode": "overlay",
              "size": 10,
              "solidity": 0.2
             }
            },
            "type": "bar"
           }
          ],
          "barpolar": [
           {
            "marker": {
             "line": {
              "color": "rgb(17,17,17)",
              "width": 0.5
             },
             "pattern": {
              "fillmode": "overlay",
              "size": 10,
              "solidity": 0.2
             }
            },
            "type": "barpolar"
           }
          ],
          "carpet": [
           {
            "aaxis": {
             "endlinecolor": "#A2B1C6",
             "gridcolor": "#506784",
             "linecolor": "#506784",
             "minorgridcolor": "#506784",
             "startlinecolor": "#A2B1C6"
            },
            "baxis": {
             "endlinecolor": "#A2B1C6",
             "gridcolor": "#506784",
             "linecolor": "#506784",
             "minorgridcolor": "#506784",
             "startlinecolor": "#A2B1C6"
            },
            "type": "carpet"
           }
          ],
          "choropleth": [
           {
            "colorbar": {
             "outlinewidth": 0,
             "ticks": ""
            },
            "type": "choropleth"
           }
          ],
          "contour": [
           {
            "colorbar": {
             "outlinewidth": 0,
             "ticks": ""
            },
            "colorscale": [
             [
              0,
              "#0d0887"
             ],
             [
              0.1111111111111111,
              "#46039f"
             ],
             [
              0.2222222222222222,
              "#7201a8"
             ],
             [
              0.3333333333333333,
              "#9c179e"
             ],
             [
              0.4444444444444444,
              "#bd3786"
             ],
             [
              0.5555555555555556,
              "#d8576b"
             ],
             [
              0.6666666666666666,
              "#ed7953"
             ],
             [
              0.7777777777777778,
              "#fb9f3a"
             ],
             [
              0.8888888888888888,
              "#fdca26"
             ],
             [
              1,
              "#f0f921"
             ]
            ],
            "type": "contour"
           }
          ],
          "contourcarpet": [
           {
            "colorbar": {
             "outlinewidth": 0,
             "ticks": ""
            },
            "type": "contourcarpet"
           }
          ],
          "heatmap": [
           {
            "colorbar": {
             "outlinewidth": 0,
             "ticks": ""
            },
            "colorscale": [
             [
              0,
              "#0d0887"
             ],
             [
              0.1111111111111111,
              "#46039f"
             ],
             [
              0.2222222222222222,
              "#7201a8"
             ],
             [
              0.3333333333333333,
              "#9c179e"
             ],
             [
              0.4444444444444444,
              "#bd3786"
             ],
             [
              0.5555555555555556,
              "#d8576b"
             ],
             [
              0.6666666666666666,
              "#ed7953"
             ],
             [
              0.7777777777777778,
              "#fb9f3a"
             ],
             [
              0.8888888888888888,
              "#fdca26"
             ],
             [
              1,
              "#f0f921"
             ]
            ],
            "type": "heatmap"
           }
          ],
          "heatmapgl": [
           {
            "colorbar": {
             "outlinewidth": 0,
             "ticks": ""
            },
            "colorscale": [
             [
              0,
              "#0d0887"
             ],
             [
              0.1111111111111111,
              "#46039f"
             ],
             [
              0.2222222222222222,
              "#7201a8"
             ],
             [
              0.3333333333333333,
              "#9c179e"
             ],
             [
              0.4444444444444444,
              "#bd3786"
             ],
             [
              0.5555555555555556,
              "#d8576b"
             ],
             [
              0.6666666666666666,
              "#ed7953"
             ],
             [
              0.7777777777777778,
              "#fb9f3a"
             ],
             [
              0.8888888888888888,
              "#fdca26"
             ],
             [
              1,
              "#f0f921"
             ]
            ],
            "type": "heatmapgl"
           }
          ],
          "histogram": [
           {
            "marker": {
             "pattern": {
              "fillmode": "overlay",
              "size": 10,
              "solidity": 0.2
             }
            },
            "type": "histogram"
           }
          ],
          "histogram2d": [
           {
            "colorbar": {
             "outlinewidth": 0,
             "ticks": ""
            },
            "colorscale": [
             [
              0,
              "#0d0887"
             ],
             [
              0.1111111111111111,
              "#46039f"
             ],
             [
              0.2222222222222222,
              "#7201a8"
             ],
             [
              0.3333333333333333,
              "#9c179e"
             ],
             [
              0.4444444444444444,
              "#bd3786"
             ],
             [
              0.5555555555555556,
              "#d8576b"
             ],
             [
              0.6666666666666666,
              "#ed7953"
             ],
             [
              0.7777777777777778,
              "#fb9f3a"
             ],
             [
              0.8888888888888888,
              "#fdca26"
             ],
             [
              1,
              "#f0f921"
             ]
            ],
            "type": "histogram2d"
           }
          ],
          "histogram2dcontour": [
           {
            "colorbar": {
             "outlinewidth": 0,
             "ticks": ""
            },
            "colorscale": [
             [
              0,
              "#0d0887"
             ],
             [
              0.1111111111111111,
              "#46039f"
             ],
             [
              0.2222222222222222,
              "#7201a8"
             ],
             [
              0.3333333333333333,
              "#9c179e"
             ],
             [
              0.4444444444444444,
              "#bd3786"
             ],
             [
              0.5555555555555556,
              "#d8576b"
             ],
             [
              0.6666666666666666,
              "#ed7953"
             ],
             [
              0.7777777777777778,
              "#fb9f3a"
             ],
             [
              0.8888888888888888,
              "#fdca26"
             ],
             [
              1,
              "#f0f921"
             ]
            ],
            "type": "histogram2dcontour"
           }
          ],
          "mesh3d": [
           {
            "colorbar": {
             "outlinewidth": 0,
             "ticks": ""
            },
            "type": "mesh3d"
           }
          ],
          "parcoords": [
           {
            "line": {
             "colorbar": {
              "outlinewidth": 0,
              "ticks": ""
             }
            },
            "type": "parcoords"
           }
          ],
          "pie": [
           {
            "automargin": true,
            "type": "pie"
           }
          ],
          "scatter": [
           {
            "marker": {
             "line": {
              "color": "#283442"
             }
            },
            "type": "scatter"
           }
          ],
          "scatter3d": [
           {
            "line": {
             "colorbar": {
              "outlinewidth": 0,
              "ticks": ""
             }
            },
            "marker": {
             "colorbar": {
              "outlinewidth": 0,
              "ticks": ""
             }
            },
            "type": "scatter3d"
           }
          ],
          "scattercarpet": [
           {
            "marker": {
             "colorbar": {
              "outlinewidth": 0,
              "ticks": ""
             }
            },
            "type": "scattercarpet"
           }
          ],
          "scattergeo": [
           {
            "marker": {
             "colorbar": {
              "outlinewidth": 0,
              "ticks": ""
             }
            },
            "type": "scattergeo"
           }
          ],
          "scattergl": [
           {
            "marker": {
             "line": {
              "color": "#283442"
             }
            },
            "type": "scattergl"
           }
          ],
          "scattermapbox": [
           {
            "marker": {
             "colorbar": {
              "outlinewidth": 0,
              "ticks": ""
             }
            },
            "type": "scattermapbox"
           }
          ],
          "scatterpolar": [
           {
            "marker": {
             "colorbar": {
              "outlinewidth": 0,
              "ticks": ""
             }
            },
            "type": "scatterpolar"
           }
          ],
          "scatterpolargl": [
           {
            "marker": {
             "colorbar": {
              "outlinewidth": 0,
              "ticks": ""
             }
            },
            "type": "scatterpolargl"
           }
          ],
          "scatterternary": [
           {
            "marker": {
             "colorbar": {
              "outlinewidth": 0,
              "ticks": ""
             }
            },
            "type": "scatterternary"
           }
          ],
          "surface": [
           {
            "colorbar": {
             "outlinewidth": 0,
             "ticks": ""
            },
            "colorscale": [
             [
              0,
              "#0d0887"
             ],
             [
              0.1111111111111111,
              "#46039f"
             ],
             [
              0.2222222222222222,
              "#7201a8"
             ],
             [
              0.3333333333333333,
              "#9c179e"
             ],
             [
              0.4444444444444444,
              "#bd3786"
             ],
             [
              0.5555555555555556,
              "#d8576b"
             ],
             [
              0.6666666666666666,
              "#ed7953"
             ],
             [
              0.7777777777777778,
              "#fb9f3a"
             ],
             [
              0.8888888888888888,
              "#fdca26"
             ],
             [
              1,
              "#f0f921"
             ]
            ],
            "type": "surface"
           }
          ],
          "table": [
           {
            "cells": {
             "fill": {
              "color": "#506784"
             },
             "line": {
              "color": "rgb(17,17,17)"
             }
            },
            "header": {
             "fill": {
              "color": "#2a3f5f"
             },
             "line": {
              "color": "rgb(17,17,17)"
             }
            },
            "type": "table"
           }
          ]
         },
         "layout": {
          "annotationdefaults": {
           "arrowcolor": "#f2f5fa",
           "arrowhead": 0,
           "arrowwidth": 1
          },
          "autotypenumbers": "strict",
          "coloraxis": {
           "colorbar": {
            "outlinewidth": 0,
            "ticks": ""
           }
          },
          "colorscale": {
           "diverging": [
            [
             0,
             "#8e0152"
            ],
            [
             0.1,
             "#c51b7d"
            ],
            [
             0.2,
             "#de77ae"
            ],
            [
             0.3,
             "#f1b6da"
            ],
            [
             0.4,
             "#fde0ef"
            ],
            [
             0.5,
             "#f7f7f7"
            ],
            [
             0.6,
             "#e6f5d0"
            ],
            [
             0.7,
             "#b8e186"
            ],
            [
             0.8,
             "#7fbc41"
            ],
            [
             0.9,
             "#4d9221"
            ],
            [
             1,
             "#276419"
            ]
           ],
           "sequential": [
            [
             0,
             "#0d0887"
            ],
            [
             0.1111111111111111,
             "#46039f"
            ],
            [
             0.2222222222222222,
             "#7201a8"
            ],
            [
             0.3333333333333333,
             "#9c179e"
            ],
            [
             0.4444444444444444,
             "#bd3786"
            ],
            [
             0.5555555555555556,
             "#d8576b"
            ],
            [
             0.6666666666666666,
             "#ed7953"
            ],
            [
             0.7777777777777778,
             "#fb9f3a"
            ],
            [
             0.8888888888888888,
             "#fdca26"
            ],
            [
             1,
             "#f0f921"
            ]
           ],
           "sequentialminus": [
            [
             0,
             "#0d0887"
            ],
            [
             0.1111111111111111,
             "#46039f"
            ],
            [
             0.2222222222222222,
             "#7201a8"
            ],
            [
             0.3333333333333333,
             "#9c179e"
            ],
            [
             0.4444444444444444,
             "#bd3786"
            ],
            [
             0.5555555555555556,
             "#d8576b"
            ],
            [
             0.6666666666666666,
             "#ed7953"
            ],
            [
             0.7777777777777778,
             "#fb9f3a"
            ],
            [
             0.8888888888888888,
             "#fdca26"
            ],
            [
             1,
             "#f0f921"
            ]
           ]
          },
          "colorway": [
           "#636efa",
           "#EF553B",
           "#00cc96",
           "#ab63fa",
           "#FFA15A",
           "#19d3f3",
           "#FF6692",
           "#B6E880",
           "#FF97FF",
           "#FECB52"
          ],
          "font": {
           "color": "#f2f5fa"
          },
          "geo": {
           "bgcolor": "rgb(17,17,17)",
           "lakecolor": "rgb(17,17,17)",
           "landcolor": "rgb(17,17,17)",
           "showlakes": true,
           "showland": true,
           "subunitcolor": "#506784"
          },
          "hoverlabel": {
           "align": "left"
          },
          "hovermode": "closest",
          "mapbox": {
           "style": "dark"
          },
          "paper_bgcolor": "rgb(17,17,17)",
          "plot_bgcolor": "rgb(17,17,17)",
          "polar": {
           "angularaxis": {
            "gridcolor": "#506784",
            "linecolor": "#506784",
            "ticks": ""
           },
           "bgcolor": "rgb(17,17,17)",
           "radialaxis": {
            "gridcolor": "#506784",
            "linecolor": "#506784",
            "ticks": ""
           }
          },
          "scene": {
           "xaxis": {
            "backgroundcolor": "rgb(17,17,17)",
            "gridcolor": "#506784",
            "gridwidth": 2,
            "linecolor": "#506784",
            "showbackground": true,
            "ticks": "",
            "zerolinecolor": "#C8D4E3"
           },
           "yaxis": {
            "backgroundcolor": "rgb(17,17,17)",
            "gridcolor": "#506784",
            "gridwidth": 2,
            "linecolor": "#506784",
            "showbackground": true,
            "ticks": "",
            "zerolinecolor": "#C8D4E3"
           },
           "zaxis": {
            "backgroundcolor": "rgb(17,17,17)",
            "gridcolor": "#506784",
            "gridwidth": 2,
            "linecolor": "#506784",
            "showbackground": true,
            "ticks": "",
            "zerolinecolor": "#C8D4E3"
           }
          },
          "shapedefaults": {
           "line": {
            "color": "#f2f5fa"
           }
          },
          "sliderdefaults": {
           "bgcolor": "#C8D4E3",
           "bordercolor": "rgb(17,17,17)",
           "borderwidth": 1,
           "tickwidth": 0
          },
          "ternary": {
           "aaxis": {
            "gridcolor": "#506784",
            "linecolor": "#506784",
            "ticks": ""
           },
           "baxis": {
            "gridcolor": "#506784",
            "linecolor": "#506784",
            "ticks": ""
           },
           "bgcolor": "rgb(17,17,17)",
           "caxis": {
            "gridcolor": "#506784",
            "linecolor": "#506784",
            "ticks": ""
           }
          },
          "title": {
           "x": 0.05
          },
          "updatemenudefaults": {
           "bgcolor": "#506784",
           "borderwidth": 0
          },
          "xaxis": {
           "automargin": true,
           "gridcolor": "#283442",
           "linecolor": "#506784",
           "ticks": "",
           "title": {
            "standoff": 15
           },
           "zerolinecolor": "#283442",
           "zerolinewidth": 2
          },
          "yaxis": {
           "automargin": true,
           "gridcolor": "#283442",
           "linecolor": "#506784",
           "ticks": "",
           "title": {
            "standoff": 15
           },
           "zerolinecolor": "#283442",
           "zerolinewidth": 2
          }
         }
        },
        "title": {
         "text": "3D-Scatter plot of all scores"
        },
        "width": 1920
       }
      }
     },
     "metadata": {},
     "output_type": "display_data"
    }
   ],
   "source": [
    "all_scores = weighted_scores.copy()\n",
    "all_scores[\"General score\"] = general_scores\n",
    "all_scores[\"categories\"] = categories.values\n",
    "fig_scatter_3d = px.scatter_3d(all_scores, x=\"General score\", y=\"Real-world score\", z=\"Academic score\", symbol=\"categories\", color=\"categories\", hover_name=course_info_df.Description, title=\"3D-Scatter plot of all scores\")\n",
    "fig_scatter_3d.update_layout(height=980, width=1920)\n",
    "name = \"3d_scatter_scores\"\n",
    "fig_scatter_3d.write_image(f\"images/{name}.png\")\n",
    "name_to_figure.update({name: fig_scatter_3d})\n",
    "fig_scatter_3d"
   ]
  },
  {
   "cell_type": "code",
   "execution_count": 42,
   "metadata": {},
   "outputs": [
    {
     "data": {
      "application/vnd.plotly.v1+json": {
       "config": {
        "plotlyServerURL": "https://plot.ly"
       },
       "data": [
        {
         "coloraxis": "coloraxis",
         "hovertemplate": "x: %{x}<br>y: %{y}<br>color: %{z}<extra></extra>",
         "name": "0",
         "type": "heatmap",
         "x": [
          "Real-world score",
          "Academic score",
          "General score"
         ],
         "xaxis": "x",
         "y": [
          "Real-world score",
          "Academic score",
          "General score"
         ],
         "yaxis": "y",
         "z": [
          [
           1,
           0.7551857315509194,
           0.9567719542161347
          ],
          [
           0.7551857315509194,
           1,
           0.8925994206832385
          ],
          [
           0.9567719542161347,
           0.8925994206832385,
           1
          ]
         ]
        }
       ],
       "layout": {
        "coloraxis": {
         "colorscale": [
          [
           0,
           "#0d0887"
          ],
          [
           0.1111111111111111,
           "#46039f"
          ],
          [
           0.2222222222222222,
           "#7201a8"
          ],
          [
           0.3333333333333333,
           "#9c179e"
          ],
          [
           0.4444444444444444,
           "#bd3786"
          ],
          [
           0.5555555555555556,
           "#d8576b"
          ],
          [
           0.6666666666666666,
           "#ed7953"
          ],
          [
           0.7777777777777778,
           "#fb9f3a"
          ],
          [
           0.8888888888888888,
           "#fdca26"
          ],
          [
           1,
           "#f0f921"
          ]
         ]
        },
        "height": 980,
        "template": {
         "data": {
          "bar": [
           {
            "error_x": {
             "color": "#f2f5fa"
            },
            "error_y": {
             "color": "#f2f5fa"
            },
            "marker": {
             "line": {
              "color": "rgb(17,17,17)",
              "width": 0.5
             },
             "pattern": {
              "fillmode": "overlay",
              "size": 10,
              "solidity": 0.2
             }
            },
            "type": "bar"
           }
          ],
          "barpolar": [
           {
            "marker": {
             "line": {
              "color": "rgb(17,17,17)",
              "width": 0.5
             },
             "pattern": {
              "fillmode": "overlay",
              "size": 10,
              "solidity": 0.2
             }
            },
            "type": "barpolar"
           }
          ],
          "carpet": [
           {
            "aaxis": {
             "endlinecolor": "#A2B1C6",
             "gridcolor": "#506784",
             "linecolor": "#506784",
             "minorgridcolor": "#506784",
             "startlinecolor": "#A2B1C6"
            },
            "baxis": {
             "endlinecolor": "#A2B1C6",
             "gridcolor": "#506784",
             "linecolor": "#506784",
             "minorgridcolor": "#506784",
             "startlinecolor": "#A2B1C6"
            },
            "type": "carpet"
           }
          ],
          "choropleth": [
           {
            "colorbar": {
             "outlinewidth": 0,
             "ticks": ""
            },
            "type": "choropleth"
           }
          ],
          "contour": [
           {
            "colorbar": {
             "outlinewidth": 0,
             "ticks": ""
            },
            "colorscale": [
             [
              0,
              "#0d0887"
             ],
             [
              0.1111111111111111,
              "#46039f"
             ],
             [
              0.2222222222222222,
              "#7201a8"
             ],
             [
              0.3333333333333333,
              "#9c179e"
             ],
             [
              0.4444444444444444,
              "#bd3786"
             ],
             [
              0.5555555555555556,
              "#d8576b"
             ],
             [
              0.6666666666666666,
              "#ed7953"
             ],
             [
              0.7777777777777778,
              "#fb9f3a"
             ],
             [
              0.8888888888888888,
              "#fdca26"
             ],
             [
              1,
              "#f0f921"
             ]
            ],
            "type": "contour"
           }
          ],
          "contourcarpet": [
           {
            "colorbar": {
             "outlinewidth": 0,
             "ticks": ""
            },
            "type": "contourcarpet"
           }
          ],
          "heatmap": [
           {
            "colorbar": {
             "outlinewidth": 0,
             "ticks": ""
            },
            "colorscale": [
             [
              0,
              "#0d0887"
             ],
             [
              0.1111111111111111,
              "#46039f"
             ],
             [
              0.2222222222222222,
              "#7201a8"
             ],
             [
              0.3333333333333333,
              "#9c179e"
             ],
             [
              0.4444444444444444,
              "#bd3786"
             ],
             [
              0.5555555555555556,
              "#d8576b"
             ],
             [
              0.6666666666666666,
              "#ed7953"
             ],
             [
              0.7777777777777778,
              "#fb9f3a"
             ],
             [
              0.8888888888888888,
              "#fdca26"
             ],
             [
              1,
              "#f0f921"
             ]
            ],
            "type": "heatmap"
           }
          ],
          "heatmapgl": [
           {
            "colorbar": {
             "outlinewidth": 0,
             "ticks": ""
            },
            "colorscale": [
             [
              0,
              "#0d0887"
             ],
             [
              0.1111111111111111,
              "#46039f"
             ],
             [
              0.2222222222222222,
              "#7201a8"
             ],
             [
              0.3333333333333333,
              "#9c179e"
             ],
             [
              0.4444444444444444,
              "#bd3786"
             ],
             [
              0.5555555555555556,
              "#d8576b"
             ],
             [
              0.6666666666666666,
              "#ed7953"
             ],
             [
              0.7777777777777778,
              "#fb9f3a"
             ],
             [
              0.8888888888888888,
              "#fdca26"
             ],
             [
              1,
              "#f0f921"
             ]
            ],
            "type": "heatmapgl"
           }
          ],
          "histogram": [
           {
            "marker": {
             "pattern": {
              "fillmode": "overlay",
              "size": 10,
              "solidity": 0.2
             }
            },
            "type": "histogram"
           }
          ],
          "histogram2d": [
           {
            "colorbar": {
             "outlinewidth": 0,
             "ticks": ""
            },
            "colorscale": [
             [
              0,
              "#0d0887"
             ],
             [
              0.1111111111111111,
              "#46039f"
             ],
             [
              0.2222222222222222,
              "#7201a8"
             ],
             [
              0.3333333333333333,
              "#9c179e"
             ],
             [
              0.4444444444444444,
              "#bd3786"
             ],
             [
              0.5555555555555556,
              "#d8576b"
             ],
             [
              0.6666666666666666,
              "#ed7953"
             ],
             [
              0.7777777777777778,
              "#fb9f3a"
             ],
             [
              0.8888888888888888,
              "#fdca26"
             ],
             [
              1,
              "#f0f921"
             ]
            ],
            "type": "histogram2d"
           }
          ],
          "histogram2dcontour": [
           {
            "colorbar": {
             "outlinewidth": 0,
             "ticks": ""
            },
            "colorscale": [
             [
              0,
              "#0d0887"
             ],
             [
              0.1111111111111111,
              "#46039f"
             ],
             [
              0.2222222222222222,
              "#7201a8"
             ],
             [
              0.3333333333333333,
              "#9c179e"
             ],
             [
              0.4444444444444444,
              "#bd3786"
             ],
             [
              0.5555555555555556,
              "#d8576b"
             ],
             [
              0.6666666666666666,
              "#ed7953"
             ],
             [
              0.7777777777777778,
              "#fb9f3a"
             ],
             [
              0.8888888888888888,
              "#fdca26"
             ],
             [
              1,
              "#f0f921"
             ]
            ],
            "type": "histogram2dcontour"
           }
          ],
          "mesh3d": [
           {
            "colorbar": {
             "outlinewidth": 0,
             "ticks": ""
            },
            "type": "mesh3d"
           }
          ],
          "parcoords": [
           {
            "line": {
             "colorbar": {
              "outlinewidth": 0,
              "ticks": ""
             }
            },
            "type": "parcoords"
           }
          ],
          "pie": [
           {
            "automargin": true,
            "type": "pie"
           }
          ],
          "scatter": [
           {
            "marker": {
             "line": {
              "color": "#283442"
             }
            },
            "type": "scatter"
           }
          ],
          "scatter3d": [
           {
            "line": {
             "colorbar": {
              "outlinewidth": 0,
              "ticks": ""
             }
            },
            "marker": {
             "colorbar": {
              "outlinewidth": 0,
              "ticks": ""
             }
            },
            "type": "scatter3d"
           }
          ],
          "scattercarpet": [
           {
            "marker": {
             "colorbar": {
              "outlinewidth": 0,
              "ticks": ""
             }
            },
            "type": "scattercarpet"
           }
          ],
          "scattergeo": [
           {
            "marker": {
             "colorbar": {
              "outlinewidth": 0,
              "ticks": ""
             }
            },
            "type": "scattergeo"
           }
          ],
          "scattergl": [
           {
            "marker": {
             "line": {
              "color": "#283442"
             }
            },
            "type": "scattergl"
           }
          ],
          "scattermapbox": [
           {
            "marker": {
             "colorbar": {
              "outlinewidth": 0,
              "ticks": ""
             }
            },
            "type": "scattermapbox"
           }
          ],
          "scatterpolar": [
           {
            "marker": {
             "colorbar": {
              "outlinewidth": 0,
              "ticks": ""
             }
            },
            "type": "scatterpolar"
           }
          ],
          "scatterpolargl": [
           {
            "marker": {
             "colorbar": {
              "outlinewidth": 0,
              "ticks": ""
             }
            },
            "type": "scatterpolargl"
           }
          ],
          "scatterternary": [
           {
            "marker": {
             "colorbar": {
              "outlinewidth": 0,
              "ticks": ""
             }
            },
            "type": "scatterternary"
           }
          ],
          "surface": [
           {
            "colorbar": {
             "outlinewidth": 0,
             "ticks": ""
            },
            "colorscale": [
             [
              0,
              "#0d0887"
             ],
             [
              0.1111111111111111,
              "#46039f"
             ],
             [
              0.2222222222222222,
              "#7201a8"
             ],
             [
              0.3333333333333333,
              "#9c179e"
             ],
             [
              0.4444444444444444,
              "#bd3786"
             ],
             [
              0.5555555555555556,
              "#d8576b"
             ],
             [
              0.6666666666666666,
              "#ed7953"
             ],
             [
              0.7777777777777778,
              "#fb9f3a"
             ],
             [
              0.8888888888888888,
              "#fdca26"
             ],
             [
              1,
              "#f0f921"
             ]
            ],
            "type": "surface"
           }
          ],
          "table": [
           {
            "cells": {
             "fill": {
              "color": "#506784"
             },
             "line": {
              "color": "rgb(17,17,17)"
             }
            },
            "header": {
             "fill": {
              "color": "#2a3f5f"
             },
             "line": {
              "color": "rgb(17,17,17)"
             }
            },
            "type": "table"
           }
          ]
         },
         "layout": {
          "annotationdefaults": {
           "arrowcolor": "#f2f5fa",
           "arrowhead": 0,
           "arrowwidth": 1
          },
          "autotypenumbers": "strict",
          "coloraxis": {
           "colorbar": {
            "outlinewidth": 0,
            "ticks": ""
           }
          },
          "colorscale": {
           "diverging": [
            [
             0,
             "#8e0152"
            ],
            [
             0.1,
             "#c51b7d"
            ],
            [
             0.2,
             "#de77ae"
            ],
            [
             0.3,
             "#f1b6da"
            ],
            [
             0.4,
             "#fde0ef"
            ],
            [
             0.5,
             "#f7f7f7"
            ],
            [
             0.6,
             "#e6f5d0"
            ],
            [
             0.7,
             "#b8e186"
            ],
            [
             0.8,
             "#7fbc41"
            ],
            [
             0.9,
             "#4d9221"
            ],
            [
             1,
             "#276419"
            ]
           ],
           "sequential": [
            [
             0,
             "#0d0887"
            ],
            [
             0.1111111111111111,
             "#46039f"
            ],
            [
             0.2222222222222222,
             "#7201a8"
            ],
            [
             0.3333333333333333,
             "#9c179e"
            ],
            [
             0.4444444444444444,
             "#bd3786"
            ],
            [
             0.5555555555555556,
             "#d8576b"
            ],
            [
             0.6666666666666666,
             "#ed7953"
            ],
            [
             0.7777777777777778,
             "#fb9f3a"
            ],
            [
             0.8888888888888888,
             "#fdca26"
            ],
            [
             1,
             "#f0f921"
            ]
           ],
           "sequentialminus": [
            [
             0,
             "#0d0887"
            ],
            [
             0.1111111111111111,
             "#46039f"
            ],
            [
             0.2222222222222222,
             "#7201a8"
            ],
            [
             0.3333333333333333,
             "#9c179e"
            ],
            [
             0.4444444444444444,
             "#bd3786"
            ],
            [
             0.5555555555555556,
             "#d8576b"
            ],
            [
             0.6666666666666666,
             "#ed7953"
            ],
            [
             0.7777777777777778,
             "#fb9f3a"
            ],
            [
             0.8888888888888888,
             "#fdca26"
            ],
            [
             1,
             "#f0f921"
            ]
           ]
          },
          "colorway": [
           "#636efa",
           "#EF553B",
           "#00cc96",
           "#ab63fa",
           "#FFA15A",
           "#19d3f3",
           "#FF6692",
           "#B6E880",
           "#FF97FF",
           "#FECB52"
          ],
          "font": {
           "color": "#f2f5fa"
          },
          "geo": {
           "bgcolor": "rgb(17,17,17)",
           "lakecolor": "rgb(17,17,17)",
           "landcolor": "rgb(17,17,17)",
           "showlakes": true,
           "showland": true,
           "subunitcolor": "#506784"
          },
          "hoverlabel": {
           "align": "left"
          },
          "hovermode": "closest",
          "mapbox": {
           "style": "dark"
          },
          "paper_bgcolor": "rgb(17,17,17)",
          "plot_bgcolor": "rgb(17,17,17)",
          "polar": {
           "angularaxis": {
            "gridcolor": "#506784",
            "linecolor": "#506784",
            "ticks": ""
           },
           "bgcolor": "rgb(17,17,17)",
           "radialaxis": {
            "gridcolor": "#506784",
            "linecolor": "#506784",
            "ticks": ""
           }
          },
          "scene": {
           "xaxis": {
            "backgroundcolor": "rgb(17,17,17)",
            "gridcolor": "#506784",
            "gridwidth": 2,
            "linecolor": "#506784",
            "showbackground": true,
            "ticks": "",
            "zerolinecolor": "#C8D4E3"
           },
           "yaxis": {
            "backgroundcolor": "rgb(17,17,17)",
            "gridcolor": "#506784",
            "gridwidth": 2,
            "linecolor": "#506784",
            "showbackground": true,
            "ticks": "",
            "zerolinecolor": "#C8D4E3"
           },
           "zaxis": {
            "backgroundcolor": "rgb(17,17,17)",
            "gridcolor": "#506784",
            "gridwidth": 2,
            "linecolor": "#506784",
            "showbackground": true,
            "ticks": "",
            "zerolinecolor": "#C8D4E3"
           }
          },
          "shapedefaults": {
           "line": {
            "color": "#f2f5fa"
           }
          },
          "sliderdefaults": {
           "bgcolor": "#C8D4E3",
           "bordercolor": "rgb(17,17,17)",
           "borderwidth": 1,
           "tickwidth": 0
          },
          "ternary": {
           "aaxis": {
            "gridcolor": "#506784",
            "linecolor": "#506784",
            "ticks": ""
           },
           "baxis": {
            "gridcolor": "#506784",
            "linecolor": "#506784",
            "ticks": ""
           },
           "bgcolor": "rgb(17,17,17)",
           "caxis": {
            "gridcolor": "#506784",
            "linecolor": "#506784",
            "ticks": ""
           }
          },
          "title": {
           "x": 0.05
          },
          "updatemenudefaults": {
           "bgcolor": "#506784",
           "borderwidth": 0
          },
          "xaxis": {
           "automargin": true,
           "gridcolor": "#283442",
           "linecolor": "#506784",
           "ticks": "",
           "title": {
            "standoff": 15
           },
           "zerolinecolor": "#283442",
           "zerolinewidth": 2
          },
          "yaxis": {
           "automargin": true,
           "gridcolor": "#283442",
           "linecolor": "#506784",
           "ticks": "",
           "title": {
            "standoff": 15
           },
           "zerolinecolor": "#283442",
           "zerolinewidth": 2
          }
         }
        },
        "title": {
         "text": "Correlation of score types"
        },
        "width": 1920,
        "xaxis": {
         "anchor": "y",
         "constrain": "domain",
         "domain": [
          0,
          1
         ],
         "scaleanchor": "y"
        },
        "yaxis": {
         "anchor": "x",
         "autorange": "reversed",
         "constrain": "domain",
         "domain": [
          0,
          1
         ]
        }
       }
      }
     },
     "metadata": {},
     "output_type": "display_data"
    }
   ],
   "source": [
    "fig_corr = px.imshow(all_scores.corr(), title=\"Correlation of score types\")\n",
    "fig_corr.update_layout(height=980, width=1920)\n",
    "name = \"Correlation of score types\"\n",
    "fig_corr.write_image(f\"images/{name}.png\")\n",
    "name_to_figure.update({name: fig_corr})\n",
    "fig_corr"
   ]
  },
  {
   "cell_type": "markdown",
   "metadata": {},
   "source": [
    "# Generate site"
   ]
  },
  {
   "cell_type": "code",
   "execution_count": 43,
   "metadata": {},
   "outputs": [],
   "source": [
    "with open(\"index_empty.html.test\") as file:\n",
    "    html = file.read()"
   ]
  },
  {
   "cell_type": "code",
   "execution_count": 44,
   "metadata": {},
   "outputs": [],
   "source": [
    "with open(\"index.html\", \"w\") as file:\n",
    "    file.write(html)\n",
    "    for figure in name_to_figure.values():\n",
    "        file.write(figure.to_html(full_html=False, include_plotlyjs=False))\n",
    "    file.write(\"</div></body></html>\")"
   ]
  },
  {
   "cell_type": "markdown",
   "metadata": {},
   "source": [
    "# Meta stats"
   ]
  },
  {
   "cell_type": "code",
   "execution_count": 45,
   "metadata": {},
   "outputs": [
    {
     "data": {
      "text/plain": [
       "count    37.000000\n",
       "mean     10.000000\n",
       "std       3.109126\n",
       "min       2.000000\n",
       "25%       8.000000\n",
       "50%      11.000000\n",
       "75%      13.000000\n",
       "max      14.000000\n",
       "dtype: float64"
      ]
     },
     "execution_count": 45,
     "metadata": {},
     "output_type": "execute_result"
    }
   ],
   "source": [
    "get_course_to_num_ranking_series(df).describe()"
   ]
  },
  {
   "cell_type": "markdown",
   "metadata": {},
   "source": [
    "# Research stuff"
   ]
  },
  {
   "cell_type": "code",
   "execution_count": 46,
   "metadata": {},
   "outputs": [
    {
     "name": "stdout",
     "output_type": "stream",
     "text": [
      "\\begin{tabular}{lrrrl}\n",
      "\\toprule\n",
      "{} &  Real-world score &  Academic score &  General score &        categories \\\\\n",
      "\\midrule\n",
      "ENGLISH100      &          0.977969 &        0.587055 &       0.749899 &        Humanities \\\\\n",
      "ARB100          &          0.644273 &        0.561107 &       0.559423 &        Humanities \\\\\n",
      "MATH101         &          0.899391 &        0.883593 &       0.772007 &       Mathematics \\\\\n",
      "CHEM101         &          0.520728 &        0.438133 &       0.445344 &         Chemistry \\\\\n",
      "STAT101         &          0.927789 &        0.804526 &       0.756429 &       Mathematics \\\\\n",
      "TECH101         &          0.765262 &        0.545605 &       0.626730 &        Humanities \\\\\n",
      "ENTREPRENEUR101 &          0.601895 &        0.521720 &       0.530546 &        Humanities \\\\\n",
      "FAJAB101        &          0.600165 &        0.538924 &       0.546742 &        Humanities \\\\\n",
      "NAHAJ101        &          0.638404 &        0.661528 &       0.594242 &        Humanities \\\\\n",
      "ENGLISH110      &          0.918583 &        0.582118 &       0.713858 &        Humanities \\\\\n",
      "SALAM107        &          0.754027 &        0.638643 &       0.659744 &          Islamics \\\\\n",
      "PHYS104         &          0.624921 &        0.534890 &       0.519392 &           Physics \\\\\n",
      "MATH106         &          0.794863 &        0.735696 &       0.674323 &       Mathematics \\\\\n",
      "CSC111          &          0.984843 &        0.934987 &       0.849246 &  Computer science \\\\\n",
      "MATH151         &          0.954951 &        0.868024 &       0.817721 &       Mathematics \\\\\n",
      "SALAM108        &          0.634832 &        0.415596 &       0.526326 &          Islamics \\\\\n",
      "CSC113          &          0.840633 &        0.775292 &       0.730219 &  Computer science \\\\\n",
      "CSC220          &          0.862635 &        0.832111 &       0.739635 &  Computer science \\\\\n",
      "MATH244         &          0.831908 &        0.716022 &       0.674008 &       Mathematics \\\\\n",
      "CSC212          &          0.943643 &        1.000000 &       0.839300 &  Computer science \\\\\n",
      "CSC215          &          0.801212 &        0.781024 &       0.676474 &  Computer science \\\\\n",
      "MATH281         &          0.848302 &        0.846393 &       0.748259 &       Mathematics \\\\\n",
      "CSC304          &          0.676360 &        0.582436 &       0.612944 &  Computer science \\\\\n",
      "CSC380          &          0.795881 &        0.727745 &       0.676944 &  Computer science \\\\\n",
      "CSC227          &          0.740514 &        0.637227 &       0.619513 &  Computer science \\\\\n",
      "CSC311          &          0.993665 &        0.991418 &       0.866180 &  Computer science \\\\\n",
      "CSC339          &          0.671742 &        0.846109 &       0.679513 &  Computer science \\\\\n",
      "CSC343          &          0.659292 &        0.501000 &       0.529513 &  Computer science \\\\\n",
      "CSC361          &          0.801822 &        0.819164 &       0.703416 &  Computer science \\\\\n",
      "CSC329          &          0.971137 &        0.964173 &       0.849513 &  Computer science \\\\\n",
      "CSC340          &          0.609492 &        0.737127 &       0.586180 &  Computer science \\\\\n",
      "CSC453          &          0.658107 &        0.646309 &       0.582847 &  Computer science \\\\\n",
      "CSC496          &          0.898492 &        0.796582 &       0.736309 &  Computer science \\\\\n",
      "PHYS103         &          0.611916 &        0.635857 &       0.542905 &           Physics \\\\\n",
      "CSC443          &          0.683071 &        0.549409 &       0.578540 &  Computer science \\\\\n",
      "CSC462          &          1.000000 &        0.922291 &       0.843796 &  Computer science \\\\\n",
      "CSC489          &          0.792190 &        0.732545 &       0.691387 &  Computer science \\\\\n",
      "\\bottomrule\n",
      "\\end{tabular}\n",
      "\n"
     ]
    }
   ],
   "source": [
    "print(all_scores.to_latex())"
   ]
  },
  {
   "cell_type": "code",
   "execution_count": 47,
   "metadata": {},
   "outputs": [
    {
     "name": "stdout",
     "output_type": "stream",
     "text": [
      "|                 |   Real-world score |   Academic score |   General score | categories       |\n",
      "|:----------------|-------------------:|-----------------:|----------------:|:-----------------|\n",
      "| ENGLISH100      |           0.977969 |         0.587055 |        0.749899 | Humanities       |\n",
      "| ARB100          |           0.644273 |         0.561107 |        0.559423 | Humanities       |\n",
      "| MATH101         |           0.899391 |         0.883593 |        0.772007 | Mathematics      |\n",
      "| CHEM101         |           0.520728 |         0.438133 |        0.445344 | Chemistry        |\n",
      "| STAT101         |           0.927789 |         0.804526 |        0.756429 | Mathematics      |\n",
      "| TECH101         |           0.765262 |         0.545605 |        0.62673  | Humanities       |\n",
      "| ENTREPRENEUR101 |           0.601895 |         0.52172  |        0.530546 | Humanities       |\n",
      "| FAJAB101        |           0.600165 |         0.538924 |        0.546742 | Humanities       |\n",
      "| NAHAJ101        |           0.638404 |         0.661528 |        0.594242 | Humanities       |\n",
      "| ENGLISH110      |           0.918583 |         0.582118 |        0.713858 | Humanities       |\n",
      "| SALAM107        |           0.754027 |         0.638643 |        0.659744 | Islamics         |\n",
      "| PHYS104         |           0.624921 |         0.53489  |        0.519392 | Physics          |\n",
      "| MATH106         |           0.794863 |         0.735696 |        0.674323 | Mathematics      |\n",
      "| CSC111          |           0.984843 |         0.934987 |        0.849246 | Computer science |\n",
      "| MATH151         |           0.954951 |         0.868024 |        0.817721 | Mathematics      |\n",
      "| SALAM108        |           0.634832 |         0.415596 |        0.526326 | Islamics         |\n",
      "| CSC113          |           0.840633 |         0.775292 |        0.730219 | Computer science |\n",
      "| CSC220          |           0.862635 |         0.832111 |        0.739635 | Computer science |\n",
      "| MATH244         |           0.831908 |         0.716022 |        0.674008 | Mathematics      |\n",
      "| CSC212          |           0.943643 |         1        |        0.8393   | Computer science |\n",
      "| CSC215          |           0.801212 |         0.781024 |        0.676474 | Computer science |\n",
      "| MATH281         |           0.848302 |         0.846393 |        0.748259 | Mathematics      |\n",
      "| CSC304          |           0.67636  |         0.582436 |        0.612944 | Computer science |\n",
      "| CSC380          |           0.795881 |         0.727745 |        0.676944 | Computer science |\n",
      "| CSC227          |           0.740514 |         0.637227 |        0.619513 | Computer science |\n",
      "| CSC311          |           0.993665 |         0.991418 |        0.86618  | Computer science |\n",
      "| CSC339          |           0.671742 |         0.846109 |        0.679513 | Computer science |\n",
      "| CSC343          |           0.659292 |         0.501    |        0.529513 | Computer science |\n",
      "| CSC361          |           0.801822 |         0.819164 |        0.703416 | Computer science |\n",
      "| CSC329          |           0.971137 |         0.964173 |        0.849513 | Computer science |\n",
      "| CSC340          |           0.609492 |         0.737127 |        0.58618  | Computer science |\n",
      "| CSC453          |           0.658107 |         0.646309 |        0.582847 | Computer science |\n",
      "| CSC496          |           0.898492 |         0.796582 |        0.736309 | Computer science |\n",
      "| PHYS103         |           0.611916 |         0.635857 |        0.542905 | Physics          |\n",
      "| CSC443          |           0.683071 |         0.549409 |        0.57854  | Computer science |\n",
      "| CSC462          |           1        |         0.922291 |        0.843796 | Computer science |\n",
      "| CSC489          |           0.79219  |         0.732545 |        0.691387 | Computer science |\n"
     ]
    }
   ],
   "source": [
    "print(all_scores.to_markdown())"
   ]
  },
  {
   "cell_type": "code",
   "execution_count": null,
   "metadata": {},
   "outputs": [],
   "source": []
  }
 ],
 "metadata": {
  "interpreter": {
   "hash": "c2deab0c0d56e72ca5db1d97fb88fe0c0ab6b5e910fcaec703ad36be267b2091"
  },
  "kernelspec": {
   "display_name": "Python 3.8.8 64-bit ('base': conda)",
   "name": "python3"
  },
  "language_info": {
   "codemirror_mode": {
    "name": "ipython",
    "version": 3
   },
   "file_extension": ".py",
   "mimetype": "text/x-python",
   "name": "python",
   "nbconvert_exporter": "python",
   "pygments_lexer": "ipython3",
   "version": "3.8.8"
  }
 },
 "nbformat": 4,
 "nbformat_minor": 4
}
