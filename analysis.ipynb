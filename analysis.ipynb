{
 "cells": [
  {
   "cell_type": "code",
   "execution_count": 267,
   "metadata": {},
   "outputs": [],
   "source": [
    "import re\n",
    "import numpy as np\n",
    "import pandas as pd\n",
    "import plotly.express as px\n",
    "import plotly.io as pio\n",
    "\n",
    "# Config\n",
    "pio.templates.default = \"plotly_dark\"\n",
    "\n",
    "pd.set_option(\"display.max_rows\", 500)\n",
    "pd.set_option(\"display.max_columns\", 50)\n",
    "pd.set_option(\"plotting.backend\", \"plotly\")\n",
    "\n",
    "# TODO: Backtesting"
   ]
  },
  {
   "cell_type": "markdown",
   "metadata": {},
   "source": [
    "# Data"
   ]
  },
  {
   "cell_type": "markdown",
   "metadata": {},
   "source": []
  },
  {
   "cell_type": "code",
   "execution_count": 268,
   "metadata": {},
   "outputs": [],
   "source": [
    "\n",
    "data = pd.read_csv(\"data.csv\")\n",
    "data_filtered = data.drop(columns=data.columns[3:5])\n",
    "\n",
    "courses = [\"ENGLISH100\", \"ARB100\", \"MATH101\", \"CHEM101\", \"STAT101\", \"TECH101\", \"ENTREPRENEUR101\", \"FAJAB101\", \"NAHAJ101\", \"ENGLISH110\",\n",
    "            \"SALAM107\", \"PHYS104\", \"MATH106\", \"CSC111\", \"MATH151\", \"SALAM108\", \"CSC113\", \"CSC220\", \"MATH244\",\n",
    "            \"CSC212\", \"CSC215\", \"MATH281\", \"CSC304\", \"CSC380\", \"CSC227\", \"CSC311\", \"CSC339\", \"CSC343\", \"CSC361\",\n",
    "            \"CSC329\", \"CSC340\", \"CSC453\", \"CSC496\", \"PHYS210\", \"PHYS103\", \"CHEM103\", \"CSC443\", \"CSC462\", \"CSC476\", \"CSC478\", \"CSC484\", \"CSC489\"]\n",
    "criteria = [\"Application\", \"Relevance\", \"Insight\", \"Understanding\", \"Ease\"]\n",
    "ratings = list(range(1, 6))"
   ]
  },
  {
   "cell_type": "code",
   "execution_count": 460,
   "metadata": {},
   "outputs": [],
   "source": [
    "@np.vectorize\n",
    "def course_to_category(course):\n",
    "    prefix_to_category = {\"ENGLISH\":\"Humanities\", \"NAHAJ\": \"Humanities\", \"ARB\": \"Humanities\", \"ENTREPRENEUR\": \"Humanities\", \"FAJAB\": \"Humanities\", \"TECH\": \"Humanities\",\n",
    "                    \"PHYS\": \"Physics\", \"CHEM\": \"Chemistry\", \"SALAM\": \"Islamics\", \"MATH\": \"Mathematics\", \"STAT\": \"Mathematics\", \"CSC\": \"Computer science\"}\n",
    "    return prefix_to_category[re.findall(\"[a-zA-Z]+\", course)[0]]\n",
    "\n",
    "categories = pd.Series(course_to_category(courses))\n",
    "assert sum(categories.isna()) == 0, \"prefix_to_category must cover each course prefix\""
   ]
  },
  {
   "cell_type": "markdown",
   "metadata": {},
   "source": [
    "# Wrangling"
   ]
  },
  {
   "cell_type": "code",
   "execution_count": 270,
   "metadata": {},
   "outputs": [],
   "source": [
    "def df_by_regex(regex):\n",
    "    \"\"\"THIS USES GLOBALY DEFINED DF ALARM ALARM\"\"\"\n",
    "    return data_filtered.filter(regex=regex, axis=1)\n",
    "\n",
    "def get_subject_df(subject):\n",
    "    \"\"\"THIS USES GLOBALY DEFINED DF ALARM ALARM\"\"\"\n",
    "    return df_by_regex(f\"{subject}.*\\[.*\\].*\")"
   ]
  },
  {
   "cell_type": "code",
   "execution_count": 271,
   "metadata": {},
   "outputs": [],
   "source": [
    "index = list((course, criterion) for criterion in criteria for course in courses)\n",
    "sorted_index = sorted(index, key=lambda x: courses.index(x[0]))\n",
    "df = get_subject_df(\"\").T.set_index(pd.Index(sorted_index))"
   ]
  },
  {
   "cell_type": "markdown",
   "metadata": {},
   "source": [
    "## Ranking"
   ]
  },
  {
   "cell_type": "markdown",
   "metadata": {},
   "source": [
    "### What course is [max, min, contriversial] based on [criteria, weights]"
   ]
  },
  {
   "cell_type": "code",
   "execution_count": 590,
   "metadata": {},
   "outputs": [],
   "source": [
    "def scores_to_bayesian_mean(scores, category_to_application_mean, category_weight_portion=1):\n",
    "    \"\"\"\n",
    "    scores: Series of scores with Name formatted like this (Course, _)\n",
    "    category_to_application_mean: category_to_application_mean\n",
    "    category_weight_portion: the portion of scores category average is weighted at. e.g. 1 means its just as weighty as scores, 2 means half as weighty\n",
    "    returns bayesian estimation of mean of scores, given its category\n",
    "    \"\"\"\n",
    "    scores = scores.dropna()\n",
    "    category_mean_series = pd.Series({\"\": category_to_application_mean[course_to_category(scores.name[0]).item(0)]})\n",
    "    weights = [max(len(scores) // category_weight_portion, 1)] + [1] * len(scores)\n",
    "    normalized_weights = weights/np.linalg.norm(weights)\n",
    "    return np.average(scores.append(category_mean_series), weights=normalized_weights)\n"
   ]
  },
  {
   "cell_type": "code",
   "execution_count": 591,
   "metadata": {},
   "outputs": [
    {
     "data": {
      "application/vnd.plotly.v1+json": {
       "config": {
        "plotlyServerURL": "https://plot.ly"
       },
       "data": [
        {
         "hovertemplate": "color=Humanities<br>symbol=Humanities<br>index=%{x}<br>value=%{y}<extra></extra>",
         "legendgroup": "Humanities, Humanities",
         "marker": {
          "color": "#636efa",
          "symbol": "circle"
         },
         "mode": "markers",
         "name": "Humanities, Humanities",
         "orientation": "v",
         "showlegend": true,
         "type": "scatter",
         "x": [
          "ENGLISH100",
          "ARB100",
          "TECH101",
          "ENTREPRENEUR101",
          "FAJAB101",
          "NAHAJ101",
          "ENGLISH110"
         ],
         "xaxis": "x",
         "y": [
          4.388369236583521,
          1.9369153911564625,
          3.4993318756073855,
          1.7850461613216715,
          1.7492205215419505,
          2.499331875607386,
          4.285046161321671
         ],
         "yaxis": "y"
        },
        {
         "hovertemplate": "color=Mathematics<br>symbol=Mathematics<br>index=%{x}<br>value=%{y}<extra></extra>",
         "legendgroup": "Mathematics, Mathematics",
         "marker": {
          "color": "#EF553B",
          "symbol": "diamond"
         },
         "mode": "markers",
         "name": "Mathematics, Mathematics",
         "orientation": "v",
         "showlegend": true,
         "type": "scatter",
         "x": [
          "MATH101",
          "STAT101",
          "MATH106",
          "MATH151",
          "MATH244",
          "MATH281"
         ],
         "xaxis": "x",
         "y": [
          4.3132440476190474,
          4.715136054421769,
          3.1257440476190474,
          4.3132440476190474,
          4.41765873015873,
          3.1676587301587316
         ],
         "yaxis": "y"
        },
        {
         "hovertemplate": "color=Chemistry<br>symbol=Chemistry<br>index=%{x}<br>value=%{y}<extra></extra>",
         "legendgroup": "Chemistry, Chemistry",
         "marker": {
          "color": "#00cc96",
          "symbol": "square"
         },
         "mode": "markers",
         "name": "Chemistry, Chemistry",
         "orientation": "v",
         "showlegend": true,
         "type": "scatter",
         "x": [
          "CHEM101",
          "CHEM103"
         ],
         "xaxis": "x",
         "y": [
          1.5357142857142858,
          1.25
         ],
         "yaxis": "y"
        },
        {
         "hovertemplate": "color=Islamics<br>symbol=Islamics<br>index=%{x}<br>value=%{y}<extra></extra>",
         "legendgroup": "Islamics, Islamics",
         "marker": {
          "color": "#ab63fa",
          "symbol": "x"
         },
         "mode": "markers",
         "name": "Islamics, Islamics",
         "orientation": "v",
         "showlegend": true,
         "type": "scatter",
         "x": [
          "SALAM107",
          "SALAM108"
         ],
         "xaxis": "x",
         "y": [
          2.0234693877551018,
          1.532857142857143
         ],
         "yaxis": "y"
        },
        {
         "hovertemplate": "color=Physics<br>symbol=Physics<br>index=%{x}<br>value=%{y}<extra></extra>",
         "legendgroup": "Physics, Physics",
         "marker": {
          "color": "#FFA15A",
          "symbol": "cross"
         },
         "mode": "markers",
         "name": "Physics, Physics",
         "orientation": "v",
         "showlegend": true,
         "type": "scatter",
         "x": [
          "PHYS104",
          "PHYS210",
          "PHYS103"
         ],
         "xaxis": "x",
         "y": [
          2.467687074829932,
          1.2738095238095237,
          2.0684523809523814
         ],
         "yaxis": "y"
        },
        {
         "hovertemplate": "color=Computer science<br>symbol=Computer science<br>index=%{x}<br>value=%{y}<extra></extra>",
         "legendgroup": "Computer science, Computer science",
         "marker": {
          "color": "#19d3f3",
          "symbol": "circle"
         },
         "mode": "markers",
         "name": "Computer science, Computer science",
         "orientation": "v",
         "showlegend": true,
         "type": "scatter",
         "x": [
          "CSC111",
          "CSC113",
          "CSC220",
          "CSC212",
          "CSC215",
          "CSC304",
          "CSC380",
          "CSC227",
          "CSC311",
          "CSC339",
          "CSC343",
          "CSC361",
          "CSC329",
          "CSC340",
          "CSC453",
          "CSC496",
          "CSC443",
          "CSC462",
          "CSC476",
          "CSC478",
          "CSC484",
          "CSC489"
         ],
         "xaxis": "x",
         "y": [
          4.716528003246753,
          3.176032003710575,
          3.946444805194805,
          4.288704004329004,
          4.683056006493507,
          1.6220373376623378,
          4.346444805194805,
          3.7464448051948054,
          4.346444805194805,
          1.7464448051948052,
          3.1464448051948053,
          3.5464448051948048,
          4.746444805194805,
          2.5464448051948048,
          3.446444805194805,
          4.558056006493507,
          2.616112012987013,
          4.846444805194805,
          3.2322240259740256,
          2.7322240259740256,
          2.7322240259740256,
          2.2322240259740256
         ],
         "yaxis": "y"
        }
       ],
       "layout": {
        "legend": {
         "title": {
          "text": ""
         },
         "tracegroupgap": 0
        },
        "margin": {
         "t": 60
        },
        "template": {
         "data": {
          "bar": [
           {
            "error_x": {
             "color": "#f2f5fa"
            },
            "error_y": {
             "color": "#f2f5fa"
            },
            "marker": {
             "line": {
              "color": "rgb(17,17,17)",
              "width": 0.5
             },
             "pattern": {
              "fillmode": "overlay",
              "size": 10,
              "solidity": 0.2
             }
            },
            "type": "bar"
           }
          ],
          "barpolar": [
           {
            "marker": {
             "line": {
              "color": "rgb(17,17,17)",
              "width": 0.5
             },
             "pattern": {
              "fillmode": "overlay",
              "size": 10,
              "solidity": 0.2
             }
            },
            "type": "barpolar"
           }
          ],
          "carpet": [
           {
            "aaxis": {
             "endlinecolor": "#A2B1C6",
             "gridcolor": "#506784",
             "linecolor": "#506784",
             "minorgridcolor": "#506784",
             "startlinecolor": "#A2B1C6"
            },
            "baxis": {
             "endlinecolor": "#A2B1C6",
             "gridcolor": "#506784",
             "linecolor": "#506784",
             "minorgridcolor": "#506784",
             "startlinecolor": "#A2B1C6"
            },
            "type": "carpet"
           }
          ],
          "choropleth": [
           {
            "colorbar": {
             "outlinewidth": 0,
             "ticks": ""
            },
            "type": "choropleth"
           }
          ],
          "contour": [
           {
            "colorbar": {
             "outlinewidth": 0,
             "ticks": ""
            },
            "colorscale": [
             [
              0,
              "#0d0887"
             ],
             [
              0.1111111111111111,
              "#46039f"
             ],
             [
              0.2222222222222222,
              "#7201a8"
             ],
             [
              0.3333333333333333,
              "#9c179e"
             ],
             [
              0.4444444444444444,
              "#bd3786"
             ],
             [
              0.5555555555555556,
              "#d8576b"
             ],
             [
              0.6666666666666666,
              "#ed7953"
             ],
             [
              0.7777777777777778,
              "#fb9f3a"
             ],
             [
              0.8888888888888888,
              "#fdca26"
             ],
             [
              1,
              "#f0f921"
             ]
            ],
            "type": "contour"
           }
          ],
          "contourcarpet": [
           {
            "colorbar": {
             "outlinewidth": 0,
             "ticks": ""
            },
            "type": "contourcarpet"
           }
          ],
          "heatmap": [
           {
            "colorbar": {
             "outlinewidth": 0,
             "ticks": ""
            },
            "colorscale": [
             [
              0,
              "#0d0887"
             ],
             [
              0.1111111111111111,
              "#46039f"
             ],
             [
              0.2222222222222222,
              "#7201a8"
             ],
             [
              0.3333333333333333,
              "#9c179e"
             ],
             [
              0.4444444444444444,
              "#bd3786"
             ],
             [
              0.5555555555555556,
              "#d8576b"
             ],
             [
              0.6666666666666666,
              "#ed7953"
             ],
             [
              0.7777777777777778,
              "#fb9f3a"
             ],
             [
              0.8888888888888888,
              "#fdca26"
             ],
             [
              1,
              "#f0f921"
             ]
            ],
            "type": "heatmap"
           }
          ],
          "heatmapgl": [
           {
            "colorbar": {
             "outlinewidth": 0,
             "ticks": ""
            },
            "colorscale": [
             [
              0,
              "#0d0887"
             ],
             [
              0.1111111111111111,
              "#46039f"
             ],
             [
              0.2222222222222222,
              "#7201a8"
             ],
             [
              0.3333333333333333,
              "#9c179e"
             ],
             [
              0.4444444444444444,
              "#bd3786"
             ],
             [
              0.5555555555555556,
              "#d8576b"
             ],
             [
              0.6666666666666666,
              "#ed7953"
             ],
             [
              0.7777777777777778,
              "#fb9f3a"
             ],
             [
              0.8888888888888888,
              "#fdca26"
             ],
             [
              1,
              "#f0f921"
             ]
            ],
            "type": "heatmapgl"
           }
          ],
          "histogram": [
           {
            "marker": {
             "pattern": {
              "fillmode": "overlay",
              "size": 10,
              "solidity": 0.2
             }
            },
            "type": "histogram"
           }
          ],
          "histogram2d": [
           {
            "colorbar": {
             "outlinewidth": 0,
             "ticks": ""
            },
            "colorscale": [
             [
              0,
              "#0d0887"
             ],
             [
              0.1111111111111111,
              "#46039f"
             ],
             [
              0.2222222222222222,
              "#7201a8"
             ],
             [
              0.3333333333333333,
              "#9c179e"
             ],
             [
              0.4444444444444444,
              "#bd3786"
             ],
             [
              0.5555555555555556,
              "#d8576b"
             ],
             [
              0.6666666666666666,
              "#ed7953"
             ],
             [
              0.7777777777777778,
              "#fb9f3a"
             ],
             [
              0.8888888888888888,
              "#fdca26"
             ],
             [
              1,
              "#f0f921"
             ]
            ],
            "type": "histogram2d"
           }
          ],
          "histogram2dcontour": [
           {
            "colorbar": {
             "outlinewidth": 0,
             "ticks": ""
            },
            "colorscale": [
             [
              0,
              "#0d0887"
             ],
             [
              0.1111111111111111,
              "#46039f"
             ],
             [
              0.2222222222222222,
              "#7201a8"
             ],
             [
              0.3333333333333333,
              "#9c179e"
             ],
             [
              0.4444444444444444,
              "#bd3786"
             ],
             [
              0.5555555555555556,
              "#d8576b"
             ],
             [
              0.6666666666666666,
              "#ed7953"
             ],
             [
              0.7777777777777778,
              "#fb9f3a"
             ],
             [
              0.8888888888888888,
              "#fdca26"
             ],
             [
              1,
              "#f0f921"
             ]
            ],
            "type": "histogram2dcontour"
           }
          ],
          "mesh3d": [
           {
            "colorbar": {
             "outlinewidth": 0,
             "ticks": ""
            },
            "type": "mesh3d"
           }
          ],
          "parcoords": [
           {
            "line": {
             "colorbar": {
              "outlinewidth": 0,
              "ticks": ""
             }
            },
            "type": "parcoords"
           }
          ],
          "pie": [
           {
            "automargin": true,
            "type": "pie"
           }
          ],
          "scatter": [
           {
            "marker": {
             "line": {
              "color": "#283442"
             }
            },
            "type": "scatter"
           }
          ],
          "scatter3d": [
           {
            "line": {
             "colorbar": {
              "outlinewidth": 0,
              "ticks": ""
             }
            },
            "marker": {
             "colorbar": {
              "outlinewidth": 0,
              "ticks": ""
             }
            },
            "type": "scatter3d"
           }
          ],
          "scattercarpet": [
           {
            "marker": {
             "colorbar": {
              "outlinewidth": 0,
              "ticks": ""
             }
            },
            "type": "scattercarpet"
           }
          ],
          "scattergeo": [
           {
            "marker": {
             "colorbar": {
              "outlinewidth": 0,
              "ticks": ""
             }
            },
            "type": "scattergeo"
           }
          ],
          "scattergl": [
           {
            "marker": {
             "line": {
              "color": "#283442"
             }
            },
            "type": "scattergl"
           }
          ],
          "scattermapbox": [
           {
            "marker": {
             "colorbar": {
              "outlinewidth": 0,
              "ticks": ""
             }
            },
            "type": "scattermapbox"
           }
          ],
          "scatterpolar": [
           {
            "marker": {
             "colorbar": {
              "outlinewidth": 0,
              "ticks": ""
             }
            },
            "type": "scatterpolar"
           }
          ],
          "scatterpolargl": [
           {
            "marker": {
             "colorbar": {
              "outlinewidth": 0,
              "ticks": ""
             }
            },
            "type": "scatterpolargl"
           }
          ],
          "scatterternary": [
           {
            "marker": {
             "colorbar": {
              "outlinewidth": 0,
              "ticks": ""
             }
            },
            "type": "scatterternary"
           }
          ],
          "surface": [
           {
            "colorbar": {
             "outlinewidth": 0,
             "ticks": ""
            },
            "colorscale": [
             [
              0,
              "#0d0887"
             ],
             [
              0.1111111111111111,
              "#46039f"
             ],
             [
              0.2222222222222222,
              "#7201a8"
             ],
             [
              0.3333333333333333,
              "#9c179e"
             ],
             [
              0.4444444444444444,
              "#bd3786"
             ],
             [
              0.5555555555555556,
              "#d8576b"
             ],
             [
              0.6666666666666666,
              "#ed7953"
             ],
             [
              0.7777777777777778,
              "#fb9f3a"
             ],
             [
              0.8888888888888888,
              "#fdca26"
             ],
             [
              1,
              "#f0f921"
             ]
            ],
            "type": "surface"
           }
          ],
          "table": [
           {
            "cells": {
             "fill": {
              "color": "#506784"
             },
             "line": {
              "color": "rgb(17,17,17)"
             }
            },
            "header": {
             "fill": {
              "color": "#2a3f5f"
             },
             "line": {
              "color": "rgb(17,17,17)"
             }
            },
            "type": "table"
           }
          ]
         },
         "layout": {
          "annotationdefaults": {
           "arrowcolor": "#f2f5fa",
           "arrowhead": 0,
           "arrowwidth": 1
          },
          "autotypenumbers": "strict",
          "coloraxis": {
           "colorbar": {
            "outlinewidth": 0,
            "ticks": ""
           }
          },
          "colorscale": {
           "diverging": [
            [
             0,
             "#8e0152"
            ],
            [
             0.1,
             "#c51b7d"
            ],
            [
             0.2,
             "#de77ae"
            ],
            [
             0.3,
             "#f1b6da"
            ],
            [
             0.4,
             "#fde0ef"
            ],
            [
             0.5,
             "#f7f7f7"
            ],
            [
             0.6,
             "#e6f5d0"
            ],
            [
             0.7,
             "#b8e186"
            ],
            [
             0.8,
             "#7fbc41"
            ],
            [
             0.9,
             "#4d9221"
            ],
            [
             1,
             "#276419"
            ]
           ],
           "sequential": [
            [
             0,
             "#0d0887"
            ],
            [
             0.1111111111111111,
             "#46039f"
            ],
            [
             0.2222222222222222,
             "#7201a8"
            ],
            [
             0.3333333333333333,
             "#9c179e"
            ],
            [
             0.4444444444444444,
             "#bd3786"
            ],
            [
             0.5555555555555556,
             "#d8576b"
            ],
            [
             0.6666666666666666,
             "#ed7953"
            ],
            [
             0.7777777777777778,
             "#fb9f3a"
            ],
            [
             0.8888888888888888,
             "#fdca26"
            ],
            [
             1,
             "#f0f921"
            ]
           ],
           "sequentialminus": [
            [
             0,
             "#0d0887"
            ],
            [
             0.1111111111111111,
             "#46039f"
            ],
            [
             0.2222222222222222,
             "#7201a8"
            ],
            [
             0.3333333333333333,
             "#9c179e"
            ],
            [
             0.4444444444444444,
             "#bd3786"
            ],
            [
             0.5555555555555556,
             "#d8576b"
            ],
            [
             0.6666666666666666,
             "#ed7953"
            ],
            [
             0.7777777777777778,
             "#fb9f3a"
            ],
            [
             0.8888888888888888,
             "#fdca26"
            ],
            [
             1,
             "#f0f921"
            ]
           ]
          },
          "colorway": [
           "#636efa",
           "#EF553B",
           "#00cc96",
           "#ab63fa",
           "#FFA15A",
           "#19d3f3",
           "#FF6692",
           "#B6E880",
           "#FF97FF",
           "#FECB52"
          ],
          "font": {
           "color": "#f2f5fa"
          },
          "geo": {
           "bgcolor": "rgb(17,17,17)",
           "lakecolor": "rgb(17,17,17)",
           "landcolor": "rgb(17,17,17)",
           "showlakes": true,
           "showland": true,
           "subunitcolor": "#506784"
          },
          "hoverlabel": {
           "align": "left"
          },
          "hovermode": "closest",
          "mapbox": {
           "style": "dark"
          },
          "paper_bgcolor": "rgb(17,17,17)",
          "plot_bgcolor": "rgb(17,17,17)",
          "polar": {
           "angularaxis": {
            "gridcolor": "#506784",
            "linecolor": "#506784",
            "ticks": ""
           },
           "bgcolor": "rgb(17,17,17)",
           "radialaxis": {
            "gridcolor": "#506784",
            "linecolor": "#506784",
            "ticks": ""
           }
          },
          "scene": {
           "xaxis": {
            "backgroundcolor": "rgb(17,17,17)",
            "gridcolor": "#506784",
            "gridwidth": 2,
            "linecolor": "#506784",
            "showbackground": true,
            "ticks": "",
            "zerolinecolor": "#C8D4E3"
           },
           "yaxis": {
            "backgroundcolor": "rgb(17,17,17)",
            "gridcolor": "#506784",
            "gridwidth": 2,
            "linecolor": "#506784",
            "showbackground": true,
            "ticks": "",
            "zerolinecolor": "#C8D4E3"
           },
           "zaxis": {
            "backgroundcolor": "rgb(17,17,17)",
            "gridcolor": "#506784",
            "gridwidth": 2,
            "linecolor": "#506784",
            "showbackground": true,
            "ticks": "",
            "zerolinecolor": "#C8D4E3"
           }
          },
          "shapedefaults": {
           "line": {
            "color": "#f2f5fa"
           }
          },
          "sliderdefaults": {
           "bgcolor": "#C8D4E3",
           "bordercolor": "rgb(17,17,17)",
           "borderwidth": 1,
           "tickwidth": 0
          },
          "ternary": {
           "aaxis": {
            "gridcolor": "#506784",
            "linecolor": "#506784",
            "ticks": ""
           },
           "baxis": {
            "gridcolor": "#506784",
            "linecolor": "#506784",
            "ticks": ""
           },
           "bgcolor": "rgb(17,17,17)",
           "caxis": {
            "gridcolor": "#506784",
            "linecolor": "#506784",
            "ticks": ""
           }
          },
          "title": {
           "x": 0.05
          },
          "updatemenudefaults": {
           "bgcolor": "#506784",
           "borderwidth": 0
          },
          "xaxis": {
           "automargin": true,
           "gridcolor": "#283442",
           "linecolor": "#506784",
           "ticks": "",
           "title": {
            "standoff": 15
           },
           "zerolinecolor": "#283442",
           "zerolinewidth": 2
          },
          "yaxis": {
           "automargin": true,
           "gridcolor": "#283442",
           "linecolor": "#506784",
           "ticks": "",
           "title": {
            "standoff": 15
           },
           "zerolinecolor": "#283442",
           "zerolinewidth": 2
          }
         }
        },
        "title": {
         "text": "Course Vs. Bayesian estimated mean Applications score"
        },
        "xaxis": {
         "anchor": "y",
         "domain": [
          0,
          1
         ],
         "title": {
          "text": "Course"
         }
        },
        "yaxis": {
         "anchor": "x",
         "domain": [
          0,
          1
         ],
         "title": {
          "text": "Application score (1-5)"
         }
        }
       }
      }
     },
     "metadata": {},
     "output_type": "display_data"
    }
   ],
   "source": [
    "course_to_application_mean = df.loc[[(subject, \"Application\") for subject in courses]].T.mean().droplevel(1)\n",
    "\n",
    "temp = course_to_application_mean.reset_index()\n",
    "temp[\"index\"] = categories\n",
    "category_to_application_mean = temp.groupby(\"index\").mean()[0]\n",
    "\n",
    "bayesian_estimate_course_to_application_mean = df.loc[[(subject, \"Application\") for subject in courses]].T.apply(\n",
    "                                                lambda scores: scores_to_bayesian_mean(scores, category_to_application_mean)\n",
    "                                                ).droplevel(1)\n",
    "\n",
    "fig = px.scatter(bayesian_estimate_course_to_application_mean, color=categories, symbol=categories)\n",
    "fig.update_layout(\n",
    "    title=\"Course Vs. Bayesian estimated mean Applications score\",\n",
    "    xaxis_title=\"Course\",\n",
    "    yaxis_title=\"Application score (1-5)\",\n",
    "    legend_title=\"\",\n",
    ")"
   ]
  },
  {
   "cell_type": "code",
   "execution_count": 589,
   "metadata": {},
   "outputs": [
    {
     "data": {
      "application/vnd.plotly.v1+json": {
       "config": {
        "plotlyServerURL": "https://plot.ly"
       },
       "data": [
        {
         "hovertemplate": "color=Humanities<br>symbol=Humanities<br>index=%{x}<br>value=%{y}<extra></extra>",
         "legendgroup": "Humanities, Humanities",
         "marker": {
          "color": "#636efa",
          "symbol": "circle"
         },
         "mode": "markers",
         "name": "Humanities, Humanities",
         "orientation": "v",
         "showlegend": true,
         "type": "scatter",
         "x": [
          "ENGLISH100",
          "ARB100",
          "TECH101",
          "ENTREPRENEUR101",
          "FAJAB101",
          "NAHAJ101",
          "ENGLISH110"
         ],
         "xaxis": "x",
         "y": [
          4,
          2.625,
          3.142857142857143,
          2.2857142857142856,
          2.1666666666666665,
          2.857142857142857,
          3.857142857142857
         ],
         "yaxis": "y"
        },
        {
         "hovertemplate": "color=Mathematics<br>symbol=Mathematics<br>index=%{x}<br>value=%{y}<extra></extra>",
         "legendgroup": "Mathematics, Mathematics",
         "marker": {
          "color": "#EF553B",
          "symbol": "diamond"
         },
         "mode": "markers",
         "name": "Mathematics, Mathematics",
         "orientation": "v",
         "showlegend": true,
         "type": "scatter",
         "x": [
          "MATH101",
          "STAT101",
          "MATH106",
          "MATH151",
          "MATH244",
          "MATH281"
         ],
         "xaxis": "x",
         "y": [
          3.75,
          4.571428571428571,
          3.125,
          4.625,
          4,
          4
         ],
         "yaxis": "y"
        },
        {
         "hovertemplate": "color=Chemistry<br>symbol=Chemistry<br>index=%{x}<br>value=%{y}<extra></extra>",
         "legendgroup": "Chemistry, Chemistry",
         "marker": {
          "color": "#00cc96",
          "symbol": "square"
         },
         "mode": "markers",
         "name": "Chemistry, Chemistry",
         "orientation": "v",
         "showlegend": true,
         "type": "scatter",
         "x": [
          "CHEM101",
          "CHEM103"
         ],
         "xaxis": "x",
         "y": [
          2,
          1
         ],
         "yaxis": "y"
        },
        {
         "hovertemplate": "color=Islamics<br>symbol=Islamics<br>index=%{x}<br>value=%{y}<extra></extra>",
         "legendgroup": "Islamics, Islamics",
         "marker": {
          "color": "#ab63fa",
          "symbol": "x"
         },
         "mode": "markers",
         "name": "Islamics, Islamics",
         "orientation": "v",
         "showlegend": true,
         "type": "scatter",
         "x": [
          "SALAM107",
          "SALAM108"
         ],
         "xaxis": "x",
         "y": [
          2.857142857142857,
          1.8
         ],
         "yaxis": "y"
        },
        {
         "hovertemplate": "color=Physics<br>symbol=Physics<br>index=%{x}<br>value=%{y}<extra></extra>",
         "legendgroup": "Physics, Physics",
         "marker": {
          "color": "#FFA15A",
          "symbol": "cross"
         },
         "mode": "markers",
         "name": "Physics, Physics",
         "orientation": "v",
         "showlegend": true,
         "type": "scatter",
         "x": [
          "PHYS104",
          "PHYS210",
          "PHYS103"
         ],
         "xaxis": "x",
         "y": [
          2.142857142857143,
          1,
          1.5
         ],
         "yaxis": "y"
        },
        {
         "hovertemplate": "color=Computer science<br>symbol=Computer science<br>index=%{x}<br>value=%{y}<extra></extra>",
         "legendgroup": "Computer science, Computer science",
         "marker": {
          "color": "#19d3f3",
          "symbol": "circle"
         },
         "mode": "markers",
         "name": "Computer science, Computer science",
         "orientation": "v",
         "showlegend": true,
         "type": "scatter",
         "x": [
          "CSC111",
          "CSC113",
          "CSC220",
          "CSC212",
          "CSC215",
          "CSC304",
          "CSC380",
          "CSC227",
          "CSC311",
          "CSC339",
          "CSC343",
          "CSC361",
          "CSC329",
          "CSC340",
          "CSC453",
          "CSC496",
          "CSC443",
          "CSC462",
          "CSC476",
          "CSC478",
          "CSC484",
          "CSC489"
         ],
         "xaxis": "x",
         "y": [
          4.625,
          4.142857142857143,
          3.2,
          4.666666666666667,
          4.75,
          1.8333333333333333,
          4,
          3.6,
          4.8,
          2,
          3.2,
          4,
          4.8,
          2.8,
          3.8,
          4.5,
          2.5,
          5,
          3,
          2,
          2,
          1
         ],
         "yaxis": "y"
        }
       ],
       "layout": {
        "legend": {
         "title": {
          "text": ""
         },
         "tracegroupgap": 0
        },
        "margin": {
         "t": 60
        },
        "template": {
         "data": {
          "bar": [
           {
            "error_x": {
             "color": "#f2f5fa"
            },
            "error_y": {
             "color": "#f2f5fa"
            },
            "marker": {
             "line": {
              "color": "rgb(17,17,17)",
              "width": 0.5
             },
             "pattern": {
              "fillmode": "overlay",
              "size": 10,
              "solidity": 0.2
             }
            },
            "type": "bar"
           }
          ],
          "barpolar": [
           {
            "marker": {
             "line": {
              "color": "rgb(17,17,17)",
              "width": 0.5
             },
             "pattern": {
              "fillmode": "overlay",
              "size": 10,
              "solidity": 0.2
             }
            },
            "type": "barpolar"
           }
          ],
          "carpet": [
           {
            "aaxis": {
             "endlinecolor": "#A2B1C6",
             "gridcolor": "#506784",
             "linecolor": "#506784",
             "minorgridcolor": "#506784",
             "startlinecolor": "#A2B1C6"
            },
            "baxis": {
             "endlinecolor": "#A2B1C6",
             "gridcolor": "#506784",
             "linecolor": "#506784",
             "minorgridcolor": "#506784",
             "startlinecolor": "#A2B1C6"
            },
            "type": "carpet"
           }
          ],
          "choropleth": [
           {
            "colorbar": {
             "outlinewidth": 0,
             "ticks": ""
            },
            "type": "choropleth"
           }
          ],
          "contour": [
           {
            "colorbar": {
             "outlinewidth": 0,
             "ticks": ""
            },
            "colorscale": [
             [
              0,
              "#0d0887"
             ],
             [
              0.1111111111111111,
              "#46039f"
             ],
             [
              0.2222222222222222,
              "#7201a8"
             ],
             [
              0.3333333333333333,
              "#9c179e"
             ],
             [
              0.4444444444444444,
              "#bd3786"
             ],
             [
              0.5555555555555556,
              "#d8576b"
             ],
             [
              0.6666666666666666,
              "#ed7953"
             ],
             [
              0.7777777777777778,
              "#fb9f3a"
             ],
             [
              0.8888888888888888,
              "#fdca26"
             ],
             [
              1,
              "#f0f921"
             ]
            ],
            "type": "contour"
           }
          ],
          "contourcarpet": [
           {
            "colorbar": {
             "outlinewidth": 0,
             "ticks": ""
            },
            "type": "contourcarpet"
           }
          ],
          "heatmap": [
           {
            "colorbar": {
             "outlinewidth": 0,
             "ticks": ""
            },
            "colorscale": [
             [
              0,
              "#0d0887"
             ],
             [
              0.1111111111111111,
              "#46039f"
             ],
             [
              0.2222222222222222,
              "#7201a8"
             ],
             [
              0.3333333333333333,
              "#9c179e"
             ],
             [
              0.4444444444444444,
              "#bd3786"
             ],
             [
              0.5555555555555556,
              "#d8576b"
             ],
             [
              0.6666666666666666,
              "#ed7953"
             ],
             [
              0.7777777777777778,
              "#fb9f3a"
             ],
             [
              0.8888888888888888,
              "#fdca26"
             ],
             [
              1,
              "#f0f921"
             ]
            ],
            "type": "heatmap"
           }
          ],
          "heatmapgl": [
           {
            "colorbar": {
             "outlinewidth": 0,
             "ticks": ""
            },
            "colorscale": [
             [
              0,
              "#0d0887"
             ],
             [
              0.1111111111111111,
              "#46039f"
             ],
             [
              0.2222222222222222,
              "#7201a8"
             ],
             [
              0.3333333333333333,
              "#9c179e"
             ],
             [
              0.4444444444444444,
              "#bd3786"
             ],
             [
              0.5555555555555556,
              "#d8576b"
             ],
             [
              0.6666666666666666,
              "#ed7953"
             ],
             [
              0.7777777777777778,
              "#fb9f3a"
             ],
             [
              0.8888888888888888,
              "#fdca26"
             ],
             [
              1,
              "#f0f921"
             ]
            ],
            "type": "heatmapgl"
           }
          ],
          "histogram": [
           {
            "marker": {
             "pattern": {
              "fillmode": "overlay",
              "size": 10,
              "solidity": 0.2
             }
            },
            "type": "histogram"
           }
          ],
          "histogram2d": [
           {
            "colorbar": {
             "outlinewidth": 0,
             "ticks": ""
            },
            "colorscale": [
             [
              0,
              "#0d0887"
             ],
             [
              0.1111111111111111,
              "#46039f"
             ],
             [
              0.2222222222222222,
              "#7201a8"
             ],
             [
              0.3333333333333333,
              "#9c179e"
             ],
             [
              0.4444444444444444,
              "#bd3786"
             ],
             [
              0.5555555555555556,
              "#d8576b"
             ],
             [
              0.6666666666666666,
              "#ed7953"
             ],
             [
              0.7777777777777778,
              "#fb9f3a"
             ],
             [
              0.8888888888888888,
              "#fdca26"
             ],
             [
              1,
              "#f0f921"
             ]
            ],
            "type": "histogram2d"
           }
          ],
          "histogram2dcontour": [
           {
            "colorbar": {
             "outlinewidth": 0,
             "ticks": ""
            },
            "colorscale": [
             [
              0,
              "#0d0887"
             ],
             [
              0.1111111111111111,
              "#46039f"
             ],
             [
              0.2222222222222222,
              "#7201a8"
             ],
             [
              0.3333333333333333,
              "#9c179e"
             ],
             [
              0.4444444444444444,
              "#bd3786"
             ],
             [
              0.5555555555555556,
              "#d8576b"
             ],
             [
              0.6666666666666666,
              "#ed7953"
             ],
             [
              0.7777777777777778,
              "#fb9f3a"
             ],
             [
              0.8888888888888888,
              "#fdca26"
             ],
             [
              1,
              "#f0f921"
             ]
            ],
            "type": "histogram2dcontour"
           }
          ],
          "mesh3d": [
           {
            "colorbar": {
             "outlinewidth": 0,
             "ticks": ""
            },
            "type": "mesh3d"
           }
          ],
          "parcoords": [
           {
            "line": {
             "colorbar": {
              "outlinewidth": 0,
              "ticks": ""
             }
            },
            "type": "parcoords"
           }
          ],
          "pie": [
           {
            "automargin": true,
            "type": "pie"
           }
          ],
          "scatter": [
           {
            "marker": {
             "line": {
              "color": "#283442"
             }
            },
            "type": "scatter"
           }
          ],
          "scatter3d": [
           {
            "line": {
             "colorbar": {
              "outlinewidth": 0,
              "ticks": ""
             }
            },
            "marker": {
             "colorbar": {
              "outlinewidth": 0,
              "ticks": ""
             }
            },
            "type": "scatter3d"
           }
          ],
          "scattercarpet": [
           {
            "marker": {
             "colorbar": {
              "outlinewidth": 0,
              "ticks": ""
             }
            },
            "type": "scattercarpet"
           }
          ],
          "scattergeo": [
           {
            "marker": {
             "colorbar": {
              "outlinewidth": 0,
              "ticks": ""
             }
            },
            "type": "scattergeo"
           }
          ],
          "scattergl": [
           {
            "marker": {
             "line": {
              "color": "#283442"
             }
            },
            "type": "scattergl"
           }
          ],
          "scattermapbox": [
           {
            "marker": {
             "colorbar": {
              "outlinewidth": 0,
              "ticks": ""
             }
            },
            "type": "scattermapbox"
           }
          ],
          "scatterpolar": [
           {
            "marker": {
             "colorbar": {
              "outlinewidth": 0,
              "ticks": ""
             }
            },
            "type": "scatterpolar"
           }
          ],
          "scatterpolargl": [
           {
            "marker": {
             "colorbar": {
              "outlinewidth": 0,
              "ticks": ""
             }
            },
            "type": "scatterpolargl"
           }
          ],
          "scatterternary": [
           {
            "marker": {
             "colorbar": {
              "outlinewidth": 0,
              "ticks": ""
             }
            },
            "type": "scatterternary"
           }
          ],
          "surface": [
           {
            "colorbar": {
             "outlinewidth": 0,
             "ticks": ""
            },
            "colorscale": [
             [
              0,
              "#0d0887"
             ],
             [
              0.1111111111111111,
              "#46039f"
             ],
             [
              0.2222222222222222,
              "#7201a8"
             ],
             [
              0.3333333333333333,
              "#9c179e"
             ],
             [
              0.4444444444444444,
              "#bd3786"
             ],
             [
              0.5555555555555556,
              "#d8576b"
             ],
             [
              0.6666666666666666,
              "#ed7953"
             ],
             [
              0.7777777777777778,
              "#fb9f3a"
             ],
             [
              0.8888888888888888,
              "#fdca26"
             ],
             [
              1,
              "#f0f921"
             ]
            ],
            "type": "surface"
           }
          ],
          "table": [
           {
            "cells": {
             "fill": {
              "color": "#506784"
             },
             "line": {
              "color": "rgb(17,17,17)"
             }
            },
            "header": {
             "fill": {
              "color": "#2a3f5f"
             },
             "line": {
              "color": "rgb(17,17,17)"
             }
            },
            "type": "table"
           }
          ]
         },
         "layout": {
          "annotationdefaults": {
           "arrowcolor": "#f2f5fa",
           "arrowhead": 0,
           "arrowwidth": 1
          },
          "autotypenumbers": "strict",
          "coloraxis": {
           "colorbar": {
            "outlinewidth": 0,
            "ticks": ""
           }
          },
          "colorscale": {
           "diverging": [
            [
             0,
             "#8e0152"
            ],
            [
             0.1,
             "#c51b7d"
            ],
            [
             0.2,
             "#de77ae"
            ],
            [
             0.3,
             "#f1b6da"
            ],
            [
             0.4,
             "#fde0ef"
            ],
            [
             0.5,
             "#f7f7f7"
            ],
            [
             0.6,
             "#e6f5d0"
            ],
            [
             0.7,
             "#b8e186"
            ],
            [
             0.8,
             "#7fbc41"
            ],
            [
             0.9,
             "#4d9221"
            ],
            [
             1,
             "#276419"
            ]
           ],
           "sequential": [
            [
             0,
             "#0d0887"
            ],
            [
             0.1111111111111111,
             "#46039f"
            ],
            [
             0.2222222222222222,
             "#7201a8"
            ],
            [
             0.3333333333333333,
             "#9c179e"
            ],
            [
             0.4444444444444444,
             "#bd3786"
            ],
            [
             0.5555555555555556,
             "#d8576b"
            ],
            [
             0.6666666666666666,
             "#ed7953"
            ],
            [
             0.7777777777777778,
             "#fb9f3a"
            ],
            [
             0.8888888888888888,
             "#fdca26"
            ],
            [
             1,
             "#f0f921"
            ]
           ],
           "sequentialminus": [
            [
             0,
             "#0d0887"
            ],
            [
             0.1111111111111111,
             "#46039f"
            ],
            [
             0.2222222222222222,
             "#7201a8"
            ],
            [
             0.3333333333333333,
             "#9c179e"
            ],
            [
             0.4444444444444444,
             "#bd3786"
            ],
            [
             0.5555555555555556,
             "#d8576b"
            ],
            [
             0.6666666666666666,
             "#ed7953"
            ],
            [
             0.7777777777777778,
             "#fb9f3a"
            ],
            [
             0.8888888888888888,
             "#fdca26"
            ],
            [
             1,
             "#f0f921"
            ]
           ]
          },
          "colorway": [
           "#636efa",
           "#EF553B",
           "#00cc96",
           "#ab63fa",
           "#FFA15A",
           "#19d3f3",
           "#FF6692",
           "#B6E880",
           "#FF97FF",
           "#FECB52"
          ],
          "font": {
           "color": "#f2f5fa"
          },
          "geo": {
           "bgcolor": "rgb(17,17,17)",
           "lakecolor": "rgb(17,17,17)",
           "landcolor": "rgb(17,17,17)",
           "showlakes": true,
           "showland": true,
           "subunitcolor": "#506784"
          },
          "hoverlabel": {
           "align": "left"
          },
          "hovermode": "closest",
          "mapbox": {
           "style": "dark"
          },
          "paper_bgcolor": "rgb(17,17,17)",
          "plot_bgcolor": "rgb(17,17,17)",
          "polar": {
           "angularaxis": {
            "gridcolor": "#506784",
            "linecolor": "#506784",
            "ticks": ""
           },
           "bgcolor": "rgb(17,17,17)",
           "radialaxis": {
            "gridcolor": "#506784",
            "linecolor": "#506784",
            "ticks": ""
           }
          },
          "scene": {
           "xaxis": {
            "backgroundcolor": "rgb(17,17,17)",
            "gridcolor": "#506784",
            "gridwidth": 2,
            "linecolor": "#506784",
            "showbackground": true,
            "ticks": "",
            "zerolinecolor": "#C8D4E3"
           },
           "yaxis": {
            "backgroundcolor": "rgb(17,17,17)",
            "gridcolor": "#506784",
            "gridwidth": 2,
            "linecolor": "#506784",
            "showbackground": true,
            "ticks": "",
            "zerolinecolor": "#C8D4E3"
           },
           "zaxis": {
            "backgroundcolor": "rgb(17,17,17)",
            "gridcolor": "#506784",
            "gridwidth": 2,
            "linecolor": "#506784",
            "showbackground": true,
            "ticks": "",
            "zerolinecolor": "#C8D4E3"
           }
          },
          "shapedefaults": {
           "line": {
            "color": "#f2f5fa"
           }
          },
          "sliderdefaults": {
           "bgcolor": "#C8D4E3",
           "bordercolor": "rgb(17,17,17)",
           "borderwidth": 1,
           "tickwidth": 0
          },
          "ternary": {
           "aaxis": {
            "gridcolor": "#506784",
            "linecolor": "#506784",
            "ticks": ""
           },
           "baxis": {
            "gridcolor": "#506784",
            "linecolor": "#506784",
            "ticks": ""
           },
           "bgcolor": "rgb(17,17,17)",
           "caxis": {
            "gridcolor": "#506784",
            "linecolor": "#506784",
            "ticks": ""
           }
          },
          "title": {
           "x": 0.05
          },
          "updatemenudefaults": {
           "bgcolor": "#506784",
           "borderwidth": 0
          },
          "xaxis": {
           "automargin": true,
           "gridcolor": "#283442",
           "linecolor": "#506784",
           "ticks": "",
           "title": {
            "standoff": 15
           },
           "zerolinecolor": "#283442",
           "zerolinewidth": 2
          },
          "yaxis": {
           "automargin": true,
           "gridcolor": "#283442",
           "linecolor": "#506784",
           "ticks": "",
           "title": {
            "standoff": 15
           },
           "zerolinecolor": "#283442",
           "zerolinewidth": 2
          }
         }
        },
        "title": {
         "text": "Course Vs. mean Applications score"
        },
        "xaxis": {
         "anchor": "y",
         "domain": [
          0,
          1
         ],
         "title": {
          "text": "Course"
         }
        },
        "yaxis": {
         "anchor": "x",
         "domain": [
          0,
          1
         ],
         "title": {
          "text": "Application score (1-5)"
         }
        }
       }
      }
     },
     "metadata": {},
     "output_type": "display_data"
    }
   ],
   "source": [
    "fig = px.scatter(course_to_application_mean, color=categories, symbol=categories)\n",
    "fig.update_layout(\n",
    "    title=\"Course Vs. mean Applications score\",\n",
    "    xaxis_title=\"Course\",\n",
    "    yaxis_title=\"Application score (1-5)\",\n",
    "    legend_title=\"\",\n",
    ")"
   ]
  },
  {
   "cell_type": "markdown",
   "metadata": {},
   "source": [
    "## Meta-stats"
   ]
  },
  {
   "cell_type": "code",
   "execution_count": null,
   "metadata": {},
   "outputs": [],
   "source": [
    "# a bit of a primitive way to count every filled in ranking (some rankings are NaN). Maybe it could be improved?\n",
    "i = 0\n",
    "course_to_num_ranking = {}\n",
    "while i < len(df):\n",
    "    course_to_num_ranking.update({df.iloc[i].name[0]:len(df.iloc[i].dropna())})\n",
    "    i += 5\n",
    "course_to_num_ranking_series = pd.Series(course_to_num_ranking)"
   ]
  },
  {
   "cell_type": "code",
   "execution_count": null,
   "metadata": {},
   "outputs": [
    {
     "data": {
      "application/vnd.plotly.v1+json": {
       "config": {
        "plotlyServerURL": "https://plot.ly"
       },
       "data": [
        {
         "hovertemplate": "<b>%{hovertext}</b><br><br>color=Humanities<br>symbol=Humanities<br>index=%{x}<br>value=%{y}<extra></extra>",
         "hovertext": [
          "ENGLISH100",
          "ARB100",
          "TECH101",
          "ENTREPRENEUR101",
          "FAJAB101",
          "NAHAJ101",
          "ENGLISH110"
         ],
         "legendgroup": "Humanities, Humanities",
         "marker": {
          "color": "#636efa",
          "symbol": "circle"
         },
         "mode": "markers",
         "name": "Humanities, Humanities",
         "orientation": "v",
         "showlegend": true,
         "type": "scatter",
         "x": [
          "ENGLISH100",
          "ARB100",
          "TECH101",
          "ENTREPRENEUR101",
          "FAJAB101",
          "NAHAJ101",
          "ENGLISH110"
         ],
         "xaxis": "x",
         "y": [
          9,
          8,
          7,
          7,
          6,
          7,
          7
         ],
         "yaxis": "y"
        },
        {
         "hovertemplate": "<b>%{hovertext}</b><br><br>color=Mathematics<br>symbol=Mathematics<br>index=%{x}<br>value=%{y}<extra></extra>",
         "hovertext": [
          "MATH101",
          "STAT101",
          "MATH106",
          "MATH151",
          "MATH244",
          "MATH281"
         ],
         "legendgroup": "Mathematics, Mathematics",
         "marker": {
          "color": "#EF553B",
          "symbol": "diamond"
         },
         "mode": "markers",
         "name": "Mathematics, Mathematics",
         "orientation": "v",
         "showlegend": true,
         "type": "scatter",
         "x": [
          "MATH101",
          "STAT101",
          "MATH106",
          "MATH151",
          "MATH244",
          "MATH281"
         ],
         "xaxis": "x",
         "y": [
          8,
          7,
          8,
          8,
          6,
          6
         ],
         "yaxis": "y"
        },
        {
         "hovertemplate": "<b>%{hovertext}</b><br><br>color=Chemistry<br>symbol=Chemistry<br>index=%{x}<br>value=%{y}<extra></extra>",
         "hovertext": [
          "CHEM101",
          "CHEM103"
         ],
         "legendgroup": "Chemistry, Chemistry",
         "marker": {
          "color": "#00cc96",
          "symbol": "square"
         },
         "mode": "markers",
         "name": "Chemistry, Chemistry",
         "orientation": "v",
         "showlegend": true,
         "type": "scatter",
         "x": [
          "CHEM101",
          "CHEM103"
         ],
         "xaxis": "x",
         "y": [
          7,
          1
         ],
         "yaxis": "y"
        },
        {
         "hovertemplate": "<b>%{hovertext}</b><br><br>color=Islamics<br>symbol=Islamics<br>index=%{x}<br>value=%{y}<extra></extra>",
         "hovertext": [
          "SALAM107",
          "SALAM108"
         ],
         "legendgroup": "Islamics, Islamics",
         "marker": {
          "color": "#ab63fa",
          "symbol": "x"
         },
         "mode": "markers",
         "name": "Islamics, Islamics",
         "orientation": "v",
         "showlegend": true,
         "type": "scatter",
         "x": [
          "SALAM107",
          "SALAM108"
         ],
         "xaxis": "x",
         "y": [
          7,
          5
         ],
         "yaxis": "y"
        },
        {
         "hovertemplate": "<b>%{hovertext}</b><br><br>color=Physics<br>symbol=Physics<br>index=%{x}<br>value=%{y}<extra></extra>",
         "hovertext": [
          "PHYS104",
          "PHYS210",
          "PHYS103"
         ],
         "legendgroup": "Physics, Physics",
         "marker": {
          "color": "#FFA15A",
          "symbol": "cross"
         },
         "mode": "markers",
         "name": "Physics, Physics",
         "orientation": "v",
         "showlegend": true,
         "type": "scatter",
         "x": [
          "PHYS104",
          "PHYS210",
          "PHYS103"
         ],
         "xaxis": "x",
         "y": [
          7,
          1,
          4
         ],
         "yaxis": "y"
        },
        {
         "hovertemplate": "<b>%{hovertext}</b><br><br>color=Computer science<br>symbol=Computer science<br>index=%{x}<br>value=%{y}<extra></extra>",
         "hovertext": [
          "CSC111",
          "CSC113",
          "CSC220",
          "CSC212",
          "CSC215",
          "CSC304",
          "CSC380",
          "CSC227",
          "CSC311",
          "CSC339",
          "CSC343",
          "CSC361",
          "CSC329",
          "CSC340",
          "CSC453",
          "CSC496",
          "CSC443",
          "CSC462",
          "CSC476",
          "CSC478",
          "CSC484",
          "CSC489"
         ],
         "legendgroup": "Computer science, Computer science",
         "marker": {
          "color": "#19d3f3",
          "symbol": "circle"
         },
         "mode": "markers",
         "name": "Computer science, Computer science",
         "orientation": "v",
         "showlegend": true,
         "type": "scatter",
         "x": [
          "CSC111",
          "CSC113",
          "CSC220",
          "CSC212",
          "CSC215",
          "CSC304",
          "CSC380",
          "CSC227",
          "CSC311",
          "CSC339",
          "CSC343",
          "CSC361",
          "CSC329",
          "CSC340",
          "CSC453",
          "CSC496",
          "CSC443",
          "CSC462",
          "CSC476",
          "CSC478",
          "CSC484",
          "CSC489"
         ],
         "xaxis": "x",
         "y": [
          8,
          7,
          5,
          6,
          4,
          6,
          5,
          5,
          5,
          5,
          5,
          5,
          5,
          5,
          5,
          4,
          2,
          5,
          1,
          1,
          1,
          1
         ],
         "yaxis": "y"
        }
       ],
       "layout": {
        "legend": {
         "title": {
          "text": "color, symbol"
         },
         "tracegroupgap": 0
        },
        "margin": {
         "t": 60
        },
        "template": {
         "data": {
          "bar": [
           {
            "error_x": {
             "color": "#f2f5fa"
            },
            "error_y": {
             "color": "#f2f5fa"
            },
            "marker": {
             "line": {
              "color": "rgb(17,17,17)",
              "width": 0.5
             },
             "pattern": {
              "fillmode": "overlay",
              "size": 10,
              "solidity": 0.2
             }
            },
            "type": "bar"
           }
          ],
          "barpolar": [
           {
            "marker": {
             "line": {
              "color": "rgb(17,17,17)",
              "width": 0.5
             },
             "pattern": {
              "fillmode": "overlay",
              "size": 10,
              "solidity": 0.2
             }
            },
            "type": "barpolar"
           }
          ],
          "carpet": [
           {
            "aaxis": {
             "endlinecolor": "#A2B1C6",
             "gridcolor": "#506784",
             "linecolor": "#506784",
             "minorgridcolor": "#506784",
             "startlinecolor": "#A2B1C6"
            },
            "baxis": {
             "endlinecolor": "#A2B1C6",
             "gridcolor": "#506784",
             "linecolor": "#506784",
             "minorgridcolor": "#506784",
             "startlinecolor": "#A2B1C6"
            },
            "type": "carpet"
           }
          ],
          "choropleth": [
           {
            "colorbar": {
             "outlinewidth": 0,
             "ticks": ""
            },
            "type": "choropleth"
           }
          ],
          "contour": [
           {
            "colorbar": {
             "outlinewidth": 0,
             "ticks": ""
            },
            "colorscale": [
             [
              0,
              "#0d0887"
             ],
             [
              0.1111111111111111,
              "#46039f"
             ],
             [
              0.2222222222222222,
              "#7201a8"
             ],
             [
              0.3333333333333333,
              "#9c179e"
             ],
             [
              0.4444444444444444,
              "#bd3786"
             ],
             [
              0.5555555555555556,
              "#d8576b"
             ],
             [
              0.6666666666666666,
              "#ed7953"
             ],
             [
              0.7777777777777778,
              "#fb9f3a"
             ],
             [
              0.8888888888888888,
              "#fdca26"
             ],
             [
              1,
              "#f0f921"
             ]
            ],
            "type": "contour"
           }
          ],
          "contourcarpet": [
           {
            "colorbar": {
             "outlinewidth": 0,
             "ticks": ""
            },
            "type": "contourcarpet"
           }
          ],
          "heatmap": [
           {
            "colorbar": {
             "outlinewidth": 0,
             "ticks": ""
            },
            "colorscale": [
             [
              0,
              "#0d0887"
             ],
             [
              0.1111111111111111,
              "#46039f"
             ],
             [
              0.2222222222222222,
              "#7201a8"
             ],
             [
              0.3333333333333333,
              "#9c179e"
             ],
             [
              0.4444444444444444,
              "#bd3786"
             ],
             [
              0.5555555555555556,
              "#d8576b"
             ],
             [
              0.6666666666666666,
              "#ed7953"
             ],
             [
              0.7777777777777778,
              "#fb9f3a"
             ],
             [
              0.8888888888888888,
              "#fdca26"
             ],
             [
              1,
              "#f0f921"
             ]
            ],
            "type": "heatmap"
           }
          ],
          "heatmapgl": [
           {
            "colorbar": {
             "outlinewidth": 0,
             "ticks": ""
            },
            "colorscale": [
             [
              0,
              "#0d0887"
             ],
             [
              0.1111111111111111,
              "#46039f"
             ],
             [
              0.2222222222222222,
              "#7201a8"
             ],
             [
              0.3333333333333333,
              "#9c179e"
             ],
             [
              0.4444444444444444,
              "#bd3786"
             ],
             [
              0.5555555555555556,
              "#d8576b"
             ],
             [
              0.6666666666666666,
              "#ed7953"
             ],
             [
              0.7777777777777778,
              "#fb9f3a"
             ],
             [
              0.8888888888888888,
              "#fdca26"
             ],
             [
              1,
              "#f0f921"
             ]
            ],
            "type": "heatmapgl"
           }
          ],
          "histogram": [
           {
            "marker": {
             "pattern": {
              "fillmode": "overlay",
              "size": 10,
              "solidity": 0.2
             }
            },
            "type": "histogram"
           }
          ],
          "histogram2d": [
           {
            "colorbar": {
             "outlinewidth": 0,
             "ticks": ""
            },
            "colorscale": [
             [
              0,
              "#0d0887"
             ],
             [
              0.1111111111111111,
              "#46039f"
             ],
             [
              0.2222222222222222,
              "#7201a8"
             ],
             [
              0.3333333333333333,
              "#9c179e"
             ],
             [
              0.4444444444444444,
              "#bd3786"
             ],
             [
              0.5555555555555556,
              "#d8576b"
             ],
             [
              0.6666666666666666,
              "#ed7953"
             ],
             [
              0.7777777777777778,
              "#fb9f3a"
             ],
             [
              0.8888888888888888,
              "#fdca26"
             ],
             [
              1,
              "#f0f921"
             ]
            ],
            "type": "histogram2d"
           }
          ],
          "histogram2dcontour": [
           {
            "colorbar": {
             "outlinewidth": 0,
             "ticks": ""
            },
            "colorscale": [
             [
              0,
              "#0d0887"
             ],
             [
              0.1111111111111111,
              "#46039f"
             ],
             [
              0.2222222222222222,
              "#7201a8"
             ],
             [
              0.3333333333333333,
              "#9c179e"
             ],
             [
              0.4444444444444444,
              "#bd3786"
             ],
             [
              0.5555555555555556,
              "#d8576b"
             ],
             [
              0.6666666666666666,
              "#ed7953"
             ],
             [
              0.7777777777777778,
              "#fb9f3a"
             ],
             [
              0.8888888888888888,
              "#fdca26"
             ],
             [
              1,
              "#f0f921"
             ]
            ],
            "type": "histogram2dcontour"
           }
          ],
          "mesh3d": [
           {
            "colorbar": {
             "outlinewidth": 0,
             "ticks": ""
            },
            "type": "mesh3d"
           }
          ],
          "parcoords": [
           {
            "line": {
             "colorbar": {
              "outlinewidth": 0,
              "ticks": ""
             }
            },
            "type": "parcoords"
           }
          ],
          "pie": [
           {
            "automargin": true,
            "type": "pie"
           }
          ],
          "scatter": [
           {
            "marker": {
             "line": {
              "color": "#283442"
             }
            },
            "type": "scatter"
           }
          ],
          "scatter3d": [
           {
            "line": {
             "colorbar": {
              "outlinewidth": 0,
              "ticks": ""
             }
            },
            "marker": {
             "colorbar": {
              "outlinewidth": 0,
              "ticks": ""
             }
            },
            "type": "scatter3d"
           }
          ],
          "scattercarpet": [
           {
            "marker": {
             "colorbar": {
              "outlinewidth": 0,
              "ticks": ""
             }
            },
            "type": "scattercarpet"
           }
          ],
          "scattergeo": [
           {
            "marker": {
             "colorbar": {
              "outlinewidth": 0,
              "ticks": ""
             }
            },
            "type": "scattergeo"
           }
          ],
          "scattergl": [
           {
            "marker": {
             "line": {
              "color": "#283442"
             }
            },
            "type": "scattergl"
           }
          ],
          "scattermapbox": [
           {
            "marker": {
             "colorbar": {
              "outlinewidth": 0,
              "ticks": ""
             }
            },
            "type": "scattermapbox"
           }
          ],
          "scatterpolar": [
           {
            "marker": {
             "colorbar": {
              "outlinewidth": 0,
              "ticks": ""
             }
            },
            "type": "scatterpolar"
           }
          ],
          "scatterpolargl": [
           {
            "marker": {
             "colorbar": {
              "outlinewidth": 0,
              "ticks": ""
             }
            },
            "type": "scatterpolargl"
           }
          ],
          "scatterternary": [
           {
            "marker": {
             "colorbar": {
              "outlinewidth": 0,
              "ticks": ""
             }
            },
            "type": "scatterternary"
           }
          ],
          "surface": [
           {
            "colorbar": {
             "outlinewidth": 0,
             "ticks": ""
            },
            "colorscale": [
             [
              0,
              "#0d0887"
             ],
             [
              0.1111111111111111,
              "#46039f"
             ],
             [
              0.2222222222222222,
              "#7201a8"
             ],
             [
              0.3333333333333333,
              "#9c179e"
             ],
             [
              0.4444444444444444,
              "#bd3786"
             ],
             [
              0.5555555555555556,
              "#d8576b"
             ],
             [
              0.6666666666666666,
              "#ed7953"
             ],
             [
              0.7777777777777778,
              "#fb9f3a"
             ],
             [
              0.8888888888888888,
              "#fdca26"
             ],
             [
              1,
              "#f0f921"
             ]
            ],
            "type": "surface"
           }
          ],
          "table": [
           {
            "cells": {
             "fill": {
              "color": "#506784"
             },
             "line": {
              "color": "rgb(17,17,17)"
             }
            },
            "header": {
             "fill": {
              "color": "#2a3f5f"
             },
             "line": {
              "color": "rgb(17,17,17)"
             }
            },
            "type": "table"
           }
          ]
         },
         "layout": {
          "annotationdefaults": {
           "arrowcolor": "#f2f5fa",
           "arrowhead": 0,
           "arrowwidth": 1
          },
          "autotypenumbers": "strict",
          "coloraxis": {
           "colorbar": {
            "outlinewidth": 0,
            "ticks": ""
           }
          },
          "colorscale": {
           "diverging": [
            [
             0,
             "#8e0152"
            ],
            [
             0.1,
             "#c51b7d"
            ],
            [
             0.2,
             "#de77ae"
            ],
            [
             0.3,
             "#f1b6da"
            ],
            [
             0.4,
             "#fde0ef"
            ],
            [
             0.5,
             "#f7f7f7"
            ],
            [
             0.6,
             "#e6f5d0"
            ],
            [
             0.7,
             "#b8e186"
            ],
            [
             0.8,
             "#7fbc41"
            ],
            [
             0.9,
             "#4d9221"
            ],
            [
             1,
             "#276419"
            ]
           ],
           "sequential": [
            [
             0,
             "#0d0887"
            ],
            [
             0.1111111111111111,
             "#46039f"
            ],
            [
             0.2222222222222222,
             "#7201a8"
            ],
            [
             0.3333333333333333,
             "#9c179e"
            ],
            [
             0.4444444444444444,
             "#bd3786"
            ],
            [
             0.5555555555555556,
             "#d8576b"
            ],
            [
             0.6666666666666666,
             "#ed7953"
            ],
            [
             0.7777777777777778,
             "#fb9f3a"
            ],
            [
             0.8888888888888888,
             "#fdca26"
            ],
            [
             1,
             "#f0f921"
            ]
           ],
           "sequentialminus": [
            [
             0,
             "#0d0887"
            ],
            [
             0.1111111111111111,
             "#46039f"
            ],
            [
             0.2222222222222222,
             "#7201a8"
            ],
            [
             0.3333333333333333,
             "#9c179e"
            ],
            [
             0.4444444444444444,
             "#bd3786"
            ],
            [
             0.5555555555555556,
             "#d8576b"
            ],
            [
             0.6666666666666666,
             "#ed7953"
            ],
            [
             0.7777777777777778,
             "#fb9f3a"
            ],
            [
             0.8888888888888888,
             "#fdca26"
            ],
            [
             1,
             "#f0f921"
            ]
           ]
          },
          "colorway": [
           "#636efa",
           "#EF553B",
           "#00cc96",
           "#ab63fa",
           "#FFA15A",
           "#19d3f3",
           "#FF6692",
           "#B6E880",
           "#FF97FF",
           "#FECB52"
          ],
          "font": {
           "color": "#f2f5fa"
          },
          "geo": {
           "bgcolor": "rgb(17,17,17)",
           "lakecolor": "rgb(17,17,17)",
           "landcolor": "rgb(17,17,17)",
           "showlakes": true,
           "showland": true,
           "subunitcolor": "#506784"
          },
          "hoverlabel": {
           "align": "left"
          },
          "hovermode": "closest",
          "mapbox": {
           "style": "dark"
          },
          "paper_bgcolor": "rgb(17,17,17)",
          "plot_bgcolor": "rgb(17,17,17)",
          "polar": {
           "angularaxis": {
            "gridcolor": "#506784",
            "linecolor": "#506784",
            "ticks": ""
           },
           "bgcolor": "rgb(17,17,17)",
           "radialaxis": {
            "gridcolor": "#506784",
            "linecolor": "#506784",
            "ticks": ""
           }
          },
          "scene": {
           "xaxis": {
            "backgroundcolor": "rgb(17,17,17)",
            "gridcolor": "#506784",
            "gridwidth": 2,
            "linecolor": "#506784",
            "showbackground": true,
            "ticks": "",
            "zerolinecolor": "#C8D4E3"
           },
           "yaxis": {
            "backgroundcolor": "rgb(17,17,17)",
            "gridcolor": "#506784",
            "gridwidth": 2,
            "linecolor": "#506784",
            "showbackground": true,
            "ticks": "",
            "zerolinecolor": "#C8D4E3"
           },
           "zaxis": {
            "backgroundcolor": "rgb(17,17,17)",
            "gridcolor": "#506784",
            "gridwidth": 2,
            "linecolor": "#506784",
            "showbackground": true,
            "ticks": "",
            "zerolinecolor": "#C8D4E3"
           }
          },
          "shapedefaults": {
           "line": {
            "color": "#f2f5fa"
           }
          },
          "sliderdefaults": {
           "bgcolor": "#C8D4E3",
           "bordercolor": "rgb(17,17,17)",
           "borderwidth": 1,
           "tickwidth": 0
          },
          "ternary": {
           "aaxis": {
            "gridcolor": "#506784",
            "linecolor": "#506784",
            "ticks": ""
           },
           "baxis": {
            "gridcolor": "#506784",
            "linecolor": "#506784",
            "ticks": ""
           },
           "bgcolor": "rgb(17,17,17)",
           "caxis": {
            "gridcolor": "#506784",
            "linecolor": "#506784",
            "ticks": ""
           }
          },
          "title": {
           "x": 0.05
          },
          "updatemenudefaults": {
           "bgcolor": "#506784",
           "borderwidth": 0
          },
          "xaxis": {
           "automargin": true,
           "gridcolor": "#283442",
           "linecolor": "#506784",
           "ticks": "",
           "title": {
            "standoff": 15
           },
           "zerolinecolor": "#283442",
           "zerolinewidth": 2
          },
          "yaxis": {
           "automargin": true,
           "gridcolor": "#283442",
           "linecolor": "#506784",
           "ticks": "",
           "title": {
            "standoff": 15
           },
           "zerolinecolor": "#283442",
           "zerolinewidth": 2
          }
         }
        },
        "xaxis": {
         "anchor": "y",
         "domain": [
          0,
          1
         ],
         "title": {
          "text": "index"
         }
        },
        "yaxis": {
         "anchor": "x",
         "domain": [
          0,
          1
         ],
         "title": {
          "text": "value"
         }
        }
       }
      }
     },
     "metadata": {},
     "output_type": "display_data"
    }
   ],
   "source": [
    "px.scatter(course_to_num_ranking_series, color=categories, symbol=categories, hover_name=course_to_num_ranking_series.index)"
   ]
  },
  {
   "cell_type": "code",
   "execution_count": null,
   "metadata": {},
   "outputs": [],
   "source": [
    "rating_counts_per_criteria = []\n",
    "for criterion in criteria:\n",
    "    rating_counts_per_criteria.append(df_by_regex(f\".*{criterion}.*\").apply(pd.value_counts).sum(axis=1))\n",
    "rating_counts_df = pd.DataFrame(rating_counts_per_criteria).T\n",
    "rating_counts_df.columns = criteria"
   ]
  },
  {
   "cell_type": "code",
   "execution_count": null,
   "metadata": {},
   "outputs": [
    {
     "data": {
      "text/html": [
       "<div>\n",
       "<style scoped>\n",
       "    .dataframe tbody tr th:only-of-type {\n",
       "        vertical-align: middle;\n",
       "    }\n",
       "\n",
       "    .dataframe tbody tr th {\n",
       "        vertical-align: top;\n",
       "    }\n",
       "\n",
       "    .dataframe thead th {\n",
       "        text-align: right;\n",
       "    }\n",
       "</style>\n",
       "<table border=\"1\" class=\"dataframe\">\n",
       "  <thead>\n",
       "    <tr style=\"text-align: right;\">\n",
       "      <th></th>\n",
       "      <th>Application</th>\n",
       "      <th>Relevance</th>\n",
       "      <th>Insight</th>\n",
       "      <th>Understanding</th>\n",
       "      <th>Ease</th>\n",
       "    </tr>\n",
       "  </thead>\n",
       "  <tbody>\n",
       "    <tr>\n",
       "      <th>1.0</th>\n",
       "      <td>40.0</td>\n",
       "      <td>35.0</td>\n",
       "      <td>51.0</td>\n",
       "      <td>36.0</td>\n",
       "      <td>28.0</td>\n",
       "    </tr>\n",
       "    <tr>\n",
       "      <th>2.0</th>\n",
       "      <td>30.0</td>\n",
       "      <td>31.0</td>\n",
       "      <td>30.0</td>\n",
       "      <td>26.0</td>\n",
       "      <td>28.0</td>\n",
       "    </tr>\n",
       "    <tr>\n",
       "      <th>3.0</th>\n",
       "      <td>40.0</td>\n",
       "      <td>42.0</td>\n",
       "      <td>40.0</td>\n",
       "      <td>38.0</td>\n",
       "      <td>45.0</td>\n",
       "    </tr>\n",
       "    <tr>\n",
       "      <th>4.0</th>\n",
       "      <td>26.0</td>\n",
       "      <td>36.0</td>\n",
       "      <td>39.0</td>\n",
       "      <td>44.0</td>\n",
       "      <td>45.0</td>\n",
       "    </tr>\n",
       "    <tr>\n",
       "      <th>5.0</th>\n",
       "      <td>86.0</td>\n",
       "      <td>78.0</td>\n",
       "      <td>62.0</td>\n",
       "      <td>78.0</td>\n",
       "      <td>76.0</td>\n",
       "    </tr>\n",
       "  </tbody>\n",
       "</table>\n",
       "</div>"
      ],
      "text/plain": [
       "     Application  Relevance  Insight  Understanding  Ease\n",
       "1.0         40.0       35.0     51.0           36.0  28.0\n",
       "2.0         30.0       31.0     30.0           26.0  28.0\n",
       "3.0         40.0       42.0     40.0           38.0  45.0\n",
       "4.0         26.0       36.0     39.0           44.0  45.0\n",
       "5.0         86.0       78.0     62.0           78.0  76.0"
      ]
     },
     "execution_count": 112,
     "metadata": {},
     "output_type": "execute_result"
    }
   ],
   "source": [
    "rating_counts_df"
   ]
  },
  {
   "cell_type": "code",
   "execution_count": null,
   "metadata": {},
   "outputs": [],
   "source": [
    "rating_counts_raw_criteria = []\n",
    "for criterion in criteria:\n",
    "    rating_counts_raw_criteria.append(np.concatenate(df_by_regex(f\".*{criterion}.*\").values))\n",
    "rating_counts_raw_df = pd.DataFrame(rating_counts_raw_criteria).T\n",
    "rating_counts_raw_df.columns = criteria"
   ]
  },
  {
   "cell_type": "code",
   "execution_count": null,
   "metadata": {},
   "outputs": [
    {
     "data": {
      "application/vnd.plotly.v1+json": {
       "config": {
        "plotlyServerURL": "https://plot.ly"
       },
       "data": [
        {
         "alignmentgroup": "True",
         "box": {
          "visible": false
         },
         "hovertemplate": "variable=%{x}<br>value=%{y}<extra></extra>",
         "legendgroup": "",
         "marker": {
          "color": "#636efa"
         },
         "name": "",
         "offsetgroup": "",
         "orientation": "v",
         "scalegroup": "True",
         "showlegend": false,
         "type": "violin",
         "x": [
          "Application",
          "Application",
          "Application",
          "Application",
          "Application",
          "Application",
          "Application",
          "Application",
          "Application",
          "Application",
          "Application",
          "Application",
          "Application",
          "Application",
          "Application",
          "Application",
          "Application",
          "Application",
          "Application",
          "Application",
          "Application",
          "Application",
          "Application",
          "Application",
          "Application",
          "Application",
          "Application",
          "Application",
          "Application",
          "Application",
          "Application",
          "Application",
          "Application",
          "Application",
          "Application",
          "Application",
          "Application",
          "Application",
          "Application",
          "Application",
          "Application",
          "Application",
          "Application",
          "Application",
          "Application",
          "Application",
          "Application",
          "Application",
          "Application",
          "Application",
          "Application",
          "Application",
          "Application",
          "Application",
          "Application",
          "Application",
          "Application",
          "Application",
          "Application",
          "Application",
          "Application",
          "Application",
          "Application",
          "Application",
          "Application",
          "Application",
          "Application",
          "Application",
          "Application",
          "Application",
          "Application",
          "Application",
          "Application",
          "Application",
          "Application",
          "Application",
          "Application",
          "Application",
          "Application",
          "Application",
          "Application",
          "Application",
          "Application",
          "Application",
          "Application",
          "Application",
          "Application",
          "Application",
          "Application",
          "Application",
          "Application",
          "Application",
          "Application",
          "Application",
          "Application",
          "Application",
          "Application",
          "Application",
          "Application",
          "Application",
          "Application",
          "Application",
          "Application",
          "Application",
          "Application",
          "Application",
          "Application",
          "Application",
          "Application",
          "Application",
          "Application",
          "Application",
          "Application",
          "Application",
          "Application",
          "Application",
          "Application",
          "Application",
          "Application",
          "Application",
          "Application",
          "Application",
          "Application",
          "Application",
          "Application",
          "Application",
          "Application",
          "Application",
          "Application",
          "Application",
          "Application",
          "Application",
          "Application",
          "Application",
          "Application",
          "Application",
          "Application",
          "Application",
          "Application",
          "Application",
          "Application",
          "Application",
          "Application",
          "Application",
          "Application",
          "Application",
          "Application",
          "Application",
          "Application",
          "Application",
          "Application",
          "Application",
          "Application",
          "Application",
          "Application",
          "Application",
          "Application",
          "Application",
          "Application",
          "Application",
          "Application",
          "Application",
          "Application",
          "Application",
          "Application",
          "Application",
          "Application",
          "Application",
          "Application",
          "Application",
          "Application",
          "Application",
          "Application",
          "Application",
          "Application",
          "Application",
          "Application",
          "Application",
          "Application",
          "Application",
          "Application",
          "Application",
          "Application",
          "Application",
          "Application",
          "Application",
          "Application",
          "Application",
          "Application",
          "Application",
          "Application",
          "Application",
          "Application",
          "Application",
          "Application",
          "Application",
          "Application",
          "Application",
          "Application",
          "Application",
          "Application",
          "Application",
          "Application",
          "Application",
          "Application",
          "Application",
          "Application",
          "Application",
          "Application",
          "Application",
          "Application",
          "Application",
          "Application",
          "Application",
          "Application",
          "Application",
          "Application",
          "Application",
          "Application",
          "Application",
          "Application",
          "Application",
          "Application",
          "Application",
          "Application",
          "Application",
          "Application",
          "Application",
          "Application",
          "Application",
          "Application",
          "Application",
          "Application",
          "Application",
          "Application",
          "Application",
          "Application",
          "Application",
          "Application",
          "Application",
          "Application",
          "Application",
          "Application",
          "Application",
          "Application",
          "Application",
          "Application",
          "Application",
          "Application",
          "Application",
          "Application",
          "Application",
          "Application",
          "Application",
          "Application",
          "Application",
          "Application",
          "Application",
          "Application",
          "Application",
          "Application",
          "Application",
          "Application",
          "Application",
          "Application",
          "Application",
          "Application",
          "Application",
          "Application",
          "Application",
          "Application",
          "Application",
          "Application",
          "Application",
          "Application",
          "Application",
          "Application",
          "Application",
          "Application",
          "Application",
          "Application",
          "Application",
          "Application",
          "Application",
          "Application",
          "Application",
          "Application",
          "Application",
          "Application",
          "Application",
          "Application",
          "Application",
          "Application",
          "Application",
          "Application",
          "Application",
          "Application",
          "Application",
          "Application",
          "Application",
          "Application",
          "Application",
          "Application",
          "Application",
          "Application",
          "Application",
          "Application",
          "Application",
          "Application",
          "Application",
          "Application",
          "Application",
          "Application",
          "Application",
          "Application",
          "Application",
          "Application",
          "Application",
          "Application",
          "Application",
          "Application",
          "Application",
          "Application",
          "Application",
          "Application",
          "Application",
          "Application",
          "Application",
          "Application",
          "Application",
          "Application",
          "Application",
          "Application",
          "Application",
          "Application",
          "Application",
          "Application",
          "Application",
          "Application",
          "Application",
          "Application",
          "Application",
          "Application",
          "Application",
          "Application",
          "Application",
          "Application",
          "Application",
          "Application",
          "Application",
          "Application",
          "Application",
          "Application",
          "Application",
          "Application",
          "Application",
          "Application",
          "Application",
          "Application",
          "Application",
          "Application",
          "Application",
          "Application",
          "Application",
          "Application",
          "Application",
          "Application",
          "Application",
          "Application",
          "Application",
          "Application",
          "Application",
          "Application",
          "Application",
          "Application",
          "Application",
          "Application",
          "Application",
          "Relevance",
          "Relevance",
          "Relevance",
          "Relevance",
          "Relevance",
          "Relevance",
          "Relevance",
          "Relevance",
          "Relevance",
          "Relevance",
          "Relevance",
          "Relevance",
          "Relevance",
          "Relevance",
          "Relevance",
          "Relevance",
          "Relevance",
          "Relevance",
          "Relevance",
          "Relevance",
          "Relevance",
          "Relevance",
          "Relevance",
          "Relevance",
          "Relevance",
          "Relevance",
          "Relevance",
          "Relevance",
          "Relevance",
          "Relevance",
          "Relevance",
          "Relevance",
          "Relevance",
          "Relevance",
          "Relevance",
          "Relevance",
          "Relevance",
          "Relevance",
          "Relevance",
          "Relevance",
          "Relevance",
          "Relevance",
          "Relevance",
          "Relevance",
          "Relevance",
          "Relevance",
          "Relevance",
          "Relevance",
          "Relevance",
          "Relevance",
          "Relevance",
          "Relevance",
          "Relevance",
          "Relevance",
          "Relevance",
          "Relevance",
          "Relevance",
          "Relevance",
          "Relevance",
          "Relevance",
          "Relevance",
          "Relevance",
          "Relevance",
          "Relevance",
          "Relevance",
          "Relevance",
          "Relevance",
          "Relevance",
          "Relevance",
          "Relevance",
          "Relevance",
          "Relevance",
          "Relevance",
          "Relevance",
          "Relevance",
          "Relevance",
          "Relevance",
          "Relevance",
          "Relevance",
          "Relevance",
          "Relevance",
          "Relevance",
          "Relevance",
          "Relevance",
          "Relevance",
          "Relevance",
          "Relevance",
          "Relevance",
          "Relevance",
          "Relevance",
          "Relevance",
          "Relevance",
          "Relevance",
          "Relevance",
          "Relevance",
          "Relevance",
          "Relevance",
          "Relevance",
          "Relevance",
          "Relevance",
          "Relevance",
          "Relevance",
          "Relevance",
          "Relevance",
          "Relevance",
          "Relevance",
          "Relevance",
          "Relevance",
          "Relevance",
          "Relevance",
          "Relevance",
          "Relevance",
          "Relevance",
          "Relevance",
          "Relevance",
          "Relevance",
          "Relevance",
          "Relevance",
          "Relevance",
          "Relevance",
          "Relevance",
          "Relevance",
          "Relevance",
          "Relevance",
          "Relevance",
          "Relevance",
          "Relevance",
          "Relevance",
          "Relevance",
          "Relevance",
          "Relevance",
          "Relevance",
          "Relevance",
          "Relevance",
          "Relevance",
          "Relevance",
          "Relevance",
          "Relevance",
          "Relevance",
          "Relevance",
          "Relevance",
          "Relevance",
          "Relevance",
          "Relevance",
          "Relevance",
          "Relevance",
          "Relevance",
          "Relevance",
          "Relevance",
          "Relevance",
          "Relevance",
          "Relevance",
          "Relevance",
          "Relevance",
          "Relevance",
          "Relevance",
          "Relevance",
          "Relevance",
          "Relevance",
          "Relevance",
          "Relevance",
          "Relevance",
          "Relevance",
          "Relevance",
          "Relevance",
          "Relevance",
          "Relevance",
          "Relevance",
          "Relevance",
          "Relevance",
          "Relevance",
          "Relevance",
          "Relevance",
          "Relevance",
          "Relevance",
          "Relevance",
          "Relevance",
          "Relevance",
          "Relevance",
          "Relevance",
          "Relevance",
          "Relevance",
          "Relevance",
          "Relevance",
          "Relevance",
          "Relevance",
          "Relevance",
          "Relevance",
          "Relevance",
          "Relevance",
          "Relevance",
          "Relevance",
          "Relevance",
          "Relevance",
          "Relevance",
          "Relevance",
          "Relevance",
          "Relevance",
          "Relevance",
          "Relevance",
          "Relevance",
          "Relevance",
          "Relevance",
          "Relevance",
          "Relevance",
          "Relevance",
          "Relevance",
          "Relevance",
          "Relevance",
          "Relevance",
          "Relevance",
          "Relevance",
          "Relevance",
          "Relevance",
          "Relevance",
          "Relevance",
          "Relevance",
          "Relevance",
          "Relevance",
          "Relevance",
          "Relevance",
          "Relevance",
          "Relevance",
          "Relevance",
          "Relevance",
          "Relevance",
          "Relevance",
          "Relevance",
          "Relevance",
          "Relevance",
          "Relevance",
          "Relevance",
          "Relevance",
          "Relevance",
          "Relevance",
          "Relevance",
          "Relevance",
          "Relevance",
          "Relevance",
          "Relevance",
          "Relevance",
          "Relevance",
          "Relevance",
          "Relevance",
          "Relevance",
          "Relevance",
          "Relevance",
          "Relevance",
          "Relevance",
          "Relevance",
          "Relevance",
          "Relevance",
          "Relevance",
          "Relevance",
          "Relevance",
          "Relevance",
          "Relevance",
          "Relevance",
          "Relevance",
          "Relevance",
          "Relevance",
          "Relevance",
          "Relevance",
          "Relevance",
          "Relevance",
          "Relevance",
          "Relevance",
          "Relevance",
          "Relevance",
          "Relevance",
          "Relevance",
          "Relevance",
          "Relevance",
          "Relevance",
          "Relevance",
          "Relevance",
          "Relevance",
          "Relevance",
          "Relevance",
          "Relevance",
          "Relevance",
          "Relevance",
          "Relevance",
          "Relevance",
          "Relevance",
          "Relevance",
          "Relevance",
          "Relevance",
          "Relevance",
          "Relevance",
          "Relevance",
          "Relevance",
          "Relevance",
          "Relevance",
          "Relevance",
          "Relevance",
          "Relevance",
          "Relevance",
          "Relevance",
          "Relevance",
          "Relevance",
          "Relevance",
          "Relevance",
          "Relevance",
          "Relevance",
          "Relevance",
          "Relevance",
          "Relevance",
          "Relevance",
          "Relevance",
          "Relevance",
          "Relevance",
          "Relevance",
          "Relevance",
          "Relevance",
          "Relevance",
          "Relevance",
          "Relevance",
          "Relevance",
          "Relevance",
          "Relevance",
          "Relevance",
          "Relevance",
          "Relevance",
          "Relevance",
          "Relevance",
          "Relevance",
          "Relevance",
          "Relevance",
          "Relevance",
          "Relevance",
          "Relevance",
          "Relevance",
          "Relevance",
          "Relevance",
          "Relevance",
          "Relevance",
          "Relevance",
          "Relevance",
          "Relevance",
          "Relevance",
          "Relevance",
          "Relevance",
          "Relevance",
          "Relevance",
          "Relevance",
          "Relevance",
          "Relevance",
          "Relevance",
          "Relevance",
          "Relevance",
          "Relevance",
          "Relevance",
          "Relevance",
          "Relevance",
          "Relevance",
          "Relevance",
          "Relevance",
          "Relevance",
          "Relevance",
          "Relevance",
          "Relevance",
          "Relevance",
          "Relevance",
          "Relevance",
          "Relevance",
          "Relevance",
          "Relevance",
          "Relevance",
          "Relevance",
          "Relevance",
          "Relevance",
          "Relevance",
          "Relevance",
          "Relevance",
          "Relevance",
          "Relevance",
          "Relevance",
          "Insight",
          "Insight",
          "Insight",
          "Insight",
          "Insight",
          "Insight",
          "Insight",
          "Insight",
          "Insight",
          "Insight",
          "Insight",
          "Insight",
          "Insight",
          "Insight",
          "Insight",
          "Insight",
          "Insight",
          "Insight",
          "Insight",
          "Insight",
          "Insight",
          "Insight",
          "Insight",
          "Insight",
          "Insight",
          "Insight",
          "Insight",
          "Insight",
          "Insight",
          "Insight",
          "Insight",
          "Insight",
          "Insight",
          "Insight",
          "Insight",
          "Insight",
          "Insight",
          "Insight",
          "Insight",
          "Insight",
          "Insight",
          "Insight",
          "Insight",
          "Insight",
          "Insight",
          "Insight",
          "Insight",
          "Insight",
          "Insight",
          "Insight",
          "Insight",
          "Insight",
          "Insight",
          "Insight",
          "Insight",
          "Insight",
          "Insight",
          "Insight",
          "Insight",
          "Insight",
          "Insight",
          "Insight",
          "Insight",
          "Insight",
          "Insight",
          "Insight",
          "Insight",
          "Insight",
          "Insight",
          "Insight",
          "Insight",
          "Insight",
          "Insight",
          "Insight",
          "Insight",
          "Insight",
          "Insight",
          "Insight",
          "Insight",
          "Insight",
          "Insight",
          "Insight",
          "Insight",
          "Insight",
          "Insight",
          "Insight",
          "Insight",
          "Insight",
          "Insight",
          "Insight",
          "Insight",
          "Insight",
          "Insight",
          "Insight",
          "Insight",
          "Insight",
          "Insight",
          "Insight",
          "Insight",
          "Insight",
          "Insight",
          "Insight",
          "Insight",
          "Insight",
          "Insight",
          "Insight",
          "Insight",
          "Insight",
          "Insight",
          "Insight",
          "Insight",
          "Insight",
          "Insight",
          "Insight",
          "Insight",
          "Insight",
          "Insight",
          "Insight",
          "Insight",
          "Insight",
          "Insight",
          "Insight",
          "Insight",
          "Insight",
          "Insight",
          "Insight",
          "Insight",
          "Insight",
          "Insight",
          "Insight",
          "Insight",
          "Insight",
          "Insight",
          "Insight",
          "Insight",
          "Insight",
          "Insight",
          "Insight",
          "Insight",
          "Insight",
          "Insight",
          "Insight",
          "Insight",
          "Insight",
          "Insight",
          "Insight",
          "Insight",
          "Insight",
          "Insight",
          "Insight",
          "Insight",
          "Insight",
          "Insight",
          "Insight",
          "Insight",
          "Insight",
          "Insight",
          "Insight",
          "Insight",
          "Insight",
          "Insight",
          "Insight",
          "Insight",
          "Insight",
          "Insight",
          "Insight",
          "Insight",
          "Insight",
          "Insight",
          "Insight",
          "Insight",
          "Insight",
          "Insight",
          "Insight",
          "Insight",
          "Insight",
          "Insight",
          "Insight",
          "Insight",
          "Insight",
          "Insight",
          "Insight",
          "Insight",
          "Insight",
          "Insight",
          "Insight",
          "Insight",
          "Insight",
          "Insight",
          "Insight",
          "Insight",
          "Insight",
          "Insight",
          "Insight",
          "Insight",
          "Insight",
          "Insight",
          "Insight",
          "Insight",
          "Insight",
          "Insight",
          "Insight",
          "Insight",
          "Insight",
          "Insight",
          "Insight",
          "Insight",
          "Insight",
          "Insight",
          "Insight",
          "Insight",
          "Insight",
          "Insight",
          "Insight",
          "Insight",
          "Insight",
          "Insight",
          "Insight",
          "Insight",
          "Insight",
          "Insight",
          "Insight",
          "Insight",
          "Insight",
          "Insight",
          "Insight",
          "Insight",
          "Insight",
          "Insight",
          "Insight",
          "Insight",
          "Insight",
          "Insight",
          "Insight",
          "Insight",
          "Insight",
          "Insight",
          "Insight",
          "Insight",
          "Insight",
          "Insight",
          "Insight",
          "Insight",
          "Insight",
          "Insight",
          "Insight",
          "Insight",
          "Insight",
          "Insight",
          "Insight",
          "Insight",
          "Insight",
          "Insight",
          "Insight",
          "Insight",
          "Insight",
          "Insight",
          "Insight",
          "Insight",
          "Insight",
          "Insight",
          "Insight",
          "Insight",
          "Insight",
          "Insight",
          "Insight",
          "Insight",
          "Insight",
          "Insight",
          "Insight",
          "Insight",
          "Insight",
          "Insight",
          "Insight",
          "Insight",
          "Insight",
          "Insight",
          "Insight",
          "Insight",
          "Insight",
          "Insight",
          "Insight",
          "Insight",
          "Insight",
          "Insight",
          "Insight",
          "Insight",
          "Insight",
          "Insight",
          "Insight",
          "Insight",
          "Insight",
          "Insight",
          "Insight",
          "Insight",
          "Insight",
          "Insight",
          "Insight",
          "Insight",
          "Insight",
          "Insight",
          "Insight",
          "Insight",
          "Insight",
          "Insight",
          "Insight",
          "Insight",
          "Insight",
          "Insight",
          "Insight",
          "Insight",
          "Insight",
          "Insight",
          "Insight",
          "Insight",
          "Insight",
          "Insight",
          "Insight",
          "Insight",
          "Insight",
          "Insight",
          "Insight",
          "Insight",
          "Insight",
          "Insight",
          "Insight",
          "Insight",
          "Insight",
          "Insight",
          "Insight",
          "Insight",
          "Insight",
          "Insight",
          "Insight",
          "Insight",
          "Insight",
          "Insight",
          "Insight",
          "Insight",
          "Insight",
          "Insight",
          "Insight",
          "Insight",
          "Insight",
          "Insight",
          "Insight",
          "Insight",
          "Insight",
          "Insight",
          "Insight",
          "Insight",
          "Insight",
          "Insight",
          "Insight",
          "Insight",
          "Insight",
          "Insight",
          "Insight",
          "Insight",
          "Insight",
          "Insight",
          "Insight",
          "Insight",
          "Insight",
          "Insight",
          "Insight",
          "Insight",
          "Insight",
          "Insight",
          "Insight",
          "Insight",
          "Insight",
          "Insight",
          "Insight",
          "Insight",
          "Insight",
          "Insight",
          "Insight",
          "Understanding",
          "Understanding",
          "Understanding",
          "Understanding",
          "Understanding",
          "Understanding",
          "Understanding",
          "Understanding",
          "Understanding",
          "Understanding",
          "Understanding",
          "Understanding",
          "Understanding",
          "Understanding",
          "Understanding",
          "Understanding",
          "Understanding",
          "Understanding",
          "Understanding",
          "Understanding",
          "Understanding",
          "Understanding",
          "Understanding",
          "Understanding",
          "Understanding",
          "Understanding",
          "Understanding",
          "Understanding",
          "Understanding",
          "Understanding",
          "Understanding",
          "Understanding",
          "Understanding",
          "Understanding",
          "Understanding",
          "Understanding",
          "Understanding",
          "Understanding",
          "Understanding",
          "Understanding",
          "Understanding",
          "Understanding",
          "Understanding",
          "Understanding",
          "Understanding",
          "Understanding",
          "Understanding",
          "Understanding",
          "Understanding",
          "Understanding",
          "Understanding",
          "Understanding",
          "Understanding",
          "Understanding",
          "Understanding",
          "Understanding",
          "Understanding",
          "Understanding",
          "Understanding",
          "Understanding",
          "Understanding",
          "Understanding",
          "Understanding",
          "Understanding",
          "Understanding",
          "Understanding",
          "Understanding",
          "Understanding",
          "Understanding",
          "Understanding",
          "Understanding",
          "Understanding",
          "Understanding",
          "Understanding",
          "Understanding",
          "Understanding",
          "Understanding",
          "Understanding",
          "Understanding",
          "Understanding",
          "Understanding",
          "Understanding",
          "Understanding",
          "Understanding",
          "Understanding",
          "Understanding",
          "Understanding",
          "Understanding",
          "Understanding",
          "Understanding",
          "Understanding",
          "Understanding",
          "Understanding",
          "Understanding",
          "Understanding",
          "Understanding",
          "Understanding",
          "Understanding",
          "Understanding",
          "Understanding",
          "Understanding",
          "Understanding",
          "Understanding",
          "Understanding",
          "Understanding",
          "Understanding",
          "Understanding",
          "Understanding",
          "Understanding",
          "Understanding",
          "Understanding",
          "Understanding",
          "Understanding",
          "Understanding",
          "Understanding",
          "Understanding",
          "Understanding",
          "Understanding",
          "Understanding",
          "Understanding",
          "Understanding",
          "Understanding",
          "Understanding",
          "Understanding",
          "Understanding",
          "Understanding",
          "Understanding",
          "Understanding",
          "Understanding",
          "Understanding",
          "Understanding",
          "Understanding",
          "Understanding",
          "Understanding",
          "Understanding",
          "Understanding",
          "Understanding",
          "Understanding",
          "Understanding",
          "Understanding",
          "Understanding",
          "Understanding",
          "Understanding",
          "Understanding",
          "Understanding",
          "Understanding",
          "Understanding",
          "Understanding",
          "Understanding",
          "Understanding",
          "Understanding",
          "Understanding",
          "Understanding",
          "Understanding",
          "Understanding",
          "Understanding",
          "Understanding",
          "Understanding",
          "Understanding",
          "Understanding",
          "Understanding",
          "Understanding",
          "Understanding",
          "Understanding",
          "Understanding",
          "Understanding",
          "Understanding",
          "Understanding",
          "Understanding",
          "Understanding",
          "Understanding",
          "Understanding",
          "Understanding",
          "Understanding",
          "Understanding",
          "Understanding",
          "Understanding",
          "Understanding",
          "Understanding",
          "Understanding",
          "Understanding",
          "Understanding",
          "Understanding",
          "Understanding",
          "Understanding",
          "Understanding",
          "Understanding",
          "Understanding",
          "Understanding",
          "Understanding",
          "Understanding",
          "Understanding",
          "Understanding",
          "Understanding",
          "Understanding",
          "Understanding",
          "Understanding",
          "Understanding",
          "Understanding",
          "Understanding",
          "Understanding",
          "Understanding",
          "Understanding",
          "Understanding",
          "Understanding",
          "Understanding",
          "Understanding",
          "Understanding",
          "Understanding",
          "Understanding",
          "Understanding",
          "Understanding",
          "Understanding",
          "Understanding",
          "Understanding",
          "Understanding",
          "Understanding",
          "Understanding",
          "Understanding",
          "Understanding",
          "Understanding",
          "Understanding",
          "Understanding",
          "Understanding",
          "Understanding",
          "Understanding",
          "Understanding",
          "Understanding",
          "Understanding",
          "Understanding",
          "Understanding",
          "Understanding",
          "Understanding",
          "Understanding",
          "Understanding",
          "Understanding",
          "Understanding",
          "Understanding",
          "Understanding",
          "Understanding",
          "Understanding",
          "Understanding",
          "Understanding",
          "Understanding",
          "Understanding",
          "Understanding",
          "Understanding",
          "Understanding",
          "Understanding",
          "Understanding",
          "Understanding",
          "Understanding",
          "Understanding",
          "Understanding",
          "Understanding",
          "Understanding",
          "Understanding",
          "Understanding",
          "Understanding",
          "Understanding",
          "Understanding",
          "Understanding",
          "Understanding",
          "Understanding",
          "Understanding",
          "Understanding",
          "Understanding",
          "Understanding",
          "Understanding",
          "Understanding",
          "Understanding",
          "Understanding",
          "Understanding",
          "Understanding",
          "Understanding",
          "Understanding",
          "Understanding",
          "Understanding",
          "Understanding",
          "Understanding",
          "Understanding",
          "Understanding",
          "Understanding",
          "Understanding",
          "Understanding",
          "Understanding",
          "Understanding",
          "Understanding",
          "Understanding",
          "Understanding",
          "Understanding",
          "Understanding",
          "Understanding",
          "Understanding",
          "Understanding",
          "Understanding",
          "Understanding",
          "Understanding",
          "Understanding",
          "Understanding",
          "Understanding",
          "Understanding",
          "Understanding",
          "Understanding",
          "Understanding",
          "Understanding",
          "Understanding",
          "Understanding",
          "Understanding",
          "Understanding",
          "Understanding",
          "Understanding",
          "Understanding",
          "Understanding",
          "Understanding",
          "Understanding",
          "Understanding",
          "Understanding",
          "Understanding",
          "Understanding",
          "Understanding",
          "Understanding",
          "Understanding",
          "Understanding",
          "Understanding",
          "Understanding",
          "Understanding",
          "Understanding",
          "Understanding",
          "Understanding",
          "Understanding",
          "Understanding",
          "Understanding",
          "Understanding",
          "Understanding",
          "Understanding",
          "Understanding",
          "Understanding",
          "Understanding",
          "Understanding",
          "Understanding",
          "Understanding",
          "Understanding",
          "Understanding",
          "Understanding",
          "Understanding",
          "Understanding",
          "Understanding",
          "Understanding",
          "Understanding",
          "Understanding",
          "Understanding",
          "Understanding",
          "Understanding",
          "Understanding",
          "Understanding",
          "Understanding",
          "Understanding",
          "Understanding",
          "Understanding",
          "Understanding",
          "Understanding",
          "Understanding",
          "Understanding",
          "Understanding",
          "Understanding",
          "Understanding",
          "Understanding",
          "Understanding",
          "Understanding",
          "Understanding",
          "Understanding",
          "Understanding",
          "Understanding",
          "Understanding",
          "Understanding",
          "Understanding",
          "Understanding",
          "Ease",
          "Ease",
          "Ease",
          "Ease",
          "Ease",
          "Ease",
          "Ease",
          "Ease",
          "Ease",
          "Ease",
          "Ease",
          "Ease",
          "Ease",
          "Ease",
          "Ease",
          "Ease",
          "Ease",
          "Ease",
          "Ease",
          "Ease",
          "Ease",
          "Ease",
          "Ease",
          "Ease",
          "Ease",
          "Ease",
          "Ease",
          "Ease",
          "Ease",
          "Ease",
          "Ease",
          "Ease",
          "Ease",
          "Ease",
          "Ease",
          "Ease",
          "Ease",
          "Ease",
          "Ease",
          "Ease",
          "Ease",
          "Ease",
          "Ease",
          "Ease",
          "Ease",
          "Ease",
          "Ease",
          "Ease",
          "Ease",
          "Ease",
          "Ease",
          "Ease",
          "Ease",
          "Ease",
          "Ease",
          "Ease",
          "Ease",
          "Ease",
          "Ease",
          "Ease",
          "Ease",
          "Ease",
          "Ease",
          "Ease",
          "Ease",
          "Ease",
          "Ease",
          "Ease",
          "Ease",
          "Ease",
          "Ease",
          "Ease",
          "Ease",
          "Ease",
          "Ease",
          "Ease",
          "Ease",
          "Ease",
          "Ease",
          "Ease",
          "Ease",
          "Ease",
          "Ease",
          "Ease",
          "Ease",
          "Ease",
          "Ease",
          "Ease",
          "Ease",
          "Ease",
          "Ease",
          "Ease",
          "Ease",
          "Ease",
          "Ease",
          "Ease",
          "Ease",
          "Ease",
          "Ease",
          "Ease",
          "Ease",
          "Ease",
          "Ease",
          "Ease",
          "Ease",
          "Ease",
          "Ease",
          "Ease",
          "Ease",
          "Ease",
          "Ease",
          "Ease",
          "Ease",
          "Ease",
          "Ease",
          "Ease",
          "Ease",
          "Ease",
          "Ease",
          "Ease",
          "Ease",
          "Ease",
          "Ease",
          "Ease",
          "Ease",
          "Ease",
          "Ease",
          "Ease",
          "Ease",
          "Ease",
          "Ease",
          "Ease",
          "Ease",
          "Ease",
          "Ease",
          "Ease",
          "Ease",
          "Ease",
          "Ease",
          "Ease",
          "Ease",
          "Ease",
          "Ease",
          "Ease",
          "Ease",
          "Ease",
          "Ease",
          "Ease",
          "Ease",
          "Ease",
          "Ease",
          "Ease",
          "Ease",
          "Ease",
          "Ease",
          "Ease",
          "Ease",
          "Ease",
          "Ease",
          "Ease",
          "Ease",
          "Ease",
          "Ease",
          "Ease",
          "Ease",
          "Ease",
          "Ease",
          "Ease",
          "Ease",
          "Ease",
          "Ease",
          "Ease",
          "Ease",
          "Ease",
          "Ease",
          "Ease",
          "Ease",
          "Ease",
          "Ease",
          "Ease",
          "Ease",
          "Ease",
          "Ease",
          "Ease",
          "Ease",
          "Ease",
          "Ease",
          "Ease",
          "Ease",
          "Ease",
          "Ease",
          "Ease",
          "Ease",
          "Ease",
          "Ease",
          "Ease",
          "Ease",
          "Ease",
          "Ease",
          "Ease",
          "Ease",
          "Ease",
          "Ease",
          "Ease",
          "Ease",
          "Ease",
          "Ease",
          "Ease",
          "Ease",
          "Ease",
          "Ease",
          "Ease",
          "Ease",
          "Ease",
          "Ease",
          "Ease",
          "Ease",
          "Ease",
          "Ease",
          "Ease",
          "Ease",
          "Ease",
          "Ease",
          "Ease",
          "Ease",
          "Ease",
          "Ease",
          "Ease",
          "Ease",
          "Ease",
          "Ease",
          "Ease",
          "Ease",
          "Ease",
          "Ease",
          "Ease",
          "Ease",
          "Ease",
          "Ease",
          "Ease",
          "Ease",
          "Ease",
          "Ease",
          "Ease",
          "Ease",
          "Ease",
          "Ease",
          "Ease",
          "Ease",
          "Ease",
          "Ease",
          "Ease",
          "Ease",
          "Ease",
          "Ease",
          "Ease",
          "Ease",
          "Ease",
          "Ease",
          "Ease",
          "Ease",
          "Ease",
          "Ease",
          "Ease",
          "Ease",
          "Ease",
          "Ease",
          "Ease",
          "Ease",
          "Ease",
          "Ease",
          "Ease",
          "Ease",
          "Ease",
          "Ease",
          "Ease",
          "Ease",
          "Ease",
          "Ease",
          "Ease",
          "Ease",
          "Ease",
          "Ease",
          "Ease",
          "Ease",
          "Ease",
          "Ease",
          "Ease",
          "Ease",
          "Ease",
          "Ease",
          "Ease",
          "Ease",
          "Ease",
          "Ease",
          "Ease",
          "Ease",
          "Ease",
          "Ease",
          "Ease",
          "Ease",
          "Ease",
          "Ease",
          "Ease",
          "Ease",
          "Ease",
          "Ease",
          "Ease",
          "Ease",
          "Ease",
          "Ease",
          "Ease",
          "Ease",
          "Ease",
          "Ease",
          "Ease",
          "Ease",
          "Ease",
          "Ease",
          "Ease",
          "Ease",
          "Ease",
          "Ease",
          "Ease",
          "Ease",
          "Ease",
          "Ease",
          "Ease",
          "Ease",
          "Ease",
          "Ease",
          "Ease",
          "Ease",
          "Ease",
          "Ease",
          "Ease",
          "Ease",
          "Ease",
          "Ease",
          "Ease",
          "Ease",
          "Ease",
          "Ease",
          "Ease",
          "Ease",
          "Ease",
          "Ease",
          "Ease",
          "Ease",
          "Ease",
          "Ease",
          "Ease",
          "Ease",
          "Ease",
          "Ease",
          "Ease",
          "Ease",
          "Ease",
          "Ease",
          "Ease",
          "Ease",
          "Ease",
          "Ease",
          "Ease",
          "Ease",
          "Ease",
          "Ease",
          "Ease",
          "Ease",
          "Ease",
          "Ease",
          "Ease",
          "Ease",
          "Ease",
          "Ease",
          "Ease",
          "Ease",
          "Ease"
         ],
         "x0": " ",
         "xaxis": "x",
         "y": [
          5,
          1,
          5,
          1,
          5,
          4,
          1,
          1,
          2,
          5,
          1,
          3,
          3,
          5,
          4,
          1,
          2,
          5,
          5,
          4,
          5,
          2,
          1,
          5,
          4,
          4,
          1,
          3,
          3,
          5,
          2,
          3,
          5,
          null,
          3,
          null,
          2,
          5,
          null,
          null,
          null,
          null,
          5,
          3,
          4,
          null,
          null,
          null,
          null,
          null,
          null,
          null,
          null,
          null,
          null,
          null,
          null,
          null,
          null,
          null,
          null,
          null,
          null,
          null,
          null,
          null,
          null,
          null,
          null,
          null,
          null,
          null,
          null,
          null,
          null,
          null,
          null,
          null,
          null,
          null,
          null,
          null,
          null,
          null,
          5,
          3,
          3,
          1,
          5,
          1,
          4,
          1,
          1,
          5,
          5,
          1,
          3,
          5,
          5,
          1,
          5,
          2,
          5,
          5,
          5,
          5,
          1,
          4,
          3,
          5,
          1,
          3,
          5,
          5,
          5,
          5,
          3,
          1,
          1,
          1,
          3,
          5,
          3,
          2,
          2,
          1,
          3,
          null,
          null,
          null,
          null,
          null,
          null,
          null,
          null,
          null,
          5,
          1,
          1,
          3,
          5,
          5,
          5,
          null,
          2,
          null,
          null,
          null,
          null,
          null,
          null,
          null,
          null,
          null,
          null,
          null,
          null,
          null,
          null,
          null,
          1,
          null,
          null,
          null,
          null,
          null,
          null,
          null,
          5,
          1,
          3,
          1,
          4,
          4,
          3,
          1,
          4,
          5,
          null,
          2,
          2,
          5,
          3,
          null,
          5,
          2,
          3,
          5,
          null,
          3,
          1,
          5,
          5,
          5,
          1,
          5,
          5,
          5,
          2,
          4,
          5,
          null,
          null,
          null,
          null,
          5,
          null,
          null,
          null,
          null,
          5,
          2,
          3,
          3,
          4,
          3,
          2,
          null,
          1,
          4,
          2,
          null,
          3,
          5,
          5,
          null,
          null,
          null,
          null,
          null,
          null,
          null,
          null,
          null,
          null,
          null,
          null,
          null,
          null,
          null,
          null,
          null,
          null,
          null,
          null,
          null,
          null,
          null,
          null,
          null,
          null,
          null,
          5,
          5,
          5,
          1,
          4,
          2,
          3,
          3,
          4,
          4,
          4,
          4,
          5,
          5,
          5,
          null,
          5,
          3,
          5,
          5,
          null,
          5,
          1,
          null,
          null,
          null,
          null,
          null,
          null,
          null,
          null,
          null,
          null,
          null,
          1,
          null,
          null,
          null,
          null,
          null,
          null,
          null,
          2,
          3,
          2,
          2,
          5,
          3,
          2,
          2,
          3,
          3,
          2,
          1,
          3,
          4,
          5,
          1,
          2,
          4,
          4,
          4,
          4,
          4,
          5,
          1,
          3,
          5,
          2,
          3,
          2,
          4,
          3,
          2,
          null,
          null,
          null,
          null,
          null,
          5,
          null,
          null,
          null,
          null,
          1,
          3,
          5,
          5,
          5,
          5,
          1,
          5,
          5,
          1,
          1,
          3,
          5,
          5,
          5,
          1,
          5,
          null,
          null,
          5,
          5,
          5,
          2,
          5,
          3,
          5,
          5,
          2,
          5,
          5,
          2,
          5,
          5,
          null,
          null,
          null,
          null,
          5,
          null,
          null,
          null,
          null,
          5,
          3,
          5,
          4,
          5,
          2,
          1,
          2,
          1,
          3,
          5,
          5,
          5,
          3,
          5,
          5,
          2,
          5,
          5,
          3,
          4,
          5,
          4,
          1,
          3,
          5,
          5,
          2,
          4,
          5,
          3,
          2,
          5,
          null,
          5,
          null,
          3,
          5,
          null,
          null,
          null,
          null,
          5,
          3,
          5,
          null,
          null,
          null,
          null,
          null,
          null,
          null,
          null,
          null,
          null,
          null,
          null,
          null,
          null,
          null,
          null,
          null,
          null,
          null,
          null,
          null,
          null,
          null,
          null,
          null,
          null,
          null,
          null,
          null,
          null,
          null,
          null,
          null,
          null,
          null,
          null,
          null,
          null,
          null,
          5,
          1,
          3,
          1,
          5,
          1,
          2,
          1,
          1,
          5,
          5,
          1,
          3,
          5,
          4,
          1,
          4,
          4,
          4,
          5,
          4,
          4,
          1,
          4,
          4,
          5,
          5,
          3,
          4,
          5,
          5,
          3,
          3,
          1,
          1,
          1,
          3,
          4,
          2,
          3,
          2,
          3,
          5,
          null,
          null,
          null,
          null,
          null,
          null,
          null,
          null,
          null,
          5,
          1,
          2,
          2,
          5,
          5,
          5,
          null,
          2,
          null,
          null,
          null,
          null,
          null,
          null,
          null,
          null,
          null,
          null,
          null,
          null,
          null,
          null,
          null,
          1,
          null,
          null,
          null,
          null,
          null,
          null,
          null,
          5,
          2,
          3,
          1,
          4,
          4,
          3,
          1,
          2,
          5,
          null,
          1,
          1,
          5,
          3,
          null,
          5,
          2,
          3,
          5,
          null,
          3,
          1,
          4,
          2,
          5,
          1,
          4,
          2,
          5,
          1,
          1,
          5,
          null,
          null,
          null,
          null,
          5,
          null,
          null,
          null,
          null,
          5,
          4,
          5,
          4,
          4,
          2,
          1,
          null,
          1,
          4,
          2,
          null,
          5,
          4,
          5,
          null,
          null,
          null,
          null,
          null,
          null,
          null,
          null,
          null,
          null,
          null,
          null,
          null,
          null,
          null,
          null,
          null,
          null,
          null,
          null,
          null,
          null,
          null,
          null,
          null,
          null,
          null,
          3,
          1,
          4,
          2,
          5,
          3,
          1,
          3,
          3,
          4,
          4,
          3,
          5,
          3,
          5,
          null,
          4,
          2,
          5,
          5,
          null,
          5,
          1,
          null,
          null,
          null,
          null,
          null,
          null,
          null,
          null,
          null,
          null,
          null,
          1,
          null,
          null,
          null,
          null,
          null,
          null,
          null,
          5,
          3,
          4,
          4,
          5,
          3,
          3,
          2,
          3,
          3,
          2,
          2,
          3,
          4,
          5,
          1,
          2,
          4,
          5,
          4,
          3,
          4,
          5,
          2,
          3,
          5,
          4,
          3,
          2,
          5,
          4,
          2,
          null,
          null,
          null,
          null,
          null,
          5,
          null,
          null,
          null,
          null,
          1,
          2,
          5,
          1,
          5,
          3,
          1,
          3,
          4,
          1,
          2,
          3,
          5,
          5,
          5,
          2,
          5,
          null,
          null,
          5,
          5,
          5,
          2,
          5,
          5,
          5,
          3,
          3,
          5,
          5,
          5,
          3,
          5,
          null,
          null,
          null,
          null,
          5,
          null,
          null,
          null,
          null,
          2,
          1,
          5,
          1,
          4,
          1,
          1,
          1,
          1,
          1,
          1,
          3,
          3,
          3,
          4,
          1,
          1,
          5,
          4,
          5,
          4,
          3,
          1,
          4,
          4,
          4,
          4,
          2,
          3,
          5,
          3,
          4,
          4,
          null,
          2,
          null,
          2,
          4,
          null,
          null,
          null,
          null,
          5,
          3,
          4,
          null,
          null,
          null,
          null,
          null,
          null,
          null,
          null,
          null,
          null,
          null,
          null,
          null,
          null,
          null,
          null,
          null,
          null,
          null,
          null,
          null,
          null,
          null,
          null,
          null,
          null,
          null,
          null,
          null,
          null,
          null,
          null,
          null,
          null,
          null,
          null,
          null,
          null,
          null,
          1,
          1,
          4,
          1,
          5,
          1,
          3,
          1,
          1,
          1,
          5,
          1,
          3,
          5,
          3,
          1,
          4,
          3,
          3,
          5,
          5,
          4,
          1,
          3,
          4,
          5,
          4,
          1,
          4,
          5,
          5,
          3,
          3,
          1,
          1,
          1,
          2,
          4,
          2,
          2,
          1,
          1,
          1,
          null,
          null,
          null,
          null,
          null,
          null,
          null,
          null,
          null,
          5,
          1,
          2,
          5,
          5,
          4,
          5,
          null,
          1,
          null,
          null,
          null,
          null,
          null,
          null,
          null,
          null,
          null,
          null,
          null,
          null,
          null,
          null,
          null,
          2,
          null,
          null,
          null,
          null,
          null,
          null,
          null,
          5,
          2,
          3,
          1,
          4,
          4,
          2,
          1,
          2,
          5,
          null,
          2,
          1,
          5,
          3,
          null,
          5,
          2,
          2,
          5,
          null,
          3,
          1,
          4,
          2,
          5,
          1,
          4,
          3,
          5,
          1,
          3,
          5,
          null,
          null,
          null,
          null,
          5,
          null,
          null,
          null,
          null,
          3,
          2,
          3,
          3,
          3,
          2,
          1,
          null,
          1,
          3,
          2,
          null,
          4,
          4,
          5,
          null,
          null,
          null,
          null,
          null,
          null,
          null,
          null,
          null,
          null,
          null,
          null,
          null,
          null,
          null,
          null,
          null,
          null,
          null,
          null,
          null,
          null,
          null,
          null,
          null,
          null,
          null,
          3,
          1,
          1,
          1,
          3,
          2,
          4,
          1,
          2,
          4,
          4,
          4,
          3,
          2,
          5,
          null,
          5,
          4,
          5,
          5,
          null,
          5,
          3,
          null,
          null,
          null,
          null,
          null,
          null,
          null,
          null,
          null,
          null,
          null,
          4,
          null,
          null,
          null,
          null,
          null,
          null,
          null,
          1,
          4,
          3,
          3,
          5,
          3,
          2,
          2,
          4,
          2,
          3,
          2,
          2,
          4,
          5,
          1,
          2,
          5,
          5,
          4,
          3,
          5,
          5,
          1,
          3,
          5,
          5,
          3,
          4,
          5,
          5,
          2,
          null,
          null,
          null,
          null,
          null,
          5,
          null,
          null,
          null,
          null,
          1,
          5,
          5,
          2,
          5,
          3,
          1,
          5,
          4,
          1,
          1,
          1,
          5,
          5,
          5,
          1,
          5,
          null,
          null,
          5,
          5,
          5,
          5,
          5,
          3,
          5,
          5,
          3,
          5,
          5,
          5,
          4,
          3,
          null,
          null,
          null,
          null,
          5,
          null,
          null,
          null,
          null,
          1,
          1,
          5,
          2,
          4,
          1,
          1,
          2,
          5,
          1,
          1,
          2,
          3,
          5,
          4,
          1,
          3,
          4,
          3,
          5,
          4,
          5,
          2,
          2,
          2,
          5,
          5,
          1,
          4,
          5,
          4,
          2,
          4,
          null,
          4,
          null,
          1,
          4,
          null,
          null,
          null,
          null,
          4,
          3,
          4,
          null,
          null,
          null,
          null,
          null,
          null,
          null,
          null,
          null,
          null,
          null,
          null,
          null,
          null,
          null,
          null,
          null,
          null,
          null,
          null,
          null,
          null,
          null,
          null,
          null,
          null,
          null,
          null,
          null,
          null,
          null,
          null,
          null,
          null,
          null,
          null,
          null,
          null,
          null,
          1,
          1,
          3,
          2,
          4,
          1,
          1,
          1,
          1,
          2,
          5,
          1,
          3,
          5,
          3,
          1,
          4,
          3,
          3,
          5,
          4,
          4,
          1,
          3,
          4,
          5,
          3,
          1,
          4,
          5,
          5,
          4,
          3,
          1,
          1,
          1,
          3,
          5,
          3,
          2,
          1,
          2,
          2,
          null,
          null,
          null,
          null,
          null,
          null,
          null,
          null,
          null,
          3,
          1,
          3,
          5,
          5,
          2,
          5,
          null,
          3,
          null,
          null,
          null,
          null,
          null,
          null,
          null,
          null,
          null,
          null,
          null,
          null,
          null,
          null,
          null,
          4,
          null,
          null,
          null,
          null,
          null,
          null,
          null,
          5,
          2,
          1,
          1,
          3,
          4,
          2,
          1,
          3,
          5,
          null,
          2,
          1,
          5,
          2,
          null,
          5,
          2,
          2,
          5,
          null,
          3,
          1,
          4,
          3,
          5,
          1,
          3,
          5,
          5,
          1,
          3,
          5,
          null,
          null,
          null,
          null,
          5,
          null,
          null,
          null,
          null,
          5,
          5,
          4,
          4,
          3,
          4,
          4,
          null,
          4,
          5,
          5,
          null,
          4,
          5,
          4,
          null,
          null,
          null,
          null,
          null,
          null,
          null,
          null,
          null,
          null,
          null,
          null,
          null,
          null,
          null,
          null,
          null,
          null,
          null,
          null,
          null,
          null,
          null,
          null,
          null,
          null,
          null,
          5,
          5,
          4,
          1,
          4,
          5,
          5,
          5,
          5,
          5,
          5,
          3,
          3,
          5,
          5,
          null,
          5,
          5,
          5,
          5,
          null,
          4,
          3,
          null,
          null,
          null,
          null,
          null,
          null,
          null,
          null,
          null,
          null,
          null,
          4,
          null,
          null,
          null,
          null,
          null,
          null,
          null,
          3,
          4,
          4,
          2,
          3,
          2,
          4,
          3,
          4,
          3,
          3,
          2,
          3,
          5,
          5,
          1,
          4,
          5,
          5,
          5,
          4,
          5,
          5,
          3,
          2,
          5,
          5,
          2,
          4,
          4,
          5,
          3,
          null,
          null,
          null,
          null,
          null,
          5,
          null,
          null,
          null,
          null,
          1,
          5,
          5,
          2,
          5,
          5,
          1,
          5,
          4,
          1,
          4,
          2,
          5,
          5,
          5,
          4,
          5,
          null,
          null,
          5,
          5,
          5,
          5,
          5,
          3,
          5,
          5,
          3,
          5,
          5,
          5,
          4,
          3,
          null,
          null,
          null,
          null,
          5,
          null,
          null,
          null,
          null,
          5,
          2,
          2,
          2,
          2,
          5,
          3,
          4,
          4,
          5,
          3,
          2,
          1,
          4,
          4,
          4,
          4,
          2,
          1,
          2,
          2,
          3,
          5,
          2,
          3,
          2,
          3,
          2,
          2,
          3,
          2,
          3,
          1,
          null,
          1,
          null,
          5,
          2,
          null,
          null,
          null,
          null,
          5,
          3,
          4,
          null,
          null,
          null,
          null,
          null,
          null,
          null,
          null,
          null,
          null,
          null,
          null,
          null,
          null,
          null,
          null,
          null,
          null,
          null,
          null,
          null,
          null,
          null,
          null,
          null,
          null,
          null,
          null,
          null,
          null,
          null,
          null,
          null,
          null,
          null,
          null,
          null,
          null,
          null,
          5,
          1,
          3,
          3,
          3,
          1,
          1,
          1,
          1,
          5,
          5,
          1,
          3,
          5,
          4,
          1,
          4,
          3,
          4,
          5,
          2,
          4,
          1,
          4,
          3,
          3,
          3,
          1,
          3,
          5,
          5,
          4,
          3,
          1,
          1,
          1,
          3,
          5,
          2,
          3,
          1,
          2,
          5,
          null,
          null,
          null,
          null,
          null,
          null,
          null,
          null,
          null,
          5,
          2,
          3,
          5,
          5,
          5,
          4,
          null,
          3,
          null,
          null,
          null,
          null,
          null,
          null,
          null,
          null,
          null,
          null,
          null,
          null,
          null,
          null,
          null,
          4,
          null,
          null,
          null,
          null,
          null,
          null,
          null,
          5,
          4,
          1,
          1,
          3,
          5,
          4,
          5,
          4,
          5,
          null,
          1,
          1,
          5,
          2,
          null,
          5,
          2,
          2,
          5,
          null,
          2,
          1,
          4,
          3,
          5,
          1,
          3,
          4,
          4,
          1,
          3,
          4,
          null,
          null,
          null,
          null,
          4,
          null,
          null,
          null,
          null,
          5,
          5,
          3,
          4,
          3,
          4,
          5,
          null,
          5,
          5,
          5,
          null,
          2,
          4,
          4,
          null,
          null,
          null,
          null,
          null,
          null,
          null,
          null,
          null,
          null,
          null,
          null,
          null,
          null,
          null,
          null,
          null,
          null,
          null,
          null,
          null,
          null,
          null,
          null,
          null,
          null,
          null,
          5,
          5,
          4,
          2,
          4,
          5,
          5,
          5,
          5,
          5,
          5,
          3,
          4,
          4,
          4,
          null,
          4,
          5,
          3,
          5,
          null,
          3,
          5,
          null,
          null,
          null,
          null,
          null,
          null,
          null,
          null,
          null,
          null,
          null,
          2,
          null,
          null,
          null,
          null,
          null,
          null,
          null,
          5,
          3,
          3,
          2,
          3,
          4,
          5,
          3,
          4,
          5,
          5,
          2,
          3,
          5,
          4,
          5,
          4,
          3,
          4,
          4,
          3,
          5,
          5,
          5,
          5,
          5,
          5,
          4,
          4,
          3,
          5,
          3,
          null,
          null,
          null,
          null,
          null,
          5,
          null,
          null,
          null,
          null,
          1,
          5,
          5,
          2,
          5,
          5,
          1,
          5,
          4,
          1,
          4,
          1,
          5,
          5,
          5,
          4,
          5,
          null,
          null,
          5,
          5,
          5,
          5,
          5,
          3,
          5,
          5,
          3,
          3,
          5,
          3,
          4,
          3,
          null,
          null,
          null,
          null,
          5,
          null,
          null,
          null,
          null
         ],
         "y0": " ",
         "yaxis": "y"
        }
       ],
       "layout": {
        "legend": {
         "tracegroupgap": 0
        },
        "margin": {
         "t": 60
        },
        "template": {
         "data": {
          "bar": [
           {
            "error_x": {
             "color": "#f2f5fa"
            },
            "error_y": {
             "color": "#f2f5fa"
            },
            "marker": {
             "line": {
              "color": "rgb(17,17,17)",
              "width": 0.5
             },
             "pattern": {
              "fillmode": "overlay",
              "size": 10,
              "solidity": 0.2
             }
            },
            "type": "bar"
           }
          ],
          "barpolar": [
           {
            "marker": {
             "line": {
              "color": "rgb(17,17,17)",
              "width": 0.5
             },
             "pattern": {
              "fillmode": "overlay",
              "size": 10,
              "solidity": 0.2
             }
            },
            "type": "barpolar"
           }
          ],
          "carpet": [
           {
            "aaxis": {
             "endlinecolor": "#A2B1C6",
             "gridcolor": "#506784",
             "linecolor": "#506784",
             "minorgridcolor": "#506784",
             "startlinecolor": "#A2B1C6"
            },
            "baxis": {
             "endlinecolor": "#A2B1C6",
             "gridcolor": "#506784",
             "linecolor": "#506784",
             "minorgridcolor": "#506784",
             "startlinecolor": "#A2B1C6"
            },
            "type": "carpet"
           }
          ],
          "choropleth": [
           {
            "colorbar": {
             "outlinewidth": 0,
             "ticks": ""
            },
            "type": "choropleth"
           }
          ],
          "contour": [
           {
            "colorbar": {
             "outlinewidth": 0,
             "ticks": ""
            },
            "colorscale": [
             [
              0,
              "#0d0887"
             ],
             [
              0.1111111111111111,
              "#46039f"
             ],
             [
              0.2222222222222222,
              "#7201a8"
             ],
             [
              0.3333333333333333,
              "#9c179e"
             ],
             [
              0.4444444444444444,
              "#bd3786"
             ],
             [
              0.5555555555555556,
              "#d8576b"
             ],
             [
              0.6666666666666666,
              "#ed7953"
             ],
             [
              0.7777777777777778,
              "#fb9f3a"
             ],
             [
              0.8888888888888888,
              "#fdca26"
             ],
             [
              1,
              "#f0f921"
             ]
            ],
            "type": "contour"
           }
          ],
          "contourcarpet": [
           {
            "colorbar": {
             "outlinewidth": 0,
             "ticks": ""
            },
            "type": "contourcarpet"
           }
          ],
          "heatmap": [
           {
            "colorbar": {
             "outlinewidth": 0,
             "ticks": ""
            },
            "colorscale": [
             [
              0,
              "#0d0887"
             ],
             [
              0.1111111111111111,
              "#46039f"
             ],
             [
              0.2222222222222222,
              "#7201a8"
             ],
             [
              0.3333333333333333,
              "#9c179e"
             ],
             [
              0.4444444444444444,
              "#bd3786"
             ],
             [
              0.5555555555555556,
              "#d8576b"
             ],
             [
              0.6666666666666666,
              "#ed7953"
             ],
             [
              0.7777777777777778,
              "#fb9f3a"
             ],
             [
              0.8888888888888888,
              "#fdca26"
             ],
             [
              1,
              "#f0f921"
             ]
            ],
            "type": "heatmap"
           }
          ],
          "heatmapgl": [
           {
            "colorbar": {
             "outlinewidth": 0,
             "ticks": ""
            },
            "colorscale": [
             [
              0,
              "#0d0887"
             ],
             [
              0.1111111111111111,
              "#46039f"
             ],
             [
              0.2222222222222222,
              "#7201a8"
             ],
             [
              0.3333333333333333,
              "#9c179e"
             ],
             [
              0.4444444444444444,
              "#bd3786"
             ],
             [
              0.5555555555555556,
              "#d8576b"
             ],
             [
              0.6666666666666666,
              "#ed7953"
             ],
             [
              0.7777777777777778,
              "#fb9f3a"
             ],
             [
              0.8888888888888888,
              "#fdca26"
             ],
             [
              1,
              "#f0f921"
             ]
            ],
            "type": "heatmapgl"
           }
          ],
          "histogram": [
           {
            "marker": {
             "pattern": {
              "fillmode": "overlay",
              "size": 10,
              "solidity": 0.2
             }
            },
            "type": "histogram"
           }
          ],
          "histogram2d": [
           {
            "colorbar": {
             "outlinewidth": 0,
             "ticks": ""
            },
            "colorscale": [
             [
              0,
              "#0d0887"
             ],
             [
              0.1111111111111111,
              "#46039f"
             ],
             [
              0.2222222222222222,
              "#7201a8"
             ],
             [
              0.3333333333333333,
              "#9c179e"
             ],
             [
              0.4444444444444444,
              "#bd3786"
             ],
             [
              0.5555555555555556,
              "#d8576b"
             ],
             [
              0.6666666666666666,
              "#ed7953"
             ],
             [
              0.7777777777777778,
              "#fb9f3a"
             ],
             [
              0.8888888888888888,
              "#fdca26"
             ],
             [
              1,
              "#f0f921"
             ]
            ],
            "type": "histogram2d"
           }
          ],
          "histogram2dcontour": [
           {
            "colorbar": {
             "outlinewidth": 0,
             "ticks": ""
            },
            "colorscale": [
             [
              0,
              "#0d0887"
             ],
             [
              0.1111111111111111,
              "#46039f"
             ],
             [
              0.2222222222222222,
              "#7201a8"
             ],
             [
              0.3333333333333333,
              "#9c179e"
             ],
             [
              0.4444444444444444,
              "#bd3786"
             ],
             [
              0.5555555555555556,
              "#d8576b"
             ],
             [
              0.6666666666666666,
              "#ed7953"
             ],
             [
              0.7777777777777778,
              "#fb9f3a"
             ],
             [
              0.8888888888888888,
              "#fdca26"
             ],
             [
              1,
              "#f0f921"
             ]
            ],
            "type": "histogram2dcontour"
           }
          ],
          "mesh3d": [
           {
            "colorbar": {
             "outlinewidth": 0,
             "ticks": ""
            },
            "type": "mesh3d"
           }
          ],
          "parcoords": [
           {
            "line": {
             "colorbar": {
              "outlinewidth": 0,
              "ticks": ""
             }
            },
            "type": "parcoords"
           }
          ],
          "pie": [
           {
            "automargin": true,
            "type": "pie"
           }
          ],
          "scatter": [
           {
            "marker": {
             "line": {
              "color": "#283442"
             }
            },
            "type": "scatter"
           }
          ],
          "scatter3d": [
           {
            "line": {
             "colorbar": {
              "outlinewidth": 0,
              "ticks": ""
             }
            },
            "marker": {
             "colorbar": {
              "outlinewidth": 0,
              "ticks": ""
             }
            },
            "type": "scatter3d"
           }
          ],
          "scattercarpet": [
           {
            "marker": {
             "colorbar": {
              "outlinewidth": 0,
              "ticks": ""
             }
            },
            "type": "scattercarpet"
           }
          ],
          "scattergeo": [
           {
            "marker": {
             "colorbar": {
              "outlinewidth": 0,
              "ticks": ""
             }
            },
            "type": "scattergeo"
           }
          ],
          "scattergl": [
           {
            "marker": {
             "line": {
              "color": "#283442"
             }
            },
            "type": "scattergl"
           }
          ],
          "scattermapbox": [
           {
            "marker": {
             "colorbar": {
              "outlinewidth": 0,
              "ticks": ""
             }
            },
            "type": "scattermapbox"
           }
          ],
          "scatterpolar": [
           {
            "marker": {
             "colorbar": {
              "outlinewidth": 0,
              "ticks": ""
             }
            },
            "type": "scatterpolar"
           }
          ],
          "scatterpolargl": [
           {
            "marker": {
             "colorbar": {
              "outlinewidth": 0,
              "ticks": ""
             }
            },
            "type": "scatterpolargl"
           }
          ],
          "scatterternary": [
           {
            "marker": {
             "colorbar": {
              "outlinewidth": 0,
              "ticks": ""
             }
            },
            "type": "scatterternary"
           }
          ],
          "surface": [
           {
            "colorbar": {
             "outlinewidth": 0,
             "ticks": ""
            },
            "colorscale": [
             [
              0,
              "#0d0887"
             ],
             [
              0.1111111111111111,
              "#46039f"
             ],
             [
              0.2222222222222222,
              "#7201a8"
             ],
             [
              0.3333333333333333,
              "#9c179e"
             ],
             [
              0.4444444444444444,
              "#bd3786"
             ],
             [
              0.5555555555555556,
              "#d8576b"
             ],
             [
              0.6666666666666666,
              "#ed7953"
             ],
             [
              0.7777777777777778,
              "#fb9f3a"
             ],
             [
              0.8888888888888888,
              "#fdca26"
             ],
             [
              1,
              "#f0f921"
             ]
            ],
            "type": "surface"
           }
          ],
          "table": [
           {
            "cells": {
             "fill": {
              "color": "#506784"
             },
             "line": {
              "color": "rgb(17,17,17)"
             }
            },
            "header": {
             "fill": {
              "color": "#2a3f5f"
             },
             "line": {
              "color": "rgb(17,17,17)"
             }
            },
            "type": "table"
           }
          ]
         },
         "layout": {
          "annotationdefaults": {
           "arrowcolor": "#f2f5fa",
           "arrowhead": 0,
           "arrowwidth": 1
          },
          "autotypenumbers": "strict",
          "coloraxis": {
           "colorbar": {
            "outlinewidth": 0,
            "ticks": ""
           }
          },
          "colorscale": {
           "diverging": [
            [
             0,
             "#8e0152"
            ],
            [
             0.1,
             "#c51b7d"
            ],
            [
             0.2,
             "#de77ae"
            ],
            [
             0.3,
             "#f1b6da"
            ],
            [
             0.4,
             "#fde0ef"
            ],
            [
             0.5,
             "#f7f7f7"
            ],
            [
             0.6,
             "#e6f5d0"
            ],
            [
             0.7,
             "#b8e186"
            ],
            [
             0.8,
             "#7fbc41"
            ],
            [
             0.9,
             "#4d9221"
            ],
            [
             1,
             "#276419"
            ]
           ],
           "sequential": [
            [
             0,
             "#0d0887"
            ],
            [
             0.1111111111111111,
             "#46039f"
            ],
            [
             0.2222222222222222,
             "#7201a8"
            ],
            [
             0.3333333333333333,
             "#9c179e"
            ],
            [
             0.4444444444444444,
             "#bd3786"
            ],
            [
             0.5555555555555556,
             "#d8576b"
            ],
            [
             0.6666666666666666,
             "#ed7953"
            ],
            [
             0.7777777777777778,
             "#fb9f3a"
            ],
            [
             0.8888888888888888,
             "#fdca26"
            ],
            [
             1,
             "#f0f921"
            ]
           ],
           "sequentialminus": [
            [
             0,
             "#0d0887"
            ],
            [
             0.1111111111111111,
             "#46039f"
            ],
            [
             0.2222222222222222,
             "#7201a8"
            ],
            [
             0.3333333333333333,
             "#9c179e"
            ],
            [
             0.4444444444444444,
             "#bd3786"
            ],
            [
             0.5555555555555556,
             "#d8576b"
            ],
            [
             0.6666666666666666,
             "#ed7953"
            ],
            [
             0.7777777777777778,
             "#fb9f3a"
            ],
            [
             0.8888888888888888,
             "#fdca26"
            ],
            [
             1,
             "#f0f921"
            ]
           ]
          },
          "colorway": [
           "#636efa",
           "#EF553B",
           "#00cc96",
           "#ab63fa",
           "#FFA15A",
           "#19d3f3",
           "#FF6692",
           "#B6E880",
           "#FF97FF",
           "#FECB52"
          ],
          "font": {
           "color": "#f2f5fa"
          },
          "geo": {
           "bgcolor": "rgb(17,17,17)",
           "lakecolor": "rgb(17,17,17)",
           "landcolor": "rgb(17,17,17)",
           "showlakes": true,
           "showland": true,
           "subunitcolor": "#506784"
          },
          "hoverlabel": {
           "align": "left"
          },
          "hovermode": "closest",
          "mapbox": {
           "style": "dark"
          },
          "paper_bgcolor": "rgb(17,17,17)",
          "plot_bgcolor": "rgb(17,17,17)",
          "polar": {
           "angularaxis": {
            "gridcolor": "#506784",
            "linecolor": "#506784",
            "ticks": ""
           },
           "bgcolor": "rgb(17,17,17)",
           "radialaxis": {
            "gridcolor": "#506784",
            "linecolor": "#506784",
            "ticks": ""
           }
          },
          "scene": {
           "xaxis": {
            "backgroundcolor": "rgb(17,17,17)",
            "gridcolor": "#506784",
            "gridwidth": 2,
            "linecolor": "#506784",
            "showbackground": true,
            "ticks": "",
            "zerolinecolor": "#C8D4E3"
           },
           "yaxis": {
            "backgroundcolor": "rgb(17,17,17)",
            "gridcolor": "#506784",
            "gridwidth": 2,
            "linecolor": "#506784",
            "showbackground": true,
            "ticks": "",
            "zerolinecolor": "#C8D4E3"
           },
           "zaxis": {
            "backgroundcolor": "rgb(17,17,17)",
            "gridcolor": "#506784",
            "gridwidth": 2,
            "linecolor": "#506784",
            "showbackground": true,
            "ticks": "",
            "zerolinecolor": "#C8D4E3"
           }
          },
          "shapedefaults": {
           "line": {
            "color": "#f2f5fa"
           }
          },
          "sliderdefaults": {
           "bgcolor": "#C8D4E3",
           "bordercolor": "rgb(17,17,17)",
           "borderwidth": 1,
           "tickwidth": 0
          },
          "ternary": {
           "aaxis": {
            "gridcolor": "#506784",
            "linecolor": "#506784",
            "ticks": ""
           },
           "baxis": {
            "gridcolor": "#506784",
            "linecolor": "#506784",
            "ticks": ""
           },
           "bgcolor": "rgb(17,17,17)",
           "caxis": {
            "gridcolor": "#506784",
            "linecolor": "#506784",
            "ticks": ""
           }
          },
          "title": {
           "x": 0.05
          },
          "updatemenudefaults": {
           "bgcolor": "#506784",
           "borderwidth": 0
          },
          "xaxis": {
           "automargin": true,
           "gridcolor": "#283442",
           "linecolor": "#506784",
           "ticks": "",
           "title": {
            "standoff": 15
           },
           "zerolinecolor": "#283442",
           "zerolinewidth": 2
          },
          "yaxis": {
           "automargin": true,
           "gridcolor": "#283442",
           "linecolor": "#506784",
           "ticks": "",
           "title": {
            "standoff": 15
           },
           "zerolinecolor": "#283442",
           "zerolinewidth": 2
          }
         }
        },
        "violinmode": "group",
        "xaxis": {
         "anchor": "y",
         "domain": [
          0,
          1
         ],
         "title": {
          "text": "variable"
         }
        },
        "yaxis": {
         "anchor": "x",
         "domain": [
          0,
          1
         ],
         "title": {
          "text": "value"
         }
        }
       }
      }
     },
     "metadata": {},
     "output_type": "display_data"
    }
   ],
   "source": [
    "px.violin(rating_counts_raw_df)"
   ]
  },
  {
   "cell_type": "code",
   "execution_count": null,
   "metadata": {},
   "outputs": [
    {
     "data": {
      "application/vnd.plotly.v1+json": {
       "config": {
        "plotlyServerURL": "https://plot.ly"
       },
       "data": [
        {
         "alignmentgroup": "True",
         "bingroup": "x",
         "hovertemplate": "variable=ENGLISH100 [Application]<br>value=%{x}<br>count=%{y}<extra></extra>",
         "legendgroup": "ENGLISH100 [Application]",
         "marker": {
          "color": "#636efa",
          "pattern": {
           "shape": ""
          }
         },
         "name": "ENGLISH100 [Application]",
         "offsetgroup": "ENGLISH100 [Application]",
         "orientation": "v",
         "showlegend": true,
         "type": "histogram",
         "x": [
          5,
          5,
          5,
          3,
          5,
          5,
          5,
          2,
          1
         ],
         "xaxis": "x",
         "yaxis": "y"
        },
        {
         "alignmentgroup": "True",
         "bingroup": "x",
         "hovertemplate": "variable=ARB100 [Application]<br>value=%{x}<br>count=%{y}<extra></extra>",
         "legendgroup": "ARB100 [Application]",
         "marker": {
          "color": "#EF553B",
          "pattern": {
           "shape": ""
          }
         },
         "name": "ARB100 [Application]",
         "offsetgroup": "ARB100 [Application]",
         "orientation": "v",
         "showlegend": true,
         "type": "histogram",
         "x": [
          1,
          3,
          3,
          null,
          1,
          2,
          5,
          3,
          3
         ],
         "xaxis": "x",
         "yaxis": "y"
        },
        {
         "alignmentgroup": "True",
         "bingroup": "x",
         "hovertemplate": "variable=MATH101 [Application]<br>value=%{x}<br>count=%{y}<extra></extra>",
         "legendgroup": "MATH101 [Application]",
         "marker": {
          "color": "#00cc96",
          "pattern": {
           "shape": ""
          }
         },
         "name": "MATH101 [Application]",
         "offsetgroup": "MATH101 [Application]",
         "orientation": "v",
         "showlegend": true,
         "type": "histogram",
         "x": [
          5,
          4,
          3,
          null,
          3,
          3,
          5,
          2,
          5
         ],
         "xaxis": "x",
         "yaxis": "y"
        },
        {
         "alignmentgroup": "True",
         "bingroup": "x",
         "hovertemplate": "variable=CHEM101 [Application]<br>value=%{x}<br>count=%{y}<extra></extra>",
         "legendgroup": "CHEM101 [Application]",
         "marker": {
          "color": "#ab63fa",
          "pattern": {
           "shape": ""
          }
         },
         "name": "CHEM101 [Application]",
         "offsetgroup": "CHEM101 [Application]",
         "orientation": "v",
         "showlegend": true,
         "type": "histogram",
         "x": [
          1,
          null,
          1,
          null,
          1,
          3,
          1,
          2,
          5
         ],
         "xaxis": "x",
         "yaxis": "y"
        },
        {
         "alignmentgroup": "True",
         "bingroup": "x",
         "hovertemplate": "variable=STAT101 [Application]<br>value=%{x}<br>count=%{y}<extra></extra>",
         "legendgroup": "STAT101 [Application]",
         "marker": {
          "color": "#FFA15A",
          "pattern": {
           "shape": ""
          }
         },
         "name": "STAT101 [Application]",
         "offsetgroup": "STAT101 [Application]",
         "orientation": "v",
         "showlegend": true,
         "type": "histogram",
         "x": [
          5,
          null,
          5,
          null,
          4,
          4,
          4,
          5,
          5
         ],
         "xaxis": "x",
         "yaxis": "y"
        },
        {
         "alignmentgroup": "True",
         "bingroup": "x",
         "hovertemplate": "variable=TECH101 [Application]<br>value=%{x}<br>count=%{y}<extra></extra>",
         "legendgroup": "TECH101 [Application]",
         "marker": {
          "color": "#19d3f3",
          "pattern": {
           "shape": ""
          }
         },
         "name": "TECH101 [Application]",
         "offsetgroup": "TECH101 [Application]",
         "orientation": "v",
         "showlegend": true,
         "type": "histogram",
         "x": [
          4,
          null,
          1,
          null,
          4,
          3,
          2,
          3,
          5
         ],
         "xaxis": "x",
         "yaxis": "y"
        },
        {
         "alignmentgroup": "True",
         "bingroup": "x",
         "hovertemplate": "variable=ENTREPRENEUR(ريد)101 [Application]<br>value=%{x}<br>count=%{y}<extra></extra>",
         "legendgroup": "ENTREPRENEUR(ريد)101 [Application]",
         "marker": {
          "color": "#FF6692",
          "pattern": {
           "shape": ""
          }
         },
         "name": "ENTREPRENEUR(ريد)101 [Application]",
         "offsetgroup": "ENTREPRENEUR(ريد)101 [Application]",
         "orientation": "v",
         "showlegend": true,
         "type": "histogram",
         "x": [
          1,
          null,
          4,
          null,
          3,
          2,
          3,
          2,
          1
         ],
         "xaxis": "x",
         "yaxis": "y"
        },
        {
         "alignmentgroup": "True",
         "bingroup": "x",
         "hovertemplate": "variable=FAJAB101 [Application]<br>value=%{x}<br>count=%{y}<extra></extra>",
         "legendgroup": "FAJAB101 [Application]",
         "marker": {
          "color": "#B6E880",
          "pattern": {
           "shape": ""
          }
         },
         "name": "FAJAB101 [Application]",
         "offsetgroup": "FAJAB101 [Application]",
         "orientation": "v",
         "showlegend": true,
         "type": "histogram",
         "x": [
          1,
          null,
          1,
          null,
          1,
          null,
          3,
          2,
          5
         ],
         "xaxis": "x",
         "yaxis": "y"
        },
        {
         "alignmentgroup": "True",
         "bingroup": "x",
         "hovertemplate": "variable=NAHAJ101 [Application]<br>value=%{x}<br>count=%{y}<extra></extra>",
         "legendgroup": "NAHAJ101 [Application]",
         "marker": {
          "color": "#FF97FF",
          "pattern": {
           "shape": ""
          }
         },
         "name": "NAHAJ101 [Application]",
         "offsetgroup": "NAHAJ101 [Application]",
         "orientation": "v",
         "showlegend": true,
         "type": "histogram",
         "x": [
          2,
          null,
          1,
          null,
          4,
          1,
          4,
          3,
          5
         ],
         "xaxis": "x",
         "yaxis": "y"
        },
        {
         "alignmentgroup": "True",
         "bingroup": "x",
         "hovertemplate": "variable=ENGLISH110 [Application]<br>value=%{x}<br>count=%{y}<extra></extra>",
         "legendgroup": "ENGLISH110 [Application]",
         "marker": {
          "color": "#FECB52",
          "pattern": {
           "shape": ""
          }
         },
         "name": "ENGLISH110 [Application]",
         "offsetgroup": "ENGLISH110 [Application]",
         "orientation": "v",
         "showlegend": true,
         "type": "histogram",
         "x": [
          5,
          null,
          5,
          null,
          5,
          4,
          4,
          3,
          1
         ],
         "xaxis": "x",
         "yaxis": "y"
        },
        {
         "alignmentgroup": "True",
         "bingroup": "x",
         "hovertemplate": "variable=SALAM107 [Application]<br>value=%{x}<br>count=%{y}<extra></extra>",
         "legendgroup": "SALAM107 [Application]",
         "marker": {
          "color": "#636efa",
          "pattern": {
           "shape": ""
          }
         },
         "name": "SALAM107 [Application]",
         "offsetgroup": "SALAM107 [Application]",
         "orientation": "v",
         "showlegend": true,
         "type": "histogram",
         "x": [
          1,
          null,
          5,
          5,
          null,
          2,
          4,
          2,
          1
         ],
         "xaxis": "x",
         "yaxis": "y"
        },
        {
         "alignmentgroup": "True",
         "bingroup": "x",
         "hovertemplate": "variable=PHYS104 [Application]<br>value=%{x}<br>count=%{y}<extra></extra>",
         "legendgroup": "PHYS104 [Application]",
         "marker": {
          "color": "#EF553B",
          "pattern": {
           "shape": ""
          }
         },
         "name": "PHYS104 [Application]",
         "offsetgroup": "PHYS104 [Application]",
         "orientation": "v",
         "showlegend": true,
         "type": "histogram",
         "x": [
          3,
          null,
          1,
          1,
          2,
          null,
          4,
          1,
          3
         ],
         "xaxis": "x",
         "yaxis": "y"
        },
        {
         "alignmentgroup": "True",
         "bingroup": "x",
         "hovertemplate": "variable=MATH106 [Application]<br>value=%{x}<br>count=%{y}<extra></extra>",
         "legendgroup": "MATH106 [Application]",
         "marker": {
          "color": "#00cc96",
          "pattern": {
           "shape": ""
          }
         },
         "name": "MATH106 [Application]",
         "offsetgroup": "MATH106 [Application]",
         "orientation": "v",
         "showlegend": true,
         "type": "histogram",
         "x": [
          3,
          null,
          3,
          1,
          2,
          3,
          5,
          3,
          5
         ],
         "xaxis": "x",
         "yaxis": "y"
        },
        {
         "alignmentgroup": "True",
         "bingroup": "x",
         "hovertemplate": "variable=CSC111 [Application]<br>value=%{x}<br>count=%{y}<extra></extra>",
         "legendgroup": "CSC111 [Application]",
         "marker": {
          "color": "#ab63fa",
          "pattern": {
           "shape": ""
          }
         },
         "name": "CSC111 [Application]",
         "offsetgroup": "CSC111 [Application]",
         "orientation": "v",
         "showlegend": true,
         "type": "histogram",
         "x": [
          5,
          null,
          5,
          3,
          5,
          5,
          5,
          4,
          5
         ],
         "xaxis": "x",
         "yaxis": "y"
        },
        {
         "alignmentgroup": "True",
         "bingroup": "x",
         "hovertemplate": "variable=MATH151 [Application]<br>value=%{x}<br>count=%{y}<extra></extra>",
         "legendgroup": "MATH151 [Application]",
         "marker": {
          "color": "#FFA15A",
          "pattern": {
           "shape": ""
          }
         },
         "name": "MATH151 [Application]",
         "offsetgroup": "MATH151 [Application]",
         "orientation": "v",
         "showlegend": true,
         "type": "histogram",
         "x": [
          4,
          null,
          5,
          5,
          3,
          5,
          5,
          5,
          5
         ],
         "xaxis": "x",
         "yaxis": "y"
        },
        {
         "alignmentgroup": "True",
         "bingroup": "x",
         "hovertemplate": "variable=SALAM108 [Application]<br>value=%{x}<br>count=%{y}<extra></extra>",
         "legendgroup": "SALAM108 [Application]",
         "marker": {
          "color": "#19d3f3",
          "pattern": {
           "shape": ""
          }
         },
         "name": "SALAM108 [Application]",
         "offsetgroup": "SALAM108 [Application]",
         "orientation": "v",
         "showlegend": true,
         "type": "histogram",
         "x": [
          1,
          null,
          1,
          5,
          null,
          null,
          null,
          1,
          1
         ],
         "xaxis": "x",
         "yaxis": "y"
        },
        {
         "alignmentgroup": "True",
         "bingroup": "x",
         "hovertemplate": "variable=CSC113 [Application]<br>value=%{x}<br>count=%{y}<extra></extra>",
         "legendgroup": "CSC113 [Application]",
         "marker": {
          "color": "#FF6692",
          "pattern": {
           "shape": ""
          }
         },
         "name": "CSC113 [Application]",
         "offsetgroup": "CSC113 [Application]",
         "orientation": "v",
         "showlegend": true,
         "type": "histogram",
         "x": [
          2,
          null,
          5,
          5,
          5,
          null,
          5,
          2,
          5
         ],
         "xaxis": "x",
         "yaxis": "y"
        },
        {
         "alignmentgroup": "True",
         "bingroup": "x",
         "hovertemplate": "variable=CSC220 [Application]<br>value=%{x}<br>count=%{y}<extra></extra>",
         "legendgroup": "CSC220 [Application]",
         "marker": {
          "color": "#B6E880",
          "pattern": {
           "shape": ""
          }
         },
         "name": "CSC220 [Application]",
         "offsetgroup": "CSC220 [Application]",
         "orientation": "v",
         "showlegend": true,
         "type": "histogram",
         "x": [
          5,
          null,
          2,
          null,
          2,
          null,
          3,
          4,
          null
         ],
         "xaxis": "x",
         "yaxis": "y"
        },
        {
         "alignmentgroup": "True",
         "bingroup": "x",
         "hovertemplate": "variable=MATH244 [Application]<br>value=%{x}<br>count=%{y}<extra></extra>",
         "legendgroup": "MATH244 [Application]",
         "marker": {
          "color": "#FF97FF",
          "pattern": {
           "shape": ""
          }
         },
         "name": "MATH244 [Application]",
         "offsetgroup": "MATH244 [Application]",
         "orientation": "v",
         "showlegend": true,
         "type": "histogram",
         "x": [
          5,
          null,
          5,
          2,
          3,
          null,
          5,
          4,
          null
         ],
         "xaxis": "x",
         "yaxis": "y"
        },
        {
         "alignmentgroup": "True",
         "bingroup": "x",
         "hovertemplate": "variable=CSC212 [Application]<br>value=%{x}<br>count=%{y}<extra></extra>",
         "legendgroup": "CSC212 [Application]",
         "marker": {
          "color": "#FECB52",
          "pattern": {
           "shape": ""
          }
         },
         "name": "CSC212 [Application]",
         "offsetgroup": "CSC212 [Application]",
         "orientation": "v",
         "showlegend": true,
         "type": "histogram",
         "x": [
          4,
          null,
          5,
          null,
          5,
          null,
          5,
          4,
          5
         ],
         "xaxis": "x",
         "yaxis": "y"
        },
        {
         "alignmentgroup": "True",
         "bingroup": "x",
         "hovertemplate": "variable=CSC215 [Application]<br>value=%{x}<br>count=%{y}<extra></extra>",
         "legendgroup": "CSC215 [Application]",
         "marker": {
          "color": "#636efa",
          "pattern": {
           "shape": ""
          }
         },
         "name": "CSC215 [Application]",
         "offsetgroup": "CSC215 [Application]",
         "orientation": "v",
         "showlegend": true,
         "type": "histogram",
         "x": [
          5,
          null,
          5,
          null,
          null,
          null,
          null,
          4,
          5
         ],
         "xaxis": "x",
         "yaxis": "y"
        },
        {
         "alignmentgroup": "True",
         "bingroup": "x",
         "hovertemplate": "variable=MATH281 [Application]<br>value=%{x}<br>count=%{y}<extra></extra>",
         "legendgroup": "MATH281 [Application]",
         "marker": {
          "color": "#EF553B",
          "pattern": {
           "shape": ""
          }
         },
         "name": "MATH281 [Application]",
         "offsetgroup": "MATH281 [Application]",
         "orientation": "v",
         "showlegend": true,
         "type": "histogram",
         "x": [
          2,
          null,
          5,
          null,
          3,
          null,
          5,
          4,
          5
         ],
         "xaxis": "x",
         "yaxis": "y"
        },
        {
         "alignmentgroup": "True",
         "bingroup": "x",
         "hovertemplate": "variable=CSC304 [Application]<br>value=%{x}<br>count=%{y}<extra></extra>",
         "legendgroup": "CSC304 [Application]",
         "marker": {
          "color": "#00cc96",
          "pattern": {
           "shape": ""
          }
         },
         "name": "CSC304 [Application]",
         "offsetgroup": "CSC304 [Application]",
         "orientation": "v",
         "showlegend": true,
         "type": "histogram",
         "x": [
          1,
          null,
          1,
          null,
          1,
          null,
          1,
          5,
          2
         ],
         "xaxis": "x",
         "yaxis": "y"
        },
        {
         "alignmentgroup": "True",
         "bingroup": "x",
         "hovertemplate": "variable=CSC380 [Application]<br>value=%{x}<br>count=%{y}<extra></extra>",
         "legendgroup": "CSC380 [Application]",
         "marker": {
          "color": "#ab63fa",
          "pattern": {
           "shape": ""
          }
         },
         "name": "CSC380 [Application]",
         "offsetgroup": "CSC380 [Application]",
         "orientation": "v",
         "showlegend": true,
         "type": "histogram",
         "x": [
          5,
          null,
          4,
          null,
          5,
          null,
          null,
          1,
          5
         ],
         "xaxis": "x",
         "yaxis": "y"
        },
        {
         "alignmentgroup": "True",
         "bingroup": "x",
         "hovertemplate": "variable=CSC227 [Application]<br>value=%{x}<br>count=%{y}<extra></extra>",
         "legendgroup": "CSC227 [Application]",
         "marker": {
          "color": "#FFA15A",
          "pattern": {
           "shape": ""
          }
         },
         "name": "CSC227 [Application]",
         "offsetgroup": "CSC227 [Application]",
         "orientation": "v",
         "showlegend": true,
         "type": "histogram",
         "x": [
          4,
          null,
          3,
          null,
          5,
          null,
          null,
          3,
          3
         ],
         "xaxis": "x",
         "yaxis": "y"
        },
        {
         "alignmentgroup": "True",
         "bingroup": "x",
         "hovertemplate": "variable=CSC311 [Application]<br>value=%{x}<br>count=%{y}<extra></extra>",
         "legendgroup": "CSC311 [Application]",
         "marker": {
          "color": "#19d3f3",
          "pattern": {
           "shape": ""
          }
         },
         "name": "CSC311 [Application]",
         "offsetgroup": "CSC311 [Application]",
         "orientation": "v",
         "showlegend": true,
         "type": "histogram",
         "x": [
          4,
          null,
          5,
          null,
          5,
          null,
          null,
          5,
          5
         ],
         "xaxis": "x",
         "yaxis": "y"
        },
        {
         "alignmentgroup": "True",
         "bingroup": "x",
         "hovertemplate": "variable=CSC339 [Application]<br>value=%{x}<br>count=%{y}<extra></extra>",
         "legendgroup": "CSC339 [Application]",
         "marker": {
          "color": "#FF6692",
          "pattern": {
           "shape": ""
          }
         },
         "name": "CSC339 [Application]",
         "offsetgroup": "CSC339 [Application]",
         "orientation": "v",
         "showlegend": true,
         "type": "histogram",
         "x": [
          1,
          null,
          1,
          null,
          1,
          null,
          null,
          2,
          5
         ],
         "xaxis": "x",
         "yaxis": "y"
        },
        {
         "alignmentgroup": "True",
         "bingroup": "x",
         "hovertemplate": "variable=CSC343 [Application]<br>value=%{x}<br>count=%{y}<extra></extra>",
         "legendgroup": "CSC343 [Application]",
         "marker": {
          "color": "#B6E880",
          "pattern": {
           "shape": ""
          }
         },
         "name": "CSC343 [Application]",
         "offsetgroup": "CSC343 [Application]",
         "orientation": "v",
         "showlegend": true,
         "type": "histogram",
         "x": [
          3,
          null,
          3,
          null,
          5,
          null,
          null,
          3,
          2
         ],
         "xaxis": "x",
         "yaxis": "y"
        },
        {
         "alignmentgroup": "True",
         "bingroup": "x",
         "hovertemplate": "variable=CSC361 [Application]<br>value=%{x}<br>count=%{y}<extra></extra>",
         "legendgroup": "CSC361 [Application]",
         "marker": {
          "color": "#FF97FF",
          "pattern": {
           "shape": ""
          }
         },
         "name": "CSC361 [Application]",
         "offsetgroup": "CSC361 [Application]",
         "orientation": "v",
         "showlegend": true,
         "type": "histogram",
         "x": [
          3,
          null,
          5,
          null,
          5,
          null,
          null,
          2,
          5
         ],
         "xaxis": "x",
         "yaxis": "y"
        },
        {
         "alignmentgroup": "True",
         "bingroup": "x",
         "hovertemplate": "variable=CSC329 [Application]<br>value=%{x}<br>count=%{y}<extra></extra>",
         "legendgroup": "CSC329 [Application]",
         "marker": {
          "color": "#FECB52",
          "pattern": {
           "shape": ""
          }
         },
         "name": "CSC329 [Application]",
         "offsetgroup": "CSC329 [Application]",
         "orientation": "v",
         "showlegend": true,
         "type": "histogram",
         "x": [
          5,
          null,
          5,
          null,
          5,
          null,
          null,
          4,
          5
         ],
         "xaxis": "x",
         "yaxis": "y"
        },
        {
         "alignmentgroup": "True",
         "bingroup": "x",
         "hovertemplate": "variable=CSC340 [Application]<br>value=%{x}<br>count=%{y}<extra></extra>",
         "legendgroup": "CSC340 [Application]",
         "marker": {
          "color": "#636efa",
          "pattern": {
           "shape": ""
          }
         },
         "name": "CSC340 [Application]",
         "offsetgroup": "CSC340 [Application]",
         "orientation": "v",
         "showlegend": true,
         "type": "histogram",
         "x": [
          2,
          null,
          5,
          null,
          2,
          null,
          null,
          3,
          2
         ],
         "xaxis": "x",
         "yaxis": "y"
        },
        {
         "alignmentgroup": "True",
         "bingroup": "x",
         "hovertemplate": "variable=CSC453 [Application]<br>value=%{x}<br>count=%{y}<extra></extra>",
         "legendgroup": "CSC453 [Application]",
         "marker": {
          "color": "#EF553B",
          "pattern": {
           "shape": ""
          }
         },
         "name": "CSC453 [Application]",
         "offsetgroup": "CSC453 [Application]",
         "orientation": "v",
         "showlegend": true,
         "type": "histogram",
         "x": [
          3,
          null,
          5,
          null,
          4,
          null,
          null,
          2,
          5
         ],
         "xaxis": "x",
         "yaxis": "y"
        },
        {
         "alignmentgroup": "True",
         "bingroup": "x",
         "hovertemplate": "variable=CSC496 [Application]<br>value=%{x}<br>count=%{y}<extra></extra>",
         "legendgroup": "CSC496 [Application]",
         "marker": {
          "color": "#00cc96",
          "pattern": {
           "shape": ""
          }
         },
         "name": "CSC496 [Application]",
         "offsetgroup": "CSC496 [Application]",
         "orientation": "v",
         "showlegend": true,
         "type": "histogram",
         "x": [
          5,
          null,
          3,
          null,
          5,
          null,
          null,
          null,
          5
         ],
         "xaxis": "x",
         "yaxis": "y"
        },
        {
         "alignmentgroup": "True",
         "bingroup": "x",
         "hovertemplate": "variable=PHYS210 [Application]<br>value=%{x}<br>count=%{y}<extra></extra>",
         "legendgroup": "PHYS210 [Application]",
         "marker": {
          "color": "#ab63fa",
          "pattern": {
           "shape": ""
          }
         },
         "name": "PHYS210 [Application]",
         "offsetgroup": "PHYS210 [Application]",
         "orientation": "v",
         "showlegend": true,
         "type": "histogram",
         "x": [
          null,
          null,
          1,
          null,
          null,
          null,
          null,
          null,
          null
         ],
         "xaxis": "x",
         "yaxis": "y"
        },
        {
         "alignmentgroup": "True",
         "bingroup": "x",
         "hovertemplate": "variable=PHYS103 [Application]<br>value=%{x}<br>count=%{y}<extra></extra>",
         "legendgroup": "PHYS103 [Application]",
         "marker": {
          "color": "#FFA15A",
          "pattern": {
           "shape": ""
          }
         },
         "name": "PHYS103 [Application]",
         "offsetgroup": "PHYS103 [Application]",
         "orientation": "v",
         "showlegend": true,
         "type": "histogram",
         "x": [
          3,
          null,
          1,
          1,
          null,
          null,
          1,
          null,
          null
         ],
         "xaxis": "x",
         "yaxis": "y"
        },
        {
         "alignmentgroup": "True",
         "bingroup": "x",
         "hovertemplate": "variable=CHEM103 [Application]<br>value=%{x}<br>count=%{y}<extra></extra>",
         "legendgroup": "CHEM103 [Application]",
         "marker": {
          "color": "#19d3f3",
          "pattern": {
           "shape": ""
          }
         },
         "name": "CHEM103 [Application]",
         "offsetgroup": "CHEM103 [Application]",
         "orientation": "v",
         "showlegend": true,
         "type": "histogram",
         "x": [
          null,
          null,
          1,
          null,
          null,
          null,
          null,
          null,
          null
         ],
         "xaxis": "x",
         "yaxis": "y"
        },
        {
         "alignmentgroup": "True",
         "bingroup": "x",
         "hovertemplate": "variable=CSC443 [Application]<br>value=%{x}<br>count=%{y}<extra></extra>",
         "legendgroup": "CSC443 [Application]",
         "marker": {
          "color": "#FF6692",
          "pattern": {
           "shape": ""
          }
         },
         "name": "CSC443 [Application]",
         "offsetgroup": "CSC443 [Application]",
         "orientation": "v",
         "showlegend": true,
         "type": "histogram",
         "x": [
          2,
          null,
          3,
          null,
          null,
          null,
          null,
          null,
          null
         ],
         "xaxis": "x",
         "yaxis": "y"
        },
        {
         "alignmentgroup": "True",
         "bingroup": "x",
         "hovertemplate": "variable=CSC462 [Application]<br>value=%{x}<br>count=%{y}<extra></extra>",
         "legendgroup": "CSC462 [Application]",
         "marker": {
          "color": "#B6E880",
          "pattern": {
           "shape": ""
          }
         },
         "name": "CSC462 [Application]",
         "offsetgroup": "CSC462 [Application]",
         "orientation": "v",
         "showlegend": true,
         "type": "histogram",
         "x": [
          5,
          null,
          5,
          null,
          5,
          null,
          null,
          5,
          5
         ],
         "xaxis": "x",
         "yaxis": "y"
        },
        {
         "alignmentgroup": "True",
         "bingroup": "x",
         "hovertemplate": "variable=CSC476 [Application]<br>value=%{x}<br>count=%{y}<extra></extra>",
         "legendgroup": "CSC476 [Application]",
         "marker": {
          "color": "#FF97FF",
          "pattern": {
           "shape": ""
          }
         },
         "name": "CSC476 [Application]",
         "offsetgroup": "CSC476 [Application]",
         "orientation": "v",
         "showlegend": true,
         "type": "histogram",
         "x": [
          null,
          null,
          3,
          null,
          null,
          null,
          null,
          null,
          null
         ],
         "xaxis": "x",
         "yaxis": "y"
        },
        {
         "alignmentgroup": "True",
         "bingroup": "x",
         "hovertemplate": "variable=CSC478 [Application]<br>value=%{x}<br>count=%{y}<extra></extra>",
         "legendgroup": "CSC478 [Application]",
         "marker": {
          "color": "#FECB52",
          "pattern": {
           "shape": ""
          }
         },
         "name": "CSC478 [Application]",
         "offsetgroup": "CSC478 [Application]",
         "orientation": "v",
         "showlegend": true,
         "type": "histogram",
         "x": [
          null,
          null,
          2,
          null,
          null,
          null,
          null,
          null,
          null
         ],
         "xaxis": "x",
         "yaxis": "y"
        },
        {
         "alignmentgroup": "True",
         "bingroup": "x",
         "hovertemplate": "variable=CSC484 [Application]<br>value=%{x}<br>count=%{y}<extra></extra>",
         "legendgroup": "CSC484 [Application]",
         "marker": {
          "color": "#636efa",
          "pattern": {
           "shape": ""
          }
         },
         "name": "CSC484 [Application]",
         "offsetgroup": "CSC484 [Application]",
         "orientation": "v",
         "showlegend": true,
         "type": "histogram",
         "x": [
          null,
          null,
          2,
          null,
          null,
          null,
          null,
          null,
          null
         ],
         "xaxis": "x",
         "yaxis": "y"
        },
        {
         "alignmentgroup": "True",
         "bingroup": "x",
         "hovertemplate": "variable=CSC489 [Application]<br>value=%{x}<br>count=%{y}<extra></extra>",
         "legendgroup": "CSC489 [Application]",
         "marker": {
          "color": "#EF553B",
          "pattern": {
           "shape": ""
          }
         },
         "name": "CSC489 [Application]",
         "offsetgroup": "CSC489 [Application]",
         "orientation": "v",
         "showlegend": true,
         "type": "histogram",
         "x": [
          null,
          null,
          1,
          null,
          null,
          null,
          null,
          null,
          null
         ],
         "xaxis": "x",
         "yaxis": "y"
        }
       ],
       "layout": {
        "barmode": "relative",
        "legend": {
         "title": {
          "text": "variable"
         },
         "tracegroupgap": 0
        },
        "margin": {
         "t": 60
        },
        "template": {
         "data": {
          "bar": [
           {
            "error_x": {
             "color": "#f2f5fa"
            },
            "error_y": {
             "color": "#f2f5fa"
            },
            "marker": {
             "line": {
              "color": "rgb(17,17,17)",
              "width": 0.5
             },
             "pattern": {
              "fillmode": "overlay",
              "size": 10,
              "solidity": 0.2
             }
            },
            "type": "bar"
           }
          ],
          "barpolar": [
           {
            "marker": {
             "line": {
              "color": "rgb(17,17,17)",
              "width": 0.5
             },
             "pattern": {
              "fillmode": "overlay",
              "size": 10,
              "solidity": 0.2
             }
            },
            "type": "barpolar"
           }
          ],
          "carpet": [
           {
            "aaxis": {
             "endlinecolor": "#A2B1C6",
             "gridcolor": "#506784",
             "linecolor": "#506784",
             "minorgridcolor": "#506784",
             "startlinecolor": "#A2B1C6"
            },
            "baxis": {
             "endlinecolor": "#A2B1C6",
             "gridcolor": "#506784",
             "linecolor": "#506784",
             "minorgridcolor": "#506784",
             "startlinecolor": "#A2B1C6"
            },
            "type": "carpet"
           }
          ],
          "choropleth": [
           {
            "colorbar": {
             "outlinewidth": 0,
             "ticks": ""
            },
            "type": "choropleth"
           }
          ],
          "contour": [
           {
            "colorbar": {
             "outlinewidth": 0,
             "ticks": ""
            },
            "colorscale": [
             [
              0,
              "#0d0887"
             ],
             [
              0.1111111111111111,
              "#46039f"
             ],
             [
              0.2222222222222222,
              "#7201a8"
             ],
             [
              0.3333333333333333,
              "#9c179e"
             ],
             [
              0.4444444444444444,
              "#bd3786"
             ],
             [
              0.5555555555555556,
              "#d8576b"
             ],
             [
              0.6666666666666666,
              "#ed7953"
             ],
             [
              0.7777777777777778,
              "#fb9f3a"
             ],
             [
              0.8888888888888888,
              "#fdca26"
             ],
             [
              1,
              "#f0f921"
             ]
            ],
            "type": "contour"
           }
          ],
          "contourcarpet": [
           {
            "colorbar": {
             "outlinewidth": 0,
             "ticks": ""
            },
            "type": "contourcarpet"
           }
          ],
          "heatmap": [
           {
            "colorbar": {
             "outlinewidth": 0,
             "ticks": ""
            },
            "colorscale": [
             [
              0,
              "#0d0887"
             ],
             [
              0.1111111111111111,
              "#46039f"
             ],
             [
              0.2222222222222222,
              "#7201a8"
             ],
             [
              0.3333333333333333,
              "#9c179e"
             ],
             [
              0.4444444444444444,
              "#bd3786"
             ],
             [
              0.5555555555555556,
              "#d8576b"
             ],
             [
              0.6666666666666666,
              "#ed7953"
             ],
             [
              0.7777777777777778,
              "#fb9f3a"
             ],
             [
              0.8888888888888888,
              "#fdca26"
             ],
             [
              1,
              "#f0f921"
             ]
            ],
            "type": "heatmap"
           }
          ],
          "heatmapgl": [
           {
            "colorbar": {
             "outlinewidth": 0,
             "ticks": ""
            },
            "colorscale": [
             [
              0,
              "#0d0887"
             ],
             [
              0.1111111111111111,
              "#46039f"
             ],
             [
              0.2222222222222222,
              "#7201a8"
             ],
             [
              0.3333333333333333,
              "#9c179e"
             ],
             [
              0.4444444444444444,
              "#bd3786"
             ],
             [
              0.5555555555555556,
              "#d8576b"
             ],
             [
              0.6666666666666666,
              "#ed7953"
             ],
             [
              0.7777777777777778,
              "#fb9f3a"
             ],
             [
              0.8888888888888888,
              "#fdca26"
             ],
             [
              1,
              "#f0f921"
             ]
            ],
            "type": "heatmapgl"
           }
          ],
          "histogram": [
           {
            "marker": {
             "pattern": {
              "fillmode": "overlay",
              "size": 10,
              "solidity": 0.2
             }
            },
            "type": "histogram"
           }
          ],
          "histogram2d": [
           {
            "colorbar": {
             "outlinewidth": 0,
             "ticks": ""
            },
            "colorscale": [
             [
              0,
              "#0d0887"
             ],
             [
              0.1111111111111111,
              "#46039f"
             ],
             [
              0.2222222222222222,
              "#7201a8"
             ],
             [
              0.3333333333333333,
              "#9c179e"
             ],
             [
              0.4444444444444444,
              "#bd3786"
             ],
             [
              0.5555555555555556,
              "#d8576b"
             ],
             [
              0.6666666666666666,
              "#ed7953"
             ],
             [
              0.7777777777777778,
              "#fb9f3a"
             ],
             [
              0.8888888888888888,
              "#fdca26"
             ],
             [
              1,
              "#f0f921"
             ]
            ],
            "type": "histogram2d"
           }
          ],
          "histogram2dcontour": [
           {
            "colorbar": {
             "outlinewidth": 0,
             "ticks": ""
            },
            "colorscale": [
             [
              0,
              "#0d0887"
             ],
             [
              0.1111111111111111,
              "#46039f"
             ],
             [
              0.2222222222222222,
              "#7201a8"
             ],
             [
              0.3333333333333333,
              "#9c179e"
             ],
             [
              0.4444444444444444,
              "#bd3786"
             ],
             [
              0.5555555555555556,
              "#d8576b"
             ],
             [
              0.6666666666666666,
              "#ed7953"
             ],
             [
              0.7777777777777778,
              "#fb9f3a"
             ],
             [
              0.8888888888888888,
              "#fdca26"
             ],
             [
              1,
              "#f0f921"
             ]
            ],
            "type": "histogram2dcontour"
           }
          ],
          "mesh3d": [
           {
            "colorbar": {
             "outlinewidth": 0,
             "ticks": ""
            },
            "type": "mesh3d"
           }
          ],
          "parcoords": [
           {
            "line": {
             "colorbar": {
              "outlinewidth": 0,
              "ticks": ""
             }
            },
            "type": "parcoords"
           }
          ],
          "pie": [
           {
            "automargin": true,
            "type": "pie"
           }
          ],
          "scatter": [
           {
            "marker": {
             "line": {
              "color": "#283442"
             }
            },
            "type": "scatter"
           }
          ],
          "scatter3d": [
           {
            "line": {
             "colorbar": {
              "outlinewidth": 0,
              "ticks": ""
             }
            },
            "marker": {
             "colorbar": {
              "outlinewidth": 0,
              "ticks": ""
             }
            },
            "type": "scatter3d"
           }
          ],
          "scattercarpet": [
           {
            "marker": {
             "colorbar": {
              "outlinewidth": 0,
              "ticks": ""
             }
            },
            "type": "scattercarpet"
           }
          ],
          "scattergeo": [
           {
            "marker": {
             "colorbar": {
              "outlinewidth": 0,
              "ticks": ""
             }
            },
            "type": "scattergeo"
           }
          ],
          "scattergl": [
           {
            "marker": {
             "line": {
              "color": "#283442"
             }
            },
            "type": "scattergl"
           }
          ],
          "scattermapbox": [
           {
            "marker": {
             "colorbar": {
              "outlinewidth": 0,
              "ticks": ""
             }
            },
            "type": "scattermapbox"
           }
          ],
          "scatterpolar": [
           {
            "marker": {
             "colorbar": {
              "outlinewidth": 0,
              "ticks": ""
             }
            },
            "type": "scatterpolar"
           }
          ],
          "scatterpolargl": [
           {
            "marker": {
             "colorbar": {
              "outlinewidth": 0,
              "ticks": ""
             }
            },
            "type": "scatterpolargl"
           }
          ],
          "scatterternary": [
           {
            "marker": {
             "colorbar": {
              "outlinewidth": 0,
              "ticks": ""
             }
            },
            "type": "scatterternary"
           }
          ],
          "surface": [
           {
            "colorbar": {
             "outlinewidth": 0,
             "ticks": ""
            },
            "colorscale": [
             [
              0,
              "#0d0887"
             ],
             [
              0.1111111111111111,
              "#46039f"
             ],
             [
              0.2222222222222222,
              "#7201a8"
             ],
             [
              0.3333333333333333,
              "#9c179e"
             ],
             [
              0.4444444444444444,
              "#bd3786"
             ],
             [
              0.5555555555555556,
              "#d8576b"
             ],
             [
              0.6666666666666666,
              "#ed7953"
             ],
             [
              0.7777777777777778,
              "#fb9f3a"
             ],
             [
              0.8888888888888888,
              "#fdca26"
             ],
             [
              1,
              "#f0f921"
             ]
            ],
            "type": "surface"
           }
          ],
          "table": [
           {
            "cells": {
             "fill": {
              "color": "#506784"
             },
             "line": {
              "color": "rgb(17,17,17)"
             }
            },
            "header": {
             "fill": {
              "color": "#2a3f5f"
             },
             "line": {
              "color": "rgb(17,17,17)"
             }
            },
            "type": "table"
           }
          ]
         },
         "layout": {
          "annotationdefaults": {
           "arrowcolor": "#f2f5fa",
           "arrowhead": 0,
           "arrowwidth": 1
          },
          "autotypenumbers": "strict",
          "coloraxis": {
           "colorbar": {
            "outlinewidth": 0,
            "ticks": ""
           }
          },
          "colorscale": {
           "diverging": [
            [
             0,
             "#8e0152"
            ],
            [
             0.1,
             "#c51b7d"
            ],
            [
             0.2,
             "#de77ae"
            ],
            [
             0.3,
             "#f1b6da"
            ],
            [
             0.4,
             "#fde0ef"
            ],
            [
             0.5,
             "#f7f7f7"
            ],
            [
             0.6,
             "#e6f5d0"
            ],
            [
             0.7,
             "#b8e186"
            ],
            [
             0.8,
             "#7fbc41"
            ],
            [
             0.9,
             "#4d9221"
            ],
            [
             1,
             "#276419"
            ]
           ],
           "sequential": [
            [
             0,
             "#0d0887"
            ],
            [
             0.1111111111111111,
             "#46039f"
            ],
            [
             0.2222222222222222,
             "#7201a8"
            ],
            [
             0.3333333333333333,
             "#9c179e"
            ],
            [
             0.4444444444444444,
             "#bd3786"
            ],
            [
             0.5555555555555556,
             "#d8576b"
            ],
            [
             0.6666666666666666,
             "#ed7953"
            ],
            [
             0.7777777777777778,
             "#fb9f3a"
            ],
            [
             0.8888888888888888,
             "#fdca26"
            ],
            [
             1,
             "#f0f921"
            ]
           ],
           "sequentialminus": [
            [
             0,
             "#0d0887"
            ],
            [
             0.1111111111111111,
             "#46039f"
            ],
            [
             0.2222222222222222,
             "#7201a8"
            ],
            [
             0.3333333333333333,
             "#9c179e"
            ],
            [
             0.4444444444444444,
             "#bd3786"
            ],
            [
             0.5555555555555556,
             "#d8576b"
            ],
            [
             0.6666666666666666,
             "#ed7953"
            ],
            [
             0.7777777777777778,
             "#fb9f3a"
            ],
            [
             0.8888888888888888,
             "#fdca26"
            ],
            [
             1,
             "#f0f921"
            ]
           ]
          },
          "colorway": [
           "#636efa",
           "#EF553B",
           "#00cc96",
           "#ab63fa",
           "#FFA15A",
           "#19d3f3",
           "#FF6692",
           "#B6E880",
           "#FF97FF",
           "#FECB52"
          ],
          "font": {
           "color": "#f2f5fa"
          },
          "geo": {
           "bgcolor": "rgb(17,17,17)",
           "lakecolor": "rgb(17,17,17)",
           "landcolor": "rgb(17,17,17)",
           "showlakes": true,
           "showland": true,
           "subunitcolor": "#506784"
          },
          "hoverlabel": {
           "align": "left"
          },
          "hovermode": "closest",
          "mapbox": {
           "style": "dark"
          },
          "paper_bgcolor": "rgb(17,17,17)",
          "plot_bgcolor": "rgb(17,17,17)",
          "polar": {
           "angularaxis": {
            "gridcolor": "#506784",
            "linecolor": "#506784",
            "ticks": ""
           },
           "bgcolor": "rgb(17,17,17)",
           "radialaxis": {
            "gridcolor": "#506784",
            "linecolor": "#506784",
            "ticks": ""
           }
          },
          "scene": {
           "xaxis": {
            "backgroundcolor": "rgb(17,17,17)",
            "gridcolor": "#506784",
            "gridwidth": 2,
            "linecolor": "#506784",
            "showbackground": true,
            "ticks": "",
            "zerolinecolor": "#C8D4E3"
           },
           "yaxis": {
            "backgroundcolor": "rgb(17,17,17)",
            "gridcolor": "#506784",
            "gridwidth": 2,
            "linecolor": "#506784",
            "showbackground": true,
            "ticks": "",
            "zerolinecolor": "#C8D4E3"
           },
           "zaxis": {
            "backgroundcolor": "rgb(17,17,17)",
            "gridcolor": "#506784",
            "gridwidth": 2,
            "linecolor": "#506784",
            "showbackground": true,
            "ticks": "",
            "zerolinecolor": "#C8D4E3"
           }
          },
          "shapedefaults": {
           "line": {
            "color": "#f2f5fa"
           }
          },
          "sliderdefaults": {
           "bgcolor": "#C8D4E3",
           "bordercolor": "rgb(17,17,17)",
           "borderwidth": 1,
           "tickwidth": 0
          },
          "ternary": {
           "aaxis": {
            "gridcolor": "#506784",
            "linecolor": "#506784",
            "ticks": ""
           },
           "baxis": {
            "gridcolor": "#506784",
            "linecolor": "#506784",
            "ticks": ""
           },
           "bgcolor": "rgb(17,17,17)",
           "caxis": {
            "gridcolor": "#506784",
            "linecolor": "#506784",
            "ticks": ""
           }
          },
          "title": {
           "x": 0.05
          },
          "updatemenudefaults": {
           "bgcolor": "#506784",
           "borderwidth": 0
          },
          "xaxis": {
           "automargin": true,
           "gridcolor": "#283442",
           "linecolor": "#506784",
           "ticks": "",
           "title": {
            "standoff": 15
           },
           "zerolinecolor": "#283442",
           "zerolinewidth": 2
          },
          "yaxis": {
           "automargin": true,
           "gridcolor": "#283442",
           "linecolor": "#506784",
           "ticks": "",
           "title": {
            "standoff": 15
           },
           "zerolinecolor": "#283442",
           "zerolinewidth": 2
          }
         }
        },
        "xaxis": {
         "anchor": "y",
         "domain": [
          0,
          1
         ],
         "title": {
          "text": "value"
         }
        },
        "yaxis": {
         "anchor": "x",
         "domain": [
          0,
          1
         ],
         "title": {
          "text": "count"
         }
        }
       }
      }
     },
     "metadata": {},
     "output_type": "display_data"
    }
   ],
   "source": [
    "px.histogram(df_by_regex(\".*Application.*\"))"
   ]
  },
  {
   "cell_type": "code",
   "execution_count": null,
   "metadata": {},
   "outputs": [
    {
     "data": {
      "application/vnd.plotly.v1+json": {
       "config": {
        "plotlyServerURL": "https://plot.ly"
       },
       "data": [
        {
         "alignmentgroup": "True",
         "bingroup": "x",
         "hovertemplate": "variable=0<br>value=%{x}<br>count=%{y}<extra></extra>",
         "legendgroup": "0",
         "marker": {
          "color": "#636efa",
          "pattern": {
           "shape": ""
          }
         },
         "name": "0",
         "offsetgroup": "0",
         "orientation": "v",
         "showlegend": true,
         "type": "histogram",
         "x": [
          5,
          3,
          5,
          4,
          5,
          2,
          1,
          2,
          1,
          3,
          5,
          5,
          5,
          3,
          5,
          5,
          2,
          5,
          5,
          3,
          4,
          5,
          4,
          1,
          3,
          5,
          5,
          2,
          4,
          5,
          3,
          2,
          5,
          null,
          5,
          null,
          3,
          5,
          null,
          null,
          null,
          null,
          5,
          3,
          5,
          null,
          null,
          null,
          null,
          null,
          null,
          null,
          null,
          null,
          null,
          null,
          null,
          null,
          null,
          null,
          null,
          null,
          null,
          null,
          null,
          null,
          null,
          null,
          null,
          null,
          null,
          null,
          null,
          null,
          null,
          null,
          null,
          null,
          null,
          null,
          null,
          null,
          null,
          null,
          5,
          1,
          3,
          1,
          5,
          1,
          2,
          1,
          1,
          5,
          5,
          1,
          3,
          5,
          4,
          1,
          4,
          4,
          4,
          5,
          4,
          4,
          1,
          4,
          4,
          5,
          5,
          3,
          4,
          5,
          5,
          3,
          3,
          1,
          1,
          1,
          3,
          4,
          2,
          3,
          2,
          3,
          5,
          null,
          null,
          null,
          null,
          null,
          null,
          null,
          null,
          null,
          5,
          1,
          2,
          2,
          5,
          5,
          5,
          null,
          2,
          null,
          null,
          null,
          null,
          null,
          null,
          null,
          null,
          null,
          null,
          null,
          null,
          null,
          null,
          null,
          1,
          null,
          null,
          null,
          null,
          null,
          null,
          null,
          5,
          2,
          3,
          1,
          4,
          4,
          3,
          1,
          2,
          5,
          null,
          1,
          1,
          5,
          3,
          null,
          5,
          2,
          3,
          5,
          null,
          3,
          1,
          4,
          2,
          5,
          1,
          4,
          2,
          5,
          1,
          1,
          5,
          null,
          null,
          null,
          null,
          5,
          null,
          null,
          null,
          null,
          5,
          4,
          5,
          4,
          4,
          2,
          1,
          null,
          1,
          4,
          2,
          null,
          5,
          4,
          5,
          null,
          null,
          null,
          null,
          null,
          null,
          null,
          null,
          null,
          null,
          null,
          null,
          null,
          null,
          null,
          null,
          null,
          null,
          null,
          null,
          null,
          null,
          null,
          null,
          null,
          null,
          null,
          3,
          1,
          4,
          2,
          5,
          3,
          1,
          3,
          3,
          4,
          4,
          3,
          5,
          3,
          5,
          null,
          4,
          2,
          5,
          5,
          null,
          5,
          1,
          null,
          null,
          null,
          null,
          null,
          null,
          null,
          null,
          null,
          null,
          null,
          1,
          null,
          null,
          null,
          null,
          null,
          null,
          null,
          5,
          3,
          4,
          4,
          5,
          3,
          3,
          2,
          3,
          3,
          2,
          2,
          3,
          4,
          5,
          1,
          2,
          4,
          5,
          4,
          3,
          4,
          5,
          2,
          3,
          5,
          4,
          3,
          2,
          5,
          4,
          2,
          null,
          null,
          null,
          null,
          null,
          5,
          null,
          null,
          null,
          null,
          1,
          2,
          5,
          1,
          5,
          3,
          1,
          3,
          4,
          1,
          2,
          3,
          5,
          5,
          5,
          2,
          5,
          null,
          null,
          5,
          5,
          5,
          2,
          5,
          5,
          5,
          3,
          3,
          5,
          5,
          5,
          3,
          5,
          null,
          null,
          null,
          null,
          5,
          null,
          null,
          null,
          null
         ],
         "xaxis": "x",
         "yaxis": "y"
        }
       ],
       "layout": {
        "barmode": "relative",
        "legend": {
         "title": {
          "text": "variable"
         },
         "tracegroupgap": 0
        },
        "margin": {
         "t": 60
        },
        "template": {
         "data": {
          "bar": [
           {
            "error_x": {
             "color": "#f2f5fa"
            },
            "error_y": {
             "color": "#f2f5fa"
            },
            "marker": {
             "line": {
              "color": "rgb(17,17,17)",
              "width": 0.5
             },
             "pattern": {
              "fillmode": "overlay",
              "size": 10,
              "solidity": 0.2
             }
            },
            "type": "bar"
           }
          ],
          "barpolar": [
           {
            "marker": {
             "line": {
              "color": "rgb(17,17,17)",
              "width": 0.5
             },
             "pattern": {
              "fillmode": "overlay",
              "size": 10,
              "solidity": 0.2
             }
            },
            "type": "barpolar"
           }
          ],
          "carpet": [
           {
            "aaxis": {
             "endlinecolor": "#A2B1C6",
             "gridcolor": "#506784",
             "linecolor": "#506784",
             "minorgridcolor": "#506784",
             "startlinecolor": "#A2B1C6"
            },
            "baxis": {
             "endlinecolor": "#A2B1C6",
             "gridcolor": "#506784",
             "linecolor": "#506784",
             "minorgridcolor": "#506784",
             "startlinecolor": "#A2B1C6"
            },
            "type": "carpet"
           }
          ],
          "choropleth": [
           {
            "colorbar": {
             "outlinewidth": 0,
             "ticks": ""
            },
            "type": "choropleth"
           }
          ],
          "contour": [
           {
            "colorbar": {
             "outlinewidth": 0,
             "ticks": ""
            },
            "colorscale": [
             [
              0,
              "#0d0887"
             ],
             [
              0.1111111111111111,
              "#46039f"
             ],
             [
              0.2222222222222222,
              "#7201a8"
             ],
             [
              0.3333333333333333,
              "#9c179e"
             ],
             [
              0.4444444444444444,
              "#bd3786"
             ],
             [
              0.5555555555555556,
              "#d8576b"
             ],
             [
              0.6666666666666666,
              "#ed7953"
             ],
             [
              0.7777777777777778,
              "#fb9f3a"
             ],
             [
              0.8888888888888888,
              "#fdca26"
             ],
             [
              1,
              "#f0f921"
             ]
            ],
            "type": "contour"
           }
          ],
          "contourcarpet": [
           {
            "colorbar": {
             "outlinewidth": 0,
             "ticks": ""
            },
            "type": "contourcarpet"
           }
          ],
          "heatmap": [
           {
            "colorbar": {
             "outlinewidth": 0,
             "ticks": ""
            },
            "colorscale": [
             [
              0,
              "#0d0887"
             ],
             [
              0.1111111111111111,
              "#46039f"
             ],
             [
              0.2222222222222222,
              "#7201a8"
             ],
             [
              0.3333333333333333,
              "#9c179e"
             ],
             [
              0.4444444444444444,
              "#bd3786"
             ],
             [
              0.5555555555555556,
              "#d8576b"
             ],
             [
              0.6666666666666666,
              "#ed7953"
             ],
             [
              0.7777777777777778,
              "#fb9f3a"
             ],
             [
              0.8888888888888888,
              "#fdca26"
             ],
             [
              1,
              "#f0f921"
             ]
            ],
            "type": "heatmap"
           }
          ],
          "heatmapgl": [
           {
            "colorbar": {
             "outlinewidth": 0,
             "ticks": ""
            },
            "colorscale": [
             [
              0,
              "#0d0887"
             ],
             [
              0.1111111111111111,
              "#46039f"
             ],
             [
              0.2222222222222222,
              "#7201a8"
             ],
             [
              0.3333333333333333,
              "#9c179e"
             ],
             [
              0.4444444444444444,
              "#bd3786"
             ],
             [
              0.5555555555555556,
              "#d8576b"
             ],
             [
              0.6666666666666666,
              "#ed7953"
             ],
             [
              0.7777777777777778,
              "#fb9f3a"
             ],
             [
              0.8888888888888888,
              "#fdca26"
             ],
             [
              1,
              "#f0f921"
             ]
            ],
            "type": "heatmapgl"
           }
          ],
          "histogram": [
           {
            "marker": {
             "pattern": {
              "fillmode": "overlay",
              "size": 10,
              "solidity": 0.2
             }
            },
            "type": "histogram"
           }
          ],
          "histogram2d": [
           {
            "colorbar": {
             "outlinewidth": 0,
             "ticks": ""
            },
            "colorscale": [
             [
              0,
              "#0d0887"
             ],
             [
              0.1111111111111111,
              "#46039f"
             ],
             [
              0.2222222222222222,
              "#7201a8"
             ],
             [
              0.3333333333333333,
              "#9c179e"
             ],
             [
              0.4444444444444444,
              "#bd3786"
             ],
             [
              0.5555555555555556,
              "#d8576b"
             ],
             [
              0.6666666666666666,
              "#ed7953"
             ],
             [
              0.7777777777777778,
              "#fb9f3a"
             ],
             [
              0.8888888888888888,
              "#fdca26"
             ],
             [
              1,
              "#f0f921"
             ]
            ],
            "type": "histogram2d"
           }
          ],
          "histogram2dcontour": [
           {
            "colorbar": {
             "outlinewidth": 0,
             "ticks": ""
            },
            "colorscale": [
             [
              0,
              "#0d0887"
             ],
             [
              0.1111111111111111,
              "#46039f"
             ],
             [
              0.2222222222222222,
              "#7201a8"
             ],
             [
              0.3333333333333333,
              "#9c179e"
             ],
             [
              0.4444444444444444,
              "#bd3786"
             ],
             [
              0.5555555555555556,
              "#d8576b"
             ],
             [
              0.6666666666666666,
              "#ed7953"
             ],
             [
              0.7777777777777778,
              "#fb9f3a"
             ],
             [
              0.8888888888888888,
              "#fdca26"
             ],
             [
              1,
              "#f0f921"
             ]
            ],
            "type": "histogram2dcontour"
           }
          ],
          "mesh3d": [
           {
            "colorbar": {
             "outlinewidth": 0,
             "ticks": ""
            },
            "type": "mesh3d"
           }
          ],
          "parcoords": [
           {
            "line": {
             "colorbar": {
              "outlinewidth": 0,
              "ticks": ""
             }
            },
            "type": "parcoords"
           }
          ],
          "pie": [
           {
            "automargin": true,
            "type": "pie"
           }
          ],
          "scatter": [
           {
            "marker": {
             "line": {
              "color": "#283442"
             }
            },
            "type": "scatter"
           }
          ],
          "scatter3d": [
           {
            "line": {
             "colorbar": {
              "outlinewidth": 0,
              "ticks": ""
             }
            },
            "marker": {
             "colorbar": {
              "outlinewidth": 0,
              "ticks": ""
             }
            },
            "type": "scatter3d"
           }
          ],
          "scattercarpet": [
           {
            "marker": {
             "colorbar": {
              "outlinewidth": 0,
              "ticks": ""
             }
            },
            "type": "scattercarpet"
           }
          ],
          "scattergeo": [
           {
            "marker": {
             "colorbar": {
              "outlinewidth": 0,
              "ticks": ""
             }
            },
            "type": "scattergeo"
           }
          ],
          "scattergl": [
           {
            "marker": {
             "line": {
              "color": "#283442"
             }
            },
            "type": "scattergl"
           }
          ],
          "scattermapbox": [
           {
            "marker": {
             "colorbar": {
              "outlinewidth": 0,
              "ticks": ""
             }
            },
            "type": "scattermapbox"
           }
          ],
          "scatterpolar": [
           {
            "marker": {
             "colorbar": {
              "outlinewidth": 0,
              "ticks": ""
             }
            },
            "type": "scatterpolar"
           }
          ],
          "scatterpolargl": [
           {
            "marker": {
             "colorbar": {
              "outlinewidth": 0,
              "ticks": ""
             }
            },
            "type": "scatterpolargl"
           }
          ],
          "scatterternary": [
           {
            "marker": {
             "colorbar": {
              "outlinewidth": 0,
              "ticks": ""
             }
            },
            "type": "scatterternary"
           }
          ],
          "surface": [
           {
            "colorbar": {
             "outlinewidth": 0,
             "ticks": ""
            },
            "colorscale": [
             [
              0,
              "#0d0887"
             ],
             [
              0.1111111111111111,
              "#46039f"
             ],
             [
              0.2222222222222222,
              "#7201a8"
             ],
             [
              0.3333333333333333,
              "#9c179e"
             ],
             [
              0.4444444444444444,
              "#bd3786"
             ],
             [
              0.5555555555555556,
              "#d8576b"
             ],
             [
              0.6666666666666666,
              "#ed7953"
             ],
             [
              0.7777777777777778,
              "#fb9f3a"
             ],
             [
              0.8888888888888888,
              "#fdca26"
             ],
             [
              1,
              "#f0f921"
             ]
            ],
            "type": "surface"
           }
          ],
          "table": [
           {
            "cells": {
             "fill": {
              "color": "#506784"
             },
             "line": {
              "color": "rgb(17,17,17)"
             }
            },
            "header": {
             "fill": {
              "color": "#2a3f5f"
             },
             "line": {
              "color": "rgb(17,17,17)"
             }
            },
            "type": "table"
           }
          ]
         },
         "layout": {
          "annotationdefaults": {
           "arrowcolor": "#f2f5fa",
           "arrowhead": 0,
           "arrowwidth": 1
          },
          "autotypenumbers": "strict",
          "coloraxis": {
           "colorbar": {
            "outlinewidth": 0,
            "ticks": ""
           }
          },
          "colorscale": {
           "diverging": [
            [
             0,
             "#8e0152"
            ],
            [
             0.1,
             "#c51b7d"
            ],
            [
             0.2,
             "#de77ae"
            ],
            [
             0.3,
             "#f1b6da"
            ],
            [
             0.4,
             "#fde0ef"
            ],
            [
             0.5,
             "#f7f7f7"
            ],
            [
             0.6,
             "#e6f5d0"
            ],
            [
             0.7,
             "#b8e186"
            ],
            [
             0.8,
             "#7fbc41"
            ],
            [
             0.9,
             "#4d9221"
            ],
            [
             1,
             "#276419"
            ]
           ],
           "sequential": [
            [
             0,
             "#0d0887"
            ],
            [
             0.1111111111111111,
             "#46039f"
            ],
            [
             0.2222222222222222,
             "#7201a8"
            ],
            [
             0.3333333333333333,
             "#9c179e"
            ],
            [
             0.4444444444444444,
             "#bd3786"
            ],
            [
             0.5555555555555556,
             "#d8576b"
            ],
            [
             0.6666666666666666,
             "#ed7953"
            ],
            [
             0.7777777777777778,
             "#fb9f3a"
            ],
            [
             0.8888888888888888,
             "#fdca26"
            ],
            [
             1,
             "#f0f921"
            ]
           ],
           "sequentialminus": [
            [
             0,
             "#0d0887"
            ],
            [
             0.1111111111111111,
             "#46039f"
            ],
            [
             0.2222222222222222,
             "#7201a8"
            ],
            [
             0.3333333333333333,
             "#9c179e"
            ],
            [
             0.4444444444444444,
             "#bd3786"
            ],
            [
             0.5555555555555556,
             "#d8576b"
            ],
            [
             0.6666666666666666,
             "#ed7953"
            ],
            [
             0.7777777777777778,
             "#fb9f3a"
            ],
            [
             0.8888888888888888,
             "#fdca26"
            ],
            [
             1,
             "#f0f921"
            ]
           ]
          },
          "colorway": [
           "#636efa",
           "#EF553B",
           "#00cc96",
           "#ab63fa",
           "#FFA15A",
           "#19d3f3",
           "#FF6692",
           "#B6E880",
           "#FF97FF",
           "#FECB52"
          ],
          "font": {
           "color": "#f2f5fa"
          },
          "geo": {
           "bgcolor": "rgb(17,17,17)",
           "lakecolor": "rgb(17,17,17)",
           "landcolor": "rgb(17,17,17)",
           "showlakes": true,
           "showland": true,
           "subunitcolor": "#506784"
          },
          "hoverlabel": {
           "align": "left"
          },
          "hovermode": "closest",
          "mapbox": {
           "style": "dark"
          },
          "paper_bgcolor": "rgb(17,17,17)",
          "plot_bgcolor": "rgb(17,17,17)",
          "polar": {
           "angularaxis": {
            "gridcolor": "#506784",
            "linecolor": "#506784",
            "ticks": ""
           },
           "bgcolor": "rgb(17,17,17)",
           "radialaxis": {
            "gridcolor": "#506784",
            "linecolor": "#506784",
            "ticks": ""
           }
          },
          "scene": {
           "xaxis": {
            "backgroundcolor": "rgb(17,17,17)",
            "gridcolor": "#506784",
            "gridwidth": 2,
            "linecolor": "#506784",
            "showbackground": true,
            "ticks": "",
            "zerolinecolor": "#C8D4E3"
           },
           "yaxis": {
            "backgroundcolor": "rgb(17,17,17)",
            "gridcolor": "#506784",
            "gridwidth": 2,
            "linecolor": "#506784",
            "showbackground": true,
            "ticks": "",
            "zerolinecolor": "#C8D4E3"
           },
           "zaxis": {
            "backgroundcolor": "rgb(17,17,17)",
            "gridcolor": "#506784",
            "gridwidth": 2,
            "linecolor": "#506784",
            "showbackground": true,
            "ticks": "",
            "zerolinecolor": "#C8D4E3"
           }
          },
          "shapedefaults": {
           "line": {
            "color": "#f2f5fa"
           }
          },
          "sliderdefaults": {
           "bgcolor": "#C8D4E3",
           "bordercolor": "rgb(17,17,17)",
           "borderwidth": 1,
           "tickwidth": 0
          },
          "ternary": {
           "aaxis": {
            "gridcolor": "#506784",
            "linecolor": "#506784",
            "ticks": ""
           },
           "baxis": {
            "gridcolor": "#506784",
            "linecolor": "#506784",
            "ticks": ""
           },
           "bgcolor": "rgb(17,17,17)",
           "caxis": {
            "gridcolor": "#506784",
            "linecolor": "#506784",
            "ticks": ""
           }
          },
          "title": {
           "x": 0.05
          },
          "updatemenudefaults": {
           "bgcolor": "#506784",
           "borderwidth": 0
          },
          "xaxis": {
           "automargin": true,
           "gridcolor": "#283442",
           "linecolor": "#506784",
           "ticks": "",
           "title": {
            "standoff": 15
           },
           "zerolinecolor": "#283442",
           "zerolinewidth": 2
          },
          "yaxis": {
           "automargin": true,
           "gridcolor": "#283442",
           "linecolor": "#506784",
           "ticks": "",
           "title": {
            "standoff": 15
           },
           "zerolinecolor": "#283442",
           "zerolinewidth": 2
          }
         }
        },
        "xaxis": {
         "anchor": "y",
         "domain": [
          0,
          1
         ],
         "title": {
          "text": "value"
         }
        },
        "yaxis": {
         "anchor": "x",
         "domain": [
          0,
          1
         ],
         "title": {
          "text": "count"
         }
        }
       }
      }
     },
     "metadata": {},
     "output_type": "display_data"
    }
   ],
   "source": [
    "px.histogram(np.concatenate(df_by_regex(f\".*Relevance.*\").values))"
   ]
  },
  {
   "cell_type": "code",
   "execution_count": null,
   "metadata": {},
   "outputs": [
    {
     "data": {
      "application/vnd.plotly.v1+json": {
       "config": {
        "plotlyServerURL": "https://plot.ly"
       },
       "data": [
        {
         "alignmentgroup": "True",
         "bingroup": "x",
         "hovertemplate": "variable=MATH101 [Application]<br>value=%{x}<br>count=%{y}<extra></extra>",
         "legendgroup": "MATH101 [Application]",
         "marker": {
          "color": "#636efa",
          "pattern": {
           "shape": ""
          }
         },
         "name": "MATH101 [Application]",
         "offsetgroup": "MATH101 [Application]",
         "orientation": "v",
         "showlegend": true,
         "type": "histogram",
         "x": [
          5,
          4,
          3,
          null,
          3,
          3,
          5,
          2,
          5
         ],
         "xaxis": "x",
         "yaxis": "y"
        }
       ],
       "layout": {
        "barmode": "relative",
        "legend": {
         "title": {
          "text": "variable"
         },
         "tracegroupgap": 0
        },
        "margin": {
         "t": 60
        },
        "template": {
         "data": {
          "bar": [
           {
            "error_x": {
             "color": "#f2f5fa"
            },
            "error_y": {
             "color": "#f2f5fa"
            },
            "marker": {
             "line": {
              "color": "rgb(17,17,17)",
              "width": 0.5
             },
             "pattern": {
              "fillmode": "overlay",
              "size": 10,
              "solidity": 0.2
             }
            },
            "type": "bar"
           }
          ],
          "barpolar": [
           {
            "marker": {
             "line": {
              "color": "rgb(17,17,17)",
              "width": 0.5
             },
             "pattern": {
              "fillmode": "overlay",
              "size": 10,
              "solidity": 0.2
             }
            },
            "type": "barpolar"
           }
          ],
          "carpet": [
           {
            "aaxis": {
             "endlinecolor": "#A2B1C6",
             "gridcolor": "#506784",
             "linecolor": "#506784",
             "minorgridcolor": "#506784",
             "startlinecolor": "#A2B1C6"
            },
            "baxis": {
             "endlinecolor": "#A2B1C6",
             "gridcolor": "#506784",
             "linecolor": "#506784",
             "minorgridcolor": "#506784",
             "startlinecolor": "#A2B1C6"
            },
            "type": "carpet"
           }
          ],
          "choropleth": [
           {
            "colorbar": {
             "outlinewidth": 0,
             "ticks": ""
            },
            "type": "choropleth"
           }
          ],
          "contour": [
           {
            "colorbar": {
             "outlinewidth": 0,
             "ticks": ""
            },
            "colorscale": [
             [
              0,
              "#0d0887"
             ],
             [
              0.1111111111111111,
              "#46039f"
             ],
             [
              0.2222222222222222,
              "#7201a8"
             ],
             [
              0.3333333333333333,
              "#9c179e"
             ],
             [
              0.4444444444444444,
              "#bd3786"
             ],
             [
              0.5555555555555556,
              "#d8576b"
             ],
             [
              0.6666666666666666,
              "#ed7953"
             ],
             [
              0.7777777777777778,
              "#fb9f3a"
             ],
             [
              0.8888888888888888,
              "#fdca26"
             ],
             [
              1,
              "#f0f921"
             ]
            ],
            "type": "contour"
           }
          ],
          "contourcarpet": [
           {
            "colorbar": {
             "outlinewidth": 0,
             "ticks": ""
            },
            "type": "contourcarpet"
           }
          ],
          "heatmap": [
           {
            "colorbar": {
             "outlinewidth": 0,
             "ticks": ""
            },
            "colorscale": [
             [
              0,
              "#0d0887"
             ],
             [
              0.1111111111111111,
              "#46039f"
             ],
             [
              0.2222222222222222,
              "#7201a8"
             ],
             [
              0.3333333333333333,
              "#9c179e"
             ],
             [
              0.4444444444444444,
              "#bd3786"
             ],
             [
              0.5555555555555556,
              "#d8576b"
             ],
             [
              0.6666666666666666,
              "#ed7953"
             ],
             [
              0.7777777777777778,
              "#fb9f3a"
             ],
             [
              0.8888888888888888,
              "#fdca26"
             ],
             [
              1,
              "#f0f921"
             ]
            ],
            "type": "heatmap"
           }
          ],
          "heatmapgl": [
           {
            "colorbar": {
             "outlinewidth": 0,
             "ticks": ""
            },
            "colorscale": [
             [
              0,
              "#0d0887"
             ],
             [
              0.1111111111111111,
              "#46039f"
             ],
             [
              0.2222222222222222,
              "#7201a8"
             ],
             [
              0.3333333333333333,
              "#9c179e"
             ],
             [
              0.4444444444444444,
              "#bd3786"
             ],
             [
              0.5555555555555556,
              "#d8576b"
             ],
             [
              0.6666666666666666,
              "#ed7953"
             ],
             [
              0.7777777777777778,
              "#fb9f3a"
             ],
             [
              0.8888888888888888,
              "#fdca26"
             ],
             [
              1,
              "#f0f921"
             ]
            ],
            "type": "heatmapgl"
           }
          ],
          "histogram": [
           {
            "marker": {
             "pattern": {
              "fillmode": "overlay",
              "size": 10,
              "solidity": 0.2
             }
            },
            "type": "histogram"
           }
          ],
          "histogram2d": [
           {
            "colorbar": {
             "outlinewidth": 0,
             "ticks": ""
            },
            "colorscale": [
             [
              0,
              "#0d0887"
             ],
             [
              0.1111111111111111,
              "#46039f"
             ],
             [
              0.2222222222222222,
              "#7201a8"
             ],
             [
              0.3333333333333333,
              "#9c179e"
             ],
             [
              0.4444444444444444,
              "#bd3786"
             ],
             [
              0.5555555555555556,
              "#d8576b"
             ],
             [
              0.6666666666666666,
              "#ed7953"
             ],
             [
              0.7777777777777778,
              "#fb9f3a"
             ],
             [
              0.8888888888888888,
              "#fdca26"
             ],
             [
              1,
              "#f0f921"
             ]
            ],
            "type": "histogram2d"
           }
          ],
          "histogram2dcontour": [
           {
            "colorbar": {
             "outlinewidth": 0,
             "ticks": ""
            },
            "colorscale": [
             [
              0,
              "#0d0887"
             ],
             [
              0.1111111111111111,
              "#46039f"
             ],
             [
              0.2222222222222222,
              "#7201a8"
             ],
             [
              0.3333333333333333,
              "#9c179e"
             ],
             [
              0.4444444444444444,
              "#bd3786"
             ],
             [
              0.5555555555555556,
              "#d8576b"
             ],
             [
              0.6666666666666666,
              "#ed7953"
             ],
             [
              0.7777777777777778,
              "#fb9f3a"
             ],
             [
              0.8888888888888888,
              "#fdca26"
             ],
             [
              1,
              "#f0f921"
             ]
            ],
            "type": "histogram2dcontour"
           }
          ],
          "mesh3d": [
           {
            "colorbar": {
             "outlinewidth": 0,
             "ticks": ""
            },
            "type": "mesh3d"
           }
          ],
          "parcoords": [
           {
            "line": {
             "colorbar": {
              "outlinewidth": 0,
              "ticks": ""
             }
            },
            "type": "parcoords"
           }
          ],
          "pie": [
           {
            "automargin": true,
            "type": "pie"
           }
          ],
          "scatter": [
           {
            "marker": {
             "line": {
              "color": "#283442"
             }
            },
            "type": "scatter"
           }
          ],
          "scatter3d": [
           {
            "line": {
             "colorbar": {
              "outlinewidth": 0,
              "ticks": ""
             }
            },
            "marker": {
             "colorbar": {
              "outlinewidth": 0,
              "ticks": ""
             }
            },
            "type": "scatter3d"
           }
          ],
          "scattercarpet": [
           {
            "marker": {
             "colorbar": {
              "outlinewidth": 0,
              "ticks": ""
             }
            },
            "type": "scattercarpet"
           }
          ],
          "scattergeo": [
           {
            "marker": {
             "colorbar": {
              "outlinewidth": 0,
              "ticks": ""
             }
            },
            "type": "scattergeo"
           }
          ],
          "scattergl": [
           {
            "marker": {
             "line": {
              "color": "#283442"
             }
            },
            "type": "scattergl"
           }
          ],
          "scattermapbox": [
           {
            "marker": {
             "colorbar": {
              "outlinewidth": 0,
              "ticks": ""
             }
            },
            "type": "scattermapbox"
           }
          ],
          "scatterpolar": [
           {
            "marker": {
             "colorbar": {
              "outlinewidth": 0,
              "ticks": ""
             }
            },
            "type": "scatterpolar"
           }
          ],
          "scatterpolargl": [
           {
            "marker": {
             "colorbar": {
              "outlinewidth": 0,
              "ticks": ""
             }
            },
            "type": "scatterpolargl"
           }
          ],
          "scatterternary": [
           {
            "marker": {
             "colorbar": {
              "outlinewidth": 0,
              "ticks": ""
             }
            },
            "type": "scatterternary"
           }
          ],
          "surface": [
           {
            "colorbar": {
             "outlinewidth": 0,
             "ticks": ""
            },
            "colorscale": [
             [
              0,
              "#0d0887"
             ],
             [
              0.1111111111111111,
              "#46039f"
             ],
             [
              0.2222222222222222,
              "#7201a8"
             ],
             [
              0.3333333333333333,
              "#9c179e"
             ],
             [
              0.4444444444444444,
              "#bd3786"
             ],
             [
              0.5555555555555556,
              "#d8576b"
             ],
             [
              0.6666666666666666,
              "#ed7953"
             ],
             [
              0.7777777777777778,
              "#fb9f3a"
             ],
             [
              0.8888888888888888,
              "#fdca26"
             ],
             [
              1,
              "#f0f921"
             ]
            ],
            "type": "surface"
           }
          ],
          "table": [
           {
            "cells": {
             "fill": {
              "color": "#506784"
             },
             "line": {
              "color": "rgb(17,17,17)"
             }
            },
            "header": {
             "fill": {
              "color": "#2a3f5f"
             },
             "line": {
              "color": "rgb(17,17,17)"
             }
            },
            "type": "table"
           }
          ]
         },
         "layout": {
          "annotationdefaults": {
           "arrowcolor": "#f2f5fa",
           "arrowhead": 0,
           "arrowwidth": 1
          },
          "autotypenumbers": "strict",
          "coloraxis": {
           "colorbar": {
            "outlinewidth": 0,
            "ticks": ""
           }
          },
          "colorscale": {
           "diverging": [
            [
             0,
             "#8e0152"
            ],
            [
             0.1,
             "#c51b7d"
            ],
            [
             0.2,
             "#de77ae"
            ],
            [
             0.3,
             "#f1b6da"
            ],
            [
             0.4,
             "#fde0ef"
            ],
            [
             0.5,
             "#f7f7f7"
            ],
            [
             0.6,
             "#e6f5d0"
            ],
            [
             0.7,
             "#b8e186"
            ],
            [
             0.8,
             "#7fbc41"
            ],
            [
             0.9,
             "#4d9221"
            ],
            [
             1,
             "#276419"
            ]
           ],
           "sequential": [
            [
             0,
             "#0d0887"
            ],
            [
             0.1111111111111111,
             "#46039f"
            ],
            [
             0.2222222222222222,
             "#7201a8"
            ],
            [
             0.3333333333333333,
             "#9c179e"
            ],
            [
             0.4444444444444444,
             "#bd3786"
            ],
            [
             0.5555555555555556,
             "#d8576b"
            ],
            [
             0.6666666666666666,
             "#ed7953"
            ],
            [
             0.7777777777777778,
             "#fb9f3a"
            ],
            [
             0.8888888888888888,
             "#fdca26"
            ],
            [
             1,
             "#f0f921"
            ]
           ],
           "sequentialminus": [
            [
             0,
             "#0d0887"
            ],
            [
             0.1111111111111111,
             "#46039f"
            ],
            [
             0.2222222222222222,
             "#7201a8"
            ],
            [
             0.3333333333333333,
             "#9c179e"
            ],
            [
             0.4444444444444444,
             "#bd3786"
            ],
            [
             0.5555555555555556,
             "#d8576b"
            ],
            [
             0.6666666666666666,
             "#ed7953"
            ],
            [
             0.7777777777777778,
             "#fb9f3a"
            ],
            [
             0.8888888888888888,
             "#fdca26"
            ],
            [
             1,
             "#f0f921"
            ]
           ]
          },
          "colorway": [
           "#636efa",
           "#EF553B",
           "#00cc96",
           "#ab63fa",
           "#FFA15A",
           "#19d3f3",
           "#FF6692",
           "#B6E880",
           "#FF97FF",
           "#FECB52"
          ],
          "font": {
           "color": "#f2f5fa"
          },
          "geo": {
           "bgcolor": "rgb(17,17,17)",
           "lakecolor": "rgb(17,17,17)",
           "landcolor": "rgb(17,17,17)",
           "showlakes": true,
           "showland": true,
           "subunitcolor": "#506784"
          },
          "hoverlabel": {
           "align": "left"
          },
          "hovermode": "closest",
          "mapbox": {
           "style": "dark"
          },
          "paper_bgcolor": "rgb(17,17,17)",
          "plot_bgcolor": "rgb(17,17,17)",
          "polar": {
           "angularaxis": {
            "gridcolor": "#506784",
            "linecolor": "#506784",
            "ticks": ""
           },
           "bgcolor": "rgb(17,17,17)",
           "radialaxis": {
            "gridcolor": "#506784",
            "linecolor": "#506784",
            "ticks": ""
           }
          },
          "scene": {
           "xaxis": {
            "backgroundcolor": "rgb(17,17,17)",
            "gridcolor": "#506784",
            "gridwidth": 2,
            "linecolor": "#506784",
            "showbackground": true,
            "ticks": "",
            "zerolinecolor": "#C8D4E3"
           },
           "yaxis": {
            "backgroundcolor": "rgb(17,17,17)",
            "gridcolor": "#506784",
            "gridwidth": 2,
            "linecolor": "#506784",
            "showbackground": true,
            "ticks": "",
            "zerolinecolor": "#C8D4E3"
           },
           "zaxis": {
            "backgroundcolor": "rgb(17,17,17)",
            "gridcolor": "#506784",
            "gridwidth": 2,
            "linecolor": "#506784",
            "showbackground": true,
            "ticks": "",
            "zerolinecolor": "#C8D4E3"
           }
          },
          "shapedefaults": {
           "line": {
            "color": "#f2f5fa"
           }
          },
          "sliderdefaults": {
           "bgcolor": "#C8D4E3",
           "bordercolor": "rgb(17,17,17)",
           "borderwidth": 1,
           "tickwidth": 0
          },
          "ternary": {
           "aaxis": {
            "gridcolor": "#506784",
            "linecolor": "#506784",
            "ticks": ""
           },
           "baxis": {
            "gridcolor": "#506784",
            "linecolor": "#506784",
            "ticks": ""
           },
           "bgcolor": "rgb(17,17,17)",
           "caxis": {
            "gridcolor": "#506784",
            "linecolor": "#506784",
            "ticks": ""
           }
          },
          "title": {
           "x": 0.05
          },
          "updatemenudefaults": {
           "bgcolor": "#506784",
           "borderwidth": 0
          },
          "xaxis": {
           "automargin": true,
           "gridcolor": "#283442",
           "linecolor": "#506784",
           "ticks": "",
           "title": {
            "standoff": 15
           },
           "zerolinecolor": "#283442",
           "zerolinewidth": 2
          },
          "yaxis": {
           "automargin": true,
           "gridcolor": "#283442",
           "linecolor": "#506784",
           "ticks": "",
           "title": {
            "standoff": 15
           },
           "zerolinecolor": "#283442",
           "zerolinewidth": 2
          }
         }
        },
        "xaxis": {
         "anchor": "y",
         "domain": [
          0,
          1
         ],
         "title": {
          "text": "value"
         }
        },
        "yaxis": {
         "anchor": "x",
         "domain": [
          0,
          1
         ],
         "title": {
          "text": "count"
         }
        }
       }
      }
     },
     "metadata": {},
     "output_type": "display_data"
    }
   ],
   "source": [
    "px.histogram(df[\"MATH101 [Application]\"])"
   ]
  },
  {
   "cell_type": "code",
   "execution_count": null,
   "metadata": {},
   "outputs": [],
   "source": []
  }
 ],
 "metadata": {
  "interpreter": {
   "hash": "c2deab0c0d56e72ca5db1d97fb88fe0c0ab6b5e910fcaec703ad36be267b2091"
  },
  "kernelspec": {
   "display_name": "Python 3.8.8 64-bit ('base': conda)",
   "name": "python3"
  },
  "language_info": {
   "codemirror_mode": {
    "name": "ipython",
    "version": 3
   },
   "file_extension": ".py",
   "mimetype": "text/x-python",
   "name": "python",
   "nbconvert_exporter": "python",
   "pygments_lexer": "ipython3",
   "version": "3.8.8"
  }
 },
 "nbformat": 4,
 "nbformat_minor": 4
}
